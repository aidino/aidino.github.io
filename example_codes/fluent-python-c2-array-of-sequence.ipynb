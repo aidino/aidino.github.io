{
 "cells": [
  {
   "cell_type": "markdown",
   "metadata": {},
   "source": [
    "# Chapter 2. An array of sequences"
   ]
  },
  {
   "cell_type": "markdown",
   "metadata": {},
   "source": [
    "Các phương thức `insert`, `print`, `remove`, `append`, `sort`, `pop`, `reverse` đều là những phương thức tích hợp sẵn trong Python để thao tác với kiểu dữ liệu list. Dưới đây là cách sử dụng từng phương thức kèm theo ví dụ minh họa:\n",
    "\n",
    "**1. `insert(index, element)`:** Chèn một phần tử `element` vào vị trí `index` trong list.\n",
    "\n",
    "```python\n",
    "my_list = [1, 2, 3, 4]\n",
    "my_list.insert(2, 5)  # Chèn số 5 vào vị trí index 2\n",
    "print(my_list)  # Output: [1, 2, 5, 3, 4]\n",
    "```\n",
    "\n",
    "**2. `print()`:** In ra list.\n",
    "\n",
    "```python\n",
    "my_list = [1, 2, 3, 4]\n",
    "print(my_list)  # Output: [1, 2, 3, 4]\n",
    "```\n",
    "\n",
    "**3. `remove(element)`:** Xóa phần tử `element` đầu tiên tìm thấy trong list.\n",
    "\n",
    "```python\n",
    "my_list = [1, 2, 3, 4, 3]\n",
    "my_list.remove(3)  # Xóa số 3 đầu tiên\n",
    "print(my_list)  # Output: [1, 2, 4, 3]\n",
    "```\n",
    "\n",
    "**4. `append(element)`:** Thêm phần tử `element` vào cuối list.\n",
    "\n",
    "```python\n",
    "my_list = [1, 2, 3, 4]\n",
    "my_list.append(5)  # Thêm số 5 vào cuối list\n",
    "print(my_list)  # Output: [1, 2, 3, 4, 5]\n",
    "```\n",
    "\n",
    "**5. `sort()`:** Sắp xếp các phần tử trong list theo thứ tự tăng dần (hoặc giảm dần nếu có `reverse=True`).\n",
    "\n",
    "```python\n",
    "my_list = [4, 2, 1, 3]\n",
    "my_list.sort()  # Sắp xếp tăng dần\n",
    "print(my_list)  # Output: [1, 2, 3, 4]\n",
    "\n",
    "my_list.sort(reverse=True)  # Sắp xếp giảm dần\n",
    "print(my_list)  # Output: [4, 3, 2, 1]\n",
    "```\n",
    "\n",
    "**6. `pop(index)`:** Xóa và trả về phần tử tại vị trí `index` trong list. Nếu không chỉ định `index`, mặc định sẽ xóa và trả về phần tử cuối cùng.\n",
    "\n",
    "```python\n",
    "my_list = [1, 2, 3, 4]\n",
    "popped_element = my_list.pop(2)  # Xóa và trả về phần tử tại index 2 (số 3)\n",
    "print(popped_element)  # Output: 3\n",
    "print(my_list)  # Output: [1, 2, 4]\n",
    "```\n",
    "\n",
    "**7. `reverse()`:** Đảo ngược thứ tự các phần tử trong list.\n",
    "\n",
    "```python\n",
    "my_list = [1, 2, 3, 4]\n",
    "my_list.reverse()  # Đảo ngược list\n",
    "print(my_list)  # Output: [4, 3, 2, 1]\n",
    "```\n",
    "\n",
    "**Lưu ý:**\n",
    "\n",
    "* Các phương thức `sort()` và `reverse()` sẽ thay đổi trực tiếp list ban đầu.\n",
    "* Phương thức `pop()` sẽ trả về phần tử bị xóa.\n",
    "* Phương thức `remove()` sẽ chỉ xóa phần tử đầu tiên tìm thấy. Nếu muốn xóa tất cả các phần tử giống nhau, bạn cần sử dụng vòng lặp.\n",
    "\n"
   ]
  },
  {
   "cell_type": "markdown",
   "metadata": {},
   "source": []
  }
 ],
 "metadata": {
  "language_info": {
   "name": "python"
  }
 },
 "nbformat": 4,
 "nbformat_minor": 2
}
