{
 "cells": [
  {
   "cell_type": "markdown",
   "metadata": {},
   "source": [
    "# DeleteMessages\n",
    "\n",
    "Trong LangChain, bạn không chỉ có thể thêm tin nhắn mà còn có thể xóa chúng khi cần thiết. Công cụ `RemoveMessage` được sử dụng cho mục đích này.\n",
    "\n",
    "Công cụ này gửi yêu cầu xóa cho một tin nhắn cụ thể. Việc xóa sau đó được xử lý theo các quy tắc `reducer` được định nghĩa trong `MessagesState`.\n",
    "\n",
    "Về bản chất, `RemoveMessage` khởi tạo việc xóa, `reducer` xác định cách xử lý các yêu cầu đó và `MessagesState` đóng vai trò là hệ thống lưu trữ và quản lý tin nhắn.\n"
   ]
  },
  {
   "cell_type": "markdown",
   "metadata": {},
   "source": [
    "## Building a Basic LangGraph\n",
    "\n",
    "LangGraph cung cấp một cách mạnh mẽ để thiết kế quy trình làm việc tích hợp quản lý trạng thái tin nhắn và gọi công cụ. Phần này minh họa quy trình cơ bản để xây dựng một LangGraph.\n",
    "\n",
    "**Các thành phần chính**\n",
    "1. `MemorySaver`: Một đối tượng bộ nhớ để lưu các điểm kiểm tra (checkpoint), cho phép bạn lưu và khôi phục trạng thái hội thoại.\n",
    "2. `ToolNode`: Một nút để thực thi các công cụ tùy chỉnh. Trong hướng dẫn này, nó bao gồm một công cụ `search` mô phỏng tìm kiếm trên web.\n",
    "3. `MessagesState`: Lưu trữ và cập nhật trạng thái tin nhắn, đóng vai trò là trung tâm cho các quy trình làm việc dựa trên trạng thái.\n",
    "4. `StateGraph`: Một đối tượng đồ thị định nghĩa quy trình làm việc dựa trên trạng thái, kiểm soát luồng thực thi giữa các nút và cạnh.\n",
    "5. `should_continue`: Một hàm điều kiện xác định nút tiếp theo cần thực thi dựa trên trạng thái hiện tại của agent.\n",
    "\n",
    "**Chi tiết quy trình làm việc chính**\n",
    "\n",
    "**Định nghĩa và đăng ký công cụ:**\n",
    "- Hàm `search` mô phỏng tìm kiếm trên web và trả về kết quả cho một truy vấn nhất định.\n",
    "- Công cụ này sau đó được gói trong một `ToolNode` và tích hợp vào LangGraph.\n",
    "\n",
    "**Khởi tạo và liên kết mô hình:**\n",
    "- Khởi tạo một mô hình LLM, chẳng hạn như `ChatOpenAI`, và liên kết nó với các công cụ để đảm bảo chúng có thể được thực thi trong thời gian chạy.\n",
    "\n",
    "**Định nghĩa quy trình làm việc:**\n",
    "- `StateGraph` được sử dụng để định nghĩa quy trình làm việc bằng cách thêm các nút và kết nối chúng bằng các cạnh.\n",
    "- Quy trình làm việc bắt đầu tại nút `START`. `agent` được thực thi đầu tiên, gọi các công cụ khi cần thiết, và sau đó quyền điều khiển quay trở lại agent.\n",
    "\n",
    "**Kiểm soát luồng điều kiện:**\n",
    "- Hàm `should_continue` kiểm tra trạng thái của tin nhắn cuối cùng để xác định xem một công cụ có nên được thực thi hay quy trình làm việc nên kết thúc.\n"
   ]
  },
  {
   "cell_type": "code",
   "execution_count": 2,
   "metadata": {},
   "outputs": [],
   "source": [
    "from typing import Literal\n",
    "\n",
    "from langchain_core.tools import tool\n",
    "from langchain_openai import ChatOpenAI\n",
    "from langchain_ollama import ChatOllama\n",
    "from langgraph.checkpoint.memory import MemorySaver\n",
    "from langgraph.graph import MessagesState, StateGraph, START, END\n",
    "from langgraph.prebuilt import ToolNode, tools_condition\n",
    "\n",
    "# Initialize a memory object for checkpoint saving\n",
    "memory = MemorySaver()\n",
    "\n",
    "\n",
    "# Define a tool function mimicking a web search feature\n",
    "@tool\n",
    "def search(query: str):\n",
    "    \"\"\"Call to surf on the web.\"\"\"\n",
    "    return \"Web search result: You can find the LangGraph tutorial at https://langchain-ai.github.io/langgraph/.\"\n",
    "\n",
    "\n",
    "# Create a list of tools and initialize a tool node\n",
    "tools = [search]\n",
    "tool_node = ToolNode(tools)\n",
    "\n",
    "# Initialize a model and bind tools. \n",
    "model = ChatOllama(model='qwen2.5:7b', temperature=0)\n",
    "# model = ChatAnthropic(model=\"claude-3-5-sonnet-20240620\") # if you use Claude\n",
    "bound_model = model.bind_tools(tools)\n",
    "\n",
    "\n",
    "# Determine the next execution node based on the conversation state\n",
    "def should_continue(state: MessagesState):\n",
    "    last_message = state[\"messages\"][-1]\n",
    "    if not last_message.tool_calls:\n",
    "        return END\n",
    "    return \"tool\"\n",
    "\n",
    "\n",
    "# Function to call the LLM model and handle its response\n",
    "def call_model(state: MessagesState):\n",
    "    response = model.invoke(state[\"messages\"])\n",
    "    return {\"messages\": response}\n",
    "\n",
    "\n",
    "# Initialize a workflow graph based on the state\n",
    "workflow = StateGraph(MessagesState)\n",
    "\n",
    "# Add agent and action nodes\n",
    "workflow.add_node(\"agent\", call_model)\n",
    "workflow.add_node(\"tool\", tool_node)\n",
    "\n",
    "# Set the starting point as the agent node\n",
    "workflow.add_edge(START, \"agent\")\n",
    "\n",
    "# Set conditional edges: define the execution flow after the agent node\n",
    "workflow.add_conditional_edges(\"agent\", should_continue, {\"tool\": \"tool\", END: END})\n",
    "\n",
    "# Add an edge to return from the tool to the agent\n",
    "workflow.add_edge(\"tool\", \"agent\")\n",
    "\n",
    "# Compile the final executable workflow including the checkpointer\n",
    "app = workflow.compile(checkpointer=memory)"
   ]
  },
  {
   "cell_type": "code",
   "execution_count": 3,
   "metadata": {},
   "outputs": [
    {
     "data": {
      "image/png": "[encoded data removed]",
      "text/plain": [
       "<langgraph.graph.state.CompiledStateGraph object at 0x7341dd791f30>"
      ]
     },
     "execution_count": 3,
     "metadata": {},
     "output_type": "execute_result"
    }
   ],
   "source": [
    "app"
   ]
  },
  {
   "cell_type": "code",
   "execution_count": 5,
   "metadata": {},
   "outputs": [
    {
     "name": "stdout",
     "output_type": "stream",
     "text": [
      "================================\u001b[1m Human Message \u001b[0m=================================\n",
      "\n",
      "I like chocolate more than candy.\n",
      "==================================\u001b[1m Ai Message \u001b[0m==================================\n",
      "\n",
      "That's great! Chocolate and candy can both be delicious treats in their own ways. While they share some similarities, chocolate often has a richer, more complex flavor profile that many people enjoy. If you find yourself leaning towards chocolate over candy, it might be because of its depth of taste or the way it melts in your mouth.\n",
      "\n",
      "Do you have any favorite types of chocolate or specific brands that you particularly enjoy?\n"
     ]
    }
   ],
   "source": [
    "from langchain_core.messages import HumanMessage\n",
    "from langchain_core.runnables import RunnableConfig\n",
    "\n",
    "config = RunnableConfig(configurable={'thread_id': '1'})\n",
    "input_message = HumanMessage(content=\"I like chocolate more than candy.\")\n",
    "\n",
    "for event in app.stream(input={\"messages\": [input_message]}, config=config, stream_mode='values'):\n",
    "    event['messages'][-1].pretty_print()"
   ]
  },
  {
   "cell_type": "code",
   "execution_count": 7,
   "metadata": {},
   "outputs": [
    {
     "data": {
      "text/plain": [
       "()"
      ]
     },
     "execution_count": 7,
     "metadata": {},
     "output_type": "execute_result"
    }
   ],
   "source": [
    "snapshot = app.get_state(config=config)\n",
    "snapshot.next"
   ]
  },
  {
   "cell_type": "markdown",
   "metadata": {},
   "source": [
    "Đoạn mã sau, `for event in app.stream({\"messages\": [input_message]}, config, stream_mode=\"values\")`, hoạt động như sau:\n",
    "\n",
    "1.  **Gọi `app.stream()`:**\n",
    "    * Điều này khởi tạo luồng công việc và truyền trực tiếp từng sự kiện.\n",
    "    * Tham số:\n",
    "        * `{\"messages\": [input_message]}`: Đặt tin nhắn ban đầu cho luồng công việc.\n",
    "        * `config`: Chứa các giá trị cấu hình, bao gồm `thread_id` được đặt thành `\"1\"`.\n",
    "        * `stream_mode=\"values\"`: Chỉ định chế độ truyền trực tuyến dựa trên giá trị.\n",
    "\n",
    "2.  **Hành vi vòng lặp:**\n",
    "    * Vòng lặp lặp qua từng sự kiện được tạo bởi luồng công việc.\n",
    "    * Chi tiết sự kiện:\n",
    "        * `event[\"messages\"][-1]`: Truy xuất tin nhắn gần đây nhất.\n",
    "        * `pretty_print()`: In tin nhắn được truy xuất.\n",
    "\n",
    "Các chế độ truyền trực tuyến chính của `app.stream()`:\n",
    "\n",
    "1.  **Chế độ `values`**\n",
    "    * Chế độ này nhận toàn bộ trạng thái của đồ thị sau mỗi lần thực thi nút.\n",
    "    * Phù hợp để giám sát trạng thái cơ bản.\n",
    "    * **Ví dụ:** Nhận phản hồi hoàn chỉnh từ LLM sau khi hoàn thành phản hồi.\n",
    "\n",
    "2.  **Chế độ `updates`**\n",
    "    * Chế độ này chỉ nhận các thay đổi được thực hiện đối với trạng thái sau mỗi lần thực thi nút.\n",
    "    * Hữu ích cho việc quản lý trạng thái hiệu quả.\n",
    "    * **Ví dụ:** Chỉ nhận nội dung mới được thêm so với trạng thái trước đó.\n",
    "\n",
    "3.  **Chế độ `messages`**\n",
    "    * Chế độ này cung cấp thông tin chi tiết, thời gian thực nhất.\n",
    "    * Lý tưởng cho các ứng dụng thời gian thực, chẳng hạn như chatbot.\n",
    "    * **Ví dụ:** Quan sát \"quá trình suy nghĩ\" từng bước của LLM trong thời gian thực. Ví dụ: \"Thinking...\" → \"Chocolate is...\" → \"a delicious snack.\"\n"
   ]
  },
  {
   "cell_type": "code",
   "execution_count": 8,
   "metadata": {},
   "outputs": [
    {
     "name": "stdout",
     "output_type": "stream",
     "text": [
      "================================\u001b[1m Human Message \u001b[0m=================================\n",
      "\n",
      "What is my favorite snack?\n",
      "==================================\u001b[1m Ai Message \u001b[0m==================================\n",
      "\n",
      "To determine your favorite snack, I would need a bit more information about what snacks you typically enjoy. However, based on the statement \"I like chocolate more than candy,\" it seems likely that your favorite snack might be something involving chocolate.\n",
      "\n",
      "Here are some possibilities:\n",
      "\n",
      "1. **Chocolate Bar**: A classic choice with various flavors and brands.\n",
      "2. **Dark Chocolate**: Known for its rich, complex flavor.\n",
      "3. **Milk Chocolate**: Often preferred for its smoother taste.\n",
      "4. **White Chocolate**: While not technically a cocoa-based product, it can be quite delightful.\n",
      "5. **Chocolate Chips or Bites**: Useful in baking or as a quick snack.\n",
      "6. **Hot Chocolate**: A comforting drink that can also be enjoyed as a snack.\n",
      "\n",
      "If you have any specific preferences or past experiences with snacks, feel free to share! This will help narrow down the possibilities further.\n"
     ]
    }
   ],
   "source": [
    "# Follow-up question execution\n",
    "input_message = HumanMessage(content=\"What is my favorite snack?\")\n",
    "\n",
    "# Process the second message in stream mode and print the response\n",
    "for event in app.stream({\"messages\": [input_message]}, config, stream_mode=\"values\"):\n",
    "    event[\"messages\"][-1].pretty_print()"
   ]
  },
  {
   "cell_type": "code",
   "execution_count": 9,
   "metadata": {},
   "outputs": [
    {
     "name": "stdout",
     "output_type": "stream",
     "text": [
      "================================\u001b[1m Human Message \u001b[0m=================================\n",
      "\n",
      "I like chocolate more than candy.\n",
      "==================================\u001b[1m Ai Message \u001b[0m==================================\n",
      "\n",
      "That's great! Chocolate and candy can both be delicious treats in their own ways. While they share some similarities, chocolate often has a richer, more complex flavor profile that many people enjoy. If you find yourself leaning towards chocolate over candy, it might be because of its depth of taste or the way it melts in your mouth.\n",
      "\n",
      "Do you have any favorite types of chocolate or specific brands that you particularly enjoy?\n",
      "================================\u001b[1m Human Message \u001b[0m=================================\n",
      "\n",
      "What is my favorite snack?\n",
      "==================================\u001b[1m Ai Message \u001b[0m==================================\n",
      "\n",
      "To determine your favorite snack, I would need a bit more information about what snacks you typically enjoy. However, based on the statement \"I like chocolate more than candy,\" it seems likely that your favorite snack might be something involving chocolate.\n",
      "\n",
      "Here are some possibilities:\n",
      "\n",
      "1. **Chocolate Bar**: A classic choice with various flavors and brands.\n",
      "2. **Dark Chocolate**: Known for its rich, complex flavor.\n",
      "3. **Milk Chocolate**: Often preferred for its smoother taste.\n",
      "4. **White Chocolate**: While not technically a cocoa-based product, it can be quite delightful.\n",
      "5. **Chocolate Chips or Bites**: Useful in baking or as a quick snack.\n",
      "6. **Hot Chocolate**: A comforting drink that can also be enjoyed as a snack.\n",
      "\n",
      "If you have any specific preferences or past experiences with snacks, feel free to share! This will help narrow down the possibilities further.\n"
     ]
    }
   ],
   "source": [
    "# Step-by-Step Status Check\n",
    "messages = app.get_state(config).values[\"messages\"]\n",
    "for message in messages:\n",
    "    message.pretty_print()"
   ]
  },
  {
   "cell_type": "markdown",
   "metadata": {},
   "source": [
    "### Deleting Messages\n",
    "\n",
    "Có hai phương pháp chính để xóa tin nhắn trong một quy trình làm việc LangGraph: **Xóa thủ công (Manual Deletion)** và **Xóa động (Dynamic Deletion)**. Hãy cùng xem xét kỹ hơn từng phương pháp.\n"
   ]
  },
  {
   "cell_type": "markdown",
   "metadata": {},
   "source": [
    "## Manual Deletion of Messages\n",
    "\n",
    "Phần này trình bày cách thủ công truy xuất nhật ký tin nhắn từ quy trình làm việc LangGraph, xóa các tin nhắn cụ thể và sau đó cập nhật trạng thái của đồ thị. Quy trình này cho phép quản lý tin nhắn hiệu quả và thao tác bản ghi cuộc trò chuyện.\n",
    "\n",
    "**Các bước chính để Xóa thủ công (Manual Deletion)**\n",
    "1.  **Truy xuất tin nhắn (Message Retrieval):**\n",
    "    -   Sử dụng phương thức `app.get_state(config)` để trích xuất danh sách tin nhắn từ trạng thái hiện tại.\n",
    "    -   Sử dụng phương thức `pretty_print()` để hiển thị từng tin nhắn ở định dạng thân thiện với người dùng.\n",
    "\n",
    "2.  **Xóa tin nhắn (Message Deletion):**\n",
    "    -   Sử dụng đối tượng `RemoveMessage`, chỉ định ID của tin nhắn cần xóa.\n",
    "    -   Ví dụ mã minh họa việc xóa tin nhắn đầu tiên trong mảng.\n",
    "\n",
    "3.  **Cập nhật trạng thái (State Update):**\n",
    "    -   Sử dụng phương thức `app.update_state(config, ...)` để áp dụng việc xóa và cập nhật trạng thái của đồ thị.\n",
    "    -   Sau khi cập nhật, truy xuất và hiển thị lại danh sách tin nhắn để xác minh việc xóa.\n",
    "\n",
    "**Luồng mã (Code Flow)**\n",
    "1.  **Tin nhắn được lưu trữ đầu ra (Output Stored Messages):**\n",
    "    -   Truy xuất các tin nhắn từ trạng thái hiện tại bằng cách sử dụng `messages = app.get_state(config).values[\"messages\"]`.\n",
    "    -   Lặp qua danh sách `messages` và in từng tin nhắn để xem lại lịch sử cuộc trò chuyện hiện tại.\n",
    "\n",
    "2.  **Xóa một tin nhắn cụ thể (Delete a Specific Message):**\n",
    "    -   Sử dụng `RemoveMessage(id=messages[0].id)` để tạo yêu cầu xóa cho tin nhắn đầu tiên.\n",
    "    -   Cập nhật trạng thái của đồ thị bằng cách sử dụng `app.update_state(config, ...)` để phản ánh việc xóa.\n",
    "\n",
    "3.  **Tin nhắn được cập nhật đầu ra (Output Updated Messages):**\n",
    "    -   Sau khi cập nhật trạng thái, truy xuất danh sách tin nhắn được cập nhật và in nó để xác nhận việc xóa.\n"
   ]
  },
  {
   "cell_type": "code",
   "execution_count": 10,
   "metadata": {},
   "outputs": [
    {
     "name": "stdout",
     "output_type": "stream",
     "text": [
      "================================\u001b[1m Human Message \u001b[0m=================================\n",
      "\n",
      "I like chocolate more than candy.\n",
      "==================================\u001b[1m Ai Message \u001b[0m==================================\n",
      "\n",
      "That's great! Chocolate and candy can both be delicious treats in their own ways. While they share some similarities, chocolate often has a richer, more complex flavor profile that many people enjoy. If you find yourself leaning towards chocolate over candy, it might be because of its depth of taste or the way it melts in your mouth.\n",
      "\n",
      "Do you have any favorite types of chocolate or specific brands that you particularly enjoy?\n",
      "================================\u001b[1m Human Message \u001b[0m=================================\n",
      "\n",
      "What is my favorite snack?\n",
      "==================================\u001b[1m Ai Message \u001b[0m==================================\n",
      "\n",
      "To determine your favorite snack, I would need a bit more information about what snacks you typically enjoy. However, based on the statement \"I like chocolate more than candy,\" it seems likely that your favorite snack might be something involving chocolate.\n",
      "\n",
      "Here are some possibilities:\n",
      "\n",
      "1. **Chocolate Bar**: A classic choice with various flavors and brands.\n",
      "2. **Dark Chocolate**: Known for its rich, complex flavor.\n",
      "3. **Milk Chocolate**: Often preferred for its smoother taste.\n",
      "4. **White Chocolate**: While not technically a cocoa-based product, it can be quite delightful.\n",
      "5. **Chocolate Chips or Bites**: Useful in baking or as a quick snack.\n",
      "6. **Hot Chocolate**: A comforting drink that can also be enjoyed as a snack.\n",
      "\n",
      "If you have any specific preferences or past experiences with snacks, feel free to share! This will help narrow down the possibilities further.\n"
     ]
    }
   ],
   "source": [
    "# Extracting Message List in App State and Viewing Saved Conversation History\n",
    "messages = app.get_state(config).values[\"messages\"]\n",
    "\n",
    "for message in messages:\n",
    "    message.pretty_print()"
   ]
  },
  {
   "cell_type": "code",
   "execution_count": 11,
   "metadata": {},
   "outputs": [
    {
     "name": "stdout",
     "output_type": "stream",
     "text": [
      "==================================\u001b[1m Ai Message \u001b[0m==================================\n",
      "\n",
      "That's great! Chocolate and candy can both be delicious treats in their own ways. While they share some similarities, chocolate often has a richer, more complex flavor profile that many people enjoy. If you find yourself leaning towards chocolate over candy, it might be because of its depth of taste or the way it melts in your mouth.\n",
      "\n",
      "Do you have any favorite types of chocolate or specific brands that you particularly enjoy?\n",
      "================================\u001b[1m Human Message \u001b[0m=================================\n",
      "\n",
      "What is my favorite snack?\n",
      "==================================\u001b[1m Ai Message \u001b[0m==================================\n",
      "\n",
      "To determine your favorite snack, I would need a bit more information about what snacks you typically enjoy. However, based on the statement \"I like chocolate more than candy,\" it seems likely that your favorite snack might be something involving chocolate.\n",
      "\n",
      "Here are some possibilities:\n",
      "\n",
      "1. **Chocolate Bar**: A classic choice with various flavors and brands.\n",
      "2. **Dark Chocolate**: Known for its rich, complex flavor.\n",
      "3. **Milk Chocolate**: Often preferred for its smoother taste.\n",
      "4. **White Chocolate**: While not technically a cocoa-based product, it can be quite delightful.\n",
      "5. **Chocolate Chips or Bites**: Useful in baking or as a quick snack.\n",
      "6. **Hot Chocolate**: A comforting drink that can also be enjoyed as a snack.\n",
      "\n",
      "If you have any specific preferences or past experiences with snacks, feel free to share! This will help narrow down the possibilities further.\n"
     ]
    }
   ],
   "source": [
    "from langchain_core.messages import RemoveMessage\n",
    "\n",
    "# Remove the First Message from the Message Array by ID and Update the App State\n",
    "app.update_state(config, {\"messages\": RemoveMessage(id=messages[0].id)})\n",
    "\n",
    "# Extracting Message List from App State and Retrieving Saved Conversation History\n",
    "messages = app.get_state(config).values[\"messages\"]\n",
    "for message in messages:\n",
    "    message.pretty_print()"
   ]
  },
  {
   "cell_type": "markdown",
   "metadata": {},
   "source": [
    "## Dynamic Deletion of Messages\n",
    "\n",
    "Chức năng xóa động (Dynamic deletion) tự động hóa quá trình xóa các tin nhắn cũ hơn trong quá trình thực thi luồng công việc (workflow execution), đảm bảo rằng chỉ những tin nhắn gần đây nhất được giữ lại.\n",
    "\n",
    "**Các Thành phần Chính cho Xóa Động**\n",
    "\n",
    "1.  `delete_messages(state: dict) -> dict`:\n",
    "    -   Hàm này triển khai logic để xóa các tin nhắn cũ khi kiểm tra xem số lượng tin nhắn có vượt quá giới hạn cụ thể (ví dụ: 3) hay không. Nó chỉ giữ lại những tin nhắn mới nhất.\n",
    "\n",
    "2.  `should_continue(state: dict) -> str`:\n",
    "    -   Hàm điều kiện này xác định nút tiếp theo để thực thi dựa trên trạng thái hiện tại.\n",
    "    -   Nếu không có lệnh gọi hàm (function call) trong các tin nhắn hiện tại, luồng công việc sẽ chuyển đến nút `delete_messages`. Nếu có lệnh gọi hàm, luồng công việc sẽ chuyển đến nút `action`.\n",
    "\n",
    "3.  `StateGraph`: Định nghĩa luồng công việc dựa trên trạng thái, kết nối các nút `agent`, `action` và `delete_messages` với các cạnh (edges) thích hợp.\n",
    "\n",
    "**Chi tiết Chính**\n",
    "\n",
    "**Quản lý Tin nhắn (Message Management):**\n",
    "-   Hàm `delete_messages` quản lý trạng thái tin nhắn bằng cách xóa các tin nhắn cũ hơn trong các cuộc trò chuyện kéo dài, do đó duy trì hiệu quả bộ nhớ.\n",
    "\n",
    "**Kiểm soát Luồng Điều kiện (Conditional Flow Control):**\n",
    "-   Hàm `should_continue` kiểm tra trạng thái của tin nhắn cuối cùng để xác định xem có cần lệnh gọi công cụ (tool call) hay không. Điều này xác định nút tiếp theo trong luồng thực thi.\n",
    "\n",
    "**Định nghĩa Luồng Công việc (Workflow Definition):**\n",
    "-   `StateGraph` định nghĩa luồng công việc bằng cách thêm các nút cho `agent`, `action` và `delete_messages`.\n",
    "-   Mỗi nút được cấu hình để tuân theo luồng thích hợp dựa trên trạng thái và điều kiện.\n",
    "\n",
    "**Tích hợp Điểm Kiểm tra Bộ nhớ (Memory Checkpoint Integration):**\n",
    "-   Đối tượng `MemorySaver` cho phép lưu và khôi phục các điểm kiểm tra (checkpoints), cho phép biên dịch và tiếp tục luồng công việc liền mạch.\n"
   ]
  },
  {
   "cell_type": "code",
   "execution_count": 12,
   "metadata": {},
   "outputs": [],
   "source": [
    "from langchain_core.messages import RemoveMessage\n",
    "from langgraph.graph import END\n",
    "\n",
    "\n",
    "# If the number of messages exceeds 3, delete older messages and retain only the latest ones\n",
    "def delete_messages(state):\n",
    "    messages = state[\"messages\"]\n",
    "    if len(messages) > 3:\n",
    "        return {\"messages\": [RemoveMessage(id=m.id) for m in messages[:-3]]}\n",
    "\n",
    "\n",
    "# Logic to determine the next execution node based on the message state\n",
    "def should_continue(state: MessagesState) -> Literal[\"action\", \"delete_messages\"]:\n",
    "    \"\"\"Return the next node to execute.\"\"\"\n",
    "    last_message = state[\"messages\"][-1]\n",
    "    # Execute the message deletion function if no tool calls are present\n",
    "    if not last_message.tool_calls:\n",
    "        return \"delete_messages\"\n",
    "    # Execute an action if tool calls are present\n",
    "    return \"action\"\n",
    "\n",
    "\n",
    "# Define the workflow graph based on the message state\n",
    "workflow = StateGraph(MessagesState)\n",
    "\n",
    "# Add agent and action nodes\n",
    "workflow.add_node(\"agent\", call_model)\n",
    "workflow.add_node(\"action\", tool_node)\n",
    "\n",
    "# Add the message deletion node\n",
    "workflow.add_node(delete_messages)\n",
    "\n",
    "# Connect the start node to the agent node\n",
    "workflow.add_edge(START, \"agent\")\n",
    "\n",
    "# Control flow between nodes by adding conditional edges\n",
    "workflow.add_conditional_edges(\n",
    "    \"agent\",\n",
    "    should_continue,\n",
    ")\n",
    "\n",
    "# Connect the action node back to the agent node\n",
    "workflow.add_edge(\"action\", \"agent\")\n",
    "\n",
    "# Connect the message deletion node to the end node\n",
    "workflow.add_edge(\"delete_messages\", END)\n",
    "\n",
    "# Compile the workflow using a memory checkpoint\n",
    "app = workflow.compile(checkpointer=memory)"
   ]
  },
  {
   "cell_type": "markdown",
   "metadata": {},
   "source": [
    "**Process Flow**\n",
    "\n",
    "1.  Quy trình làm việc bắt đầu tại node `START` và thực thi node `agent`.\n",
    "2.  Hàm `should_continue` sau đó xác định node tiếp theo dựa trên trạng thái hiện tại:\n",
    "    * Nếu không có lời gọi hàm (function call) nào trong các tin nhắn, quy trình làm việc chuyển đến node `delete_messages`.\n",
    "    * Nếu có lời gọi hàm, quy trình làm việc chuyển đến node `action`.\n",
    "3.  Mỗi node chuyển sang đường dẫn thực thi tiếp theo dựa trên các điều kiện được xác định.\n",
    "4.  Node `delete_message` sau đó kết nối với node `END`, kết thúc nhánh đó của quy trình làm việc.\n"
   ]
  },
  {
   "cell_type": "code",
   "execution_count": 15,
   "metadata": {},
   "outputs": [
    {
     "data": {
      "image/png": "[encoded data removed]",
      "text/plain": [
       "<IPython.core.display.Image object>"
      ]
     },
     "metadata": {},
     "output_type": "display_data"
    }
   ],
   "source": [
    "# Dynamic Deletion Visualization\n",
    "from IPython.display import display, Image\n",
    "\n",
    "display(Image(app.get_graph().draw_mermaid_png()))"
   ]
  },
  {
   "cell_type": "code",
   "execution_count": 16,
   "metadata": {},
   "outputs": [
    {
     "name": "stdout",
     "output_type": "stream",
     "text": [
      "[('human', 'I like chocolate more than candy.')]\n",
      "[('human', 'I like chocolate more than candy.'), ('ai', \"That's great! Chocolate and candy can both be delicious treats in their own ways. While they share some similarities, chocolate often has a richer, more complex flavor profile that many people enjoy. If you find yourself leaning towards chocolate over candy, it might be because of its depth of taste or the way it melts in your mouth.\\n\\nDo you have any favorite types of chocolate or specific brands that you particularly enjoy?\")]\n"
     ]
    }
   ],
   "source": [
    "# Import the HumanMessage class for LangChain message processing\n",
    "from langchain_core.messages import HumanMessage\n",
    "\n",
    "# Initialize a configuration object with a thread ID\n",
    "config = {\"configurable\": {\"thread_id\": \"2\"}}\n",
    "\n",
    "# Perform the first query\n",
    "input_message = HumanMessage(content=\"I like chocolate more than candy.\")\n",
    "for event in app.stream({\"messages\": [input_message]}, config, stream_mode=\"values\"):\n",
    "    print([(message.type, message.content) for message in event[\"messages\"]])"
   ]
  },
  {
   "cell_type": "code",
   "execution_count": 17,
   "metadata": {},
   "outputs": [
    {
     "name": "stdout",
     "output_type": "stream",
     "text": [
      "[('human', 'I like chocolate more than candy.'), ('ai', \"That's great! Chocolate and candy can both be delicious treats in their own ways. While they share some similarities, chocolate often has a richer, more complex flavor profile that many people enjoy. If you find yourself leaning towards chocolate over candy, it might be because of its depth of taste or the way it melts in your mouth.\\n\\nDo you have any favorite types of chocolate or specific brands that you particularly enjoy?\"), ('human', 'What is my favorite snack?')]\n",
      "[('human', 'I like chocolate more than candy.'), ('ai', \"That's great! Chocolate and candy can both be delicious treats in their own ways. While they share some similarities, chocolate often has a richer, more complex flavor profile that many people enjoy. If you find yourself leaning towards chocolate over candy, it might be because of its depth of taste or the way it melts in your mouth.\\n\\nDo you have any favorite types of chocolate or specific brands that you particularly enjoy?\"), ('human', 'What is my favorite snack?'), ('ai', 'To determine your favorite snack, I would need a bit more information about what snacks you typically enjoy. However, based on the statement \"I like chocolate more than candy,\" it seems likely that your favorite snack might be something involving chocolate.\\n\\nHere are some possibilities:\\n\\n1. **Chocolate Bar**: A classic choice, such as a Hershey\\'s bar or a Lindt truffle.\\n2. **Chocolate Chips**: You could enjoy them in cookies, brownies, or just straight out of the bag.\\n3. **Dark Chocolate**: Known for its richer flavor and potential health benefits.\\n4. **Hot Chocolate**: A warm and comforting treat, especially on cold days.\\n\\nIf you have any specific preferences or past experiences with snacks, feel free to share! This can help narrow down your favorite snack even further.')]\n",
      "[('ai', \"That's great! Chocolate and candy can both be delicious treats in their own ways. While they share some similarities, chocolate often has a richer, more complex flavor profile that many people enjoy. If you find yourself leaning towards chocolate over candy, it might be because of its depth of taste or the way it melts in your mouth.\\n\\nDo you have any favorite types of chocolate or specific brands that you particularly enjoy?\"), ('human', 'What is my favorite snack?'), ('ai', 'To determine your favorite snack, I would need a bit more information about what snacks you typically enjoy. However, based on the statement \"I like chocolate more than candy,\" it seems likely that your favorite snack might be something involving chocolate.\\n\\nHere are some possibilities:\\n\\n1. **Chocolate Bar**: A classic choice, such as a Hershey\\'s bar or a Lindt truffle.\\n2. **Chocolate Chips**: You could enjoy them in cookies, brownies, or just straight out of the bag.\\n3. **Dark Chocolate**: Known for its richer flavor and potential health benefits.\\n4. **Hot Chocolate**: A warm and comforting treat, especially on cold days.\\n\\nIf you have any specific preferences or past experiences with snacks, feel free to share! This can help narrow down your favorite snack even further.')]\n"
     ]
    }
   ],
   "source": [
    "# Perform the second query\n",
    "input_message = HumanMessage(content=\"What is my favorite snack?\")\n",
    "\n",
    "for event in app.stream({\"messages\": [input_message]}, config, stream_mode=\"values\"):\n",
    "    print([(message.type, message.content) for message in event[\"messages\"]])"
   ]
  },
  {
   "cell_type": "code",
   "execution_count": 18,
   "metadata": {},
   "outputs": [
    {
     "name": "stdout",
     "output_type": "stream",
     "text": [
      "==================================\u001b[1m Ai Message \u001b[0m==================================\n",
      "\n",
      "That's great! Chocolate and candy can both be delicious treats in their own ways. While they share some similarities, chocolate often has a richer, more complex flavor profile that many people enjoy. If you find yourself leaning towards chocolate over candy, it might be because of its depth of taste or the way it melts in your mouth.\n",
      "\n",
      "Do you have any favorite types of chocolate or specific brands that you particularly enjoy?\n",
      "================================\u001b[1m Human Message \u001b[0m=================================\n",
      "\n",
      "What is my favorite snack?\n",
      "==================================\u001b[1m Ai Message \u001b[0m==================================\n",
      "\n",
      "To determine your favorite snack, I would need a bit more information about what snacks you typically enjoy. However, based on the statement \"I like chocolate more than candy,\" it seems likely that your favorite snack might be something involving chocolate.\n",
      "\n",
      "Here are some possibilities:\n",
      "\n",
      "1. **Chocolate Bar**: A classic choice, such as a Hershey's bar or a Lindt truffle.\n",
      "2. **Chocolate Chips**: You could enjoy them in cookies, brownies, or just straight out of the bag.\n",
      "3. **Dark Chocolate**: Known for its richer flavor and potential health benefits.\n",
      "4. **Hot Chocolate**: A warm and comforting treat, especially on cold days.\n",
      "\n",
      "If you have any specific preferences or past experiences with snacks, feel free to share! This can help narrow down your favorite snack even further.\n"
     ]
    }
   ],
   "source": [
    "# Extract and save the message list from the app state\n",
    "messages = app.get_state(config).values[\"messages\"]\n",
    "\n",
    "# Return the message list\n",
    "for message in messages:\n",
    "    message.pretty_print()"
   ]
  },
  {
   "cell_type": "code",
   "execution_count": null,
   "metadata": {},
   "outputs": [],
   "source": []
  }
 ],
 "metadata": {
  "kernelspec": {
   "display_name": "langchain",
   "language": "python",
   "name": "python3"
  },
  "language_info": {
   "codemirror_mode": {
    "name": "ipython",
    "version": 3
   },
   "file_extension": ".py",
   "mimetype": "text/x-python",
   "name": "python",
   "nbconvert_exporter": "python",
   "pygments_lexer": "ipython3",
   "version": "3.10.16"
  }
 },
 "nbformat": 4,
 "nbformat_minor": 2
}
