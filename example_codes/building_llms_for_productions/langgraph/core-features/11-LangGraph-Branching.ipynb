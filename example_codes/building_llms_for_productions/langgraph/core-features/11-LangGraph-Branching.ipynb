{
 "cells": [
  {
   "cell_type": "markdown",
   "metadata": {},
   "source": [
    "# Branch Creation for Parallel Node Execution\n",
    "\n",
    "Việc thực thi song song các node là rất cần thiết để cải thiện hiệu suất tổng thể của các quy trình làm việc dựa trên đồ thị. LangGraph cung cấp hỗ trợ gốc cho việc thực thi song song các node, giúp tăng đáng kể hiệu quả của các quy trình làm việc được xây dựng bằng framework này.\n",
    "\n",
    "Quá trình song song hóa này đạt được bằng cách sử dụng các cơ chế **fan-out** và **fan-in**, sử dụng cả các cạnh tiêu chuẩn (standard edges) và `conditional_edges`.\n",
    "\n",
    "![branching-graph](../images/11-langgraph-branching-graph.png)"
   ]
  },
  {
   "cell_type": "markdown",
   "metadata": {},
   "source": [
    "## Parallel Node Fan-out and Fan-in\n",
    "\n",
    "**Fan-out / Fan-in**\n",
    "\n",
    "Trong xử lý song song, **fan-out** và **fan-in** mô tả các quá trình phân chia và hợp nhất tác vụ.\n",
    "\n",
    "-   **Fan-out (Mở rộng)**: Một tác vụ lớn được chia thành các tác vụ nhỏ hơn, dễ quản lý hơn. Ví dụ: khi làm pizza, bột, nước sốt và phô mai có thể được chuẩn bị độc lập. Việc chia các tác vụ để xử lý chúng đồng thời là fan-out.\n",
    "\n",
    "-   **Fan-in (Hợp nhất)**: Các tác vụ nhỏ đã được chia được tập hợp lại để hoàn thành tác vụ tổng thể. Giống như việc lắp ráp các nguyên liệu đã chuẩn bị để tạo ra một chiếc pizza hoàn chỉnh, fan-in thu thập kết quả của các tác vụ song song để hoàn thiện quá trình.\n",
    "\n",
    "Về bản chất, **fan-out** phân phối các tác vụ và **fan-in** thu thập kết quả để tạo ra đầu ra cuối cùng.\n",
    "\n",
    "Ví dụ này minh họa một fan-out từ `Node A` đến `Node B` và `Node C`, tiếp theo là một fan-in đến `Node D`.\n",
    "\n",
    "Trong **State**, toán tử `reducer(add)` được chỉ định. Điều này đảm bảo rằng thay vì chỉ đơn giản ghi đè các giá trị hiện có cho một khóa cụ thể trong State, các giá trị được kết hợp hoặc tích lũy. Đối với danh sách, điều này có nghĩa là nối danh sách mới vào danh sách hiện có.\n",
    "\n",
    "LangGraph sử dụng kiểu `Annotated` để chỉ định các hàm reducer cho các khóa cụ thể trong State. Cách tiếp cận này cho phép gắn một hàm reducer (ví dụ: `add`) vào kiểu mà không thay đổi kiểu gốc (ví dụ: `list`) trong khi vẫn duy trì khả năng tương thích với kiểm tra kiểu.\n"
   ]
  },
  {
   "cell_type": "code",
   "execution_count": 3,
   "metadata": {},
   "outputs": [],
   "source": [
    "from typing import Annotated, Any\n",
    "from typing_extensions import TypedDict\n",
    "from langgraph.graph import StateGraph, START, END\n",
    "from langgraph.graph.message import add_messages\n",
    "\n",
    "\n",
    "# Define State (using add_messages reducer)\n",
    "class State(TypedDict):\n",
    "    aggregate: Annotated[list, add_messages] # Tổng hợp\n",
    "    \n",
    "# Class for returning node values\n",
    "class ReturnNodeValue:\n",
    "    # Initialization\n",
    "    def __init__(self, node_secret: str):\n",
    "        self._value = node_secret\n",
    "\n",
    "    # Updates the state when called\n",
    "    def __call__(self, state: State) -> Any:\n",
    "        print(f\"Adding {self._value} to {state['aggregate']}\")\n",
    "        return {\"aggregate\": [self._value]}\n",
    "    \n",
    "# Initialize the state graph\n",
    "builder = StateGraph(State)\n",
    "\n",
    "# Create nodes A through D and assign values\n",
    "builder.add_node(\"a\", ReturnNodeValue(\"I'm A\"))\n",
    "builder.add_edge(START, \"a\")\n",
    "builder.add_node(\"b\", ReturnNodeValue(\"I'm B\"))\n",
    "builder.add_node(\"c\", ReturnNodeValue(\"I'm C\"))\n",
    "builder.add_node(\"d\", ReturnNodeValue(\"I'm D\"))\n",
    "\n",
    "# Connect the nodes\n",
    "builder.add_edge(\"a\", \"b\")\n",
    "builder.add_edge(\"a\", \"c\")\n",
    "builder.add_edge(\"b\", \"d\")\n",
    "builder.add_edge(\"c\", \"d\")\n",
    "builder.add_edge(\"d\", END)\n",
    "\n",
    "# Compile the graph\n",
    "graph = builder.compile()"
   ]
  },
  {
   "cell_type": "code",
   "execution_count": 4,
   "metadata": {},
   "outputs": [
    {
     "data": {
      "image/png": "[encoded data removed]",
      "text/plain": [
       "<IPython.core.display.Image object>"
      ]
     },
     "metadata": {},
     "output_type": "display_data"
    }
   ],
   "source": [
    "from IPython.display import Image, display\n",
    "from langchain_core.runnables.graph import MermaidDrawMethod\n",
    "\n",
    "# Visualize the graph\n",
    "display(\n",
    "    Image(\n",
    "        graph.get_graph().draw_mermaid_png(\n",
    "            draw_method=MermaidDrawMethod.API,\n",
    "        )\n",
    "    )\n",
    ")"
   ]
  },
  {
   "cell_type": "code",
   "execution_count": 5,
   "metadata": {},
   "outputs": [
    {
     "name": "stdout",
     "output_type": "stream",
     "text": [
      "Adding I'm A to []\n",
      "Adding I'm B to [HumanMessage(content=\"I'm A\", additional_kwargs={}, response_metadata={}, id='693377c5-f6af-40f1-9c6b-cd42f96bd80f')]\n",
      "Adding I'm C to [HumanMessage(content=\"I'm A\", additional_kwargs={}, response_metadata={}, id='693377c5-f6af-40f1-9c6b-cd42f96bd80f')]\n",
      "Adding I'm D to [HumanMessage(content=\"I'm A\", additional_kwargs={}, response_metadata={}, id='693377c5-f6af-40f1-9c6b-cd42f96bd80f'), HumanMessage(content=\"I'm B\", additional_kwargs={}, response_metadata={}, id='f2e25959-8add-4ab4-ac4b-eec4355bea01'), HumanMessage(content=\"I'm C\", additional_kwargs={}, response_metadata={}, id='3175d191-516d-4092-9fc0-3c68a36447e8')]\n"
     ]
    },
    {
     "data": {
      "text/plain": [
       "{'aggregate': [HumanMessage(content=\"I'm A\", additional_kwargs={}, response_metadata={}, id='693377c5-f6af-40f1-9c6b-cd42f96bd80f'),\n",
       "  HumanMessage(content=\"I'm B\", additional_kwargs={}, response_metadata={}, id='f2e25959-8add-4ab4-ac4b-eec4355bea01'),\n",
       "  HumanMessage(content=\"I'm C\", additional_kwargs={}, response_metadata={}, id='3175d191-516d-4092-9fc0-3c68a36447e8'),\n",
       "  HumanMessage(content=\"I'm D\", additional_kwargs={}, response_metadata={}, id='c1668d0f-695c-4910-80fa-0bcb06b037f6')]}"
      ]
     },
     "execution_count": 5,
     "metadata": {},
     "output_type": "execute_result"
    }
   ],
   "source": [
    "# Execute the Graph\n",
    "graph.invoke({\"aggregate\": []}, {\"configurable\": {\"thread_id\": \"foo\"}})"
   ]
  },
  {
   "cell_type": "markdown",
   "metadata": {},
   "source": [
    "### Handling Exceptions during Parallel Processing\n",
    "\n",
    "LangGraph thực thi các node trong một \"superstep\". Điều này có nghĩa là ngay cả khi các nhánh song song được thực thi đồng thời, toàn bộ superstep được xử lý theo kiểu **transactional**.\n",
    "\n",
    "> **Superstep**: Một bước xử lý hoàn chỉnh liên quan đến nhiều node.\n",
    "\n",
    "Do đó, nếu xảy ra ngoại lệ ở bất kỳ nhánh nào, **không có cập nhật nào** được áp dụng cho state (toàn bộ superstep được rollback).\n",
    "\n",
    "![branching-graph](../images/11-langgraph-branching-graph.png)"
   ]
  },
  {
   "cell_type": "markdown",
   "metadata": {},
   "source": [
    "Đối với các tác vụ dễ xảy ra lỗi (ví dụ: xử lý các lệnh gọi API không đáng tin cậy), LangGraph cung cấp hai giải pháp:\n",
    "\n",
    "1.  Bạn có thể viết mã Python tiêu chuẩn trong các node để bắt và xử lý trực tiếp các ngoại lệ.\n",
    "2.  Thiết lập **[retry\\_policy](https://langchain-ai.github.io/langgraph/reference/graphs/#langgraph.graph.graph.CompiledGraph.retry_policy)** để hướng dẫn graph thử lại các node gặp phải các loại ngoại lệ cụ thể. Chỉ các nhánh thất bại mới được thử lại, vì vậy bạn không cần lo lắng về việc xử lý lại không cần thiết.\n",
    "\n",
    "Các tính năng này cho phép kiểm soát hoàn toàn việc thực thi song song và xử lý ngoại lệ.\n"
   ]
  },
  {
   "cell_type": "markdown",
   "metadata": {},
   "source": [
    "## Fan-out and Fan-in of Parallel Nodes with Additional Steps\n",
    "\n",
    "Ví dụ trước đã minh họa cách thực hiện `fan-out` và `fan-in` khi mỗi đường dẫn bao gồm một bước đơn lẻ. Nhưng điều gì xảy ra khi một đường dẫn chứa nhiều bước?\n"
   ]
  },
  {
   "cell_type": "code",
   "execution_count": 6,
   "metadata": {},
   "outputs": [],
   "source": [
    "from typing import Annotated\n",
    "from typing_extensions import TypedDict\n",
    "from langgraph.graph import StateGraph, START, END\n",
    "from langgraph.graph.message import add_messages\n",
    "\n",
    "\n",
    "# Define State (using add_messages reducer)\n",
    "class State(TypedDict):\n",
    "    aggregate: Annotated[list, add_messages]\n",
    "\n",
    "\n",
    "# Class for returning node values\n",
    "class ReturnNodeValue:\n",
    "    # Initialization\n",
    "    def __init__(self, node_secret: str):\n",
    "        self._value = node_secret\n",
    "\n",
    "    # Updates the state when called\n",
    "    def __call__(self, state: State) -> Any:\n",
    "        print(f\"Adding {self._value} to {state['aggregate']}\")\n",
    "        return {\"aggregate\": [self._value]}\n",
    "\n",
    "\n",
    "# Initialize the state graph\n",
    "builder = StateGraph(State)\n",
    "\n",
    "# Create and connect nodes\n",
    "builder.add_node(\"a\", ReturnNodeValue(\"I'm A\"))\n",
    "builder.add_edge(START, \"a\")\n",
    "builder.add_node(\"b1\", ReturnNodeValue(\"I'm B1\"))\n",
    "builder.add_node(\"b2\", ReturnNodeValue(\"I'm B2\"))\n",
    "builder.add_node(\"c\", ReturnNodeValue(\"I'm C\"))\n",
    "builder.add_node(\"d\", ReturnNodeValue(\"I'm D\"))\n",
    "builder.add_edge(\"a\", \"b1\")\n",
    "builder.add_edge(\"a\", \"c\")\n",
    "builder.add_edge(\"b1\", \"b2\")\n",
    "builder.add_edge([\"b2\", \"c\"], \"d\")\n",
    "builder.add_edge(\"d\", END)\n",
    "\n",
    "# Compile the graph\n",
    "graph = builder.compile()"
   ]
  },
  {
   "cell_type": "code",
   "execution_count": 9,
   "metadata": {},
   "outputs": [],
   "source": [
    "# from IPython.display import Image, display\n",
    "# from langchain_core.runnables.graph import MermaidDrawMethod\n",
    "\n",
    "# # Visualize the graph\n",
    "# display(\n",
    "#     Image(\n",
    "#         graph.get_graph().draw_mermaid_png(\n",
    "#             draw_method=MermaidDrawMethod.API,\n",
    "#         )\n",
    "#     )\n",
    "# )"
   ]
  },
  {
   "cell_type": "markdown",
   "metadata": {},
   "source": [
    "![](../images/c11.png)"
   ]
  },
  {
   "cell_type": "code",
   "execution_count": 10,
   "metadata": {},
   "outputs": [
    {
     "name": "stdout",
     "output_type": "stream",
     "text": [
      "Adding I'm A to []\n",
      "Adding I'm B1 to [HumanMessage(content=\"I'm A\", additional_kwargs={}, response_metadata={}, id='baf73310-851f-4415-8b6f-c1e9a66501fe')]\n",
      "Adding I'm C to [HumanMessage(content=\"I'm A\", additional_kwargs={}, response_metadata={}, id='baf73310-851f-4415-8b6f-c1e9a66501fe')]\n",
      "Adding I'm B2 to [HumanMessage(content=\"I'm A\", additional_kwargs={}, response_metadata={}, id='baf73310-851f-4415-8b6f-c1e9a66501fe'), HumanMessage(content=\"I'm B1\", additional_kwargs={}, response_metadata={}, id='eeb4fa4a-5067-4fea-9474-8ca331d28d23'), HumanMessage(content=\"I'm C\", additional_kwargs={}, response_metadata={}, id='aa9f7ff8-d4da-46df-bfa3-ff738c1ebee1')]\n",
      "Adding I'm D to [HumanMessage(content=\"I'm A\", additional_kwargs={}, response_metadata={}, id='baf73310-851f-4415-8b6f-c1e9a66501fe'), HumanMessage(content=\"I'm B1\", additional_kwargs={}, response_metadata={}, id='eeb4fa4a-5067-4fea-9474-8ca331d28d23'), HumanMessage(content=\"I'm C\", additional_kwargs={}, response_metadata={}, id='aa9f7ff8-d4da-46df-bfa3-ff738c1ebee1'), HumanMessage(content=\"I'm B2\", additional_kwargs={}, response_metadata={}, id='6cf101db-8b8c-4fd7-89ca-8c07edd6d0d3')]\n"
     ]
    },
    {
     "data": {
      "text/plain": [
       "{'aggregate': [HumanMessage(content=\"I'm A\", additional_kwargs={}, response_metadata={}, id='baf73310-851f-4415-8b6f-c1e9a66501fe'),\n",
       "  HumanMessage(content=\"I'm B1\", additional_kwargs={}, response_metadata={}, id='eeb4fa4a-5067-4fea-9474-8ca331d28d23'),\n",
       "  HumanMessage(content=\"I'm C\", additional_kwargs={}, response_metadata={}, id='aa9f7ff8-d4da-46df-bfa3-ff738c1ebee1'),\n",
       "  HumanMessage(content=\"I'm B2\", additional_kwargs={}, response_metadata={}, id='6cf101db-8b8c-4fd7-89ca-8c07edd6d0d3'),\n",
       "  HumanMessage(content=\"I'm D\", additional_kwargs={}, response_metadata={}, id='592c2f02-ff5f-45c3-b0bd-5fd7565a8478')]}"
      ]
     },
     "execution_count": 10,
     "metadata": {},
     "output_type": "execute_result"
    }
   ],
   "source": [
    "# Execute Graph Aggregation with an Empty List, perform a basic aggregation operation across all data using an empty list as the initial state.\n",
    "graph.invoke({\"aggregate\": []})"
   ]
  },
  {
   "cell_type": "markdown",
   "metadata": {},
   "source": [
    "## Conditional Branching\n",
    "\n",
    "When the fan-out is non-deterministic, you can directly use `add_conditional_edges`."
   ]
  },
  {
   "cell_type": "code",
   "execution_count": 11,
   "metadata": {},
   "outputs": [],
   "source": [
    "from typing import Annotated, Sequence\n",
    "from typing_extensions import TypedDict\n",
    "from langgraph.graph import END, START, StateGraph\n",
    "from langgraph.graph.message import add_messages\n",
    "\n",
    "\n",
    "# Define State (using add_messages reducer)\n",
    "class State(TypedDict):\n",
    "    aggregate: Annotated[list, add_messages]\n",
    "    which: str\n",
    "\n",
    "\n",
    "# Class for returning unique values per node\n",
    "class ReturnNodeValue:\n",
    "    def __init__(self, node_secret: str):\n",
    "        self._value = node_secret\n",
    "\n",
    "    def __call__(self, state: State) -> Any:\n",
    "        print(f\"Adding {self._value} to {state['aggregate']}\")\n",
    "        return {\"aggregate\": [self._value]}\n",
    "\n",
    "\n",
    "# Initialize the state graph\n",
    "builder = StateGraph(State)\n",
    "\n",
    "# Define nodes and connect them\n",
    "builder.add_node(\"a\", ReturnNodeValue(\"I'm A\"))\n",
    "builder.add_edge(START, \"a\")\n",
    "builder.add_node(\"b\", ReturnNodeValue(\"I'm B\"))\n",
    "builder.add_node(\"c\", ReturnNodeValue(\"I'm C\"))\n",
    "builder.add_node(\"d\", ReturnNodeValue(\"I'm D\"))\n",
    "builder.add_node(\"e\", ReturnNodeValue(\"I'm E\"))\n",
    "\n",
    "\n",
    "# Define the routing logic based on the 'which' value in the state\n",
    "def route_bc_or_cd(state: State) -> Sequence[str]:\n",
    "    if state[\"which\"] == \"cd\":\n",
    "        return [\"c\", \"d\"]\n",
    "    return [\"b\", \"c\"]\n",
    "\n",
    "\n",
    "# List of nodes to process in parallel\n",
    "intermediates = [\"b\", \"c\", \"d\"]\n",
    "\n",
    "builder.add_conditional_edges(\n",
    "    \"a\",\n",
    "    route_bc_or_cd,\n",
    "    intermediates,\n",
    ")\n",
    "\n",
    "for node in intermediates:\n",
    "    builder.add_edge(node, \"e\")\n",
    "\n",
    "\n",
    "# Connect the final node and compile the graph\n",
    "builder.add_edge(\"e\", END)\n",
    "graph = builder.compile()"
   ]
  },
  {
   "cell_type": "code",
   "execution_count": 13,
   "metadata": {},
   "outputs": [
    {
     "data": {
      "image/png": "[encoded data removed]",
      "text/plain": [
       "<IPython.core.display.Image object>"
      ]
     },
     "metadata": {},
     "output_type": "display_data"
    }
   ],
   "source": [
    "from IPython.display import Image, display\n",
    "from langchain_core.runnables.graph import MermaidDrawMethod\n",
    "\n",
    "# Visualize the graph\n",
    "display(\n",
    "    Image(\n",
    "        graph.get_graph().draw_mermaid_png(\n",
    "            draw_method=MermaidDrawMethod.API,\n",
    "        )\n",
    "    )\n",
    ")"
   ]
  },
  {
   "cell_type": "markdown",
   "metadata": {},
   "source": [
    "Nếu có một node \"sink\" đã biết để kết nối sau phân nhánh điều kiện, bạn có thể chỉ định `then=\"node_name_to_execute\"` khi tạo cạnh điều kiện.\n",
    "\n",
    "Dưới đây là một đoạn mã tham khảo. Khi sử dụng cú pháp `then`, bạn có thể thêm `then=\"e\"` và bỏ qua việc thêm kết nối cạnh rõ ràng.\n",
    "\n"
   ]
  },
  {
   "cell_type": "code",
   "execution_count": null,
   "metadata": {},
   "outputs": [],
   "source": [
    "## Using the `then` Syntax\n",
    "# builder.add_conditional_edges(\n",
    "#     \"a\",\n",
    "#     route_bc_or_cd,\n",
    "#     intermediates,\n",
    "#     then=\"e\",\n",
    "# )"
   ]
  },
  {
   "cell_type": "code",
   "execution_count": 14,
   "metadata": {},
   "outputs": [
    {
     "name": "stdout",
     "output_type": "stream",
     "text": [
      "Adding I'm A to []\n",
      "Adding I'm B to [HumanMessage(content=\"I'm A\", additional_kwargs={}, response_metadata={}, id='e6de8988-d933-4f14-ba0e-fae840be4076')]\n",
      "Adding I'm C to [HumanMessage(content=\"I'm A\", additional_kwargs={}, response_metadata={}, id='e6de8988-d933-4f14-ba0e-fae840be4076')]\n",
      "Adding I'm E to [HumanMessage(content=\"I'm A\", additional_kwargs={}, response_metadata={}, id='e6de8988-d933-4f14-ba0e-fae840be4076'), HumanMessage(content=\"I'm B\", additional_kwargs={}, response_metadata={}, id='a1d38404-e819-49cb-83d5-a849d59ee720'), HumanMessage(content=\"I'm C\", additional_kwargs={}, response_metadata={}, id='2044e948-b3db-4cd7-8a84-1176225597ce')]\n"
     ]
    },
    {
     "data": {
      "text/plain": [
       "{'aggregate': [HumanMessage(content=\"I'm A\", additional_kwargs={}, response_metadata={}, id='e6de8988-d933-4f14-ba0e-fae840be4076'),\n",
       "  HumanMessage(content=\"I'm B\", additional_kwargs={}, response_metadata={}, id='a1d38404-e819-49cb-83d5-a849d59ee720'),\n",
       "  HumanMessage(content=\"I'm C\", additional_kwargs={}, response_metadata={}, id='2044e948-b3db-4cd7-8a84-1176225597ce'),\n",
       "  HumanMessage(content=\"I'm E\", additional_kwargs={}, response_metadata={}, id='bd927e33-2c8c-4a88-a9c7-4cd6246b45f1')],\n",
       " 'which': 'bc'}"
      ]
     },
     "execution_count": 14,
     "metadata": {},
     "output_type": "execute_result"
    }
   ],
   "source": [
    "# Execute the Graph (set `which`:`bc`)\n",
    "graph.invoke({\"aggregate\": [], \"which\": \"bc\"})"
   ]
  },
  {
   "cell_type": "code",
   "execution_count": 15,
   "metadata": {},
   "outputs": [
    {
     "name": "stdout",
     "output_type": "stream",
     "text": [
      "Adding I'm A to []\n",
      "Adding I'm C to [HumanMessage(content=\"I'm A\", additional_kwargs={}, response_metadata={}, id='8232e95c-3fc1-4c41-8bc6-617a23899dbf')]\n",
      "Adding I'm D to [HumanMessage(content=\"I'm A\", additional_kwargs={}, response_metadata={}, id='8232e95c-3fc1-4c41-8bc6-617a23899dbf')]\n",
      "Adding I'm E to [HumanMessage(content=\"I'm A\", additional_kwargs={}, response_metadata={}, id='8232e95c-3fc1-4c41-8bc6-617a23899dbf'), HumanMessage(content=\"I'm C\", additional_kwargs={}, response_metadata={}, id='8990d131-9d54-46c3-b259-a152bb31a8fe'), HumanMessage(content=\"I'm D\", additional_kwargs={}, response_metadata={}, id='3d87294a-9628-4a95-80a9-3624a1352a4a')]\n"
     ]
    },
    {
     "data": {
      "text/plain": [
       "{'aggregate': [HumanMessage(content=\"I'm A\", additional_kwargs={}, response_metadata={}, id='8232e95c-3fc1-4c41-8bc6-617a23899dbf'),\n",
       "  HumanMessage(content=\"I'm C\", additional_kwargs={}, response_metadata={}, id='8990d131-9d54-46c3-b259-a152bb31a8fe'),\n",
       "  HumanMessage(content=\"I'm D\", additional_kwargs={}, response_metadata={}, id='3d87294a-9628-4a95-80a9-3624a1352a4a'),\n",
       "  HumanMessage(content=\"I'm E\", additional_kwargs={}, response_metadata={}, id='ce626cb9-de11-438e-881a-f83f6a79977c')],\n",
       " 'which': 'cd'}"
      ]
     },
     "execution_count": 15,
     "metadata": {},
     "output_type": "execute_result"
    }
   ],
   "source": [
    "# Execute the Graph (set `which`:`cd`)\n",
    "graph.invoke({\"aggregate\": [], \"which\": \"cd\"})"
   ]
  },
  {
   "cell_type": "markdown",
   "metadata": {},
   "source": [
    "## Sorting Based on Reliability of Fan-out Values\n",
    "\n",
    "Các node được phân tán song song được thực thi như một phần của một \"**super-step**\" duy nhất. Các cập nhật từ mỗi super-step chỉ được áp dụng tuần tự cho state sau khi super-step hoàn thành.\n",
    "\n",
    "Nếu cần một thứ tự cập nhật nhất quán, được xác định trước trong một super-step song song, các giá trị đầu ra có thể được ghi lại trong một trường riêng biệt của state với một khóa nhận dạng. Sau đó, sử dụng các `edges` tiêu chuẩn từ mỗi node fan-out đến điểm hội tụ, nơi một node \"sink\" kết hợp các đầu ra này.\n",
    "\n",
    "Ví dụ: hãy xem xét một tình huống mà bạn muốn sắp xếp đầu ra của các bước song song dựa trên \"độ tin cậy\" của chúng.\n"
   ]
  },
  {
   "cell_type": "code",
   "execution_count": 16,
   "metadata": {},
   "outputs": [],
   "source": [
    "from typing import Annotated, Sequence\n",
    "from typing_extensions import TypedDict\n",
    "from langgraph.graph import StateGraph\n",
    "from langgraph.graph.message import add_messages\n",
    "\n",
    "\n",
    "# Logic to merge fan-out values, handle empty lists, and concatenate lists\n",
    "def reduce_fanouts(left, right):\n",
    "    if left is None:\n",
    "        left = []\n",
    "    if not right:\n",
    "        # Overwrite\n",
    "        return []\n",
    "    return left + right\n",
    "\n",
    "\n",
    "# Type definition for state management, configuring structures for aggregation and fan-out values\n",
    "class State(TypedDict):\n",
    "    # Use the add_messages reducer\n",
    "    aggregate: Annotated[list, add_messages]\n",
    "    fanout_values: Annotated[list, reduce_fanouts]\n",
    "    which: str\n",
    "\n",
    "\n",
    "# Initialize the graph\n",
    "builder = StateGraph(State)\n",
    "builder.add_node(\"a\", ReturnNodeValue(\"I'm A\"))\n",
    "builder.add_edge(START, \"a\")\n",
    "\n",
    "\n",
    "# Class for returning parallel node values\n",
    "class ParallelReturnNodeValue:\n",
    "    def __init__(\n",
    "        self,\n",
    "        node_secret: str,\n",
    "        reliability: float,\n",
    "    ):\n",
    "        self._value = node_secret\n",
    "        self._reliability = reliability\n",
    "\n",
    "    # Update the state when called\n",
    "    def __call__(self, state: State) -> Any:\n",
    "        print(f\"Adding {self._value} to {state['aggregate']} in parallel.\")\n",
    "        return {\n",
    "            \"fanout_values\": [\n",
    "                {\n",
    "                    \"value\": [self._value],\n",
    "                    \"reliability\": self._reliability,\n",
    "                }\n",
    "            ]\n",
    "        }\n",
    "\n",
    "\n",
    "# Add parallel nodes with different reliability values\n",
    "builder.add_node(\"b\", ParallelReturnNodeValue(\"I'm B\", reliability=0.1))\n",
    "builder.add_node(\"c\", ParallelReturnNodeValue(\"I'm C\", reliability=0.9))\n",
    "builder.add_node(\"d\", ParallelReturnNodeValue(\"I'm D\", reliability=0.5))\n",
    "\n",
    "\n",
    "# Aggregate fan-out values based on reliability and perform final aggregation\n",
    "def aggregate_fanout_values(state: State) -> Any:\n",
    "    # Sort by reliability\n",
    "    ranked_values = sorted(\n",
    "        state[\"fanout_values\"], key=lambda x: x[\"reliability\"], reverse=True\n",
    "    )\n",
    "    print(ranked_values)\n",
    "    return {\n",
    "        \"aggregate\": [x[\"value\"][0] for x in ranked_values] + [\"I'm E\"],\n",
    "        \"fanout_values\": [],\n",
    "    }\n",
    "\n",
    "\n",
    "# Add aggregation node\n",
    "builder.add_node(\"e\", aggregate_fanout_values)\n",
    "\n",
    "\n",
    "# Define conditional routing logic based on state\n",
    "def route_bc_or_cd(state: State) -> Sequence[str]:\n",
    "    if state[\"which\"] == \"cd\":\n",
    "        return [\"c\", \"d\"]\n",
    "    return [\"b\", \"c\"]\n",
    "\n",
    "\n",
    "# Configure intermediate nodes and add conditional edges\n",
    "intermediates = [\"b\", \"c\", \"d\"]\n",
    "builder.add_conditional_edges(\"a\", route_bc_or_cd, intermediates)\n",
    "\n",
    "# Connect intermediate nodes to the final aggregation node\n",
    "for node in intermediates:\n",
    "    builder.add_edge(node, \"e\")\n",
    "\n",
    "# Finalize the graph\n",
    "graph = builder.compile()"
   ]
  },
  {
   "cell_type": "code",
   "execution_count": 20,
   "metadata": {},
   "outputs": [],
   "source": [
    "# from IPython.display import Image, display\n",
    "# display(Image(graph.get_graph().draw_mermaid_png()))"
   ]
  },
  {
   "cell_type": "markdown",
   "metadata": {},
   "source": [
    "![](../images/c11_2.png)"
   ]
  },
  {
   "cell_type": "markdown",
   "metadata": {},
   "source": [
    "The results from executing nodes in parallel are then sorted based on their reliability.\n",
    "\n",
    "**Reference**\n",
    "\n",
    "- `b`: reliability = 0.1  \n",
    "- `c`: reliability = 0.9  \n",
    "- `d`: reliability = 0.5"
   ]
  },
  {
   "cell_type": "code",
   "execution_count": 21,
   "metadata": {},
   "outputs": [
    {
     "name": "stdout",
     "output_type": "stream",
     "text": [
      "Adding I'm A to []\n",
      "Adding I'm B to [HumanMessage(content=\"I'm A\", additional_kwargs={}, response_metadata={}, id='91593284-048d-4a68-897b-5bcd68a53fa8')] in parallel.\n",
      "Adding I'm C to [HumanMessage(content=\"I'm A\", additional_kwargs={}, response_metadata={}, id='91593284-048d-4a68-897b-5bcd68a53fa8')] in parallel.\n",
      "[{'value': [\"I'm C\"], 'reliability': 0.9}, {'value': [\"I'm B\"], 'reliability': 0.1}]\n"
     ]
    },
    {
     "data": {
      "text/plain": [
       "{'aggregate': [HumanMessage(content=\"I'm A\", additional_kwargs={}, response_metadata={}, id='91593284-048d-4a68-897b-5bcd68a53fa8'),\n",
       "  HumanMessage(content=\"I'm C\", additional_kwargs={}, response_metadata={}, id='d0de38a3-1caf-43ca-9363-fc835813b0ca'),\n",
       "  HumanMessage(content=\"I'm B\", additional_kwargs={}, response_metadata={}, id='2995eb83-6d1f-4e26-8e42-35d23e41aba6'),\n",
       "  HumanMessage(content=\"I'm E\", additional_kwargs={}, response_metadata={}, id='e1d12a75-7d6e-4ada-83cf-fdf427aa3199')],\n",
       " 'fanout_values': [],\n",
       " 'which': 'bc'}"
      ]
     },
     "execution_count": 21,
     "metadata": {},
     "output_type": "execute_result"
    }
   ],
   "source": [
    "# Execute the Graph (set `which`:`bc`)\n",
    "graph.invoke({\"aggregate\": [], \"which\": \"bc\", \"fanout_values\": []})"
   ]
  },
  {
   "cell_type": "code",
   "execution_count": 22,
   "metadata": {},
   "outputs": [
    {
     "name": "stdout",
     "output_type": "stream",
     "text": [
      "Adding I'm A to []\n",
      "Adding I'm C to [HumanMessage(content=\"I'm A\", additional_kwargs={}, response_metadata={}, id='4fe0ee50-bc50-4d3e-bb39-3c90611181b7')] in parallel.\n",
      "Adding I'm D to [HumanMessage(content=\"I'm A\", additional_kwargs={}, response_metadata={}, id='4fe0ee50-bc50-4d3e-bb39-3c90611181b7')] in parallel.\n",
      "[{'value': [\"I'm C\"], 'reliability': 0.9}, {'value': [\"I'm D\"], 'reliability': 0.5}]\n"
     ]
    },
    {
     "data": {
      "text/plain": [
       "{'aggregate': [HumanMessage(content=\"I'm A\", additional_kwargs={}, response_metadata={}, id='4fe0ee50-bc50-4d3e-bb39-3c90611181b7'),\n",
       "  HumanMessage(content=\"I'm C\", additional_kwargs={}, response_metadata={}, id='39791792-debd-4cd5-b695-2bb4f733a41c'),\n",
       "  HumanMessage(content=\"I'm D\", additional_kwargs={}, response_metadata={}, id='88c3d847-f7f2-47e5-a906-7863c85de230'),\n",
       "  HumanMessage(content=\"I'm E\", additional_kwargs={}, response_metadata={}, id='c191c77e-d0ca-4223-bb3f-4d2d2d3d7e21')],\n",
       " 'fanout_values': [],\n",
       " 'which': 'cd'}"
      ]
     },
     "execution_count": 22,
     "metadata": {},
     "output_type": "execute_result"
    }
   ],
   "source": [
    "# Execute the Graph (set `which`:`cd`)\n",
    "graph.invoke({\"aggregate\": [], \"which\": \"cd\"})"
   ]
  },
  {
   "cell_type": "code",
   "execution_count": null,
   "metadata": {},
   "outputs": [],
   "source": []
  }
 ],
 "metadata": {
  "kernelspec": {
   "display_name": "langchain",
   "language": "python",
   "name": "python3"
  },
  "language_info": {
   "codemirror_mode": {
    "name": "ipython",
    "version": 3
   },
   "file_extension": ".py",
   "mimetype": "text/x-python",
   "name": "python",
   "nbconvert_exporter": "python",
   "pygments_lexer": "ipython3",
   "version": "3.10.16"
  }
 },
 "nbformat": 4,
 "nbformat_minor": 2
}
