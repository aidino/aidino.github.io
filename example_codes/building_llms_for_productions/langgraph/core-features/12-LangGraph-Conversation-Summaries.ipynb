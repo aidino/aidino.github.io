{
 "cells": [
  {
   "cell_type": "markdown",
   "metadata": {},
   "source": [
    "# Conversation Summaries with LangGraph\n",
    "\n",
    "Một trong những trường hợp sử dụng phổ biến nhất của việc duy trì cuộc trò chuyện là theo dõi lịch sử cuộc trò chuyện. Bằng cách tóm tắt và tham khảo các tin nhắn trước đây, chúng ta có thể duy trì ngữ cảnh thiết yếu mà không làm quá tải hệ thống với toàn bộ cuộc trò chuyện. Điều này đặc biệt quan trọng đối với các cuộc trò chuyện dài, nơi một cửa sổ ngữ cảnh lớn có thể dẫn đến tăng chi phí tính toán và khả năng không chính xác.\n",
    "\n",
    "Trong hướng dẫn này, chúng ta sẽ khám phá cách tóm tắt một cuộc trò chuyện và tích hợp bản tóm tắt đó vào trạng thái cuộc trò chuyện mới trong khi loại bỏ các tin nhắn cũ hơn. Cách tiếp cận này giúp quản lý độ dài cuộc trò chuyện trong một cửa sổ ngữ cảnh hạn chế, ngăn ngừa việc tăng chi phí hoặc thời gian suy luận không chủ ý.\n",
    "\n",
    "**Các bước chính:**\n",
    "\n",
    "1. Phát hiện xem một cuộc trò chuyện có quá dài hay không (ví dụ: dựa trên số lượng tin nhắn).\n",
    "2. Nếu vượt quá ngưỡng, hãy tóm tắt cuộc trò chuyện cho đến thời điểm đó.\n",
    "3. Loại bỏ các tin nhắn cũ hơn và chỉ lưu trữ bản tóm tắt (cộng với các tin nhắn gần đây nhất).\n",
    "\n",
    "Hướng dẫn này sẽ hướng dẫn bạn thiết lập một luồng cuộc trò chuyện tự động tóm tắt các tin nhắn cũ hơn và chỉ giữ lại các lượt trò chuyện gần đây và bản tóm tắt.\n"
   ]
  },
  {
   "cell_type": "markdown",
   "metadata": {},
   "source": [
    "## Checking the Conversation Length\n",
    "\n",
    "Dưới đây, chúng ta thiết lập `State` tùy chỉnh của mình để lưu trữ cả tin nhắn và bản tóm tắt. Chúng ta cũng sẽ định nghĩa một hàm trợ giúp trong một **ô riêng biệt** để xác định xem cuộc trò chuyện có vượt quá độ dài nhất định hay không.\n",
    "\n",
    "- Lớp `State` mở rộng `MessagesState`, giữ `messages` và `summary`.\n"
   ]
  },
  {
   "cell_type": "markdown",
   "metadata": {},
   "source": [
    "---\n",
    "**Note**:\n",
    "\n",
    "Trong thư viện `typing` của Python, `Literal` được sử dụng để chỉ định một tập hợp giá trị cụ thể mà một biến có thể nhận. Nó giúp kiểm soát kiểu dữ liệu một cách chặt chẽ hơn và hỗ trợ kiểm tra kiểu tĩnh với các công cụ như `mypy`.\n",
    "\n",
    "### Cách sử dụng `Literal`\n",
    "\n",
    "#### 1. Giới hạn giá trị của biến\n",
    "Bạn có thể sử dụng `Literal` để định nghĩa một biến chỉ có thể nhận một số giá trị cụ thể:\n",
    "\n",
    "```python\n",
    "from typing import Literal\n",
    "\n",
    "def get_status(status: Literal[\"success\", \"error\", \"pending\"]) -> str:\n",
    "    return f\"Status is {status}\"\n",
    "\n",
    "print(get_status(\"success\"))  # ✅ Hợp lệ\n",
    "print(get_status(\"error\"))    # ✅ Hợp lệ\n",
    "print(get_status(\"failed\"))   # ❌ Lỗi kiểm tra kiểu (mypy sẽ cảnh báo)\n",
    "```\n",
    "\n",
    "`Literal` giúp làm mã nguồn an toàn hơn và dễ kiểm soát lỗi hơn, đặc biệt khi làm việc với API hoặc cấu hình có giá trị cố định.\n",
    "\n",
    "---"
   ]
  },
  {
   "cell_type": "code",
   "execution_count": 5,
   "metadata": {},
   "outputs": [],
   "source": [
    "from typing import Literal, Annotated\n",
    "from langchain_ollama import ChatOllama\n",
    "from langchain_core.messages import SystemMessage, RemoveMessage, HumanMessage\n",
    "from langgraph.checkpoint.memory import MemorySaver\n",
    "from langgraph.graph import MessagesState, StateGraph, START, END\n",
    "from langgraph.graph.message import add_messages\n",
    "\n",
    "# Set up an in-memory storage for conversation states\n",
    "memory = MemorySaver()\n",
    "\n",
    "# We'll store both the conversation messages and the summary in the state\n",
    "class State(MessagesState):\n",
    "    messages: Annotated[list, add_messages]\n",
    "    summary: str\n",
    "    \n",
    "model = ChatOllama(model='qwen2.5:7b', temperature=0)\n"
   ]
  },
  {
   "cell_type": "markdown",
   "metadata": {},
   "source": [
    "Here is a separate code cell for the `should_continue` function, which checks if the conversation has more than 6 messages."
   ]
  },
  {
   "cell_type": "code",
   "execution_count": 7,
   "metadata": {},
   "outputs": [],
   "source": [
    "def should_continue(state: State) -> Literal[\"summarize_conversation\", END]:  # type: ignore\n",
    "    \"\"\"\n",
    "    Check if the conversation is too long (over 6 messages).\n",
    "    If it is, move to the 'summarize_conversation' node.\n",
    "    Otherwise, end the conversation.\n",
    "    \"\"\"\n",
    "    messages = state['messages']\n",
    "    if len(messages) > 6:\n",
    "        return \"summarize_conversation\"\n",
    "    return END\n",
    "    "
   ]
  },
  {
   "cell_type": "markdown",
   "metadata": {},
   "source": [
    "## Summarizing and Managing the Conversation\n",
    "\n",
    "Khi cuộc hội thoại vượt quá ngưỡng, chúng ta sẽ tóm tắt nó và xóa các tin nhắn cũ để chỉ giữ lại một phân đoạn gần đây và bản tóm tắt tổng thể. Chúng ta cũng tạo một node (`ask_llm`) để xử lý các tin nhắn mới, tùy chọn bao gồm bản tóm tắt hiện có.\n",
    "\n",
    "- `ask_llm` kiểm tra xem bản tóm tắt có tồn tại hay không và thêm nó vào đầu như một `SystemMessage` nếu có.\n"
   ]
  },
  {
   "cell_type": "code",
   "execution_count": 8,
   "metadata": {},
   "outputs": [],
   "source": [
    "def ask_llm(state: State):\n",
    "    \"\"\"\n",
    "    If a summary of the conversation already exists, we include it as a\n",
    "    system message. Otherwise, we just use the existing messages.\n",
    "    \"\"\"\n",
    "    summary = state.get('summary', '')\n",
    "    \n",
    "    if summary:\n",
    "        system_message = f\"This is the conversation summary so far: {summary}\"\n",
    "        messages = [SystemMessage(content=system_message)] + state['messages']\n",
    "    else:\n",
    "        messages = state[\"messages\"]\n",
    "    \n",
    "    response = model.invoke(messages)\n",
    "    return {\"messages\": [response]}\n",
    "    "
   ]
  },
  {
   "cell_type": "markdown",
   "metadata": {},
   "source": [
    "- `summarize_conversation` tạo hoặc mở rộng bản tóm tắt và xóa các tin nhắn cũ.\n"
   ]
  },
  {
   "cell_type": "code",
   "execution_count": 9,
   "metadata": {},
   "outputs": [],
   "source": [
    "def summarize_conversation(state: State):\n",
    "    \"\"\"\n",
    "    Summarize the conversation in English.\n",
    "    If an existing summary exists, extend it with new messages.\n",
    "    Delete older messages to reduce context usage,\n",
    "    keeping only the last two messages.\n",
    "    \"\"\"\n",
    "    summary = state.get(\"summary\", \"\")\n",
    "\n",
    "    if summary:\n",
    "        summary_message = (\n",
    "            f\"This is the conversation summary so far:\\n{summary}\\n\\n\"\n",
    "            \"Please extend the summary by incorporating any new messages.\"\n",
    "        )\n",
    "    else:\n",
    "        summary_message = \"Please create a concise summary of the conversation so far.\"\n",
    "\n",
    "    messages = state[\"messages\"] + [HumanMessage(content=summary_message)]\n",
    "    response = model.invoke(messages)\n",
    "\n",
    "    # Remove older messages, except the last two\n",
    "    delete_messages = [RemoveMessage(id=m.id) for m in state[\"messages\"][:-2]]\n",
    "\n",
    "    return {\"summary\": response.content, \"messages\": delete_messages}"
   ]
  },
  {
   "cell_type": "markdown",
   "metadata": {},
   "source": [
    "## Building Graph Workflow\n",
    "\n",
    "Dưới đây, chúng ta xây dựng một `StateGraph`, thêm các node của chúng ta, và biên dịch ứng dụng. Chúng ta cũng sử dụng `visualize_graph(app)` để xem cấu trúc của workflow.\n",
    "\n",
    "- Sử dụng `StateGraph` để định nghĩa các node và edges.\n",
    "- Sử dụng `visualize_graph(app)` để xem workflow.\n"
   ]
  },
  {
   "cell_type": "code",
   "execution_count": 10,
   "metadata": {},
   "outputs": [],
   "source": [
    "# Build the workflow graph\n",
    "workflow = StateGraph(State)\n",
    "\n",
    "# Add nodes\n",
    "workflow.add_node(\"conversation\", ask_llm)\n",
    "workflow.add_node(summarize_conversation)\n",
    "\n",
    "# Define edges\n",
    "workflow.add_edge(START, \"conversation\")\n",
    "workflow.add_conditional_edges(\"conversation\", should_continue)\n",
    "workflow.add_edge(\"summarize_conversation\", END)\n",
    "\n",
    "# Compile with memory checkpoint\n",
    "app = workflow.compile(checkpointer=memory)"
   ]
  },
  {
   "cell_type": "markdown",
   "metadata": {},
   "source": [
    "Dưới đây là một đoạn mã ví dụ minh họa đồ thị workflow hiện tại. Chúng ta định nghĩa các kiểu node tùy chỉnh cho đồ thị và sau đó sử dụng các tiện ích IPython để hiển thị hình ảnh đã được render nội tuyến. Data class `NodeStyles` tùy chỉnh màu nền, kiểu đường viền và giao diện tổng thể của các node.\n"
   ]
  },
  {
   "cell_type": "code",
   "execution_count": 11,
   "metadata": {},
   "outputs": [
    {
     "data": {
      "image/png": "[encoded data removed]",
      "text/plain": [
       "<IPython.core.display.Image object>"
      ]
     },
     "metadata": {},
     "output_type": "display_data"
    }
   ],
   "source": [
    "# Required imports for graph visualization\n",
    "from IPython.display import Image, display\n",
    "from dataclasses import dataclass\n",
    "\n",
    "\n",
    "@dataclass\n",
    "class NodeStyles:\n",
    "    \"\"\"\n",
    "    A data class defining styles for graph nodes.\n",
    "    \"\"\"\n",
    "\n",
    "    # Style for default nodes\n",
    "    default: str = (\n",
    "        \"fill:#45C4B0, fill-opacity:0.3, color:#23260F, \"\n",
    "        \"stroke:#45C4B0, stroke-width:1px, font-weight:bold, line-height:1.2\"\n",
    "    )\n",
    "    # Style for first node (e.g., start node)\n",
    "    first: str = (\n",
    "        \"fill:#45C4B0, fill-opacity:0.1, color:#23260F, \"\n",
    "        \"stroke:#45C4B0, stroke-width:1px, font-weight:normal, \"\n",
    "        \"font-style:italic, stroke-dasharray:2,2\"\n",
    "    )\n",
    "    # Style for last node (e.g., end node)\n",
    "    last: str = (\n",
    "        \"fill:#45C4B0, fill-opacity:1, color:#000000, \"\n",
    "        \"stroke:#45C4B0, stroke-width:1px, font-weight:normal, \"\n",
    "        \"font-style:italic, stroke-dasharray:2,2\"\n",
    "    )\n",
    "\n",
    "\n",
    "# Display the workflow graph with the defined node styles\n",
    "display(\n",
    "    Image(\n",
    "        app.get_graph().draw_mermaid_png(\n",
    "            background_color=\"white\", node_colors=NodeStyles()\n",
    "        )\n",
    "    )\n",
    ")"
   ]
  },
  {
   "cell_type": "markdown",
   "metadata": {},
   "source": [
    "## Running Workflow\n",
    "\n",
    "Bạn có thể tương tác với ứng dụng bằng cách gửi tin nhắn. Khi cuộc trò chuyện vượt quá 6 tin nhắn, nó sẽ tự động tóm tắt và rút gọn.\n",
    "\n",
    "- Phương thức `app.stream` xử lý việc truyền phát (streaming) tin nhắn và kích hoạt các node tương ứng.\n",
    "- Kiểm tra trạng thái nội bộ với `app.get_state(config)` để xem tin nhắn và bản tóm tắt được cập nhật như thế nào.\n"
   ]
  },
  {
   "cell_type": "markdown",
   "metadata": {},
   "source": [
    "Here is a helper function, `print_update`, which prints updates in real time during streaming."
   ]
  },
  {
   "cell_type": "code",
   "execution_count": 12,
   "metadata": {},
   "outputs": [],
   "source": [
    "def print_update(update):\n",
    "    \"\"\"\n",
    "    Helper function to print out updates during streaming.\n",
    "    \"\"\"\n",
    "    for k, v in update.items():\n",
    "        for m in v.get(\"messages\", []):\n",
    "            m.pretty_print()\n",
    "        if \"summary\" in v:\n",
    "            print(v[\"summary\"])"
   ]
  },
  {
   "cell_type": "markdown",
   "metadata": {},
   "source": [
    "Dưới đây là một cell mã đơn lẻ minh họa cách chúng ta xử lý tin nhắn người dùng và xử lý chúng thông qua chế độ streaming. Chúng ta import `HumanMessage`, cấu hình session với một thread ID, và gửi ba tin nhắn người dùng theo trình tự. Sau mỗi tin nhắn, các cập nhật được streaming và in ra theo thời gian thực.\n"
   ]
  },
  {
   "cell_type": "code",
   "execution_count": 13,
   "metadata": {},
   "outputs": [
    {
     "name": "stdout",
     "output_type": "stream",
     "text": [
      "================================\u001b[1m Human Message \u001b[0m=================================\n",
      "\n",
      "Hello! Nice to meet you. My name is Dino.\n",
      "==================================\u001b[1m Ai Message \u001b[0m==================================\n",
      "\n",
      "Hello Dino, nice to meet you too! How can I assist you today? Feel free to ask me any questions or let me know if there's anything specific you'd like to discuss.\n",
      "================================\u001b[1m Human Message \u001b[0m=================================\n",
      "\n",
      "Do you remember my name?\n",
      "==================================\u001b[1m Ai Message \u001b[0m==================================\n",
      "\n",
      "Yes, I remember your name is Dino. It's nice to see you again! Is there anything in particular you'd like to talk about or any questions you have?\n",
      "================================\u001b[1m Human Message \u001b[0m=================================\n",
      "\n",
      "I am working as an AI researcher.\n",
      "==================================\u001b[1m Ai Message \u001b[0m==================================\n",
      "\n",
      "That's great to hear! As an AI researcher, you must be at the forefront of innovation and development. What specific areas of AI are you focusing on? Are there any particular challenges or advancements you're currently exploring? I'd love to hear more about your work!\n"
     ]
    }
   ],
   "source": [
    "from langchain_core.runnables import RunnableConfig\n",
    "# Initialize a configuration object with thread ID\n",
    "# config = {\"configurable\": {\"thread_id\": \"1\"}}\n",
    "config = RunnableConfig(configurable={\"thread_id\": \"1\"})\n",
    "\n",
    "# 1) First user message\n",
    "input_message = HumanMessage(content=\"Hello! Nice to meet you. My name is Dino.\")\n",
    "input_message.pretty_print()\n",
    "\n",
    "# Process the first message in streaming mode and print updates\n",
    "for event in app.stream({\"messages\": [input_message]}, config, stream_mode=\"updates\"):\n",
    "    print_update(event)\n",
    "\n",
    "# 2) Second user message\n",
    "input_message = HumanMessage(content=\"Do you remember my name?\")\n",
    "input_message.pretty_print()\n",
    "\n",
    "# Process the second message in streaming mode and print updates\n",
    "for event in app.stream({\"messages\": [input_message]}, config, stream_mode=\"updates\"):\n",
    "    print_update(event)\n",
    "\n",
    "# 3) Third user message\n",
    "input_message = HumanMessage(content=\"I am working as an AI researcher.\")\n",
    "input_message.pretty_print()\n",
    "\n",
    "# Process the third message in streaming mode and print updates\n",
    "for event in app.stream({\"messages\": [input_message]}, config, stream_mode=\"updates\"):\n",
    "    print_update(event)"
   ]
  },
  {
   "cell_type": "code",
   "execution_count": 14,
   "metadata": {},
   "outputs": [
    {
     "data": {
      "text/plain": [
       "{'messages': [HumanMessage(content='Hello! Nice to meet you. My name is Dino.', additional_kwargs={}, response_metadata={}, id='97115ec8-29ac-436e-87b8-8803aa2aea0c'),\n",
       "  AIMessage(content=\"Hello Dino, nice to meet you too! How can I assist you today? Feel free to ask me any questions or let me know if there's anything specific you'd like to discuss.\", additional_kwargs={}, response_metadata={'model': 'qwen2.5:7b', 'created_at': '2025-03-24T16:38:34.279852Z', 'done': True, 'done_reason': 'stop', 'total_duration': 7880494600, 'load_duration': 6877948400, 'prompt_eval_count': 42, 'prompt_eval_duration': 368879500, 'eval_count': 40, 'eval_duration': 628920600, 'message': {'role': 'assistant', 'content': '', 'images': None, 'tool_calls': None}}, id='run-f4ddde7d-5aa7-4296-8fc2-b59d93087e17-0', usage_metadata={'input_tokens': 42, 'output_tokens': 40, 'total_tokens': 82}),\n",
       "  HumanMessage(content='Do you remember my name?', additional_kwargs={}, response_metadata={}, id='f64ebaae-f1e0-470c-95a5-8e7d5d374962'),\n",
       "  AIMessage(content=\"Yes, I remember your name is Dino. It's nice to see you again! Is there anything in particular you'd like to talk about or any questions you have?\", additional_kwargs={}, response_metadata={'model': 'qwen2.5:7b', 'created_at': '2025-03-24T16:38:34.8833926Z', 'done': True, 'done_reason': 'stop', 'total_duration': 598642000, 'load_duration': 19207000, 'prompt_eval_count': 97, 'prompt_eval_duration': 20198300, 'eval_count': 36, 'eval_duration': 553517300, 'message': {'role': 'assistant', 'content': '', 'images': None, 'tool_calls': None}}, id='run-c1a20453-ba9c-4f5f-bc9d-95112c9ad7e5-0', usage_metadata={'input_tokens': 97, 'output_tokens': 36, 'total_tokens': 133}),\n",
       "  HumanMessage(content='I am working as an AI researcher.', additional_kwargs={}, response_metadata={}, id='b7cb15e1-abfd-4ae7-a8a0-88ff8c02844f'),\n",
       "  AIMessage(content=\"That's great to hear! As an AI researcher, you must be at the forefront of innovation and development. What specific areas of AI are you focusing on? Are there any particular challenges or advancements you're currently exploring? I'd love to hear more about your work!\", additional_kwargs={}, response_metadata={'model': 'qwen2.5:7b', 'created_at': '2025-03-24T16:38:35.7582631Z', 'done': True, 'done_reason': 'stop', 'total_duration': 873815500, 'load_duration': 22591800, 'prompt_eval_count': 150, 'prompt_eval_duration': 11908400, 'eval_count': 55, 'eval_duration': 831346100, 'message': {'role': 'assistant', 'content': '', 'images': None, 'tool_calls': None}}, id='run-eb01685f-9497-4023-9d63-abbe299df03c-0', usage_metadata={'input_tokens': 150, 'output_tokens': 55, 'total_tokens': 205})]}"
      ]
     },
     "execution_count": 14,
     "metadata": {},
     "output_type": "execute_result"
    }
   ],
   "source": [
    "values = app.get_state(config).values\n",
    "values"
   ]
  },
  {
   "cell_type": "code",
   "execution_count": 15,
   "metadata": {},
   "outputs": [
    {
     "name": "stdout",
     "output_type": "stream",
     "text": [
      "================================\u001b[1m Human Message \u001b[0m=================================\n",
      "\n",
      "I'm recently learning more about LLMs. I'm reading the latest papers on LLM.\n",
      "==================================\u001b[1m Ai Message \u001b[0m==================================\n",
      "\n",
      "That sounds fascinating! Large Language Models (LLMs) are indeed a hot topic in AI research, and there's always new and exciting developments happening in this field.\n",
      "\n",
      "What specific aspects of LLMs are you finding particularly interesting? Are there any particular challenges or advancements that you're focusing on in your reading? For example, topics like:\n",
      "\n",
      "- **Model Architecture**: How the architecture of these models is evolving.\n",
      "- **Training Techniques**: New methods for training large language models more efficiently.\n",
      "- **Evaluation Metrics**: New ways to evaluate the performance and effectiveness of LLMs.\n",
      "- **Applications**: Innovative applications of LLMs in various domains such as natural language understanding, generation, translation, etc.\n",
      "\n",
      "Feel free to share any specific papers or areas you're interested in, and I can provide some insights or discuss related topics!\n",
      "================================\u001b[1m Remove Message \u001b[0m================================\n",
      "\n",
      "\n",
      "================================\u001b[1m Remove Message \u001b[0m================================\n",
      "\n",
      "\n",
      "================================\u001b[1m Remove Message \u001b[0m================================\n",
      "\n",
      "\n",
      "================================\u001b[1m Remove Message \u001b[0m================================\n",
      "\n",
      "\n",
      "================================\u001b[1m Remove Message \u001b[0m================================\n",
      "\n",
      "\n",
      "================================\u001b[1m Remove Message \u001b[0m================================\n",
      "\n",
      "\n",
      "Sure, here's a concise summary of our conversation so far:\n",
      "\n",
      "1. **Introduction**: You introduced yourself as Dino, an AI researcher.\n",
      "2. **Interest in LLMs**: You mentioned that you are currently learning more about Large Language Models (LLMs) and reading the latest papers on them.\n",
      "\n",
      "Is there anything else you'd like to add or discuss further?\n"
     ]
    }
   ],
   "source": [
    "# Create a new user message\n",
    "input_message = HumanMessage(\n",
    "    content=\"I'm recently learning more about LLMs. I'm reading the latest papers on LLM.\"\n",
    ")\n",
    "\n",
    "# Display the message content\n",
    "input_message.pretty_print()\n",
    "\n",
    "# Process and print updates in streaming mode\n",
    "for event in app.stream({\"messages\": [input_message]}, config, stream_mode=\"updates\"):\n",
    "    print_update(event)"
   ]
  },
  {
   "cell_type": "code",
   "execution_count": 16,
   "metadata": {},
   "outputs": [
    {
     "data": {
      "text/plain": [
       "{'messages': [HumanMessage(content=\"I'm recently learning more about LLMs. I'm reading the latest papers on LLM.\", additional_kwargs={}, response_metadata={}, id='dbb2a10b-36ad-4007-bf29-da94d0da4ac1'),\n",
       "  AIMessage(content=\"That sounds fascinating! Large Language Models (LLMs) are indeed a hot topic in AI research, and there's always new and exciting developments happening in this field.\\n\\nWhat specific aspects of LLMs are you finding particularly interesting? Are there any particular challenges or advancements that you're focusing on in your reading? For example, topics like:\\n\\n- **Model Architecture**: How the architecture of these models is evolving.\\n- **Training Techniques**: New methods for training large language models more efficiently.\\n- **Evaluation Metrics**: New ways to evaluate the performance and effectiveness of LLMs.\\n- **Applications**: Innovative applications of LLMs in various domains such as natural language understanding, generation, translation, etc.\\n\\nFeel free to share any specific papers or areas you're interested in, and I can provide some insights or discuss related topics!\", additional_kwargs={}, response_metadata={'model': 'qwen2.5:7b', 'created_at': '2025-03-24T16:39:09.5058424Z', 'done': True, 'done_reason': 'stop', 'total_duration': 2806947900, 'load_duration': 18877800, 'prompt_eval_count': 234, 'prompt_eval_duration': 115647500, 'eval_count': 166, 'eval_duration': 2663108800, 'message': {'role': 'assistant', 'content': '', 'images': None, 'tool_calls': None}}, id='run-ebf3e0f6-5e31-4ee5-808e-f4c943b89a08-0', usage_metadata={'input_tokens': 234, 'output_tokens': 166, 'total_tokens': 400})],\n",
       " 'summary': \"Sure, here's a concise summary of our conversation so far:\\n\\n1. **Introduction**: You introduced yourself as Dino, an AI researcher.\\n2. **Interest in LLMs**: You mentioned that you are currently learning more about Large Language Models (LLMs) and reading the latest papers on them.\\n\\nIs there anything else you'd like to add or discuss further?\"}"
      ]
     },
     "execution_count": 16,
     "metadata": {},
     "output_type": "execute_result"
    }
   ],
   "source": [
    "# Check the conversation state again to see the new summary\n",
    "values = app.get_state(config).values\n",
    "values"
   ]
  },
  {
   "cell_type": "markdown",
   "metadata": {},
   "source": [
    "Như bạn có thể thấy, bản tóm tắt đã được thêm vào, và các tin nhắn cũ hơn đã được thay thế bằng các hành động `RemoveMessage`. Chỉ còn lại các tin nhắn gần đây nhất và bản tóm tắt mới được tạo.\n",
    "\n",
    "Bây giờ bạn có thể tiếp tục cuộc trò chuyện, và mặc dù chỉ có hai tin nhắn cuối cùng hiển thị, hệ thống vẫn giữ lại ngữ cảnh tổng thể thông qua bản tóm tắt.\n"
   ]
  },
  {
   "cell_type": "code",
   "execution_count": 17,
   "metadata": {},
   "outputs": [
    {
     "name": "stdout",
     "output_type": "stream",
     "text": [
      "================================\u001b[1m Human Message \u001b[0m=================================\n",
      "\n",
      "Do you remember my name?\n",
      "==================================\u001b[1m Ai Message \u001b[0m==================================\n",
      "\n",
      "I don't have a record of your name from previous interactions. If you'd like to introduce yourself again, that would be great! For now, let's continue our discussion about LLMs. You mentioned you're reading the latest papers on them. Are there any specific areas or challenges in LLMs that particularly interest you?\n"
     ]
    }
   ],
   "source": [
    "# Create a user message asking if the assistant remembers the user's name\n",
    "input_message = HumanMessage(content=\"Do you remember my name?\")\n",
    "input_message.pretty_print()\n",
    "\n",
    "# Process in streaming mode\n",
    "for event in app.stream({\"messages\": [input_message]}, config, stream_mode=\"updates\"):\n",
    "    print_update(event)"
   ]
  },
  {
   "cell_type": "code",
   "execution_count": 18,
   "metadata": {},
   "outputs": [
    {
     "name": "stdout",
     "output_type": "stream",
     "text": [
      "================================\u001b[1m Human Message \u001b[0m=================================\n",
      "\n",
      "Do you also recall my occupation?\n",
      "==================================\u001b[1m Ai Message \u001b[0m==================================\n",
      "\n",
      "I don't have a record of your occupation from previous interactions. If you'd like to share it, that would be helpful! Otherwise, let's continue our discussion about Large Language Models (LLMs). You mentioned you are reading the latest papers on LLMs. Are there any specific areas or challenges in LLMs that particularly interest you?\n"
     ]
    }
   ],
   "source": [
    "# Create another user message asking about the user's occupation\n",
    "input_message = HumanMessage(content=\"Do you also recall my occupation?\")\n",
    "input_message.pretty_print()\n",
    "\n",
    "# Process in streaming mode\n",
    "for event in app.stream({\"messages\": [input_message]}, config, stream_mode=\"updates\"):\n",
    "    print_update(event)"
   ]
  },
  {
   "cell_type": "code",
   "execution_count": null,
   "metadata": {},
   "outputs": [],
   "source": []
  }
 ],
 "metadata": {
  "kernelspec": {
   "display_name": "langchain",
   "language": "python",
   "name": "python3"
  },
  "language_info": {
   "codemirror_mode": {
    "name": "ipython",
    "version": 3
   },
   "file_extension": ".py",
   "mimetype": "text/x-python",
   "name": "python",
   "nbconvert_exporter": "python",
   "pygments_lexer": "ipython3",
   "version": "3.10.16"
  }
 },
 "nbformat": 4,
 "nbformat_minor": 2
}
