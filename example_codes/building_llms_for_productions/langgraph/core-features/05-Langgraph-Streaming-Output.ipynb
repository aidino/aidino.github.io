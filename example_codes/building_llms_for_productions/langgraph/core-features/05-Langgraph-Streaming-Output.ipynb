{
 "cells": [
  {
   "cell_type": "markdown",
   "metadata": {},
   "source": [
    "# LangGraph Streaming Outputs\n",
    "\n",
    "**LangGraph Streaming Outputs (Luồng Đầu ra LangGraph)** khám phá khả năng phát luồng từng bước trong LangGraph.\n",
    "\n",
    "Phương pháp này cho phép các nhà phát triển quan sát và tương tác với từng giai đoạn xử lý đồ thị trong thời gian thực, cung cấp thông tin chi tiết về hoạt động bên trong và tiến trình của các phép tính đồ thị.\n",
    "\n",
    "- **Step-by-Step Streaming (Phát luồng từng bước)**\n",
    "   Chức năng phát luồng chia quá trình thực thi đồ thị thành các bước riêng lẻ, cung cấp đầu ra chi tiết ở mỗi giai đoạn. Điều này giúp gỡ lỗi và hiểu cách dữ liệu luân chuyển qua đồ thị, cũng như cách đưa ra quyết định trên đường đi, trở nên dễ dàng hơn.\n",
    "\n",
    "- **Real-Time Feedback (Phản hồi theo thời gian thực)**\n",
    "   Bằng cách tận dụng đầu ra phát luồng, người dùng nhận được phản hồi ngay lập tức từ hệ thống. Sự tương tác theo thời gian thực này có thể nâng cao đáng kể quá trình gỡ lỗi và khả năng tinh chỉnh cấu hình đồ thị một cách nhanh chóng.\n",
    "\n",
    "- **Enhanced Transparency and Control (Tăng cường tính minh bạch và kiểm soát)**\n",
    "   Đầu ra phát luồng mang lại tính minh bạch cao hơn cho việc thực thi các pipeline LangGraph. Người dùng có thể theo dõi từng phép biến đổi hoặc tính toán, cho phép kiểm soát chính xác hơn quá trình và tạo điều kiện hiểu sâu hơn về các quy trình làm việc dựa trên đồ thị phức tạp.\n"
   ]
  },
  {
   "cell_type": "code",
   "execution_count": 1,
   "metadata": {},
   "outputs": [],
   "source": [
    "from typing import Annotated, TypedDict, List, Dict\n",
    "from langchain_core.tools import tool\n",
    "from langchain_ollama import ChatOllama\n",
    "from langgraph.checkpoint.memory import MemorySaver\n",
    "from langgraph.graph import StateGraph, START, END\n",
    "from langgraph.graph.message import add_messages\n",
    "from langgraph.prebuilt import ToolNode, tools_condition\n",
    "from GoogleNews import GoogleNews"
   ]
  },
  {
   "cell_type": "code",
   "execution_count": 15,
   "metadata": {},
   "outputs": [
    {
     "data": {
      "image/png": "[encoded data removed]",
      "text/plain": [
       "<langgraph.graph.state.CompiledStateGraph object at 0x0000018250C42770>"
      ]
     },
     "execution_count": 15,
     "metadata": {},
     "output_type": "execute_result"
    }
   ],
   "source": [
    "# 1. State Definition\n",
    "from unittest import result\n",
    "\n",
    "\n",
    "class State(TypedDict):\n",
    "    # Define messages (a list type, with the add_messages function used to append messages)\n",
    "    messages: Annotated[list, add_messages]\n",
    "    dummy_data: Annotated[str, \"dummy\"]\n",
    "\n",
    "# 2. Tool definition and binding tool\n",
    "# news_tool = GoogleNews()\n",
    "\n",
    "@tool\n",
    "def search_keyword(query: str) -> List[Dict[str, str]]:\n",
    "    \"\"\"Look up news by keyword\"\"\"\n",
    "    news_tool = GoogleNews()\n",
    "    news_tool.search(query)\n",
    "    results = news_tool.results(sort=True)\n",
    "    # Limit to top 5 results\n",
    "    limited_results = results[:5] if results else []\n",
    "    # Extract title and link from each result\n",
    "    return [{\"title\": item[\"title\"], \"link\": item[\"link\"]} for item in limited_results]\n",
    "\n",
    "tools = [search_keyword]\n",
    "\n",
    "llm = ChatOllama(model='mistral:7b', temperature=0)\n",
    "llm_with_tools = llm.bind_tools(tools)\n",
    "\n",
    "### 3. Add node\n",
    "\n",
    "def chatbot(state: State):\n",
    "    # Invoke and return messages\n",
    "    return {\n",
    "        \"messages\": [llm_with_tools.invoke(state[\"messages\"])],\n",
    "        \"dummy_data\": \"[chatbot] called, dummy data\",  # Add dummy data for testing\n",
    "    }\n",
    "\n",
    "graph_builder = StateGraph(State)\n",
    "\n",
    "graph_builder.add_node(\"chatbot\", chatbot)\n",
    "\n",
    "tool_node = ToolNode(tools)\n",
    "graph_builder.add_node(\"tools\", tool_node)\n",
    "\n",
    "graph_builder.add_conditional_edges(\n",
    "    \"chatbot\",\n",
    "    tools_condition\n",
    ")\n",
    "\n",
    "# 4. Edge\n",
    "graph_builder.add_edge(START, \"chatbot\")\n",
    "graph_builder.add_edge(\"tools\", \"chatbot\")\n",
    "graph_builder.add_edge(\"chatbot\", END)\n",
    "\n",
    "graph = graph_builder.compile()\n",
    "graph"
   ]
  },
  {
   "cell_type": "code",
   "execution_count": 16,
   "metadata": {},
   "outputs": [
    {
     "data": {
      "text/plain": [
       "[{'title': 'Bộ trưởng Công Thương: Mua 0 đồng điện mặt trời mái nhà để ngăn trục lợi',\n",
       "  'link': 'https://vnexpress.net/dien-mat-troi-mai-nha-tu-dung-ban-0-dong-de-ngan-truc-loi-4738446.html&ved=2ahUKEwjRhMCYlp6MAxW8kVYBHXzDJawQxfQBegQIBBAC&usg=AOvVaw0XBHsvmBkk_cnZqt-aeyVq'},\n",
       " {'title': 'Chờ 30 Tết mua đào, quất giá rẻ',\n",
       "  'link': 'https://vnexpress.net/cho-30-tet-mua-dao-quat-gia-re-4843230.html&ved=2ahUKEwjRhMCYlp6MAxW8kVYBHXzDJawQxfQBegQIChAC&usg=AOvVaw2TD4Bm19FX8HwaTc7o2w-Q'},\n",
       " {'title': 'Tổng Bí thư giải thích nguyên nhân tinh gọn bộ máy trước Đại hội Đảng 14',\n",
       "  'link': 'https://vnexpress.net/tong-bi-thu-giai-thich-nguyen-nhan-tinh-gon-bo-may-truoc-dai-hoi-dang-14-4849055.html&ved=2ahUKEwjRhMCYlp6MAxW8kVYBHXzDJawQxfQBegQICBAC&usg=AOvVaw3RwidaDncrmgDoVT5IMbeO'},\n",
       " {'title': 'Giá chung cư tại TP. Hồ Chí Minh - cập nhật mới nhất hiện nay',\n",
       "  'link': 'https://baothanhhoa.vn/gia-chung-cu-tai-tp-ho-chi-minh-cap-nhat-moi-nhat-hien-nay-233821.htm&ved=2ahUKEwjRhMCYlp6MAxW8kVYBHXzDJawQxfQBegQIAxAC&usg=AOvVaw3dXEFh2yeZZmNBGSASzpay'},\n",
       " {'title': 'Tuyến đường sắt nối với Trung Quốc dự kiến khởi công vào 2025',\n",
       "  'link': 'https://vnexpress.net/tuyen-duong-sat-noi-voi-trung-quoc-du-kien-khoi-cong-vao-2025-4812976.html&ved=2ahUKEwjRhMCYlp6MAxW8kVYBHXzDJawQxfQBegQIBRAC&usg=AOvVaw2PgWKvyiiUNnngIDh-VWRP'}]"
      ]
     },
     "execution_count": 16,
     "metadata": {},
     "output_type": "execute_result"
    }
   ],
   "source": [
    "question = \"Thông tin giá nhà đất mới nhất ở Hà Nội\"\n",
    "\n",
    "search_keyword(question)"
   ]
  },
  {
   "cell_type": "markdown",
   "metadata": {},
   "source": [
    "## The stream Method of StateGraph\n",
    "\n",
    "Phương thức `stream` cung cấp khả năng phát trực tuyến (stream) các bước đồ thị cho một đầu vào đơn lẻ.\n",
    "\n",
    "**Tham số**\n",
    "- `input` (`Union[dict[str, Any], Any]` ) : Đầu vào cho đồ thị\n",
    "- `config` (`Optional[RunnableConfig]` ) : Cấu hình thực thi\n",
    "- `stream_mode` (`Optional[Union[StreamMode, list[StreamMode]]]` ) : Chế độ phát trực tuyến đầu ra\n",
    "- `output_keys` (`Optional[Union[str, Sequence[str]]]` ) : Các khóa (keys) để phát trực tuyến\n",
    "- `interrupt_before` (`Optional[Union[All, Sequence[str]]]` ) : Các nút (nodes) để ngắt trước khi thực thi\n",
    "- `interrupt_after` (`Optional[Union[All, Sequence[str]]]` ) : Các nút (nodes) để ngắt sau khi thực thi\n",
    "- `debug` (`Optional[bool]` ) : Có xuất thông tin gỡ lỗi (debug) hay không\n",
    "- `subgraphs` (`bool`) : Có phát trực tuyến các đồ thị con (subgraphs) hay không\n",
    "\n",
    "**Trả về**\n",
    "- `Iterator[Union[dict[str, Any], Any]]` : Đầu ra từ mỗi bước của đồ thị. Định dạng đầu ra phụ thuộc vào `stream_mode` .\n",
    "\n",
    "**Các tính năng chính**\n",
    "1. Xử lý việc thực thi đồ thị theo kiểu phát trực tuyến (streaming) theo cấu hình đã cho\n",
    "2. Hỗ trợ nhiều chế độ phát trực tuyến (`values`, `updates`, `debug`)\n",
    "3. Quản lý các callbacks và xử lý lỗi\n",
    "4. Xử lý giới hạn đệ quy (recursion limits) và điều kiện ngắt (interruption conditions)\n",
    "\n",
    "**Các chế độ phát trực tuyến**\n",
    "- `values` : Xuất các giá trị trạng thái hiện tại ở mỗi bước\n",
    "- `updates` : Chỉ xuất các cập nhật trạng thái ở mỗi bước\n",
    "- `debug` : Xuất các sự kiện gỡ lỗi (debug events) ở mỗi bước\n"
   ]
  },
  {
   "cell_type": "code",
   "execution_count": 17,
   "metadata": {},
   "outputs": [],
   "source": [
    "from langchain_core.runnables import RunnableConfig\n",
    "\n",
    "question = \"Thông tin giá nhà đất mới nhất ở Hà Nội\"\n",
    "\n",
    "input = State(\n",
    "    messages=[(\"user\", question)],\n",
    "    dummy_data=\"Test string\"\n",
    ")\n",
    "\n",
    "# Configure config\n",
    "config = RunnableConfig(\n",
    "    recursion_limit=10,\n",
    "    configurable={\"thread_id\": \"1\"},\n",
    "    tags=[\"my-tag\"]\n",
    ")"
   ]
  },
  {
   "cell_type": "code",
   "execution_count": 18,
   "metadata": {},
   "outputs": [
    {
     "name": "stdout",
     "output_type": "stream",
     "text": [
      "\n",
      "[ chatbot ]\n",
      "\n",
      "==================================\u001b[1m Ai Message \u001b[0m==================================\n",
      "Tool Calls:\n",
      "  search_keyword (b69aac49-48e7-4de0-80d4-2dc6b9b75201)\n",
      " Call ID: b69aac49-48e7-4de0-80d4-2dc6b9b75201\n",
      "  Args:\n",
      "    query: giá nhà đất mới nhất ở Hà Nội\n",
      "\n",
      "[ tools ]\n",
      "\n",
      "=================================\u001b[1m Tool Message \u001b[0m=================================\n",
      "Name: search_keyword\n",
      "\n",
      "[{\"title\": \"Viet Nam is fastest growing country in Southeast Asia: USABC President\", \"link\": \"https://thoibaotaichinhvietnam.vn/viet-nam-is-fastest-growing-country-in-southeast-asia-usabc-president-172803.html&ved=2ahUKEwjXl86dlp6MAxXf3zQHHReQKDoQxfQBegQIARAC&usg=AOvVaw3vVa7tnnfaV5sTZyqNfPvC\"}, {\"title\": \"Vinh Phuc starts construction of social housing project in Phuc Yen city\", \"link\": \"https://baohaiduong.vn/en/vinh-phuc-khoi-cong-du-an-nha-o-xa-hoi-o-tp-phuc-yen-406128.html&ved=2ahUKEwjXl86dlp6MAxXf3zQHHReQKDoQxfQBegQICBAC&usg=AOvVaw2F7umDmSyzomB5yj2x9Dv7\"}, {\"title\": \"Vietnam, RoK strengthen energy cooperation\", \"link\": \"https://thoibaotaichinhvietnam.vn/vietnam-rok-strengthen-energy-cooperation-171346.html&ved=2ahUKEwjXl86dlp6MAxXf3zQHHReQKDoQxfQBegQIChAC&usg=AOvVaw2WH10sCD2ha0TnEhHX3EP9\"}, {\"title\": \"Opportunities and challenges in Vietnam's crypto boom\", \"link\": \"https://thoibaotaichinhvietnam.vn/opportunities-and-challenges-in-vietnams-crypto-boom-169680.html&ved=2ahUKEwjXl86dlp6MAxXf3zQHHReQKDoQxfQBegQIBBAC&usg=AOvVaw195915QUbKXyrrXBCgVq1C\"}, {\"title\": \"Hanoi housing prices differ greatly from actual incomes\", \"link\": \"https://baohaiduong.vn/en/gia-nha-ha-noi-chenh-lech-lon-so-voi-thu-nhap-thuc-te-404821.html&ved=2ahUKEwjXl86dlp6MAxXf3zQHHReQKDoQxfQBegQIBxAC&usg=AOvVaw1b6EAnNCkprjCIsPkOMGoK\"}]\n",
      "\n",
      "[ chatbot ]\n",
      "\n",
      "==================================\u001b[1m Ai Message \u001b[0m==================================\n",
      "\n",
      "Đây là các bài viết liên quan đến giá nhà đất mới nhất ở Hà Nội:\n",
      "\n",
      "1. [Viet Nam is fastest growing country in Southeast Asia: USABC President](https://thoibaotaichinhvietnam.vn/viet-nam-is-fastest-growing-country-in-southeast-asia-usabc-president-172803.html)\n",
      "2. [Vinh Phuc starts construction of social housing project in Phuc Yen city](https://baohaiduong.vn/en/vinh-phuc-khoi-cong-du-an-nha-o-xa-hoi-o-tp-phuc-yen-406128.html)\n",
      "3. [Vietnam, RoK strengthen energy cooperation](https://thoibaotaichinhvietnam.vn/vietnam-rok-strengthen-energy-cooperation-171346.html)\n",
      "4. [Opportunities and challenges in Vietnam's crypto boom](https://thoibaotaichinhvietnam.vn/opportunities-and-challenges-in-vietnams-crypto-boom-169680.html)\n",
      "5. [Hanoi housing prices differ greatly from actual incomes](https://baohaiduong.vn/en/gia-nha-ha-noi-chenh-lech-lon-so-voi-thu-nhap-thuc-te-404821.html)\n",
      "\n",
      "Bạn có thể tìm hiểu thêm về giá nhà đất mới nhất ở Hà Nội bằng cách đọc các bài viết trên.\n"
     ]
    }
   ],
   "source": [
    "for event in graph.stream(input=input, config=config):\n",
    "    for key, value in event.items():\n",
    "        print(f\"\\n[ {key} ]\\n\")\n",
    "        # If messages exist in value\n",
    "        if \"messages\" in value:\n",
    "            messages = value[\"messages\"]\n",
    "            # Print only the most recent message\n",
    "            value[\"messages\"][-1].pretty_print()"
   ]
  },
  {
   "cell_type": "markdown",
   "metadata": {},
   "source": [
    "## Advanced Streaming Options\n",
    "\n",
    "Các tùy chọn phát trực tuyến nâng cao trong LangGraph cho phép kiểm soát chi tiết hơn về cách xử lý đầu ra thực thi đồ thị. Bằng cách cấu hình các tham số như `output_keys`, `stream_mode`, `interrupt_before` và `interrupt_after`, người dùng có thể điều chỉnh hành vi phát trực tuyến theo nhu cầu gỡ lỗi và giám sát cụ thể của họ.\n",
    "\n",
    "### Tùy chọn output_keys\n",
    "\n",
    "Tùy chọn `output_keys` được sử dụng để chỉ định các khóa (keys) cần phát trực tuyến.\n",
    "\n",
    "Bạn có thể chỉ định nó ở định dạng danh sách (list) và nó phải là một trong các khóa được định nghĩa trong **channels**.\n",
    "\n",
    "**Lời khuyên**\n",
    "\n",
    "- Nếu một số lượng lớn các khóa State được xuất ra ở mỗi bước, điều này hữu ích khi bạn chỉ muốn phát trực tuyến một số trong số chúng.\n"
   ]
  },
  {
   "cell_type": "code",
   "execution_count": 19,
   "metadata": {},
   "outputs": [
    {
     "name": "stdout",
     "output_type": "stream",
     "text": [
      "dict_keys(['messages', 'dummy_data', '__start__', 'chatbot', 'branch:to:chatbot', 'tools', 'branch:to:tools', 'start:chatbot'])\n"
     ]
    }
   ],
   "source": [
    "print(graph.channels.keys())"
   ]
  },
  {
   "cell_type": "code",
   "execution_count": 20,
   "metadata": {},
   "outputs": [
    {
     "name": "stdout",
     "output_type": "stream",
     "text": [
      "\n",
      "[ chatbot ]\n",
      "\n",
      "dict_keys(['dummy_data'])\n",
      "[chatbot] called, dummy data\n",
      "\n",
      "[ tools ]\n",
      "\n",
      "\n",
      "[ chatbot ]\n",
      "\n",
      "dict_keys(['dummy_data'])\n",
      "[chatbot] called, dummy data\n"
     ]
    }
   ],
   "source": [
    "question = \"Những thông tin mới nhất về giá chung cư tại Hà Nội\"\n",
    "\n",
    "input = State(dummy_data=\"Test string\", messages=[(\"user\", question)])\n",
    "\n",
    "config = RunnableConfig(\n",
    "    recursion_limit=10,\n",
    "    configurable={\"thread_id\": \"1\"},\n",
    "    tags=[\"my-rag\"]\n",
    ")\n",
    "\n",
    "for event in graph.stream(\n",
    "    input=input,\n",
    "    config=config,\n",
    "    output_keys=[\"dummy_data\"]\n",
    "):\n",
    "    for key, value in event.items():\n",
    "        # key is the node name\n",
    "        print(f\"\\n[ {key} ]\\n\")\n",
    "\n",
    "        # If dummy_data exists\n",
    "        if value:\n",
    "            # value is the node output\n",
    "            print(value.keys())\n",
    "            if \"dummy_data\" in value:\n",
    "                print(value[\"dummy_data\"])"
   ]
  },
  {
   "cell_type": "code",
   "execution_count": 21,
   "metadata": {},
   "outputs": [
    {
     "name": "stdout",
     "output_type": "stream",
     "text": [
      "\n",
      "[ chatbot ]\n",
      "\n",
      "\n",
      "\n",
      "[ tools ]\n",
      "\n",
      "[{\"title\": \"Vietnam aims for 454 billion USD export revenue amidst global headwinds\", \"link\": \"https://thoibaotaichinhvietnam.vn/vietnam-aims-for-454-billion-usd-export-revenue-amidst-global-headwinds-172652.html&ved=2ahUKEwjOsYvNrJ6MAxVwslYBHYoiEhYQxfQBegQIBxAC&usg=AOvVaw2jqx8dFyt44ydm9lr41Gzc\"}, {\"title\": \"There are no apartments for rent under 10 million VND per month in the center of Hanoi\", \"link\": \"https://baohaiduong.vn/en/vang-bong-can-ho-cho-thue-duoi-10-trieu-dong-1-thang-tai-trung-tam-ha-noi-406842.html&ved=2ahUKEwjOsYvNrJ6MAxVwslYBHYoiEhYQxfQBegQIChAC&usg=AOvVaw1hkG5bxMhrHEk9MzSRKX-s\"}, {\"title\": \"Young Vietnamese flock back to empty nest as housing becomes unaffordable\", \"link\": \"https://e.vnexpress.net/news/business/property/young-vietnamese-flock-back-to-empty-nest-as-housing-becomes-unaffordable-4853468.html&ved=2ahUKEwjOsYvNrJ6MAxVwslYBHYoiEhYQxfQBegQIBRAC&usg=AOvVaw3ebATD8k8Yih8Wic2SfcBe\"}, {\"title\": \"Chờ 30 Tết mua đào, quất giá rẻ\", \"link\": \"https://vnexpress.net/cho-30-tet-mua-dao-quat-gia-re-4843230.html&ved=2ahUKEwjOsYvNrJ6MAxVwslYBHYoiEhYQxfQBegQIARAC&usg=AOvVaw1o0tcm8VCqf38QRdscJirQ\"}, {\"title\": \"Experts make surprising comments about apartment prices this year\", \"link\": \"https://www.vietnam.vn/en/chuyen-gia-nhan-dinh-bat-ngo-ve-gia-chung-cu-trong-nam-nay&ved=2ahUKEwjOsYvNrJ6MAxVwslYBHYoiEhYQxfQBegQICBAC&usg=AOvVaw0i0UOIHFLKEoO-6sI9XokD\"}]\n",
      "\n",
      "[ chatbot ]\n",
      "\n",
      "1. Vietnam aims for $454 billion USD export revenue amidst global headwinds (<https://thoibaotaichinhvietnam.vn/vietnam-aims-for-454-billion-usd-export-revenue-amidst-global-headwinds-172652.html>)\n",
      "2. There are no apartments for rent under 10 million VND per month in the center of Hanoi (<https://baohaiduong.vn/en/vang-bong-can-ho-cho-thue-duoi-10-trieu-dong-1-thang-tai-trung-tam-ha-noi-406842.html>)\n",
      "3. Young Vietnamese flock back to empty nest as housing becomes unaffordable (<https://e.vnexpress.net/news/business/property/young-vietnamese-flock-back-to-empty-nest-as-housing-becomes-unaffordable-4853468.html>)\n",
      "4. Wait for Lunar New Year to buy cheap land, houses (<https://vnexpress.net/cho-30-tet-mua-dao-quat-gia-re-4843230.html>)\n",
      "5. Experts make surprising comments about apartment prices this year (<https://www.vietnam.vn/en/chuyen-gia-nhan-dinh-bat-ngo-ve-gia-chung-cu-trong-nam-nay>)\n",
      "\n",
      "These articles provide information on the current state of the real estate market in Hanoi, including apartment prices and housing affordability. The first article discusses Vietnam's aim to reach $454 billion USD in export revenue amidst global headwinds. The second article states that there are no apartments for rent under 10 million VND per month in the center of Hanoi. The third article talks about young Vietnamese returning to their parents' homes due to housing affordability issues. The fourth article suggests waiting for Lunar New Year to buy cheap land and houses, while the fifth article discusses experts' comments on apartment prices this year.\n"
     ]
    }
   ],
   "source": [
    "\n",
    "# Define the initial input State\n",
    "input = State(dummy_data=\"Test string\", messages=[(\"user\", question)])\n",
    "\n",
    "# Configure config\n",
    "config = RunnableConfig(\n",
    "    recursion_limit=10,  # Visit up to 10 nodes; beyond that, RecursionError will occur\n",
    "    configurable={\"thread_id\": \"1\"},  # Set the thread ID\n",
    "    tags=[\"my-rag\"],  # Tag\n",
    ")\n",
    "\n",
    "for event in graph.stream(\n",
    "    input=input,\n",
    "    config=config,\n",
    "    output_keys=[\"messages\"],  # Only output messages\n",
    "):\n",
    "    for key, value in event.items():\n",
    "        # If messages exist\n",
    "        if value and \"messages\" in value:\n",
    "            # key is the node name\n",
    "            print(f\"\\n[ {key} ]\\n\")\n",
    "            # Print the content of the last message\n",
    "            print(value[\"messages\"][-1].content)"
   ]
  },
  {
   "cell_type": "markdown",
   "metadata": {},
   "source": [
    "### The stream_mode Option\n",
    "\n",
    "Tùy chọn `stream_mode` được sử dụng để chỉ định chế độ xuất luồng (streaming output mode).\n",
    "\n",
    "- `values`: Xuất các giá trị trạng thái hiện tại ở mỗi bước.\n",
    "- `updates`: Chỉ xuất các cập nhật trạng thái ở mỗi bước (mặc định).\n",
    "\n",
    "### stream_mode = \"values\"\n",
    "\n",
    "Ở chế độ `values`, các giá trị trạng thái hiện tại của mỗi bước được xuất ra.\n",
    "\n",
    "**Lưu ý**\n",
    "\n",
    "`event.items()`\n",
    "\n",
    "- `key`: Khóa của State.\n",
    "- `value`: Giá trị tương ứng với khóa của State.\n"
   ]
  },
  {
   "cell_type": "code",
   "execution_count": 22,
   "metadata": {},
   "outputs": [
    {
     "name": "stdout",
     "output_type": "stream",
     "text": [
      "\n",
      "[ messages ]\n",
      "\n",
      "Number of messages: 1\n",
      "\n",
      "[ dummy_data ]\n",
      "\n",
      "==============================  Step  ==============================\n",
      "\n",
      "[ messages ]\n",
      "\n",
      "Number of messages: 2\n",
      "\n",
      "[ dummy_data ]\n",
      "\n",
      "==============================  Step  ==============================\n",
      "\n",
      "[ messages ]\n",
      "\n",
      "Number of messages: 3\n",
      "\n",
      "[ dummy_data ]\n",
      "\n",
      "==============================  Step  ==============================\n",
      "\n",
      "[ messages ]\n",
      "\n",
      "Number of messages: 4\n",
      "\n",
      "[ dummy_data ]\n",
      "\n",
      "==============================  Step  ==============================\n"
     ]
    }
   ],
   "source": [
    "# Question\n",
    "question = \"Please provide the latest news about the 2024 Nobel Prize in Literature.\"\n",
    "\n",
    "# Define the initial input State\n",
    "input = State(dummy_data=\"Test string\", messages=[(\"user\", question)])\n",
    "\n",
    "# Configure config\n",
    "config = RunnableConfig(\n",
    "    recursion_limit=10,  # Visit up to 10 nodes; beyond that, RecursionError will occur\n",
    "    configurable={\"thread_id\": \"1\"},  # Set the thread ID\n",
    "    tags=[\"my-rag\"],  # Tag\n",
    ")\n",
    "\n",
    "# Stream output in values mode\n",
    "for event in graph.stream(\n",
    "    input=input,\n",
    "    stream_mode=\"values\",  # Default\n",
    "):\n",
    "    for key, value in event.items():\n",
    "        # key is the State key\n",
    "        print(f\"\\n[ {key} ]\\n\")\n",
    "        if key == \"messages\":\n",
    "            print(f\"Number of messages: {len(value)}\")\n",
    "    print(\"===\" * 10, \" Step \", \"===\" * 10)"
   ]
  },
  {
   "cell_type": "markdown",
   "metadata": {},
   "source": [
    "### stream_mode = \"updates\"\n",
    "\n",
    "Ở chế độ `updates`, chỉ State được cập nhật cho mỗi bước được xuất ra.\n",
    "\n",
    "- Đầu ra là một từ điển (dictionary) mà khóa (key) là tên nút (node name), và các giá trị (values) là các đầu ra được cập nhật.\n",
    "\n",
    "**Lưu ý**\n",
    "\n",
    "`event.items()`\n",
    "\n",
    "- `key`: Tên nút (node name).\n",
    "- `value`: Đầu ra của nút đó dưới dạng từ điển (dictionary) (nó có thể có nhiều cặp key-value).\n"
   ]
  },
  {
   "cell_type": "code",
   "execution_count": 23,
   "metadata": {},
   "outputs": [
    {
     "name": "stdout",
     "output_type": "stream",
     "text": [
      "\n",
      "[ chatbot ]\n",
      "\n",
      "dict_keys(['messages', 'dummy_data'])\n",
      "Number of messages: 1\n",
      "==============================  Step  ==============================\n",
      "\n",
      "[ tools ]\n",
      "\n",
      "dict_keys(['messages'])\n",
      "Number of messages: 1\n",
      "==============================  Step  ==============================\n",
      "\n",
      "[ chatbot ]\n",
      "\n",
      "dict_keys(['messages', 'dummy_data'])\n",
      "Number of messages: 1\n",
      "==============================  Step  ==============================\n"
     ]
    }
   ],
   "source": [
    "# Question\n",
    "question = \"Please provide the latest news about the 2024 Nobel Prize in Literature.\"\n",
    "\n",
    "# Define the initial input State\n",
    "input = State(dummy_data=\"Test string\", messages=[(\"user\", question)])\n",
    "\n",
    "# Configure config\n",
    "config = RunnableConfig(\n",
    "    recursion_limit=10,  # Visit up to 10 nodes; beyond that, RecursionError will occur\n",
    "    configurable={\"thread_id\": \"1\"},  # Set the thread ID\n",
    "    tags=[\"my-rag\"],  # Tag\n",
    ")\n",
    "\n",
    "# Stream output in updates mode\n",
    "for event in graph.stream(\n",
    "    input=input,\n",
    "    stream_mode=\"updates\",  # Default\n",
    "):\n",
    "    for key, value in event.items():\n",
    "        # key is the node name\n",
    "        print(f\"\\n[ {key} ]\\n\")\n",
    "\n",
    "        # value is the output of the node\n",
    "        print(value.keys())\n",
    "\n",
    "        # The state is stored in dict form under the keys of 'values'\n",
    "        if \"messages\" in value:\n",
    "            print(f\"Number of messages: {len(value['messages'])}\")\n",
    "    print(\"===\" * 10, \" Step \", \"===\" * 10)"
   ]
  },
  {
   "cell_type": "markdown",
   "metadata": {},
   "source": [
    "### The interrupt_before and interrupt_after Options\n",
    "\n",
    "Các tùy chọn `interrupt_before` và `interrupt_after` được sử dụng để chỉ định thời điểm ngắt luồng (interrupt streaming).\n",
    "\n",
    "- `interrupt_before`: Ngắt luồng trước nút được chỉ định.\n",
    "- `interrupt_after`: Ngắt luồng sau nút được chỉ định.\n"
   ]
  },
  {
   "cell_type": "code",
   "execution_count": 24,
   "metadata": {},
   "outputs": [
    {
     "name": "stdout",
     "output_type": "stream",
     "text": [
      "\n",
      "[chatbot]\n",
      "\n",
      "dict_keys(['messages', 'dummy_data'])\n",
      "[AIMessage(content='', additional_kwargs={}, response_metadata={'model': 'mistral:7b', 'created_at': '2025-03-22T18:49:15.4478063Z', 'done': True, 'done_reason': 'stop', 'total_duration': 4222846600, 'load_duration': 9313400, 'prompt_eval_count': 79, 'prompt_eval_duration': 222126400, 'eval_count': 281, 'eval_duration': 3988349100, 'message': Message(role='assistant', content='', images=None, tool_calls=None)}, id='run-86d35823-d16e-417f-b0ad-c82739edf3be-0', tool_calls=[{'name': 'search_keyword', 'args': {'query': '2024 Nobel Prize in Literature'}, 'id': 'db3ab7d9-8c7a-4232-97aa-495fcacee0e3', 'type': 'tool_call'}], usage_metadata={'input_tokens': 79, 'output_tokens': 281, 'total_tokens': 360})]\n",
      "Number of messages: 1\n",
      "==============================  Step  ==============================\n",
      "\n",
      "[__interrupt__]\n",
      "\n",
      "==============================  Step  ==============================\n"
     ]
    }
   ],
   "source": [
    "# Question\n",
    "question = \"Please provide the latest news about the 2024 Nobel Prize in Literature.\"\n",
    "\n",
    "# Define the initial input State\n",
    "input = State(dummy_data=\"Test string\", messages=[(\"user\", question)])\n",
    "\n",
    "# Configure config\n",
    "config = RunnableConfig(\n",
    "    recursion_limit=10,  # Visit up to 10 nodes; beyond that, RecursionError will occur\n",
    "    configurable={\"thread_id\": \"1\"},  # Set the thread ID\n",
    "    tags=[\"my-rag\"],  # Tag\n",
    ")\n",
    "\n",
    "for event in graph.stream(\n",
    "    input=input,\n",
    "    config=config,\n",
    "    stream_mode=\"updates\",  # Default\n",
    "    interrupt_before=[\"tools\"],  # Interrupt before the 'tools' node\n",
    "):\n",
    "    for key, value in event.items():\n",
    "        # key is the node name\n",
    "        print(f\"\\n[{key}]\\n\")\n",
    "\n",
    "        # value is the node's output\n",
    "        if isinstance(value, dict):\n",
    "            print(value.keys())\n",
    "            if \"messages\" in value:\n",
    "                print(value[\"messages\"])\n",
    "\n",
    "        # The state is stored as a dict (keys of 'values')\n",
    "        if \"messages\" in value:\n",
    "            print(f\"Number of messages: {len(value['messages'])}\")\n",
    "    print(\"===\" * 10, \" Step \", \"===\" * 10)"
   ]
  },
  {
   "cell_type": "code",
   "execution_count": 25,
   "metadata": {},
   "outputs": [
    {
     "name": "stdout",
     "output_type": "stream",
     "text": [
      "\n",
      "[__interrupt__]\n",
      "\n",
      "dict_keys(['messages', 'dummy_data'])\n",
      "[AIMessage(content='', additional_kwargs={}, response_metadata={'model': 'mistral:7b', 'created_at': '2025-03-22T18:49:27.1189992Z', 'done': True, 'done_reason': 'stop', 'total_duration': 4029325700, 'load_duration': 9639900, 'prompt_eval_count': 79, 'prompt_eval_duration': 3135300, 'eval_count': 261, 'eval_duration': 4004665400, 'message': Message(role='assistant', content='', images=None, tool_calls=None)}, id='run-bbc38d83-96d3-47ba-8268-62f9a11d85c4-0', tool_calls=[{'name': 'search_keyword', 'args': {'query': '2024 Nobel Prize in Literature'}, 'id': 'f396c39f-f7ba-42cf-8c64-de52bb7ae0a3', 'type': 'tool_call'}], usage_metadata={'input_tokens': 79, 'output_tokens': 261, 'total_tokens': 340})]\n",
      "Number of messages: 1\n",
      "\n",
      "[__interrupt__]\n",
      "\n",
      "dict_keys(['messages'])\n",
      "[ToolMessage(content='[{\"title\": \"Women of the World: 2024’s Nobel Prize in Literature Winner, South Korean author Han Kang\", \"link\": \"https://theboar.org/2025/03/women-of-the-world-2024s-nobel-prize-in-literature-winner-south-korean-author-han-kang/&ved=2ahUKEwjkmomlrZ6MAxUDmq8BHTk0JmcQxfQBegQIAxAC&usg=AOvVaw1xqnzM7tN_PKZMYvg5e5MI\"}, {\"title\": \"Han Kang | Biography, Books, Nobel Prize, & Facts\", \"link\": \"https://www.britannica.com/biography/Han-Kang&ved=2ahUKEwjkmomlrZ6MAxUDmq8BHTk0JmcQxfQBegQIChAC&usg=AOvVaw3TieETOD2b6IAkGJD51L7v\"}, {\"title\": \"Nobel Prize 2024 Winners List, Category Wise Awards\", \"link\": \"https://www.pw.live/upsc/exams/nobel-prize-2024&ved=2ahUKEwjkmomlrZ6MAxUDmq8BHTk0JmcQxfQBegQIBxAC&usg=AOvVaw2ggiUrOh4_5lCQZOBSc-P2\"}, {\"title\": \"(Nobel Week 2024) Nobel Prize lecture in literature\", \"link\": \"https://www.korea.net/Events/Overseas/view%3FarticleId%3D22503&ved=2ahUKEwjkmomlrZ6MAxUDmq8BHTk0JmcQxfQBegQICBAC&usg=AOvVaw2UTg09h8yUknm9mvj7Cx2A\"}, {\"title\": \"2024 Nobel Prize for Literature #KoreaNetPerson of the Year #Vegetarian #TheBoy Is ComingNovelist H..\", \"link\": \"https://www.mk.co.kr/en/culture/11206720&ved=2ahUKEwjkmomlrZ6MAxUDmq8BHTk0JmcQxfQBegQIBBAC&usg=AOvVaw1JLdE328k_uuunuJ327WeE\"}]', name='search_keyword', id='d8cb1553-bc68-4105-90b8-231fc4d6abed', tool_call_id='f396c39f-f7ba-42cf-8c64-de52bb7ae0a3')]\n",
      "Number of messages: 1\n",
      "\n",
      "[__interrupt__]\n",
      "\n"
     ]
    }
   ],
   "source": [
    "# Question\n",
    "question = \"Please provide the latest news about the 2024 Nobel Prize in Literature.\"\n",
    "\n",
    "# Define the initial input State\n",
    "input = State(dummy_data=\"Test string\", messages=[(\"user\", question)])\n",
    "\n",
    "# Configure config\n",
    "config = RunnableConfig(\n",
    "    recursion_limit=10,  # Visit up to 10 nodes; beyond that, RecursionError will occur\n",
    "    configurable={\"thread_id\": \"1\"},  # Set the thread ID\n",
    "    tags=[\"my-rag\"],  # Tag\n",
    ")\n",
    "\n",
    "for event in graph.stream(\n",
    "    input=input,\n",
    "    config=config,\n",
    "    stream_mode=\"updates\",\n",
    "    interrupt_after=[\"tools\"],  # Interrupt after executing 'tools'\n",
    "):\n",
    "    for value in event.values():\n",
    "        # key is the node name\n",
    "        print(f\"\\n[{key}]\\n\")\n",
    "\n",
    "        if isinstance(value, dict):\n",
    "            # value is the node's output\n",
    "            print(value.keys())\n",
    "            if \"messages\" in value:\n",
    "                print(value[\"messages\"])\n",
    "\n",
    "        # The state is stored as a dict (keys of 'values')\n",
    "        if \"messages\" in value:\n",
    "            print(f\"Number of messages: {len(value['messages'])}\")"
   ]
  },
  {
   "cell_type": "code",
   "execution_count": null,
   "metadata": {},
   "outputs": [],
   "source": []
  }
 ],
 "metadata": {
  "kernelspec": {
   "display_name": "langchain",
   "language": "python",
   "name": "python3"
  },
  "language_info": {
   "codemirror_mode": {
    "name": "ipython",
    "version": 3
   },
   "file_extension": ".py",
   "mimetype": "text/x-python",
   "name": "python",
   "nbconvert_exporter": "python",
   "pygments_lexer": "ipython3",
   "version": "3.10.16"
  }
 },
 "nbformat": 4,
 "nbformat_minor": 2
}
