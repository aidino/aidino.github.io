{
 "cells": [
  {
   "cell_type": "markdown",
   "metadata": {},
   "source": [
    "# Langgraph-subgraph\n",
    "\n",
    "Sử dụng **SubGraphs** cho phép bạn xây dựng các hệ thống phức tạp chứa nhiều thành phần, trong đó bản thân các thành phần này có thể trở thành các đồ thị. Một trường hợp sử dụng phổ biến cho **SubGraphs** là xây dựng các hệ thống đa tác tử (multi-agent systems).\n",
    "\n",
    "Cân nhắc chính khi thêm **SubGraphs** là cách đồ thị cha và SubGraph giao tiếp, cụ thể là cách chúng truyền trạng thái cho nhau trong quá trình thực thi đồ thị.\n",
    "\n",
    "- Có hai kịch bản:\n",
    "1. Khi đồ thị cha và `subgraph` **chia sẻ các khóa schema**. Trong trường hợp này, bạn có thể thêm các nút với `subgraph` đã được biên dịch.\n",
    "2. Khi đồ thị cha và `subgraph` có **các schema khác nhau**. Trong trường hợp này, bạn cần thêm một **node function** gọi `subgraph`.\n",
    "\n",
    "Điều này hữu ích khi đồ thị cha và `subgraph` có các schema trạng thái khác nhau và trạng thái cần được chuyển đổi trước và sau khi gọi `subgraph`.\n",
    "\n",
    "Tôi sẽ chỉ cho bạn cách thêm subgraphs cho từng kịch bản bên dưới.\n"
   ]
  },
  {
   "cell_type": "markdown",
   "metadata": {},
   "source": [
    "## Case 1: When Sharing Schema Keys\n",
    "\n",
    "### Adding Nodes with Compiled SubGraphs\n",
    "\n",
    "Đây là một trường hợp phổ biến khi đồ thị cha (parent graph) và đồ thị con (subgraph) giao tiếp thông qua các khóa trạng thái được chia sẻ (shared state keys).\n",
    "Ví dụ: trong các hệ thống đa tác tử (multi-agent systems), các tác tử thường giao tiếp thông qua khóa '`messages`' được chia sẻ.\n",
    "Khi một **đồ thị con chia sẻ các khóa trạng thái với đồ thị cha**, bạn có thể thêm nó vào đồ thị theo các bước sau:\n",
    "\n",
    "1. Định nghĩa và biên dịch quy trình làm việc `subgraph` (`subgraph_builder` trong ví dụ bên dưới)\n",
    "2. Truyền `subgraph` đã biên dịch vào phương thức `.add_node` khi định nghĩa quy trình làm việc của đồ thị cha.\n"
   ]
  },
  {
   "cell_type": "code",
   "execution_count": 1,
   "metadata": {},
   "outputs": [],
   "source": [
    "from langgraph.graph import START, END, StateGraph\n",
    "from typing import TypedDict\n",
    "\n",
    "\n",
    "# TypedDict class for defining subgraph state, including name key shared with parent graph and family_name key exclusive to subgraph\n",
    "class ChildState(TypedDict):\n",
    "    name: str  # State key shared with parent graph\n",
    "    family_name: str\n",
    "\n",
    "\n",
    "# First node of subgraph, sets initial value for family_name key\n",
    "def subgraph_node_1(state: ChildState):\n",
    "    return {\"family_name\": \"Lee\"}\n",
    "\n",
    "\n",
    "# Second node of subgraph, combines subgraph-exclusive family_name key and shared name key to create new state\n",
    "def subgraph_node_2(state: ChildState):\n",
    "    # Perform update using family_name key only available within subgraph and shared state key name\n",
    "    return {\"name\": f'{state[\"name\"]} {state[\"family_name\"]}'}\n",
    "\n",
    "\n",
    "# Define subgraph structure and set node connection relationships\n",
    "subgraph_builder = StateGraph(ChildState)\n",
    "subgraph_builder.add_node(subgraph_node_1)\n",
    "subgraph_builder.add_node(subgraph_node_2)\n",
    "subgraph_builder.add_edge(START, \"subgraph_node_1\")\n",
    "subgraph_builder.add_edge(\"subgraph_node_1\", \"subgraph_node_2\")\n",
    "subgraph = subgraph_builder.compile()"
   ]
  },
  {
   "cell_type": "code",
   "execution_count": 3,
   "metadata": {},
   "outputs": [
    {
     "data": {
      "image/png": "[encoded data removed]",
      "text/plain": [
       "<IPython.core.display.Image object>"
      ]
     },
     "metadata": {},
     "output_type": "display_data"
    }
   ],
   "source": [
    "from IPython.display import Image, display\n",
    "from langchain_core.runnables.graph import MermaidDrawMethod\n",
    "\n",
    "# Visualize the graph\n",
    "display(\n",
    "    Image(\n",
    "        subgraph.get_graph().draw_mermaid_png(\n",
    "            draw_method=MermaidDrawMethod.API,\n",
    "        )\n",
    "    )\n",
    ")"
   ]
  },
  {
   "cell_type": "code",
   "execution_count": 4,
   "metadata": {},
   "outputs": [],
   "source": [
    "# TypedDict class for defining parent graph state, containing only the name key\n",
    "class ParentState(TypedDict):\n",
    "    name: str\n",
    "    company: str\n",
    "\n",
    "\n",
    "# First node of parent graph, modifies the name key value to create new state\n",
    "def node_1(state: ParentState):\n",
    "    return {\"name\": f'My name is {state[\"name\"]}'}\n",
    "\n",
    "\n",
    "# Define parent graph structure and set node connection relationships including subgraph\n",
    "builder = StateGraph(ParentState)\n",
    "builder.add_node(\"node_1\", node_1)\n",
    "# Add compiled subgraph as a node to parent graph\n",
    "builder.add_node(\"node_2\", subgraph)\n",
    "builder.add_edge(START, \"node_1\")\n",
    "builder.add_edge(\"node_1\", \"node_2\")\n",
    "builder.add_edge(\"node_2\", END)\n",
    "graph = builder.compile()"
   ]
  },
  {
   "cell_type": "code",
   "execution_count": 5,
   "metadata": {},
   "outputs": [
    {
     "data": {
      "image/png": "[encoded data removed]",
      "text/plain": [
       "<IPython.core.display.Image object>"
      ]
     },
     "metadata": {},
     "output_type": "display_data"
    }
   ],
   "source": [
    "from IPython.display import Image, display\n",
    "from langchain_core.runnables.graph import MermaidDrawMethod\n",
    "\n",
    "# Visualize the graph\n",
    "display(\n",
    "    Image(\n",
    "        graph.get_graph().draw_mermaid_png(\n",
    "            draw_method=MermaidDrawMethod.API,\n",
    "        )\n",
    "    )\n",
    ")"
   ]
  },
  {
   "cell_type": "code",
   "execution_count": 6,
   "metadata": {},
   "outputs": [
    {
     "name": "stdout",
     "output_type": "stream",
     "text": [
      "{'node_1': {'name': 'My name is Teddy'}}\n",
      "{'node_2': {'name': 'My name is Teddy Lee'}}\n"
     ]
    }
   ],
   "source": [
    "# Stream graph data chunk by chunk and print each chunk\n",
    "for chunk in graph.stream({\"name\": \"Teddy\"}):\n",
    "    print(chunk)"
   ]
  },
  {
   "cell_type": "markdown",
   "metadata": {},
   "source": [
    "Đầu ra cuối cùng của đồ thị cha bao gồm kết quả của các lệnh gọi đồ thị con (subgraph calls).\n",
    "\n",
    "Để kiểm tra đầu ra của đồ thị con, bạn có thể chỉ định `subgraphs=True` khi phát trực tuyến (streaming).\n"
   ]
  },
  {
   "cell_type": "code",
   "execution_count": 7,
   "metadata": {},
   "outputs": [
    {
     "name": "stdout",
     "output_type": "stream",
     "text": [
      "((), {'node_1': {'name': 'My name is Teddy'}})\n",
      "(('node_2:08f29f8f-45c0-5c26-1910-5c8c8e483150',), {'subgraph_node_1': {'family_name': 'Lee'}})\n",
      "(('node_2:08f29f8f-45c0-5c26-1910-5c8c8e483150',), {'subgraph_node_2': {'name': 'My name is Teddy Lee'}})\n",
      "((), {'node_2': {'name': 'My name is Teddy Lee'}})\n"
     ]
    }
   ],
   "source": [
    "# Stream and output subgraph data chunks sequentially\n",
    "# Process streaming with subgraphs by setting subgraphs=True\n",
    "for chunk in graph.stream({\"name\": \"Teddy\"}, subgraphs=True):\n",
    "    print(chunk)"
   ]
  },
  {
   "cell_type": "code",
   "execution_count": null,
   "metadata": {},
   "outputs": [],
   "source": []
  }
 ],
 "metadata": {
  "kernelspec": {
   "display_name": "langchain",
   "language": "python",
   "name": "python3"
  },
  "language_info": {
   "codemirror_mode": {
    "name": "ipython",
    "version": 3
   },
   "file_extension": ".py",
   "mimetype": "text/x-python",
   "name": "python",
   "nbconvert_exporter": "python",
   "pygments_lexer": "ipython3",
   "version": "3.10.16"
  }
 },
 "nbformat": 4,
 "nbformat_minor": 2
}
