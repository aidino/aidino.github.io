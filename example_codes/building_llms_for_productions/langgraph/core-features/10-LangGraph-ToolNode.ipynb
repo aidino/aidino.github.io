{
 "cells": [
  {
   "cell_type": "markdown",
   "metadata": {},
   "source": [
    "# LangGraph ToolNode\n",
    "\n",
    "Trong hướng dẫn này, chúng ta sẽ tìm hiểu cách sử dụng `ToolNode` được xây dựng sẵn của `LangGraph` cho việc gọi công cụ (tool invocation).\n",
    "`ToolNode` là một `LangChain Runnable` nhận trạng thái đồ thị (graph state) chứa danh sách tin nhắn (messages) làm đầu vào và cập nhật trạng thái với kết quả của việc gọi công cụ.\n",
    "\n",
    "Nó được thiết kế để hoạt động liền mạch với các agent được xây dựng sẵn của `LangGraph` và có thể hoạt động với bất kỳ `StateGraph` nào, miễn là trạng thái bao gồm một khóa messages với một reducer phù hợp.\n",
    "\n",
    "Bây giờ, hãy khám phá cách tối đa hóa năng suất bằng cách sử dụng `LangGraph ToolNode`. 🚀\n"
   ]
  },
  {
   "cell_type": "code",
   "execution_count": 1,
   "metadata": {},
   "outputs": [],
   "source": [
    "from typing import List, Dict, Optional\n",
    "from urllib.parse import quote\n",
    "import feedparser\n",
    "\n",
    "\n",
    "class GoogleNews:\n",
    "\n",
    "    def _fetch_news(self, url: str, k: int = 3) -> List[Dict[str, str]]:\n",
    "        news_data = feedparser.parse(url)\n",
    "        return [\n",
    "            {\"title\": entry.title, \"link\": entry.link}\n",
    "            for entry in news_data.entries[:k]\n",
    "        ] # type: ignore\n",
    "\n",
    "    def _collect_news(self, news_list: List[Dict[str, str]]) -> List[Dict[str, str]]:\n",
    "        if not news_list:\n",
    "            print(\"There is no news for the keyword.\")\n",
    "            return []\n",
    "\n",
    "        result = []\n",
    "        for news in news_list:\n",
    "            result.append({\"url\": news[\"link\"], \"content\": news[\"title\"]})\n",
    "\n",
    "        return result\n",
    "\n",
    "    def search_by_keyword(\n",
    "        self, keyword: Optional[str] = None, k: int = 3\n",
    "    ) -> List[Dict[str, str]]:\n",
    "\n",
    "        if keyword:\n",
    "            encoded_keyword = quote(keyword)\n",
    "            url = f\"https://news.google.com/rss/search?q={encoded_keyword}&hl=vi&gl=VN&ceid=VN%3Avi\"\n",
    "        else:\n",
    "            url = f\"https://news.google.com/rss?hl=vi&gl=VN&ceid=VN%3Avi\"\n",
    "\n",
    "        news_list = self._fetch_news(url, k)\n",
    "        return self._collect_news(news_list)"
   ]
  },
  {
   "cell_type": "code",
   "execution_count": 2,
   "metadata": {},
   "outputs": [],
   "source": [
    "from langchain_core.tools import tool\n",
    "from langchain_experimental.tools.python.tool import PythonAstREPLTool\n",
    "from typing import List, Dict\n",
    "\n",
    "@tool\n",
    "def search_news(query: str) -> List[Dict[str, str]]:\n",
    "    \"\"\"Search Google News by input keyword\"\"\"\n",
    "    news_tool = GoogleNews()\n",
    "    return news_tool.search_by_keyword(query, k=5)\n",
    "\n",
    "\n",
    "@tool\n",
    "def python_code_interpreter(code: str):\n",
    "    \"\"\"Call to execute python code.\"\"\"\n",
    "    return PythonAstREPLTool().invoke(code)"
   ]
  },
  {
   "cell_type": "code",
   "execution_count": 3,
   "metadata": {},
   "outputs": [
    {
     "name": "stderr",
     "output_type": "stream",
     "text": [
      "/tmp/ipykernel_591464/1641296905.py:5: LangChainDeprecationWarning: The method `BaseTool.__call__` was deprecated in langchain-core 0.1.47 and will be removed in 1.0. Use :meth:`~invoke` instead.\n",
      "  python_code_interpreter(code)\n"
     ]
    },
    {
     "data": {
      "text/plain": [
       "'Hello world\\n'"
      ]
     },
     "execution_count": 3,
     "metadata": {},
     "output_type": "execute_result"
    }
   ],
   "source": [
    "code = \"\"\"\n",
    "print(\"Hello world\")\n",
    "\"\"\"\n",
    "\n",
    "python_code_interpreter(code)"
   ]
  },
  {
   "cell_type": "markdown",
   "metadata": {},
   "source": [
    "Tiếp theo, chúng ta sẽ khám phá cách sử dụng `ToolNode` để gọi các công cụ (tools).\n",
    "\n",
    "`ToolNode` được khởi tạo với một danh sách các công cụ và các đối số sau:\n",
    "\n",
    "* `Args:`\n",
    "    * `tools`: Một chuỗi các công cụ (tools) có thể được gọi bởi `ToolNode`.\n",
    "    * `name`: Tên của `ToolNode` trong đồ thị (graph). Mặc định là \"tools\".\n",
    "    * `tags`: Các thẻ (tags) tùy chọn để liên kết với nút (node). Mặc định là \"None\".\n",
    "    * `handle_tool_errors`: Cách xử lý các lỗi công cụ (tool errors) được sinh ra bởi các công cụ bên trong nút (node). Mặc định là \"True\".\n"
   ]
  },
  {
   "cell_type": "code",
   "execution_count": 4,
   "metadata": {},
   "outputs": [],
   "source": [
    "from langgraph.prebuilt import ToolNode, tools_condition\n",
    "\n",
    "# Generate tool list\n",
    "tools = [search_news, python_code_interpreter]\n",
    "\n",
    "# Initialize ToolNode\n",
    "tool_node = ToolNode(tools, handle_tool_errors=True)"
   ]
  },
  {
   "cell_type": "markdown",
   "metadata": {},
   "source": [
    "## Calling ToolNode manually"
   ]
  },
  {
   "cell_type": "markdown",
   "metadata": {},
   "source": [
    "`ToolNode` hoạt động trên trạng thái đồ thị (graph state) với danh sách các tin nhắn (messages).\n",
    "\n",
    "`AIMessage` được sử dụng để biểu diễn một tin nhắn với vai trò trợ lý (assistant). Đây là phản hồi từ mô hình, có thể bao gồm văn bản (text) hoặc yêu cầu gọi các công cụ (tools). Nó cũng có thể bao gồm các loại phương tiện khác như hình ảnh, âm thanh hoặc video, mặc dù điều này hiện tại vẫn chưa phổ biến.\n",
    "* `Args:`\n",
    "    * `content`: Nội dung của tin nhắn. Thường là một chuỗi (string), nhưng cũng có thể là một danh sách các khối nội dung (content blocks).\n",
    "    * `tool_calls`: Một danh sách các lệnh gọi công cụ (tool calls) được liên kết với tin nhắn.\n",
    "        * `name`: Tên của công cụ (tool) cần gọi.\n",
    "        * `args`: Các đối số (arguments) để truyền cho công cụ.\n",
    "        * `id`: Một định danh duy nhất (unique identifier) tùy chọn cho tin nhắn, lý tưởng nhất là được cung cấp bởi nhà cung cấp/mô hình đã tạo ra tin nhắn.\n",
    "        * `type`: Loại của tin nhắn.\n",
    "\n",
    "Nó mong đợi tin nhắn cuối cùng trong danh sách là một `AIMessage` với tham số `tool_calls`.\n",
    "\n",
    "Hãy xem cách gọi `ToolNode` thủ công.\n"
   ]
  },
  {
   "cell_type": "code",
   "execution_count": 5,
   "metadata": {},
   "outputs": [
    {
     "data": {
      "text/plain": [
       "{'messages': [ToolMessage(content='[{\"url\": \"https://news.google.com/rss/articles/CBMipgFBVV95cUxPSnluSGhIajNXbG1sWHVRMVVFLUFZUEx4SERUbkJ4R1lQemVXWDVKYUJwRTRUVkhKNGdWNTRwNDYwYmp0V0JMQ2NHZ3FxdGttTWJuMzEzekd4aTNPWmpLaE56dzN2eFhVS3pqaGJHQUtGellYVlVDZVlPWjM0TnBSTWhwd1haZUpmb2tZaWs3TzQxVVhYTi1QZmJmVVJ4ZHA0SHEwNFN3?oc=5\", \"content\": \"Model Y giá rẻ là giải pháp cứu doanh số Tesla ở Trung Quốc - Znews\"}, {\"url\": \"https://news.google.com/rss/articles/CBMiowFBVV95cUxPSkJrYnA5cmZjYmR4MC1YYWg0WGtRNlpkcjhRZTBnWk0wVllxazhYdGRtOFBBOG5WQ1RUQm16b2NSZEZmQzlicmdxdXpZQ1R4OG5qU2E3akdfNnJURk5zYjhybG9HbXFZZ19vMUxOLWNLSnEyS1dnWUJvV0l1dzIyM3NGbURLVUlfYktPWGhURURJbjhYdEZ2MHBfbTQ1Qm1PcXhR?oc=5\", \"content\": \"Kia EV4 2026: Đối thủ đáng gờm của Tesla Model 3 - Tạp chí Công Thương\"}, {\"url\": \"https://news.google.com/rss/articles/CBMiqgFBVV95cUxOSl8yNHN6N2cxaWV1aU9qMjZPTnNPelpjN1dVcG1GRXdDWDR6VmxabVdrcWFacFpvZ2tkOXlLU2xmMDVtdGJXRkU0SWt1NUZEUDhPVHJUUzJsUHQzM1hpb0QzaDBUNS1ZR05oMDlnV1RRRl9NUXFuZjJQdkw3bTNJMXJaS09qLTY2RGhZWktXcTYzWW1YNHFHWWdnd2xCTGptX24xa1dFRDhKUQ?oc=5\", \"content\": \"Xe điện Tesla Model S làm náo loạn bãi đỗ rồi \\'bay\\' từ tầng cao xuống đất - VietNamNet\"}, {\"url\": \"https://news.google.com/rss/articles/CBMingFBVV95cUxOVVYzb1cwUTQ1M2lHQmlldDZ4d2NuVS0xaXBvWXAyd09mNDF6em5DaUxIM1AwOVVXN09Fa0dWRE5UNTdoQlpOMGJsazRwamF1eVl5dWNHVWRieVQ5RUJ0b2ROR0lDVWtMWUw5My14djJHNHJiaFpDcEFEVDFQSDktcHRtSm1oczhoWWFTRmtmLXUwTHJHSmwzYnZ6U0JUUQ?oc=5\", \"content\": \"Tesla Model Y Juniper 2025 lấy phong cách từ Cybercab - Znews\"}, {\"url\": \"https://news.google.com/rss/articles/CBMilwFBVV95cUxPV2NWVV9JTkRuX0NDREh2akw0eFcxRzY4ZlcwZjJ5ZUtTdXp3YTRUNm5DTUhHcGF6a2tyWGk5QXZzczgwMnVVYzdUV2J0MGJDcmZjLVhUclAtTkJuUXNjV2ktNUVrenlCY0lvVjlMX2ZSMnFPdUIxOWFGYTZQdHlwS1R2d1YwelUwZXpFVElYVmFLNkg4a0pJ0gGXAUFVX3lxTE5zeFV0WndPUnp4ZlQ5Z094Q2lFNVM2d3F1NlVQZ2wzeE5hVXJBRE1oOXdnXzY1TS1iU0xSSm1mQzc3R2VES2VYMW5tZ2Z2TGpzZ2lCbmhTRWVua1FOaXZYWmdOMXI3SnBpbGFIZWp1VUhXNHU0aWZ2NTVLcE45RDQxVFFFSHhnUmNpbU5tNGNhYTB5STJlSGs?oc=5\", \"content\": \"Thực hư về \\'smartphone Tesla\\' của tỉ phú Elon Musk - Báo Thanh Niên\"}]', name='search_news', tool_call_id='tool_call_id')]}"
      ]
     },
     "execution_count": 5,
     "metadata": {},
     "output_type": "execute_result"
    }
   ],
   "source": [
    "from langchain_core.messages import AIMessage\n",
    "\n",
    "# Creating an AI message object with single tool call\n",
    "message_with_single_tool_call = AIMessage(\n",
    "    content=\"\",\n",
    "    tool_calls=[\n",
    "        {\n",
    "            \"name\": \"search_news\",\n",
    "            \"args\": {\"query\": \"Tesla new model\"},\n",
    "            \"id\": \"tool_call_id\",\n",
    "            \"type\": \"tool_call\",\n",
    "        }\n",
    "    ],\n",
    ")\n",
    "\n",
    "# Invoke single tool call with created message\n",
    "tool_node.invoke({\"messages\": [message_with_single_tool_call]})"
   ]
  },
  {
   "cell_type": "markdown",
   "metadata": {},
   "source": [
    "Nói chung, không cần thiết phải tạo thủ công một `AIMessage`, vì nó được tự động tạo bởi tất cả các mô hình trò chuyện LangChain (LangChain chat models) hỗ trợ gọi công cụ (tool invocation).\n",
    "\n",
    "Ngoài ra, bằng cách truyền nhiều lệnh gọi công cụ (tool invocations) vào tham số `tool_calls` của một `AIMessage`, bạn có thể thực hiện các lệnh gọi công cụ song song (parallel tool invocations) bằng cách sử dụng `ToolNode`.\n"
   ]
  },
  {
   "cell_type": "code",
   "execution_count": 6,
   "metadata": {},
   "outputs": [
    {
     "data": {
      "text/plain": [
       "{'messages': [ToolMessage(content='[{\"url\": \"https://news.google.com/rss/articles/CBMipgFBVV95cUxPSnluSGhIajNXbG1sWHVRMVVFLUFZUEx4SERUbkJ4R1lQemVXWDVKYUJwRTRUVkhKNGdWNTRwNDYwYmp0V0JMQ2NHZ3FxdGttTWJuMzEzekd4aTNPWmpLaE56dzN2eFhVS3pqaGJHQUtGellYVlVDZVlPWjM0TnBSTWhwd1haZUpmb2tZaWs3TzQxVVhYTi1QZmJmVVJ4ZHA0SHEwNFN3?oc=5\", \"content\": \"Model Y giá rẻ là giải pháp cứu doanh số Tesla ở Trung Quốc - Znews\"}, {\"url\": \"https://news.google.com/rss/articles/CBMiowFBVV95cUxPSkJrYnA5cmZjYmR4MC1YYWg0WGtRNlpkcjhRZTBnWk0wVllxazhYdGRtOFBBOG5WQ1RUQm16b2NSZEZmQzlicmdxdXpZQ1R4OG5qU2E3akdfNnJURk5zYjhybG9HbXFZZ19vMUxOLWNLSnEyS1dnWUJvV0l1dzIyM3NGbURLVUlfYktPWGhURURJbjhYdEZ2MHBfbTQ1Qm1PcXhR?oc=5\", \"content\": \"Kia EV4 2026: Đối thủ đáng gờm của Tesla Model 3 - Tạp chí Công Thương\"}, {\"url\": \"https://news.google.com/rss/articles/CBMiqgFBVV95cUxOSl8yNHN6N2cxaWV1aU9qMjZPTnNPelpjN1dVcG1GRXdDWDR6VmxabVdrcWFacFpvZ2tkOXlLU2xmMDVtdGJXRkU0SWt1NUZEUDhPVHJUUzJsUHQzM1hpb0QzaDBUNS1ZR05oMDlnV1RRRl9NUXFuZjJQdkw3bTNJMXJaS09qLTY2RGhZWktXcTYzWW1YNHFHWWdnd2xCTGptX24xa1dFRDhKUQ?oc=5\", \"content\": \"Xe điện Tesla Model S làm náo loạn bãi đỗ rồi \\'bay\\' từ tầng cao xuống đất - VietNamNet\"}, {\"url\": \"https://news.google.com/rss/articles/CBMingFBVV95cUxOVVYzb1cwUTQ1M2lHQmlldDZ4d2NuVS0xaXBvWXAyd09mNDF6em5DaUxIM1AwOVVXN09Fa0dWRE5UNTdoQlpOMGJsazRwamF1eVl5dWNHVWRieVQ5RUJ0b2ROR0lDVWtMWUw5My14djJHNHJiaFpDcEFEVDFQSDktcHRtSm1oczhoWWFTRmtmLXUwTHJHSmwzYnZ6U0JUUQ?oc=5\", \"content\": \"Tesla Model Y Juniper 2025 lấy phong cách từ Cybercab - Znews\"}, {\"url\": \"https://news.google.com/rss/articles/CBMilwFBVV95cUxPV2NWVV9JTkRuX0NDREh2akw0eFcxRzY4ZlcwZjJ5ZUtTdXp3YTRUNm5DTUhHcGF6a2tyWGk5QXZzczgwMnVVYzdUV2J0MGJDcmZjLVhUclAtTkJuUXNjV2ktNUVrenlCY0lvVjlMX2ZSMnFPdUIxOWFGYTZQdHlwS1R2d1YwelUwZXpFVElYVmFLNkg4a0pJ0gGXAUFVX3lxTE5zeFV0WndPUnp4ZlQ5Z094Q2lFNVM2d3F1NlVQZ2wzeE5hVXJBRE1oOXdnXzY1TS1iU0xSSm1mQzc3R2VES2VYMW5tZ2Z2TGpzZ2lCbmhTRWVua1FOaXZYWmdOMXI3SnBpbGFIZWp1VUhXNHU0aWZ2NTVLcE45RDQxVFFFSHhnUmNpbU5tNGNhYTB5STJlSGs?oc=5\", \"content\": \"Thực hư về \\'smartphone Tesla\\' của tỉ phú Elon Musk - Báo Thanh Niên\"}]', name='search_news', tool_call_id='tool_call_id_1'),\n",
       "  ToolMessage(content='10\\n', name='python_code_interpreter', tool_call_id='tool_call_id_2')]}"
      ]
     },
     "execution_count": 6,
     "metadata": {},
     "output_type": "execute_result"
    }
   ],
   "source": [
    "# Creating an AI message object with multiple tool calls\n",
    "message_with_multiple_tool_calls = AIMessage(\n",
    "    content=\"\",\n",
    "    tool_calls=[\n",
    "        {\n",
    "            \"name\": \"search_news\",\n",
    "            \"args\": {\"query\": \"Tesla new model\"},\n",
    "            \"id\": \"tool_call_id_1\",\n",
    "            \"type\": \"tool_call\",\n",
    "        },\n",
    "        {\n",
    "            \"name\": \"python_code_interpreter\",\n",
    "            \"args\": {\"code\": \"print(1+2+3+4)\"},\n",
    "            \"id\": \"tool_call_id_2\",\n",
    "            \"type\": \"tool_call\",\n",
    "        },\n",
    "    ],\n",
    ")\n",
    "\n",
    "# Invoke multiple tool calls with created message\n",
    "tool_node.invoke({\"messages\": [message_with_multiple_tool_calls]})"
   ]
  },
  {
   "cell_type": "markdown",
   "metadata": {},
   "source": [
    "## Using with LLMs\n",
    "\n",
    "Để sử dụng các mô hình chat với khả năng gọi công cụ (tool calling), trước tiên chúng ta cần đảm bảo rằng mô hình nhận thức được các công cụ có sẵn.\n",
    "LangChain cung cấp nhiều mô hình chat từ các nhà cung cấp khác nhau như `OpenAI GPT`, `Anthropic Claude`, `Google Gemini` và nhiều hơn nữa.\n",
    "Bạn có thể truy cập [LangChain ChatModels](https://python.langchain.com/docs/integrations/chat/) để biết thêm chi tiết.\n",
    "\n"
   ]
  },
  {
   "cell_type": "code",
   "execution_count": 7,
   "metadata": {},
   "outputs": [],
   "source": [
    "from langchain_ollama import ChatOllama\n",
    "model_with_tools = ChatOllama(model='qwen2.5:7b', temperature=0).bind_tools(tools)"
   ]
  },
  {
   "cell_type": "code",
   "execution_count": 8,
   "metadata": {},
   "outputs": [
    {
     "data": {
      "text/plain": [
       "[{'name': 'python_code_interpreter',\n",
       "  'args': {'code': 'def is_prime(n):\\n    if n <= 1:\\n        return False\\n    for i in range(2, int(n**0.5) + 1):\\n        if n % i == 0:\\n            return False\\n    return True\\n\\ncount = 0\\nprimes = []\\ni = 2\\nwhile count < 5:\\n    if is_prime(i):\\n        primes.append(i)\\n        count += 1\\n    i += 1\\nprint(primes)'},\n",
       "  'id': 'ef342f28-dc09-48d2-8a12-6558a5041ec5',\n",
       "  'type': 'tool_call'}]"
      ]
     },
     "execution_count": 8,
     "metadata": {},
     "output_type": "execute_result"
    }
   ],
   "source": [
    "model_with_tools.invoke(\n",
    "    \"Write Python code to print the first 5 prime numbers.\"\n",
    ").tool_calls"
   ]
  },
  {
   "cell_type": "code",
   "execution_count": 9,
   "metadata": {},
   "outputs": [
    {
     "data": {
      "text/plain": [
       "{'messages': [ToolMessage(content='[2, 3, 5, 7, 11]\\n', name='python_code_interpreter', tool_call_id='de9def06-94be-4b23-add7-7020da334aea')]}"
      ]
     },
     "execution_count": 9,
     "metadata": {},
     "output_type": "execute_result"
    }
   ],
   "source": [
    "# Processing messages through ToolNode and generating tool-based responses from LLM model\n",
    "tool_node.invoke(\n",
    "    {\n",
    "        \"messages\": [\n",
    "            model_with_tools.invoke(\n",
    "                \"Write Python code to print the first 5 prime numbers.\"\n",
    "            )\n",
    "        ]\n",
    "    }\n",
    ")"
   ]
  },
  {
   "cell_type": "markdown",
   "metadata": {},
   "source": [
    "## Using with Agent\n",
    "\n",
    "Tiếp theo, hãy cùng khám phá cách sử dụng `ToolNode` trong đồ thị của `LangGraph`.\n",
    "\n",
    "Chúng ta sẽ thiết lập việc triển khai đồ thị của [`ReAct Agent`]([https://langchain-ai.github.io/langgraph/concepts/agentic_concepts/#react-implementation](https://www.google.com/search?q=https://langchain-ai.github.io/langgraph/concepts/agentic_concepts/%23react-implementation)). Agent này nhận một truy vấn làm đầu vào và liên tục gọi các công cụ cho đến khi thu thập đủ thông tin để giải quyết truy vấn.|\n"
   ]
  },
  {
   "cell_type": "markdown",
   "metadata": {},
   "source": [
    "`ToolNode` và mô hình `Ollama` sẽ được sử dụng cùng với các công cụ mà chúng ta vừa định nghĩa.\n",
    "\n",
    "Hãy xây dựng một đồ thị với các bước sau:\n",
    "1. Sử dụng mô hình LLM để xử lý tin nhắn và tạo phản hồi, trả về phản hồi kèm theo các lệnh gọi công cụ (tool calls).\n",
    "2. Khởi tạo đồ thị quy trình làm việc dựa trên trạng thái tin nhắn.\n",
    "3. Định nghĩa hai node mà chúng ta sẽ luân phiên giữa agent và các công cụ.\n",
    "4. Kết nối điểm bắt đầu của quy trình làm việc với node agent.\n",
    "5. Thiết lập phân nhánh có điều kiện từ node agent, kết nối đến một node công cụ hoặc một điểm cuối (endpoint).\n",
    "6. Thiết lập các cạnh vòng tròn giữa node công cụ và node agent.\n",
    "7. Kết nối node agent đến điểm cuối.\n",
    "8. Biên dịch đồ thị quy trình làm việc đã định nghĩa và tạo một ứng dụng có thể thực thi.\n"
   ]
  },
  {
   "cell_type": "code",
   "execution_count": 11,
   "metadata": {},
   "outputs": [],
   "source": [
    "# Import types for LangGraph workflow state and message processing\n",
    "from langgraph.graph import StateGraph, MessagesState, START, END\n",
    "\n",
    "\n",
    "# 1. Use LLM model to process messages and generate responses, return responses with tool calls\n",
    "def call_model(state: MessagesState):\n",
    "    messages = state[\"messages\"]\n",
    "    response = model_with_tools.invoke(messages)\n",
    "    return {\"messages\": [response]}\n",
    "\n",
    "\n",
    "# 2. Initialize workflow graph based on message state\n",
    "workflow = StateGraph(MessagesState)\n",
    "\n",
    "# 3. Define the two nodes we will cycle between agent and tools\n",
    "# Add agent and tools nodes to the workflow graph\n",
    "workflow.add_node(\"agent\", call_model)\n",
    "workflow.add_node(\"tools\", tool_node)\n",
    "\n",
    "# 4. Connect the workflow starting point to the agent node\n",
    "workflow.add_edge(START, \"agent\")\n",
    "\n",
    "# 5.Set up conditional branching from the agent node, connecting to a tool node or an endpoint\n",
    "workflow.add_conditional_edges(\"agent\", tools_condition)\n",
    "\n",
    "# 6. Set up circular edges between the tool node and the agent node\n",
    "workflow.add_edge(\"tools\", \"agent\")\n",
    "\n",
    "# 7. Connect the agent node to the end point\n",
    "workflow.add_edge(\"agent\", END)\n",
    "\n",
    "# 8. Compile the defined workflow graph and create an executable application\n",
    "app = workflow.compile()"
   ]
  },
  {
   "cell_type": "code",
   "execution_count": 14,
   "metadata": {},
   "outputs": [
    {
     "data": {
      "image/png": "[encoded data removed]",
      "text/plain": [
       "<IPython.core.display.Image object>"
      ]
     },
     "metadata": {},
     "output_type": "display_data"
    }
   ],
   "source": [
    "from IPython.display import Image, display\n",
    "from langchain_core.runnables.graph import MermaidDrawMethod\n",
    "\n",
    "# Visualize the graph\n",
    "display(\n",
    "    Image(\n",
    "        app.get_graph().draw_mermaid_png(\n",
    "            draw_method=MermaidDrawMethod.API,\n",
    "        )\n",
    "    )\n",
    ")"
   ]
  },
  {
   "cell_type": "code",
   "execution_count": 15,
   "metadata": {},
   "outputs": [
    {
     "name": "stdout",
     "output_type": "stream",
     "text": [
      "================================\u001b[1m Human Message \u001b[0m=================================\n",
      "\n",
      "Write Python code to print the first 5 prime numbers.\n",
      "==================================\u001b[1m Ai Message \u001b[0m==================================\n",
      "Tool Calls:\n",
      "  python_code_interpreter (544ef41d-34ae-4601-9a0a-01921c18f03c)\n",
      " Call ID: 544ef41d-34ae-4601-9a0a-01921c18f03c\n",
      "  Args:\n",
      "    code: def is_prime(n):\n",
      "    if n <= 1:\n",
      "        return False\n",
      "    for i in range(2, int(n**0.5) + 1):\n",
      "        if n % i == 0:\n",
      "            return False\n",
      "    return True\n",
      "\n",
      "count = 0\n",
      "primes = []\n",
      "i = 2\n",
      "while count < 5:\n",
      "    if is_prime(i):\n",
      "        primes.append(i)\n",
      "        count += 1\n",
      "    i += 1\n",
      "print(primes)\n",
      "=================================\u001b[1m Tool Message \u001b[0m=================================\n",
      "Name: python_code_interpreter\n",
      "\n",
      "[2, 3, 5, 7, 11]\n",
      "\n",
      "==================================\u001b[1m Ai Message \u001b[0m==================================\n",
      "\n",
      "The first 5 prime numbers are [2, 3, 5, 7, 11].\n"
     ]
    }
   ],
   "source": [
    "for chunk in app.stream(\n",
    "    {\"messages\": [(\"human\", \"Write Python code to print the first 5 prime numbers.\")]},\n",
    "    stream_mode=\"values\",\n",
    "):\n",
    "    # Print the last message\n",
    "    chunk[\"messages\"][-1].pretty_print()"
   ]
  },
  {
   "cell_type": "code",
   "execution_count": null,
   "metadata": {},
   "outputs": [
    {
     "name": "stdout",
     "output_type": "stream",
     "text": [
      "================================\u001b[1m Human Message \u001b[0m=================================\n",
      "\n",
      "What is most played BTS song?\n",
      "==================================\u001b[1m Ai Message \u001b[0m==================================\n",
      "Tool Calls:\n",
      "  search_news (39dfe233-ca54-41e6-8dac-1696c9872c4e)\n",
      " Call ID: 39dfe233-ca54-41e6-8dac-1696c9872c4e\n",
      "  Args:\n",
      "    query: BTS most played\n",
      "=================================\u001b[1m Tool Message \u001b[0m=================================\n",
      "Name: search_news\n",
      "\n",
      "[{\"url\": \"https://news.google.com/rss/articles/CBMisgFBVV95cUxOcjY4aTRPQjVTbml1SlY5ZUVrUFhpem8xVm1HU2I5V2hIbExWcXZrOTJCMHQwTGpnV0tqd2pSaHpTTFBYSUFYdXQ5eTJwdGR0YnU5QVlHZDItN2kzYjZzbEMzZFB2dTNWb010X3czczg0QmVmQ1FHbjhYdG03OF9RVTRNaXhxMTJhcWo0QnhTdGoxQW9BU2FSc2xkZk8tWlgzeWtuVzBkQkxPUENoNHpzSE9n?oc=5\", \"content\": \"Xem trực tiếp BTS ở lễ trao giải Asia Artist Awards 2024 tại đâu? - Báo Lao Động\"}, {\"url\": \"https://news.google.com/rss/articles/CBMiuAFBVV95cUxPWlZjcjk2cGdyZHF3RDM0cnJOYUZkZkxRZzctLVl3WjVqMjZ1YzE1d1B0NS1EZjc4SnBRVDFfeXQwbC1BUjVzb2tGZTRKZUxuS296dElUZEJqWGlZLUJwaWZCRU1JYl9vR3VkQ2pGOFUtS3JCcmZtRGxISTViTnZrenZmbUhzNHBVcE5LeTBBMkt1ejh3SnVDYVRVbFNnMVpjNVYtM184alJiVDBwZEJkUVZNa29ya2hB?oc=5\", \"content\": \"[Video] Hà Nội: Hội nghị tổng kết hoạt động Phật sự năm 2024 của BTS GHPGVN huyện Sóc Sơn - Phat Su Online\"}, {\"url\": \"https://news.google.com/rss/articles/CBMihwFBVV95cUxOcWtSdzNUd0dXRHpjUEhGaHl5MlNVV3FiU1R5b3QwVXRhUU9ZeC1XLXlhV1JqbVM1NDRjYS1idnBsN3F3OU1vLUh1ZF9PYm1YcnpES1R2bkJscVB1ODNScW9BTllLZHl4aWxFc1k5aFdLakdmTWJYZGV4a3Zzdk5rZTRiUHctTFU?oc=5\", \"content\": \"V (BTS) helps Celine Korea increase profits by 591% - vietnam.vn\"}, {\"url\": \"https://news.google.com/rss/articles/CBMiwwFBVV95cUxOVV9PbC1FYnRqODc0QjkyaFdGc3h2ZFpFOWxtZEhESHFqVXlyN25GYTIwVlV4a3QzVldDSjh4S1hRTldreUN5RjV2dlNfVml0TFNDci02TWJkNzN4Sk42c2FHYTRaZWQwYTJVSjg4dENNX3FEaUdLNUI2R0szMXlVaGw2Ti12N2huTTIxU04zcldOeXdaWWY0UkxRa3dfTDU5cEJMV3I0ZGV0R3l2SVpuMXN5emFhSzI5WEptYnU0bmVtUWs?oc=5\", \"content\": \"Golden Disc Awards lần thứ 36 gây sốt vì sự có mặt của BTS trên FPT Play - Báo Dân Trí\"}, {\"url\": \"https://news.google.com/rss/articles/CBMiwgFBVV95cUxOMTUwUUVickpJYWgzSE80b0VLeUFhVnYyZjhqSXdMY2lLRy1DQ0VTbzNDanJ3ZjFubHhVNmlvU1pmWTY5MHI5MnNnWkU2aGI4dFo1a051U01pVDN0Q3NwbWhiSHluT1M2QVlfOWdNeVNKWTRlRlAwMG4tUDdVVmFndjNyUDBHM0xNRWpHZy1CSnZTbXFfcWZuNk10aFU3YkhEVlFkODAyZTdSdXBJcTJNaGdFSGxlTXVFV2Q5Zm1pU2hfdw?oc=5\", \"content\": \"BTS có tới 2 bài hát lọt vào top 500 ca khúc hay nhất mọi thời đại của Rolling Stone - Kênh 14\"}]\n"
     ]
    }
   ],
   "source": [
    "# Search query\n",
    "for chunk in app.stream(\n",
    "    {\"messages\": [(\"human\", \"What is most played BTS song?\")]},\n",
    "    stream_mode=\"values\",\n",
    "):\n",
    "    chunk[\"messages\"][-1].pretty_print()"
   ]
  },
  {
   "cell_type": "code",
   "execution_count": null,
   "metadata": {},
   "outputs": [],
   "source": [
    "# Query that does not require tool call\n",
    "for chunk in app.stream(\n",
    "    {\"messages\": [(\"human\", \"Hi, How's it going?\")]},\n",
    "    stream_mode=\"values\",\n",
    "):\n",
    "    chunk[\"messages\"][-1].pretty_print()"
   ]
  },
  {
   "cell_type": "markdown",
   "metadata": {},
   "source": [
    "`ToolNode` can also handle errors that occur during tool execution.\n",
    "\n",
    "You can enable/disable this feature by setting `handle_tool_errors=True` (enabled by default)."
   ]
  },
  {
   "cell_type": "markdown",
   "metadata": {},
   "source": []
  }
 ],
 "metadata": {
  "kernelspec": {
   "display_name": "langchain",
   "language": "python",
   "name": "python3"
  },
  "language_info": {
   "codemirror_mode": {
    "name": "ipython",
    "version": 3
   },
   "file_extension": ".py",
   "mimetype": "text/x-python",
   "name": "python",
   "nbconvert_exporter": "python",
   "pygments_lexer": "ipython3",
   "version": "3.10.16"
  }
 },
 "nbformat": 4,
 "nbformat_minor": 2
}
