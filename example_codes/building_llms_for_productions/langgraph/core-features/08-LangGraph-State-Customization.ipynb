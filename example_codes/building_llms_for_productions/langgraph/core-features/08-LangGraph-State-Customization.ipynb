{
 "cells": [
  {
   "cell_type": "markdown",
   "metadata": {},
   "source": [
    "# Asking Humans for Help: Customizing State in LangGraph\n",
    "\n",
    "Hướng dẫn này trình bày cách mở rộng chatbot bằng LangGraph bằng cách thêm một **\"nút người dùng\"**, cho phép hệ thống tùy chọn yêu cầu sự trợ giúp từ con người. Nó giới thiệu tùy chỉnh trạng thái với cờ \"ask_human\" và cho thấy cách xử lý các gián đoạn và cập nhật trạng thái thủ công. Hướng dẫn này cũng bao gồm trực quan hóa đồ thị, logic có điều kiện và tích hợp các công cụ như tìm kiếm web và hỗ trợ từ con người.\n"
   ]
  },
  {
   "cell_type": "code",
   "execution_count": 3,
   "metadata": {},
   "outputs": [
    {
     "data": {
      "text/plain": [
       "<langgraph.graph.state.StateGraph at 0x7c71b3de1cc0>"
      ]
     },
     "execution_count": 3,
     "metadata": {},
     "output_type": "execute_result"
    }
   ],
   "source": [
    "from dotenv import load_dotenv\n",
    "from typing import Annotated\n",
    "from typing_extensions import TypedDict\n",
    "from pydantic import BaseModel\n",
    "from langchain_ollama import ChatOllama\n",
    "from langgraph.checkpoint.memory import MemorySaver\n",
    "from langgraph.graph import StateGraph, START, END\n",
    "from langgraph.graph.message import add_messages\n",
    "from langgraph.prebuilt import ToolNode, tools_condition\n",
    "from langchain_community.tools import TavilySearchResults\n",
    "\n",
    "_ = load_dotenv(dotenv_path='../.env')\n",
    "\n",
    "###### Define the State ######\n",
    "class State(TypedDict):\n",
    "    messages: Annotated[list, add_messages]\n",
    "    ask_human: bool\n",
    "\n",
    "class HumanRequest(BaseModel):\n",
    "    \"\"\"Forward the conversation to an expert. Use when you can't assist directly or the user needs assistance that exceeds your authority.\n",
    "    To use this function, pass the user's 'request' so that an expert can provide appropriate guidance.\n",
    "    \"\"\"\n",
    "\n",
    "    request: str\n",
    "    \n",
    "tool = TavilySearchResults(max_results=3)\n",
    "tools =[tool, HumanRequest]\n",
    "llm = ChatOllama(model='qwen2.5:7b', temperature=0)\n",
    "llm_with_tools = llm.bind_tools(tools)\n",
    "\n",
    "def chatbot(state: State):\n",
    "    # Generate a response using the LLM tool calls\n",
    "    response = llm_with_tools.invoke(state[\"messages\"])\n",
    "\n",
    "    # Initialize the ask_human flag\n",
    "    ask_human = False\n",
    "\n",
    "    # If there is a tool call and its name is 'HumanRequest'\n",
    "    if response.tool_calls and response.tool_calls[0][\"name\"] == HumanRequest.__name__:\n",
    "        ask_human = True\n",
    "\n",
    "    # Return the messages and the ask_human state\n",
    "    return {\"messages\": [response], \"ask_human\": ask_human}\n",
    "\n",
    "\n",
    "# Initialize the state graph\n",
    "graph_builder = StateGraph(State)\n",
    "\n",
    "# Add the chatbot node\n",
    "graph_builder.add_node(\"chatbot\", chatbot)\n",
    "\n",
    "# Add the tools node\n",
    "graph_builder.add_node(\"tools\", ToolNode(tools=[tool]))"
   ]
  },
  {
   "cell_type": "markdown",
   "metadata": {},
   "source": [
    "## Setting Up the Human Node\n",
    "\n",
    "Tiếp theo, chúng ta tạo nút `human`.\n",
    "\n",
    "Nút này chủ yếu đóng vai trò là một chỗ giữ chỗ để kích hoạt ngắt trong đồ thị. Nếu người dùng không cập nhật trạng thái thủ công trong quá trình `interrupt`, LLM sẽ chèn một thông báo công cụ để cho biết rằng người dùng đã được yêu cầu trợ giúp nhưng không phản hồi.\n",
    "\n",
    "Nút này cũng đặt lại cờ `ask_human` để đảm bảo đồ thị không truy cập lại nút trừ khi có yêu cầu khác được thực hiện.\n",
    "\n",
    "> Reference Image\n",
    "\n",
    "![](../images/08-langgraph-state-customization.png)"
   ]
  },
  {
   "cell_type": "code",
   "execution_count": 4,
   "metadata": {},
   "outputs": [],
   "source": [
    "from langchain_core.messages import AIMessage, ToolMessage\n",
    "\n",
    "# Function to create a response message (for generating ToolMessage)\n",
    "def create_response(response: str, ai_message: AIMessage):\n",
    "    return ToolMessage(\n",
    "        content=response,\n",
    "        tool_call_id=ai_message.tool_calls[0][\"id\"],\n",
    "    )\n",
    "\n",
    "# Human node processing\n",
    "def human_node(state: State):\n",
    "    new_messages = []\n",
    "    if not isinstance(state[\"messages\"][-1], ToolMessage):\n",
    "        # If there is no response from the human\n",
    "        new_messages.append(\n",
    "            create_response(\"No response from human.\", state[\"messages\"][-1])\n",
    "        )\n",
    "    return {\n",
    "        # Add new messages\n",
    "        \"messages\": new_messages,\n",
    "        # Reset the flag\n",
    "        \"ask_human\": False,\n",
    "    }\n",
    "\n",
    "# Add the human node to the graph\n",
    "if \"human\" not in graph_builder.nodes: \n",
    "    graph_builder.add_node(\"human\", human_node)"
   ]
  },
  {
   "cell_type": "markdown",
   "metadata": {},
   "source": [
    "Tiếp theo, chúng ta định nghĩa logic điều kiện.\n",
    "\n",
    "Hàm `select_next_node` định tuyến đường dẫn đến nút `human` nếu cờ được đặt. Nếu không, nó sử dụng hàm `tools_condition` được xây dựng sẵn để chọn nút tiếp theo.\n",
    "\n",
    "Hàm `tools_condition` chỉ đơn giản kiểm tra xem `chatbot` có sử dụng `tool_calls` trong thông báo phản hồi hay không.\n",
    "\n",
    "Nếu có, nó định tuyến đến nút `action`. Nếu không, nó kết thúc đồ thị.\n"
   ]
  },
  {
   "cell_type": "code",
   "execution_count": 5,
   "metadata": {},
   "outputs": [
    {
     "data": {
      "text/plain": [
       "<langgraph.graph.state.StateGraph at 0x7c71b3de1cc0>"
      ]
     },
     "execution_count": 5,
     "metadata": {},
     "output_type": "execute_result"
    }
   ],
   "source": [
    "from langgraph.graph import END\n",
    "\n",
    "# Function to select the next node\n",
    "def select_next_node(state: State):\n",
    "    # Check if the chatbot should ask a human\n",
    "    if state[\"ask_human\"]:\n",
    "        return \"human\"\n",
    "    # Otherwise, follow the same path as before\n",
    "    return tools_condition(state)\n",
    "\n",
    "# Add conditional edges\n",
    "graph_builder.add_conditional_edges(\n",
    "    \"chatbot\",\n",
    "    select_next_node,\n",
    "    {\"human\": \"human\", \"tools\": \"tools\", END: END},\n",
    ")"
   ]
  },
  {
   "cell_type": "markdown",
   "metadata": {},
   "source": [
    "Finally, we connect the edges and compile the graph."
   ]
  },
  {
   "cell_type": "code",
   "execution_count": 7,
   "metadata": {},
   "outputs": [],
   "source": [
    "# Add edge: from 'tools' to 'chatbot'\n",
    "graph_builder.add_edge(\"tools\", \"chatbot\")\n",
    "\n",
    "# Add edge: from 'human' to 'chatbot'\n",
    "graph_builder.add_edge(\"human\", \"chatbot\")\n",
    "\n",
    "# Add edge: from START to 'chatbot'\n",
    "graph_builder.add_edge(START, \"chatbot\")\n",
    "\n",
    "# Initialize memory storage\n",
    "memory = MemorySaver()\n",
    "\n",
    "# Compile the graph: use memory checkpointing\n",
    "graph = graph_builder.compile(\n",
    "    checkpointer=memory,\n",
    "    # Set interrupt before 'human'\n",
    "    interrupt_before=[\"human\"],\n",
    ")"
   ]
  },
  {
   "cell_type": "code",
   "execution_count": 8,
   "metadata": {},
   "outputs": [
    {
     "data": {
      "image/png": "[encoded data removed]",
      "text/plain": [
       "<langgraph.graph.state.CompiledStateGraph object at 0x7c71b348a7d0>"
      ]
     },
     "execution_count": 8,
     "metadata": {},
     "output_type": "execute_result"
    }
   ],
   "source": [
    "graph"
   ]
  },
  {
   "cell_type": "markdown",
   "metadata": {},
   "source": [
    "Nút `chatbot` hoạt động như sau:\n",
    "\n",
    "- Chatbot có thể yêu cầu sự trợ giúp từ con người (chatbot->select->human)\n",
    "- Nó có thể gọi một công cụ tìm kiếm (chatbot->select->action)\n",
    "- Hoặc nó có thể phản hồi trực tiếp (chatbot->select-> **end** ).\n",
    "\n",
    "Khi một hành động hoặc yêu cầu được thực hiện, đồ thị chuyển trở lại nút `chatbot` để tiếp tục nhiệm vụ.\n"
   ]
  },
  {
   "cell_type": "markdown",
   "metadata": {},
   "source": [
    "### Full code"
   ]
  },
  {
   "cell_type": "code",
   "execution_count": 9,
   "metadata": {},
   "outputs": [
    {
     "data": {
      "image/png": "[encoded data removed]",
      "text/plain": [
       "<langgraph.graph.state.CompiledStateGraph object at 0x7c71b329baf0>"
      ]
     },
     "execution_count": 9,
     "metadata": {},
     "output_type": "execute_result"
    }
   ],
   "source": [
    "from dotenv import load_dotenv\n",
    "from typing import Annotated\n",
    "from typing_extensions import TypedDict\n",
    "from pydantic import BaseModel\n",
    "from langchain_ollama import ChatOllama\n",
    "from langgraph.checkpoint.memory import MemorySaver\n",
    "from langgraph.graph import StateGraph, START, END\n",
    "from langgraph.graph.message import add_messages\n",
    "from langgraph.prebuilt import ToolNode, tools_condition\n",
    "from langchain_community.tools import TavilySearchResults\n",
    "from langchain_core.messages import AIMessage, ToolMessage\n",
    "\n",
    "\n",
    "_ = load_dotenv(dotenv_path='../.env')\n",
    "\n",
    "###### Define the State ######\n",
    "class State(TypedDict):\n",
    "    messages: Annotated[list, add_messages]\n",
    "    ask_human: bool\n",
    "\n",
    "class HumanRequest(BaseModel):\n",
    "    \"\"\"Forward the conversation to an expert. Use when you can't assist directly or the user needs assistance that exceeds your authority.\n",
    "    To use this function, pass the user's 'request' so that an expert can provide appropriate guidance.\n",
    "    \"\"\"\n",
    "\n",
    "    request: str\n",
    "    \n",
    "tool = TavilySearchResults(max_results=3)\n",
    "tools =[tool, HumanRequest]\n",
    "llm = ChatOllama(model='qwen2.5:7b', temperature=0)\n",
    "llm_with_tools = llm.bind_tools(tools)\n",
    "\n",
    "def chatbot(state: State):\n",
    "    # Generate a response using the LLM tool calls\n",
    "    response = llm_with_tools.invoke(state[\"messages\"])\n",
    "\n",
    "    # Initialize the ask_human flag\n",
    "    ask_human = False\n",
    "\n",
    "    # If there is a tool call and its name is 'HumanRequest'\n",
    "    if response.tool_calls and response.tool_calls[0][\"name\"] == HumanRequest.__name__:\n",
    "        ask_human = True\n",
    "\n",
    "    # Return the messages and the ask_human state\n",
    "    return {\"messages\": [response], \"ask_human\": ask_human}\n",
    "\n",
    "\n",
    "# Initialize the state graph\n",
    "graph_builder = StateGraph(State)\n",
    "\n",
    "# Add the chatbot node\n",
    "graph_builder.add_node(\"chatbot\", chatbot)\n",
    "\n",
    "# Add the tools node\n",
    "graph_builder.add_node(\"tools\", ToolNode(tools=[tool]))\n",
    "\n",
    "# Function to create a response message (for generating ToolMessage)\n",
    "def create_response(response: str, ai_message: AIMessage):\n",
    "    return ToolMessage(\n",
    "        content=response,\n",
    "        tool_call_id=ai_message.tool_calls[0][\"id\"],\n",
    "    )\n",
    "\n",
    "# Human node processing\n",
    "def human_node(state: State):\n",
    "    new_messages = []\n",
    "    if not isinstance(state[\"messages\"][-1], ToolMessage):\n",
    "        # If there is no response from the human\n",
    "        new_messages.append(\n",
    "            create_response(\"No response from human.\", state[\"messages\"][-1])\n",
    "        )\n",
    "    return {\n",
    "        # Add new messages\n",
    "        \"messages\": new_messages,\n",
    "        # Reset the flag\n",
    "        \"ask_human\": False,\n",
    "    }\n",
    "\n",
    "# Add the human node to the graph\n",
    "if \"human\" not in graph_builder.nodes: \n",
    "    graph_builder.add_node(\"human\", human_node)\n",
    "\n",
    "# Function to select the next node\n",
    "def select_next_node(state: State):\n",
    "    # Check if the chatbot should ask a human\n",
    "    if state[\"ask_human\"]:\n",
    "        return \"human\"\n",
    "    # Otherwise, follow the same path as before\n",
    "    return tools_condition(state)\n",
    "\n",
    "# Add conditional edges\n",
    "graph_builder.add_conditional_edges(\n",
    "    \"chatbot\",\n",
    "    select_next_node,\n",
    "    {\"human\": \"human\", \"tools\": \"tools\", END: END},)\n",
    "\n",
    "# Add edge: from 'tools' to 'chatbot'\n",
    "graph_builder.add_edge(\"tools\", \"chatbot\")\n",
    "\n",
    "# Add edge: from 'human' to 'chatbot'\n",
    "graph_builder.add_edge(\"human\", \"chatbot\")\n",
    "\n",
    "# Add edge: from START to 'chatbot'\n",
    "graph_builder.add_edge(START, \"chatbot\")\n",
    "\n",
    "# Initialize memory storage\n",
    "memory = MemorySaver()\n",
    "\n",
    "# Compile the graph: use memory checkpointing\n",
    "graph = graph_builder.compile(\n",
    "    checkpointer=memory,\n",
    "    # Set interrupt before 'human'\n",
    "    interrupt_before=[\"human\"],\n",
    ")\n",
    "\n",
    "graph"
   ]
  },
  {
   "cell_type": "code",
   "execution_count": null,
   "metadata": {},
   "outputs": [
    {
     "name": "stdout",
     "output_type": "stream",
     "text": [
      "================================\u001b[1m Human Message \u001b[0m=================================\n",
      "\n",
      "I need expert help to build this AI agent. Can you request assistance?\n",
      "==================================\u001b[1m Ai Message \u001b[0m==================================\n",
      "Tool Calls:\n",
      "  HumanRequest (7b59770e-4e2f-41f2-bc7a-65735bf65a69)\n",
      " Call ID: 7b59770e-4e2f-41f2-bc7a-65735bf65a69\n",
      "  Args:\n",
      "    request: I need expert help to build this AI agent.\n"
     ]
    }
   ],
   "source": [
    "from langchain_core.runnables import RunnableConfig\n",
    "# user_input = \"I need expert help to build this AI agent. Please search for an answer.\" (Case where it performs a web search instead of asking a human)\n",
    "user_input = \"I need expert help to build this AI agent. Can you request assistance?\"\n",
    "\n",
    "# Config setup\n",
    "config = RunnableConfig(configurable={'thread_id':  '1'}) #{\"configurable\": {\"thread_id\": \"1\"}}\n",
    "\n",
    "# Stream or call the second positional argument as configuration\n",
    "events = graph.stream(\n",
    "    {\"messages\": [(\"user\", user_input)]}, config, stream_mode=\"values\"\n",
    ")\n",
    "for event in events:\n",
    "    if \"messages\" in event:\n",
    "        # Pretty print the last message\n",
    "        event[\"messages\"][-1].pretty_print()"
   ]
  },
  {
   "cell_type": "code",
   "execution_count": 12,
   "metadata": {},
   "outputs": [
    {
     "data": {
      "text/plain": [
       "('human',)"
      ]
     },
     "execution_count": 12,
     "metadata": {},
     "output_type": "execute_result"
    }
   ],
   "source": [
    "# Create a snapshot of the graph state\n",
    "snapshot = graph.get_state(config)\n",
    "\n",
    "# Access the next snapshot state\n",
    "snapshot.next"
   ]
  },
  {
   "cell_type": "markdown",
   "metadata": {},
   "source": [
    "Trạng thái đồ thị thực sự bị **gián đoạn** trước nút `'human'`. Trong tình huống này, bạn có thể đóng vai trò là \"chuyên gia\" và cập nhật trạng thái thủ công bằng cách thêm một `ToolMessage` mới với đầu vào của bạn.\n",
    "\n",
    "Để phản hồi yêu cầu của chatbot, hãy làm theo các bước sau:\n",
    "\n",
    "1. Tạo một `ToolMessage` chứa phản hồi của bạn. Thông báo này sẽ được chuyển lại cho `chatbot`.\n",
    "2. Gọi `update_state` để cập nhật trạng thái đồ thị thủ công.\n"
   ]
  },
  {
   "cell_type": "code",
   "execution_count": 13,
   "metadata": {},
   "outputs": [
    {
     "data": {
      "text/plain": [
       "{'configurable': {'thread_id': '1',\n",
       "  'checkpoint_ns': '',\n",
       "  'checkpoint_id': '1f00861e-e36b-6db9-8002-6e6448955d4f'}}"
      ]
     },
     "execution_count": 13,
     "metadata": {},
     "output_type": "execute_result"
    }
   ],
   "source": [
    "# Extract the AI message\n",
    "ai_message = snapshot.values[\"messages\"][-1]\n",
    "\n",
    "# Create a human response\n",
    "human_response = (\n",
    "    \"Experts are here to help! We highly recommend checking out LangGraph for building your agent. \"\n",
    "    \"It is much more stable and scalable than a simple autonomous agent. \"\n",
    "    \"You can find more information at https://wikidocs.net/233785.\"\n",
    ")\n",
    "\n",
    "# Create a tool message\n",
    "tool_message = create_response(human_response, ai_message)\n",
    "\n",
    "# Update the graph state\n",
    "graph.update_state(config, {\"messages\": [tool_message]})"
   ]
  },
  {
   "cell_type": "markdown",
   "metadata": {},
   "source": [
    "You can check the state to confirm that the response has been added."
   ]
  },
  {
   "cell_type": "code",
   "execution_count": 14,
   "metadata": {},
   "outputs": [
    {
     "data": {
      "text/plain": [
       "[HumanMessage(content='I need expert help to build this AI agent. Can you request assistance?', additional_kwargs={}, response_metadata={}, id='8ea5dafa-a0b7-4845-ae91-3bf02aa752bf'),\n",
       " AIMessage(content='', additional_kwargs={}, response_metadata={'model': 'qwen2.5:7b', 'created_at': '2025-03-24T03:39:42.545405089Z', 'done': True, 'done_reason': 'stop', 'total_duration': 29301034332, 'load_duration': 2474740318, 'prompt_eval_count': 288, 'prompt_eval_duration': 21877000000, 'eval_count': 29, 'eval_duration': 4941000000, 'message': {'role': 'assistant', 'content': '', 'images': None, 'tool_calls': None}}, id='run-94fb3262-6069-4f22-b723-33b4e4d0550c-0', tool_calls=[{'name': 'HumanRequest', 'args': {'request': 'I need expert help to build this AI agent.'}, 'id': '7b59770e-4e2f-41f2-bc7a-65735bf65a69', 'type': 'tool_call'}], usage_metadata={'input_tokens': 288, 'output_tokens': 29, 'total_tokens': 317}),\n",
       " ToolMessage(content='Experts are here to help! We highly recommend checking out LangGraph for building your agent. It is much more stable and scalable than a simple autonomous agent. You can find more information at https://wikidocs.net/233785.', id='71c8831f-c81c-4200-882b-e524d10a8157', tool_call_id='7b59770e-4e2f-41f2-bc7a-65735bf65a69')]"
      ]
     },
     "execution_count": 14,
     "metadata": {},
     "output_type": "execute_result"
    }
   ],
   "source": [
    "# Get the message values from the graph state\n",
    "graph.get_state(config).values[\"messages\"]"
   ]
  },
  {
   "cell_type": "markdown",
   "metadata": {},
   "source": [
    "Next, we **resume** the graph by passing `None` as the input."
   ]
  },
  {
   "cell_type": "code",
   "execution_count": 15,
   "metadata": {},
   "outputs": [
    {
     "name": "stdout",
     "output_type": "stream",
     "text": [
      "=================================\u001b[1m Tool Message \u001b[0m=================================\n",
      "\n",
      "Experts are here to help! We highly recommend checking out LangGraph for building your agent. It is much more stable and scalable than a simple autonomous agent. You can find more information at https://wikidocs.net/233785.\n",
      "=================================\u001b[1m Tool Message \u001b[0m=================================\n",
      "\n",
      "Experts are here to help! We highly recommend checking out LangGraph for building your agent. It is much more stable and scalable than a simple autonomous agent. You can find more information at https://wikidocs.net/233785.\n",
      "==================================\u001b[1m Ai Message \u001b[0m==================================\n",
      "\n",
      "Based on the advice from our experts, I recommend using LangGraph to build your AI agent. It's known for being more stable and scalable compared to simpler solutions. You can learn more about it [here](https://wikidocs.net/233785). If you need further assistance or have specific questions, feel free to ask!\n"
     ]
    }
   ],
   "source": [
    "# Generate an event stream from the graph\n",
    "events = graph.stream(None, config, stream_mode=\"values\")\n",
    "\n",
    "# Process each event\n",
    "for event in events:\n",
    "    # Print the last message if messages are present\n",
    "    if \"messages\" in event:\n",
    "        event[\"messages\"][-1].pretty_print()"
   ]
  },
  {
   "cell_type": "code",
   "execution_count": 16,
   "metadata": {},
   "outputs": [
    {
     "name": "stdout",
     "output_type": "stream",
     "text": [
      "================================\u001b[1m Human Message \u001b[0m=================================\n",
      "\n",
      "I need expert help to build this AI agent. Can you request assistance?\n",
      "==================================\u001b[1m Ai Message \u001b[0m==================================\n",
      "Tool Calls:\n",
      "  HumanRequest (7b59770e-4e2f-41f2-bc7a-65735bf65a69)\n",
      " Call ID: 7b59770e-4e2f-41f2-bc7a-65735bf65a69\n",
      "  Args:\n",
      "    request: I need expert help to build this AI agent.\n",
      "=================================\u001b[1m Tool Message \u001b[0m=================================\n",
      "\n",
      "Experts are here to help! We highly recommend checking out LangGraph for building your agent. It is much more stable and scalable than a simple autonomous agent. You can find more information at https://wikidocs.net/233785.\n",
      "==================================\u001b[1m Ai Message \u001b[0m==================================\n",
      "\n",
      "Based on the advice from our experts, I recommend using LangGraph to build your AI agent. It's known for being more stable and scalable compared to simpler solutions. You can learn more about it [here](https://wikidocs.net/233785). If you need further assistance or have specific questions, feel free to ask!\n"
     ]
    }
   ],
   "source": [
    "# Check the final state\n",
    "state = graph.get_state(config)\n",
    "\n",
    "# Print the messages step by step\n",
    "for message in state.values[\"messages\"]:\n",
    "    message.pretty_print()"
   ]
  },
  {
   "cell_type": "code",
   "execution_count": null,
   "metadata": {},
   "outputs": [],
   "source": []
  }
 ],
 "metadata": {
  "kernelspec": {
   "display_name": "langchain",
   "language": "python",
   "name": "python3"
  },
  "language_info": {
   "codemirror_mode": {
    "name": "ipython",
    "version": 3
   },
   "file_extension": ".py",
   "mimetype": "text/x-python",
   "name": "python",
   "nbconvert_exporter": "python",
   "pygments_lexer": "ipython3",
   "version": "3.10.16"
  }
 },
 "nbformat": 4,
 "nbformat_minor": 2
}
