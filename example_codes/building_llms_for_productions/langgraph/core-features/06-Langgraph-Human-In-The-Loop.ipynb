{
 "cells": [
  {
   "cell_type": "markdown",
   "metadata": {},
   "source": [
    "# Human-in-the-loop\n",
    "\n",
    "Hướng dẫn này bao gồm **Human in the loop** (Con người trong vòng lặp).\n",
    "\n",
    "Các agent không phải lúc nào cũng đáng tin cậy và sự can thiệp của con người có thể cần thiết để đảm bảo các tác vụ được thực hiện thành công.\n",
    "\n",
    "Trong một số trường hợp, bạn có thể muốn sự chấp thuận của con người trước khi tiếp tục để xác nhận rằng mọi thứ đang hoạt động như dự định. LangGraph hỗ trợ các quy trình làm việc **Human-in-the-loop** này.\n",
    "\n",
    "Trong hướng dẫn này, bạn sẽ học cách sử dụng tính năng `interrupt_before` của LangGraph để tạm dừng quá trình thực thi, cho phép sự giám sát và kiểm soát của con người.\n"
   ]
  },
  {
   "cell_type": "markdown",
   "metadata": {},
   "source": [
    "## Function Setup\n",
    "\n",
    "Convenient functions for smooth execution."
   ]
  },
  {
   "cell_type": "code",
   "execution_count": 1,
   "metadata": {},
   "outputs": [],
   "source": [
    "import feedparser\n",
    "from urllib.parse import quote # mã hóa các ký tự đặc biệt trong một chuỗi để nó trở thành định dạng an toàn khi dùng trong URL\n",
    "from typing import List, Dict, Optional\n",
    "\n",
    "class GoogleNews:\n",
    "    \"\"\"\n",
    "    A class to search Google News\n",
    "    \"\"\"\n",
    "    def __init__(self) -> None:\n",
    "        \"\"\"\n",
    "        Init the base url\n",
    "        \"\"\"\n",
    "        self.base_url = \"https://news.google.com/rss\"\n",
    "    \n",
    "    def _fetch_news(self, url: str, k: int = 3) -> List[Dict[str, str]]:\n",
    "        \"\"\"\n",
    "        Fetches news from the given URL.\n",
    "        \"\"\"\n",
    "        news_data = feedparser.parse(url)\n",
    "        return [\n",
    "            {\"title\": entry.title, \"link\": entry.link}\n",
    "            for entry in news_data.entries[:k]\n",
    "        ] # type: ignore\n",
    "    \n",
    "    def _collect_news(self, news_list: List[Dict[str, str]]) -> List[Dict[str, str]]:\n",
    "        \"\"\"\n",
    "        Organizes and returns the news list\n",
    "        \"\"\"\n",
    "        if not news_list:\n",
    "            print(\"No news found for the given keywords\")\n",
    "            return []\n",
    "        \n",
    "        result = []\n",
    "        for news in news_list:\n",
    "            result.append({\"url\": news[\"link\"], \"content\": news[\"title\"]})\n",
    "\n",
    "        return result\n",
    "    \n",
    "            \n",
    "    def search_latest(self, k: int = 3) -> List[Dict[str, str]]:\n",
    "        \"\"\"\n",
    "        Searches for the latest news.\n",
    "        \"\"\"\n",
    "        url = f\"{self.base_url}?hl=vi&gl=VN&ceid=VN%3Avi\"\n",
    "        news_list = self._fetch_news(url, k)\n",
    "        return self._collect_news(news_list)\n",
    "\n",
    "    def search_by_keyword(\n",
    "        self, keyword: Optional[str] = None, k: int = 3\n",
    "    ) -> List[Dict[str, str]]:\n",
    "        \"\"\"\n",
    "        Searches for news by keyword.\n",
    "        \"\"\"\n",
    "        if keyword:\n",
    "            encoded_keyword = quote(keyword)\n",
    "            url = f\"{self.base_url}/search?q={encoded_keyword}&hl=vi&gl=VN&ceid=VN%3Avi\"\n",
    "        else:\n",
    "            url = f\"{self.base_url}?hl=vi&gl=VN&ceid=VN%3Avi\"\n",
    "        news_list = self._fetch_news(url, k)\n",
    "        return self._collect_news(news_list)        "
   ]
  },
  {
   "cell_type": "code",
   "execution_count": 2,
   "metadata": {},
   "outputs": [],
   "source": [
    "test_url = \"https://news.google.com/rss/?hl=vi&gl=VN&ceid=VN%3Avi\"\n",
    "result = feedparser.parse(test_url)"
   ]
  },
  {
   "cell_type": "code",
   "execution_count": 3,
   "metadata": {},
   "outputs": [
    {
     "data": {
      "text/plain": [
       "{'title': 'Video UAV Ukraine vượt mặt hệ thống phòng không Nga, bắn nổ nhiều mục tiêu - VietNamNet',\n",
       " 'title_detail': {'type': 'text/plain',\n",
       "  'language': None,\n",
       "  'base': 'https://news.google.com/rss?hl=vi&gl=VN&ceid=VN:vi',\n",
       "  'value': 'Video UAV Ukraine vượt mặt hệ thống phòng không Nga, bắn nổ nhiều mục tiêu - VietNamNet'},\n",
       " 'links': [{'rel': 'alternate',\n",
       "   'type': 'text/html',\n",
       "   'href': 'https://news.google.com/rss/articles/CBMirAFBVV95cUxQeC00SkRrZ0UyUzJGSEtIcml6ODZEVi1peHdOckU2NjFWSEdscUhrZzRhRjZ0NzhvN2ZtcWZNZXVHTmZkdnF0ejVvTHVqeDNESWlFLU5ZUWd3NE0xUnpSYV9pd2ZJeC12dUo2T3ZOb0hjVU00SnhmLU83TDBrR3l6U3dNZi1xWEFDQ010eXlva3pYOTk5ZFBaeXpCM1ZodWVjYnp4bUV1c3Rib0dL?oc=5'}],\n",
       " 'link': 'https://news.google.com/rss/articles/CBMirAFBVV95cUxQeC00SkRrZ0UyUzJGSEtIcml6ODZEVi1peHdOckU2NjFWSEdscUhrZzRhRjZ0NzhvN2ZtcWZNZXVHTmZkdnF0ejVvTHVqeDNESWlFLU5ZUWd3NE0xUnpSYV9pd2ZJeC12dUo2T3ZOb0hjVU00SnhmLU83TDBrR3l6U3dNZi1xWEFDQ010eXlva3pYOTk5ZFBaeXpCM1ZodWVjYnp4bUV1c3Rib0dL?oc=5',\n",
       " 'id': 'CBMirAFBVV95cUxQeC00SkRrZ0UyUzJGSEtIcml6ODZEVi1peHdOckU2NjFWSEdscUhrZzRhRjZ0NzhvN2ZtcWZNZXVHTmZkdnF0ejVvTHVqeDNESWlFLU5ZUWd3NE0xUnpSYV9pd2ZJeC12dUo2T3ZOb0hjVU00SnhmLU83TDBrR3l6U3dNZi1xWEFDQ010eXlva3pYOTk5ZFBaeXpCM1ZodWVjYnp4bUV1c3Rib0dL',\n",
       " 'guidislink': False,\n",
       " 'published': 'Sat, 22 Mar 2025 22:10:00 GMT',\n",
       " 'published_parsed': time.struct_time(tm_year=2025, tm_mon=3, tm_mday=22, tm_hour=22, tm_min=10, tm_sec=0, tm_wday=5, tm_yday=81, tm_isdst=0),\n",
       " 'summary': '<ol><li><a href=\"https://news.google.com/rss/articles/CBMirAFBVV95cUxQeC00SkRrZ0UyUzJGSEtIcml6ODZEVi1peHdOckU2NjFWSEdscUhrZzRhRjZ0NzhvN2ZtcWZNZXVHTmZkdnF0ejVvTHVqeDNESWlFLU5ZUWd3NE0xUnpSYV9pd2ZJeC12dUo2T3ZOb0hjVU00SnhmLU83TDBrR3l6U3dNZi1xWEFDQ010eXlva3pYOTk5ZFBaeXpCM1ZodWVjYnp4bUV1c3Rib0dL?oc=5\" target=\"_blank\">Video UAV Ukraine vượt mặt hệ thống phòng không Nga, bắn nổ nhiều mục tiêu</a>&nbsp;&nbsp;<font color=\"#6f6f6f\">VietNamNet</font></li><li><a href=\"https://news.google.com/rss/articles/CBMilAFBVV95cUxPeldDOEZsSVFIcmpZckVxV1laVnRRaW5jX0hNbzNWdm1uZlhYa0lZblFzSGh4VVAwbTdOS05uR0trS3dsdGk2Smg1VVFxa09fWk1sMWJURzgzV1NTeHNlRWdTUHdNLWpvcklQUmFXTHZQRVNoWXdJX2RjT1lJQkFWYkVPZWw1M1VraFBnT3RCQkNaYWpj?oc=5\" target=\"_blank\">Người Ukraine hoài nghi về cái giá của chiến dịch Kursk</a>&nbsp;&nbsp;<font color=\"#6f6f6f\">VnExpress </font></li><li><a href=\"https://news.google.com/rss/articles/CBMikgFBVV95cUxQTzdyTjREWVVrUm1OUU1fTU1VMEROQzJaelhHcDZyOTNkY2lzVktpcUZ3VWV4c3JYSktpVy1VeXI4WkI1dEpfQVBpM1JEU3hLY0dmOF9VU0Rqdm1HdWtrS3JNU0g1bnFIdy1rUXNHMnVjb3JrVk9KWmVBZXF6UWZYVmQ5SGx4ckpOVXJxdnhOcVM1UQ?oc=5\" target=\"_blank\">Cuộc rút lui nhiều tổn thất của quân đội Ukraina</a>&nbsp;&nbsp;<font color=\"#6f6f6f\">Báo Lao Động</font></li><li><a href=\"https://news.google.com/rss/articles/CBMi0AFBVV95cUxOdEFhS181alctdndyQ3BHMU82eGdQM09id2dsUzZ5M2EteERtZklvZXliUDBaRDZRaFBwYzF5dEE1ME1SYVVsLVlqWDVLMlJwYzRoc2J4U1pXc2RUX1Y2eHFMWE1WMnVTNE1KeDVFZGhIX0ZJLVJLQXAxcDU3ZElHVm1tSlV3THVCV201WHRmQW4wal9OTUZfTDRaRGpmYWxpNGVVWXBLckZ0N2doOFYtNTJwSzUwWjM2VkxuN2pqVXhVRU5jRmNTWnVTc21uRTQy?oc=5\" target=\"_blank\">Nga, Ukraine liên tục không kích lẫn nhau gây thương vong nghiêm trọng, UAV bị bắn \\'rụng như sung\\'</a>&nbsp;&nbsp;<font color=\"#6f6f6f\">Dân Việt</font></li><li><a href=\"https://news.google.com/rss/articles/CBMiugFBVV95cUxPM1BSYUwxME1UU2NIQmtrYmJpQmdQUjVZQ3JiZmNWNFBKVHMwVG1JaEd5ckozQkpfajBjNW1UTEdJQlBGWGtSMDZuWXE2c0YyZG1zdFpsOTA0NndiQWhieXFiWTFqUXcwLVVRbzJqTjN2QUMyeUp0alRnT3pKRFRabk1DMGJXWUxtNkc2U05QVGE1SmcteGs2ajZ1cVZIUkVJZFIyNXN1Z2RtTlczY2luV25FaTFhV1RSS3c?oc=5\" target=\"_blank\">Nga mất 3 tháng chuẩn bị chiến dịch chui đường ống đánh úp Ukraine ở Kursk</a>&nbsp;&nbsp;<font color=\"#6f6f6f\">Báo Thanh Niên</font></li></ol>',\n",
       " 'summary_detail': {'type': 'text/html',\n",
       "  'language': None,\n",
       "  'base': 'https://news.google.com/rss?hl=vi&gl=VN&ceid=VN:vi',\n",
       "  'value': '<ol><li><a href=\"https://news.google.com/rss/articles/CBMirAFBVV95cUxQeC00SkRrZ0UyUzJGSEtIcml6ODZEVi1peHdOckU2NjFWSEdscUhrZzRhRjZ0NzhvN2ZtcWZNZXVHTmZkdnF0ejVvTHVqeDNESWlFLU5ZUWd3NE0xUnpSYV9pd2ZJeC12dUo2T3ZOb0hjVU00SnhmLU83TDBrR3l6U3dNZi1xWEFDQ010eXlva3pYOTk5ZFBaeXpCM1ZodWVjYnp4bUV1c3Rib0dL?oc=5\" target=\"_blank\">Video UAV Ukraine vượt mặt hệ thống phòng không Nga, bắn nổ nhiều mục tiêu</a>&nbsp;&nbsp;<font color=\"#6f6f6f\">VietNamNet</font></li><li><a href=\"https://news.google.com/rss/articles/CBMilAFBVV95cUxPeldDOEZsSVFIcmpZckVxV1laVnRRaW5jX0hNbzNWdm1uZlhYa0lZblFzSGh4VVAwbTdOS05uR0trS3dsdGk2Smg1VVFxa09fWk1sMWJURzgzV1NTeHNlRWdTUHdNLWpvcklQUmFXTHZQRVNoWXdJX2RjT1lJQkFWYkVPZWw1M1VraFBnT3RCQkNaYWpj?oc=5\" target=\"_blank\">Người Ukraine hoài nghi về cái giá của chiến dịch Kursk</a>&nbsp;&nbsp;<font color=\"#6f6f6f\">VnExpress </font></li><li><a href=\"https://news.google.com/rss/articles/CBMikgFBVV95cUxQTzdyTjREWVVrUm1OUU1fTU1VMEROQzJaelhHcDZyOTNkY2lzVktpcUZ3VWV4c3JYSktpVy1VeXI4WkI1dEpfQVBpM1JEU3hLY0dmOF9VU0Rqdm1HdWtrS3JNU0g1bnFIdy1rUXNHMnVjb3JrVk9KWmVBZXF6UWZYVmQ5SGx4ckpOVXJxdnhOcVM1UQ?oc=5\" target=\"_blank\">Cuộc rút lui nhiều tổn thất của quân đội Ukraina</a>&nbsp;&nbsp;<font color=\"#6f6f6f\">Báo Lao Động</font></li><li><a href=\"https://news.google.com/rss/articles/CBMi0AFBVV95cUxOdEFhS181alctdndyQ3BHMU82eGdQM09id2dsUzZ5M2EteERtZklvZXliUDBaRDZRaFBwYzF5dEE1ME1SYVVsLVlqWDVLMlJwYzRoc2J4U1pXc2RUX1Y2eHFMWE1WMnVTNE1KeDVFZGhIX0ZJLVJLQXAxcDU3ZElHVm1tSlV3THVCV201WHRmQW4wal9OTUZfTDRaRGpmYWxpNGVVWXBLckZ0N2doOFYtNTJwSzUwWjM2VkxuN2pqVXhVRU5jRmNTWnVTc21uRTQy?oc=5\" target=\"_blank\">Nga, Ukraine liên tục không kích lẫn nhau gây thương vong nghiêm trọng, UAV bị bắn \\'rụng như sung\\'</a>&nbsp;&nbsp;<font color=\"#6f6f6f\">Dân Việt</font></li><li><a href=\"https://news.google.com/rss/articles/CBMiugFBVV95cUxPM1BSYUwxME1UU2NIQmtrYmJpQmdQUjVZQ3JiZmNWNFBKVHMwVG1JaEd5ckozQkpfajBjNW1UTEdJQlBGWGtSMDZuWXE2c0YyZG1zdFpsOTA0NndiQWhieXFiWTFqUXcwLVVRbzJqTjN2QUMyeUp0alRnT3pKRFRabk1DMGJXWUxtNkc2U05QVGE1SmcteGs2ajZ1cVZIUkVJZFIyNXN1Z2RtTlczY2luV25FaTFhV1RSS3c?oc=5\" target=\"_blank\">Nga mất 3 tháng chuẩn bị chiến dịch chui đường ống đánh úp Ukraine ở Kursk</a>&nbsp;&nbsp;<font color=\"#6f6f6f\">Báo Thanh Niên</font></li></ol>'},\n",
       " 'source': {'href': 'https://vietnamnet.vn', 'title': 'VietNamNet'}}"
      ]
     },
     "execution_count": 3,
     "metadata": {},
     "output_type": "execute_result"
    }
   ],
   "source": [
    "result.entries[0]"
   ]
  },
  {
   "cell_type": "code",
   "execution_count": 4,
   "metadata": {},
   "outputs": [
    {
     "data": {
      "text/plain": [
       "'https://news.google.com/rss/search?q=Gi%C3%A1%20nh%C3%A0%20chung%20c%C6%B0%20H%C3%A0%20%C4%90%C3%B4ng&hl=vi&gl=VN&ceid=VN%3Avi'"
      ]
     },
     "execution_count": 4,
     "metadata": {},
     "output_type": "execute_result"
    }
   ],
   "source": [
    "keyword = \"Giá nhà chung cư Hà Đông\"\n",
    "\n",
    "base_url = \"https://news.google.com/rss\"\n",
    "encoded_keyword = quote(keyword)\n",
    "url = f\"{base_url}/search?q={encoded_keyword}&hl=vi&gl=VN&ceid=VN%3Avi\"\n",
    "url"
   ]
  },
  {
   "cell_type": "code",
   "execution_count": 5,
   "metadata": {},
   "outputs": [
    {
     "data": {
      "text/plain": [
       "[{'title': \"Chung cư ở Hà Nội đã bàn giao 4-5 năm cũng tăng giá như 'lên đồng' - Báo Tuổi Trẻ\",\n",
       "  'title_detail': {'type': 'text/plain',\n",
       "   'language': None,\n",
       "   'base': 'https://news.google.com/rss/search?q=Gi%C3%A1%20nh%C3%A0%20chung%20c%C6%B0%20H%C3%A0%20%C4%90%C3%B4ng&hl=vi&gl=VN&ceid=VN%3Avi',\n",
       "   'value': \"Chung cư ở Hà Nội đã bàn giao 4-5 năm cũng tăng giá như 'lên đồng' - Báo Tuổi Trẻ\"},\n",
       "  'links': [{'rel': 'alternate',\n",
       "    'type': 'text/html',\n",
       "    'href': 'https://news.google.com/rss/articles/CBMiqAFBVV95cUxPUEU5eG1OX3Y4bXdFblI5ZW8xU21XS0NCcVEtWlZUbEhQSk4xZ2RYRjRlQ0dXemlNMmJHY3o0UXFDdUJVR0ZHcE1Ga0JBNFhpOUcyTmx2b3JLLUxDNXZLa25mZUVOZjliMjZyaTBJc3N2dXRIQWtIODBWQzNLb3hJNk9icmc5elVGa3JtOTFHT2RqQUhUdlNaN21jQWU5US0wWS1PQ0NGa2g?oc=5'}],\n",
       "  'link': 'https://news.google.com/rss/articles/CBMiqAFBVV95cUxPUEU5eG1OX3Y4bXdFblI5ZW8xU21XS0NCcVEtWlZUbEhQSk4xZ2RYRjRlQ0dXemlNMmJHY3o0UXFDdUJVR0ZHcE1Ga0JBNFhpOUcyTmx2b3JLLUxDNXZLa25mZUVOZjliMjZyaTBJc3N2dXRIQWtIODBWQzNLb3hJNk9icmc5elVGa3JtOTFHT2RqQUhUdlNaN21jQWU5US0wWS1PQ0NGa2g?oc=5',\n",
       "  'id': 'CBMiqAFBVV95cUxPUEU5eG1OX3Y4bXdFblI5ZW8xU21XS0NCcVEtWlZUbEhQSk4xZ2RYRjRlQ0dXemlNMmJHY3o0UXFDdUJVR0ZHcE1Ga0JBNFhpOUcyTmx2b3JLLUxDNXZLa25mZUVOZjliMjZyaTBJc3N2dXRIQWtIODBWQzNLb3hJNk9icmc5elVGa3JtOTFHT2RqQUhUdlNaN21jQWU5US0wWS1PQ0NGa2g',\n",
       "  'guidislink': False,\n",
       "  'published': 'Sat, 22 Mar 2025 06:48:00 GMT',\n",
       "  'published_parsed': time.struct_time(tm_year=2025, tm_mon=3, tm_mday=22, tm_hour=6, tm_min=48, tm_sec=0, tm_wday=5, tm_yday=81, tm_isdst=0),\n",
       "  'summary': '<a href=\"https://news.google.com/rss/articles/CBMiqAFBVV95cUxPUEU5eG1OX3Y4bXdFblI5ZW8xU21XS0NCcVEtWlZUbEhQSk4xZ2RYRjRlQ0dXemlNMmJHY3o0UXFDdUJVR0ZHcE1Ga0JBNFhpOUcyTmx2b3JLLUxDNXZLa25mZUVOZjliMjZyaTBJc3N2dXRIQWtIODBWQzNLb3hJNk9icmc5elVGa3JtOTFHT2RqQUhUdlNaN21jQWU5US0wWS1PQ0NGa2g?oc=5\" target=\"_blank\">Chung cư ở Hà Nội đã bàn giao 4-5 năm cũng tăng giá như \\'lên đồng\\'</a>&nbsp;&nbsp;<font color=\"#6f6f6f\">Báo Tuổi Trẻ</font>',\n",
       "  'summary_detail': {'type': 'text/html',\n",
       "   'language': None,\n",
       "   'base': 'https://news.google.com/rss/search?q=Gi%C3%A1%20nh%C3%A0%20chung%20c%C6%B0%20H%C3%A0%20%C4%90%C3%B4ng&hl=vi&gl=VN&ceid=VN%3Avi',\n",
       "   'value': '<a href=\"https://news.google.com/rss/articles/CBMiqAFBVV95cUxPUEU5eG1OX3Y4bXdFblI5ZW8xU21XS0NCcVEtWlZUbEhQSk4xZ2RYRjRlQ0dXemlNMmJHY3o0UXFDdUJVR0ZHcE1Ga0JBNFhpOUcyTmx2b3JLLUxDNXZLa25mZUVOZjliMjZyaTBJc3N2dXRIQWtIODBWQzNLb3hJNk9icmc5elVGa3JtOTFHT2RqQUhUdlNaN21jQWU5US0wWS1PQ0NGa2g?oc=5\" target=\"_blank\">Chung cư ở Hà Nội đã bàn giao 4-5 năm cũng tăng giá như \\'lên đồng\\'</a>&nbsp;&nbsp;<font color=\"#6f6f6f\">Báo Tuổi Trẻ</font>'},\n",
       "  'source': {'href': 'https://tuoitre.vn', 'title': 'Báo Tuổi Trẻ'}},\n",
       " {'title': 'Lạ lùng chung cư giá rẻ, dù thang máy rơi liên tục, nhà xuống cấp nhưng giá vẫn tăng không ngừng - Cafef.vn',\n",
       "  'title_detail': {'type': 'text/plain',\n",
       "   'language': None,\n",
       "   'base': 'https://news.google.com/rss/search?q=Gi%C3%A1%20nh%C3%A0%20chung%20c%C6%B0%20H%C3%A0%20%C4%90%C3%B4ng&hl=vi&gl=VN&ceid=VN%3Avi',\n",
       "   'value': 'Lạ lùng chung cư giá rẻ, dù thang máy rơi liên tục, nhà xuống cấp nhưng giá vẫn tăng không ngừng - Cafef.vn'},\n",
       "  'links': [{'rel': 'alternate',\n",
       "    'type': 'text/html',\n",
       "    'href': 'https://news.google.com/rss/articles/CBMizwFBVV95cUxPU0JFMGdfcFh3MzNYaElBZ05JVklReVd2T2dCcURLYV8xUG90WUdIUlVaSUpvcndIa3BTaTJudkVJVm52LXdpWmlHYVFRR2Z0U01OTzFDdDJiMDJPbmg2UzBhUkVBSFBvd0pDMC10OXJRaVdSQTNwVEV6VUlhdjdtQVBQUjFRbDVEUDA3S0RGdVQ0TGZ3SWRmdmJyek9mV3ZJU2pKeDdjdmdzck9SU3BUeG9sQ1h0a2NYbmFFcUM2TW5xVkdaeXZCRjU4N2JGUHc?oc=5'}],\n",
       "  'link': 'https://news.google.com/rss/articles/CBMizwFBVV95cUxPU0JFMGdfcFh3MzNYaElBZ05JVklReVd2T2dCcURLYV8xUG90WUdIUlVaSUpvcndIa3BTaTJudkVJVm52LXdpWmlHYVFRR2Z0U01OTzFDdDJiMDJPbmg2UzBhUkVBSFBvd0pDMC10OXJRaVdSQTNwVEV6VUlhdjdtQVBQUjFRbDVEUDA3S0RGdVQ0TGZ3SWRmdmJyek9mV3ZJU2pKeDdjdmdzck9SU3BUeG9sQ1h0a2NYbmFFcUM2TW5xVkdaeXZCRjU4N2JGUHc?oc=5',\n",
       "  'id': 'CBMizwFBVV95cUxPU0JFMGdfcFh3MzNYaElBZ05JVklReVd2T2dCcURLYV8xUG90WUdIUlVaSUpvcndIa3BTaTJudkVJVm52LXdpWmlHYVFRR2Z0U01OTzFDdDJiMDJPbmg2UzBhUkVBSFBvd0pDMC10OXJRaVdSQTNwVEV6VUlhdjdtQVBQUjFRbDVEUDA3S0RGdVQ0TGZ3SWRmdmJyek9mV3ZJU2pKeDdjdmdzck9SU3BUeG9sQ1h0a2NYbmFFcUM2TW5xVkdaeXZCRjU4N2JGUHc',\n",
       "  'guidislink': False,\n",
       "  'published': 'Sun, 23 Mar 2025 00:42:00 GMT',\n",
       "  'published_parsed': time.struct_time(tm_year=2025, tm_mon=3, tm_mday=23, tm_hour=0, tm_min=42, tm_sec=0, tm_wday=6, tm_yday=82, tm_isdst=0),\n",
       "  'summary': '<a href=\"https://news.google.com/rss/articles/CBMizwFBVV95cUxPU0JFMGdfcFh3MzNYaElBZ05JVklReVd2T2dCcURLYV8xUG90WUdIUlVaSUpvcndIa3BTaTJudkVJVm52LXdpWmlHYVFRR2Z0U01OTzFDdDJiMDJPbmg2UzBhUkVBSFBvd0pDMC10OXJRaVdSQTNwVEV6VUlhdjdtQVBQUjFRbDVEUDA3S0RGdVQ0TGZ3SWRmdmJyek9mV3ZJU2pKeDdjdmdzck9SU3BUeG9sQ1h0a2NYbmFFcUM2TW5xVkdaeXZCRjU4N2JGUHc?oc=5\" target=\"_blank\">Lạ lùng chung cư giá rẻ, dù thang máy rơi liên tục, nhà xuống cấp nhưng giá vẫn tăng không ngừng</a>&nbsp;&nbsp;<font color=\"#6f6f6f\">Cafef.vn</font>',\n",
       "  'summary_detail': {'type': 'text/html',\n",
       "   'language': None,\n",
       "   'base': 'https://news.google.com/rss/search?q=Gi%C3%A1%20nh%C3%A0%20chung%20c%C6%B0%20H%C3%A0%20%C4%90%C3%B4ng&hl=vi&gl=VN&ceid=VN%3Avi',\n",
       "   'value': '<a href=\"https://news.google.com/rss/articles/CBMizwFBVV95cUxPU0JFMGdfcFh3MzNYaElBZ05JVklReVd2T2dCcURLYV8xUG90WUdIUlVaSUpvcndIa3BTaTJudkVJVm52LXdpWmlHYVFRR2Z0U01OTzFDdDJiMDJPbmg2UzBhUkVBSFBvd0pDMC10OXJRaVdSQTNwVEV6VUlhdjdtQVBQUjFRbDVEUDA3S0RGdVQ0TGZ3SWRmdmJyek9mV3ZJU2pKeDdjdmdzck9SU3BUeG9sQ1h0a2NYbmFFcUM2TW5xVkdaeXZCRjU4N2JGUHc?oc=5\" target=\"_blank\">Lạ lùng chung cư giá rẻ, dù thang máy rơi liên tục, nhà xuống cấp nhưng giá vẫn tăng không ngừng</a>&nbsp;&nbsp;<font color=\"#6f6f6f\">Cafef.vn</font>'},\n",
       "  'source': {'href': 'https://cafef.vn', 'title': 'Cafef.vn'}},\n",
       " {'title': 'Danh sách mới nhất 11 dự án ở Hà Nội mở bán với gần 14.000 căn - VietNamNet',\n",
       "  'title_detail': {'type': 'text/plain',\n",
       "   'language': None,\n",
       "   'base': 'https://news.google.com/rss/search?q=Gi%C3%A1%20nh%C3%A0%20chung%20c%C6%B0%20H%C3%A0%20%C4%90%C3%B4ng&hl=vi&gl=VN&ceid=VN%3Avi',\n",
       "   'value': 'Danh sách mới nhất 11 dự án ở Hà Nội mở bán với gần 14.000 căn - VietNamNet'},\n",
       "  'links': [{'rel': 'alternate',\n",
       "    'type': 'text/html',\n",
       "    'href': 'https://news.google.com/rss/articles/CBMingFBVV95cUxQSTdvZ0VEMGJhMzhzU3lsMkJrZDIwTDF2bkVnTjlvUFNSai05X1IzNUJvSU85R2FVcTVpUm5pT3hERVdDbTROSm1oZDg1RlR6VU4wdUZkOURhb3l3WE1LVzhKRFRWc0hYWjhjSnVFUXYwRGx2S1NxSTVqcEx4WlUzNzBWN014NHR2MDl4X3ppNjh0bno5U2cyT3BNTUc3UQ?oc=5'}],\n",
       "  'link': 'https://news.google.com/rss/articles/CBMingFBVV95cUxQSTdvZ0VEMGJhMzhzU3lsMkJrZDIwTDF2bkVnTjlvUFNSai05X1IzNUJvSU85R2FVcTVpUm5pT3hERVdDbTROSm1oZDg1RlR6VU4wdUZkOURhb3l3WE1LVzhKRFRWc0hYWjhjSnVFUXYwRGx2S1NxSTVqcEx4WlUzNzBWN014NHR2MDl4X3ppNjh0bno5U2cyT3BNTUc3UQ?oc=5',\n",
       "  'id': 'CBMingFBVV95cUxQSTdvZ0VEMGJhMzhzU3lsMkJrZDIwTDF2bkVnTjlvUFNSai05X1IzNUJvSU85R2FVcTVpUm5pT3hERVdDbTROSm1oZDg1RlR6VU4wdUZkOURhb3l3WE1LVzhKRFRWc0hYWjhjSnVFUXYwRGx2S1NxSTVqcEx4WlUzNzBWN014NHR2MDl4X3ppNjh0bno5U2cyT3BNTUc3UQ',\n",
       "  'guidislink': False,\n",
       "  'published': 'Fri, 21 Mar 2025 01:52:00 GMT',\n",
       "  'published_parsed': time.struct_time(tm_year=2025, tm_mon=3, tm_mday=21, tm_hour=1, tm_min=52, tm_sec=0, tm_wday=4, tm_yday=80, tm_isdst=0),\n",
       "  'summary': '<a href=\"https://news.google.com/rss/articles/CBMingFBVV95cUxQSTdvZ0VEMGJhMzhzU3lsMkJrZDIwTDF2bkVnTjlvUFNSai05X1IzNUJvSU85R2FVcTVpUm5pT3hERVdDbTROSm1oZDg1RlR6VU4wdUZkOURhb3l3WE1LVzhKRFRWc0hYWjhjSnVFUXYwRGx2S1NxSTVqcEx4WlUzNzBWN014NHR2MDl4X3ppNjh0bno5U2cyT3BNTUc3UQ?oc=5\" target=\"_blank\">Danh sách mới nhất 11 dự án ở Hà Nội mở bán với gần 14.000 căn</a>&nbsp;&nbsp;<font color=\"#6f6f6f\">VietNamNet</font>',\n",
       "  'summary_detail': {'type': 'text/html',\n",
       "   'language': None,\n",
       "   'base': 'https://news.google.com/rss/search?q=Gi%C3%A1%20nh%C3%A0%20chung%20c%C6%B0%20H%C3%A0%20%C4%90%C3%B4ng&hl=vi&gl=VN&ceid=VN%3Avi',\n",
       "   'value': '<a href=\"https://news.google.com/rss/articles/CBMingFBVV95cUxQSTdvZ0VEMGJhMzhzU3lsMkJrZDIwTDF2bkVnTjlvUFNSai05X1IzNUJvSU85R2FVcTVpUm5pT3hERVdDbTROSm1oZDg1RlR6VU4wdUZkOURhb3l3WE1LVzhKRFRWc0hYWjhjSnVFUXYwRGx2S1NxSTVqcEx4WlUzNzBWN014NHR2MDl4X3ppNjh0bno5U2cyT3BNTUc3UQ?oc=5\" target=\"_blank\">Danh sách mới nhất 11 dự án ở Hà Nội mở bán với gần 14.000 căn</a>&nbsp;&nbsp;<font color=\"#6f6f6f\">VietNamNet</font>'},\n",
       "  'source': {'href': 'https://vietnamnet.vn', 'title': 'VietNamNet'}}]"
      ]
     },
     "execution_count": 5,
     "metadata": {},
     "output_type": "execute_result"
    }
   ],
   "source": [
    "news2 = feedparser.parse(url)\n",
    "news2.entries[:3]"
   ]
  },
  {
   "cell_type": "code",
   "execution_count": 6,
   "metadata": {},
   "outputs": [],
   "source": [
    "from langchain_core.messages import BaseMessage\n",
    "\n",
    "def pretty_print_messages(messages: list[BaseMessage]):\n",
    "    for message in messages:\n",
    "        message.pretty_print()"
   ]
  },
  {
   "cell_type": "markdown",
   "metadata": {},
   "source": [
    "## Graph Setup\n",
    "\n",
    "This setup initializes a graph-based workflow for a chatbot, defining the state, tools, and nodes while establishing edges and a memory saver for persistent interactions."
   ]
  },
  {
   "cell_type": "code",
   "execution_count": 7,
   "metadata": {},
   "outputs": [],
   "source": [
    "from typing import Annotated\n",
    "from typing_extensions import TypedDict\n",
    "\n",
    "from langchain_ollama import ChatOllama\n",
    "from langchain_core.tools import tool\n",
    "\n",
    "from langgraph.checkpoint.memory import MemorySaver\n",
    "from langgraph.graph import StateGraph, START, END\n",
    "from langgraph.graph.message import add_messages\n",
    "from langgraph.prebuilt import ToolNode, tools_condition\n",
    "\n",
    "\n",
    "###### Define the State ######\n",
    "class State(TypedDict):\n",
    "    messages: Annotated[list, add_messages]\n",
    "\n",
    "\n",
    "graph_builder = StateGraph(State)\n",
    "\n",
    "\n",
    "###### Define the tool and binding ######\n",
    "@tool\n",
    "def search_keyword(query: str) -> List[Dict[str, str]]:\n",
    "    \"\"\"\n",
    "    Look up news by keyword.\n",
    "    \"\"\"\n",
    "    news_tool = GoogleNews()\n",
    "    return news_tool.search_by_keyword(query, k=5)\n",
    "\n",
    "\n",
    "tools = [search_keyword]\n",
    "llm = ChatOllama(model='qwen2.5:7b', temperature=0)\n",
    "llm_with_tools = llm.bind_tools(tools)\n",
    "\n",
    "\n",
    "###### Add Nodes ######\n",
    "def chatbot(state: State):\n",
    "    \"\"\"\n",
    "    Invoke the message and return the result.\n",
    "    \"\"\"\n",
    "    return {\"messages\": [llm_with_tools.invoke(state[\"messages\"])]}\n",
    "\n",
    "\n",
    "# chatbot node\n",
    "graph_builder.add_node(\"chatbot\", chatbot)\n",
    "\n",
    "# tool node\n",
    "tool_node = ToolNode(tools=tools)\n",
    "graph_builder.add_node(\"tools\", tool_node)\n",
    "\n",
    "# conditional edge\n",
    "graph_builder.add_conditional_edges(\"chatbot\", tools_condition)\n",
    "\n",
    "\n",
    "###### Add Edges ######\n",
    "# tools -> chatbot\n",
    "graph_builder.add_edge(\"tools\", \"chatbot\")\n",
    "\n",
    "# START -> chatbot\n",
    "graph_builder.add_edge(START, \"chatbot\")\n",
    "\n",
    "# chatbot -> END\n",
    "graph_builder.add_edge(\"chatbot\", END)\n",
    "\n",
    "\n",
    "###### Add the MemorySaver ######\n",
    "memory = MemorySaver()"
   ]
  },
  {
   "cell_type": "code",
   "execution_count": 8,
   "metadata": {},
   "outputs": [],
   "source": [
    "graph = graph_builder.compile(checkpointer=memory)"
   ]
  },
  {
   "cell_type": "code",
   "execution_count": 9,
   "metadata": {},
   "outputs": [
    {
     "data": {
      "image/png": "[encoded data removed]",
      "text/plain": [
       "<IPython.core.display.Image object>"
      ]
     },
     "metadata": {},
     "output_type": "display_data"
    }
   ],
   "source": [
    "from IPython.display import Image, display\n",
    "from langchain_core.runnables.graph import MermaidDrawMethod\n",
    "\n",
    "# Visualize the graph\n",
    "display(\n",
    "    Image(\n",
    "        graph.get_graph().draw_mermaid_png(\n",
    "            draw_method=MermaidDrawMethod.API,\n",
    "        )\n",
    "    )\n",
    ")"
   ]
  },
  {
   "cell_type": "markdown",
   "metadata": {},
   "source": [
    "## Adding Human Feedback\n",
    "\n",
    "Let's now perform **Human-in-the-loop** !"
   ]
  },
  {
   "cell_type": "code",
   "execution_count": 10,
   "metadata": {},
   "outputs": [
    {
     "name": "stdout",
     "output_type": "stream",
     "text": [
      "================================\u001b[1m Human Message \u001b[0m=================================\n",
      "\n",
      "Có nên mua nhà Chung cư tại thời điểm này hay không? Tìm kiếm thông tin sử dụng tools trước khi đưa ra câu trả lời.\n",
      "================================\u001b[1m Human Message \u001b[0m=================================\n",
      "\n",
      "Có nên mua nhà Chung cư tại thời điểm này hay không? Tìm kiếm thông tin sử dụng tools trước khi đưa ra câu trả lời.\n",
      "==================================\u001b[1m Ai Message \u001b[0m==================================\n",
      "Tool Calls:\n",
      "  search_keyword (e3923585-5669-4187-9235-e08468fa62a1)\n",
      " Call ID: e3923585-5669-4187-9235-e08468fa62a1\n",
      "  Args:\n",
      "    query: thị trường bất động sản chung cư\n"
     ]
    }
   ],
   "source": [
    "from langchain_core.runnables import RunnableConfig\n",
    "\n",
    "# User input\n",
    "question = \"Có nên mua nhà Chung cư tại thời điểm này hay không? Tìm kiếm thông tin sử dụng tools trước khi đưa ra câu trả lời.\"\n",
    "\n",
    "input = State(messages=[(\"user\", question)])\n",
    "\n",
    "# Configure seting\n",
    "config = RunnableConfig(\n",
    "    recursion_limit=10,\n",
    "    configurable={'thread_id': 1},\n",
    "    tags=['gia-nha-chung-cu-ha-noi']\n",
    ")\n",
    "\n",
    "for event in graph.stream(input=input, config=config, stream_mode='values', interrupt_before=['tools']):\n",
    "    for key, value in event.items():\n",
    "        pretty_print_messages(value)\n",
    "        if \"messages\" in value:\n",
    "            print(f\"Number of messages: {len(value['messages'])}\")"
   ]
  },
  {
   "cell_type": "code",
   "execution_count": 11,
   "metadata": {},
   "outputs": [
    {
     "data": {
      "text/plain": [
       "('tools',)"
      ]
     },
     "execution_count": 11,
     "metadata": {},
     "output_type": "execute_result"
    }
   ],
   "source": [
    "snapshot = graph.get_state(config)\n",
    "snapshot.next"
   ]
  },
  {
   "cell_type": "markdown",
   "metadata": {},
   "source": [
    "Lý do cho sự gián đoạn là vì chúng ta đặt `tools` trong `interrupt_before` trong khi streaming graph, khiến quá trình dừng lại trước khi thực thi node `tools`. Do đó, node tiếp theo (`.next`) trở thành `tools`.\n",
    "\n",
    "Ngoài ra, *trong hướng dẫn trước*, `.next` trống vì quá trình đã đạt đến node `END` cuối cùng. Tuy nhiên, với interrupt được đặt, `.next` bây giờ được đặt thành `tools`.\n"
   ]
  },
  {
   "cell_type": "markdown",
   "metadata": {},
   "source": [
    "Now, let's check the last message in the snapshot!"
   ]
  },
  {
   "cell_type": "code",
   "execution_count": 14,
   "metadata": {},
   "outputs": [
    {
     "data": {
      "text/plain": [
       "[{'name': 'search_keyword',\n",
       "  'args': {'query': 'thị trường bất động sản chung cư'},\n",
       "  'id': 'e3923585-5669-4187-9235-e08468fa62a1',\n",
       "  'type': 'tool_call'}]"
      ]
     },
     "execution_count": 14,
     "metadata": {},
     "output_type": "execute_result"
    }
   ],
   "source": [
    "existing_message = snapshot.values[\"messages\"][-1]\n",
    "existing_message.tool_calls"
   ]
  },
  {
   "cell_type": "markdown",
   "metadata": {},
   "source": [
    "Next, let's resume the graph from the point where it was interrupted.\n",
    "\n",
    "**LangGraph** makes it easy to resume graph execution.\n",
    "\n",
    "Simply pass `None` as the `input` ."
   ]
  },
  {
   "cell_type": "code",
   "execution_count": 15,
   "metadata": {},
   "outputs": [
    {
     "name": "stdout",
     "output_type": "stream",
     "text": [
      "==================================\u001b[1m Ai Message \u001b[0m==================================\n",
      "Tool Calls:\n",
      "  search_keyword (e3923585-5669-4187-9235-e08468fa62a1)\n",
      " Call ID: e3923585-5669-4187-9235-e08468fa62a1\n",
      "  Args:\n",
      "    query: thị trường bất động sản chung cư\n",
      "=================================\u001b[1m Tool Message \u001b[0m=================================\n",
      "Name: search_keyword\n",
      "\n",
      "[{\"url\": \"https://news.google.com/rss/articles/CBMilAFBVV95cUxOYmk1dEttejJTZlFZc3JYOXBiQ2ZXWjl2c0JkNklUWDZFTk9vOUJ1RENIa3lPXzJwWnlRTThKLVVZalRkU0xkWmdJQl9vckhrYUdOcmtTcXlCdnF5YUUzQTd6YjNEMnpyQzNTNm02M013V3Y4Y091SnJ2NUJ0TlM1WUNFTU9kWTEtanhIc3Vzc0ZZZXNo?oc=5\", \"content\": \"Thị trường bất động sản có dấu hiệu phục hồi - Báo điện tử Quân đội nhân dân\"}, {\"url\": \"https://news.google.com/rss/articles/CBMilwFBVV95cUxPWDVOSnI3QUgtb0lMakNoSjdsT2JlX2UxS2czdkxubzFCZU96MGxiaUpwaXNHQTlzUXFQNkZveURIZU1EVHhJMjM5TFhucnA5cWozdTJiUV9jOXc0ejJSSl9vdE50dURPRGZEX1ZINEhLUHRkSkNIRVVmbk5GbzMwYWFGQ2RYRVF1WTNoNlZMSUpoZFZNcXE0?oc=5\", \"content\": \"Năm 2025 thị trường bất động sản sẽ sôi động trở lại - Báo Sài Gòn Giải Phóng\"}, {\"url\": \"https://news.google.com/rss/articles/CBMi2wFBVV95cUxOdllEOWxwV05YU2ZvZzExelFtcVlUM1NqbGYtWWNWa0NNWXVpSWs0SkxZRGdqV05ZaHdMTUFfaHFMeFRTRFExcTNLckxuWi11ZzctOGFhMzA1SFIyRnBLeThrWFIwdWVoQV9aZjFSS1NXVGpnMWZva3o4OEZaTW13YWUzdXo0YkFUdnZSRjhBTi1HbUpvVUNNczdpNzVqUm5zdFp6QTBDQTg2M2J2X2xVZUp6NElCcmpLMEh0WFdSeEJHajVrbTl0YTQ2S181YjhkVWVxejRmbnRRVUE?oc=5\", \"content\": \"Thị trường bất động sản đang ở giai đoạn \\\"nhạy cảm\\\" với mọi thông tin - Tạp chí điện tử BĐS Việt Nam Reatimes.vn\"}, {\"url\": \"https://news.google.com/rss/articles/CBMiqAFBVV95cUxPUEU5eG1OX3Y4bXdFblI5ZW8xU21XS0NCcVEtWlZUbEhQSk4xZ2RYRjRlQ0dXemlNMmJHY3o0UXFDdUJVR0ZHcE1Ga0JBNFhpOUcyTmx2b3JLLUxDNXZLa25mZUVOZjliMjZyaTBJc3N2dXRIQWtIODBWQzNLb3hJNk9icmc5elVGa3JtOTFHT2RqQUhUdlNaN21jQWU5US0wWS1PQ0NGa2g?oc=5\", \"content\": \"Chung cư ở Hà Nội đã bàn giao 4-5 năm cũng tăng giá như 'lên đồng' - Báo Tuổi Trẻ\"}, {\"url\": \"https://news.google.com/rss/articles/CBMijAFBVV95cUxPWTliZ0kyWDFzQkk1LThWVl9sMGNKVFdKekhuTDBMY1R2SnFwWnduUVlyOHh6ampCV1BpMV90ZS01REtQaWlXRThZazBGdENxVlVGZndzams2b3NuaWlBNUxaa0p6NG9iWThJbFhwcXVBZG1oV2lNaXRMS0UxVUU0a0dUdVJ1a0hrYmtmUg?oc=5\", \"content\": \"Sôi động thị trường chung cư TP Hòa Bình - Báo Lao Động\"}]\n",
      "==================================\u001b[1m Ai Message \u001b[0m==================================\n",
      "\n",
      "Dựa trên thông tin từ các nguồn báo chí, có một số điểm đáng lưu ý về thị trường bất động sản chung cư:\n",
      "\n",
      "1. Thị trường bất động sản đang có dấu hiệu phục hồi (Báo điện tử Quân đội nhân dân).\n",
      "2. Dự kiến năm 2025, thị trường bất động sản sẽ sôi động trở lại (Báo Sài Gòn Giải Phóng).\n",
      "3. Thị trường bất động sản hiện đang ở giai đoạn \"nhạy cảm\" với mọi thông tin (Tạp chí điện tử BĐS Việt Nam Reatimes.vn).\n",
      "\n",
      "Về chung cư tại Hà Nội, có một số dự án đã bàn giao từ 4-5 năm nay nhưng giá trị của chúng đã tăng đáng kể (Báo Tuổi Trẻ). \n",
      "\n",
      "Trong khi đó, thị trường chung cư TP Hòa Bình đang sôi động (Báo Lao Động).\n",
      "\n",
      "Tuy nhiên, quyết định mua nhà chung cư phụ thuộc vào nhiều yếu tố như tình hình tài chính cá nhân, nhu cầu về không gian sống và vị trí địa lý. Bạn nên cân nhắc kỹ trước khi đưa ra quyết định.\n"
     ]
    }
   ],
   "source": [
    "events = graph.stream(\n",
    "    input=None,  # Do not add anything to the current State\n",
    "    config=config,\n",
    "    stream_mode=\"values\",\n",
    ")\n",
    "\n",
    "# Process events in a loop\n",
    "for event in events:\n",
    "    if \"messages\" in event:\n",
    "        # Print the last message\n",
    "        event[\"messages\"][-1].pretty_print()"
   ]
  },
  {
   "cell_type": "markdown",
   "metadata": {},
   "source": [
    "Chúng ta đã sử dụng **interrupt** để cho phép **human intervention** (sự can thiệp của con người) trong quá trình thực thi của chatbot.\n",
    "\n",
    "Ngoài ra, với việc bao gồm `checkpointer`, graph có thể tiếp tục thực thi ngay cả sau khi bị tạm dừng vô thời hạn.\n",
    "\n",
    "Dưới đây là cách bạn có thể sử dụng `get_state_history` để truy xuất lịch sử trạng thái.\n",
    "\n",
    "Bằng cách chỉ định trạng thái mong muốn từ lịch sử, bạn có thể khởi động lại quá trình thực thi từ điểm đó.\n"
   ]
  },
  {
   "cell_type": "code",
   "execution_count": null,
   "metadata": {},
   "outputs": [
    {
     "name": "stdout",
     "output_type": "stream",
     "text": [
      "Number of messages: 4 \n",
      "Next node: ()\n",
      "--------------------------------------------------------------------------------\n",
      "Number of messages: 3 \n",
      "Next node: ('chatbot',)\n",
      "--------------------------------------------------------------------------------\n",
      "Number of messages: 2 \n",
      "Next node: ('tools',)\n",
      "--------------------------------------------------------------------------------\n",
      "Number of messages: 1 \n",
      "Next node: ('chatbot',)\n",
      "--------------------------------------------------------------------------------\n",
      "Number of messages: 0 \n",
      "Next node: ('__start__',)\n",
      "--------------------------------------------------------------------------------\n"
     ]
    }
   ],
   "source": [
    "to_replay = None\n",
    "\n",
    "# Retrieve state history\n",
    "for state in graph.get_state_history(config):\n",
    "    print(\n",
    "        \"Number of messages:\", len(state.values[\"messages\"]), \"\\nNext node:\", state.next\n",
    "    )\n",
    "    print(\"-\" * 80)\n",
    "    if len(state.values[\"messages\"]) == 3:\n",
    "        to_replay = state"
   ]
  },
  {
   "cell_type": "code",
   "execution_count": 18,
   "metadata": {},
   "outputs": [
    {
     "data": {
      "text/plain": [
       "('chatbot',)"
      ]
     },
     "metadata": {},
     "output_type": "display_data"
    }
   ],
   "source": [
    "display(to_replay.next)"
   ]
  },
  {
   "cell_type": "code",
   "execution_count": 19,
   "metadata": {},
   "outputs": [
    {
     "data": {
      "text/plain": [
       "{'configurable': {'thread_id': 1,\n",
       "  'checkpoint_ns': '',\n",
       "  'checkpoint_id': '1f007836-5ce0-6fe8-8002-45f62ca9549e'}}"
      ]
     },
     "metadata": {},
     "output_type": "display_data"
    }
   ],
   "source": [
    "display(to_replay.config)"
   ]
  },
  {
   "cell_type": "markdown",
   "metadata": {},
   "source": [
    "Using this `checkpoint_id` , LangGraph's checkpointer can load the state at that specific point. \n",
    "\n",
    "Note that the `input` must be set to `None` in this case."
   ]
  },
  {
   "cell_type": "code",
   "execution_count": 20,
   "metadata": {},
   "outputs": [
    {
     "name": "stdout",
     "output_type": "stream",
     "text": [
      "=================================\u001b[1m Tool Message \u001b[0m=================================\n",
      "Name: search_keyword\n",
      "\n",
      "[{\"url\": \"https://news.google.com/rss/articles/CBMilAFBVV95cUxOYmk1dEttejJTZlFZc3JYOXBiQ2ZXWjl2c0JkNklUWDZFTk9vOUJ1RENIa3lPXzJwWnlRTThKLVVZalRkU0xkWmdJQl9vckhrYUdOcmtTcXlCdnF5YUUzQTd6YjNEMnpyQzNTNm02M013V3Y4Y091SnJ2NUJ0TlM1WUNFTU9kWTEtanhIc3Vzc0ZZZXNo?oc=5\", \"content\": \"Thị trường bất động sản có dấu hiệu phục hồi - Báo điện tử Quân đội nhân dân\"}, {\"url\": \"https://news.google.com/rss/articles/CBMilwFBVV95cUxPWDVOSnI3QUgtb0lMakNoSjdsT2JlX2UxS2czdkxubzFCZU96MGxiaUpwaXNHQTlzUXFQNkZveURIZU1EVHhJMjM5TFhucnA5cWozdTJiUV9jOXc0ejJSSl9vdE50dURPRGZEX1ZINEhLUHRkSkNIRVVmbk5GbzMwYWFGQ2RYRVF1WTNoNlZMSUpoZFZNcXE0?oc=5\", \"content\": \"Năm 2025 thị trường bất động sản sẽ sôi động trở lại - Báo Sài Gòn Giải Phóng\"}, {\"url\": \"https://news.google.com/rss/articles/CBMi2wFBVV95cUxOdllEOWxwV05YU2ZvZzExelFtcVlUM1NqbGYtWWNWa0NNWXVpSWs0SkxZRGdqV05ZaHdMTUFfaHFMeFRTRFExcTNLckxuWi11ZzctOGFhMzA1SFIyRnBLeThrWFIwdWVoQV9aZjFSS1NXVGpnMWZva3o4OEZaTW13YWUzdXo0YkFUdnZSRjhBTi1HbUpvVUNNczdpNzVqUm5zdFp6QTBDQTg2M2J2X2xVZUp6NElCcmpLMEh0WFdSeEJHajVrbTl0YTQ2S181YjhkVWVxejRmbnRRVUE?oc=5\", \"content\": \"Thị trường bất động sản đang ở giai đoạn \\\"nhạy cảm\\\" với mọi thông tin - Tạp chí điện tử BĐS Việt Nam Reatimes.vn\"}, {\"url\": \"https://news.google.com/rss/articles/CBMiqAFBVV95cUxPUEU5eG1OX3Y4bXdFblI5ZW8xU21XS0NCcVEtWlZUbEhQSk4xZ2RYRjRlQ0dXemlNMmJHY3o0UXFDdUJVR0ZHcE1Ga0JBNFhpOUcyTmx2b3JLLUxDNXZLa25mZUVOZjliMjZyaTBJc3N2dXRIQWtIODBWQzNLb3hJNk9icmc5elVGa3JtOTFHT2RqQUhUdlNaN21jQWU5US0wWS1PQ0NGa2g?oc=5\", \"content\": \"Chung cư ở Hà Nội đã bàn giao 4-5 năm cũng tăng giá như 'lên đồng' - Báo Tuổi Trẻ\"}, {\"url\": \"https://news.google.com/rss/articles/CBMijAFBVV95cUxPWTliZ0kyWDFzQkk1LThWVl9sMGNKVFdKekhuTDBMY1R2SnFwWnduUVlyOHh6ampCV1BpMV90ZS01REtQaWlXRThZazBGdENxVlVGZndzams2b3NuaWlBNUxaa0p6NG9iWThJbFhwcXVBZG1oV2lNaXRMS0UxVUU0a0dUdVJ1a0hrYmtmUg?oc=5\", \"content\": \"Sôi động thị trường chung cư TP Hòa Bình - Báo Lao Động\"}]\n",
      "==================================\u001b[1m Ai Message \u001b[0m==================================\n",
      "\n",
      "Dựa trên thông tin từ các nguồn báo chí, có một số điểm đáng lưu ý về thị trường bất động sản chung cư:\n",
      "\n",
      "1. Thị trường bất động sản đang có dấu hiệu phục hồi (Báo điện tử Quân đội nhân dân).\n",
      "2. Dự đoán năm 2025 sẽ là thời điểm sôi động trở lại cho thị trường bất động sản (Báo Sài Gòn Giải Phóng).\n",
      "3. Thị trường bất động sản hiện đang ở giai đoạn \"nhạy cảm\" với mọi thông tin, do đó cần theo dõi sát sao (Tạp chí điện tử BĐS Việt Nam Reatimes.vn).\n",
      "\n",
      "Ngoài ra, có một số dự án chung cư tại Hà Nội đã tăng giá đáng kể sau khoảng 4-5 năm bàn giao (Báo Tuổi Trẻ), và thị trường chung cư TP Hòa Bình cũng đang sôi động (Báo Lao Động).\n",
      "\n",
      "Tuy nhiên, quyết định mua nhà chung cư phụ thuộc vào nhiều yếu tố khác nhau như tình hình tài chính cá nhân, nhu cầu về không gian sống, vị trí dự án, v.v. Bạn nên cân nhắc kỹ và có thể tham khảo thêm ý kiến từ các chuyên gia bất động sản trước khi đưa ra quyết định.\n"
     ]
    }
   ],
   "source": [
    "for event in graph.stream(input=None, config=to_replay.config, stream_mode=\"values\"):\n",
    "    if \"messages\" in event:\n",
    "        # Print the last message\n",
    "        event[\"messages\"][-1].pretty_print()"
   ]
  },
  {
   "cell_type": "code",
   "execution_count": null,
   "metadata": {},
   "outputs": [],
   "source": []
  }
 ],
 "metadata": {
  "kernelspec": {
   "display_name": "langchain",
   "language": "python",
   "name": "python3"
  },
  "language_info": {
   "codemirror_mode": {
    "name": "ipython",
    "version": 3
   },
   "file_extension": ".py",
   "mimetype": "text/x-python",
   "name": "python",
   "nbconvert_exporter": "python",
   "pygments_lexer": "ipython3",
   "version": "3.10.16"
  }
 },
 "nbformat": 4,
 "nbformat_minor": 2
}
