{
 "cells": [
  {
   "cell_type": "markdown",
   "metadata": {},
   "source": [
    "# LangGraph Manual State Update\n",
    "\n",
    "LangGraph cung cấp một cách để **manually update the intermediate state** (cập nhật thủ công trạng thái trung gian).\n",
    "\n",
    "Bằng cách cập nhật trạng thái, bạn có thể **control the path by modifying the agent's behavior** (kiểm soát đường đi bằng cách sửa đổi hành vi của agent) và thậm chí sửa đổi quá khứ.\n",
    "\n",
    "Tính năng này đặc biệt hữu ích để **correcting the agent's mistakes** (sửa lỗi của agent), **exploring alternative routes** (khám phá các tuyến đường thay thế) hoặc **modifying the agent's behavior** (sửa đổi hành vi của agent) theo một mục tiêu cụ thể.\n",
    "\n",
    "- Lưu ý: Agent được sử dụng trong hướng dẫn này định nghĩa cùng một graph như hướng dẫn trước.\n"
   ]
  },
  {
   "cell_type": "code",
   "execution_count": 1,
   "metadata": {},
   "outputs": [],
   "source": [
    "import os\n",
    "from dotenv import load_dotenv\n",
    "from typing import Annotated\n",
    "from typing_extensions import TypedDict\n",
    "\n",
    "from langchain_ollama import ChatOllama\n",
    "# from langchain_core.tools import tool\n",
    "\n",
    "from langgraph.checkpoint.memory import MemorySaver\n",
    "from langgraph.graph import StateGraph, START, END\n",
    "from langgraph.graph.message import add_messages\n",
    "from langgraph.prebuilt import ToolNode, tools_condition\n",
    "from langchain_community.tools import TavilySearchResults\n",
    "\n",
    "load_dotenv(dotenv_path='../.env')\n",
    "\n",
    "###### Define the State ######\n",
    "class State(TypedDict):\n",
    "    messages: Annotated[list, add_messages]\n",
    "\n",
    "\n",
    "graph_builder = StateGraph(State)\n",
    "\n",
    "\n",
    "###### Define the tool and binding ######\n",
    "tool = TavilySearchResults(\n",
    "    max_results=3,\n",
    "    include_answer=True,\n",
    "    include_raw_content=True,\n",
    "    include_images=True,\n",
    "    # search_depth=\"advanced\",\n",
    "    # include_domains = []\n",
    "    # exclude_domains = []\n",
    ")\n",
    "\n",
    "\n",
    "tools = [tool]\n",
    "llm = ChatOllama(model='qwen2.5:7b', temperature=0)\n",
    "llm_with_tools = llm.bind_tools(tools)\n",
    "\n",
    "\n",
    "###### Add Nodes ######\n",
    "def chatbot(state: State):\n",
    "    \"\"\"\n",
    "    Invoke the message and return the result.\n",
    "    \"\"\"\n",
    "    return {\"messages\": [llm_with_tools.invoke(state[\"messages\"])]}\n",
    "\n",
    "\n",
    "# chatbot node\n",
    "graph_builder.add_node(\"chatbot\", chatbot)\n",
    "\n",
    "# tool node\n",
    "tool_node = ToolNode(tools=tools)\n",
    "graph_builder.add_node(\"tools\", tool_node)\n",
    "\n",
    "# conditional edge\n",
    "graph_builder.add_conditional_edges(\"chatbot\", tools_condition)\n",
    "\n",
    "\n",
    "###### Add Edges ######\n",
    "# tools -> chatbot\n",
    "graph_builder.add_edge(\"tools\", \"chatbot\")\n",
    "\n",
    "# START -> chatbot\n",
    "graph_builder.add_edge(START, \"chatbot\")\n",
    "\n",
    "# chatbot -> END\n",
    "graph_builder.add_edge(\"chatbot\", END)\n",
    "\n",
    "\n",
    "###### Add the MemorySaver ######\n",
    "memory = MemorySaver()"
   ]
  },
  {
   "cell_type": "code",
   "execution_count": 2,
   "metadata": {},
   "outputs": [],
   "source": [
    "graph = graph_builder.compile(checkpointer=memory)"
   ]
  },
  {
   "cell_type": "code",
   "execution_count": 3,
   "metadata": {},
   "outputs": [
    {
     "data": {
      "image/png": "[encoded data removed]",
      "text/plain": [
       "<IPython.core.display.Image object>"
      ]
     },
     "metadata": {},
     "output_type": "display_data"
    }
   ],
   "source": [
    "from IPython.display import Image, display\n",
    "from langchain_core.runnables.graph import MermaidDrawMethod\n",
    "\n",
    "# Visualize the graph\n",
    "display(\n",
    "    Image(\n",
    "        graph.get_graph().draw_mermaid_png(\n",
    "            draw_method=MermaidDrawMethod.API,\n",
    "        )\n",
    "    )\n",
    ")"
   ]
  },
  {
   "cell_type": "code",
   "execution_count": 4,
   "metadata": {},
   "outputs": [],
   "source": [
    "from langchain_core.runnables import RunnableConfig\n",
    "\n",
    "question = \"Vui lòng tìm hiểu và cập nhật thông tin giá vàng mới nhất.\"\n",
    "\n",
    "input = State(messages=[(\"user\", question)])\n",
    "\n",
    "config = RunnableConfig(\n",
    "    configurable={'thread_id': '1'}\n",
    ")"
   ]
  },
  {
   "cell_type": "code",
   "execution_count": 5,
   "metadata": {},
   "outputs": [
    {
     "data": {
      "text/plain": [
       "['messages',\n",
       " '__start__',\n",
       " 'chatbot',\n",
       " 'tools',\n",
       " 'branch:__start__:__self__:chatbot',\n",
       " 'branch:__start__:__self__:tools',\n",
       " 'branch:chatbot:__self__:chatbot',\n",
       " 'branch:chatbot:__self__:tools',\n",
       " 'branch:tools:__self__:chatbot',\n",
       " 'branch:tools:__self__:tools',\n",
       " 'start:chatbot',\n",
       " 'branch:chatbot:tools_condition:tools']"
      ]
     },
     "execution_count": 5,
     "metadata": {},
     "output_type": "execute_result"
    }
   ],
   "source": [
    "# Display list graph channels\n",
    "list(graph.channels)"
   ]
  },
  {
   "cell_type": "code",
   "execution_count": 6,
   "metadata": {},
   "outputs": [],
   "source": [
    "# Call graph stream\n",
    "\n",
    "events = graph.stream(\n",
    "    input=input, config=config, interrupt_before=[\"tools\"], stream_mode='values'\n",
    ")"
   ]
  },
  {
   "cell_type": "code",
   "execution_count": 7,
   "metadata": {},
   "outputs": [
    {
     "name": "stdout",
     "output_type": "stream",
     "text": [
      "================================\u001b[1m Human Message \u001b[0m=================================\n",
      "\n",
      "Vui lòng tìm hiểu và cập nhật thông tin giá vàng mới nhất.\n",
      "==================================\u001b[1m Ai Message \u001b[0m==================================\n",
      "Tool Calls:\n",
      "  tavily_search_results_json (114c7bba-7d2a-4950-8136-8786ea77afca)\n",
      " Call ID: 114c7bba-7d2a-4950-8136-8786ea77afca\n",
      "  Args:\n",
      "    query: giá vàng mới nhất\n"
     ]
    }
   ],
   "source": [
    "for event in events:\n",
    "    if 'messages' in event:\n",
    "        event[\"messages\"][-1].pretty_print()"
   ]
  },
  {
   "cell_type": "markdown",
   "metadata": {},
   "source": [
    "Bước hiện tại bị gián đoạn bởi `ToolNode`.\n",
    "\n",
    "Kiểm tra tin nhắn gần đây nhất để thấy rằng `ToolNode` chứa `query` trước khi thực hiện tìm kiếm.\n",
    "\n",
    "Ở đây, `query` chỉ chứa từ `LangGraph`. (Câu hỏi ban đầu là `\"Please research and tell me what LangGraph is!\"`)\n",
    "\n",
    "Tất nhiên, kết quả tìm kiếm trên web có thể không phải là thứ chúng ta muốn.\n"
   ]
  },
  {
   "cell_type": "code",
   "execution_count": 13,
   "metadata": {},
   "outputs": [],
   "source": [
    "import json\n",
    "\n",
    "# Custom function to serialize non-JSON serializable objects\n",
    "def custom_serializer(obj):\n",
    "    if hasattr(obj, \"__dict__\"):\n",
    "        return obj.__dict__\n",
    "    elif isinstance(obj, (list, tuple)):\n",
    "        return [custom_serializer(item) for item in obj]\n",
    "    return str(obj)\n",
    "\n",
    "\n",
    "# Custom function to print the snapshot\n",
    "def pretty_print_snapshot(snapshot):\n",
    "    try:\n",
    "        snapshot_json = json.dumps(\n",
    "            snapshot, indent=4, ensure_ascii=False, default=custom_serializer\n",
    "        )\n",
    "        print(snapshot_json)\n",
    "    except Exception as e:\n",
    "        print(f\"Error formatting snapshot: {e}\")"
   ]
  },
  {
   "cell_type": "code",
   "execution_count": 14,
   "metadata": {},
   "outputs": [
    {
     "name": "stdout",
     "output_type": "stream",
     "text": [
      "==================================\u001b[1m Ai Message \u001b[0m==================================\n",
      "Tool Calls:\n",
      "  tavily_search_results_json (114c7bba-7d2a-4950-8136-8786ea77afca)\n",
      " Call ID: 114c7bba-7d2a-4950-8136-8786ea77afca\n",
      "  Args:\n",
      "    query: giá vàng mới nhất\n"
     ]
    }
   ],
   "source": [
    "snapshot = graph.get_state(config)\n",
    "last_message = snapshot.values[\"messages\"][-1]\n",
    "last_message.pretty_print()"
   ]
  },
  {
   "cell_type": "markdown",
   "metadata": {},
   "source": [
    "## Human in the loop\n",
    "\n",
    "- Sửa đổi **search result** (kết quả tìm kiếm) từ công cụ `TavilySearch`\n",
    "\n",
    "Chúng ta thường thấy rằng kết quả của `ToolMessage` không đạt yêu cầu.\n",
    "\n",
    "Đặc biệt, câu trả lời thu được từ tìm kiếm trên web có thể chứa thông tin không chính xác, điều này cũng có thể ảnh hưởng đến câu trả lời của chatbot.\n",
    "\n",
    "Nếu bạn muốn sửa đổi `ToolMessage` từ `Tavily Tool` và chuyển nó cho LLM, bạn có thể làm điều đó như thế nào?\n"
   ]
  },
  {
   "cell_type": "markdown",
   "metadata": {},
   "source": [
    "![](../images/07-langgraph-manual-state-update.png)"
   ]
  },
  {
   "cell_type": "code",
   "execution_count": 15,
   "metadata": {},
   "outputs": [
    {
     "name": "stdout",
     "output_type": "stream",
     "text": [
      "[Modified web search result] \n",
      "Đồng đôla mạnh lên và hoạt động bán chốt lời khiến giá vàng thế giới mất hơn 20 USD phiên cuối tuần.\n",
      "\n",
      "Chốt phiên giao dịch 21/3, giá vàng thế giới giao ngay giảm 20 USD xuống 3.023 USD một ounce. Trong phiên, giá có thời điểm về 2.996 USD - thấp nhất 1 tuần qua.\n",
      "\n",
      "Thị trường đi xuống do đồng đôla mạnh lên và nhà đầu tư bán chốt lời, bất chấp căng thẳng kinh tế - chính trị vẫn tiếp diễn. Khả năng Cục Dự trữ liên bang Mỹ (Fed) giảm lãi suất năm nay cũng giúp vàng ghi nhận tuần tăng thứ 3 liên tiếp, với 1%.\n",
      "Xem chi tiết hơn tại https://vnexpress.net/gia-vang-the-gioi-giam-manh-4864424.html\n"
     ]
    }
   ],
   "source": [
    "modified_search_result = \"\"\"[Modified web search result] \n",
    "Đồng đôla mạnh lên và hoạt động bán chốt lời khiến giá vàng thế giới mất hơn 20 USD phiên cuối tuần.\n",
    "\n",
    "Chốt phiên giao dịch 21/3, giá vàng thế giới giao ngay giảm 20 USD xuống 3.023 USD một ounce. Trong phiên, giá có thời điểm về 2.996 USD - thấp nhất 1 tuần qua.\n",
    "\n",
    "Thị trường đi xuống do đồng đôla mạnh lên và nhà đầu tư bán chốt lời, bất chấp căng thẳng kinh tế - chính trị vẫn tiếp diễn. Khả năng Cục Dự trữ liên bang Mỹ (Fed) giảm lãi suất năm nay cũng giúp vàng ghi nhận tuần tăng thứ 3 liên tiếp, với 1%.\n",
    "Xem chi tiết hơn tại https://vnexpress.net/gia-vang-the-gioi-giam-manh-4864424.html\"\"\"\n",
    "\n",
    "print(modified_search_result)"
   ]
  },
  {
   "cell_type": "markdown",
   "metadata": {},
   "source": [
    "Next, inject the modified search result into the `ToolMessage`. \n",
    "\n",
    "**Important**\n",
    "\n",
    "- To modify the message, you need to specify the `tool_call_id` that matches the message you want to modify."
   ]
  },
  {
   "cell_type": "code",
   "execution_count": 16,
   "metadata": {},
   "outputs": [
    {
     "name": "stdout",
     "output_type": "stream",
     "text": [
      "tool_call_id='114c7bba-7d2a-4950-8136-8786ea77afca'\n"
     ]
    }
   ],
   "source": [
    "tool_call_id = last_message.tool_calls[0][\"id\"]\n",
    "print(f\"{tool_call_id=}\")"
   ]
  },
  {
   "cell_type": "code",
   "execution_count": null,
   "metadata": {},
   "outputs": [
    {
     "name": "stdout",
     "output_type": "stream",
     "text": [
      "=================================\u001b[1m Tool Message \u001b[0m=================================\n",
      "\n",
      "[Modified web search result] \n",
      "Đồng đôla mạnh lên và hoạt động bán chốt lời khiến giá vàng thế giới mất hơn 20 USD phiên cuối tuần.\n",
      "\n",
      "Chốt phiên giao dịch 21/3, giá vàng thế giới giao ngay giảm 20 USD xuống 3.023 USD một ounce. Trong phiên, giá có thời điểm về 2.996 USD - thấp nhất 1 tuần qua.\n",
      "\n",
      "Thị trường đi xuống do đồng đôla mạnh lên và nhà đầu tư bán chốt lời, bất chấp căng thẳng kinh tế - chính trị vẫn tiếp diễn. Khả năng Cục Dự trữ liên bang Mỹ (Fed) giảm lãi suất năm nay cũng giúp vàng ghi nhận tuần tăng thứ 3 liên tiếp, với 1%.\n",
      "Xem chi tiết hơn tại https://vnexpress.net/gia-vang-the-gioi-giam-manh-4864424.html\n"
     ]
    }
   ],
   "source": [
    "from langchain_core.messages import AIMessage, ToolMessage\n",
    "\n",
    "new_messages = [\n",
    "    ToolMessage(\n",
    "        content=modified_search_result,\n",
    "        tool_call_id=tool_call_id\n",
    "    ),\n",
    "    # Add content directly to the LLM's response\n",
    "    # AIMessage(content=modified_search_result),\n",
    "]\n",
    "new_messages[-1].pretty_print()"
   ]
  },
  {
   "cell_type": "markdown",
   "metadata": {},
   "source": [
    "### StateGraph's `update_state` Method\n",
    "\n",
    "Phương thức `update_state` cập nhật trạng thái của đồ thị với các giá trị được cung cấp. Phương thức này hoạt động như thể các giá trị xuất phát từ `as_node`.\n",
    "\n",
    "**Tham số**\n",
    "\n",
    "- `config` (RunnableConfig): Cấu hình thực thi\n",
    "- `values` (Optional[Union[dict[str, Any], Any]]): Các giá trị cần cập nhật\n",
    "- `as_node` (Optional[str]): Tên node được xem là nguồn gốc của các giá trị. Giá trị mặc định là None\n",
    "\n",
    "**Trả về**\n",
    "\n",
    "- RunnableConfig\n",
    "\n",
    "**Các tính năng chính**\n",
    "\n",
    "1. Tải trạng thái trước đó thông qua checkpoint và lưu trạng thái mới.\n",
    "2. Xử lý cập nhật trạng thái cho subgraph.\n",
    "3. Nếu `as_node` không được chỉ định, tìm node đã cập nhật trạng thái cuối cùng.\n",
    "4. Cập nhật trạng thái bằng cách sử dụng writers của node được chỉ định.\n",
    "5. Lưu trạng thái đã cập nhật vào checkpoint.\n",
    "\n",
    "**Logic chính**\n",
    "\n",
    "1. Kiểm tra checkpoint và đưa ra lỗi ValueError nếu không tìm thấy.\n",
    "2. Nếu cập nhật cho subgraph, gọi phương thức `update_state` của subgraph.\n",
    "3. Tải checkpoint trước đó và xác định `as_node` nếu cần thiết.\n",
    "4. Cập nhật trạng thái bằng cách sử dụng writers của node được chỉ định.\n",
    "5. Lưu trạng thái đã cập nhật vào checkpoint mới.\n",
    "\n",
    "**Lưu ý**\n",
    "\n",
    "- Phương thức này được sử dụng khi cập nhật trạng thái của đồ thị một cách thủ công. \n",
    "- Sử dụng checkpoint để đảm bảo quản lý phiên bản và tính bền vững của trạng thái.\n",
    "- `as_node` được xác định tự động, nhưng nếu không rõ ràng, có thể xảy ra lỗi.\n",
    "- Việc ghi vào SharedValues không được phép trong quá trình cập nhật trạng thái.\n"
   ]
  },
  {
   "cell_type": "code",
   "execution_count": 18,
   "metadata": {},
   "outputs": [
    {
     "name": "stdout",
     "output_type": "stream",
     "text": [
      "(Display the most recent message)\n",
      "\n",
      "content='[Modified web search result] \\nĐồng đôla mạnh lên và hoạt động bán chốt lời khiến giá vàng thế giới mất hơn 20 USD phiên cuối tuần.\\n\\nChốt phiên giao dịch 21/3, giá vàng thế giới giao ngay giảm 20 USD xuống 3.023 USD một ounce. Trong phiên, giá có thời điểm về 2.996 USD - thấp nhất 1 tuần qua.\\n\\nThị trường đi xuống do đồng đôla mạnh lên và nhà đầu tư bán chốt lời, bất chấp căng thẳng kinh tế - chính trị vẫn tiếp diễn. Khả năng Cục Dự trữ liên bang Mỹ (Fed) giảm lãi suất năm nay cũng giúp vàng ghi nhận tuần tăng thứ 3 liên tiếp, với 1%.\\nXem chi tiết hơn tại https://vnexpress.net/gia-vang-the-gioi-giam-manh-4864424.html' id='1d22b9d2-0099-435d-a708-6eeacef39ad9' tool_call_id='114c7bba-7d2a-4950-8136-8786ea77afca'\n"
     ]
    }
   ],
   "source": [
    "graph.update_state(\n",
    "    config,\n",
    "    {\"messages\": new_messages},\n",
    "    as_node=\"tools\"\n",
    ")\n",
    "print(\"(Display the most recent message)\\n\")\n",
    "print(graph.get_state(config).values[\"messages\"][-1])"
   ]
  },
  {
   "cell_type": "markdown",
   "metadata": {},
   "source": [
    "Bây giờ, đồ thị đã hoàn thành.\n",
    "\n",
    "Vì thông báo phản hồi cuối cùng đã được cung cấp!\n",
    "\n",
    "Cập nhật trạng thái mô phỏng bước đồ thị, vì vậy nó cũng tạo ra các `traces` tương ứng.\n",
    "\n",
    "`messages` đã được xử lý bằng hàm `add_messages` được xác định trước. (Điều này đảm bảo rằng danh sách hiện có không bị ghi đè trực tiếp trong đồ thị và luôn thêm các giá trị.)\n",
    "\n",
    "Logic tương tự được áp dụng ở đây, vì vậy thông báo được truyền tới `update_state` được thêm vào theo cách tương tự.\n",
    "\n",
    "Hàm `update_state` hoạt động như thể nó là một trong các nút trong đồ thị! Theo mặc định, quá trình cập nhật sử dụng nút được thực thi cuối cùng, nhưng nó có thể được chỉ định thủ công như được hiển thị bên dưới. Hãy thêm một bản cập nhật và hướng dẫn đồ thị coi nó như đến từ \"chatbot\".\n"
   ]
  },
  {
   "cell_type": "code",
   "execution_count": 19,
   "metadata": {},
   "outputs": [
    {
     "data": {
      "text/plain": [
       "('chatbot',)"
      ]
     },
     "execution_count": 19,
     "metadata": {},
     "output_type": "execute_result"
    }
   ],
   "source": [
    "snapshot = graph.get_state(config)\n",
    "snapshot.next"
   ]
  },
  {
   "cell_type": "code",
   "execution_count": 21,
   "metadata": {},
   "outputs": [
    {
     "name": "stdout",
     "output_type": "stream",
     "text": [
      "=================================\u001b[1m Tool Message \u001b[0m=================================\n",
      "\n",
      "[Modified web search result] \n",
      "Đồng đôla mạnh lên và hoạt động bán chốt lời khiến giá vàng thế giới mất hơn 20 USD phiên cuối tuần.\n",
      "\n",
      "Chốt phiên giao dịch 21/3, giá vàng thế giới giao ngay giảm 20 USD xuống 3.023 USD một ounce. Trong phiên, giá có thời điểm về 2.996 USD - thấp nhất 1 tuần qua.\n",
      "\n",
      "Thị trường đi xuống do đồng đôla mạnh lên và nhà đầu tư bán chốt lời, bất chấp căng thẳng kinh tế - chính trị vẫn tiếp diễn. Khả năng Cục Dự trữ liên bang Mỹ (Fed) giảm lãi suất năm nay cũng giúp vàng ghi nhận tuần tăng thứ 3 liên tiếp, với 1%.\n",
      "Xem chi tiết hơn tại https://vnexpress.net/gia-vang-the-gioi-giam-manh-4864424.html\n",
      "==================================\u001b[1m Ai Message \u001b[0m==================================\n",
      "\n",
      "Giá vàng thế giới phiên cuối tuần 21/03 đã giảm 20 USD xuống còn 3.023 USD một ounce. Điều này xảy ra do đồng đô la mạnh lên và nhà đầu tư bán chốt lời, bất chấp căng thẳng kinh tế - chính trị vẫn tiếp diễn. Tuy nhiên, khả năng Cục Dự trữ Liên bang Mỹ (Fed) giảm lãi suất năm nay đã giúp giá vàng ghi nhận tuần tăng thứ 3 liên tiếp với mức tăng 1%. Bạn có thể xem chi tiết hơn tại [nguồn](https://vnexpress.net/gia-vang-the-gioi-giam-manh-4864424.html).\n"
     ]
    }
   ],
   "source": [
    "events = graph.stream(None, config, stream_mode='values')\n",
    "\n",
    "for event in events:\n",
    "    if 'messages' in event:\n",
    "        event['messages'][-1].pretty_print()"
   ]
  },
  {
   "cell_type": "markdown",
   "metadata": {},
   "source": [
    "The following code can be used if you want to modify the state of the final answer."
   ]
  },
  {
   "cell_type": "code",
   "execution_count": 22,
   "metadata": {},
   "outputs": [],
   "source": [
    "# Specify the node where this function operates. This node is automatically processed as if it was just executed.\n",
    "# graph.update_state(\n",
    "#     config,\n",
    "#     {\n",
    "#         \"messages\": [\n",
    "#             AIMessage(content=\"Finally, add the final message to complete the process.\")\n",
    "#         ]\n",
    "#     },\n",
    "#     as_node=\"chatbot\",\n",
    "# )\n"
   ]
  },
  {
   "cell_type": "code",
   "execution_count": 23,
   "metadata": {},
   "outputs": [
    {
     "data": {
      "image/png": "[encoded data removed]",
      "text/plain": [
       "<langgraph.graph.state.CompiledStateGraph object at 0x7a62b824cb20>"
      ]
     },
     "execution_count": 23,
     "metadata": {},
     "output_type": "execute_result"
    }
   ],
   "source": [
    "graph"
   ]
  },
  {
   "cell_type": "markdown",
   "metadata": {},
   "source": [
    "Check the current state as before to confirm that the checkpoint reflects the manual update."
   ]
  },
  {
   "cell_type": "code",
   "execution_count": 24,
   "metadata": {},
   "outputs": [
    {
     "name": "stdout",
     "output_type": "stream",
     "text": [
      "================================\u001b[1m Human Message \u001b[0m=================================\n",
      "\n",
      "Vui lòng tìm hiểu và cập nhật thông tin giá vàng mới nhất.\n",
      "==================================\u001b[1m Ai Message \u001b[0m==================================\n",
      "Tool Calls:\n",
      "  tavily_search_results_json (114c7bba-7d2a-4950-8136-8786ea77afca)\n",
      " Call ID: 114c7bba-7d2a-4950-8136-8786ea77afca\n",
      "  Args:\n",
      "    query: giá vàng mới nhất\n",
      "=================================\u001b[1m Tool Message \u001b[0m=================================\n",
      "\n",
      "[Modified web search result] \n",
      "Đồng đôla mạnh lên và hoạt động bán chốt lời khiến giá vàng thế giới mất hơn 20 USD phiên cuối tuần.\n",
      "\n",
      "Chốt phiên giao dịch 21/3, giá vàng thế giới giao ngay giảm 20 USD xuống 3.023 USD một ounce. Trong phiên, giá có thời điểm về 2.996 USD - thấp nhất 1 tuần qua.\n",
      "\n",
      "Thị trường đi xuống do đồng đôla mạnh lên và nhà đầu tư bán chốt lời, bất chấp căng thẳng kinh tế - chính trị vẫn tiếp diễn. Khả năng Cục Dự trữ liên bang Mỹ (Fed) giảm lãi suất năm nay cũng giúp vàng ghi nhận tuần tăng thứ 3 liên tiếp, với 1%.\n",
      "Xem chi tiết hơn tại https://vnexpress.net/gia-vang-the-gioi-giam-manh-4864424.html\n",
      "==================================\u001b[1m Ai Message \u001b[0m==================================\n",
      "\n",
      "Giá vàng thế giới phiên cuối tuần 21/03 đã giảm 20 USD xuống còn 3.023 USD một ounce. Điều này xảy ra do đồng đô la mạnh lên và nhà đầu tư bán chốt lời, bất chấp căng thẳng kinh tế - chính trị vẫn tiếp diễn. Tuy nhiên, khả năng Cục Dự trữ Liên bang Mỹ (Fed) giảm lãi suất năm nay đã giúp giá vàng ghi nhận tuần tăng thứ 3 liên tiếp với mức tăng 1%. Bạn có thể xem chi tiết hơn tại [nguồn](https://vnexpress.net/gia-vang-the-gioi-giam-manh-4864424.html).\n"
     ]
    }
   ],
   "source": [
    "snapshot = graph.get_state(config)\n",
    "\n",
    "for message in snapshot.values['messages']:\n",
    "    message.pretty_print()"
   ]
  },
  {
   "cell_type": "code",
   "execution_count": 26,
   "metadata": {},
   "outputs": [
    {
     "data": {
      "text/plain": [
       "()"
      ]
     },
     "execution_count": 26,
     "metadata": {},
     "output_type": "execute_result"
    }
   ],
   "source": [
    "snapshot.next"
   ]
  },
  {
   "cell_type": "markdown",
   "metadata": {},
   "source": [
    "## Update the message state after an interrupt – continue the process.\n",
    "\n",
    "- Sửa đổi **truy vấn tìm kiếm** trong công cụ `TavilySearch`\n",
    "\n",
    "Lần này, ngắt trước khi chuyển sang nút tiếp theo và cập nhật trạng thái, sau đó tiếp tục quy trình.\n",
    "\n",
    "Đầu tiên, tạo một `thread_id` mới.\n",
    "\n",
    "Ở đây, chúng ta sử dụng hàm `generate_random_hash` để tạo giá trị hash ngẫu nhiên.\n"
   ]
  },
  {
   "cell_type": "code",
   "execution_count": 27,
   "metadata": {},
   "outputs": [],
   "source": [
    "import random\n",
    "def generate_random_hash():\n",
    "    return f\"{random.randint(0, 0xffffff):06x}\""
   ]
  },
  {
   "cell_type": "code",
   "execution_count": 29,
   "metadata": {},
   "outputs": [
    {
     "data": {
      "text/plain": [
       "'063bc6'"
      ]
     },
     "execution_count": 29,
     "metadata": {},
     "output_type": "execute_result"
    }
   ],
   "source": [
    "generate_random_hash()"
   ]
  },
  {
   "cell_type": "code",
   "execution_count": 32,
   "metadata": {},
   "outputs": [
    {
     "name": "stdout",
     "output_type": "stream",
     "text": [
      "thread_id='4f191a'\n",
      "================================\u001b[1m Human Message \u001b[0m=================================\n",
      "\n",
      "I want to learn about LangGraph. Can you recommend useful materials?\n",
      "==================================\u001b[1m Ai Message \u001b[0m==================================\n",
      "Tool Calls:\n",
      "  tavily_search_results_json (74d3f308-a6d5-498b-bc55-6d949681d6dc)\n",
      " Call ID: 74d3f308-a6d5-498b-bc55-6d949681d6dc\n",
      "  Args:\n",
      "    query: LangGraph overview and resources\n"
     ]
    }
   ],
   "source": [
    "from langchain_core.runnables import RunnableConfig\n",
    "thread_id = generate_random_hash()\n",
    "print(f\"{thread_id=}\")\n",
    "\n",
    "question = \"I want to learn about LangGraph. Can you recommend useful materials?\"\n",
    "\n",
    "input = State(messages=[('user', question)])\n",
    "\n",
    "# Create a new config\n",
    "config = RunnableConfig(configurable={\"thread_id\": thread_id})\n",
    "\n",
    "events = graph.stream(\n",
    "    input=input,\n",
    "    config=config,\n",
    "    interrupt_before=['tools'],\n",
    "    stream_mode=\"values\"\n",
    ")\n",
    "\n",
    "for event in events:\n",
    "    if \"messages\" in event:\n",
    "        event[\"messages\"][-1].pretty_print()"
   ]
  },
  {
   "cell_type": "markdown",
   "metadata": {},
   "source": [
    "Next, let's update the tool call for the agent. \n",
    "\n",
    "First, get the `Message ID`. "
   ]
  },
  {
   "cell_type": "code",
   "execution_count": 33,
   "metadata": {},
   "outputs": [],
   "source": [
    "config_copy = config.copy()"
   ]
  },
  {
   "cell_type": "code",
   "execution_count": 35,
   "metadata": {},
   "outputs": [],
   "source": [
    "from langchain_core.messages import AIMessage\n",
    "\n",
    "snapshot = graph.get_state(config)\n",
    "existing_message = snapshot.values['messages'][-1]"
   ]
  },
  {
   "cell_type": "code",
   "execution_count": 36,
   "metadata": {},
   "outputs": [
    {
     "data": {
      "text/plain": [
       "'run-606b9603-b5c7-4d8b-9a0f-952d8fcc3b31-0'"
      ]
     },
     "execution_count": 36,
     "metadata": {},
     "output_type": "execute_result"
    }
   ],
   "source": [
    "existing_message.id"
   ]
  },
  {
   "cell_type": "code",
   "execution_count": 38,
   "metadata": {},
   "outputs": [
    {
     "name": "stdout",
     "output_type": "stream",
     "text": [
      "==================================\u001b[1m Ai Message \u001b[0m==================================\n",
      "Tool Calls:\n",
      "  tavily_search_results_json (74d3f308-a6d5-498b-bc55-6d949681d6dc)\n",
      " Call ID: 74d3f308-a6d5-498b-bc55-6d949681d6dc\n",
      "  Args:\n",
      "    query: LangGraph overview and resources\n"
     ]
    }
   ],
   "source": [
    "existing_message.pretty_print()"
   ]
  },
  {
   "cell_type": "code",
   "execution_count": 41,
   "metadata": {},
   "outputs": [],
   "source": [
    "import json\n",
    "\n",
    "# Custom function to serialize non-JSON serializable objects\n",
    "def custom_serializer(obj):\n",
    "    if hasattr(obj, \"__dict__\"):\n",
    "        return obj.__dict__\n",
    "    elif isinstance(obj, (list, tuple)):\n",
    "        return [custom_serializer(item) for item in obj]\n",
    "    return str(obj)\n",
    "\n",
    "\n",
    "# Custom function to print the snapshot\n",
    "def pretty_print_snapshot(snapshot):\n",
    "    try:\n",
    "        snapshot_json = json.dumps(\n",
    "            snapshot, indent=4, ensure_ascii=False, default=custom_serializer\n",
    "        )\n",
    "        print(snapshot_json)\n",
    "    except Exception as e:\n",
    "        print(f\"Error formatting snapshot: {e}\")"
   ]
  },
  {
   "cell_type": "code",
   "execution_count": 42,
   "metadata": {},
   "outputs": [
    {
     "name": "stdout",
     "output_type": "stream",
     "text": [
      "{\n",
      "    \"content\": \"\",\n",
      "    \"additional_kwargs\": {},\n",
      "    \"response_metadata\": {\n",
      "        \"model\": \"qwen2.5:7b\",\n",
      "        \"created_at\": \"2025-03-24T02:09:05.688540349Z\",\n",
      "        \"done\": true,\n",
      "        \"done_reason\": \"stop\",\n",
      "        \"total_duration\": 31819672532,\n",
      "        \"load_duration\": 2484407274,\n",
      "        \"prompt_eval_count\": 201,\n",
      "        \"prompt_eval_duration\": 14568000000,\n",
      "        \"eval_count\": 83,\n",
      "        \"eval_duration\": 14760000000,\n",
      "        \"message\": {\n",
      "            \"role\": \"assistant\",\n",
      "            \"content\": \"\",\n",
      "            \"images\": null,\n",
      "            \"tool_calls\": null\n",
      "        }\n",
      "    },\n",
      "    \"type\": \"ai\",\n",
      "    \"name\": null,\n",
      "    \"id\": \"run-606b9603-b5c7-4d8b-9a0f-952d8fcc3b31-0\",\n",
      "    \"example\": false,\n",
      "    \"tool_calls\": [\n",
      "        {\n",
      "            \"name\": \"tavily_search_results_json\",\n",
      "            \"args\": {\n",
      "                \"query\": \"LangGraph overview and resources\"\n",
      "            },\n",
      "            \"id\": \"74d3f308-a6d5-498b-bc55-6d949681d6dc\",\n",
      "            \"type\": \"tool_call\"\n",
      "        }\n",
      "    ],\n",
      "    \"invalid_tool_calls\": [],\n",
      "    \"usage_metadata\": {\n",
      "        \"input_tokens\": 201,\n",
      "        \"output_tokens\": 83,\n",
      "        \"total_tokens\": 284\n",
      "    }\n",
      "}\n"
     ]
    }
   ],
   "source": [
    "pretty_print_snapshot(existing_message)"
   ]
  },
  {
   "cell_type": "markdown",
   "metadata": {},
   "source": [
    "Hãy cập nhật `query` trong `args`.\n",
    "\n",
    "Sao chép `existing_message` và tạo một lệnh gọi công cụ mới `new_tool_call`.\n",
    "\n",
    "Vì chúng ta đã sử dụng phương thức `copy()`, tất cả các giá trị thuộc tính đều được sao chép.\n",
    "\n",
    "Sau đó, nhập **truy vấn tìm kiếm** mong muốn vào tham số `query`.\n",
    "\n",
    "**Quan trọng**\n",
    "\n",
    "- `id` sử dụng cùng `id` với tin nhắn hiện có. (Nếu `id` thay đổi, bộ giảm tin nhắn sẽ không cập nhật tin nhắn mà thay vào đó sẽ thêm nó.)\n"
   ]
  },
  {
   "cell_type": "code",
   "execution_count": 43,
   "metadata": {},
   "outputs": [
    {
     "data": {
      "text/plain": [
       "{'name': 'tavily_search_results_json',\n",
       " 'args': {'query': 'LangGraph overview and resources'},\n",
       " 'id': '74d3f308-a6d5-498b-bc55-6d949681d6dc',\n",
       " 'type': 'tool_call'}"
      ]
     },
     "execution_count": 43,
     "metadata": {},
     "output_type": "execute_result"
    }
   ],
   "source": [
    "new_tool_call = existing_message.tool_calls[0].copy()\n",
    "new_tool_call"
   ]
  },
  {
   "cell_type": "code",
   "execution_count": 44,
   "metadata": {},
   "outputs": [
    {
     "data": {
      "text/plain": [
       "{'name': 'tavily_search_results_json',\n",
       " 'args': {'query': 'LangGraph site:langchain-opentutorial.gitbook.io/langchain-opentutorial'},\n",
       " 'id': '74d3f308-a6d5-498b-bc55-6d949681d6dc',\n",
       " 'type': 'tool_call'}"
      ]
     },
     "execution_count": 44,
     "metadata": {},
     "output_type": "execute_result"
    }
   ],
   "source": [
    "# Update the query parameter\n",
    "new_tool_call[\"args\"] = {\"query\": \"LangGraph site:langchain-opentutorial.gitbook.io/langchain-opentutorial\"}\n",
    "new_tool_call"
   ]
  },
  {
   "cell_type": "code",
   "execution_count": 45,
   "metadata": {},
   "outputs": [
    {
     "name": "stdout",
     "output_type": "stream",
     "text": [
      "run-606b9603-b5c7-4d8b-9a0f-952d8fcc3b31-0\n",
      "==================================\u001b[1m Ai Message \u001b[0m==================================\n",
      "Tool Calls:\n",
      "  tavily_search_results_json (74d3f308-a6d5-498b-bc55-6d949681d6dc)\n",
      " Call ID: 74d3f308-a6d5-498b-bc55-6d949681d6dc\n",
      "  Args:\n",
      "    query: LangGraph site:langchain-opentutorial.gitbook.io/langchain-opentutorial\n"
     ]
    }
   ],
   "source": [
    "# Create a new AIMessage\n",
    "new_message = AIMessage(\n",
    "    content=existing_message.content,\n",
    "    tool_calls=[new_tool_call],\n",
    "    # Important! ID is a method to replace the message instead of adding it to the state.\n",
    "    id=existing_message.id,\n",
    ")\n",
    "\n",
    "print(new_message.id)\n",
    "\n",
    "# Print the modified message\n",
    "new_message.pretty_print()"
   ]
  },
  {
   "cell_type": "code",
   "execution_count": 46,
   "metadata": {},
   "outputs": [
    {
     "name": "stdout",
     "output_type": "stream",
     "text": [
      "{'name': 'tavily_search_results_json', 'args': {'query': 'LangGraph site:langchain-opentutorial.gitbook.io/langchain-opentutorial'}, 'id': '74d3f308-a6d5-498b-bc55-6d949681d6dc', 'type': 'tool_call'}\n",
      "\n",
      "Message ID run-606b9603-b5c7-4d8b-9a0f-952d8fcc3b31-0\n"
     ]
    },
    {
     "data": {
      "text/plain": [
       "{'configurable': {'thread_id': '4f191a',\n",
       "  'checkpoint_ns': '',\n",
       "  'checkpoint_id': '1f008572-fe62-66aa-8002-4d564353c1aa'}}"
      ]
     },
     "execution_count": 46,
     "metadata": {},
     "output_type": "execute_result"
    }
   ],
   "source": [
    "# Print the updated tool call\n",
    "print(new_message.tool_calls[0])\n",
    "\n",
    "# Print the message ID\n",
    "print(\"\\nMessage ID\", new_message.id)\n",
    "\n",
    "# Update the state\n",
    "graph.update_state(config, {\"messages\": [new_message]})"
   ]
  },
  {
   "cell_type": "code",
   "execution_count": 47,
   "metadata": {},
   "outputs": [
    {
     "data": {
      "text/plain": [
       "[{'name': 'tavily_search_results_json',\n",
       "  'args': {'query': 'LangGraph site:langchain-opentutorial.gitbook.io/langchain-opentutorial'},\n",
       "  'id': '74d3f308-a6d5-498b-bc55-6d949681d6dc',\n",
       "  'type': 'tool_call'}]"
      ]
     },
     "execution_count": 47,
     "metadata": {},
     "output_type": "execute_result"
    }
   ],
   "source": [
    "# Get the tool call of the last message\n",
    "graph.get_state(config).values[\"messages\"][-1].tool_calls"
   ]
  },
  {
   "cell_type": "code",
   "execution_count": 48,
   "metadata": {},
   "outputs": [
    {
     "name": "stdout",
     "output_type": "stream",
     "text": [
      "==================================\u001b[1m Ai Message \u001b[0m==================================\n",
      "Tool Calls:\n",
      "  tavily_search_results_json (74d3f308-a6d5-498b-bc55-6d949681d6dc)\n",
      " Call ID: 74d3f308-a6d5-498b-bc55-6d949681d6dc\n",
      "  Args:\n",
      "    query: LangGraph site:langchain-opentutorial.gitbook.io/langchain-opentutorial\n",
      "=================================\u001b[1m Tool Message \u001b[0m=================================\n",
      "Name: tavily_search_results_json\n",
      "\n",
      "[{\"title\": \"LangGraph Agent Simulation | LangChain OpenTutorial\", \"url\": \"https://langchain-opentutorial.gitbook.io/langchain-opentutorial/17-langgraph/03-use-cases/01-langgraph-agent-simulation\", \"content\": \"Define State\\n\\nDefine Roles : Agent and Customer\\n\\nDefine Agent Simulation\\n\\nDefine Graphs\\n\\nStart the Simulation\\n\\nReferences\\n\\nLangChain\\n\\nEnvironment Setup\\n\\nSetting up your environment is the first step. See the Environment Setup guide for more details.\\n\\n[Note]\\n\\nThe langchain-opentutorial is a package of easy-to-use environment setup guidance, useful functions and utilities for tutorials. Check out the langchain-opentutorial for more details.\", \"score\": 0.6424584612612613, \"raw_content\": \"LangGraph Agent Simulation\\n\\nLast updated 1 month ago\\n\\nAuthor: Youngjun Cho\\n\\nDesign:\\n\\nPeer Review:\\n\\nThis is a part of LangChain Open Tutorial\\n\\n\\n\\nOverview\\n\\nIn this section, We'll simulate the user interactions with customer service scenario.\\n\\nBefore simulate, we have to define state, role, and simulation with LangGraph.\\n\\nAt last, we'll define graphs and visualize the structure we've made.\\n\\nTable of Contents\\n\\nOverview\\n\\nEnvironment Setup\\n\\nAgent Conversation Simulation(Customer Support Scenario)\\n\\nDefine State\\n\\nDefine Roles : Agent and Customer\\n\\nDefine Agent Simulation\\n\\nDefine Graphs\\n\\nStart the Simulation\\n\\nReferences\\n\\nLangChain\\n\\nEnvironment Setup\\n\\nSetting up your environment is the first step. See the Environment Setup guide for more details.\\n\\n[Note]\\n\\nThe langchain-opentutorial is a package of easy-to-use environment setup guidance, useful functions and utilities for tutorials. Check out the langchain-opentutorial for more details.\\n\\nYou can set API keys in a .env file or set them manually.\\n\\n[Note] If you’re not using the .env file, no worries! Just enter the keys directly in the cell below, and you’re good to go.\\n\\nAgent Conversation Simulation (Customer Support Scenario)\\n\\nWhen building a chatbot, such as a customer support assistant, evaluating its performance can be challenging. Manually interacting with the chatbot for each code change is time-consuming.\\n\\nOne way to make the evaluation process easier and more reproducible is simulating user interactions.\\n\\nUsing LangGraph, setting this up is straightforward.\\n\\nBelow is an example of creating a \\\"Simulated User\\\" to simulate conversations.\\n\\nDefine State\\n\\nDefine Roles: Agent and Customer\\n\\nDefine Agent Role\\n\\nDefine the chatbot role acting as the agent in the simulation.\\n\\n[ Note ]\\n\\nThe implementation inside call_chatbot is configurable, and the internal model used can be replaced with an Agent.\\n\\ncall_chatbot takes user messages as input and generates responses as a customer support agent.\\n\\nIt can be used to generate conversational responses in customer support scenarios.\\n\\ncall_chatbot processes user inputs and generates chatbot responses.\\n\\nDefine Simulated User Role\\n\\nDefine the role of the simulated customer. This simulates conversations in a customer support scenario.\\n\\nThe system prompt sets up the interaction between the customer and the support agent, with detailed user instructions defining the scenario.\\n\\nThis configuration is used to simulate the model's response to a specific user request, such as a refund request.\\n\\nCreate a hypothetical scenario. This hypothetical scenario is from the customer's perspective.\\n\\nIn here, we'll create a scenario for requesting a refund.\\n\\nUse the generated simulated_user to send messages to the simulated user.\\n\\nDefine Agent Simulation\\n\\nNow let's write the code to create a LangGraph workflow to run the simulation.\\n\\nHere are the main components:\\n\\nTwo nodes for the simulated user and the chatbot.\\n\\nA graph with conditional stop criteria.\\n\\nDefine Nodes\\n\\nFirst, define nodes in the graph. These nodes take a list of messages as input and return a list of additional messages to be added to the state. They are wrappers that wrap around the chatbot and the simulated user.\\n\\n[ Note ]\\nThe tricky part here is distinguishing which message is from which entity.\\n\\nSince both the chatbot and the simulated user are implemented with LLMs, both will respond with AI messages. Our state will be a list of alternating human and AI messages, which means it requires logic in one of the nodes to swap roles between AI and human.\\n\\nIn this example, HumanMessages are assumed to come from the simulated user. This means the simulated user node needs logic to exchange AI and human messages.\\n\\nCall the Agent Node.\\n\\nNext, define a node for the user we simulated.\\n\\n[ Note ]\\n\\nThis process includes some minor logic to swap message roles.\\n\\nDefine Edges\\n\\nNow we need to define the logic for edges. The primary logic happens after the simulated user has completed their task, leading to one of two outcomes:\\n\\nContinue by calling the support bot ( \\\"continue\\\").\\n\\nEnd the conversation ( \\\"end\\\" ).\\n\\nWhen does the conversation end?\\n\\nIt ends when the simulated user responds with FINISHED (as specified in the system prompt) or conversation exceeds six messages (an arbitrary limit to keep this example brief).\\n\\nThe should_continue function takes a list of messages as argument and returns \\\"end\\\" if the list exceeds six messages or the last message content is FINISHED . Otherwise, it returns \\\"continue\\\" to proceed.\\n\\nDefine graphs\\n\\nNow define the graph for setting up the simulation.\\n\\nThe MessageGraph class is used to structure and simulate interactions between the chatbot and the simulated user.\\n\\nStart the Simulation\\n\\nNow, we can evaluate our chatbot! You can call it with empty messages to simulate the chatbot initiating the conversation.\\n\\nWe'll iterate over the data chunks streaming from the simulation, outputting all events except the final ending chunk (END).\\n\\n\"}, {\"title\": \"Human-in-the-loop | LangChain OpenTutorial\", \"url\": \"https://langchain-opentutorial.gitbook.io/langchain-opentutorial/17-langgraph/01-core-features/06-langgraph-human-in-the-loop\", \"content\": \"Environment Setup\\n\\n\\nFunction Setup\\n\\n\\nGraph Setup\\n\\n\\nAdding Human Feedback\\n\\n\\n\\n\\nReferences\\n\\n\\nTutorials > Quick Start > Human-in-the-loop\\n\\n\\nConcepts > LangGraph > Human-in-the-loop\\n\\n\\n\\n\\nEnvironment Setup\\n\\nSet up the environment. You may refer to Environment Setup for more details.\\n[Note]\\n\\n\\nlangchain-opentutorial is a package that provides a set of easy-to-use environment setup, useful functions and utilities for tutorials.\\n\\n\\nYou can checkout the langchain-opentutorial for more details. [...] This tutorial covers Human in the loop .\\nAgents are not always reliable, and human intervention may be required to ensure tasks are executed successfully.\\nIn some cases, you might want human approval before proceeding to confirm that everything is functioning as intended. LangGraph supports these Human-in-the-loop workflows.\\nIn this tutorial, you'll learn how to use LangGraph's interrupt_before feature to pause execution, enabling human oversight and control.\\n\\n\\nTable of Contents\\n\\n\\nOverview [...] Next, let's resume the graph from the point where it was interrupted.\\nLangGraph makes it easy to resume graph execution.\\nSimply pass None as the input .\\nCopy\\n```\\nevents = graph.stream(\\n    input=None,  # Do not add anything to the current State\\n    config=config,\\n    stream_mode=\\\"values\\\",\\n)\\nProcess events in a loop\\nfor event in events:\\n    if \\\"messages\\\" in event:\\n        # Print the last message\\n        event[\\\"messages\\\"][-1].pretty_print()\\n```\\nCopy\\n```\", \"score\": 0.6194984534534534, \"raw_content\": \"Human-in-the-loop | LangChain OpenTutorial\\n LangChain OpenTutorial\\nSearch...\\nCtrl + K\\n\\n🦜️🔗 The LangChain Open Tutorial for Everyone\\n\\n01-Basic\\n\\nGetting Started on Windows\\n02-Getting-Started-Mac\\nOpenAI API Key Generation and Testing Guide\\nLangSmith Tracking Setup\\nUsing the OpenAI API (GPT-4o Multimodal)\\nBasic Example: Prompt+Model+OutputParser\\nLCEL Interface\\nRunnable\\n\\n\\n\\n02-Prompt\\n\\nPrompt Template\\nFew-Shot Templates\\nLangChain Hub\\nPersonal Prompts for LangChain\\n\\n\\n\\n03-OutputParser\\n\\nPydanticOutputParser\\nPydanticOutputParser\\nComma Separated List Output Parser\\nStructured Output Parser\\nJsonOutputParser\\nPandasDataFrameOutputParser\\nDatetimeOutputParser\\nEnumOutputParser\\nOutput Fixing Parser\\n\\n\\n\\n04-Model\\n\\nUsing Various LLM Models\\nChat Models\\nCaching\\nCaching\\nModel Serialization\\nCheck Token Usage\\nGoogle Generative AI\\nHuggingface Endpoints\\nHuggingFace Local\\nHuggingFace Pipeline\\nChatOllama\\nGPT4ALL\\nVideo Q&A LLM (Gemini)\\n\\n\\n\\n05-Memory\\n\\nConversationBufferMemory\\nConversationBufferWindowMemory\\nConversationTokenBufferMemory\\nConversationEntityMemory\\nConversationKGMemory\\nConversationSummaryMemory\\nVectorStoreRetrieverMemory\\nLCEL (Remembering Conversation History): Adding Memory\\nMemory Using SQLite\\nConversation With History\\n\\n\\n\\n06-DocumentLoader\\n\\nDocument & Document Loader\\nPDF Loader\\nWebBaseLoader\\nCSV Loader\\nExcel File Loading in LangChain\\nMicrosoft Word(doc, docx) With Langchain\\nMicrosoft PowerPoint\\nTXT Loader\\nJSON\\nArxiv Loader\\nUpstageDocumentParseLoader\\nLlamaParse\\nHWP (Hangeul) Loader\\n\\n\\n\\n07-TextSplitter\\n\\nCharacter Text Splitter\\n02. RecursiveCharacterTextSplitter\\nText Splitting Methods in NLP\\nTokenTextSplitter\\nSemanticChunker\\nSplit code with Langchain\\nMarkdownHeaderTextSplitter\\nRecursiveJsonSplitter\\n\\n\\n\\n08-Embedding\\n\\nOpenAI Embeddings\\nCacheBackedEmbeddings\\nHuggingFace Embeddings\\nUpstage\\nOllama Embeddings With Langchain\\nLlamaCpp Embeddings With Langchain\\nGPT4ALL\\nMultimodal Embeddings With Langchain\\n\\n\\n\\n09-VectorStore\\n\\nPinecone\\nPinecone\\nVector Stores\\nChroma-Multimodal\\nChroma\\nChroma With Langchain\\nPinecone\\nQdrant\\nElasticsearch\\nMongoDB Atlas\\nNeo4j Vector Index\\nWeaviate\\n\\n\\n\\n10-Retriever\\n\\nVectorStore-backed Retriever\\nContextual Compression Retriever\\nEnsemble Retriever\\nLong Context Reorder\\nParent Document Retriever\\nMultiQueryRetriever\\nMultiVectorRetriever\\nSelf-querying\\nTimeWeightedVectorStoreRetriever\\nTimeWeightedVectorStoreRetriever\\nKiwi BM25 Retriever\\nEnsemble Retriever with Convex Combination (CC)\\n\\n\\n\\n11-Reranker\\n\\nCross Encoder Reranker\\nJinaReranker\\nFlashRank Reranker\\n\\n\\n\\n12-RAG\\n\\nUnderstanding the basic structure of RAG\\nRAG Basic WebBaseLoader\\nExploring RAG in LangChain\\nExploring RAG in LangChain\\nRAPTOR: Recursive Abstractive Processing for Tree-Organized Retrieval\\nConversation-With-History\\n\\n\\n\\n13-LangChain-Expression-Language\\n\\nRunnable-Pass-Through\\nInspect Runnables\\nRunnableLambda\\nRouting\\nRunnable Parallel\\nConfigure-Runtime-Chain-Components\\nConfigure\\nCreating Runnable objects with chain decorator\\nRunnableWithMessageHistory\\nGenerator\\nBinding\\nFallbacks\\nRunnableRetry\\nWithListeners\\nHow to stream runnables\\n\\n\\n\\n14-Chains\\n\\nSummarization\\nSQL\\nStructured Output Chain\\nStructuredDataChat\\n\\n\\n\\n15-Agent\\n\\nTools\\nBind Tools\\nTool Calling Agent\\nTool Calling Agent with More LLM Models\\nIteration-human-in-the-loop\\nAgentic RAG\\nCSV/Excel Analysis Agent\\nAgent-with-Toolkits-File-Management\\nMake Report Using RAG, Web searching, Image generation Agent\\nTwoAgentDebateWithTools\\nReact Agent\\n\\n\\n\\n16-Evaluations\\n\\nEvaluation using RAGAS\\nHF-Upload\\nLangSmith-Dataset\\nLLM-as-Judge\\nEmbedding-based Evaluator(embedding_distance)\\nLangSmith Custom LLM Evaluation\\nHeuristic Evaluation\\nCompare experiment evaluations\\nSummary Evaluators\\nGroundedness Evaluation\\nPairwise Evaluation\\nLangSmith Repeat Evaluation\\nLangSmith Online Evaluation\\n\\n\\n\\n17-LangGraph\\n\\n\\n01-Core-Features\\n\\nUnderstanding Common Python Syntax Used in LangGraph\\nBuilding a Basic Chatbot with LangGraph\\nBuilding an Agent with LangGraph\\nAgent with Memory\\nHuman-in-the-loop\\nAsking Humans for Help: Customizing State in LangGraph\\nDeleteMessages\\nLangGraph ToolNode\\nBranch Creation for Parallel Node Execution\\nConversation Summaries with LangGraph\\nLangGrpah Subgraph\\nHow to transform the input and output of a subgraph\\nLangGraph Streaming Mode\\nErrors\\n\\n\\n\\n02-Structures\\n\\nLangGraph-Building-Graphs\\nNaive RAG\\nAdd Groundedness Check\\nLangGraph-Add-Query-Rewrite\\nAgentic RAG\\n\\n\\n\\n03-Use-Cases\\n\\nLangGraph Agent Simulation\\nMeta Prompt Generator based on User Requirements\\nCRAG: Corrective RAG\\nPlan-and-Execute\\nMulti Agent Collaboration Network\\nMulti-Agent Supervisor\\n08-Hierarchical-Multi-Agent-Teams\\n10-LangGraph-Research-Assistant\\n\\n\\n\\n\\n\\n19-Cookbook\\n\\n\\n01-SQL\\n\\nTextToSQL\\nSpeechToSQL\\n\\n\\n\\n02-RecommendationSystem\\n\\nResumeRecommendationReview\\n\\n\\n\\n03-GraphDB\\n\\nMovie QA System with Graph Database\\n05-TitanicQASystem\\nReal-Time GraphRAG QA\\n\\n\\n\\n04-GraphRAG\\n\\nAcademic Search System\\nAcademic QA System with GraphRAG\\n\\n\\n\\n05-AIMemoryManagementSystem\\n\\nConversationMemoryManagementSystem\\n\\n\\n\\n06-Multimodal\\n\\nMultimodal RAG\\n\\n\\n\\n\\n\\nPowered by GitBook\\nOn this page\\n\\nOverview\\nTable of Contents\\nReferences\\nEnvironment Setup\\nFunction Setup\\nGraph Setup\\n\\nAdding Human Feedback\\n\\n\\n17-LangGraph\\n\\n01-Core-Features\\n\\nHuman-in-the-loop\\n\\n\\nAuthor: Jaemin Hong\\n\\n\\nPeer Review:\\n\\n\\nThis is a part of LangChain Open Tutorial\\n\\n\\n \\n\\nOverview\\n\\nThis tutorial covers Human in the loop .\\nAgents are not always reliable, and human intervention may be required to ensure tasks are executed successfully.\\nIn some cases, you might want human approval before proceeding to confirm that everything is functioning as intended. LangGraph supports these Human-in-the-loop workflows.\\nIn this tutorial, you'll learn how to use LangGraph's interrupt_before feature to pause execution, enabling human oversight and control.\\n\\n\\nTable of Contents\\n\\n\\nOverview\\n\\n\\nEnvironment Setup\\n\\n\\nFunction Setup\\n\\n\\nGraph Setup\\n\\n\\nAdding Human Feedback\\n\\n\\n\\n\\nReferences\\n\\n\\nTutorials > Quick Start > Human-in-the-loop\\n\\n\\nConcepts > LangGraph > Human-in-the-loop\\n\\n\\n\\n\\nEnvironment Setup\\n\\nSet up the environment. You may refer to Environment Setup for more details.\\n[Note]\\n\\n\\nlangchain-opentutorial is a package that provides a set of easy-to-use environment setup, useful functions and utilities for tutorials.\\n\\n\\nYou can checkout the langchain-opentutorial for more details.\\n\\n\\nCopy\\n%%capture --no-stderr\\n%pip install langchain-opentutorial\\nCopy\\n```\\nInstall required packages\\nfrom langchain_opentutorial import package\\npackage.install(\\n    [\\n        \\\"langsmith\\\",\\n        \\\"langgraph\\\",\\n        \\\"langchain_core\\\",\\n        \\\"langchain_openai\\\",\\n    ],\\n    verbose=False,\\n    upgrade=False,\\n)\\n```\\nCopy\\n```\\nSet environment variables\\nfrom langchain_opentutorial import set_env\\nset_env(\\n    {\\n        \\\"OPENAI_API_KEY\\\": \\\"\\\",\\n        \\\"LANGCHAIN_API_KEY\\\": \\\"\\\",\\n        \\\"LANGCHAIN_TRACING_V2\\\": \\\"true\\\",\\n        \\\"LANGCHAIN_ENDPOINT\\\": \\\"https://api.smith.langchain.com\\\",\\n        \\\"LANGCHAIN_PROJECT\\\": \\\"06-LangGraph-Human-in-the-loop\\\",\\n    }\\n)\\n```\\nCopy\\nEnvironment variables have been set successfully.\\nYou can alternatively set API keys such as OPENAI_API_KEY in a .env file and load them.\\n[Note] This is not necessary if you've already set the required API keys in previous steps.\\nCopy\\n```\\nLoad API keys from .env file\\nfrom dotenv import load_dotenv\\nload_dotenv(override=True)\\n```\\nCopy\\nTrue\\n\\nFunction Setup\\n\\nConvenient functions for smooth execution.\\nCopy\\n```\\nimport feedparser\\nfrom urllib.parse import quote\\nfrom typing import List, Dict, Optional\\nclass GoogleNews:\\n    \\\"\\\"\\\"\\n    A class to search Google News.\\n    \\\"\\\"\\\"\\ndef __init__(self):\\n    \\\"\\\"\\\"\\n    Initializes the base URL.\\n    \\\"\\\"\\\"\\n    self.base_url = \\\"https://news.google.com/rss\\\"\\n\\ndef _fetch_news(self, url: str, k: int = 3) -> List[Dict[str, str]]:\\n    \\\"\\\"\\\"\\n    Fetches news from the given URL.\\n    \\\"\\\"\\\"\\n    news_data = feedparser.parse(url)\\n    return [\\n        {\\\"title\\\": entry.title, \\\"link\\\": entry.link}\\n        for entry in news_data.entries[:k]\\n    ]\\n\\ndef _collect_news(self, news_list: List[Dict[str, str]]) -> List[Dict[str, str]]:\\n    \\\"\\\"\\\"\\n    Organizes and returns the news list.\\n    \\\"\\\"\\\"\\n    if not news_list:\\n        print(\\\"No news found for the given keyword.\\\")\\n        return []\\n\\n    result = []\\n    for news in news_list:\\n        result.append({\\\"url\\\": news[\\\"link\\\"], \\\"content\\\": news[\\\"title\\\"]})\\n\\n    return result\\n\\ndef search_latest(self, k: int = 3) -> List[Dict[str, str]]:\\n    \\\"\\\"\\\"\\n    Searches for the latest news.\\n    \\\"\\\"\\\"\\n    url = f\\\"{self.base_url}?hl=en&gl=US&ceid=US:en\\\"\\n    news_list = self._fetch_news(url, k)\\n    return self._collect_news(news_list)\\n\\ndef search_by_keyword(\\n    self, keyword: Optional[str] = None, k: int = 3\\n) -> List[Dict[str, str]]:\\n    \\\"\\\"\\\"\\n    Searches for news by keyword.\\n    \\\"\\\"\\\"\\n    if keyword:\\n        encoded_keyword = quote(keyword)\\n        url = f\\\"{self.base_url}/search?q={encoded_keyword}&hl=en&gl=US&ceid=US:en\\\"\\n    else:\\n        url = f\\\"{self.base_url}?hl=en&gl=US&ceid=US:en\\\"\\n    news_list = self._fetch_news(url, k)\\n    return self._collect_news(news_list)\\n\\n```\\nCopy\\n```\\nfrom langchain_core.messages import BaseMessage\\ndef pretty_print_messages(messages: list[BaseMessage]):\\n    for message in messages:\\n        message.pretty_print()\\n```\\n\\nGraph Setup\\n\\nThis setup initializes a graph-based workflow for a chatbot, defining the state, tools, and nodes while establishing edges and a memory saver for persistent interactions.\\nCopy\\n```\\nfrom typing import Annotated\\nfrom typing_extensions import TypedDict\\nfrom langchain_openai import ChatOpenAI\\nfrom langchain_core.tools import tool\\nfrom langgraph.checkpoint.memory import MemorySaver\\nfrom langgraph.graph import StateGraph, START, END\\nfrom langgraph.graph.message import add_messages\\nfrom langgraph.prebuilt import ToolNode, tools_condition\\nDefine the State\\nclass State(TypedDict):\\n    messages: Annotated[list, add_messages]\\ngraph_builder = StateGraph(State)\\nDefine the tool and binding\\n@tool\\ndef search_keyword(query: str) -> List[Dict[str, str]]:\\n    \\\"\\\"\\\"\\n    Look up news by keyword.\\n    \\\"\\\"\\\"\\n    news_tool = GoogleNews()\\n    return news_tool.search_by_keyword(query, k=5)\\ntools = [search_keyword]\\nllm = ChatOpenAI(model=\\\"gpt-4o-mini\\\")\\nllm_with_tools = llm.bind_tools(tools)\\nAdd Nodes\\ndef chatbot(state: State):\\n    \\\"\\\"\\\"\\n    Invoke the message and return the result.\\n    \\\"\\\"\\\"\\n    return {\\\"messages\\\": [llm_with_tools.invoke(state[\\\"messages\\\"])]}\\nchatbot node\\ngraph_builder.add_node(\\\"chatbot\\\", chatbot)\\ntool node\\ntool_node = ToolNode(tools=tools)\\ngraph_builder.add_node(\\\"tools\\\", tool_node)\\nconditional edge\\ngraph_builder.add_conditional_edges(\\\"chatbot\\\", tools_condition)\\nAdd Edges\\ntools -> chatbot\\ngraph_builder.add_edge(\\\"tools\\\", \\\"chatbot\\\")\\nSTART -> chatbot\\ngraph_builder.add_edge(START, \\\"chatbot\\\")\\nchatbot -> END\\ngraph_builder.add_edge(\\\"chatbot\\\", END)\\nAdd the MemorySaver\\nmemory = MemorySaver()\\n```\\nWe compile the graph with a checkpointer.\\nCopy\\n```\\nAdd the interrupt_before\\ngraph = graph_builder.compile(checkpointer=memory)\\n```\\nLet's visualize the graph!\\nCopy\\n```\\nGraph Visualization\\nfrom IPython.display import Image, display\\ntry:\\n    display(Image(graph.get_graph().draw_mermaid_png()))\\nexcept Exception:\\n    pass\\n```\\n\\npng\\n\\nAdding Human Feedback\\n\\nLet's now perform Human-in-the-loop !\\nCopy\\n```\\nfrom langchain_core.runnables import RunnableConfig\\nUser input\\nquestion = \\\"Please provide the latest news related to AI.\\\"\\nDefine the initial input State\\ninput = State(messages=[(\\\"user\\\", question)])\\nConfig settings\\nconfig = RunnableConfig(\\n    # Visit up to 10 nodes; beyond this, a RecursionError will occur\\n    recursion_limit=10,\\n    # Set thread id\\n    configurable={\\\"thread_id\\\": \\\"1\\\"},\\n    # Set tags\\n    tags=[\\\"06-LangGraph-Human-in-the-loop\\\"],\\n)\\nProcess events in a loop\\nfor event in graph.stream(\\n    input=input,\\n    config=config,\\n    stream_mode=\\\"values\\\",\\n    # Interrupt before executing the tools (stop before the tools node execution)\\n    interrupt_before=[\\\"tools\\\"],\\n):\\n    for key, val in event.items():\\n        # key is the node's name\\n        # print(f\\\"\\\\n[{key}]\\\\n\\\")\\n    # val(value) is the node's output\\n    pretty_print_messages(val)\\n\\n    # State is stored in dict format within val(value)\\n    if \\\"messages\\\" in val:\\n        print(f\\\"Number of messages: {len(val['messages'])}\\\")\\n\\n```\\nCopy\\n```\\n================================ Human Message =================================\\nPlease provide the latest news related to AI.\\n================================ Human Message =================================\\n\\nPlease provide the latest news related to AI.\\n================================== Ai Message ==================================\\nTool Calls:\\n  search_keyword (call_JFu8CvoZ7QlIzVnKky1rMgCn)\\n Call ID: call_JFu8CvoZ7QlIzVnKky1rMgCn\\n  Args:\\n    query: AI\\n\\n```\\nThe chatbot invoked the tool, but its execution was interrupted.\\nLet's check the graph state!\\nCopy\\n```\\nsnapshot of the graph state\\nsnapshot = graph.get_state(config)\\nsnapshot.next\\n```\\nCopy\\n('tools',)\\nThe reason for the interruption is that we set tools in interrupt_before while streaming the graph, causing the process to stop before executing the tools node. As a result, the next node ( .next ) becomes tools .\\nAdditionally, in the previous tutorial , .next was empty because the process had reached the final END node. However, with the interrupt set, .next is now set to tools .\\nNow, let's check the last message in the snapshot!\\nCopy\\nexisting_message = snapshot.values[\\\"messages\\\"][-1]\\nexisting_message.tool_calls\\nCopy\\n[{'name': 'search_keyword',\\n      'args': {'query': 'AI'},\\n      'id': 'call_JFu8CvoZ7QlIzVnKky1rMgCn',\\n      'type': 'tool_call'}]\\nNext, let's resume the graph from the point where it was interrupted.\\nLangGraph makes it easy to resume graph execution.\\nSimply pass None as the input .\\nCopy\\n```\\nevents = graph.stream(\\n    input=None,  # Do not add anything to the current State\\n    config=config,\\n    stream_mode=\\\"values\\\",\\n)\\nProcess events in a loop\\nfor event in events:\\n    if \\\"messages\\\" in event:\\n        # Print the last message\\n        event[\\\"messages\\\"][-1].pretty_print()\\n```\\nCopy\\n```\\n================================== Ai Message ==================================\\n    Tool Calls:\\n      search_keyword (call_JFu8CvoZ7QlIzVnKky1rMgCn)\\n     Call ID: call_JFu8CvoZ7QlIzVnKky1rMgCn\\n      Args:\\n        query: AI\\n    ================================= Tool Message =================================\\n    Name: search_keyword\\n[{\\\"url\\\": \\\"https://news.google.com/rss/articles/CBMikwFBVV95cUxNcllEYjZmTkNzUGpjenpxZ3N6ZlFOcFAxS2szNm80MWM4dVRSU3YzcGlzU0xrZkI3MEpBR3N2U19lSmdmVnR5R0dhT0U4S1RHR1JWZDlvTXd1MnU1TlNyZlRuYXVpS0cxY1pjckNaQU1URE9IV2kzZm96d2dYRWVUczBrYV9HUklmVDJNOElaTEVNMUHSAYoBQVVfeXFMTkttd0EzSUNJUnR5ak5UYWNfZWhpVHlrZFMxQ095TTVOb2JTX2RLSTZQV2dDNktvbTktR1B4bDBtRlpxUlJhck9mTGgzVDBzMXpTaXR6aEZ2VndnRElvaFNNcGE4VmtwTjdVcXVjYkU2SnlaUGZDSXRRUjZxb3RJSHFFcTZCVWpiaWJB?oc=5\\\", \\\"content\\\": \\\"Trump announces a $500 billion AI infrastructure investment in the US - CNN\\\"}, {\\\"url\\\": \\\"https://news.google.com/rss/articles/CBMinAFBVV95cUxOUFlLYjE5VkkyR0F4Vl9JYVVtSDl0Vk5hcHVLZ2h2bUgweE00NFplTFhDLWFBNDNpRlN0OXJiQ1JjSFNadmU2Z1BDaVpPMlYtTnBpS2VnQmR5dE9GZFB1c3hQR0NoNUo3ekpFTmFIWjI4TjdjV1ZrbDJ5LURaZ2s1UDhZSkd4cndaQ2pRRENscjNJc2JXZGZyazRmdDU?oc=5\\\", \\\"content\\\": \\\"Trump Announces $100 Billion A.I. Initiative - The New York Times\\\"}, {\\\"url\\\": \\\"https://news.google.com/rss/articles/CBMi1gFBVV95cUxNMXRqZnRNMTk2aGZUdlAydjY3aHktaHhDNkxqZi03MmtqUkp1OXg5YVY5WjdZZ2J0Zk5oY2ZWVW9ZR2tmdElleUhIdnppOHNDdXhYYnJ0RHFHaGJZbnNYTWJOaDJ6c3N0eWpyUTZCUV96NVFEYWlKQVdyZmpfdHFRWGpzNDVuME1XZDE3UnNrX3U1eEVaT0g4YnJFVHNsbFdQSVhpMmFWQmtCT1hib3c4ZHZsa0pxNGNGUTJJZVRSb2tXU3NwdzlCcl93ZnVuUXo3SGhTZ1ZB0gHbAUFVX3lxTFBXUDRJSEh3ZlhVV0xzSzExUFFvTkRlMG1XTmpUeUhHV1lJUUE4ME5tNFR0YXNKd05pc2pSSVZOTm1VbDhMMUxQbnBHbm5QRkRnb0lzWnM2Znk4cFVBendfcVlOdThtNnMyRHpHaXJYUXdxOVBSQXE0OV9QNjN1M2E4QVRaWS1JX2pVcV9qSndMQzFiYXpWVEE1d2s2RFJGZXF4RzFZd192Z2NpQWpfYTlPbENTenBRZm9ZWDV0NUZyYjJQS1d3SFNQQzlNTU1DdjJIUG5ac2RHazgxUQ?oc=5\\\", \\\"content\\\": \\\"Davos 2025: Trade, tariffs, AI and UN chief Guterres dominate World Economic Forum agenda - The Hill\\\"}, {\\\"url\\\": \\\"https://news.google.com/rss/articles/CBMilwFBVV95cUxPdXhCRVNEVzZYRGMxdVlwQkc4SXBmUmVUY0drTHQ5ZDk5dUdtdHhkSUJtRWowMG9kZkkzWVBFN2ZoWUFLeEdCUW00aDFmQkNWU0dYR0p4N0RoekxqQ0w3M1pQVU4wNC0yU1JRV3dGeW1hdW5oUEJiVTNKZ2Z5Y3ZSenFldjNpQmVTYjNSSW9tYi14LWx6enZV?oc=5\\\", \\\"content\\\": \\\"Google rushed to sell AI tools to Israel’s military after Hamas attack - The Washington Post\\\"}, {\\\"url\\\": \\\"https://news.google.com/rss/articles/CBMiswFBVV95cUxQdG9FV2tjQjZGeVdlQzFkOGZNdkd4bDYzVm1BZnVDT1B1bEc0UUpSWlVYbjdHcnl0bnpJOThhc3NlbGZBZ2tSSGh4RzJtdVVFNmVuLVYtOElxQjRLdnd3R0hoTjdmQmcyd1U4VHFsNWhGY0tTVmJhUkExaWJTQ2ZpVVpXQzd6VGw1TV9MVWxxalMxLWRkWnAwdjV4WG4xMVFTNmR5Nng4WFVxMGZiYkxiU3VVaw?oc=5\\\", \\\"content\\\": \\\"Trump Pushes to Make US an AI Superpower, With Fewer Guardrails - Bloomberg\\\"}]\\n================================== Ai Message ==================================\\n\\nHere are the latest news articles related to AI:\\n\\n1. **Trump announces a $500 billion AI infrastructure investment in the US** - [CNN](https://news.google.com/rss/articles/CBMikwFBVV95cUxNcllEYjZmTkNzUGpjenpxZ3N6ZlFOcFAxS2szNm80MWM4dVRSU3YzcGlzU0xrZkI3MEpBR3N2U19lSmdmVnR5R0dhT0U4S1RHR1JWZDlvTXd1MnU1TlNyZlRuYXVpS0cxY1pjckNaQU1URE9IV2kzZm96d2dYRWVUczBrYV9HUklmVDJNOElaTEVNMUHSAYoBQVVfeXFMTkttd0EzSUNJUnR5ak5UYWNfZWhpVHlrZFMxQ095TTVOb2JTX2RLSTZQV2dDNktvbTktR1B4bDBtRlpxUlJhck9mTGgzVDBzMXpTaXR6aEZ2VndnRElvaFNNcGE4VmtwTjdVcXVjYkU2SnlaUGZDSXRRUjZxb3RJSHFFcTZCVWpiaWJB?oc=5)\\n\\n2. **Trump Announces $100 Billion A.I. Initiative** - [The New York Times](https://news.google.com/rss/articles/CBMinAFBVV95cUxOUFlLYjE5VkkyR0F4Vl9JYVVtSDl0Vk5hcHVLZ2h2bUgweE00NFplTFhDLWFBNDNpRlN0OXJiQ1JjSFNadmU2Z1BDaVpPMlYtTnBpS2VnQmR5dE9GZFB1c3hQR0NoNUo3ekpFTmFIWjI4TjdjV1ZrbDJ5LURaZ2s1UDhZSkd4cwdaQ2pRRENscjNJc2JXZGZyazRmdDU?oc=5)\\n\\n3. **Davos 2025: Trade, tariffs, AI and UN chief Guterres dominate World Economic Forum agenda** - [The Hill](https://news.google.com/rss/articles/CBMi1gFBVV95cUxNMXRqZnRNMTk2aGZUdlAydjY3aHktaHhDNkxqZi03MmtqUkp1OXg5YVY5WjdZZ2J0Zk5oY2ZWVW9ZR2tmdElleUhIdnppOHNDdXhYYnJ0RHFHaGJZbnNYTWJOaDJ6c3N0eWpyUTZCUV96NVFEYWlKQVdyZmpfdHFRWGpzNDVuME1XZDE3UnNrX3U1eEVaT0g4YnJFVHNsbFdQSVhpMmFWQmtCT1hib3c4ZHZsa0pxNGNGUTJJZVRSb2tXU3NwdzlCcl93ZnVuUXo3SGhTZ1ZB0gHbAUFVX3lxTFBXUDRJSEh3ZlhVV0xzSzExUFFvTkRlMG1XTmpUeUhHV1lJUUE4ME5tNFR0YXNKd05pc2pSSVZOTm1VbDhMMUxQbnBHbm5QRkRnb0lzWnM2Znk4cFVBendfcVlOdThtNnMyRHpHaXJYUXdxOVBSQXE0OV9QNjN1M2E4QVRaWS1JX2pVcV9qSndMQzFiYXpWVEE1d2s2RFJGZXF4RzFZd192Z2NpQWpfYTlPbENTenBRZm9ZWDV0NUZyYjJQS1d3SFNQQzlNTU1DdjJIUG5ac2RHazgxUQ?oc=5)\\n\\n4. **Google rushed to sell AI tools to Israel’s military after Hamas attack** - [The Washington Post](https://news.google.com/rss/articles/CBMilwFBVV95cUxPdXhCRVNEVzZYRGMxdVlwQkc4SXBmUmVUY0drTHQ5ZDk5dUdtdHhkSUJtRWowMG9kZkkzWVBFN2ZoWUFLeEdCUW00aDFmQkNWU0dYR0p4N0RoekxqQ0w3M1pQVU4wNC0yU1JRV3dGeW1hdW5oUEJiVTNKZ2Z5Y3ZSenFldjNpQmVTYjNSSW9tYi14LWx6enZV?oc=5)\\n\\n5. **Trump Pushes to Make US an AI Superpower, With Fewer Guardrails** - [Bloomberg](https://news.google.com/rss/articles/CBMiswFBVV95cUxQdG9FV2tjQjZGeVdlQzFkOGZNdkd4bDYzVm1BZnVDT1B1bEc0UUpSWlVYbjdHcnl0bnpJOThhc3NlbGZBZ2tSSGh4RzJtdVVFNmVuLVYtOElxQjRLdnd3R0hoTjdmQmcyd1U4VHFsNWhGY0tTVmJhUkExaWJTQ2ZpVVpXQzd6VGw1TV9MVWxxalMxLWRkWnAwdjV4WG4xMVFTNmR5Nng4WFVxMGZiYkxiU3VVaw?oc=5)\\n\\nFeel free to check the articles for more detailed information!\\n\\n```\\nWe used interrupt to enable human intervention in the chatbot's execution.\\nAdditionally, with the inclusion of a checkpointer , the graph can resume execution even after being indefinitely paused.\\nBelow is how you can use get_state_history to retrieve the state history.\\nBy specifying the desired state from the history, you can restart execution from that point.\\nCopy\\n```\\nto_replay = None\\nRetrieve state history\\nfor state in graph.get_state_history(config):\\n    print(\\n        \\\"Number of messages:\\\", len(state.values[\\\"messages\\\"]), \\\"\\\\nNext node:\\\", state.next\\n    )\\n    print(\\\"-\\\" * 80)\\n    if len(state.values[\\\"messages\\\"]) == 3:\\n        to_replay = state\\n```\\nCopy\\nNumber of messages: 4 \\n    Next node: ()\\n    --------------------------------------------------------------------------------\\n    Number of messages: 3 \\n    Next node: ('chatbot',)\\n    --------------------------------------------------------------------------------\\n    Number of messages: 2 \\n    Next node: ('tools',)\\n    --------------------------------------------------------------------------------\\n    Number of messages: 1 \\n    Next node: ('chatbot',)\\n    --------------------------------------------------------------------------------\\n    Number of messages: 0 \\n    Next node: ('__start__',)\\n    --------------------------------------------------------------------------------\\nIt is important to note that the checkpointer saves data at every step of the graph!\\nThe desired point is stored in to_replay . This allows you to specify the starting point for resuming execution.\\nThe checkpoint_id is stored in to_replay.config .\\nCopy\\ndisplay(to_replay.next)\\ndisplay(to_replay.config)\\nCopy\\n('chatbot',)\\nCopy\\n{'configurable': {'thread_id': '1',\\n  'checkpoint_ns': '',\\n  'checkpoint_id': '1efd8a06-ace9-6516-8002-8731d8cb463e'}}\\nUsing this checkpoint_id , LangGraph's checkpointer can load the state at that specific point.\\nNote that the input must be set to None in this case.\\nCopy\\nfor event in graph.stream(input=None, config=to_replay.config, stream_mode=\\\"values\\\"):\\n    if \\\"messages\\\" in event:\\n        # Print the last message\\n        event[\\\"messages\\\"][-1].pretty_print()\\nCopy\\n```\\n================================= Tool Message =================================\\n    Name: search_keyword\\n[{\\\"url\\\": \\\"https://news.google.com/rss/articles/CBMikwFBVV95cUxNcllEYjZmTkNzUGpjenpxZ3N6ZlFOcFAxS2szNm80MWM4dVRSU3YzcGlzU0xrZkI3MEpBR3N2U19lSmdmVnR5R0dhT0U4S1RHR1JWZDlvTXd1MnU1TlNyZlRuYXVpS0cxY1pjckNaQU1URE9IV2kzZm96d2dYRWVUczBrYV9HUklmVDJNOElaTEVNMUHSAYoBQVVfeXFMTkttd0EzSUNJUnR5ak5UYWNfZWhpVHlrZFMxQ095TTVOb2JTX2RLSTZQV2dDNktvbTktR1B4bDBtRlpxUlJhck9mTGgzVDBzMXpTaXR6aEZ2VndnRElvaFNNcGE4VmtwTjdVcXVjYkU2SnlaUGZDSXRRUjZxb3RJSHFFcTZCVWpiaWJB?oc=5\\\", \\\"content\\\": \\\"Trump announces a $500 billion AI infrastructure investment in the US - CNN\\\"}, {\\\"url\\\": \\\"https://news.google.com/rss/articles/CBMinAFBVV95cUxOUFlLYjE5VkkyR0F4Vl9JYVVtSDl0Vk5hcHVLZ2h2bUgweE00NFplTFhDLWFBNDNpRlN0OXJiQ1JjSFNadmU2Z1BDaVpPMlYtTnBpS2VnQmR5dE9GZFB1c3hQR0NoNUo3ekpFTmFIWjI4TjdjV1ZrbDJ5LURaZ2s1UDhZSkd4cndaQ2pRRENscjNJc2JXZGZyazRmdDU?oc=5\\\", \\\"content\\\": \\\"Trump Announces $100 Billion A.I. Initiative - The New York Times\\\"}, {\\\"url\\\": \\\"https://news.google.com/rss/articles/CBMi1gFBVV95cUxNMXRqZnRNMTk2aGZUdlAydjY3aHktaHhDNkxqZi03MmtqUkp1OXg5YVY5WjdZZ2J0Zk5oY2ZWVW9ZR2tmdElleUhIdnppOHNDdXhYYnJ0RHFHaGJZbnNYTWJOaDJ6c3N0eWpyUTZCUV96NVFEYWlKQVdyZmpfdHFRWGpzNDVuME1XZDE3UnNrX3U1eEVaT0g4YnJFVHNsbFdQSVhpMmFWQmtCT1hib3c4ZHZsa0pxNGNGUTJJZVRSb2tXU3NwdzlCcl93ZnVuUXo3SGhTZ1ZB0gHbAUFVX3lxTFBXUDRJSEh3ZlhVV0xzSzExUFFvTkRlMG1XTmpUeUhHV1lJUUE4ME5tNFR0YXNKd05pc2pSSVZOTm1VbDhMMUxQbnBHbm5QRkRnb0lzWnM2Znk4cFVBendfcVlOdThtNnMyRHpHaXJYUXdxOVBSQXE0OV9QNjN1M2E4QVRaWS1JX2pVcV9qSndMQzFiYXpWVEE1d2s2RFJGZXF4RzFZd192Z2NpQWpfYTlPbENTenBRZm9ZWDV0NUZyYjJQS1d3SFNQQzlNTU1DdjJIUG5ac2RHazgxUQ?oc=5\\\", \\\"content\\\": \\\"Davos 2025: Trade, tariffs, AI and UN chief Guterres dominate World Economic Forum agenda - The Hill\\\"}, {\\\"url\\\": \\\"https://news.google.com/rss/articles/CBMilwFBVV95cUxPdXhCRVNEVzZYRGMxdVlwQkc4SXBmUmVUY0drTHQ5ZDk5dUdtdHhkSUJtRWowMG9kZkkzWVBFN2ZoWUFLeEdCUW00aDFmQkNWU0dYR0p4N0RoekxqQ0w3M1pQVU4wNC0yU1JRV3dGeW1hdW5oUEJiVTNKZ2Z5Y3ZSenFldjNpQmVTYjNSSW9tYi14LWx6enZV?oc=5\\\", \\\"content\\\": \\\"Google rushed to sell AI tools to Israel’s military after Hamas attack - The Washington Post\\\"}, {\\\"url\\\": \\\"https://news.google.com/rss/articles/CBMiswFBVV95cUxQdG9FV2tjQjZGeVdlQzFkOGZNdkd4bDYzVm1BZnVDT1B1bEc0UUpSWlVYbjdHcnl0bnpJOThhc3NlbGZBZ2tSSGh4RzJtdVVFNmVuLVYtOElxQjRLdnd3R0hoTjdmQmcyd1U4VHFsNWhGY0tTVmJhUkExaWJTQ2ZpVVpXQzd6VGw1TV9MVWxxalMxLWRkWnAwdjV4WG4xMVFTNmR5Nng4WFVxMGZiYkxiU3VVaw?oc=5\\\", \\\"content\\\": \\\"Trump Pushes to Make US an AI Superpower, With Fewer Guardrails - Bloomberg\\\"}]\\n================================== Ai Message ==================================\\n\\nHere are the latest news articles related to AI:\\n\\n1. **Trump announces a $500 billion AI infrastructure investment in the US** - [CNN](https://news.google.com/rss/articles/CBMikwFBVV95cUxNcllEYjZmTkNzUGpjenpxZ3N6ZlFOcFAxS2szNm80MWM4dVRSU3YzcGlzU0xrZkI3MEpBR3N2U19lSmdmVnR5R0dhT0U4S1RHR1JWZDlvTXd1MnU1TlNyZlRuYXVpS0cxY1pjckNaQU1URE9IV2kzZm96d2dYRWVUczBrYV9HUklmVDJNOElaTEVNMUHSAYoBQVVfeXFMTkttd0EzSUNJUnR5ak5UYWNfZWhpVHlrZFMxQ095TTVOb2JTX2RLSTZQV2dDNktvbTktR1B4bDBtRlpxUlJhck9mTGgzVDBzMXpTaXR6aEZ2VndnRElvaFNNcGE4VmtwTjdVcXVjYkU2SnlaUGZDSXRRUjZxb3RJSHFFcTZCVWpiaWJB?oc=5)\\n\\n2. **Trump Announces $100 Billion A.I. Initiative** - [The New York Times](https://news.google.com/rss/articles/CBMinAFBVV95cUxOUFlLYjE5VkkyR0F4Vl9JYVVtSDl0Vk5hcHVLZ2h2bUgweE00NFplTFhDLWFBNDNpRlN0OXJiQ1JjSFNadmU2Z1BDaVpPMlYtTnBpS2VnQmR5dE9GZFB1c3hQR0NoNUo3ekpFTmFIWjI4TjdjV1ZrbDJ5LURaZ2s1UDhZSkd4cndaQ2pRRENscjNJc2JXZGZyazRmdDU?oc=5)\\n\\n3. **Davos 2025: Trade, tariffs, AI and UN chief Guterres dominate World Economic Forum agenda** - [The Hill](https://news.google.com/rss/articles/CBMi1gFBVV95cUxNMXRqZnRNMTk2aGZUdlAydjY3aHktaHhDNkxqZi03MmtqUkp1OXg5YVY5WjdZZ2J0Zk5oY2ZWVW9ZR2tmdElleUhIdnppOHNDdXhYYnJ0RHFHaGJZbnNYTWJOaDJ6c3N0eWpyUTZCUV96NVFEYWlKQVdyZmpfdHFRWGpzNDVuME1XZDE3UnNrX3U1eEVaT0g4YnJFVHNsbFdQSVhpMmFWQmtCT1hib3c4ZHZsa0pxNGNGUTJJZVRSb2tXU3NwdzlCcl93ZnVuUXo3SGhTZ1ZB0gHbAUFVX3lxTFBXUDRJSEh3ZlhVV0xzSzExUFFvTkRlMG1XTmpUeUhHV1lJUUE4ME5tNFR0YXNKd05pc2pSSVZOTm1VbDhMMUxQbnBHbm5QRkRnb0lzWnM2Znk4cFVBendfcVlOdThtNnMyRHpHaXJYUXdxOVBSQXE0OV9QNjN1M2E4QVRaWS1JX2pVcV9qSndMQzFiYXpWVEE1d2s2RFJGZXF4RzFZd192Z2NpQWpfYTlPbENTenBRZm9ZWDV0NUZyYjJQS1d3SFNQQzlNTU1DdjJIUG5ac2RHazgxUQ?oc=5)\\n\\n4. **Google rushed to sell AI tools to Israel’s military after Hamas attack** - [The Washington Post](https://news.google.com/rss/articles/CBMilwFBVV95cUxPdXhCRVNEVzZYRGMxdVlwQkc4SXBmUmVUY0drTHQ5ZDk5dUdtdHhkSUJtRWowMG9kZkkzWVBFN2ZoWUFLeEdCUW00aDFmQkNWU0dYR0p4N0RoekxqQ0w3M1pQVU4wNC0yU1JRV3dGeW1hdW5oUEJiVTNKZ2Z5Y3ZSenFldjNpQmVTYjNSSW9tYi14LWx6enZV?oc=5)\\n\\n5. **Trump Pushes to Make US an AI Superpower, With Fewer Guardrails** - [Bloomberg](https://news.google.com/rss/articles/CBMiswFBVV95cUxQdG9FV2tjQjZGeVdlQzFkOGZNdkd4bDYzVm1BZnVDT1B1bEc0UUpSWlVYbjdHcnl0bnpJOThhc3NlbGZBZ2tSSGh4RzJtdVVFNmVuLVYtOElxQjRLdnd3R0hoTjdmQmcyd1U4VHFsNWhGY0tTVmJhUkExaWJTQ2ZpVVpXQzd6VGw1TV9MVWxxalMxLWRkWnAwdjV4WG4xMVFTNmR5Nng4WFVxMGZiYkxiU3VVaw?oc=5)\\n\\nFeel free to check the articles for more detailed information!\\n\\n```\\nPreviousAgent with MemoryNextAsking Humans for Help: Customizing State in LangGraph\\nLast updated 11 days ago\\n\"}, {\"title\": \"Building a Basic Chatbot with LangGraph | LangChain OpenTutorial\", \"url\": \"https://langchain-opentutorial.gitbook.io/langchain-opentutorial/17-langgraph/01-core-features/02-langgraph-chatbot\", \"content\": \"LangGraph\\n\\nEnvironment Setup\\n\\nSetting up your environment is the first step. See the Environment Setup guide for more details.\\n\\n[Note]\\n\\nThe langchain-opentutorial is a package of easy-to-use environment setup guidance, useful functions and utilities for tutorials. Check out the langchain-opentutorial for more details.\\n\\nYou can set API keys in a .env file or set them manually. [...] In this document, we explore how to build a simple chatbot using LangGraph, a framework that allows the creation of state machine-based chatbots. The process is broken down into manageable steps, covering key concepts like defining states, creating nodes, adding edges, compiling the graph, visualizing the chatbot structure, and finally executing the chatbot.\\n\\nTable of Contents\\n\\nOverview\\n\\nEnvironment Setup\\n\\nStep-by-Step: Understanding the Concepts\\n\\nComplete Code\\n\\nReferences\\n\\nLangChain\", \"score\": 0.5931403130180181, \"raw_content\": \"Building a Basic Chatbot with LangGraph\\n\\nLast updated 1 month ago\\n\\nAuthor: r14minji\\n\\nDesign:\\n\\nPeer Review:\\n\\nThis is a part of LangChain Open Tutorial\\n\\n\\n\\nOverview\\n\\nIn this document, we explore how to build a simple chatbot using LangGraph, a framework that allows the creation of state machine-based chatbots. The process is broken down into manageable steps, covering key concepts like defining states, creating nodes, adding edges, compiling the graph, visualizing the chatbot structure, and finally executing the chatbot.\\n\\nTable of Contents\\n\\nOverview\\n\\nEnvironment Setup\\n\\nStep-by-Step: Understanding the Concepts\\n\\nComplete Code\\n\\nReferences\\n\\nLangChain\\n\\nLangGraph\\n\\nEnvironment Setup\\n\\nSetting up your environment is the first step. See the Environment Setup guide for more details.\\n\\n[Note]\\n\\nThe langchain-opentutorial is a package of easy-to-use environment setup guidance, useful functions and utilities for tutorials. Check out the langchain-opentutorial for more details.\\n\\nYou can set API keys in a .env file or set them manually.\\n\\n[Note] If you’re not using the .env file, no worries! Just enter the keys directly in the cell below, and you’re good to go.\\n\\nStep-by-Step: Understanding the Concepts\\n\\nBy following these steps, you will have a functional and clearly structured chatbot built with LangGraph!\\n\\nSTEP 1. Defining the State\\n\\nWe start by defining the state of the chatbot using Python's TypedDict . The state keeps track of messages, which are updated as the conversation progresses.\\n\\nSTEP 2. Defining the Nodes\\n\\nAdd a \\\"chatbot\\\" node.\\n\\nNodes represent individual units of work and are typically implemented as regular Python functions.\\n\\nSTEP 3. Defining the Graph and Add Nodes\\n\\nCreate a graph and include the defined nodes.\\n\\nThe \\\"chatbot\\\" node function takes the current State as input and returns a dictionary (TypedDict ) containing the updated list of messages under the key \\\"messages\\\".\\n\\nThe add_messages function in the State appends the LLM's response to the existing messages in the state.\\n\\nSTEP 4. Adding Graph Edges\\n\\nDefine the flow of the graph by adding edges:\\n\\nSTART: Specifies the entry point where the graph execution begins.\\n\\nEND: Marks the termination point of the graph's flow.\\n\\nSTEP 5. Compiling the Graph\\n\\nTo execute the graph, call the compile() method using the graph builder.\\n\\nThis generates a CompiledGraph , which can be invoked during runtime to process states.\\n\\nSTEP 6. Visualizing the Graph\\n\\nVisualizing the graph helps you understand its structure and how different nodes and edges are connected.\\n\\nSTEP 7. Running the Graph\\n\\nLet's run the chatbot with a sample question!\\n\\nComplete Code\\n\\nThis code provides the full process of creating a simple chatbot using LangGraph, including defining the state, nodes, edges, compiling the graph, visualizing it, and running it with a user query.\\n\\n\"}]\n",
      "==================================\u001b[1m Ai Message \u001b[0m==================================\n",
      "\n",
      "Based on the information provided in the LangGraph tutorial, here's an outline for building a basic chatbot:\n",
      "\n",
      "### Overview\n",
      "\n",
      "This document explains how to build a simple state machine-based chatbot using LangGraph. The process is divided into several steps that cover defining states, creating nodes, adding edges, compiling the graph, visualizing it, and executing the chatbot.\n",
      "\n",
      "### Environment Setup\n",
      "\n",
      "1. **Setting Up Your Environment**: Follow the instructions in the [Environment Setup guide](https://langchain-opentutorial.gitbook.io/langchain-opentutorial/17-langgraph/01-core-features/02-langgraph-chatbot#environment-setup) to set up your development environment.\n",
      "   - You can set API keys either in a `.env` file or manually.\n",
      "\n",
      "### Step-by-Step: Understanding the Concepts\n",
      "\n",
      "#### STEP 1. Defining the State\n",
      "- Use Python's `TypedDict` to define the state, which keeps track of messages as the conversation progresses.\n",
      "\n",
      "#### STEP 2. Defining the Nodes\n",
      "- Add a \"chatbot\" node.\n",
      "- Nodes are typically implemented as regular Python functions and represent individual units of work.\n",
      "\n",
      "#### STEP 3. Defining the Graph and Adding Nodes\n",
      "- Create a graph and include the defined nodes.\n",
      "- The `chatbot` node function takes the current state as input and returns an updated dictionary containing messages under the key \"messages\".\n",
      "- Implement the `add_messages` function to append LLM responses to the existing messages in the state.\n",
      "\n",
      "#### STEP 4. Adding Graph Edges\n",
      "- Define the flow of the graph by adding edges:\n",
      "  - **START**: Specifies where the graph execution begins.\n",
      "  - **END**: Marks the termination point of the graph's flow.\n",
      "\n",
      "#### STEP 5. Compiling the Graph\n",
      "- Call the `compile()` method using the graph builder to generate a `CompiledGraph`.\n",
      "- This compiled graph can be invoked during runtime to process states.\n",
      "\n",
      "#### STEP 6. Visualizing the Graph\n",
      "- Use visualization tools to understand the structure and connections between nodes and edges.\n",
      "\n",
      "#### STEP 7. Running the Graph\n",
      "- Execute the chatbot with a sample question!\n",
      "\n",
      "### Complete Code\n",
      "\n",
      "Here's an example of how you might implement this:\n",
      "\n",
      "```python\n",
      "from langgraph import GraphBuilder, TypedDict, CompiledGraph\n",
      "\n",
      "# Define the state using TypedDict\n",
      "class State(TypedDict):\n",
      "    messages: list[str]\n",
      "\n",
      "# Define nodes as regular Python functions\n",
      "def chatbot(state: State) -> State:\n",
      "    # Example LLM response\n",
      "    llm_response = \"Hello! How can I assist you today?\"\n",
      "    \n",
      "    # Update the state with the new message\n",
      "    state['messages'].append(llm_response)\n",
      "    return state\n",
      "\n",
      "# Create a graph and add nodes\n",
      "graph_builder = GraphBuilder()\n",
      "graph_builder.add_node(chatbot, name=\"chatbot\")\n",
      "\n",
      "# Define edges (START and END)\n",
      "graph_builder.add_edge(\"START\", \"chatbot\")\n",
      "graph_builder.add_edge(\"chatbot\", \"END\")\n",
      "\n",
      "# Compile the graph\n",
      "compiled_graph: CompiledGraph = graph_builder.compile()\n",
      "\n",
      "# Run the chatbot with a sample question\n",
      "initial_state = State(messages=[])\n",
      "final_state = compiled_graph.run(initial_state)\n",
      "\n",
      "print(final_state)\n",
      "```\n",
      "\n",
      "This code provides a complete process for creating a simple chatbot using LangGraph, including defining states, nodes, edges, compiling the graph, visualizing it, and running it with a user query.\n"
     ]
    }
   ],
   "source": [
    "# Receive events from the graph stream\n",
    "events = graph.stream(None, config, stream_mode=\"values\")\n",
    "\n",
    "# Process each event\n",
    "for event in events:\n",
    "    # If the message is included in the event\n",
    "    if \"messages\" in event:\n",
    "        event[\"messages\"][-1].pretty_print()"
   ]
  },
  {
   "cell_type": "code",
   "execution_count": 49,
   "metadata": {},
   "outputs": [
    {
     "name": "stdout",
     "output_type": "stream",
     "text": [
      "================================\u001b[1m Human Message \u001b[0m=================================\n",
      "\n",
      "Please provide a kind and detailed answer in Vietnamese about what I have learned so far! Be sure to include the sources!\n",
      "==================================\u001b[1m Ai Message \u001b[0m==================================\n",
      "\n",
      "Dựa trên thông tin bạn đã cung cấp, tôi sẽ viết một câu trả lời chi tiết và thân thiện bằng tiếng Việt về những gì bạn đã học được. Tôi cũng sẽ đề cập đến các nguồn tham khảo.\n",
      "\n",
      "### Những Gì Bạn Đã Học Được\n",
      "\n",
      "Bạn đã học cách xây dựng một chatbot đơn giản sử dụng LangGraph theo hướng dẫn từ tài liệu của LangGraph. Dưới đây là một số điểm chính mà bạn đã nắm vững:\n",
      "\n",
      "1. **Môi Trường Xây Dựng**: Bạn đã biết cách cài đặt môi trường phát triển cần thiết, bao gồm việc thiết lập API keys.\n",
      "\n",
      "2. **Định Nghĩa Trạng Thái (State)**: Bạn đã học cách sử dụng `TypedDict` trong Python để định nghĩa trạng thái của chatbot, theo dõi các tin nhắn qua quá trình trò chuyện.\n",
      "\n",
      "3. **Tạo Nút (Nodes)**: Bạn đã hiểu rằng nút trong LangGraph thường được thực hiện dưới dạng các hàm Python thông thường và đại diện cho các đơn vị công việc riêng lẻ.\n",
      "\n",
      "4. **Xây Dựng Và Thêm Các Nút vào Đồ Thị**: Bạn đã biết cách tạo một đồ thị và bao gồm các nút đã định nghĩa, với `chatbot` là một ví dụ cụ thể.\n",
      "\n",
      "5. **Thêm Các Đường (Edges) vào Đồ Thị**: Bạn đã học cách xác định luồng của đồ thị bằng cách thêm các đường giữa các nút.\n",
      "\n",
      "6. **Bíp Đồ Thị**: Bạn đã biết cách sử dụng phương pháp `compile()` để tạo ra một `CompiledGraph` từ đồ thị được xây dựng, có thể được gọi trong thời gian chạy để xử lý trạng thái.\n",
      "\n",
      "7. **Hiển Thị Đồ Thị**: Bạn đã học cách sử dụng các công cụ vẽ để hiểu cấu trúc và kết nối giữa các nút và đường.\n",
      "\n",
      "8. **Thực Hiện Đồ Thị**: Bạn đã biết cách thực hiện chatbot với một câu hỏi mẫu!\n",
      "\n",
      "### Mã Ví Dụ\n",
      "\n",
      "Dưới đây là đoạn mã Python đơn giản mà bạn đã học:\n",
      "\n",
      "```python\n",
      "from langgraph import GraphBuilder, TypedDict, CompiledGraph\n",
      "\n",
      "# Định nghĩa trạng thái sử dụng TypedDict\n",
      "class State(TypedDict):\n",
      "    messages: list[str]\n",
      "\n",
      "# Tạo các nút như các hàm Python thông thường\n",
      "def chatbot(state: State) -> State:\n",
      "    # Ví dụ về phản hồi từ LLM\n",
      "    llm_response = \"Xin chào! Tôi có thể giúp gì cho bạn hôm nay?\"\n",
      "    \n",
      "    # Cập nhật trạng thái với tin nhắn mới\n",
      "    state['messages'].append(llm_response)\n",
      "    return state\n",
      "\n",
      "# Tạo đồ thị và thêm các nút\n",
      "graph_builder = GraphBuilder()\n",
      "graph_builder.add_node(chatbot, name=\"chatbot\")\n",
      "\n",
      "# Định nghĩa các đường (START và END)\n",
      "graph_builder.add_edge(\"START\", \"chatbot\")\n",
      "graph_builder.add_edge(\"chatbot\", \"END\")\n",
      "\n",
      "# Bíp đồ thị\n",
      "compiled_graph: CompiledGraph = graph_builder.compile()\n",
      "\n",
      "# Thực hiện chatbot với một câu hỏi mẫu\n",
      "initial_state = State(messages=[])\n",
      "final_state = compiled_graph.run(initial_state)\n",
      "\n",
      "print(final_state)\n",
      "```\n",
      "\n",
      "### Kết Luận\n",
      "\n",
      "Bạn đã học cách xây dựng một chatbot đơn giản sử dụng LangGraph, bao gồm việc định nghĩa trạng thái, nút, đường, bíp đồ thị, hiển thị đồ thị và thực hiện nó với câu hỏi mẫu. Đây là bước đầu tiên quan trọng trong quá trình phát triển chatbot.\n",
      "\n",
      "### Nguồn Tham Khảo\n",
      "\n",
      "- [LangGraph Tutorial](https://langchain-opentutorial.gitbook.io/langchain-opentutorial/17-langgraph/01-core-features/02-langgraph-chatbot#environment-setup)\n",
      "- [LangGraph Documentation](https://langgraph.readthedocs.io/en/latest/)\n",
      "- [Python TypedDict Documentation](https://docs.python.org/3/library/typing.html#typing.TypedDict)\n",
      "\n",
      "Hy vọng rằng thông tin này sẽ hữu ích cho bạn! Nếu bạn có thêm câu hỏi hoặc cần hỗ trợ, hãy liên hệ với tôi.\n"
     ]
    }
   ],
   "source": [
    "# Create an event stream\n",
    "events = graph.stream(\n",
    "    {\n",
    "        \"messages\": (\n",
    "            \"user\",\n",
    "            \"Please provide a kind and detailed answer in Vietnamese about what I have learned so far! Be sure to include the sources!\",\n",
    "        )\n",
    "    },\n",
    "    config,\n",
    "    stream_mode=\"values\",\n",
    ")\n",
    "\n",
    "# Process message events\n",
    "for event in events:\n",
    "    if \"messages\" in event:\n",
    "        # Print the last message\n",
    "        event[\"messages\"][-1].pretty_print()"
   ]
  },
  {
   "cell_type": "code",
   "execution_count": 50,
   "metadata": {},
   "outputs": [
    {
     "name": "stdout",
     "output_type": "stream",
     "text": [
      "==================================\u001b[1m Ai Message \u001b[0m==================================\n",
      "\n",
      "Dựa trên thông tin bạn đã cung cấp, tôi sẽ viết một câu trả lời chi tiết và thân thiện bằng tiếng Việt về những gì bạn đã học được. Tôi cũng sẽ đề cập đến các nguồn tham khảo.\n",
      "\n",
      "### Những Gì Bạn Đã Học Được\n",
      "\n",
      "Bạn đã học cách xây dựng một chatbot đơn giản sử dụng LangGraph theo hướng dẫn từ tài liệu của LangGraph. Dưới đây là một số điểm chính mà bạn đã nắm vững:\n",
      "\n",
      "1. **Môi Trường Xây Dựng**: Bạn đã biết cách cài đặt môi trường phát triển cần thiết, bao gồm việc thiết lập API keys.\n",
      "\n",
      "2. **Định Nghĩa Trạng Thái (State)**: Bạn đã học cách sử dụng `TypedDict` trong Python để định nghĩa trạng thái của chatbot, theo dõi các tin nhắn qua quá trình trò chuyện.\n",
      "\n",
      "3. **Tạo Nút (Nodes)**: Bạn đã hiểu rằng nút trong LangGraph thường được thực hiện dưới dạng các hàm Python thông thường và đại diện cho các đơn vị công việc riêng lẻ.\n",
      "\n",
      "4. **Xây Dựng Và Thêm Các Nút vào Đồ Thị**: Bạn đã biết cách tạo một đồ thị và bao gồm các nút đã định nghĩa, với `chatbot` là một ví dụ cụ thể.\n",
      "\n",
      "5. **Thêm Các Đường (Edges) vào Đồ Thị**: Bạn đã học cách xác định luồng của đồ thị bằng cách thêm các đường giữa các nút.\n",
      "\n",
      "6. **Bíp Đồ Thị**: Bạn đã biết cách sử dụng phương pháp `compile()` để tạo ra một `CompiledGraph` từ đồ thị được xây dựng, có thể được gọi trong thời gian chạy để xử lý trạng thái.\n",
      "\n",
      "7. **Hiển Thị Đồ Thị**: Bạn đã học cách sử dụng các công cụ vẽ để hiểu cấu trúc và kết nối giữa các nút và đường.\n",
      "\n",
      "8. **Thực Hiện Đồ Thị**: Bạn đã biết cách thực hiện chatbot với một câu hỏi mẫu!\n",
      "\n",
      "### Mã Ví Dụ\n",
      "\n",
      "Dưới đây là đoạn mã Python đơn giản mà bạn đã học:\n",
      "\n",
      "```python\n",
      "from langgraph import GraphBuilder, TypedDict, CompiledGraph\n",
      "\n",
      "# Định nghĩa trạng thái sử dụng TypedDict\n",
      "class State(TypedDict):\n",
      "    messages: list[str]\n",
      "\n",
      "# Tạo các nút như các hàm Python thông thường\n",
      "def chatbot(state: State) -> State:\n",
      "    # Ví dụ về phản hồi từ LLM\n",
      "    llm_response = \"Xin chào! Tôi có thể giúp gì cho bạn hôm nay?\"\n",
      "    \n",
      "    # Cập nhật trạng thái với tin nhắn mới\n",
      "    state['messages'].append(llm_response)\n",
      "    return state\n",
      "\n",
      "# Tạo đồ thị và thêm các nút\n",
      "graph_builder = GraphBuilder()\n",
      "graph_builder.add_node(chatbot, name=\"chatbot\")\n",
      "\n",
      "# Định nghĩa các đường (START và END)\n",
      "graph_builder.add_edge(\"START\", \"chatbot\")\n",
      "graph_builder.add_edge(\"chatbot\", \"END\")\n",
      "\n",
      "# Bíp đồ thị\n",
      "compiled_graph: CompiledGraph = graph_builder.compile()\n",
      "\n",
      "# Thực hiện chatbot với một câu hỏi mẫu\n",
      "initial_state = State(messages=[])\n",
      "final_state = compiled_graph.run(initial_state)\n",
      "\n",
      "print(final_state)\n",
      "```\n",
      "\n",
      "### Kết Luận\n",
      "\n",
      "Bạn đã học cách xây dựng một chatbot đơn giản sử dụng LangGraph, bao gồm việc định nghĩa trạng thái, nút, đường, bíp đồ thị, hiển thị đồ thị và thực hiện nó với câu hỏi mẫu. Đây là bước đầu tiên quan trọng trong quá trình phát triển chatbot.\n",
      "\n",
      "### Nguồn Tham Khảo\n",
      "\n",
      "- [LangGraph Tutorial](https://langchain-opentutorial.gitbook.io/langchain-opentutorial/17-langgraph/01-core-features/02-langgraph-chatbot#environment-setup)\n",
      "- [LangGraph Documentation](https://langgraph.readthedocs.io/en/latest/)\n",
      "- [Python TypedDict Documentation](https://docs.python.org/3/library/typing.html#typing.TypedDict)\n",
      "\n",
      "Hy vọng rằng thông tin này sẽ hữu ích cho bạn! Nếu bạn có thêm câu hỏi hoặc cần hỗ trợ, hãy liên hệ với tôi.\n"
     ]
    }
   ],
   "source": [
    "graph.get_state(config).values[\"messages\"][-1].pretty_print()"
   ]
  },
  {
   "cell_type": "markdown",
   "metadata": {},
   "source": [
    "## Modify the result of the past snapshot and replay\n",
    "\n",
    "Lần này, chúng ta sẽ xem xét cách sửa đổi kết quả của snapshot quá khứ và phát lại.\n",
    "\n",
    "Kiểm tra snapshot quá khứ và quay lại một nút cụ thể, sau đó **sửa đổi trạng thái và tiếp tục từ nút đó**.\n",
    "\n",
    "Điều này được gọi là Phát lại (Replay).\n",
    "\n",
    "Đầu tiên, lấy trạng thái của snapshot quá khứ.\n"
   ]
  },
  {
   "cell_type": "code",
   "execution_count": 51,
   "metadata": {},
   "outputs": [
    {
     "name": "stdout",
     "output_type": "stream",
     "text": [
      "run-cee30d3f-3ef9-4ec0-be67-bb777914d9a8-0\n",
      "the number of chat messages:  6 next node:  ()\n",
      "--------------------------------------------------------------------------------\n",
      "6c415d31-12c1-4aea-9fc0-bcbfaf4ce178\n",
      "the number of chat messages:  5 next node:  ('chatbot',)\n",
      "--------------------------------------------------------------------------------\n",
      "run-e02a1b86-2993-4ca8-a59c-c9afd52cfc43-0\n",
      "the number of chat messages:  4 next node:  ('__start__',)\n",
      "--------------------------------------------------------------------------------\n",
      "run-e02a1b86-2993-4ca8-a59c-c9afd52cfc43-0\n",
      "the number of chat messages:  4 next node:  ()\n",
      "--------------------------------------------------------------------------------\n",
      "1dbf605a-822d-4125-8f0a-06208f4c7c52\n",
      "the number of chat messages:  3 next node:  ('chatbot',)\n",
      "--------------------------------------------------------------------------------\n",
      "run-606b9603-b5c7-4d8b-9a0f-952d8fcc3b31-0\n",
      "the number of chat messages:  2 next node:  ('tools',)\n",
      "--------------------------------------------------------------------------------\n",
      "run-606b9603-b5c7-4d8b-9a0f-952d8fcc3b31-0\n",
      "the number of chat messages:  2 next node:  ('tools',)\n",
      "--------------------------------------------------------------------------------\n",
      "62b0117a-b839-425d-9cf8-a0a2b8490a16\n",
      "the number of chat messages:  1 next node:  ('chatbot',)\n",
      "--------------------------------------------------------------------------------\n"
     ]
    }
   ],
   "source": [
    "to_replay_state = None\n",
    "\n",
    "# Get the state history\n",
    "for state in graph.get_state_history(config):\n",
    "\n",
    "    messages = state.values[\"messages\"]\n",
    "\n",
    "    if len(messages) > 0:\n",
    "        print(state.values[\"messages\"][-1].id)\n",
    "        # Print the number of messages and the next state\n",
    "        print(\"the number of chat messages: \", len(state.values[\"messages\"]), \"next node: \", state.next)\n",
    "        print(\"-\" * 80)\n",
    "        # Select the specific state based on the number of chat messages\n",
    "        if len(state.values[\"messages\"]) == 2:\n",
    "            # Select the specific message ID\n",
    "            to_replay_state = state"
   ]
  },
  {
   "cell_type": "code",
   "execution_count": 52,
   "metadata": {},
   "outputs": [
    {
     "name": "stdout",
     "output_type": "stream",
     "text": [
      "    \u001b[93mcontent\u001b[0m: \"\"\n",
      "    \u001b[93madditional_kwargs\u001b[0m: {}\n",
      "    \u001b[93mresponse_metadata\u001b[0m:\n",
      "        \u001b[94mmodel\u001b[0m: \"qwen2.5:7b\"\n",
      "        \u001b[94mcreated_at\u001b[0m: \"2025-03-24T02:09:05.688540349Z\"\n",
      "        \u001b[94mdone\u001b[0m: True\n",
      "        \u001b[94mdone_reason\u001b[0m: \"stop\"\n",
      "        \u001b[94mtotal_duration\u001b[0m: 31819672532\n",
      "        \u001b[94mload_duration\u001b[0m: 2484407274\n",
      "        \u001b[94mprompt_eval_count\u001b[0m: 201\n",
      "        \u001b[94mprompt_eval_duration\u001b[0m: 14568000000\n",
      "        \u001b[94meval_count\u001b[0m: 83\n",
      "        \u001b[94meval_duration\u001b[0m: 14760000000\n",
      "        \u001b[94mmessage\u001b[0m: {\"role\": \"assistant\", \"content\": \"\", \"images\": None, \"tool_calls\": None}\n",
      "    \u001b[93mtype\u001b[0m: \"ai\"\n",
      "    \u001b[93mname\u001b[0m: None\n",
      "    \u001b[93mid\u001b[0m: \"run-606b9603-b5c7-4d8b-9a0f-952d8fcc3b31-0\"\n",
      "    \u001b[93mexample\u001b[0m: False\n",
      "    \u001b[93mtool_calls\u001b[0m:\n",
      "        \u001b[93mindex [0]\u001b[0m\n",
      "            \u001b[95mname\u001b[0m: \"tavily_search_results_json\"\n",
      "            \u001b[95margs\u001b[0m: {\"query\": \"LangGraph overview and resources\"}\n",
      "            \u001b[95mid\u001b[0m: \"74d3f308-a6d5-498b-bc55-6d949681d6dc\"\n",
      "            \u001b[95mtype\u001b[0m: \"tool_call\"\n",
      "    \u001b[93minvalid_tool_calls\u001b[0m:\n",
      "    \u001b[93musage_metadata\u001b[0m: {\"input_tokens\": 201, \"output_tokens\": 83, \"total_tokens\": 284}\n"
     ]
    }
   ],
   "source": [
    "from utils.messages import display_message_tree\n",
    "\n",
    "# Get the selected message\n",
    "existing_message = to_replay_state.values[\"messages\"][-1]\n",
    "\n",
    "# Print the message tree\n",
    "display_message_tree(existing_message)"
   ]
  },
  {
   "cell_type": "code",
   "execution_count": 53,
   "metadata": {},
   "outputs": [
    {
     "data": {
      "text/plain": [
       "{'name': 'tavily_search_results_json',\n",
       " 'args': {'query': 'LangGraph human-in-the-loop workflow site:reddit.com'},\n",
       " 'id': '74d3f308-a6d5-498b-bc55-6d949681d6dc',\n",
       " 'type': 'tool_call'}"
      ]
     },
     "execution_count": 53,
     "metadata": {},
     "output_type": "execute_result"
    }
   ],
   "source": [
    "tool_call = existing_message.tool_calls[0].copy()\n",
    "tool_call[\"args\"] = {\"query\": \"LangGraph human-in-the-loop workflow site:reddit.com\"}\n",
    "tool_call"
   ]
  },
  {
   "cell_type": "code",
   "execution_count": 54,
   "metadata": {},
   "outputs": [
    {
     "data": {
      "text/plain": [
       "{'query': 'LangGraph human-in-the-loop workflow site:reddit.com'}"
      ]
     },
     "execution_count": 54,
     "metadata": {},
     "output_type": "execute_result"
    }
   ],
   "source": [
    "# Create an updated AIMessage\n",
    "new_message = AIMessage(\n",
    "    content=existing_message.content,\n",
    "    tool_calls=[tool_call],\n",
    "    # Important! ID is a method to replace the message instead of adding it to the state.\n",
    "    id=existing_message.id,\n",
    ")\n",
    "\n",
    "# Print the updated message\n",
    "new_message.tool_calls[0][\"args\"]"
   ]
  },
  {
   "cell_type": "code",
   "execution_count": 55,
   "metadata": {},
   "outputs": [
    {
     "data": {
      "text/plain": [
       "[{'name': 'tavily_search_results_json',\n",
       "  'args': {'query': 'LangGraph overview and resources'},\n",
       "  'id': '74d3f308-a6d5-498b-bc55-6d949681d6dc',\n",
       "  'type': 'tool_call'}]"
      ]
     },
     "execution_count": 55,
     "metadata": {},
     "output_type": "execute_result"
    }
   ],
   "source": [
    "# Check the message before the update\n",
    "graph.get_state(to_replay_state.config).values[\"messages\"][-1].tool_calls"
   ]
  },
  {
   "cell_type": "code",
   "execution_count": 56,
   "metadata": {},
   "outputs": [
    {
     "data": {
      "text/plain": [
       "{'configurable': {'thread_id': '4f191a',\n",
       "  'checkpoint_ns': '',\n",
       "  'checkpoint_id': '1f008599-bdce-6b5d-8002-a5b09dd686ba'}}"
      ]
     },
     "execution_count": 56,
     "metadata": {},
     "output_type": "execute_result"
    }
   ],
   "source": [
    "# Update the state\n",
    "updated_state = graph.update_state(\n",
    "    to_replay_state.config,\n",
    "    {\"messages\": [new_message]},\n",
    ")\n",
    "updated_state"
   ]
  },
  {
   "cell_type": "code",
   "execution_count": 57,
   "metadata": {},
   "outputs": [
    {
     "name": "stdout",
     "output_type": "stream",
     "text": [
      "==================================\u001b[1m Ai Message \u001b[0m==================================\n",
      "Tool Calls:\n",
      "  tavily_search_results_json (74d3f308-a6d5-498b-bc55-6d949681d6dc)\n",
      " Call ID: 74d3f308-a6d5-498b-bc55-6d949681d6dc\n",
      "  Args:\n",
      "    query: LangGraph human-in-the-loop workflow site:reddit.com\n",
      "=================================\u001b[1m Tool Message \u001b[0m=================================\n",
      "Name: tavily_search_results_json\n",
      "\n",
      "[{\"title\": \"Human In The Loop In Langgraph : r/LangChain\", \"url\": \"https://www.reddit.com/r/LangChain/comments/1ea3p2i/human_in_the_loop_in_langgraph/\", \"content\": \"Members Online\\n•\\nDirect-Station9581\\nADMIN MOD\\nHuman In The Loop In Langgraph\\nfrom langgraph_state import GraphState\\nfrom langgraph.graph import END, StateGraph\\nfrom langgraph.checkpoint.memory import MemorySaver\\nfrom nodes import build_strategy, human_feedback, decision_node, rag_node, database_search, web_search_node, sql_search_node, state_printer\\nfrom edges import rag_database_websearch_sqlseqrch, strategy_decision\\nworkflow = StateGraph(GraphState) [...] workflow.add_node(\\\"build_strategy\\\", build_strategy)\\nworkflow.add_node(\\\"human_feedback\\\", human_feedback)\\nworkflow.add_node(\\\"decision_node\\\", decision_node)\\nworkflow.add_node(\\\"rag_node\\\", rag_node)\\nworkflow.add_node(\\\"database_search\\\", database_search)\\nworkflow.add_node(\\\"web_search_node\\\", web_search_node)\\nworkflow.add_node(\\\"sql_search_node\\\", sql_search_node)\\nworkflow.add_node(\\\"state_printer\\\", state_printer)\\nworkflow.set_entry_point(\\\"build_strategy\\\") [...] rag_database_websearch_sqlseqrch,\\n{\\n\\\"rag\\\": \\\"rag_node\\\",\\n\\\"database_search\\\": \\\"database_search\\\",\\n\\\"web_search\\\": \\\"web_search_node\\\",\\n\\\"sql_search\\\": \\\"sql_search_node\\\",\\n\\\"state_printer\\\": \\\"state_printer\\\"\\n},\\n)\\nworkflow.add_conditional_edges(\\n\\\"sql_search_node\\\",\\nrag_database_websearch_sqlseqrch,\\n{\\n\\\"rag\\\": \\\"rag_node\\\",\\n\\\"database_search\\\": \\\"database_search\\\",\\n\\\"web_search\\\": \\\"web_search_node\\\",\\n\\\"sql_search\\\": \\\"sql_search_node\\\",\\n\\\"state_printer\\\": \\\"state_printer\\\"\\n},\\n)\\nworkflow.add_edge(\\\"state_printer\\\", END)\", \"score\": 0.6768503147619048, \"raw_content\": \"Reddit - Dive into anything\\nSkip to main content\\nOpen menu Open navigation  Go to Reddit Home\\nr/LangChain A chip A close button\\nGet App Get the Reddit app Log In Log in to Reddit\\nExpand user menu Open settings menu\\n\\nLog In / Sign Up Advertise on Reddit Shop Collectible Avatars\\n\\n Go to LangChain\\nr/LangChain\\nr/LangChain\\nLangChain is an open-source framework and developer toolkit that helps developers get LLM applications from prototype to production. It is available for Python and Javascript at https://www.langchain.com/.\\n\\nMembers Online\\n•\\nDirect-Station9581\\nADMIN MOD\\nHuman In The Loop In Langgraph\\nfrom langgraph_state import GraphState\\nfrom langgraph.graph import END, StateGraph\\nfrom langgraph.checkpoint.memory import MemorySaver\\nfrom nodes import build_strategy, human_feedback, decision_node, rag_node, database_search, web_search_node, sql_search_node, state_printer\\nfrom edges import rag_database_websearch_sqlseqrch, strategy_decision\\nworkflow = StateGraph(GraphState)\\nworkflow.add_node(\\\"build_strategy\\\", build_strategy)\\nworkflow.add_node(\\\"human_feedback\\\", human_feedback)\\nworkflow.add_node(\\\"decision_node\\\", decision_node)\\nworkflow.add_node(\\\"rag_node\\\", rag_node)\\nworkflow.add_node(\\\"database_search\\\", database_search)\\nworkflow.add_node(\\\"web_search_node\\\", web_search_node)\\nworkflow.add_node(\\\"sql_search_node\\\", sql_search_node)\\nworkflow.add_node(\\\"state_printer\\\", state_printer)\\nworkflow.set_entry_point(\\\"build_strategy\\\")\\nworkflow.add_edge(\\\"build_strategy\\\", \\\"human_feedback\\\")\\nworkflow.add_conditional_edges(\\n\\\"human_feedback\\\",\\nstrategy_decision,\\n{\\n\\\"yes\\\": \\\"decision_node\\\",\\n\\\"no\\\": \\\"build_strategy\\\"\\n},\\n)\\nworkflow.add_conditional_edges(\\n\\\"decision_node\\\",\\nrag_database_websearch_sqlseqrch,\\n{\\n\\\"rag\\\": \\\"rag_node\\\",\\n\\\"database_search\\\": \\\"database_search\\\",\\n\\\"web_search\\\": \\\"web_search_node\\\",\\n\\\"sql_search\\\": \\\"sql_search_node\\\",\\n\\\"state_printer\\\": \\\"state_printer\\\"\\n},\\n)\\nworkflow.add_conditional_edges(\\n\\\"rag_node\\\",\\nrag_database_websearch_sqlseqrch,\\n{\\n\\\"rag\\\": \\\"rag_node\\\",\\n\\\"database_search\\\": \\\"database_search\\\",\\n\\\"web_search\\\": \\\"web_search_node\\\",\\n\\\"sql_search\\\": \\\"sql_search_node\\\",\\n\\\"state_printer\\\": \\\"state_printer\\\"\\n},\\n)\\nworkflow.add_conditional_edges(\\n\\\"database_search\\\",\\nrag_database_websearch_sqlseqrch,\\n{\\n\\\"rag\\\": \\\"rag_node\\\",\\n\\\"database_search\\\": \\\"database_search\\\",\\n\\\"web_search\\\": \\\"web_search_node\\\",\\n\\\"sql_search\\\": \\\"sql_search_node\\\",\\n\\\"state_printer\\\": \\\"state_printer\\\"\\n},\\n)\\nworkflow.add_conditional_edges(\\n\\\"web_search_node\\\",\\nrag_database_websearch_sqlseqrch,\\n{\\n\\\"rag\\\": \\\"rag_node\\\",\\n\\\"database_search\\\": \\\"database_search\\\",\\n\\\"web_search\\\": \\\"web_search_node\\\",\\n\\\"sql_search\\\": \\\"sql_search_node\\\",\\n\\\"state_printer\\\": \\\"state_printer\\\"\\n},\\n)\\nworkflow.add_conditional_edges(\\n\\\"sql_search_node\\\",\\nrag_database_websearch_sqlseqrch,\\n{\\n\\\"rag\\\": \\\"rag_node\\\",\\n\\\"database_search\\\": \\\"database_search\\\",\\n\\\"web_search\\\": \\\"web_search_node\\\",\\n\\\"sql_search\\\": \\\"sql_search_node\\\",\\n\\\"state_printer\\\": \\\"state_printer\\\"\\n},\\n)\\nworkflow.add_edge(\\\"state_printer\\\", END)\\nmemory = MemorySaver()\\napp = workflow.compile(checkpointer=memory, interrupt_before=[\\\"human_feedback\\\"])\\nI have created a graph with human feedback using langgraph. After strategy node is executed. It should interrupt before human_feedback node and ask from the user that if the strategy made by the agent is correct or wrong in case if it is correct it will proceed to the next nodes and if not then it will go to strategy node again.\\nFor my first condition in case it is correct it is working fine. But when it is wrong the strategy node executes but donot go to the next nodes and the program terminates.\\nThis is the issue if anyone can help. Thanks\\nRead more\\nTop 3% Rank by size\\nPublic\\nAnyone can view, post, and comment to this community\\n\\n\\n \\n\\n\\n \\n\\n\\n\\n\\n\\nTOPICS\\n\\n\\nInternet Culture (Viral)\\n\\n\\nAmazing Animals & Pets Cringe & Facepalm Funny Interesting Memes Oddly Satisfying Reddit Meta Wholesome & Heartwarming\\n\\n\\nGames\\n\\n\\nAction Games Adventure Games Esports Gaming Consoles & Gear Gaming News & Discussion Mobile Games Other Games Role-Playing Games Simulation Games Sports & Racing Games Strategy Games*   Tabletop Games\\n\\n\\nQ&As\\n\\n\\nQ&As*   Stories & Confessions\\n\\n\\nTechnology\\n\\n\\n3D Printing Artificial Intelligence & Machine Learning Computers & Hardware Consumer Electronics DIY Electronics Programming Software & Apps Streaming Services Tech News & Discussion*   Virtual & Augmented Reality\\n\\n\\nPop Culture\\n\\n\\nCelebrities Creators & Influencers Generations & Nostalgia Podcasts Streamers*   Tarot & Astrology\\n\\n\\nMovies & TV\\n\\n\\nAction Movies & Series Animated Movies & Series Comedy Movies & Series Crime, Mystery, & Thriller Movies & Series Documentary Movies & Series Drama Movies & Series Fantasy Movies & Series Horror Movies & Series Movie News & Discussion Reality TV Romance Movies & Series Sci-Fi Movies & Series Superhero Movies & Series*   TV News & Discussion\\n\\n\\n\\n\\n\\nRESOURCES\\n\\n\\nAbout Reddit Advertise Help Blog Careers*   Press\\n\\n\\n\\n\\nCommunities Best of Reddit Topics\\n\\n\\n\\nContent Policy Privacy Policy User Agreement\\n\\nReddit, Inc. © 2024. All rights reserved.\\nclose\\nLog In\\nBy continuing, you agree to our User Agreement and acknowledge that you understand the Privacy Policy.\\nContinue with phone number\\n\\nOR\\n\\nEmail or username\\nPassword\\nForgot password?\\nNew to Reddit? Sign Up\\nLog In\\nback\\nEnter the 6-digit code from your authenticator app\\nYou’ve set up two-factor authentication for this account.\\nVerification code\\nLost access to your authenticator? Use a backup code\\nCheck code\\nback\\nEnter a 6-digit backup code\\nYou’ve set up two-factor authentication for this account.\\nBackup code\\nDon’t have access to your backup code? Use a code from an authenticator app\\nCheck code\\nclose\\nSign Up\\nBy continuing, you agree to our User Agreement and acknowledge that you understand the Privacy Policy.\\nEmail\\nAlready a redditor? Log In\\nContinue\\nback Skip\\nVerify your email\\nEnter the 6-digit code we sent to\\nVerification code\\nDidn't get an email? Resend\\nContinue\\nback\\nCreate your username and password\\nReddit is anonymous, so your username is what you’ll go by here. Choose wisely—because once you get a name, you can’t change it.\\nUsername\\nPassword\\nContinue\\nclose\\nSign Up\\nBy continuing, you agree to our User Agreement and acknowledge that you understand the Privacy Policy.\\nContinue with phone number\\n\\nOR\\n\\nEmail\\nAlready a redditor? Log In\\nContinue\\nback Skip\\nVerify your email\\nEnter the 6-digit code we sent to\\nVerification code\\nDidn't get an email? Resend\\nContinue\\nback\\nCreate your username and password\\nReddit is anonymous, so your username is what you’ll go by here. Choose wisely—because once you get a name, you can’t change it.\\nUsername\\nPassword\\nContinue\\nclose back\\nReset your password\\nEnter your email address or username and we’ll send you a link to reset your password\\nEmail or username\\nNeed help?\\nReset password\\nclose back\\nCheck your inbox\\nAn email with a link to reset your password was sent to the email address associated with your account\\nDidn't get an email? Resend\\nclose\\nChoose a Reddit account to continue\\nback close\\nReset your password\\nNew password\\nConfirm new password\\nResetting your password will log you out on all devices.\\nContinue\"}, {\"title\": \"Human intervention in agent workflows : r/LangChain\", \"url\": \"https://www.reddit.com/r/LangChain/comments/1bjnmu4/human_intervention_in_agent_workflows/\", \"content\": \"Members Online\\n•\\ntisi3000\\nHuman intervention in agent workflows\\nWhen building LLM workflows with LangChain/LangGraph what's the best way to build a node in the workflow where a human can validate/approve/reject a flow? I know there is a Human-in-the-loop component in LangGraph that will prompt the user for input. But what if I'm not creating a user-initiated chat conversation, but a flow that reacts to e.g. incoming emails?\", \"score\": 0.5570788785714287, \"raw_content\": \"Reddit - Dive into anything\\nSkip to main content\\nOpen menu Open navigation  Go to Reddit Home\\nr/LangChain A chip A close button\\nGet App Get the Reddit app Log In Log in to Reddit\\nExpand user menu Open settings menu\\n Go to LangChain\\nr/LangChain\\nr/LangChain\\nLangChain is an open-source framework and developer toolkit that helps developers get LLM applications from prototype to production. It is available for Python and Javascript at https://www.langchain.com/.\\n\\nMembers Online\\n•\\ntisi3000\\nHuman intervention in agent workflows\\nWhen building LLM workflows with LangChain/LangGraph what's the best way to build a node in the workflow where a human can validate/approve/reject a flow? I know there is a Human-in-the-loop component in LangGraph that will prompt the user for input. But what if I'm not creating a user-initiated chat conversation, but a flow that reacts to e.g. incoming emails?\\nI guess I'd have to design my UI so that it's not only a simple single-threaded chat interface, but some sort of inbox, right? Or is there any standard way that comes to mind?\\nRead more\\nTop 3% Rank by size\\nPublic\\nAnyone can view, post, and comment to this community\\nTop Posts\\n\\n\\n\\nReddit\\nreReddit: Top posts of March 20, 2024 * * *\\n\\n\\nReddit\\nreReddit: Top posts of March 2024 * * *\\n\\n\\nReddit\\nreReddit: Top posts of 2024 * * *\\n\\n\\n \\n\\n\\n \\n\\n\\n\\n\\n\\nTOPICS\\n\\n\\nInternet Culture (Viral)\\n\\n\\nAmazing Animals & Pets Cringe & Facepalm Funny Interesting Memes Oddly Satisfying Reddit Meta Wholesome & Heartwarming\\n\\n\\nGames\\n\\n\\nAction Games Adventure Games Esports Gaming Consoles & Gear Gaming News & Discussion Mobile Games Other Games Role-Playing Games Simulation Games Sports & Racing Games Strategy Games*   Tabletop Games\\n\\n\\nQ&As\\n\\n\\nQ&As*   Stories & Confessions\\n\\n\\nTechnology\\n\\n\\n3D Printing Artificial Intelligence & Machine Learning Computers & Hardware Consumer Electronics DIY Electronics Programming Software & Apps Streaming Services Tech News & Discussion*   Virtual & Augmented Reality\\n\\n\\nPop Culture\\n\\n\\nCelebrities Creators & Influencers Generations & Nostalgia Podcasts Streamers*   Tarot & Astrology\\n\\n\\nMovies & TV\\n\\n\\nAction Movies & Series Animated Movies & Series Comedy Movies & Series Crime, Mystery, & Thriller Movies & Series Documentary Movies & Series Drama Movies & Series Fantasy Movies & Series Horror Movies & Series Movie News & Discussion Reality TV Romance Movies & Series Sci-Fi Movies & Series Superhero Movies & Series*   TV News & Discussion\\n\\n\\n\\n\\n\\nRESOURCES\\n\\n\\nAbout Reddit Advertise Help Blog Careers*   Press\\n\\n\\n\\n\\nCommunities Best of Reddit Topics\\n\\n\\n\\nReddit Rules Privacy Policy User Agreement\\n\\nReddit, Inc. © 2025. All rights reserved.\"}, {\"title\": \"LangGraph Workflow for Quality Assurance : r/LangChain - Reddit\", \"url\": \"https://www.reddit.com/r/LangChain/comments/1bsblmu/langgraph_workflow_for_quality_assurance/\", \"content\": \"Members Online\\n•\\nSwimminInIt\\nLangGraph Workflow for Quality Assurance\\nQuestion | Help\\nI've been working on a concept to automate the Quality Assurance (QA) process for complex legal documents using LangGraph, aiming to streamline the workflow, reduce manual effort, and improve compliance efficiency. Handling specific parts of the QA process using AI rather human reviews, from initial document submission to final approval. [...] Reddit - Dive into anything\\nSkip to main content\\nOpen menu Open navigation  Go to Reddit Home\\nr/LangChain A chip A close button\\nGet App Get the Reddit app Log In Log in to Reddit\\nExpand user menu Open settings menu\\n Go to LangChain\\nr/LangChain\\nr/LangChain\\nLangChain is an open-source framework and developer toolkit that helps developers get LLM applications from prototype to production. It is available for Python and Javascript at https://www.langchain.com/. [...] Document Submission (Manual User Action): Entry point for examiners to submit documents.\\n\\n\\nPre-Processing Node (Script for Data Manipulation): Handles initial formatting and basic validation.\\n\\n\\nPolicy Compliance Checker Node (PCCN): Checks documents against policy rules.\\n\\n\\nError Suggestion Node (ESN): Identifies compliance issues and suggests corrections.\\n\\n\\nQuality Assurance Node (QAN): Final review to ensure document quality.\", \"score\": 0.48989809114285715, \"raw_content\": \"Reddit - Dive into anything\\nSkip to main content\\nOpen menu Open navigation  Go to Reddit Home\\nr/LangChain A chip A close button\\nGet App Get the Reddit app Log In Log in to Reddit\\nExpand user menu Open settings menu\\n Go to LangChain\\nr/LangChain\\nr/LangChain\\nLangChain is an open-source framework and developer toolkit that helps developers get LLM applications from prototype to production. It is available for Python and Javascript at https://www.langchain.com/.\\n\\nMembers Online\\n•\\nSwimminInIt\\nLangGraph Workflow for Quality Assurance\\nQuestion | Help\\nI've been working on a concept to automate the Quality Assurance (QA) process for complex legal documents using LangGraph, aiming to streamline the workflow, reduce manual effort, and improve compliance efficiency. Handling specific parts of the QA process using AI rather human reviews, from initial document submission to final approval.\\nI see a ton of people talking about document chat and integration with knowledge repos. Rather than just providing information I am looking to perform QA on the documents itself.\\nHere's a brief overview of the workflow:\\n\\n\\nDocument Submission (Manual User Action): Entry point for examiners to submit documents.\\n\\n\\nPre-Processing Node (Script for Data Manipulation): Handles initial formatting and basic validation.\\n\\n\\nPolicy Compliance Checker Node (PCCN): Checks documents against policy rules.\\n\\n\\nError Suggestion Node (ESN): Identifies compliance issues and suggests corrections.\\n\\n\\nQuality Assurance Node (QAN): Final review to ensure document quality.\\n\\n\\nFeedback and Interaction Node (FIN): Where examiners review AI suggestions and apply corrections.\\n\\n\\nApproval and Compliance Marking Node (ACMN): Marks documents as approved.\\n\\n\\nSome questions I have are:\\n\\n\\nHas anyone automated a Quality Assurance process with langchain/graph?\\n\\n\\nIf yes, what was successful or what did not work?\\n\\n\\nAny suggestions on how to improve my approach?\\n\\n\\nAre there any examples you are aware of I could use as a reference?\\n\\n\\nI appreciate any help and thoughts on the topic!\\nRead more\\nTop 3% Rank by size\\nPublic\\nAnyone can view, post, and comment to this community\\nTop Posts\\n\\n\\n\\nReddit\\nreReddit: Top posts of March 31, 2024 * * *\\n\\n\\nReddit\\nreReddit: Top posts of March 2024 * * *\\n\\n\\nReddit\\nreReddit: Top posts of 2024 * * *\\n\\n\\n \\n\\n\\n \\n\\n\\n\\n\\n\\nTOPICS\\n\\n\\nInternet Culture (Viral)\\n\\n\\nAmazing Animals & Pets Cringe & Facepalm Funny Interesting Memes Oddly Satisfying Reddit Meta Wholesome & Heartwarming\\n\\n\\nGames\\n\\n\\nAction Games Adventure Games Esports Gaming Consoles & Gear Gaming News & Discussion Mobile Games Other Games Role-Playing Games Simulation Games Sports & Racing Games Strategy Games*   Tabletop Games\\n\\n\\nQ&As\\n\\n\\nQ&As*   Stories & Confessions\\n\\n\\nTechnology\\n\\n\\n3D Printing Artificial Intelligence & Machine Learning Computers & Hardware Consumer Electronics DIY Electronics Programming Software & Apps Streaming Services Tech News & Discussion*   Virtual & Augmented Reality\\n\\n\\nPop Culture\\n\\n\\nCelebrities Creators & Influencers Generations & Nostalgia Podcasts Streamers*   Tarot & Astrology\\n\\n\\nMovies & TV\\n\\n\\nAction Movies & Series Animated Movies & Series Comedy Movies & Series Crime, Mystery, & Thriller Movies & Series Documentary Movies & Series Drama Movies & Series Fantasy Movies & Series Horror Movies & Series Movie News & Discussion Reality TV Romance Movies & Series Sci-Fi Movies & Series Superhero Movies & Series*   TV News & Discussion\\n\\n\\n\\n\\n\\nRESOURCES\\n\\n\\nAbout Reddit Advertise Help Blog Careers*   Press\\n\\n\\n\\n\\nCommunities Best of Reddit Topics\\n\\n\\n\\nReddit Rules Privacy Policy User Agreement\\n\\nReddit, Inc. © 2025. All rights reserved.\"}]\n",
      "==================================\u001b[1m Ai Message \u001b[0m==================================\n",
      "\n",
      "Based on the information provided in the tool responses, here are some insights and suggestions for your Quality Assurance (QA) process using LangChain:\n",
      "\n",
      "1. **Document Submission**: This is a manual user action where examiners submit documents. Ensure that this step includes clear instructions and guidelines to minimize errors.\n",
      "\n",
      "2. **Pre-Processing Node**: This node handles initial formatting and basic validation. Consider automating as much of the pre-processing as possible, such as checking file types, sizes, and basic structural integrity.\n",
      "\n",
      "3. **Policy Compliance Checker Node (PCCN)**: This is crucial for ensuring that documents adhere to policy rules. You can use LangChain's capabilities to integrate with existing policies or create custom rules. Ensure that this node is robust enough to handle various document formats and content types.\n",
      "\n",
      "4. **Error Suggestion Node (ESN)**: This node identifies compliance issues and suggests corrections. Use natural language processing (NLP) techniques to generate meaningful suggestions. You can also incorporate machine learning models trained on historical data to improve accuracy over time.\n",
      "\n",
      "5. **Quality Assurance Node (QAN)**: This is the final review step where human examiners should verify the document's quality after AI-generated suggestions have been applied. Ensure that this node includes clear guidelines and feedback mechanisms for examiners.\n",
      "\n",
      "6. **Feedback and Interaction Node (FIN)**: This node allows examiners to review AI suggestions and apply corrections. Implement a user-friendly interface that provides easy access to previous steps, suggested changes, and the ability to mark documents as approved or require further action.\n",
      "\n",
      "7. **Approval and Compliance Marking Node (ACMN)**: This marks documents as approved once they meet all quality standards. Ensure that this node is integrated with any necessary compliance tracking systems.\n",
      "\n",
      "### Suggestions for Improvement:\n",
      "- **Integration with Existing Systems**: If you are integrating this process into an existing workflow, ensure seamless integration with other tools and databases.\n",
      "- **User Training**: Provide training sessions for examiners to familiarize them with the new system and its features.\n",
      "- **Continuous Learning**: Implement a feedback loop where examiners can provide input on AI-generated suggestions. Use this data to continuously improve the accuracy of your models.\n",
      "- **Security Measures**: Ensure that sensitive documents are handled securely, especially during pre-processing and final review stages.\n",
      "\n",
      "### Examples for Reference:\n",
      "While specific examples were not provided in the responses, you might find inspiration from other industries where similar processes have been automated. For instance, financial services often use AI for document verification and compliance checks. You can also look at case studies or whitepapers on using LangChain for similar applications.\n",
      "\n",
      "By following these guidelines, you should be able to create a robust Quality Assurance process that leverages the strengths of both human expertise and machine learning.\n"
     ]
    }
   ],
   "source": [
    "# Pass the `updated_state` to the config. This involves passing an arbitrarily updated state.\n",
    "for event in graph.stream(None, updated_state, stream_mode=\"values\"):\n",
    "    # If the message is included in the event\n",
    "    if \"messages\" in event:\n",
    "        # display the last message\n",
    "        event[\"messages\"][-1].pretty_print()"
   ]
  },
  {
   "cell_type": "markdown",
   "metadata": {},
   "source": [
    "Output the final result.\n",
    "\n",
    "The `config` used here is not to retrieve the final state but serves as the initial `config` to obtain the final state."
   ]
  },
  {
   "cell_type": "code",
   "execution_count": 58,
   "metadata": {},
   "outputs": [
    {
     "name": "stdout",
     "output_type": "stream",
     "text": [
      "================================\u001b[1m Human Message \u001b[0m=================================\n",
      "\n",
      "I want to learn about LangGraph. Can you recommend useful materials?\n",
      "==================================\u001b[1m Ai Message \u001b[0m==================================\n",
      "Tool Calls:\n",
      "  tavily_search_results_json (74d3f308-a6d5-498b-bc55-6d949681d6dc)\n",
      " Call ID: 74d3f308-a6d5-498b-bc55-6d949681d6dc\n",
      "  Args:\n",
      "    query: LangGraph human-in-the-loop workflow site:reddit.com\n",
      "=================================\u001b[1m Tool Message \u001b[0m=================================\n",
      "Name: tavily_search_results_json\n",
      "\n",
      "[{\"title\": \"Human In The Loop In Langgraph : r/LangChain\", \"url\": \"https://www.reddit.com/r/LangChain/comments/1ea3p2i/human_in_the_loop_in_langgraph/\", \"content\": \"Members Online\\n•\\nDirect-Station9581\\nADMIN MOD\\nHuman In The Loop In Langgraph\\nfrom langgraph_state import GraphState\\nfrom langgraph.graph import END, StateGraph\\nfrom langgraph.checkpoint.memory import MemorySaver\\nfrom nodes import build_strategy, human_feedback, decision_node, rag_node, database_search, web_search_node, sql_search_node, state_printer\\nfrom edges import rag_database_websearch_sqlseqrch, strategy_decision\\nworkflow = StateGraph(GraphState) [...] workflow.add_node(\\\"build_strategy\\\", build_strategy)\\nworkflow.add_node(\\\"human_feedback\\\", human_feedback)\\nworkflow.add_node(\\\"decision_node\\\", decision_node)\\nworkflow.add_node(\\\"rag_node\\\", rag_node)\\nworkflow.add_node(\\\"database_search\\\", database_search)\\nworkflow.add_node(\\\"web_search_node\\\", web_search_node)\\nworkflow.add_node(\\\"sql_search_node\\\", sql_search_node)\\nworkflow.add_node(\\\"state_printer\\\", state_printer)\\nworkflow.set_entry_point(\\\"build_strategy\\\") [...] rag_database_websearch_sqlseqrch,\\n{\\n\\\"rag\\\": \\\"rag_node\\\",\\n\\\"database_search\\\": \\\"database_search\\\",\\n\\\"web_search\\\": \\\"web_search_node\\\",\\n\\\"sql_search\\\": \\\"sql_search_node\\\",\\n\\\"state_printer\\\": \\\"state_printer\\\"\\n},\\n)\\nworkflow.add_conditional_edges(\\n\\\"sql_search_node\\\",\\nrag_database_websearch_sqlseqrch,\\n{\\n\\\"rag\\\": \\\"rag_node\\\",\\n\\\"database_search\\\": \\\"database_search\\\",\\n\\\"web_search\\\": \\\"web_search_node\\\",\\n\\\"sql_search\\\": \\\"sql_search_node\\\",\\n\\\"state_printer\\\": \\\"state_printer\\\"\\n},\\n)\\nworkflow.add_edge(\\\"state_printer\\\", END)\", \"score\": 0.6768503147619048, \"raw_content\": \"Reddit - Dive into anything\\nSkip to main content\\nOpen menu Open navigation  Go to Reddit Home\\nr/LangChain A chip A close button\\nGet App Get the Reddit app Log In Log in to Reddit\\nExpand user menu Open settings menu\\n\\nLog In / Sign Up Advertise on Reddit Shop Collectible Avatars\\n\\n Go to LangChain\\nr/LangChain\\nr/LangChain\\nLangChain is an open-source framework and developer toolkit that helps developers get LLM applications from prototype to production. It is available for Python and Javascript at https://www.langchain.com/.\\n\\nMembers Online\\n•\\nDirect-Station9581\\nADMIN MOD\\nHuman In The Loop In Langgraph\\nfrom langgraph_state import GraphState\\nfrom langgraph.graph import END, StateGraph\\nfrom langgraph.checkpoint.memory import MemorySaver\\nfrom nodes import build_strategy, human_feedback, decision_node, rag_node, database_search, web_search_node, sql_search_node, state_printer\\nfrom edges import rag_database_websearch_sqlseqrch, strategy_decision\\nworkflow = StateGraph(GraphState)\\nworkflow.add_node(\\\"build_strategy\\\", build_strategy)\\nworkflow.add_node(\\\"human_feedback\\\", human_feedback)\\nworkflow.add_node(\\\"decision_node\\\", decision_node)\\nworkflow.add_node(\\\"rag_node\\\", rag_node)\\nworkflow.add_node(\\\"database_search\\\", database_search)\\nworkflow.add_node(\\\"web_search_node\\\", web_search_node)\\nworkflow.add_node(\\\"sql_search_node\\\", sql_search_node)\\nworkflow.add_node(\\\"state_printer\\\", state_printer)\\nworkflow.set_entry_point(\\\"build_strategy\\\")\\nworkflow.add_edge(\\\"build_strategy\\\", \\\"human_feedback\\\")\\nworkflow.add_conditional_edges(\\n\\\"human_feedback\\\",\\nstrategy_decision,\\n{\\n\\\"yes\\\": \\\"decision_node\\\",\\n\\\"no\\\": \\\"build_strategy\\\"\\n},\\n)\\nworkflow.add_conditional_edges(\\n\\\"decision_node\\\",\\nrag_database_websearch_sqlseqrch,\\n{\\n\\\"rag\\\": \\\"rag_node\\\",\\n\\\"database_search\\\": \\\"database_search\\\",\\n\\\"web_search\\\": \\\"web_search_node\\\",\\n\\\"sql_search\\\": \\\"sql_search_node\\\",\\n\\\"state_printer\\\": \\\"state_printer\\\"\\n},\\n)\\nworkflow.add_conditional_edges(\\n\\\"rag_node\\\",\\nrag_database_websearch_sqlseqrch,\\n{\\n\\\"rag\\\": \\\"rag_node\\\",\\n\\\"database_search\\\": \\\"database_search\\\",\\n\\\"web_search\\\": \\\"web_search_node\\\",\\n\\\"sql_search\\\": \\\"sql_search_node\\\",\\n\\\"state_printer\\\": \\\"state_printer\\\"\\n},\\n)\\nworkflow.add_conditional_edges(\\n\\\"database_search\\\",\\nrag_database_websearch_sqlseqrch,\\n{\\n\\\"rag\\\": \\\"rag_node\\\",\\n\\\"database_search\\\": \\\"database_search\\\",\\n\\\"web_search\\\": \\\"web_search_node\\\",\\n\\\"sql_search\\\": \\\"sql_search_node\\\",\\n\\\"state_printer\\\": \\\"state_printer\\\"\\n},\\n)\\nworkflow.add_conditional_edges(\\n\\\"web_search_node\\\",\\nrag_database_websearch_sqlseqrch,\\n{\\n\\\"rag\\\": \\\"rag_node\\\",\\n\\\"database_search\\\": \\\"database_search\\\",\\n\\\"web_search\\\": \\\"web_search_node\\\",\\n\\\"sql_search\\\": \\\"sql_search_node\\\",\\n\\\"state_printer\\\": \\\"state_printer\\\"\\n},\\n)\\nworkflow.add_conditional_edges(\\n\\\"sql_search_node\\\",\\nrag_database_websearch_sqlseqrch,\\n{\\n\\\"rag\\\": \\\"rag_node\\\",\\n\\\"database_search\\\": \\\"database_search\\\",\\n\\\"web_search\\\": \\\"web_search_node\\\",\\n\\\"sql_search\\\": \\\"sql_search_node\\\",\\n\\\"state_printer\\\": \\\"state_printer\\\"\\n},\\n)\\nworkflow.add_edge(\\\"state_printer\\\", END)\\nmemory = MemorySaver()\\napp = workflow.compile(checkpointer=memory, interrupt_before=[\\\"human_feedback\\\"])\\nI have created a graph with human feedback using langgraph. After strategy node is executed. It should interrupt before human_feedback node and ask from the user that if the strategy made by the agent is correct or wrong in case if it is correct it will proceed to the next nodes and if not then it will go to strategy node again.\\nFor my first condition in case it is correct it is working fine. But when it is wrong the strategy node executes but donot go to the next nodes and the program terminates.\\nThis is the issue if anyone can help. Thanks\\nRead more\\nTop 3% Rank by size\\nPublic\\nAnyone can view, post, and comment to this community\\n\\n\\n \\n\\n\\n \\n\\n\\n\\n\\n\\nTOPICS\\n\\n\\nInternet Culture (Viral)\\n\\n\\nAmazing Animals & Pets Cringe & Facepalm Funny Interesting Memes Oddly Satisfying Reddit Meta Wholesome & Heartwarming\\n\\n\\nGames\\n\\n\\nAction Games Adventure Games Esports Gaming Consoles & Gear Gaming News & Discussion Mobile Games Other Games Role-Playing Games Simulation Games Sports & Racing Games Strategy Games*   Tabletop Games\\n\\n\\nQ&As\\n\\n\\nQ&As*   Stories & Confessions\\n\\n\\nTechnology\\n\\n\\n3D Printing Artificial Intelligence & Machine Learning Computers & Hardware Consumer Electronics DIY Electronics Programming Software & Apps Streaming Services Tech News & Discussion*   Virtual & Augmented Reality\\n\\n\\nPop Culture\\n\\n\\nCelebrities Creators & Influencers Generations & Nostalgia Podcasts Streamers*   Tarot & Astrology\\n\\n\\nMovies & TV\\n\\n\\nAction Movies & Series Animated Movies & Series Comedy Movies & Series Crime, Mystery, & Thriller Movies & Series Documentary Movies & Series Drama Movies & Series Fantasy Movies & Series Horror Movies & Series Movie News & Discussion Reality TV Romance Movies & Series Sci-Fi Movies & Series Superhero Movies & Series*   TV News & Discussion\\n\\n\\n\\n\\n\\nRESOURCES\\n\\n\\nAbout Reddit Advertise Help Blog Careers*   Press\\n\\n\\n\\n\\nCommunities Best of Reddit Topics\\n\\n\\n\\nContent Policy Privacy Policy User Agreement\\n\\nReddit, Inc. © 2024. All rights reserved.\\nclose\\nLog In\\nBy continuing, you agree to our User Agreement and acknowledge that you understand the Privacy Policy.\\nContinue with phone number\\n\\nOR\\n\\nEmail or username\\nPassword\\nForgot password?\\nNew to Reddit? Sign Up\\nLog In\\nback\\nEnter the 6-digit code from your authenticator app\\nYou’ve set up two-factor authentication for this account.\\nVerification code\\nLost access to your authenticator? Use a backup code\\nCheck code\\nback\\nEnter a 6-digit backup code\\nYou’ve set up two-factor authentication for this account.\\nBackup code\\nDon’t have access to your backup code? Use a code from an authenticator app\\nCheck code\\nclose\\nSign Up\\nBy continuing, you agree to our User Agreement and acknowledge that you understand the Privacy Policy.\\nEmail\\nAlready a redditor? Log In\\nContinue\\nback Skip\\nVerify your email\\nEnter the 6-digit code we sent to\\nVerification code\\nDidn't get an email? Resend\\nContinue\\nback\\nCreate your username and password\\nReddit is anonymous, so your username is what you’ll go by here. Choose wisely—because once you get a name, you can’t change it.\\nUsername\\nPassword\\nContinue\\nclose\\nSign Up\\nBy continuing, you agree to our User Agreement and acknowledge that you understand the Privacy Policy.\\nContinue with phone number\\n\\nOR\\n\\nEmail\\nAlready a redditor? Log In\\nContinue\\nback Skip\\nVerify your email\\nEnter the 6-digit code we sent to\\nVerification code\\nDidn't get an email? Resend\\nContinue\\nback\\nCreate your username and password\\nReddit is anonymous, so your username is what you’ll go by here. Choose wisely—because once you get a name, you can’t change it.\\nUsername\\nPassword\\nContinue\\nclose back\\nReset your password\\nEnter your email address or username and we’ll send you a link to reset your password\\nEmail or username\\nNeed help?\\nReset password\\nclose back\\nCheck your inbox\\nAn email with a link to reset your password was sent to the email address associated with your account\\nDidn't get an email? Resend\\nclose\\nChoose a Reddit account to continue\\nback close\\nReset your password\\nNew password\\nConfirm new password\\nResetting your password will log you out on all devices.\\nContinue\"}, {\"title\": \"Human intervention in agent workflows : r/LangChain\", \"url\": \"https://www.reddit.com/r/LangChain/comments/1bjnmu4/human_intervention_in_agent_workflows/\", \"content\": \"Members Online\\n•\\ntisi3000\\nHuman intervention in agent workflows\\nWhen building LLM workflows with LangChain/LangGraph what's the best way to build a node in the workflow where a human can validate/approve/reject a flow? I know there is a Human-in-the-loop component in LangGraph that will prompt the user for input. But what if I'm not creating a user-initiated chat conversation, but a flow that reacts to e.g. incoming emails?\", \"score\": 0.5570788785714287, \"raw_content\": \"Reddit - Dive into anything\\nSkip to main content\\nOpen menu Open navigation  Go to Reddit Home\\nr/LangChain A chip A close button\\nGet App Get the Reddit app Log In Log in to Reddit\\nExpand user menu Open settings menu\\n Go to LangChain\\nr/LangChain\\nr/LangChain\\nLangChain is an open-source framework and developer toolkit that helps developers get LLM applications from prototype to production. It is available for Python and Javascript at https://www.langchain.com/.\\n\\nMembers Online\\n•\\ntisi3000\\nHuman intervention in agent workflows\\nWhen building LLM workflows with LangChain/LangGraph what's the best way to build a node in the workflow where a human can validate/approve/reject a flow? I know there is a Human-in-the-loop component in LangGraph that will prompt the user for input. But what if I'm not creating a user-initiated chat conversation, but a flow that reacts to e.g. incoming emails?\\nI guess I'd have to design my UI so that it's not only a simple single-threaded chat interface, but some sort of inbox, right? Or is there any standard way that comes to mind?\\nRead more\\nTop 3% Rank by size\\nPublic\\nAnyone can view, post, and comment to this community\\nTop Posts\\n\\n\\n\\nReddit\\nreReddit: Top posts of March 20, 2024 * * *\\n\\n\\nReddit\\nreReddit: Top posts of March 2024 * * *\\n\\n\\nReddit\\nreReddit: Top posts of 2024 * * *\\n\\n\\n \\n\\n\\n \\n\\n\\n\\n\\n\\nTOPICS\\n\\n\\nInternet Culture (Viral)\\n\\n\\nAmazing Animals & Pets Cringe & Facepalm Funny Interesting Memes Oddly Satisfying Reddit Meta Wholesome & Heartwarming\\n\\n\\nGames\\n\\n\\nAction Games Adventure Games Esports Gaming Consoles & Gear Gaming News & Discussion Mobile Games Other Games Role-Playing Games Simulation Games Sports & Racing Games Strategy Games*   Tabletop Games\\n\\n\\nQ&As\\n\\n\\nQ&As*   Stories & Confessions\\n\\n\\nTechnology\\n\\n\\n3D Printing Artificial Intelligence & Machine Learning Computers & Hardware Consumer Electronics DIY Electronics Programming Software & Apps Streaming Services Tech News & Discussion*   Virtual & Augmented Reality\\n\\n\\nPop Culture\\n\\n\\nCelebrities Creators & Influencers Generations & Nostalgia Podcasts Streamers*   Tarot & Astrology\\n\\n\\nMovies & TV\\n\\n\\nAction Movies & Series Animated Movies & Series Comedy Movies & Series Crime, Mystery, & Thriller Movies & Series Documentary Movies & Series Drama Movies & Series Fantasy Movies & Series Horror Movies & Series Movie News & Discussion Reality TV Romance Movies & Series Sci-Fi Movies & Series Superhero Movies & Series*   TV News & Discussion\\n\\n\\n\\n\\n\\nRESOURCES\\n\\n\\nAbout Reddit Advertise Help Blog Careers*   Press\\n\\n\\n\\n\\nCommunities Best of Reddit Topics\\n\\n\\n\\nReddit Rules Privacy Policy User Agreement\\n\\nReddit, Inc. © 2025. All rights reserved.\"}, {\"title\": \"LangGraph Workflow for Quality Assurance : r/LangChain - Reddit\", \"url\": \"https://www.reddit.com/r/LangChain/comments/1bsblmu/langgraph_workflow_for_quality_assurance/\", \"content\": \"Members Online\\n•\\nSwimminInIt\\nLangGraph Workflow for Quality Assurance\\nQuestion | Help\\nI've been working on a concept to automate the Quality Assurance (QA) process for complex legal documents using LangGraph, aiming to streamline the workflow, reduce manual effort, and improve compliance efficiency. Handling specific parts of the QA process using AI rather human reviews, from initial document submission to final approval. [...] Reddit - Dive into anything\\nSkip to main content\\nOpen menu Open navigation  Go to Reddit Home\\nr/LangChain A chip A close button\\nGet App Get the Reddit app Log In Log in to Reddit\\nExpand user menu Open settings menu\\n Go to LangChain\\nr/LangChain\\nr/LangChain\\nLangChain is an open-source framework and developer toolkit that helps developers get LLM applications from prototype to production. It is available for Python and Javascript at https://www.langchain.com/. [...] Document Submission (Manual User Action): Entry point for examiners to submit documents.\\n\\n\\nPre-Processing Node (Script for Data Manipulation): Handles initial formatting and basic validation.\\n\\n\\nPolicy Compliance Checker Node (PCCN): Checks documents against policy rules.\\n\\n\\nError Suggestion Node (ESN): Identifies compliance issues and suggests corrections.\\n\\n\\nQuality Assurance Node (QAN): Final review to ensure document quality.\", \"score\": 0.48989809114285715, \"raw_content\": \"Reddit - Dive into anything\\nSkip to main content\\nOpen menu Open navigation  Go to Reddit Home\\nr/LangChain A chip A close button\\nGet App Get the Reddit app Log In Log in to Reddit\\nExpand user menu Open settings menu\\n Go to LangChain\\nr/LangChain\\nr/LangChain\\nLangChain is an open-source framework and developer toolkit that helps developers get LLM applications from prototype to production. It is available for Python and Javascript at https://www.langchain.com/.\\n\\nMembers Online\\n•\\nSwimminInIt\\nLangGraph Workflow for Quality Assurance\\nQuestion | Help\\nI've been working on a concept to automate the Quality Assurance (QA) process for complex legal documents using LangGraph, aiming to streamline the workflow, reduce manual effort, and improve compliance efficiency. Handling specific parts of the QA process using AI rather human reviews, from initial document submission to final approval.\\nI see a ton of people talking about document chat and integration with knowledge repos. Rather than just providing information I am looking to perform QA on the documents itself.\\nHere's a brief overview of the workflow:\\n\\n\\nDocument Submission (Manual User Action): Entry point for examiners to submit documents.\\n\\n\\nPre-Processing Node (Script for Data Manipulation): Handles initial formatting and basic validation.\\n\\n\\nPolicy Compliance Checker Node (PCCN): Checks documents against policy rules.\\n\\n\\nError Suggestion Node (ESN): Identifies compliance issues and suggests corrections.\\n\\n\\nQuality Assurance Node (QAN): Final review to ensure document quality.\\n\\n\\nFeedback and Interaction Node (FIN): Where examiners review AI suggestions and apply corrections.\\n\\n\\nApproval and Compliance Marking Node (ACMN): Marks documents as approved.\\n\\n\\nSome questions I have are:\\n\\n\\nHas anyone automated a Quality Assurance process with langchain/graph?\\n\\n\\nIf yes, what was successful or what did not work?\\n\\n\\nAny suggestions on how to improve my approach?\\n\\n\\nAre there any examples you are aware of I could use as a reference?\\n\\n\\nI appreciate any help and thoughts on the topic!\\nRead more\\nTop 3% Rank by size\\nPublic\\nAnyone can view, post, and comment to this community\\nTop Posts\\n\\n\\n\\nReddit\\nreReddit: Top posts of March 31, 2024 * * *\\n\\n\\nReddit\\nreReddit: Top posts of March 2024 * * *\\n\\n\\nReddit\\nreReddit: Top posts of 2024 * * *\\n\\n\\n \\n\\n\\n \\n\\n\\n\\n\\n\\nTOPICS\\n\\n\\nInternet Culture (Viral)\\n\\n\\nAmazing Animals & Pets Cringe & Facepalm Funny Interesting Memes Oddly Satisfying Reddit Meta Wholesome & Heartwarming\\n\\n\\nGames\\n\\n\\nAction Games Adventure Games Esports Gaming Consoles & Gear Gaming News & Discussion Mobile Games Other Games Role-Playing Games Simulation Games Sports & Racing Games Strategy Games*   Tabletop Games\\n\\n\\nQ&As\\n\\n\\nQ&As*   Stories & Confessions\\n\\n\\nTechnology\\n\\n\\n3D Printing Artificial Intelligence & Machine Learning Computers & Hardware Consumer Electronics DIY Electronics Programming Software & Apps Streaming Services Tech News & Discussion*   Virtual & Augmented Reality\\n\\n\\nPop Culture\\n\\n\\nCelebrities Creators & Influencers Generations & Nostalgia Podcasts Streamers*   Tarot & Astrology\\n\\n\\nMovies & TV\\n\\n\\nAction Movies & Series Animated Movies & Series Comedy Movies & Series Crime, Mystery, & Thriller Movies & Series Documentary Movies & Series Drama Movies & Series Fantasy Movies & Series Horror Movies & Series Movie News & Discussion Reality TV Romance Movies & Series Sci-Fi Movies & Series Superhero Movies & Series*   TV News & Discussion\\n\\n\\n\\n\\n\\nRESOURCES\\n\\n\\nAbout Reddit Advertise Help Blog Careers*   Press\\n\\n\\n\\n\\nCommunities Best of Reddit Topics\\n\\n\\n\\nReddit Rules Privacy Policy User Agreement\\n\\nReddit, Inc. © 2025. All rights reserved.\"}]\n",
      "==================================\u001b[1m Ai Message \u001b[0m==================================\n",
      "\n",
      "Based on the information provided in the tool responses, here are some insights and suggestions for your Quality Assurance (QA) process using LangChain:\n",
      "\n",
      "1. **Document Submission**: This is a manual user action where examiners submit documents. Ensure that this step includes clear instructions and guidelines to minimize errors.\n",
      "\n",
      "2. **Pre-Processing Node**: This node handles initial formatting and basic validation. Consider automating as much of the pre-processing as possible, such as checking file types, sizes, and basic structural integrity.\n",
      "\n",
      "3. **Policy Compliance Checker Node (PCCN)**: This is crucial for ensuring that documents adhere to policy rules. You can use LangChain's capabilities to integrate with existing policies or create custom rules. Ensure that this node is robust enough to handle various document formats and content types.\n",
      "\n",
      "4. **Error Suggestion Node (ESN)**: This node identifies compliance issues and suggests corrections. Use natural language processing (NLP) techniques to generate meaningful suggestions. You can also incorporate machine learning models trained on historical data to improve accuracy over time.\n",
      "\n",
      "5. **Quality Assurance Node (QAN)**: This is the final review step where human examiners should verify the document's quality after AI-generated suggestions have been applied. Ensure that this node includes clear guidelines and feedback mechanisms for examiners.\n",
      "\n",
      "6. **Feedback and Interaction Node (FIN)**: This node allows examiners to review AI suggestions and apply corrections. Implement a user-friendly interface that provides easy access to previous steps, suggested changes, and the ability to mark documents as approved or require further action.\n",
      "\n",
      "7. **Approval and Compliance Marking Node (ACMN)**: This marks documents as approved once they meet all quality standards. Ensure that this node is integrated with any necessary compliance tracking systems.\n",
      "\n",
      "### Suggestions for Improvement:\n",
      "- **Integration with Existing Systems**: If you are integrating this process into an existing workflow, ensure seamless integration with other tools and databases.\n",
      "- **User Training**: Provide training sessions for examiners to familiarize them with the new system and its features.\n",
      "- **Continuous Learning**: Implement a feedback loop where examiners can provide input on AI-generated suggestions. Use this data to continuously improve the accuracy of your models.\n",
      "- **Security Measures**: Ensure that sensitive documents are handled securely, especially during pre-processing and final review stages.\n",
      "\n",
      "### Examples for Reference:\n",
      "While specific examples were not provided in the responses, you might find inspiration from other industries where similar processes have been automated. For instance, financial services often use AI for document verification and compliance checks. You can also look at case studies or whitepapers on using LangChain for similar applications.\n",
      "\n",
      "By following these guidelines, you should be able to create a robust Quality Assurance process that leverages the strengths of both human expertise and machine learning.\n"
     ]
    }
   ],
   "source": [
    "# Output the final result\n",
    "for msg in graph.get_state(config).values[\"messages\"]:\n",
    "    msg.pretty_print()"
   ]
  },
  {
   "cell_type": "code",
   "execution_count": null,
   "metadata": {},
   "outputs": [],
   "source": []
  }
 ],
 "metadata": {
  "kernelspec": {
   "display_name": "langchain",
   "language": "python",
   "name": "python3"
  },
  "language_info": {
   "codemirror_mode": {
    "name": "ipython",
    "version": 3
   },
   "file_extension": ".py",
   "mimetype": "text/x-python",
   "name": "python",
   "nbconvert_exporter": "python",
   "pygments_lexer": "ipython3",
   "version": "3.10.16"
  }
 },
 "nbformat": 4,
 "nbformat_minor": 2
}
