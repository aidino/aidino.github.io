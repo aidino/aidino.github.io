{
 "cells": [
  {
   "cell_type": "markdown",
   "metadata": {},
   "source": [
    "# Understanding Common Python Syntax Used in LangGraph\n",
    "\n",
    "LangGraph là một framework mạnh mẽ cho phép bạn thiết kế các quy trình làm việc phức tạp cho mô hình ngôn ngữ bằng cấu trúc dựa trên đồ thị. Nó tăng cường tính mô-đun, khả năng mở rộng và hiệu quả trong việc xây dựng các ứng dụng dựa trên AI.\n",
    "\n",
    "Hướng dẫn này giải thích các khái niệm Python quan trọng thường được sử dụng trong LangGraph, bao gồm `TypedDict`, `Annotated` và hàm `add_messages`. Chúng ta cũng sẽ so sánh các khái niệm này với các tính năng Python tiêu chuẩn để làm nổi bật lợi ích và các trường hợp sử dụng điển hình của chúng.\n",
    "\n"
   ]
  },
  {
   "cell_type": "markdown",
   "metadata": {},
   "source": [
    "## TypedDict\n",
    "\n",
    "`TypedDict`, một tính năng trong module `typing` của Python, cho phép các nhà phát triển định nghĩa các dictionary có cấu trúc cố định và các kiểu key-value rõ ràng. Điều này tăng cường tính an toàn kiểu và cải thiện khả năng đọc code.\n",
    "\n",
    "### Sự khác biệt chính giữa `dict` và `TypedDict`\n",
    "\n",
    "1. **Kiểm tra kiểu dữ liệu (Type Checking)**\n",
    "- `dict`: Không cung cấp kiểm tra kiểu dữ liệu trong quá trình runtime và phát triển.\n",
    "- `TypedDict`: Hỗ trợ kiểm tra kiểu dữ liệu tĩnh bằng các công cụ như `mypy` hoặc IDE có chức năng kiểm tra kiểu dữ liệu được bật.\n",
    "\n",
    "2. **Đặc tả Key và Value**\n",
    "- `dict`: Đặc tả các kiểu key-value chung (ví dụ: `Dict[str, str]`).\n",
    "- `TypedDict`: Định nghĩa rõ ràng các key chính xác và các kiểu tương ứng của chúng.\n",
    "\n",
    "3. **Tính linh hoạt (Flexibility)**\n",
    "- `dict`: Cho phép thêm hoặc xóa các key trong quá trình runtime mà không bị hạn chế.\n",
    "- `TypedDict`: Bắt buộc một cấu trúc được xác định trước, cấm các key bổ sung trừ khi được chỉ định cụ thể.\n",
    "\n",
    "### Lợi ích của việc sử dụng `TypedDict`\n",
    "- **An toàn kiểu dữ liệu (Type Safety)**: Gây ra lỗi trong quá trình phát triển.\n",
    "- **Khả năng đọc (Readability)**: Cung cấp một lược đồ rõ ràng cho các dictionary.\n",
    "- **Hỗ trợ IDE (IDE Support)**: Tăng cường tính năng tự động hoàn thành và tài liệu.\n",
    "- **Tài liệu (Documentation)**: Phục vụ như code tự ghi chú.\n"
   ]
  },
  {
   "cell_type": "code",
   "execution_count": 8,
   "metadata": {},
   "outputs": [],
   "source": [
    "from typing import Dict, TypedDict\n",
    "\n",
    "# Standard python usage\n",
    "sample_dict: Dict[str, str] = {\n",
    "    \"name\": \"Dino\",\n",
    "    \"age\": \"30\",\n",
    "    \"job\": \"Developper\"\n",
    "}\n",
    "\n",
    "# Using TypeDict\n",
    "class Person(TypedDict):\n",
    "    name: str\n",
    "    age: int\n",
    "    job: str\n",
    "\n",
    "\n",
    "typed_dict: Person = {\n",
    "    \"name\": \"Thai\", \n",
    "    \"age\" : 33,\n",
    "    \"job\": \"AI Engineer\"\n",
    "}\n"
   ]
  },
  {
   "cell_type": "code",
   "execution_count": 9,
   "metadata": {},
   "outputs": [],
   "source": [
    "# Behavior with a standard dictionary\n",
    "sample_dict[\"age\"] = 33"
   ]
  },
  {
   "cell_type": "code",
   "execution_count": 10,
   "metadata": {},
   "outputs": [
    {
     "data": {
      "text/plain": [
       "{'name': 'Dino', 'age': 33, 'job': 'Developper'}"
      ]
     },
     "execution_count": 10,
     "metadata": {},
     "output_type": "execute_result"
    }
   ],
   "source": [
    "sample_dict"
   ]
  },
  {
   "cell_type": "code",
   "execution_count": 14,
   "metadata": {},
   "outputs": [],
   "source": [
    "# Behavior with TypedDict\n",
    "typed_dict[\"age\"] = 35  # Correct usage\n",
    "typed_dict[\"age\"] = \"35\"  # Error: Type mismatch detected by type checker\n",
    "typed_dict[\"new_field\"] = \"Additional Info\"  # Error: Key not defined in TypedDict"
   ]
  },
  {
   "cell_type": "markdown",
   "metadata": {},
   "source": [
    "Những lợi ích của `TypedDict` được làm nổi bật khi được sử dụng cùng với các công cụ kiểm tra kiểu dữ liệu tĩnh như `mypy`, và trở nên rõ ràng trên các IDE như PyCharm hoặc VS Code, nơi tính năng kiểm tra kiểu dữ liệu được bật. Các công cụ này phát hiện các sự không nhất quán về kiểu dữ liệu và các key không xác định trong quá trình phát triển, cung cấp phản hồi vô giá để ngăn chặn các lỗi runtime.\n"
   ]
  },
  {
   "cell_type": "markdown",
   "metadata": {},
   "source": [
    "## Annotated\n",
    "\n",
    "`Annotated`, cũng nằm trong module `typing` của Python, cho phép thêm metadata vào các gợi ý kiểu dữ liệu (type hints). Tính năng này hỗ trợ chức năng với ngữ cảnh bổ sung, cải thiện độ rõ ràng và khả năng sử dụng của code cho cả nhà phát triển và các công cụ phát triển. Ví dụ: metadata có thể đóng vai trò là tài liệu bổ sung cho người đọc hoặc truyền tải thông tin hữu ích cho các công cụ.\n",
    "\n",
    "### Lợi ích của việc sử dụng `Annotated`\n",
    "\n",
    "- **Ngữ cảnh bổ sung (Additional Context)**: Thêm metadata để làm phong phú các gợi ý kiểu dữ liệu, cải thiện độ rõ ràng cho cả nhà phát triển và công cụ.\n",
    "\n",
    "- **Tài liệu nâng cao (Enhanced Documentation)**: Đóng vai trò là tài liệu tự chứa có thể làm rõ mục đích và các ràng buộc của biến.\n",
    "\n",
    "- **Xác thực (Validation)**: Tích hợp với các thư viện như Pydantic để thực thi xác thực dữ liệu dựa trên metadata được annotated.\n",
    "\n",
    "- **Hành vi dành riêng cho Framework (Framework-Specific Behavior)**: Cho phép các tính năng nâng cao trong các framework như LangGraph bằng cách định nghĩa các hoạt động chuyên biệt.\n",
    "\n",
    "### Cú pháp\n",
    "\n",
    "- Type: Định nghĩa kiểu dữ liệu của biến (ví dụ: `int`, `str`, `List[str]`, v.v.).\n",
    "- Metadata: Thêm thông tin mô tả về biến (ví dụ: `\"unit: cm\"`, `\"range: 0-100\"`).\n"
   ]
  },
  {
   "cell_type": "code",
   "execution_count": 15,
   "metadata": {},
   "outputs": [],
   "source": [
    "from typing import Annotated\n",
    "\n",
    "name: Annotated[str, \"User name\"]\n",
    "age: Annotated[int, \"User's age (0-150)\"]"
   ]
  },
  {
   "cell_type": "code",
   "execution_count": 18,
   "metadata": {},
   "outputs": [],
   "source": [
    "# Example with pydantic\n",
    "from typing import Annotated, List\n",
    "from pydantic import Field, BaseModel, ValidationError\n",
    "\n",
    "class Employee(BaseModel):\n",
    "    id: Annotated[int, Field(..., description=\"Employee ID\")]\n",
    "    name: Annotated[str, Field(..., min_length=3, max_length=50, description=\"Name\")]\n",
    "    age: Annotated[int, Field(gt=18, lt=64, description=\"Age (19-64)\")]\n",
    "    salary: Annotated[float, Field(gt=0, lt=10_000, description=\"Salary (in units of 10,000, up to 10 billion)\")]\n",
    "    skills: Annotated[List[str], Field(description=\"Skills (1-10 items)\", min_length=1, max_length=10)]"
   ]
  },
  {
   "cell_type": "code",
   "execution_count": 24,
   "metadata": {},
   "outputs": [
    {
     "name": "stdout",
     "output_type": "stream",
     "text": [
      "ValidationError: \n",
      "- age: Input should be less than 64\n",
      "- salary: Input should be less than 10000\n"
     ]
    }
   ],
   "source": [
    "# Example of valid data\n",
    "try:\n",
    "    valid_employee = Employee(\n",
    "        id=1,\n",
    "        name=\"Dino\",\n",
    "        age=333,\n",
    "        salary=10000,\n",
    "        skills=['Langchain', 'Langgraph']\n",
    "    )\n",
    "except ValidationError as e:\n",
    "    print(\"ValidationError: \")\n",
    "    for error in e.errors():\n",
    "        print(f\"- {error['loc'][0]}: {error['msg']}\")"
   ]
  },
  {
   "cell_type": "markdown",
   "metadata": {},
   "source": [
    "## add_messages\n",
    "\n",
    "Hàm reducer `add_messages`, được tham chiếu bởi khóa `messages`, hướng dẫn LangGraph thêm các tin nhắn mới vào danh sách hiện có.\n",
    "\n",
    "Trong các trường hợp mà các khóa trạng thái không có chú thích (annotations), mỗi lần cập nhật sẽ ghi đè giá trị trước đó, chỉ giữ lại dữ liệu gần đây nhất.\n",
    "\n",
    "Hàm `add_messages` hợp nhất hai đầu vào (`left` và `right`) thành một danh sách tin nhắn được hợp nhất.\n",
    "\n",
    "### Các Tính Năng Chính\n",
    "\n",
    "-   **Hợp Nhất Danh Sách Tin Nhắn (Message Lists Merging)**: Kết hợp hai danh sách tin nhắn riêng biệt thành một danh sách thống nhất.\n",
    "-   **Duy Trì Trạng Thái Chỉ Thêm (Append-Only State Maintenance)**: Đảm bảo các tin nhắn mới được thêm vào trong khi vẫn giữ nguyên các tin nhắn hiện có.\n",
    "-   **Tin Nhắn Có ID Trùng Khớp (Messages with Matching IDs)**: Nếu một tin nhắn đến trong `right` có ID trùng với một tin nhắn hiện có trong `left`, nó sẽ thay thế tin nhắn hiện có. Tất cả các tin nhắn còn lại từ `right` sẽ được thêm vào `left`.\n",
    "\n",
    "### Tham Số:\n",
    "\n",
    "-   `left` (Messages): Danh sách tin nhắn ban đầu.\n",
    "-   `right` (Messages): Danh sách các tin nhắn mới để hợp nhất hoặc một tin nhắn đơn lẻ để thêm vào.\n",
    "\n",
    "### Đầu Ra:\n",
    "\n",
    "-   `Messages`: Trả về một danh sách tin nhắn mới với các thay thế như mô tả ở trên, hợp nhất `right` vào `left`.\n",
    "\n",
    "\n",
    "Note: \n",
    "\n",
    "`add_messages` hợp nhất các danh sách tin nhắn bằng cách thêm các tin nhắn mới khi ID khác nhau và thay thế các tin nhắn hiện có nếu ID trùng khớp.\n",
    "\n"
   ]
  },
  {
   "cell_type": "code",
   "execution_count": 26,
   "metadata": {},
   "outputs": [
    {
     "name": "stdout",
     "output_type": "stream",
     "text": [
      "[HumanMessage(content='Hello!!!', additional_kwargs={}, response_metadata={}, id='1'), AIMessage(content='nice to meet you', additional_kwargs={}, response_metadata={}, id='2')]\n"
     ]
    }
   ],
   "source": [
    "from unittest import result\n",
    "from langchain_core.messages import AIMessage, HumanMessage\n",
    "from langgraph.graph.message import add_messages\n",
    "\n",
    "# Example 1: Merging two message lists\n",
    "# `msgs1` and `msgs2` are combined into a single list without overlapping IDs.\n",
    "\n",
    "msgs1: list = [HumanMessage(content=\"Hello!!!\", id=\"1\")]\n",
    "msgs2: list = [AIMessage(content=\"nice to meet you\", id=\"2\")]\n",
    "\n",
    "result1 = add_messages(msgs1, msgs2)\n",
    "print(result1)"
   ]
  },
  {
   "cell_type": "code",
   "execution_count": 27,
   "metadata": {},
   "outputs": [
    {
     "name": "stdout",
     "output_type": "stream",
     "text": [
      "[AIMessage(content='nice to meet you', additional_kwargs={}, response_metadata={}, id='1')]\n"
     ]
    }
   ],
   "source": [
    "# Example 2: Replacing messages with the same ID\n",
    "# If `msgs2` contains a message with the same ID as one in `msgs1`,\n",
    "# the message in `msgs2` replaces the corresponding message in `msgs1`.\n",
    "msgs1: list = [HumanMessage(content=\"Hello!!!\", id=\"1\")]\n",
    "msgs2: list = [AIMessage(content=\"nice to meet you\", id=\"1\")]\n",
    "\n",
    "result2 = add_messages(msgs1, msgs2)\n",
    "print(result2)"
   ]
  },
  {
   "cell_type": "code",
   "execution_count": null,
   "metadata": {},
   "outputs": [],
   "source": []
  }
 ],
 "metadata": {
  "kernelspec": {
   "display_name": "langchain",
   "language": "python",
   "name": "python3"
  },
  "language_info": {
   "codemirror_mode": {
    "name": "ipython",
    "version": 3
   },
   "file_extension": ".py",
   "mimetype": "text/x-python",
   "name": "python",
   "nbconvert_exporter": "python",
   "pygments_lexer": "ipython3",
   "version": "3.10.16"
  }
 },
 "nbformat": 4,
 "nbformat_minor": 2
}
