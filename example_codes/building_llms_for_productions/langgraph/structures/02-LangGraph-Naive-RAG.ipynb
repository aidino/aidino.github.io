{
 "cells": [
  {
   "cell_type": "markdown",
   "metadata": {},
   "source": [
    "# Naive RAG"
   ]
  },
  {
   "cell_type": "markdown",
   "metadata": {},
   "source": [
    "## Quy trình\n",
    "\n",
    "Thực hiện `Naive RAG`, hệ thống RAG cơ bản có 2 bước tiến trình, **Retrieve** (Truy xuất) và **Generate** (Tạo).\n",
    "\n",
    "Bạn có thể xem cấu trúc trong hình ảnh bên dưới.\n",
    "\n",
    "![](./assets/02-langgraph-naive-rag.png)"
   ]
  },
  {
   "cell_type": "markdown",
   "metadata": {},
   "source": [
    "## Creating a Basic PDF-Based Retrieval Chain\n",
    "\n",
    "Phần này tạo một Retrieval Chain dựa trên một **tài liệu PDF**. Đây là cấu trúc đơn giản nhất của một Retrieval Chain.\n",
    "\n",
    "Trong `LangGraph`, Retrievers và Chains được tạo riêng biệt. Điều này cho phép xử lý chi tiết cho từng node."
   ]
  },
  {
   "cell_type": "code",
   "execution_count": 1,
   "metadata": {},
   "outputs": [],
   "source": [
    "import os\n",
    "os.environ[\"LANGSMITH_TRACING\"] = \"false\"\n",
    "os.environ[\"LANGCHAIN_TRACING_V2\"] = \"false\""
   ]
  },
  {
   "cell_type": "code",
   "execution_count": 2,
   "metadata": {},
   "outputs": [],
   "source": [
    "from rag.pdf import PDFRetrievalChain\n",
    "\n",
    "pdf = PDFRetrievalChain([\n",
    "    'data/vneid.pdf'\n",
    "]).create_chain()\n"
   ]
  },
  {
   "cell_type": "code",
   "execution_count": 3,
   "metadata": {},
   "outputs": [],
   "source": [
    "# Create retriever and chain\n",
    "pdf_retriever = pdf.retriever\n",
    "pdf_chain = pdf.chain"
   ]
  },
  {
   "cell_type": "markdown",
   "metadata": {},
   "source": [
    "First, use the `pdf_retriever` to fetch search results.\n",
    "\n",
    "You can control the quantity to retrieve, by changing `self_k` argument in `pdf.py` file."
   ]
  },
  {
   "cell_type": "code",
   "execution_count": 4,
   "metadata": {},
   "outputs": [
    {
     "data": {
      "text/plain": [
       "[Document(id='02108b51-0a32-42a3-8a32-dffa9411e7d5', metadata={'source': 'data/vneid.pdf', 'file_path': 'data/vneid.pdf', 'page': 90, 'total_pages': 136, 'Author': 'Sâm Nhung', 'Creator': 'Microsoft® Word 2010', 'CreationDate': \"D:20220801141803+07'00'\", 'ModDate': \"D:20220801141803+07'00'\", 'Producer': 'Microsoft® Word 2010'}, page_content='nhập passcode, nhập đúng passcode \\uf0e0 Hiển thị thông tin Đăng ký xe'),\n",
       " Document(id='297fbea9-e144-4083-8375-7ce778c1e1c2', metadata={'source': 'data/vneid.pdf', 'file_path': 'data/vneid.pdf', 'page': 91, 'total_pages': 136, 'Author': 'Sâm Nhung', 'Creator': 'Microsoft® Word 2010', 'CreationDate': \"D:20220801141803+07'00'\", 'ModDate': \"D:20220801141803+07'00'\", 'Producer': 'Microsoft® Word 2010'}, page_content='91\\nHình 2.9-8 Màn hình chọn Đăng ký xe Hình 2.9-9 Thông tin đăng ký xe\\n2.9.5 Giấy phép lái xe\\n\\uf076 Mục đích: Cho phép NSD xem thông tin giấy phép lái xe\\n\\uf076 Cách thực hiện:\\n- Tại màn hình thông tin cá nhân, NSD nhấn Giấy phép lái xe \\uf0e0 Hiển thị màn'),\n",
       " Document(id='ac673492-8d1f-4835-b604-413745b5b2f5', metadata={'source': 'data/vneid.pdf', 'file_path': 'data/vneid.pdf', 'page': 91, 'total_pages': 136, 'Author': 'Sâm Nhung', 'Creator': 'Microsoft® Word 2010', 'CreationDate': \"D:20220801141803+07'00'\", 'ModDate': \"D:20220801141803+07'00'\", 'Producer': 'Microsoft® Word 2010'}, page_content='hình nhập passcode, nhập đúng passcode \\uf0e0 Hiển thị màn hình Giấp phép lái xe.\\n- Nếu thời hạn giấy phép lái xe sắp hết thì sẽ được bôi đỏ.'),\n",
       " Document(id='d4331574-27fd-4bf8-8c24-303a8c57e35f', metadata={'source': 'data/vneid.pdf', 'file_path': 'data/vneid.pdf', 'page': 90, 'total_pages': 136, 'Author': 'Sâm Nhung', 'Creator': 'Microsoft® Word 2010', 'CreationDate': \"D:20220801141803+07'00'\", 'ModDate': \"D:20220801141803+07'00'\", 'Producer': 'Microsoft® Word 2010'}, page_content='90\\nHình 2.9-6 Màn hình nhập Hình 2.9-7 Màn hình Thông tin\\npasscode căn cước công dân\\n2.9.4 Đăng ký xe\\n\\uf076 Mục đích: Cho phép NSD xem thông tin đăng ký xe\\n\\uf076 Cách thực hiện:\\n- Tại màn hình thông tin cá nhân, NSD nhấn Đăng ký xe \\uf0e0 Hiển thị màn hình'),\n",
       " Document(id='19a9f95f-c54c-4455-a340-436bfb5f7326', metadata={'source': 'data/vneid.pdf', 'file_path': 'data/vneid.pdf', 'page': 1, 'total_pages': 136, 'Author': 'Sâm Nhung', 'Creator': 'Microsoft® Word 2010', 'CreationDate': \"D:20220801141803+07'00'\", 'ModDate': \"D:20220801141803+07'00'\", 'Producer': 'Microsoft® Word 2010'}, page_content='2.9.4 Đăng ký xe ..................................................................................................... 90\\n2.9.5 Giấy phép lái xe ............................................................................................. 91'),\n",
       " Document(id='852d00da-4276-4dfc-80d7-31ff3e80b2e1', metadata={'source': 'data/vneid.pdf', 'file_path': 'data/vneid.pdf', 'page': 49, 'total_pages': 136, 'Author': 'Sâm Nhung', 'Creator': 'Microsoft® Word 2010', 'CreationDate': \"D:20220801141803+07'00'\", 'ModDate': \"D:20220801141803+07'00'\", 'Producer': 'Microsoft® Word 2010'}, page_content='và thực hiện chụp ảnh chân dung theo hướng dẫn\\n+ Sau đó ứng dụng sẽ lưu ảnh vào hồ sơ đăng ký'),\n",
       " Document(id='46f526a7-af1f-423a-8ccd-54b9da91dfec', metadata={'source': 'data/vneid.pdf', 'file_path': 'data/vneid.pdf', 'page': 92, 'total_pages': 136, 'Author': 'Sâm Nhung', 'Creator': 'Microsoft® Word 2010', 'CreationDate': \"D:20220801141803+07'00'\", 'ModDate': \"D:20220801141803+07'00'\", 'Producer': 'Microsoft® Word 2010'}, page_content='92\\nHình 2.9-10 Màn hình chọn Giấy Hình 2.9-11 Thông tin đăng ký xe\\nphép lái xe\\n2.9.6 Thẻ BHYT\\n\\uf076 Mục đích: Cho phép NSD xem thông tin thẻ BHYT\\n\\uf076 Cách thực hiện:\\n- Tại màn hình thông tin cá nhân, NSD nhấn Thẻ BHYT \\uf0e0 Hiển thị màn hình\\nnhập passcode, nhập đúng passcode \\uf0e0 Hiển thị màn hình Thẻ BHYT'),\n",
       " Document(id='b980c663-f0a1-4471-b50e-5729f3735fee', metadata={'source': 'data/vneid.pdf', 'file_path': 'data/vneid.pdf', 'page': 16, 'total_pages': 136, 'Author': 'Sâm Nhung', 'Creator': 'Microsoft® Word 2010', 'CreationDate': \"D:20220801141803+07'00'\", 'ModDate': \"D:20220801141803+07'00'\", 'Producer': 'Microsoft® Word 2010'}, page_content='điện thoại của mình để đăng ký.\\nHình 2.2-1 Giao diện đăng ký trên app\\n- Bước 2: Sau khi nhập thông tin hợp lệ ấn Đăng ký thì hiển thị giao diện\\nquét mã QR code thẻ CCCD, NSD đưa mã QR trên thẻ CCCD gắn chip vào\\nkhung hình.'),\n",
       " Document(id='d14bec50-65cd-4156-80e3-9fc97e26087e', metadata={'source': 'data/vneid.pdf', 'file_path': 'data/vneid.pdf', 'page': 94, 'total_pages': 136, 'Author': 'Sâm Nhung', 'Creator': 'Microsoft® Word 2010', 'CreationDate': \"D:20220801141803+07'00'\", 'ModDate': \"D:20220801141803+07'00'\", 'Producer': 'Microsoft® Word 2010'}, page_content='hình nhập passcode, nhập đúng passcode \\uf0e0 Hiển thị màn hình Thông tin thuế'),\n",
       " Document(id='24e39e57-910d-4e9c-a34e-0c3ed8cd40b5', metadata={'source': 'data/vneid.pdf', 'file_path': 'data/vneid.pdf', 'page': 95, 'total_pages': 136, 'Author': 'Sâm Nhung', 'Creator': 'Microsoft® Word 2010', 'CreationDate': \"D:20220801141803+07'00'\", 'ModDate': \"D:20220801141803+07'00'\", 'Producer': 'Microsoft® Word 2010'}, page_content='hình nhập passcode, nhập đúng passcode \\uf0e0 Hiển thị màn hình Người phụ thuộc')]"
      ]
     },
     "execution_count": 4,
     "metadata": {},
     "output_type": "execute_result"
    }
   ],
   "source": [
    "search_result = pdf_retriever.invoke(\n",
    "    \"Cách thêm giấy phép lái xe vào ứng dụng?\"\n",
    ")\n",
    "search_result"
   ]
  },
  {
   "cell_type": "code",
   "execution_count": 9,
   "metadata": {},
   "outputs": [
    {
     "data": {
      "text/plain": [
       "{'source': 'data/vneid.pdf',\n",
       " 'file_path': 'data/vneid.pdf',\n",
       " 'page': 90,\n",
       " 'total_pages': 136,\n",
       " 'Author': 'Sâm Nhung',\n",
       " 'Creator': 'Microsoft® Word 2010',\n",
       " 'CreationDate': \"D:20220801141803+07'00'\",\n",
       " 'ModDate': \"D:20220801141803+07'00'\",\n",
       " 'Producer': 'Microsoft® Word 2010'}"
      ]
     },
     "execution_count": 9,
     "metadata": {},
     "output_type": "execute_result"
    }
   ],
   "source": [
    "search_result[0].metadata"
   ]
  },
  {
   "cell_type": "markdown",
   "metadata": {},
   "source": [
    "Pass the search result as context to the chain."
   ]
  },
  {
   "cell_type": "code",
   "execution_count": 5,
   "metadata": {},
   "outputs": [
    {
     "name": "stdout",
     "output_type": "stream",
     "text": [
      "Dựa trên thông tin được cung cấp từ các văn bản, tôi có thể tóm tắt một số điểm chính về quy trình đăng ký và quản lý hồ sơ CCCD (Thẻ CCCD) như sau:\n",
      "\n",
      "1. Đăng ký: Người dân có thể đăng ký trực tuyến qua ứng dụng hoặc website của cơ quan chức năng.\n",
      "\n",
      "2. Quy trình:\n",
      "   - Bước 1: Nhập thông tin cá nhân\n",
      "   - Bước 2: Quét mã QR code trên thẻ CCCD gắn chip\n",
      "   - Bước 3: Chụp ảnh chân dung theo hướng dẫn\n",
      "\n",
      "3. Quản lý hồ sơ:\n",
      "   - Có thể xem và quản lý các thông tin như giấy phép lái xe, thẻ BHYT, thuế, người phụ thuộc.\n",
      "   - Cần nhập passcode để truy cập vào từng mục.\n",
      "\n",
      "4. Các chức năng chính:\n",
      "   - Chọn giấy phép lái xe\n",
      "   - Xem thông tin đăng ký xe\n",
      "   - Xem thông tin thẻ BHYT\n",
      "   - Xem thông tin thuế\n",
      "   - Xem thông tin người phụ thuộc\n",
      "\n",
      "5. Lưu trữ ảnh: Ứng dụng sẽ lưu ảnh chân dung vào hồ sơ đăng ký.\n",
      "\n",
      "Nếu bạn có câu hỏi cụ thể hơn về một bước nào đó trong quy trình, tôi rất vui lòng giúp đỡ!\n"
     ]
    }
   ],
   "source": [
    "# Generate an answer based on the search results\n",
    "answer = pdf_chain.invoke(\n",
    "    {\n",
    "        \"question\": \"Cách thêm giấy phép lái xe vào ứng dụng?\",\n",
    "        \"context\": search_result,\n",
    "        \"chat_history\": [],\n",
    "    }\n",
    ")\n",
    "print(answer)"
   ]
  },
  {
   "cell_type": "markdown",
   "metadata": {},
   "source": [
    "## Defining State\n",
    "\n",
    "`State` defines the **shared state** among the nodes and another nodes.\n",
    "\n",
    "Typically, the `TypedDict` format is used."
   ]
  },
  {
   "cell_type": "code",
   "execution_count": 6,
   "metadata": {},
   "outputs": [],
   "source": [
    "from typing import Annotated, TypedDict\n",
    "from langgraph.graph.message import add_messages\n",
    "\n",
    "# Define GraphState\n",
    "class GraphState(TypedDict):\n",
    "    question: Annotated[str, \"Question\"]  # Question\n",
    "    context: Annotated[str, \"Context\"]  # Search results from the document\n",
    "    answer: Annotated[str, \"Answer\"]  # Answer\n",
    "    messages: Annotated[list, add_messages]  # Messages (accumulated list)"
   ]
  },
  {
   "cell_type": "markdown",
   "metadata": {},
   "source": [
    "## Defining Nodes\n",
    "\n",
    "`Nodes` : These are nodes that handle each stage, typically implemented as Python functions. Inputs and outputs are the State values.\n",
    "\n",
    "[ **Note** ]  \n",
    "- A `State` is taken as input, performs the defined logic, and returns an **updated** `State` ."
   ]
  },
  {
   "cell_type": "code",
   "execution_count": null,
   "metadata": {},
   "outputs": [],
   "source": [
    "from rag.utils import format_docs\n",
    "from rag.messages import messages_to_history\n",
    "\n",
    "# Node that retrieve document\n",
    "def retrieve_document(state: GraphState) -> GraphState:\n",
    "    # Get the question from the state\n",
    "    latest_question = state[\"question\"]\n",
    "\n",
    "    # Search the document to find relevant sections\n",
    "    retrieved_docs = pdf_retriever.invoke(latest_question)\n",
    "\n",
    "    # Format the retrieved documents (to input into a prompt)\n",
    "    retrieved_docs = format_docs(retrieved_docs)\n",
    "    \n",
    "    # Save the retrieved documents in the key named context\n",
    "    return {\"context\": retrieved_docs} # type: ignore\n",
    "\n",
    "\n",
    "# Node that generate answer\n",
    "def llm_answer(state: GraphState) -> GraphState:\n",
    "    # Get the question from the state\n",
    "    latest_question = state[\"question\"]\n",
    "\n",
    "    # Get the retrieved documents from the state\n",
    "    context = state[\"context\"]\n",
    "\n",
    "    # Call the chain to generate an answer\n",
    "    response = pdf_chain.invoke(\n",
    "        {\n",
    "            \"question\": latest_question,\n",
    "            \"context\": context,\n",
    "            \"chat_history\": messages_to_history(state[\"messages\"]),\n",
    "        }\n",
    "    )\n",
    "\n",
    "    # Save the generated answer and (user question, answer) messages in the state\n",
    "    return {\n",
    "        \"answer\": response,\n",
    "        \"messages\": [(\"user\", latest_question), (\"assistant\", response)],\n",
    "    } # type: ignore"
   ]
  },
  {
   "cell_type": "markdown",
   "metadata": {},
   "source": [
    "## Creating the Graph\n",
    "\n",
    "`Edges` : Python functions that determine the next `Node` to execute based on the **current** `State` .\n",
    "\n",
    "There can be general edges and conditional edges."
   ]
  },
  {
   "cell_type": "code",
   "execution_count": 10,
   "metadata": {},
   "outputs": [],
   "source": [
    "from langgraph.graph import END, StateGraph\n",
    "from langgraph.checkpoint.memory import MemorySaver\n",
    "\n",
    "# Create a graph\n",
    "workflow = StateGraph(GraphState)\n",
    "\n",
    "# Define nodes\n",
    "workflow.add_node(\"retrieve\", retrieve_document)\n",
    "workflow.add_node(\"llm_answer\", llm_answer)\n",
    "\n",
    "# Define edges\n",
    "workflow.add_edge(\"retrieve\", \"llm_answer\")  # Retrieval -> Answer generation\n",
    "workflow.add_edge(\"llm_answer\", END)  # Answer generation -> End\n",
    "\n",
    "# Set entry point for the graph\n",
    "workflow.set_entry_point(\"retrieve\")\n",
    "\n",
    "# Set up a checkpointer\n",
    "memory = MemorySaver()\n",
    "\n",
    "# Compile the graph\n",
    "app = workflow.compile(checkpointer=memory)"
   ]
  },
  {
   "cell_type": "code",
   "execution_count": 13,
   "metadata": {},
   "outputs": [
    {
     "data": {
      "image/png": "[encoded data removed]",
      "text/plain": [
       "<IPython.core.display.Image object>"
      ]
     },
     "metadata": {},
     "output_type": "display_data"
    }
   ],
   "source": [
    "from rag.graphs import visualize_graph\n",
    "\n",
    "visualize_graph(app)"
   ]
  },
  {
   "cell_type": "markdown",
   "metadata": {},
   "source": [
    "## Executing the Graph\n",
    "\n",
    "- Tham số `config` cung cấp các thông tin cấu hình cần thiết cho việc thực thi đồ thị.\n",
    "- `recursion_limit`: Đặt giới hạn độ sâu đệ quy tối đa cho việc thực thi đồ thị.\n",
    "- `inputs`: Cung cấp dữ liệu đầu vào cho việc thực thi đồ thị.\n",
    "\n",
    "Hàm `stream_graph` bên dưới chỉ stream các node cụ thể.\n",
    "\n",
    "Bạn có thể dễ dàng kiểm tra **streaming output** của một **node cụ thể**.\n"
   ]
  },
  {
   "cell_type": "code",
   "execution_count": 14,
   "metadata": {},
   "outputs": [
    {
     "name": "stdout",
     "output_type": "stream",
     "text": [
      "\n",
      "==================================================\n",
      "🔄 Node: \u001b[1;36mretrieve\u001b[0m 🔄\n",
      "- - - - - - - - - - - - - - - - - - - - - - - - - \n",
      "==================================================\n",
      "\n",
      "==================================================\n",
      "🔄 Node: \u001b[1;36mllm_answer\u001b[0m 🔄\n",
      "- - - - - - - - - - - - - - - - - - - - - - - - - \n",
      "('user', 'Cách thêm giấy phép lái xe vào ứng dụng?')\n",
      "('assistant', 'Tại màn hình thông tin cá nhân, nhấn vào Giấy phép lái xe \\uf0e0 Hiển thị màn hình nhập passcode, sau khi nhập đúng passcode thì sẽ hiển thị thông tin giấy phép lái xe.\\n\\n**Nguồn**\\n- data/vneid.pdf (92)')\n",
      "==================================================\n"
     ]
    }
   ],
   "source": [
    "from langchain_core.runnables import RunnableConfig\n",
    "from rag.messages import invoke_graph, stream_graph, random_uuid\n",
    "\n",
    "config = RunnableConfig(recursion_limit=20, configurable={\"thread_id\": random_uuid()})\n",
    "\n",
    "input = GraphState(\n",
    "    question=\"Cách thêm giấy phép lái xe vào ứng dụng?\"\n",
    ") # type: ignore\n",
    "\n",
    "invoke_graph(app, input, config)"
   ]
  },
  {
   "cell_type": "code",
   "execution_count": null,
   "metadata": {},
   "outputs": [],
   "source": []
  }
 ],
 "metadata": {
  "kernelspec": {
   "display_name": "langchain",
   "language": "python",
   "name": "python3"
  },
  "language_info": {
   "codemirror_mode": {
    "name": "ipython",
    "version": 3
   },
   "file_extension": ".py",
   "mimetype": "text/x-python",
   "name": "python",
   "nbconvert_exporter": "python",
   "pygments_lexer": "ipython3",
   "version": "3.10.16"
  }
 },
 "nbformat": 4,
 "nbformat_minor": 2
}
