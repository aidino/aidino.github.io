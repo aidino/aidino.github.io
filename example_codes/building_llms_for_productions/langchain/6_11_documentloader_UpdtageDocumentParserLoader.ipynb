{
 "cells": [
  {
   "cell_type": "markdown",
   "metadata": {},
   "source": [
    "# UpstageDocumentParseLoader \n",
    "\n",
    "`UpstageDocumentParseLoader` là một công cụ phân tích tài liệu mạnh mẽ được thiết kế bởi Upstage, tích hợp liền mạch với khung LangChain như một trình tải tài liệu. Nó chuyên biến đổi tài liệu thành HTML có cấu trúc bằng cách phân tích bố cục và nội dung của chúng.\n",
    "\n",
    "**Các tính năng chính**:\n",
    "\n",
    "- Phân tích bố cục toàn diện:\n",
    "  Phân tích và xác định các thành phần cấu trúc như tiêu đề, đoạn văn, bảng và hình ảnh trên nhiều định dạng tài liệu khác nhau (ví dụ: PDF, hình ảnh).\n",
    "\n",
    "- Nhận dạng cấu trúc tự động:\n",
    "  Tự động phát hiện và tuần tự hóa các thành phần tài liệu dựa trên thứ tự đọc để chuyển đổi chính xác sang HTML.\n",
    "\n",
    "- Hỗ trợ OCR tùy chọn:\n",
    "  Bao gồm nhận dạng ký tự quang học để xử lý tài liệu được quét hoặc dựa trên hình ảnh. Chế độ OCR hỗ trợ:\n",
    "\n",
    "  `force`: Trích xuất văn bản từ hình ảnh bằng OCR.\n",
    "\n",
    "  `auto`: Trích xuất văn bản từ PDF (gây ra lỗi nếu đầu vào không ở định dạng PDF).\n",
    "\n",
    "Bằng cách nhận ra và duy trì mối quan hệ giữa các thành phần tài liệu, `UpstageDocumentParseLoader` cho phép phân tích tài liệu chính xác và nhận biết ngữ cảnh.\n",
    "\n",
    "**Di chuyển từ Phân tích bố cục**:\n",
    "Upstage đã ra mắt Phân tích tài liệu để thay thế Phân tích bố cục! Phân tích tài liệu hiện hỗ trợ nhiều loại tài liệu hơn, đầu ra markdown, phát hiện biểu đồ, nhận dạng phương trình và các tính năng bổ sung được lên kế hoạch cho các bản phát hành sắp tới. Phiên bản cuối cùng của Phân tích bố cục, layout-analysis-0.4.0, sẽ chính thức ngừng hoạt động vào ngày 10 tháng 11 năm 2024.\n"
   ]
  },
  {
   "cell_type": "markdown",
   "metadata": {},
   "source": [
    "### Key Changes from Layout Analysis\n",
    "\n",
    "**Các thay đổi đối với các tùy chọn hiện có**:\n",
    "1. `use_ocr` → `ocr`\n",
    "\n",
    "   Tùy chọn `use_ocr` đã được thay thế bằng `ocr`. Thay vì `True/False`, nó hiện chấp nhận `force` hoặc `auto` để kiểm soát chính xác hơn.\n",
    "\n",
    "2. `output_type` → `output_format`\n",
    "\n",
    "   Tùy chọn `output_type` đã được đổi tên thành `output_format` để chỉ định định dạng của đầu ra.\n",
    "\n",
    "3. `exclude` → `base64_encoding`\n",
    "\n",
    "    Tùy chọn `exclude` đã được thay thế bằng `base64_encoding`. Trong khi `exclude` được sử dụng để loại trừ các phần tử cụ thể khỏi đầu ra, `base64_encoding` chỉ định xem có mã hóa các phần tử thuộc một số danh mục nhất định trong Base64 hay không.\n",
    "\n",
    "### References\n",
    "- [UpstageDocumentParseLoader](https://python.langchain.com/api_reference/upstage/document_parse/langchain_upstage.document_parse.UpstageDocumentParseLoader.html)\n",
    "- [UpstageLayoutAnalysisLoader](https://python.langchain.com/api_reference/upstage/layout_analysis/langchain_upstage.layout_analysis.UpstageLayoutAnalysisLoader.html)\n",
    "- [Upstage Migrate to Document Parse from Layout Analysis](https://console.upstage.ai/docs/capabilities/document-parse/migration-dp)\n",
    "\n",
    "```bash\n",
    "pip install langchain_upstage\n",
    "```\n",
    "\n",
    "[READ MORE](https://github.com/aidino/LangChain-OpenTutorial/blob/main/06-DocumentLoader/11-UpstageDocumentParseLoader.ipynb)"
   ]
  },
  {
   "cell_type": "code",
   "execution_count": null,
   "metadata": {},
   "outputs": [],
   "source": []
  }
 ],
 "metadata": {
  "kernelspec": {
   "display_name": "langchain",
   "language": "python",
   "name": "python3"
  },
  "language_info": {
   "codemirror_mode": {
    "name": "ipython",
    "version": 3
   },
   "file_extension": ".py",
   "mimetype": "text/x-python",
   "name": "python",
   "nbconvert_exporter": "python",
   "pygments_lexer": "ipython3",
   "version": "3.10.16"
  }
 },
 "nbformat": 4,
 "nbformat_minor": 2
}
