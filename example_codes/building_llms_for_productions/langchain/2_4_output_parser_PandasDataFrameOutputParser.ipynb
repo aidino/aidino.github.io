{
 "cells": [
  {
   "cell_type": "markdown",
   "metadata": {},
   "source": [
    "# PandasDataFrameOutputParser\n",
    "\n",
    "Hướng dẫn này xử lý cách kiểm soát đầu ra của LLM dưới định dạng `pd.DataFrame`.\n",
    "\n",
    "Pandas là một package, hữu ích trong định dạng bảng (ví dụ: dữ liệu dạng bảng - tabular data), được sử dụng rộng rãi bởi các nhà khoa học dữ liệu. Nó sẽ giúp bạn khám phá, làm sạch và xử lý dữ liệu.\n",
    "\n",
    "Để tìm hiểu thêm về `pd.DataFrame` và các khả năng của nó, hãy truy cập một trong những hướng dẫn chính thức của Pandas, [10 minutes to pandas](https://pandas.pydata.org/docs/user_guide/10min.html).\n",
    "\n",
    "`PandasDataFrameOutputParser` phân tích đầu ra sử dụng định dạng Pandas DataFrame, theo [tài liệu API chính thức](https://python.langchain.com/api_reference/langchain/output_parsers/langchain.output_parsers.pandas_dataframe.PandasDataFrameOutputParser.html)\n",
    "- Điều này có thể được sử dụng cả như việc tạo đầu ra có cấu trúc cho truy vấn LLM dưới dạng chuỗi và như việc tạo đầu vào có cấu trúc cho truy vấn LLM\n",
    "    - Là đầu ra, bạn có thể xem thêm cách sử dụng pydantic trong [01-PydanticOutputParser](https://github.com/LangChain-OpenTutorial/LangChain-OpenTutorial/blob/main/03-OutputParser/01-PydanticOutputParser.ipynb) và các phần khác trong hướng dẫn học tập này.\n",
    "    - Là đầu vào, tập dữ liệu `pd.DataFrame` có thể được sử dụng để LLM tương tác với dữ liệu.\n",
    "\n",
    "**Mục tiêu của hướng dẫn này**\n",
    "\n",
    "- Biết nơi `PandasDataFrameOutputParser` được sử dụng để tương tác với `pd.DataFrame`\n",
    "\n",
    "**Thu thập dữ liệu (Data Acqusition)**\n",
    "- Truy cập vào [figshare.com](https://figshare.com) nơi bạn có thể khám phá đầu ra của nghiên cứu học thuật từ csv đến pdf.\n"
   ]
  },
  {
   "cell_type": "code",
   "execution_count": 1,
   "metadata": {},
   "outputs": [],
   "source": [
    "# Setup environment\n",
    "import os\n",
    "from dotenv import load_dotenv\n",
    "from langchain_openai import ChatOpenAI\n",
    "\n",
    "load_dotenv(override=True, dotenv_path=\"../.env\")\n",
    "\n",
    "llm = ChatOpenAI(model_name=\"gpt-3.5-turbo\", temperature=0.0)"
   ]
  },
  {
   "cell_type": "markdown",
   "metadata": {},
   "source": [
    "## Without model use\n",
    "- The `format_parser_output` function is used to convert parser output to dictionary format and format the output.\n",
    "- When input is `pd.DataFrame` or file. "
   ]
  },
  {
   "cell_type": "code",
   "execution_count": 2,
   "metadata": {},
   "outputs": [],
   "source": [
    "import pprint\n",
    "from typing import Any, Dict\n",
    "import os\n",
    "import pandas as pd\n",
    "from langchain.output_parsers import PandasDataFrameOutputParser\n",
    "from langchain_core.prompts import PromptTemplate\n",
    "\n",
    "# Purpose: Only to print. It is a helper function.\n",
    "def format_parser_output(parser_output: Dict[str, Any]) -> None:\n",
    "    length_val = len(list(parser_output.values()))\n",
    "    if length_val == 1 and isinstance(parser_output.values, (int, float)):\n",
    "        return {\"result\": parser_output}\n",
    "        # Iterate around the \"keys\" of parser output (dict)\n",
    "    else:\n",
    "        for key in parser_output.keys():\n",
    "            parser_output[key] = parser_output[key].to_dict()\n",
    "            # Pretty Print\n",
    "            return pprint.PrettyPrinter(width=4, compact=True).pprint(parser_output)"
   ]
  },
  {
   "cell_type": "code",
   "execution_count": 3,
   "metadata": {},
   "outputs": [
    {
     "data": {
      "text/html": [
       "<div>\n",
       "<style scoped>\n",
       "    .dataframe tbody tr th:only-of-type {\n",
       "        vertical-align: middle;\n",
       "    }\n",
       "\n",
       "    .dataframe tbody tr th {\n",
       "        vertical-align: top;\n",
       "    }\n",
       "\n",
       "    .dataframe thead th {\n",
       "        text-align: right;\n",
       "    }\n",
       "</style>\n",
       "<table border=\"1\" class=\"dataframe\">\n",
       "  <thead>\n",
       "    <tr style=\"text-align: right;\">\n",
       "      <th></th>\n",
       "      <th>Activity Period</th>\n",
       "      <th>Activity Period Start Date</th>\n",
       "      <th>Operating Airline</th>\n",
       "      <th>Operating Airline IATA Code</th>\n",
       "      <th>Published Airline</th>\n",
       "      <th>Published Airline IATA Code</th>\n",
       "      <th>GEO Summary</th>\n",
       "      <th>GEO Region</th>\n",
       "      <th>Activity Type Code</th>\n",
       "      <th>Price Category Code</th>\n",
       "      <th>Terminal</th>\n",
       "      <th>Boarding Area</th>\n",
       "      <th>Passenger Count</th>\n",
       "      <th>data_as_of</th>\n",
       "      <th>data_loaded_at</th>\n",
       "    </tr>\n",
       "  </thead>\n",
       "  <tbody>\n",
       "    <tr>\n",
       "      <th>0</th>\n",
       "      <td>199907</td>\n",
       "      <td>1999/07/01</td>\n",
       "      <td>ATA Airlines</td>\n",
       "      <td>TZ</td>\n",
       "      <td>ATA Airlines</td>\n",
       "      <td>TZ</td>\n",
       "      <td>Domestic</td>\n",
       "      <td>US</td>\n",
       "      <td>Deplaned</td>\n",
       "      <td>Low Fare</td>\n",
       "      <td>Terminal 1</td>\n",
       "      <td>B</td>\n",
       "      <td>31432</td>\n",
       "      <td>2023/11/20 07:01:34 AM</td>\n",
       "      <td>2023/11/20 07:02:25 AM</td>\n",
       "    </tr>\n",
       "    <tr>\n",
       "      <th>1</th>\n",
       "      <td>199907</td>\n",
       "      <td>1999/07/01</td>\n",
       "      <td>ATA Airlines</td>\n",
       "      <td>TZ</td>\n",
       "      <td>ATA Airlines</td>\n",
       "      <td>TZ</td>\n",
       "      <td>Domestic</td>\n",
       "      <td>US</td>\n",
       "      <td>Enplaned</td>\n",
       "      <td>Low Fare</td>\n",
       "      <td>Terminal 1</td>\n",
       "      <td>B</td>\n",
       "      <td>31353</td>\n",
       "      <td>2023/11/20 07:01:34 AM</td>\n",
       "      <td>2023/11/20 07:02:25 AM</td>\n",
       "    </tr>\n",
       "    <tr>\n",
       "      <th>2</th>\n",
       "      <td>199907</td>\n",
       "      <td>1999/07/01</td>\n",
       "      <td>ATA Airlines</td>\n",
       "      <td>TZ</td>\n",
       "      <td>ATA Airlines</td>\n",
       "      <td>TZ</td>\n",
       "      <td>Domestic</td>\n",
       "      <td>US</td>\n",
       "      <td>Thru / Transit</td>\n",
       "      <td>Low Fare</td>\n",
       "      <td>Terminal 1</td>\n",
       "      <td>B</td>\n",
       "      <td>2518</td>\n",
       "      <td>2023/11/20 07:01:34 AM</td>\n",
       "      <td>2023/11/20 07:02:25 AM</td>\n",
       "    </tr>\n",
       "    <tr>\n",
       "      <th>3</th>\n",
       "      <td>199907</td>\n",
       "      <td>1999/07/01</td>\n",
       "      <td>Aeroflot Russian International Airlines</td>\n",
       "      <td>NaN</td>\n",
       "      <td>Aeroflot Russian International Airlines</td>\n",
       "      <td>NaN</td>\n",
       "      <td>International</td>\n",
       "      <td>Europe</td>\n",
       "      <td>Deplaned</td>\n",
       "      <td>Other</td>\n",
       "      <td>Terminal 2</td>\n",
       "      <td>D</td>\n",
       "      <td>1324</td>\n",
       "      <td>2023/11/20 07:01:34 AM</td>\n",
       "      <td>2023/11/20 07:02:25 AM</td>\n",
       "    </tr>\n",
       "    <tr>\n",
       "      <th>4</th>\n",
       "      <td>199907</td>\n",
       "      <td>1999/07/01</td>\n",
       "      <td>Aeroflot Russian International Airlines</td>\n",
       "      <td>NaN</td>\n",
       "      <td>Aeroflot Russian International Airlines</td>\n",
       "      <td>NaN</td>\n",
       "      <td>International</td>\n",
       "      <td>Europe</td>\n",
       "      <td>Enplaned</td>\n",
       "      <td>Other</td>\n",
       "      <td>Terminal 2</td>\n",
       "      <td>D</td>\n",
       "      <td>1198</td>\n",
       "      <td>2023/11/20 07:01:34 AM</td>\n",
       "      <td>2023/11/20 07:02:25 AM</td>\n",
       "    </tr>\n",
       "  </tbody>\n",
       "</table>\n",
       "</div>"
      ],
      "text/plain": [
       "   Activity Period Activity Period Start Date  \\\n",
       "0           199907                 1999/07/01   \n",
       "1           199907                 1999/07/01   \n",
       "2           199907                 1999/07/01   \n",
       "3           199907                 1999/07/01   \n",
       "4           199907                 1999/07/01   \n",
       "\n",
       "                         Operating Airline Operating Airline IATA Code  \\\n",
       "0                             ATA Airlines                          TZ   \n",
       "1                             ATA Airlines                          TZ   \n",
       "2                             ATA Airlines                          TZ   \n",
       "3  Aeroflot Russian International Airlines                         NaN   \n",
       "4  Aeroflot Russian International Airlines                         NaN   \n",
       "\n",
       "                         Published Airline Published Airline IATA Code  \\\n",
       "0                             ATA Airlines                          TZ   \n",
       "1                             ATA Airlines                          TZ   \n",
       "2                             ATA Airlines                          TZ   \n",
       "3  Aeroflot Russian International Airlines                         NaN   \n",
       "4  Aeroflot Russian International Airlines                         NaN   \n",
       "\n",
       "     GEO Summary GEO Region Activity Type Code Price Category Code  \\\n",
       "0       Domestic         US           Deplaned            Low Fare   \n",
       "1       Domestic         US           Enplaned            Low Fare   \n",
       "2       Domestic         US     Thru / Transit            Low Fare   \n",
       "3  International     Europe           Deplaned               Other   \n",
       "4  International     Europe           Enplaned               Other   \n",
       "\n",
       "     Terminal Boarding Area  Passenger Count              data_as_of  \\\n",
       "0  Terminal 1             B            31432  2023/11/20 07:01:34 AM   \n",
       "1  Terminal 1             B            31353  2023/11/20 07:01:34 AM   \n",
       "2  Terminal 1             B             2518  2023/11/20 07:01:34 AM   \n",
       "3  Terminal 2             D             1324  2023/11/20 07:01:34 AM   \n",
       "4  Terminal 2             D             1198  2023/11/20 07:01:34 AM   \n",
       "\n",
       "           data_loaded_at  \n",
       "0  2023/11/20 07:02:25 AM  \n",
       "1  2023/11/20 07:02:25 AM  \n",
       "2  2023/11/20 07:02:25 AM  \n",
       "3  2023/11/20 07:02:25 AM  \n",
       "4  2023/11/20 07:02:25 AM  "
      ]
     },
     "execution_count": 3,
     "metadata": {},
     "output_type": "execute_result"
    }
   ],
   "source": [
    "# Define dataframe\n",
    "df = pd.read_csv(\"./data/Air-Traffic-Passenger-Statistics-csv.csv\")\n",
    "df.head()"
   ]
  },
  {
   "cell_type": "code",
   "execution_count": 4,
   "metadata": {},
   "outputs": [
    {
     "data": {
      "text/plain": [
       "Index(['Activity Period', 'Activity Period Start Date', 'Operating Airline',\n",
       "       'Operating Airline IATA Code', 'Published Airline',\n",
       "       'Published Airline IATA Code', 'GEO Summary', 'GEO Region',\n",
       "       'Activity Type Code', 'Price Category Code', 'Terminal',\n",
       "       'Boarding Area', 'Passenger Count', 'data_as_of', 'data_loaded_at'],\n",
       "      dtype='object')"
      ]
     },
     "execution_count": 4,
     "metadata": {},
     "output_type": "execute_result"
    }
   ],
   "source": [
    "df.columns"
   ]
  },
  {
   "cell_type": "code",
   "execution_count": 5,
   "metadata": {},
   "outputs": [],
   "source": [
    "df.columns = df.columns.str.strip().str.replace('\"', \"\").str.replace(\"'\", \"\")"
   ]
  },
  {
   "cell_type": "code",
   "execution_count": 6,
   "metadata": {},
   "outputs": [
    {
     "name": "stdout",
     "output_type": "stream",
     "text": [
      "The output should be formatted as a string as the operation, followed by a colon, followed by the column or row to be queried on, followed by optional array parameters.\n",
      "1. The column names are limited to the possible columns below.\n",
      "2. Arrays must either be a comma-separated list of numbers formatted as [1,3,5], or it must be in range of numbers formatted as [0..4].\n",
      "3. Remember that arrays are optional and not necessarily required.\n",
      "4. If the column is not in the possible columns or the operation is not a valid Pandas DataFrame operation, return why it is invalid as a sentence starting with either \"Invalid column\" or \"Invalid operation\".\n",
      "\n",
      "As an example, for the formats:\n",
      "1. String \"column:num_legs\" is a well-formatted instance which gets the column num_legs, where num_legs is a possible column.\n",
      "2. String \"row:1\" is a well-formatted instance which gets row 1.\n",
      "3. String \"column:num_legs[1,2]\" is a well-formatted instance which gets the column num_legs for rows 1 and 2, where num_legs is a possible column.\n",
      "4. String \"row:1[num_legs]\" is a well-formatted instance which gets row 1, but for just column num_legs, where num_legs is a possible column.\n",
      "5. String \"mean:num_legs[1..3]\" is a well-formatted instance which takes the mean of num_legs from rows 1 to 3, where num_legs is a possible column and mean is a valid Pandas DataFrame operation.\n",
      "6. String \"do_something:num_legs\" is a badly-formatted instance, where do_something is not a valid Pandas DataFrame operation.\n",
      "7. String \"mean:invalid_col\" is a badly-formatted instance, where invalid_col is not a possible column.\n",
      "\n",
      "Here are the possible columns:\n",
      "```\n",
      "Activity Period, Activity Period Start Date, Operating Airline, Operating Airline IATA Code, Published Airline, Published Airline IATA Code, GEO Summary, GEO Region, Activity Type Code, Price Category Code, Terminal, Boarding Area, Passenger Count, data_as_of, data_loaded_at\n",
      "```\n",
      "\n"
     ]
    }
   ],
   "source": [
    "# Set up a parser and inject instructions into the prompt template.\n",
    "parser = PandasDataFrameOutputParser(dataframe=df)\n",
    "# Print the parser's instructions.\n",
    "print(parser.get_format_instructions())"
   ]
  },
  {
   "cell_type": "code",
   "execution_count": 7,
   "metadata": {},
   "outputs": [
    {
     "name": "stdout",
     "output_type": "stream",
     "text": [
      "0        US\n",
      "1        US\n",
      "2        US\n",
      "3    Europe\n",
      "4    Europe\n",
      "Name: GEO Region, dtype: object\n"
     ]
    }
   ],
   "source": [
    "print(df[\"GEO Region\"].head())"
   ]
  },
  {
   "cell_type": "code",
   "execution_count": 8,
   "metadata": {},
   "outputs": [
    {
     "data": {
      "text/plain": [
       "'GEO Region'"
      ]
     },
     "execution_count": 8,
     "metadata": {},
     "output_type": "execute_result"
    }
   ],
   "source": [
    "df.columns[7]"
   ]
  },
  {
   "cell_type": "code",
   "execution_count": 9,
   "metadata": {},
   "outputs": [
    {
     "name": "stdout",
     "output_type": "stream",
     "text": [
      "{'GEO Region': 0        US\n",
      "1        US\n",
      "2        US\n",
      "3    Europe\n",
      "4    Europe\n",
      "Name: GEO Region, dtype: object}\n",
      "----\n",
      "----\n"
     ]
    }
   ],
   "source": [
    "# Example of working with columns.\n",
    "\n",
    "df_query = \"column:GEO Region[0..4]\"  # Replace with your intended query\n",
    "output = parser.parse(df_query)\n",
    "print(output)\n",
    "print(\"----\")\n",
    "print(\"----\")"
   ]
  },
  {
   "cell_type": "code",
   "execution_count": 10,
   "metadata": {},
   "outputs": [
    {
     "name": "stdout",
     "output_type": "stream",
     "text": [
      "{'1': {'Activity Period': 199907,\n",
      "       'Activity Period Start Date': '1999/07/01',\n",
      "       'Activity Type Code': 'Enplaned',\n",
      "       'Boarding Area': 'B',\n",
      "       'GEO Region': 'US',\n",
      "       'GEO Summary': 'Domestic',\n",
      "       'Operating Airline': 'ATA '\n",
      "                            'Airlines',\n",
      "       'Operating Airline IATA Code': 'TZ',\n",
      "       'Passenger Count': 31353,\n",
      "       'Price Category Code': 'Low '\n",
      "                              'Fare',\n",
      "       'Published Airline': 'ATA '\n",
      "                            'Airlines',\n",
      "       'Published Airline IATA Code': 'TZ',\n",
      "       'Terminal': 'Terminal '\n",
      "                   '1',\n",
      "       'data_as_of': '2023/11/20 '\n",
      "                     '07:01:34 '\n",
      "                     'AM',\n",
      "       'data_loaded_at': '2023/11/20 '\n",
      "                         '07:02:25 '\n",
      "                         'AM'}}\n"
     ]
    }
   ],
   "source": [
    "# Example of retrieving first row\n",
    "df_query = \"row:1\"\n",
    "\n",
    "# Row lookup\n",
    "output = parser.parse(df_query)\n",
    "format_parser_output(output)"
   ]
  },
  {
   "cell_type": "code",
   "execution_count": 11,
   "metadata": {},
   "outputs": [
    {
     "data": {
      "text/plain": [
       "0    31432\n",
       "1    31353\n",
       "2     2518\n",
       "3     1324\n",
       "4     1198\n",
       "Name: Passenger Count, dtype: int64"
      ]
     },
     "execution_count": 11,
     "metadata": {},
     "output_type": "execute_result"
    }
   ],
   "source": [
    "df[\"Passenger Count\"].head(5)"
   ]
  },
  {
   "cell_type": "code",
   "execution_count": 12,
   "metadata": {},
   "outputs": [
    {
     "data": {
      "text/plain": [
       "13565.0"
      ]
     },
     "execution_count": 12,
     "metadata": {},
     "output_type": "execute_result"
    }
   ],
   "source": [
    "# Average passenger counts from 5 first rows\n",
    "df[\"Passenger Count\"].head(5).mean()"
   ]
  },
  {
   "cell_type": "code",
   "execution_count": 13,
   "metadata": {},
   "outputs": [
    {
     "name": "stdout",
     "output_type": "stream",
     "text": [
      "{'mean': 13565.0}\n"
     ]
    }
   ],
   "source": [
    "# Querying the same operation as above\n",
    "df_query = \"mean:Passenger Count[0..4]\"\n",
    "\n",
    "output = parser.parse(df_query)\n",
    "print(output)"
   ]
  },
  {
   "cell_type": "code",
   "execution_count": 14,
   "metadata": {},
   "outputs": [
    {
     "data": {
      "text/html": [
       "<div>\n",
       "<style scoped>\n",
       "    .dataframe tbody tr th:only-of-type {\n",
       "        vertical-align: middle;\n",
       "    }\n",
       "\n",
       "    .dataframe tbody tr th {\n",
       "        vertical-align: top;\n",
       "    }\n",
       "\n",
       "    .dataframe thead th {\n",
       "        text-align: right;\n",
       "    }\n",
       "</style>\n",
       "<table border=\"1\" class=\"dataframe\">\n",
       "  <thead>\n",
       "    <tr style=\"text-align: right;\">\n",
       "      <th></th>\n",
       "      <th>Activity Period</th>\n",
       "      <th>Activity Period Start Date</th>\n",
       "      <th>Operating Airline</th>\n",
       "      <th>Operating Airline IATA Code</th>\n",
       "      <th>Published Airline</th>\n",
       "      <th>Published Airline IATA Code</th>\n",
       "      <th>GEO Summary</th>\n",
       "      <th>GEO Region</th>\n",
       "      <th>Activity Type Code</th>\n",
       "      <th>Price Category Code</th>\n",
       "      <th>Terminal</th>\n",
       "      <th>Boarding Area</th>\n",
       "      <th>Passenger Count</th>\n",
       "      <th>data_as_of</th>\n",
       "      <th>data_loaded_at</th>\n",
       "    </tr>\n",
       "  </thead>\n",
       "  <tbody>\n",
       "    <tr>\n",
       "      <th>0</th>\n",
       "      <td>199907</td>\n",
       "      <td>1999/07/01</td>\n",
       "      <td>ATA Airlines</td>\n",
       "      <td>TZ</td>\n",
       "      <td>ATA Airlines</td>\n",
       "      <td>TZ</td>\n",
       "      <td>Domestic</td>\n",
       "      <td>US</td>\n",
       "      <td>Deplaned</td>\n",
       "      <td>Low Fare</td>\n",
       "      <td>Terminal 1</td>\n",
       "      <td>B</td>\n",
       "      <td>31432</td>\n",
       "      <td>2023/11/20 07:01:34 AM</td>\n",
       "      <td>2023/11/20 07:02:25 AM</td>\n",
       "    </tr>\n",
       "    <tr>\n",
       "      <th>1</th>\n",
       "      <td>199907</td>\n",
       "      <td>1999/07/01</td>\n",
       "      <td>ATA Airlines</td>\n",
       "      <td>TZ</td>\n",
       "      <td>ATA Airlines</td>\n",
       "      <td>TZ</td>\n",
       "      <td>Domestic</td>\n",
       "      <td>US</td>\n",
       "      <td>Enplaned</td>\n",
       "      <td>Low Fare</td>\n",
       "      <td>Terminal 1</td>\n",
       "      <td>B</td>\n",
       "      <td>31353</td>\n",
       "      <td>2023/11/20 07:01:34 AM</td>\n",
       "      <td>2023/11/20 07:02:25 AM</td>\n",
       "    </tr>\n",
       "    <tr>\n",
       "      <th>2</th>\n",
       "      <td>199907</td>\n",
       "      <td>1999/07/01</td>\n",
       "      <td>ATA Airlines</td>\n",
       "      <td>TZ</td>\n",
       "      <td>ATA Airlines</td>\n",
       "      <td>TZ</td>\n",
       "      <td>Domestic</td>\n",
       "      <td>US</td>\n",
       "      <td>Thru / Transit</td>\n",
       "      <td>Low Fare</td>\n",
       "      <td>Terminal 1</td>\n",
       "      <td>B</td>\n",
       "      <td>2518</td>\n",
       "      <td>2023/11/20 07:01:34 AM</td>\n",
       "      <td>2023/11/20 07:02:25 AM</td>\n",
       "    </tr>\n",
       "    <tr>\n",
       "      <th>3</th>\n",
       "      <td>199907</td>\n",
       "      <td>1999/07/01</td>\n",
       "      <td>Aeroflot Russian International Airlines</td>\n",
       "      <td>NaN</td>\n",
       "      <td>Aeroflot Russian International Airlines</td>\n",
       "      <td>NaN</td>\n",
       "      <td>International</td>\n",
       "      <td>Europe</td>\n",
       "      <td>Deplaned</td>\n",
       "      <td>Other</td>\n",
       "      <td>Terminal 2</td>\n",
       "      <td>D</td>\n",
       "      <td>1324</td>\n",
       "      <td>2023/11/20 07:01:34 AM</td>\n",
       "      <td>2023/11/20 07:02:25 AM</td>\n",
       "    </tr>\n",
       "    <tr>\n",
       "      <th>4</th>\n",
       "      <td>199907</td>\n",
       "      <td>1999/07/01</td>\n",
       "      <td>Aeroflot Russian International Airlines</td>\n",
       "      <td>NaN</td>\n",
       "      <td>Aeroflot Russian International Airlines</td>\n",
       "      <td>NaN</td>\n",
       "      <td>International</td>\n",
       "      <td>Europe</td>\n",
       "      <td>Enplaned</td>\n",
       "      <td>Other</td>\n",
       "      <td>Terminal 2</td>\n",
       "      <td>D</td>\n",
       "      <td>1198</td>\n",
       "      <td>2023/11/20 07:01:34 AM</td>\n",
       "      <td>2023/11/20 07:02:25 AM</td>\n",
       "    </tr>\n",
       "  </tbody>\n",
       "</table>\n",
       "</div>"
      ],
      "text/plain": [
       "   Activity Period Activity Period Start Date  \\\n",
       "0           199907                 1999/07/01   \n",
       "1           199907                 1999/07/01   \n",
       "2           199907                 1999/07/01   \n",
       "3           199907                 1999/07/01   \n",
       "4           199907                 1999/07/01   \n",
       "\n",
       "                         Operating Airline Operating Airline IATA Code  \\\n",
       "0                             ATA Airlines                          TZ   \n",
       "1                             ATA Airlines                          TZ   \n",
       "2                             ATA Airlines                          TZ   \n",
       "3  Aeroflot Russian International Airlines                         NaN   \n",
       "4  Aeroflot Russian International Airlines                         NaN   \n",
       "\n",
       "                         Published Airline Published Airline IATA Code  \\\n",
       "0                             ATA Airlines                          TZ   \n",
       "1                             ATA Airlines                          TZ   \n",
       "2                             ATA Airlines                          TZ   \n",
       "3  Aeroflot Russian International Airlines                         NaN   \n",
       "4  Aeroflot Russian International Airlines                         NaN   \n",
       "\n",
       "     GEO Summary GEO Region Activity Type Code Price Category Code  \\\n",
       "0       Domestic         US           Deplaned            Low Fare   \n",
       "1       Domestic         US           Enplaned            Low Fare   \n",
       "2       Domestic         US     Thru / Transit            Low Fare   \n",
       "3  International     Europe           Deplaned               Other   \n",
       "4  International     Europe           Enplaned               Other   \n",
       "\n",
       "     Terminal Boarding Area  Passenger Count              data_as_of  \\\n",
       "0  Terminal 1             B            31432  2023/11/20 07:01:34 AM   \n",
       "1  Terminal 1             B            31353  2023/11/20 07:01:34 AM   \n",
       "2  Terminal 1             B             2518  2023/11/20 07:01:34 AM   \n",
       "3  Terminal 2             D             1324  2023/11/20 07:01:34 AM   \n",
       "4  Terminal 2             D             1198  2023/11/20 07:01:34 AM   \n",
       "\n",
       "           data_loaded_at  \n",
       "0  2023/11/20 07:02:25 AM  \n",
       "1  2023/11/20 07:02:25 AM  \n",
       "2  2023/11/20 07:02:25 AM  \n",
       "3  2023/11/20 07:02:25 AM  \n",
       "4  2023/11/20 07:02:25 AM  "
      ]
     },
     "execution_count": 14,
     "metadata": {},
     "output_type": "execute_result"
    }
   ],
   "source": [
    "df.head()"
   ]
  },
  {
   "cell_type": "code",
   "execution_count": 15,
   "metadata": {},
   "outputs": [
    {
     "ename": "OutputParserException",
     "evalue": "Request 'Calculate value_counts for `GEO` Region.' is not correctly formatted.                     Please refer to the format instructions.\nFor troubleshooting, visit: https://python.langchain.com/docs/troubleshooting/errors/OUTPUT_PARSING_FAILURE ",
     "output_type": "error",
     "traceback": [
      "\u001b[0;31m---------------------------------------------------------------------------\u001b[0m",
      "\u001b[0;31mOutputParserException\u001b[0m                     Traceback (most recent call last)",
      "Cell \u001b[0;32mIn[15], line 5\u001b[0m\n\u001b[1;32m      2\u001b[0m df_query \u001b[38;5;241m=\u001b[39m \u001b[38;5;124m\"\u001b[39m\u001b[38;5;124mCalculate value_counts for `GEO` Region.\u001b[39m\u001b[38;5;124m\"\u001b[39m\n\u001b[1;32m      4\u001b[0m \u001b[38;5;66;03m# Parse out the query\u001b[39;00m\n\u001b[0;32m----> 5\u001b[0m output \u001b[38;5;241m=\u001b[39m \u001b[43mparser\u001b[49m\u001b[38;5;241;43m.\u001b[39;49m\u001b[43mparse\u001b[49m\u001b[43m(\u001b[49m\u001b[43mdf_query\u001b[49m\u001b[43m)\u001b[49m\n\u001b[1;32m      7\u001b[0m \u001b[38;5;66;03m# Print out result\u001b[39;00m\n\u001b[1;32m      8\u001b[0m \u001b[38;5;28mprint\u001b[39m(output)\n",
      "File \u001b[0;32m~/miniconda3/envs/langchain/lib/python3.10/site-packages/langchain/output_parsers/pandas_dataframe.py:85\u001b[0m, in \u001b[0;36mPandasDataFrameOutputParser.parse\u001b[0;34m(self, request)\u001b[0m\n\u001b[1;32m     83\u001b[0m splitted_request \u001b[38;5;241m=\u001b[39m request\u001b[38;5;241m.\u001b[39mstrip()\u001b[38;5;241m.\u001b[39msplit(\u001b[38;5;124m\"\u001b[39m\u001b[38;5;124m:\u001b[39m\u001b[38;5;124m\"\u001b[39m)\n\u001b[1;32m     84\u001b[0m \u001b[38;5;28;01mif\u001b[39;00m \u001b[38;5;28mlen\u001b[39m(splitted_request) \u001b[38;5;241m!=\u001b[39m \u001b[38;5;241m2\u001b[39m:\n\u001b[0;32m---> 85\u001b[0m     \u001b[38;5;28;01mraise\u001b[39;00m OutputParserException(\n\u001b[1;32m     86\u001b[0m         \u001b[38;5;124mf\u001b[39m\u001b[38;5;124m\"\u001b[39m\u001b[38;5;124mRequest \u001b[39m\u001b[38;5;124m'\u001b[39m\u001b[38;5;132;01m{\u001b[39;00mrequest\u001b[38;5;132;01m}\u001b[39;00m\u001b[38;5;124m'\u001b[39m\u001b[38;5;124m is not correctly formatted. \u001b[39m\u001b[38;5;130;01m\\\u001b[39;00m\n\u001b[1;32m     87\u001b[0m \u001b[38;5;124m            Please refer to the format instructions.\u001b[39m\u001b[38;5;124m\"\u001b[39m\n\u001b[1;32m     88\u001b[0m     )\n\u001b[1;32m     89\u001b[0m result \u001b[38;5;241m=\u001b[39m {}\n\u001b[1;32m     90\u001b[0m \u001b[38;5;28;01mtry\u001b[39;00m:\n",
      "\u001b[0;31mOutputParserException\u001b[0m: Request 'Calculate value_counts for `GEO` Region.' is not correctly formatted.                     Please refer to the format instructions.\nFor troubleshooting, visit: https://python.langchain.com/docs/troubleshooting/errors/OUTPUT_PARSING_FAILURE "
     ]
    }
   ],
   "source": [
    "# Wrongly formatted query\n",
    "df_query = \"Calculate value_counts for `GEO` Region.\"\n",
    "\n",
    "# Parse out the query\n",
    "output = parser.parse(df_query)\n",
    "\n",
    "# Print out result\n",
    "print(output)"
   ]
  },
  {
   "cell_type": "code",
   "execution_count": 16,
   "metadata": {},
   "outputs": [
    {
     "name": "stdout",
     "output_type": "stream",
     "text": [
      "{'value_counts': GEO Region\n",
      "US                     12475\n",
      "Asia                    7499\n",
      "Europe                  5758\n",
      "Canada                  3216\n",
      "Mexico                  2651\n",
      "Australia / Oceania     1712\n",
      "Central America          809\n",
      "Middle East              667\n",
      "South America             91\n",
      "Name: count, dtype: int64}\n"
     ]
    }
   ],
   "source": [
    "# Well formatted query\n",
    "df_query = \"value_counts:GEO Region\"\n",
    "\n",
    "# Parse out the query\n",
    "output = parser.parse(df_query)\n",
    "\n",
    "# Print out result\n",
    "print(output)"
   ]
  },
  {
   "cell_type": "code",
   "execution_count": 17,
   "metadata": {},
   "outputs": [
    {
     "data": {
      "text/plain": [
       "Operating Airline\n",
       "United Airlines - Pre 07/01/2013    3670\n",
       "United Airlines                     3368\n",
       "SkyWest Airlines                    2028\n",
       "Alaska Airlines                     1790\n",
       "Delta Air Lines                      772\n",
       "                                    ... \n",
       "Pacific Aviation                       2\n",
       "Casino Express                         1\n",
       "Boeing Company                         1\n",
       "Samsic Airport America, LLC            1\n",
       "Harmony Airways                        1\n",
       "Name: count, Length: 134, dtype: int64"
      ]
     },
     "execution_count": 17,
     "metadata": {},
     "output_type": "execute_result"
    }
   ],
   "source": [
    "# Confirmed with the results\n",
    "df[\"Operating Airline\"].value_counts()"
   ]
  },
  {
   "cell_type": "markdown",
   "metadata": {},
   "source": [
    "## With model"
   ]
  },
  {
   "cell_type": "code",
   "execution_count": 20,
   "metadata": {},
   "outputs": [
    {
     "ename": "OutputParserException",
     "evalue": "Unsupported request type 'nvalid column'.                         Please check the format instructions.\nFor troubleshooting, visit: https://python.langchain.com/docs/troubleshooting/errors/OUTPUT_PARSING_FAILURE ",
     "output_type": "error",
     "traceback": [
      "\u001b[0;31m---------------------------------------------------------------------------\u001b[0m",
      "\u001b[0;31mKeyError\u001b[0m                                  Traceback (most recent call last)",
      "File \u001b[0;32m~/miniconda3/envs/langchain/lib/python3.10/site-packages/pandas/core/indexes/base.py:3805\u001b[0m, in \u001b[0;36mIndex.get_loc\u001b[0;34m(self, key)\u001b[0m\n\u001b[1;32m   3804\u001b[0m \u001b[38;5;28;01mtry\u001b[39;00m:\n\u001b[0;32m-> 3805\u001b[0m     \u001b[38;5;28;01mreturn\u001b[39;00m \u001b[38;5;28;43mself\u001b[39;49m\u001b[38;5;241;43m.\u001b[39;49m\u001b[43m_engine\u001b[49m\u001b[38;5;241;43m.\u001b[39;49m\u001b[43mget_loc\u001b[49m\u001b[43m(\u001b[49m\u001b[43mcasted_key\u001b[49m\u001b[43m)\u001b[49m\n\u001b[1;32m   3806\u001b[0m \u001b[38;5;28;01mexcept\u001b[39;00m \u001b[38;5;167;01mKeyError\u001b[39;00m \u001b[38;5;28;01mas\u001b[39;00m err:\n",
      "File \u001b[0;32mindex.pyx:167\u001b[0m, in \u001b[0;36mpandas._libs.index.IndexEngine.get_loc\u001b[0;34m()\u001b[0m\n",
      "File \u001b[0;32mindex.pyx:196\u001b[0m, in \u001b[0;36mpandas._libs.index.IndexEngine.get_loc\u001b[0;34m()\u001b[0m\n",
      "File \u001b[0;32mpandas/_libs/hashtable_class_helper.pxi:7081\u001b[0m, in \u001b[0;36mpandas._libs.hashtable.PyObjectHashTable.get_item\u001b[0;34m()\u001b[0m\n",
      "File \u001b[0;32mpandas/_libs/hashtable_class_helper.pxi:7089\u001b[0m, in \u001b[0;36mpandas._libs.hashtable.PyObjectHashTable.get_item\u001b[0;34m()\u001b[0m\n",
      "\u001b[0;31mKeyError\u001b[0m: ' Passenger count is not a possible column'",
      "\nThe above exception was the direct cause of the following exception:\n",
      "\u001b[0;31mKeyError\u001b[0m                                  Traceback (most recent call last)",
      "File \u001b[0;32m~/miniconda3/envs/langchain/lib/python3.10/site-packages/langchain/output_parsers/pandas_dataframe.py:139\u001b[0m, in \u001b[0;36mPandasDataFrameOutputParser.parse\u001b[0;34m(self, request)\u001b[0m\n\u001b[1;32m    137\u001b[0m         \u001b[38;5;28;01melse\u001b[39;00m:\n\u001b[1;32m    138\u001b[0m             result[request_type] \u001b[38;5;241m=\u001b[39m \u001b[38;5;28mgetattr\u001b[39m(\n\u001b[0;32m--> 139\u001b[0m                 \u001b[38;5;28;43mself\u001b[39;49m\u001b[38;5;241;43m.\u001b[39;49m\u001b[43mdataframe\u001b[49m\u001b[43m[\u001b[49m\u001b[43mrequest_params\u001b[49m\u001b[43m]\u001b[49m, request_type\n\u001b[1;32m    140\u001b[0m             )()\n\u001b[1;32m    141\u001b[0m \u001b[38;5;28;01mexcept\u001b[39;00m (\u001b[38;5;167;01mAttributeError\u001b[39;00m, \u001b[38;5;167;01mIndexError\u001b[39;00m, \u001b[38;5;167;01mKeyError\u001b[39;00m):\n",
      "File \u001b[0;32m~/miniconda3/envs/langchain/lib/python3.10/site-packages/pandas/core/frame.py:4102\u001b[0m, in \u001b[0;36mDataFrame.__getitem__\u001b[0;34m(self, key)\u001b[0m\n\u001b[1;32m   4101\u001b[0m     \u001b[38;5;28;01mreturn\u001b[39;00m \u001b[38;5;28mself\u001b[39m\u001b[38;5;241m.\u001b[39m_getitem_multilevel(key)\n\u001b[0;32m-> 4102\u001b[0m indexer \u001b[38;5;241m=\u001b[39m \u001b[38;5;28;43mself\u001b[39;49m\u001b[38;5;241;43m.\u001b[39;49m\u001b[43mcolumns\u001b[49m\u001b[38;5;241;43m.\u001b[39;49m\u001b[43mget_loc\u001b[49m\u001b[43m(\u001b[49m\u001b[43mkey\u001b[49m\u001b[43m)\u001b[49m\n\u001b[1;32m   4103\u001b[0m \u001b[38;5;28;01mif\u001b[39;00m is_integer(indexer):\n",
      "File \u001b[0;32m~/miniconda3/envs/langchain/lib/python3.10/site-packages/pandas/core/indexes/base.py:3812\u001b[0m, in \u001b[0;36mIndex.get_loc\u001b[0;34m(self, key)\u001b[0m\n\u001b[1;32m   3811\u001b[0m         \u001b[38;5;28;01mraise\u001b[39;00m InvalidIndexError(key)\n\u001b[0;32m-> 3812\u001b[0m     \u001b[38;5;28;01mraise\u001b[39;00m \u001b[38;5;167;01mKeyError\u001b[39;00m(key) \u001b[38;5;28;01mfrom\u001b[39;00m\u001b[38;5;250m \u001b[39m\u001b[38;5;21;01merr\u001b[39;00m\n\u001b[1;32m   3813\u001b[0m \u001b[38;5;28;01mexcept\u001b[39;00m \u001b[38;5;167;01mTypeError\u001b[39;00m:\n\u001b[1;32m   3814\u001b[0m     \u001b[38;5;66;03m# If we have a listlike key, _check_indexing_error will raise\u001b[39;00m\n\u001b[1;32m   3815\u001b[0m     \u001b[38;5;66;03m#  InvalidIndexError. Otherwise we fall through and re-raise\u001b[39;00m\n\u001b[1;32m   3816\u001b[0m     \u001b[38;5;66;03m#  the TypeError.\u001b[39;00m\n",
      "\u001b[0;31mKeyError\u001b[0m: ' Passenger count is not a possible column'",
      "\nDuring handling of the above exception, another exception occurred:\n",
      "\u001b[0;31mOutputParserException\u001b[0m                     Traceback (most recent call last)",
      "Cell \u001b[0;32mIn[20], line 20\u001b[0m\n\u001b[1;32m     17\u001b[0m chain_output \u001b[38;5;241m=\u001b[39m chain\u001b[38;5;241m.\u001b[39minvoke({\u001b[38;5;124m\"\u001b[39m\u001b[38;5;124mquery\u001b[39m\u001b[38;5;124m\"\u001b[39m: df_query})\n\u001b[1;32m     19\u001b[0m \u001b[38;5;66;03m# Use parser here\u001b[39;00m\n\u001b[0;32m---> 20\u001b[0m parser_output \u001b[38;5;241m=\u001b[39m \u001b[43mparser\u001b[49m\u001b[38;5;241;43m.\u001b[39;49m\u001b[43mparse\u001b[49m\u001b[43m(\u001b[49m\u001b[43mchain_output\u001b[49m\u001b[38;5;241;43m.\u001b[39;49m\u001b[43mcontent\u001b[49m\u001b[43m[\u001b[49m\u001b[38;5;241;43m1\u001b[39;49m\u001b[43m:\u001b[49m\u001b[38;5;241;43m-\u001b[39;49m\u001b[38;5;241;43m1\u001b[39;49m\u001b[43m]\u001b[49m\u001b[43m)\u001b[49m\n\u001b[1;32m     22\u001b[0m \u001b[38;5;66;03m# Print out\u001b[39;00m\n\u001b[1;32m     23\u001b[0m format_parser_output(parser_output)\n",
      "File \u001b[0;32m~/miniconda3/envs/langchain/lib/python3.10/site-packages/langchain/output_parsers/pandas_dataframe.py:143\u001b[0m, in \u001b[0;36mPandasDataFrameOutputParser.parse\u001b[0;34m(self, request)\u001b[0m\n\u001b[1;32m    141\u001b[0m \u001b[38;5;28;01mexcept\u001b[39;00m (\u001b[38;5;167;01mAttributeError\u001b[39;00m, \u001b[38;5;167;01mIndexError\u001b[39;00m, \u001b[38;5;167;01mKeyError\u001b[39;00m):\n\u001b[1;32m    142\u001b[0m     \u001b[38;5;28;01mif\u001b[39;00m request_type \u001b[38;5;129;01mnot\u001b[39;00m \u001b[38;5;129;01min\u001b[39;00m {\u001b[38;5;124m\"\u001b[39m\u001b[38;5;124mcolumn\u001b[39m\u001b[38;5;124m\"\u001b[39m, \u001b[38;5;124m\"\u001b[39m\u001b[38;5;124mrow\u001b[39m\u001b[38;5;124m\"\u001b[39m}:\n\u001b[0;32m--> 143\u001b[0m         \u001b[38;5;28;01mraise\u001b[39;00m OutputParserException(\n\u001b[1;32m    144\u001b[0m             \u001b[38;5;124mf\u001b[39m\u001b[38;5;124m\"\u001b[39m\u001b[38;5;124mUnsupported request type \u001b[39m\u001b[38;5;124m'\u001b[39m\u001b[38;5;132;01m{\u001b[39;00mrequest_type\u001b[38;5;132;01m}\u001b[39;00m\u001b[38;5;124m'\u001b[39m\u001b[38;5;124m. \u001b[39m\u001b[38;5;130;01m\\\u001b[39;00m\n\u001b[1;32m    145\u001b[0m \u001b[38;5;124m                Please check the format instructions.\u001b[39m\u001b[38;5;124m\"\u001b[39m\n\u001b[1;32m    146\u001b[0m         )\n\u001b[1;32m    147\u001b[0m     \u001b[38;5;28;01mraise\u001b[39;00m OutputParserException(\n\u001b[1;32m    148\u001b[0m         \u001b[38;5;124mf\u001b[39m\u001b[38;5;124m\"\"\"\u001b[39m\u001b[38;5;124mRequested index \u001b[39m\u001b[38;5;132;01m{\u001b[39;00m\n\u001b[1;32m    149\u001b[0m \u001b[38;5;250m            \u001b[39mrequest_params\n\u001b[0;32m   (...)\u001b[0m\n\u001b[1;32m    152\u001b[0m \u001b[38;5;250m        \u001b[39m\u001b[38;5;132;01m}\u001b[39;00m\u001b[38;5;124m is out of bounds.\u001b[39m\u001b[38;5;124m\"\"\"\u001b[39m\n\u001b[1;32m    153\u001b[0m     )\n\u001b[1;32m    155\u001b[0m \u001b[38;5;28;01mreturn\u001b[39;00m result\n",
      "\u001b[0;31mOutputParserException\u001b[0m: Unsupported request type 'nvalid column'.                         Please check the format instructions.\nFor troubleshooting, visit: https://python.langchain.com/docs/troubleshooting/errors/OUTPUT_PARSING_FAILURE "
     ]
    }
   ],
   "source": [
    "# Query the column; Passenger count\n",
    "df_query = \"Query {Passenger count} column\"\n",
    "\n",
    "# Setting up the PromptTemplate\n",
    "prompt = PromptTemplate(\n",
    "    template=\"Answer the user query.\\n{format_instructions}\\n{query}\\n\",\n",
    "    input_variables=[\"query\"],  # Set up input variable. Look above {query}\n",
    "    partial_variables={\n",
    "        \"format_instructions\": parser.get_format_instructions()\n",
    "    },  # Set up partial variable (how it would like to be displayed)\n",
    ")\n",
    "\n",
    "# Set up the chain\n",
    "chain = prompt | llm\n",
    "\n",
    "# Execute the chain based on the query\n",
    "chain_output = chain.invoke({\"query\": df_query})\n",
    "\n",
    "# Use parser here\n",
    "parser_output = parser.parse(chain_output.content[1:-1])\n",
    "\n",
    "# Print out\n",
    "format_parser_output(parser_output)"
   ]
  },
  {
   "cell_type": "code",
   "execution_count": null,
   "metadata": {},
   "outputs": [],
   "source": []
  }
 ],
 "metadata": {
  "kernelspec": {
   "display_name": "langchain",
   "language": "python",
   "name": "python3"
  },
  "language_info": {
   "codemirror_mode": {
    "name": "ipython",
    "version": 3
   },
   "file_extension": ".py",
   "mimetype": "text/x-python",
   "name": "python",
   "nbconvert_exporter": "python",
   "pygments_lexer": "ipython3",
   "version": "3.10.16"
  }
 },
 "nbformat": 4,
 "nbformat_minor": 2
}
