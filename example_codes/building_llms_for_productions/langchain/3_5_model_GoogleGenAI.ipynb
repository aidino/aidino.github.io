{
 "cells": [
  {
   "cell_type": "markdown",
   "metadata": {},
   "source": [
    "# Google Generative AI\n",
    "\n",
    "## ChatGoogleGenerativeAI\n",
    "\n",
    "Nhập lớp `ChatGoogleGenerativeAI` từ gói `langchain_google_genai`.\n",
    "\n",
    "Lớp `ChatGoogleGenerativeAI` được sử dụng để triển khai các hệ thống AI đàm thoại (conversational AI systems) sử dụng các mô hình Generative AI của Google. Thông qua lớp này, người dùng có thể tương tác với mô hình AI đàm thoại của Google. Các cuộc trò chuyện với mô hình diễn ra ở định dạng trò chuyện (chat format), và mô hình tạo ra các phản hồi phù hợp dựa trên đầu vào của người dùng (user input).\n",
    "\n",
    "Vì lớp `ChatGoogleGenerativeAI` được tích hợp với framework LangChain, nó có thể được sử dụng cùng với các thành phần LangChain khác.\n",
    "\n",
    "Để biết thông tin về các mô hình được hỗ trợ, hãy xem: [https://ai.google.dev/gemini-api/docs/models/gemini?hl=en](https://ai.google.dev/gemini-api/docs/models/gemini?hl=en)\n"
   ]
  },
  {
   "cell_type": "code",
   "execution_count": 2,
   "metadata": {},
   "outputs": [
    {
     "name": "stdout",
     "output_type": "stream",
     "text": [
      "LangChain is a framework for developing applications powered by large language models (LLMs).  It simplifies the process of chaining together LLMs with other tools and data sources. This enables more complex and useful applications beyond simple prompt-response interactions."
     ]
    }
   ],
   "source": [
    "from langchain_google_genai import ChatGoogleGenerativeAI\n",
    "from dotenv import load_dotenv\n",
    "load_dotenv(override=True, dotenv_path=\"../.env\")\n",
    "\n",
    "# Create an instance of ChatGoogleGenerativeAI\n",
    "llm = ChatGoogleGenerativeAI(model=\"gemini-1.5-flash\")\n",
    "\n",
    "# Pass the prompt to generate an output\n",
    "answer = llm.stream(\"Please explain about Langchain(in three lines)\")\n",
    "\n",
    "# Print the result\n",
    "for token in answer:\n",
    "    print(token.content, end=\"\", flush=True)"
   ]
  },
  {
   "cell_type": "code",
   "execution_count": 3,
   "metadata": {},
   "outputs": [
    {
     "name": "stdout",
     "output_type": "stream",
     "text": [
      "Yes\n"
     ]
    }
   ],
   "source": [
    "from langchain_google_genai import ChatGoogleGenerativeAI\n",
    "from langchain_core.prompts import PromptTemplate\n",
    "\n",
    "# Create an instance of ChatGoogleGenerativeAI\n",
    "model = ChatGoogleGenerativeAI(model=\"gemini-1.5-flash\")\n",
    "\n",
    "# Create a prompt\n",
    "prompt = PromptTemplate.from_template(\"Answer with Yes or No. Is {question} a fruit?\")\n",
    "\n",
    "# Create the chain\n",
    "chain = prompt | model\n",
    "\n",
    "# Print the result\n",
    "response = chain.invoke({\"question\": \"Apple\"})\n",
    "print(response.content)"
   ]
  },
  {
   "cell_type": "markdown",
   "metadata": {},
   "source": [
    "## Safety Settings\n",
    "\n",
    "Các mô hình Gemini có cài đặt an toàn mặc định có thể được ghi đè. Nếu bạn nhận được nhiều \"Safety Warnings\" từ các mô hình của mình, bạn có thể thử điều chỉnh thuộc tính `safety_settings` của mô hình. Ví dụ: để tắt chặn an toàn đối với nội dung nguy hiểm, bạn có thể xây dựng LLM của mình như sau:\n",
    "\n"
   ]
  },
  {
   "cell_type": "code",
   "execution_count": 4,
   "metadata": {},
   "outputs": [
    {
     "name": "stdout",
     "output_type": "stream",
     "text": [
      "Gemini is Google's large multimodal AI model.  It's designed to understand and generate various forms of information, including text, code, audio, and images.  Unlike many models that excel in one area, Gemini aims for a high level of competence across multiple modalities, making it a more general-purpose AI.\n",
      "\n",
      "Here's a breakdown of key aspects:\n",
      "\n",
      "* **Multimodality:** This is its defining feature. Gemini can process and generate content across different modalities, seamlessly integrating them.  For example, it might answer a question by combining information from an image and text.  This contrasts with models primarily focused on text (like many LLMs) or images (like some image generation models).\n",
      "\n",
      "* **Large Language Model (LLM) Capabilities:**  At its core, Gemini is built upon a powerful LLM. This allows it to perform tasks like text generation, translation, summarization, question answering, and more, similar to other large language models.  However, its multimodal nature enhances these capabilities significantly.\n",
      "\n",
      "* **Reasoning and Problem-Solving:**  Google emphasizes Gemini's improved reasoning and problem-solving abilities.  This means it's not just stringing words together; it's attempting to understand the context and logic behind the information it processes.  The extent of its reasoning capabilities is still being evaluated and compared to other models.\n",
      "\n",
      "* **Different Sizes and Capabilities:**  Like many AI models, Gemini likely comes in different sizes (parameter counts). Larger models generally have greater capacity but require more computational resources. Google has released different versions tailored for different tasks and resource constraints.  The exact specifications of each version aren't always publicly available.\n",
      "\n",
      "* **Applications:**  Gemini's capabilities lend themselves to a wide range of applications, including:\n",
      "    * **Search:** Enhancing search results by understanding complex queries and providing more insightful answers.\n",
      "    * **Code generation:** Assisting programmers by generating code snippets and helping debug.\n",
      "    * **Image understanding and generation:** Analyzing images and generating new ones based on prompts.\n",
      "    * **Conversational AI:** Creating more natural and engaging conversational experiences.\n",
      "    * **Creative content generation:** Assisting with writing, composing music, and generating other forms of creative content.\n",
      "\n",
      "* **Comparison to other models:**  Google positions Gemini as a competitor to models like OpenAI's GPT-4 and others.  Direct comparisons are complex because different benchmarks and evaluation metrics are used, and the models' strengths and weaknesses vary across tasks.  However, the goal is to create a more versatile and powerful model.\n",
      "\n",
      "**In short:** Gemini represents Google's significant advancement in multimodal AI. Its ability to seamlessly integrate different data types and perform advanced reasoning tasks positions it as a leading contender in the field of general-purpose AI, although ongoing research and development continue to refine its capabilities.  More detailed information is often released gradually by Google as they continue to improve and deploy the model.\n"
     ]
    }
   ],
   "source": [
    "from langchain_google_genai import (\n",
    "    ChatGoogleGenerativeAI,\n",
    "    HarmBlockThreshold,\n",
    "    HarmCategory,\n",
    ")\n",
    "\n",
    "# Create an instance of ChatGoogleGenerativeAI\n",
    "llm = ChatGoogleGenerativeAI(\n",
    "    model=\"gemini-1.5-flash\",\n",
    "    safety_settings={\n",
    "        # Set threshold levels for blocking harmful content.\n",
    "        # In this case, the settings indicate not to block harmful content. (However, there could still be basic blocking.)\n",
    "        HarmCategory.HARM_CATEGORY_SEXUALLY_EXPLICIT: HarmBlockThreshold.BLOCK_NONE,\n",
    "        HarmCategory.HARM_CATEGORY_HATE_SPEECH: HarmBlockThreshold.BLOCK_NONE,\n",
    "        HarmCategory.HARM_CATEGORY_HARASSMENT: HarmBlockThreshold.BLOCK_NONE,\n",
    "        HarmCategory.HARM_CATEGORY_DANGEROUS_CONTENT: HarmBlockThreshold.BLOCK_NONE,\n",
    "    },\n",
    ")\n",
    "\n",
    "response = llm.invoke(\"Please explain about Gemini model\")\n",
    "print(response.content)"
   ]
  },
  {
   "cell_type": "markdown",
   "metadata": {},
   "source": [
    "## Streaming and Batching\n",
    "\n",
    "`ChatGoogleGenerativeAI` natively supports streaming and batching. Below is an example."
   ]
  },
  {
   "cell_type": "code",
   "execution_count": 5,
   "metadata": {},
   "outputs": [
    {
     "name": "stdout",
     "output_type": "stream",
     "text": [
      "California\n",
      "---\n",
      " offers a vast array of destinations. Here are 5 diverse recommendations, catering to\n",
      "---\n",
      " different interests:\n",
      "\n",
      "1. **Yosemite National Park (Nature & Hiking\n",
      "---\n",
      "):** Iconic granite cliffs, giant sequoia trees, waterfalls, and challenging hikes make this a classic California experience.  Best for those who enjoy outdoor activities and\n",
      "---\n",
      " stunning natural beauty.\n",
      "\n",
      "2. **San Francisco (City & Culture):** A vibrant city with iconic landmarks like the Golden Gate Bridge, Alcatraz Island,\n",
      "---\n",
      " and cable cars. Offers a blend of history, culture, diverse food scenes, and a unique atmosphere. Best for city lovers and those interested in history and architecture.\n",
      "\n",
      "3. **Santa Barbara (Beach & Relaxation):** A charming coastal\n",
      "---\n",
      " city with beautiful beaches, Spanish architecture, and a relaxed atmosphere. Perfect for those seeking a more laid-back vacation with opportunities for sunbathing, surfing, and exploring a picturesque town.\n",
      "\n",
      "4. **Joshua Tree National Park (Desert &\n",
      "---\n",
      " Stargazing):** Unique desert landscape with bizarre rock formations, Joshua trees, and incredible stargazing opportunities.  Best for those who appreciate stark beauty, hiking, and photography.\n",
      "\n",
      "5. **Napa Valley (Wine Country):** World-renowned wine region with rolling vineyards, charming towns, and luxurious resorts\n",
      "---\n",
      ". Ideal for wine enthusiasts, foodies, and those seeking a relaxing getaway with opportunities for wine tasting and gourmet dining.\n",
      "\n",
      "\n",
      "These are just a few suggestions, and the best destination for you will depend on your personal preferences and interests.\n",
      "---\n"
     ]
    }
   ],
   "source": [
    "from langchain_google_genai import ChatGoogleGenerativeAI\n",
    "\n",
    "# Create an instance of ChatGoogleGenerativeAI\n",
    "llm = ChatGoogleGenerativeAI(model=\"gemini-1.5-flash\")\n",
    "\n",
    "# Use the llm.batch() method to request multiple queries at once\n",
    "for chunk in llm.stream(\"Can you recommend 5 travel destinations in California?\"):\n",
    "    print(chunk.content)\n",
    "    print(\"---\")"
   ]
  },
  {
   "cell_type": "code",
   "execution_count": 6,
   "metadata": {},
   "outputs": [
    {
     "name": "stdout",
     "output_type": "stream",
     "text": [
      "The capital of the United States is **Washington, D.C.**\n",
      "Seoul\n"
     ]
    }
   ],
   "source": [
    "from langchain_google_genai import ChatGoogleGenerativeAI\n",
    "\n",
    "# Create an instance of ChatGoogleGenerativeAI\n",
    "llm = ChatGoogleGenerativeAI(model=\"gemini-1.5-flash\")\n",
    "\n",
    "# Use the llm.batch() method to request multiple queries at once\n",
    "results = llm.batch(\n",
    "    [\n",
    "        \"What is the capital of the United States?\",\n",
    "        \"What is the capital of South Korea?\",\n",
    "    ]\n",
    ")\n",
    "\n",
    "for res in results:\n",
    "    print(res.content)"
   ]
  },
  {
   "cell_type": "markdown",
   "metadata": {},
   "source": [
    "## Multimodeal Model\n",
    "\n",
    "Để cung cấp một hình ảnh, hãy truyền một tin nhắn từ người dùng với nội dung kiểu `List[dict]`, trong đó mỗi dict chứa một giá trị hình ảnh (kiểu `image_url`) hoặc một giá trị văn bản (kiểu text). Giá trị của `image_url` có thể là bất kỳ điều nào sau đây:\n",
    "\n",
    "- Một URL hình ảnh công khai (public image URL)\n",
    "- Một tệp gcs có thể truy cập (ví dụ: \"gcs://path/to/file.png\")\n",
    "- Một đường dẫn tệp cục bộ (local file path)\n",
    "- Một hình ảnh được mã hóa base64 (ví dụ: `data:image/png;base64,abcd124`)\n",
    "- Một hình ảnh PIL (PIL image)\n",
    "\n"
   ]
  },
  {
   "cell_type": "code",
   "execution_count": 7,
   "metadata": {},
   "outputs": [
    {
     "data": {
      "image/jpeg": "[encoded data removed]",
      "text/plain": [
       "<IPython.core.display.Image object>"
      ]
     },
     "execution_count": 7,
     "metadata": {},
     "output_type": "execute_result"
    }
   ],
   "source": [
    "# CASE - A pulbic image URL\n",
    "import requests\n",
    "from IPython.display import Image\n",
    "\n",
    "image_url = \"https://picsum.photos/seed/picsum/300/300\"\n",
    "content = requests.get(image_url).content\n",
    "Image(content)"
   ]
  },
  {
   "cell_type": "code",
   "execution_count": 8,
   "metadata": {},
   "outputs": [
    {
     "name": "stdout",
     "output_type": "stream",
     "text": [
      "That's a picture of the Matterhorn mountain in the Swiss Alps.  The photo shows the iconic pyramidal peak covered in snow, set against a dramatic, soft-colored sunset or sunrise sky.  The foreground features a gently sloping, snow-covered landscape.\n"
     ]
    }
   ],
   "source": [
    "from langchain_core.messages import HumanMessage\n",
    "from langchain_google_genai import ChatGoogleGenerativeAI\n",
    "\n",
    "# Create an instance of ChatGoogleGenerativeAI\n",
    "llm = ChatGoogleGenerativeAI(model=\"gemini-1.5-flash\")\n",
    "\n",
    "# The content is provided as a list, which can include both text and an image URL object\n",
    "message = HumanMessage(\n",
    "    content=[\n",
    "        {\"type\": \"text\", \"text\": \"What's in this image?\"},\n",
    "        {\"type\": \"image_url\", \"image_url\": image_url},\n",
    "    ]\n",
    ")\n",
    "\n",
    "response = llm.invoke([message])\n",
    "print(response.content)"
   ]
  },
  {
   "cell_type": "code",
   "execution_count": null,
   "metadata": {},
   "outputs": [],
   "source": []
  }
 ],
 "metadata": {
  "kernelspec": {
   "display_name": "langchain",
   "language": "python",
   "name": "python3"
  },
  "language_info": {
   "codemirror_mode": {
    "name": "ipython",
    "version": 3
   },
   "file_extension": ".py",
   "mimetype": "text/x-python",
   "name": "python",
   "nbconvert_exporter": "python",
   "pygments_lexer": "ipython3",
   "version": "3.10.16"
  }
 },
 "nbformat": 4,
 "nbformat_minor": 2
}
