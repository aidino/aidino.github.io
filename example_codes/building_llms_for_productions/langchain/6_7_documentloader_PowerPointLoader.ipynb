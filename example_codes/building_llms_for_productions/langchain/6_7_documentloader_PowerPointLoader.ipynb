{
 "cells": [
  {
   "cell_type": "markdown",
   "metadata": {},
   "source": [
    "# Microsoft PowerPoint\n",
    "\n",
    "[Microsoft PowerPoint](https://en.wikipedia.org/wiki/Microsoft_PowerPoint) là một chương trình thuyết trình được phát triển bởi Microsoft.\n",
    "\n",
    "Hướng dẫn này trình bày hai phương pháp khác nhau để xử lý tài liệu PowerPoint cho việc sử dụng sau này:\n",
    "1. Sử dụng `Unstructured` để tải và phân tích cú pháp các tệp PowerPoint thành các phần tử tài liệu\n",
    "2. Sử dụng `MarkItDown` để chuyển đổi các tệp PowerPoint thành định dạng markdown và các đối tượng Document của LangChain.\n",
    "\n",
    "Cả hai phương pháp đều cho phép trích xuất và xử lý văn bản hiệu quả, với những điểm mạnh khác nhau cho các trường hợp sử dụng khác nhau.\n"
   ]
  },
  {
   "cell_type": "markdown",
   "metadata": {},
   "source": [
    "## Converting PPTX to Langchain Documents Using Unstructured\n",
    "\n",
    "`Unstructured` là một thư viện xử lý tài liệu mạnh mẽ, vượt trội trong việc chuyển đổi các định dạng tài liệu khác nhau thành văn bản sạch, có cấu trúc. <br/>Nó được tích hợp tốt với hệ sinh thái LangChain và cung cấp khả năng phân tích cú pháp tài liệu đáng tin cậy.\n",
    "\n",
    "Thư viện bao gồm:\n",
    "\n",
    "- Xử lý cục bộ với gói mã nguồn mở\n",
    "- Xử lý từ xa thông qua Unstructured API\n",
    "- Hỗ trợ định dạng tài liệu toàn diện\n",
    "- Khả năng OCR tích hợp sẵn\n"
   ]
  },
  {
   "cell_type": "code",
   "execution_count": 1,
   "metadata": {},
   "outputs": [
    {
     "name": "stdout",
     "output_type": "stream",
     "text": [
      "1\n"
     ]
    }
   ],
   "source": [
    "from langchain_community.document_loaders import UnstructuredPowerPointLoader\n",
    "\n",
    "# Initialize UnstructuredPowerPointLoader\n",
    "loader = UnstructuredPowerPointLoader(\"data/07-ppt-loader-sample.pptx\")\n",
    "\n",
    "# Load PowerPoint document\n",
    "docs = loader.load()\n",
    "\n",
    "# Print number of loaded documents\n",
    "print(len(docs))"
   ]
  },
  {
   "cell_type": "code",
   "execution_count": 2,
   "metadata": {},
   "outputs": [
    {
     "name": "stdout",
     "output_type": "stream",
     "text": [
      "Natural Language Processing with Deep Learning\n",
      "\n",
      "CS224N/Ling284\n",
      "\n",
      "Christopher Manning\n",
      "\n",
      "Lecture 2: Word\n"
     ]
    }
   ],
   "source": [
    "print(docs[0].page_content[:100])"
   ]
  },
  {
   "cell_type": "markdown",
   "metadata": {},
   "source": [
    "`Unstructured` tạo ra nhiều \"elements\" khác nhau cho các **chunks** văn bản khác nhau.\n",
    "\n",
    "Theo mặc định, chúng được kết hợp và trả về dưới dạng một tài liệu duy nhất, nhưng các elements có thể dễ dàng được tách biệt bằng cách chỉ định `mode=\"elements\"`.\n"
   ]
  },
  {
   "cell_type": "code",
   "execution_count": 4,
   "metadata": {},
   "outputs": [
    {
     "name": "stdout",
     "output_type": "stream",
     "text": [
      "498\n"
     ]
    }
   ],
   "source": [
    "# Create UnstructuredPowerPointLoader with elements mode\n",
    "loader = UnstructuredPowerPointLoader(\"data/07-ppt-loader-sample.pptx\", mode=\"elements\")\n",
    "\n",
    "# Load PowerPoint elements\n",
    "docs = loader.load()\n",
    "\n",
    "# Print number of elements extracted\n",
    "print(len(docs))"
   ]
  },
  {
   "cell_type": "code",
   "execution_count": 5,
   "metadata": {},
   "outputs": [
    {
     "data": {
      "text/plain": [
       "Document(metadata={'source': 'data/07-ppt-loader-sample.pptx', 'category_depth': 0, 'file_directory': 'data', 'filename': '07-ppt-loader-sample.pptx', 'last_modified': '2025-03-11T07:48:12', 'page_number': 1, 'languages': ['eng'], 'filetype': 'application/vnd.openxmlformats-officedocument.presentationml.presentation', 'category': 'Title', 'element_id': 'bb6cdc142e5062b564541bfbc10f7f8c'}, page_content='Natural Language Processing with Deep Learning')"
      ]
     },
     "execution_count": 5,
     "metadata": {},
     "output_type": "execute_result"
    }
   ],
   "source": [
    "docs[0]"
   ]
  },
  {
   "cell_type": "code",
   "execution_count": 6,
   "metadata": {},
   "outputs": [
    {
     "name": "stdout",
     "output_type": "stream",
     "text": [
      "page_content='Natural Language Processing with Deep Learning' metadata={'source': 'data/07-ppt-loader-sample.pptx', 'category_depth': 0, 'file_directory': 'data', 'filename': '07-ppt-loader-sample.pptx', 'last_modified': '2025-03-11T07:48:12', 'page_number': 1, 'languages': ['eng'], 'filetype': 'application/vnd.openxmlformats-officedocument.presentationml.presentation', 'category': 'Title', 'element_id': 'bb6cdc142e5062b564541bfbc10f7f8c'}\n",
      "Content: Natural Language Processing with Deep Learning\n",
      "Metadata: {'source': 'data/07-ppt-loader-sample.pptx', 'category_depth': 0, 'file_directory': 'data', 'filename': '07-ppt-loader-sample.pptx', 'last_modified': '2025-03-11T07:48:12', 'page_number': 1, 'languages': ['eng'], 'filetype': 'application/vnd.openxmlformats-officedocument.presentationml.presentation', 'category': 'Title', 'element_id': 'bb6cdc142e5062b564541bfbc10f7f8c'}\n"
     ]
    }
   ],
   "source": [
    "# Get and display the first element\n",
    "first_element = docs[0]\n",
    "print(first_element)\n",
    "\n",
    "# To see its metadata and content separately, you could do:\n",
    "print(\"Content:\", first_element.page_content)\n",
    "print(\"Metadata:\", first_element.metadata)"
   ]
  },
  {
   "cell_type": "code",
   "execution_count": 7,
   "metadata": {},
   "outputs": [
    {
     "name": "stdout",
     "output_type": "stream",
     "text": [
      "\n",
      "Element 1/498\n",
      "Category: Title\n",
      "==================================================\n",
      "Content:\n",
      "Natural Language Processing with Deep Learning\n",
      "==================================================\n",
      "\n",
      "Element 2/498\n",
      "Category: Title\n",
      "==================================================\n",
      "Content:\n",
      "CS224N/Ling284\n",
      "==================================================\n",
      "\n",
      "Element 3/498\n",
      "Category: Title\n",
      "==================================================\n",
      "Content:\n",
      "Christopher Manning\n",
      "==================================================\n"
     ]
    }
   ],
   "source": [
    "# Print elements with formatted output and enumerate for easy reference\n",
    "for idx, doc in enumerate(docs[:3], 1):\n",
    "    print(f\"\\nElement {idx}/{len(docs)}\")\n",
    "    print(f\"Category: {doc.metadata['category']}\")\n",
    "    print(\"=\"*50)\n",
    "    print(f\"Content:\\n{doc.page_content.strip()}\")\n",
    "    print(\"=\"*50)"
   ]
  },
  {
   "cell_type": "markdown",
   "metadata": {},
   "source": [
    "## Converting PPTX to Langchain Documents Using MarkItDown\n",
    "\n",
    "[`MarkItDown`]([https://github.com/microsoft/markitdown](https://github.com/microsoft/markitdown) \"Visit the GitHub page\") là một thư viện mã nguồn mở của Microsoft, chuyển đổi các tài liệu phi cấu trúc thành Markdown có cấu trúc, một định dạng mà LLMs có thể dễ dàng xử lý và hiểu. Điều này làm cho nó đặc biệt có giá trị đối với các hệ thống RAG (Retrieval Augmented Generation) bằng cách cho phép biểu diễn văn bản ngữ nghĩa rõ ràng.\n",
    "\n",
    "Hỗ trợ các định dạng như PDF, PowerPoint, Word, Excel, hình ảnh (với EXIF/OCR), âm thanh (với phiên âm), HTML và nhiều hơn nữa, `MarkItDown` giữ nguyên cấu trúc ngữ nghĩa và xử lý dữ liệu phức tạp, chẳng hạn như bảng, một cách chính xác. Điều này đảm bảo chất lượng truy xuất cao và tăng cường khả năng của LLMs trong việc trích xuất thông tin chi tiết từ các loại nội dung đa dạng.\n",
    "\n",
    "> ⚠️**Lưu ý**: MarkItDown không diễn giải nội dung của hình ảnh được nhúng trong tệp PowerPoint. Thay vào đó, nó trích xuất hình ảnh nguyên trạng, khiến ý nghĩa ngữ nghĩa của chúng không thể truy cập được đối với LLMs.\n",
    "\n",
    "Ví dụ: một đối tượng trong slide sẽ được xử lý như sau:\n",
    "\n",
    "`![object #](object#.jpg)`\n",
    "\n"
   ]
  },
  {
   "cell_type": "markdown",
   "metadata": {},
   "source": [
    "### Extracting Text from PPTX Using MarkItDown\n",
    "\n",
    "Trong phần này, chúng ta sẽ sử dụng `MarkItDown` để:\n",
    "* Chuyển đổi các slide PowerPoint sang định dạng markdown\n",
    "* Giữ nguyên cấu trúc ngữ nghĩa và định dạng hình ảnh\n",
    "* Duy trì số slide và tiêu đề\n",
    "* Tạo đầu ra văn bản sạch, dễ đọc\n",
    "\n",
    "Đầu tiên, chúng ta cần khởi tạo `MarkItDown` và chạy hàm `convert` để tải tệp `.pptx` từ cục bộ.\n"
   ]
  },
  {
   "cell_type": "code",
   "execution_count": 8,
   "metadata": {},
   "outputs": [
    {
     "name": "stdout",
     "output_type": "stream",
     "text": [
      "<!-- Slide number: 1 -->\n",
      "\n",
      "![object 2](object2.jpg)\n",
      "# Natural Language Processing with Deep Learning\n",
      "CS224N/Ling284\n",
      "Christopher Manning\n",
      "Lecture 2: Word Vectors, Word Senses, and Neural Classifiers\n",
      "\n",
      "<!-- Slide number: 2 -->\n",
      "# Lecture Plan\n",
      "10\n",
      "Lecture 2: Word Vectors, Word Senses, and Neural Network Classifiers\n",
      "Course organization (3 mins)\n",
      "Optimization basics (5 mins)\n",
      "Review of word2vec and looking at word vectors (12 mins)\n",
      "More on word2vec (8 mins)\n",
      "Can we capture the essence of word meaning more ef\n"
     ]
    }
   ],
   "source": [
    "from markitdown import MarkItDown\n",
    "\n",
    "md = MarkItDown()\n",
    "result = md.convert(\"data/07-ppt-loader-sample.pptx\")\n",
    "result_text = result.text_content\n",
    "print(result_text[:500])"
   ]
  },
  {
   "cell_type": "markdown",
   "metadata": {},
   "source": [
    "### Convert markdown format to Langchain Document format\n",
    "\n",
    "The code below processes PowerPoint slides by splitting them into individual Document objects. <br/>Each slide is converted into a Langchain Document object with metadata including the `slide number` and `title`. "
   ]
  },
  {
   "cell_type": "code",
   "execution_count": 9,
   "metadata": {},
   "outputs": [
    {
     "data": {
      "text/plain": [
       "[Document(metadata={'source': 'data/07-ppt-loader-sample.pptx', 'slide_number': 1, 'slide_title': 'Natural Language Processing with Deep Learning'}, page_content='![object 2](object2.jpg)\\n# Natural Language Processing with Deep Learning\\nCS224N/Ling284\\nChristopher Manning\\nLecture 2: Word Vectors, Word Senses, and Neural Classifiers'),\n",
       " Document(metadata={'source': 'data/07-ppt-loader-sample.pptx', 'slide_number': 2, 'slide_title': 'Lecture Plan'}, page_content='# Lecture Plan\\n10\\nLecture 2: Word Vectors, Word Senses, and Neural Network Classifiers\\nCourse organization (3 mins)\\nOptimization basics (5 mins)\\nReview of word2vec and looking at word vectors (12 mins)\\nMore on word2vec (8 mins)\\nCan we capture the essence of word meaning more effectively by counting? (12m)\\nEvaluating word vectors (10 mins)\\nWord senses (10 mins)\\nReview of classification and how neural nets differ (10 mins)\\nIntroducing neural networks (10 mins)\\n\\nKey Goal: To be able to read and understand word embeddings papers by the end of class')]"
      ]
     },
     "execution_count": 9,
     "metadata": {},
     "output_type": "execute_result"
    }
   ],
   "source": [
    "from langchain_core.documents import Document\n",
    "import re\n",
    "\n",
    "# Initialize document processing for PowerPoint slides\n",
    "# Format: <!-- Slide number: X --> where X is the slide number\n",
    "\n",
    "# Split the input text into individual slides using HTML comment markers\n",
    "slides = re.split(r'<!--\\s*Slide number:\\s*(\\d+)\\s*-->', result_text)\n",
    "\n",
    "# Initialize list to store Document objects\n",
    "documents = []\n",
    "\n",
    "# Process each slide:\n",
    "# - Start from index 1 since slides[0] is empty from the initial split\n",
    "# - Step by 2 because the split result alternates between:\n",
    "#   1. slide number (odd indices)\n",
    "#   2. slide content (even indices)\n",
    "# Example: ['', '1', 'content1', '2', 'content2', '3', 'content3']\n",
    "for i in range(1, len(slides), 2):\n",
    "    # Extract slide number and content\n",
    "    slide_number = slides[i]\n",
    "    content = slides[i + 1].strip() if i + 1 < len(slides) else \"\"\n",
    "    \n",
    "    # Extract slide title from first markdown header if present\n",
    "    title_match = re.search(r'#\\s*(.+?)(?=\\n|$)', content)\n",
    "    title = title_match.group(1).strip() if title_match else \"\"\n",
    "    \n",
    "    # Create Document object with slide metadata\n",
    "    doc = Document(\n",
    "        page_content=content,\n",
    "        metadata={\n",
    "            \"source\": \"data/07-ppt-loader-sample.pptx\",\n",
    "            \"slide_number\": int(slide_number),\n",
    "            \"slide_title\": title\n",
    "        }\n",
    "    )\n",
    "    documents.append(doc)\n",
    "\n",
    "documents[:2]"
   ]
  },
  {
   "cell_type": "markdown",
   "metadata": {},
   "source": [
    "`MarkItDown` xử lý hiệu quả các bảng trong slide PowerPoint bằng cách chuyển đổi chúng thành cú pháp bảng Markdown rõ ràng.\n",
    "\n",
    "Điều này giúp dữ liệu dạng bảng dễ dàng truy cập cho LLMs trong khi vẫn giữ nguyên cấu trúc và định dạng ban đầu.\n"
   ]
  },
  {
   "cell_type": "code",
   "execution_count": 10,
   "metadata": {},
   "outputs": [
    {
     "name": "stdout",
     "output_type": "stream",
     "text": [
      "# Example: Window based co-occurrence matrix\n",
      "10\n",
      "Window length 1 (more common: 5–10)\n",
      "Symmetric (irrelevant whether left or right context)\n",
      "\n",
      "Example corpus:\n",
      "I like deep learning\n",
      "I like NLP\n",
      "I enjoy flying\n",
      "\n",
      "| counts | I | like | enjoy | deep | learning | NLP | flying | . |\n",
      "| --- | --- | --- | --- | --- | --- | --- | --- | --- |\n",
      "| I | 0 | 2 | 1 | 0 | 0 | 0 | 0 | 0 |\n",
      "| like | 2 | 0 | 0 | 1 | 0 | 1 | 0 | 0 |\n",
      "| enjoy | 1 | 0 | 0 | 0 | 0 | 0 | 1 | 0 |\n",
      "| deep | 0 | 1 | 0 | 0 | 1 | 0 | 0 | 0 |\n",
      "| learning | 0 | 0 | 0 | 1 | 0 | 0 | 0 | 1 |\n",
      "| NLP | 0 | 1 | 0 | 0 | 0 | 0 | 0 | 1 |\n",
      "| flying | 0 | 0 | 1 | 0 | 0 | 0 | 0 | 1 |\n",
      "| . | 0 | 0 | 0 | 0 | 1 | 1 | 1 | 0 |\n"
     ]
    }
   ],
   "source": [
    "print(documents[15].page_content)\n"
   ]
  },
  {
   "cell_type": "code",
   "execution_count": null,
   "metadata": {},
   "outputs": [],
   "source": []
  }
 ],
 "metadata": {
  "kernelspec": {
   "display_name": "langchain",
   "language": "python",
   "name": "python3"
  },
  "language_info": {
   "codemirror_mode": {
    "name": "ipython",
    "version": 3
   },
   "file_extension": ".py",
   "mimetype": "text/x-python",
   "name": "python",
   "nbconvert_exporter": "python",
   "pygments_lexer": "ipython3",
   "version": "3.10.16"
  }
 },
 "nbformat": 4,
 "nbformat_minor": 2
}
