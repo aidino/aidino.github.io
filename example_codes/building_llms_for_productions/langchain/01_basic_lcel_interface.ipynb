{
 "cells": [
  {
   "cell_type": "markdown",
   "metadata": {},
   "source": [
    "# LCEL Interface\n",
    "\n",
    "Ngôn ngữ biểu thức LangChain (LangChain Expression Language - LCEL) là một giao diện mạnh mẽ được thiết kế để đơn giản hóa việc tạo và quản lý các chuỗi tùy chỉnh (custom chains) trong LangChain. Nó triển khai giao thức Runnable (Runnable protocol), cung cấp một cách tiêu chuẩn hóa để xây dựng và thực thi các chuỗi mô hình ngôn ngữ (language model chains).\n"
   ]
  },
  {
   "cell_type": "markdown",
   "metadata": {},
   "source": [
    "## Environment setup"
   ]
  },
  {
   "cell_type": "code",
   "execution_count": 7,
   "metadata": {},
   "outputs": [
    {
     "data": {
      "text/plain": [
       "True"
      ]
     },
     "execution_count": 7,
     "metadata": {},
     "output_type": "execute_result"
    }
   ],
   "source": [
    "# Load env\n",
    "import os\n",
    "from dotenv import load_dotenv\n",
    "load_dotenv(override=True, dotenv_path=\"../.env\")\n",
    "\n",
    "# Check env \n",
    "# os.getenv(\"OPENAI_API_KEY\")"
   ]
  },
  {
   "cell_type": "markdown",
   "metadata": {},
   "source": [
    "\n",
    "## LCEL Interface\n",
    "\n",
    "Để việc tạo các chuỗi tùy chỉnh trở nên dễ dàng nhất có thể, chúng tôi đã triển khai giao thức `Runnable`.\n",
    "\n",
    "Giao thức `Runnable` được triển khai trong hầu hết các thành phần.\n",
    "\n",
    "Đây là một giao diện tiêu chuẩn giúp dễ dàng định nghĩa các chuỗi tùy chỉnh và gọi chúng theo cách tiêu chuẩn. Giao diện tiêu chuẩn bao gồm:\n",
    "\n",
    "* `stream`: Phát luồng một phần phản hồi.\n",
    "* `invoke`: Gọi một chuỗi trên một đầu vào.\n",
    "* `batch`: Gọi một chuỗi đối với một danh sách các đầu vào.\n",
    "\n",
    "Ngoài ra, còn có các phương thức không đồng bộ:\n",
    "\n",
    "* `astream`: Phát luồng các phần phản hồi một cách không đồng bộ.\n",
    "* `ainvoke`: Gọi một chuỗi một cách không đồng bộ trên một đầu vào.\n",
    "* `abatch`: Gọi một chuỗi một cách không đồng bộ đối với một danh sách các đầu vào.\n",
    "* `astream_log`: Phát luồng phản hồi cuối cùng cũng như các bước trung gian khi chúng xảy ra.\n",
    "\n",
    "**Giải thích:**\n",
    "\n",
    "* `Runnable` protocol là một giao diện thống nhất cho phép bạn xây dựng các chuỗi (chains) xử lý dữ liệu một cách linh hoạt.\n",
    "* Các phương thức `invoke`, `batch`, `stream` và các phiên bản không đồng bộ của chúng cung cấp các cách khác nhau để thực thi các chuỗi này, tùy thuộc vào nhu cầu về đồng bộ, hiệu suất và luồng dữ liệu.\n",
    "* LCEL(LangChain Expression Language) là một cách để dễ dàng tạo chuỗi bằng cách sử dụng cú pháp đơn giản.\n",
    "\n",
    "**Log your trace (Ghi lại dấu vết của bạn)**\n",
    "\n",
    "Chúng tôi cung cấp nhiều cách để ghi lại dấu vết vào LangSmith. Dưới đây, chúng tôi sẽ làm nổi bật cách sử dụng `traceable()`.\n",
    "\n",
    "Sử dụng mã dưới đây để ghi lại một dấu vết trong LangSmith:\n",
    "\n",
    "```python\n",
    "import openai\n",
    "from langsmith import wrappers, traceable\n",
    "\n",
    "# Auto-trace LLM calls in-context\n",
    "client = wrappers.wrap_openai(openai.Client())\n",
    "\n",
    "@traceable # Auto-trace this function\n",
    "def pipeline(user_input: str):\n",
    "    result = client.chat.completions.create(\n",
    "        messages=[{\"role\": \"user\", \"content\": user_input}],\n",
    "        model=\"gpt-4o-mini\"\n",
    "    )\n",
    "    return result.choices[0].message.content\n",
    "\n",
    "pipeline(\"Hello, world!\")\n",
    "# Out:  Hello there! How can I assist you today?\n",
    "```\n",
    "\n",
    "**Giải thích:**\n",
    "\n",
    "* LangSmith là một công cụ để theo dõi và gỡ lỗi các ứng dụng LLM.\n",
    "* `wrappers.wrap_openai(openai.Client())` bọc client của openai, để có thể theo dõi các lời gọi đến openai.\n",
    "* `@traceable` là một decorator giúp tự động ghi lại các dấu vết (traces) của hàm `pipeline` vào LangSmith.\n",
    "* Điều này cho phép bạn kiểm tra các đầu vào, đầu ra và các bước trung gian của chuỗi, giúp bạn hiểu rõ hơn về cách ứng dụng LLM của mình hoạt động.\n",
    "\n",
    "**Create a chain using LCEL syntax (Tạo một chuỗi sử dụng cú pháp LCEL)**\n",
    "\n",
    "LCEL syntax là cú pháp để tạo chuỗi trong Langchain. Nó cho phép bạn kết nối các thành phần của LLM một cách dễ dàng.\n",
    "\n",
    "Ví dụ:\n",
    "\n",
    "```python\n",
    "from langchain.prompts import ChatPromptTemplate\n",
    "from langchain_openai import ChatOpenAI\n",
    "from langchain.schema.output_parser import StrOutputParser\n",
    "\n",
    "prompt = ChatPromptTemplate.from_template(\"tell me a joke about {topic}\")\n",
    "model = ChatOpenAI()\n",
    "output_parser = StrOutputParser()\n",
    "\n",
    "chain = prompt | model | output_parser\n",
    "\n",
    "chain.invoke({\"topic\": \"ice cream\"})\n",
    "```\n",
    "\n",
    "Trong ví dụ trên:\n",
    "\n",
    "* `prompt | model | output_parser` tạo một chuỗi bằng cách kết nối prompt, model và output parser.\n",
    "* `chain.invoke({\"topic\": \"ice cream\"})` gọi chuỗi với đầu vào là `{\"topic\": \"ice cream\"}`.\n",
    "\n",
    "LCEL giúp việc tạo các chuỗi phức tạp trở nên đơn giản và dễ đọc.\n"
   ]
  },
  {
   "cell_type": "code",
   "execution_count": 8,
   "metadata": {},
   "outputs": [],
   "source": [
    "from langchain_openai import ChatOpenAI\n",
    "from langchain_core.prompts import PromptTemplate\n",
    "from langchain_core.output_parsers import StrOutputParser\n",
    "\n",
    "model = ChatOpenAI(model_name=\"gpt-3.5-turbo\", temperature=0.0)\n",
    "prompt = PromptTemplate.from_template(\"Describle the {topic} in 3 sentences.\")\n",
    "chain = prompt | model | StrOutputParser()\n",
    "\n",
    "\n"
   ]
  },
  {
   "cell_type": "markdown",
   "metadata": {},
   "source": [
    "### stream: real-time output"
   ]
  },
  {
   "cell_type": "code",
   "execution_count": 9,
   "metadata": {},
   "outputs": [
    {
     "name": "stdout",
     "output_type": "stream",
     "text": [
      "Langchain is a decentralized language learning platform that uses blockchain technology to connect language learners with native speakers for personalized language practice. Users can earn tokens by helping others learn their native language, which can be used to access premium features on the platform. Langchain aims to create a global community of language learners and speakers, breaking down barriers to language learning and promoting cultural exchange."
     ]
    }
   ],
   "source": [
    "for token in chain.stream({\"topic\": \"langchain\"}):\n",
    "    print(token, end=\"\", flush=True)\n"
   ]
  },
  {
   "cell_type": "markdown",
   "metadata": {},
   "source": [
    "### invoke"
   ]
  },
  {
   "cell_type": "code",
   "execution_count": 10,
   "metadata": {},
   "outputs": [
    {
     "data": {
      "text/plain": [
       "'ChatGPT is an AI-powered chatbot that uses natural language processing to engage in conversations with users. It can provide information, answer questions, and even hold discussions on a wide range of topics. With its advanced language capabilities, ChatGPT aims to provide a more human-like and personalized chat experience.'"
      ]
     },
     "execution_count": 10,
     "metadata": {},
     "output_type": "execute_result"
    }
   ],
   "source": [
    "chain.invoke({\"topic\":\"ChatGPT\"})"
   ]
  },
  {
   "cell_type": "markdown",
   "metadata": {},
   "source": [
    "### batch"
   ]
  },
  {
   "cell_type": "code",
   "execution_count": 11,
   "metadata": {},
   "outputs": [
    {
     "data": {
      "text/plain": [
       "['Chat GPT is a state-of-the-art language model developed by OpenAI that can generate human-like responses in conversation. It uses deep learning techniques to understand and generate text based on the input it receives. Chat GPT has been trained on a vast amount of text data to improve its ability to engage in natural and coherent conversations with users.',\n",
       " 'Langchain is a decentralized platform that allows users to create and manage their own blockchain networks. It provides tools for developers to easily build and deploy custom blockchain applications. Langchain also offers a secure and scalable infrastructure for businesses looking to implement blockchain technology.']"
      ]
     },
     "execution_count": 11,
     "metadata": {},
     "output_type": "execute_result"
    }
   ],
   "source": [
    "chain.batch([{\"topic\":\"Chat GPT\"}, {\"topic\":\"Langchain\"}])"
   ]
  },
  {
   "cell_type": "markdown",
   "metadata": {},
   "source": [
    "Bạn có thể sử dụng tham số `max_concurrency` để đặt số lượng yêu cầu đồng thời | Từ điển `config` sử dụng khóa `max_concurrency` để đặt số lượng thao tác tối đa có thể được xử lý đồng thời. Ở đây, nó được thiết lập để xử lý tối đa ba công việc đồng thời.\n"
   ]
  },
  {
   "cell_type": "code",
   "execution_count": 12,
   "metadata": {},
   "outputs": [
    {
     "data": {
      "text/plain": [
       "['ChatGPT is an AI-powered chatbot that uses natural language processing to engage in conversations with users. It can provide information, answer questions, and even hold casual conversations on a wide range of topics. With its advanced language capabilities, ChatGPT aims to provide a more human-like and personalized chat experience for users.',\n",
       " 'Instagram is a popular social media platform where users can share photos and videos with their followers. It allows users to edit and enhance their photos with filters and other editing tools. Users can also engage with others by liking, commenting, and sharing posts.',\n",
       " 'Multimodal refers to the use of multiple modes of communication, such as verbal, visual, and gestural, to convey information. It allows for a more comprehensive and engaging way of presenting information, catering to different learning styles and preferences. By incorporating various modes of communication, multimodal communication can enhance understanding and retention of information.',\n",
       " 'Programming is the process of creating instructions for a computer to follow in order to perform a specific task. It involves writing code using a programming language, which is then translated into machine-readable instructions by a compiler or interpreter. Programmers use logic, problem-solving skills, and creativity to develop efficient and functional software applications.',\n",
       " 'Machine learning is a subset of artificial intelligence that allows computers to learn and improve from experience without being explicitly programmed. It involves algorithms that analyze and interpret data to make predictions or decisions. Machine learning is used in a wide range of applications, from recommendation systems to self-driving cars.']"
      ]
     },
     "execution_count": 12,
     "metadata": {},
     "output_type": "execute_result"
    }
   ],
   "source": [
    "topics =  [\n",
    "        {\"topic\": \"ChatGPT\"},\n",
    "        {\"topic\": \"Instagram\"},\n",
    "        {\"topic\": \"multimodal\"},\n",
    "        {\"topic\": \"programming\"},\n",
    "        {\"topic\": \"machineLearning\"},\n",
    "    ]\n",
    "\n",
    "chain.batch(topics, config={\"max_concurrency\":3})"
   ]
  },
  {
   "cell_type": "markdown",
   "metadata": {},
   "source": [
    "### async stream\n",
    "\n",
    "\"Hàm `chain.astream` tạo ra một luồng bất đồng bộ (asynchronous stream) và xử lý các tin nhắn cho một chủ đề (topic) cụ thể một cách bất đồng bộ.\n",
    "\n",
    "Nó sử dụng vòng lặp `async for` để tuần tự nhận các tin nhắn từ luồng, và hàm `print` để in ngay lập tức nội dung của các tin nhắn (`s.content`). `end=\"\"` vô hiệu hóa việc xuống dòng sau khi in, và `flush=True` buộc bộ đệm đầu ra (output buffer) được làm rỗng để đảm bảo in ngay lập tức.\"\n"
   ]
  },
  {
   "cell_type": "code",
   "execution_count": 14,
   "metadata": {},
   "outputs": [
    {
     "name": "stdout",
     "output_type": "stream",
     "text": [
      "ChatGPT is an AI-powered chatbot that uses natural language processing to engage in conversations with users. It can provide information, answer questions, and even hold discussions on a wide range of topics. With its advanced language capabilities, ChatGPT aims to simulate human-like interactions and provide personalized responses to users."
     ]
    }
   ],
   "source": [
    "async for token in chain.astream(topics[0]):\n",
    "    print(token, end=\"\", flush=True)"
   ]
  },
  {
   "cell_type": "markdown",
   "metadata": {},
   "source": [
    "### async invoke\n",
    "\n",
    "Phương thức `ainvoke` của một đối tượng `chain` thực hiện một thao tác bất đồng bộ (asynchronously) với các đối số (arguments) được cung cấp. Phương thức này có thể được sử dụng để yêu cầu xử lý bất đồng bộ cho một chủ đề (topic) cụ thể.\n"
   ]
  },
  {
   "cell_type": "code",
   "execution_count": 19,
   "metadata": {},
   "outputs": [],
   "source": [
    "my_process = chain.ainvoke(topics[0])"
   ]
  },
  {
   "cell_type": "code",
   "execution_count": 20,
   "metadata": {},
   "outputs": [
    {
     "data": {
      "text/plain": [
       "'ChatGPT is an AI-powered chatbot that uses natural language processing to engage in conversations with users. It can provide information, answer questions, and even hold discussions on a wide range of topics. With its advanced language capabilities, ChatGPT aims to create a more interactive and personalized experience for users seeking assistance or entertainment.'"
      ]
     },
     "execution_count": 20,
     "metadata": {},
     "output_type": "execute_result"
    }
   ],
   "source": [
    "await my_process"
   ]
  },
  {
   "cell_type": "markdown",
   "metadata": {},
   "source": [
    "### async batch\n",
    "\n",
    "The function abatch batches a series of actions asynchronously."
   ]
  },
  {
   "cell_type": "code",
   "execution_count": 21,
   "metadata": {},
   "outputs": [],
   "source": [
    "my_batch_process = chain.abatch(topics)"
   ]
  },
  {
   "cell_type": "code",
   "execution_count": 22,
   "metadata": {},
   "outputs": [
    {
     "data": {
      "text/plain": [
       "['ChatGPT is an AI-powered chatbot that can engage in conversations with users on a wide range of topics. It uses natural language processing to understand and respond to user input in a human-like manner. ChatGPT can provide information, answer questions, and even engage in casual conversations with users.',\n",
       " 'Instagram is a popular social media platform where users can share photos and videos with their followers. It allows users to edit and enhance their photos with filters and other editing tools. Users can also engage with others by liking, commenting, and sharing posts.',\n",
       " 'Multimodal refers to the use of multiple modes of communication, such as visual, auditory, and tactile, to convey information. It allows for a more engaging and interactive experience for the audience, as they can access information through different sensory channels. By incorporating various modes of communication, multimodal communication can cater to different learning styles and preferences.',\n",
       " 'Programming is the process of creating instructions for a computer to follow in order to perform a specific task. It involves writing code using a programming language, which is then translated into machine-readable instructions by a compiler or interpreter. Programmers use logic and problem-solving skills to design and implement algorithms that solve real-world problems.',\n",
       " 'Machine learning is a subset of artificial intelligence that allows computers to learn and improve from experience without being explicitly programmed. It involves algorithms that analyze and interpret data to make predictions or decisions. Machine learning is used in a wide range of applications, from recommendation systems to self-driving cars.']"
      ]
     },
     "execution_count": 22,
     "metadata": {},
     "output_type": "execute_result"
    }
   ],
   "source": [
    "await my_batch_process"
   ]
  },
  {
   "cell_type": "markdown",
   "metadata": {},
   "source": [
    "### Parallel\n",
    "\n",
    "Hãy cùng xem cách Ngôn ngữ Biểu thức LangChain (LangChain Expression Language) hỗ trợ các yêu cầu song song. Cụ thể, khi bạn sử dụng `RunnableParallel` (thường được viết dưới dạng từ điển), bạn thực thi từng phần tử song song.\n",
    "\n",
    "Dưới đây là một ví dụ về việc chạy hai tác vụ song song bằng lớp `RunnableParallel` trong module `langchain_core.runnables`.\n",
    "\n",
    "1.  **Tạo hai chuỗi (chain1, chain2):**\n",
    "    * Sử dụng phương thức `ChatPromptTemplate.from_template` để lấy thủ đô và diện tích cho một `country` (quốc gia) nhất định.\n",
    "    * `ChatPromptTemplate.from_template` là một cách để tạo ra các prompt mẫu cho các mô hình chat.\n",
    "2.  **Kết nối các chuỗi:**\n",
    "    * Các chuỗi này được kết nối thông qua `model` (mô hình) và toán tử pipe (`|`) tương ứng.\n",
    "    * `model` ở đây thường là một instance của LLM.\n",
    "    * Toán tử pipe (`|`) là một cách viết ngắn gọn để kết nối các `runnable` với nhau, truyền output của `runnable` phía trước vào input của `runnable` phía sau.\n",
    "3.  **Sử dụng `RunnableParallel`:**\n",
    "    * Cuối cùng, chúng ta sử dụng lớp `RunnableParallel` để kết hợp hai chuỗi này với các khóa `capital` (thủ đô) và `area` (diện tích) để tạo ra một đối tượng `combined` có thể được chạy song song.\n",
    "    * `RunnableParallel` sẽ chạy `chain1` và `chain2` đồng thời, và kết quả sẽ được trả về dưới dạng một dictionary với key là `capital` và `area`.\n"
   ]
  },
  {
   "cell_type": "code",
   "execution_count": 23,
   "metadata": {},
   "outputs": [],
   "source": [
    "from langchain_core.runnables import RunnableParallel\n",
    "\n",
    "chain1 = (\n",
    "    PromptTemplate.from_template(\"Thành phố của {country} là gì?\")\n",
    "    | model\n",
    "    | StrOutputParser()\n",
    ")\n",
    "\n",
    "chain2 = (\n",
    "    PromptTemplate.from_template(\"{country} nổi tiếng với điều gì?\")\n",
    "    | model \n",
    "    | StrOutputParser()\n",
    ")\n",
    "\n",
    "combined = RunnableParallel(capital=chain1, favorite=chain2)"
   ]
  },
  {
   "cell_type": "code",
   "execution_count": 24,
   "metadata": {},
   "outputs": [
    {
     "data": {
      "text/plain": [
       "{'capital': 'Thủ đô của Việt Nam là Hà Nội.',\n",
       " 'favorite': 'Vietnam nổi tiếng với nhiều điều, bao gồm:\\n\\n1. Văn hóa và lịch sử phong phú: Vietnam có một lịch sử lâu đời và văn hóa đa dạng, được thể hiện qua các di sản văn hóa như các di tích lịch sử, ngôn ngữ, trang phục truyền thống, ẩm thực và nghệ thuật dân gian.\\n\\n2. Phong cảnh đẹp: Vietnam có những cảnh đẹp tự nhiên tuyệt vời như vịnh Hạ Long, sông Mekong, núi rừng Tây Bắc, bãi biển Nha Trang và Đà Nẵng.\\n\\n3. Ẩm thực đặc sắc: Vietnam nổi tiếng với ẩm thực phong phú, ngon và đa dạng như phở, bánh mì, bún chả, bánh xèo, nem nướng, cà phê và nước mía.\\n\\n4. Du lịch: Vietnam là điểm đến phổ biến cho du khách quốc tế với các điểm du lịch nổi tiếng như Hà Nội, Sài Gòn, Hội An, Đà Lạt, Huế và Phú Quốc.\\n\\n5. Người dân thân thiện: Người Việt Nam được biết đến là những người thân thiện, hòa nhã và nhiệt tình đối với du khách.'}"
      ]
     },
     "execution_count": 24,
     "metadata": {},
     "output_type": "execute_result"
    }
   ],
   "source": [
    "combined.invoke({\"country\": \"Vietnam\"})"
   ]
  },
  {
   "cell_type": "markdown",
   "metadata": {},
   "source": [
    "### Parallelism in batches"
   ]
  },
  {
   "cell_type": "code",
   "execution_count": 25,
   "metadata": {},
   "outputs": [
    {
     "data": {
      "text/plain": [
       "[{'capital': 'Thủ đô của Canada là Ottawa.',\n",
       "  'favorite': 'Canada nổi tiếng với nhiều điều, bao gồm cả cảnh đẹp tự nhiên như hồ Ontario, thác Niagara và Rocky Mountains, cũng như với văn hóa đa dạng và hệ thống giáo dục và y tế hàng đầu thế giới. Ngoài ra, Canada cũng nổi tiếng với việc bảo vệ môi trường và quyền con người, cũng như với các môn thể thao như hockey và curling.'},\n",
       " {'capital': 'Có nhiều thành phố ở Hoa Kỳ, một số thành phố lớn và nổi tiếng bao gồm New York City, Los Angeles, Chicago, Houston, Philadelphia, Phoenix, San Antonio, San Diego, Dallas và San Jose.',\n",
       "  'favorite': 'Mỹ nổi tiếng với nhiều điều, bao gồm:\\n\\n1. Văn hóa pop: Mỹ là quốc gia sản xuất nhiều phim, âm nhạc, truyền hình và các sản phẩm văn hóa pop nổi tiếng trên toàn thế giới.\\n\\n2. Công nghệ: Mỹ là một trong những quốc gia hàng đầu về công nghệ và đổi mới, với nhiều công ty công nghệ lớn như Apple, Google, Facebook, Amazon.\\n\\n3. Thể thao: Mỹ có nhiều môn thể thao phổ biến và nổi tiếng như bóng đá Mỹ, bóng rổ, bóng bầu dục, baseball và bóng chày.\\n\\n4. Du lịch: Mỹ có nhiều địa điểm du lịch nổi tiếng như New York City, Los Angeles, Las Vegas, Grand Canyon, Yellowstone National Park.\\n\\n5. Ẩm thực: Mỹ có nhiều món ăn đặc trưng và ngon như hamburger, pizza, hot dog, BBQ, mỳ Ý.\\n\\n6. Khoa học và giáo dục: Mỹ có nhiều trường đại học hàng đầu thế giới và là trung tâm nghiên cứu và phát triển khoa học công nghệ.'}]"
      ]
     },
     "execution_count": 25,
     "metadata": {},
     "output_type": "execute_result"
    }
   ],
   "source": [
    "# Processes the given data in batches.\n",
    "combined.batch([{\"country\": \"Canada\"}, {\"country\": \"USA\"}])"
   ]
  },
  {
   "cell_type": "code",
   "execution_count": null,
   "metadata": {},
   "outputs": [],
   "source": []
  }
 ],
 "metadata": {
  "kernelspec": {
   "display_name": "langchain",
   "language": "python",
   "name": "python3"
  },
  "language_info": {
   "codemirror_mode": {
    "name": "ipython",
    "version": 3
   },
   "file_extension": ".py",
   "mimetype": "text/x-python",
   "name": "python",
   "nbconvert_exporter": "python",
   "pygments_lexer": "ipython3",
   "version": "3.10.16"
  }
 },
 "nbformat": 4,
 "nbformat_minor": 2
}
