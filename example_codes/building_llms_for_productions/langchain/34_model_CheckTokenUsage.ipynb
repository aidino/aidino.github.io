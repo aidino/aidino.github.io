{
 "cells": [
  {
   "cell_type": "markdown",
   "metadata": {},
   "source": [
    "# Check Token Usage\n",
    "\n",
    "Hướng dẫn này bao gồm cách theo dõi và giám sát việc sử dụng token với `LangChain` và `OpenAI API`.\n",
    "\n",
    "`Token usage tracking` (theo dõi việc sử dụng token) rất quan trọng để quản lý chi phí API và tối ưu hóa việc sử dụng tài nguyên.\n",
    "\n",
    "Trong hướng dẫn này, chúng ta sẽ tạo một ví dụ đơn giản để đo lường và giám sát mức tiêu thụ token trong các lệnh gọi `OpenAI API` bằng cách sử dụng `CallbackHandler` của LangChain.\n",
    "\n",
    "![](https://raw.githubusercontent.com/aidino/LangChain-OpenTutorial/683d91eb3fd1028345ee8e5b80660b3b0fcc6b96/04-Model/assets/04-CheckTokenUsage-example-flow-token-usage.png)\n"
   ]
  },
  {
   "cell_type": "code",
   "execution_count": 1,
   "metadata": {},
   "outputs": [
    {
     "name": "stdout",
     "output_type": "stream",
     "text": [
      "1. Phở Hà Nội: Một trong những món ăn nổi tiếng và phổ biến nhất của Hà Nội, phở Hà Nội có hương vị đặc trưng, ngon và hấp dẫn.\n",
      "\n",
      "2. Bún chả: Một món ăn truyền thống của Hà Nội, bún chả gồm bún, thịt nướng và nước mắm chua ngọt, tạo nên hương vị đặc trưng và hấp dẫn.\n",
      "\n",
      "3. Bánh mỳ pate: Một món ăn sáng phổ biến ở Hà Nội, bánh mỳ pate có vị ngon, thơm và béo của pate kết hợp với vị giòn của bánh mỳ.\n",
      "\n",
      "4. Nem chua rán: Một món ăn vặt phổ biến của người dân Hà Nội, nem chua rán có vị chua, cay, ngọt và giòn rất hấp dẫn.\n",
      "\n",
      "5. Bún ốc: Một món ăn đặc trưng của Hà Nội, bún ốc có hương vị đậm đà, thơm ngon và hấp dẫn, được nhiều người yêu thích.\n"
     ]
    }
   ],
   "source": [
    "# Setup environment\n",
    "import os\n",
    "from dotenv import load_dotenv\n",
    "from langchain_openai import ChatOpenAI\n",
    "from langchain_core.prompts import PromptTemplate\n",
    "from langchain_core.output_parsers import StrOutputParser\n",
    "from langchain_core.globals import set_llm_cache\n",
    "from langchain_community.cache import SQLiteCache\n",
    "\n",
    "load_dotenv(override=True, dotenv_path=\"../.env\")\n",
    "\n",
    "llm = ChatOpenAI(model_name=\"gpt-3.5-turbo\", temperature=0.0)\n",
    "prompt = PromptTemplate.from_template(\"Liệt kê 5 món ăn ngon ở {place}\")\n",
    "chain = prompt | llm | StrOutputParser()\n",
    "\n",
    "# Create cache directory\n",
    "if not os.path.exists(\"cache\"):\n",
    "    os.makedirs(\"cache\")\n",
    "\n",
    "# Set SQLiteCache\n",
    "set_llm_cache(SQLiteCache(database_path=\"cache/llm_cache.db\"))\n",
    "\n",
    "answer = chain.invoke(\"Hà Nội\")\n",
    "print(answer)"
   ]
  },
  {
   "cell_type": "code",
   "execution_count": 2,
   "metadata": {},
   "outputs": [
    {
     "data": {
      "text/plain": [
       "'1. Phở Hà Nội: Một trong những món ăn nổi tiếng và phổ biến nhất của Hà Nội, phở Hà Nội có hương vị đặc trưng, ngon và hấp dẫn.\\n\\n2. Bún chả: Một món ăn truyền thống của Hà Nội, bún chả gồm bún, thịt nướng và nước mắm chua ngọt, tạo nên hương vị đặc trưng và hấp dẫn.\\n\\n3. Bánh mỳ pate: Một món ăn sáng phổ biến ở Hà Nội, bánh mỳ pate có vị ngon, thơm và béo của pate kết hợp với vị giòn của bánh mỳ.\\n\\n4. Nem chua rán: Một món ăn vặt phổ biến của người dân Hà Nội, nem chua rán có vị chua, cay, ngọt và giòn rất hấp dẫn.\\n\\n5. Bún ốc: Một món ăn đặc trưng của Hà Nội, bún ốc có hương vị đậm đà, thơm ngon và hấp dẫn, được nhiều người yêu thích.'"
      ]
     },
     "execution_count": 2,
     "metadata": {},
     "output_type": "execute_result"
    }
   ],
   "source": [
    "chain.invoke(\"Hà Nội\")"
   ]
  },
  {
   "cell_type": "markdown",
   "metadata": {},
   "source": [
    "## Implementing Check Token Usage\n",
    "\n",
    "if you want to check token usage, you can use `get_openai_callback` function."
   ]
  },
  {
   "cell_type": "code",
   "execution_count": 3,
   "metadata": {},
   "outputs": [
    {
     "name": "stdout",
     "output_type": "stream",
     "text": [
      "Tokens Used: 389\n",
      "\tPrompt Tokens: 28\n",
      "\t\tPrompt Tokens Cached: 0\n",
      "\tCompletion Tokens: 361\n",
      "\t\tReasoning Tokens: 0\n",
      "Successful Requests: 1\n",
      "Total Cost (USD): $0.0005555\n"
     ]
    }
   ],
   "source": [
    "from langchain_community.callbacks.manager import get_openai_callback\n",
    "\n",
    "with get_openai_callback() as cb:\n",
    "  result = chain.invoke(\"Hà Nội\")\n",
    "  print(cb)"
   ]
  },
  {
   "cell_type": "code",
   "execution_count": 4,
   "metadata": {},
   "outputs": [
    {
     "name": "stdout",
     "output_type": "stream",
     "text": [
      "Total tokens used: \t\t28\n",
      "Tokens used in prompt: \t\t15\n",
      "Tokens used in completion: \t13\n",
      "Cost: \t\t\t\t$2.7e-05\n"
     ]
    }
   ],
   "source": [
    "# callback to track it\n",
    "with get_openai_callback() as cb:\n",
    "    result = llm.invoke(\"where is the capital of United States?\")\n",
    "    print(f\"Total tokens used: \\t\\t{cb.total_tokens}\")\n",
    "    print(f\"Tokens used in prompt: \\t\\t{cb.prompt_tokens}\")\n",
    "    print(f\"Tokens used in completion: \\t{cb.completion_tokens}\")\n",
    "    print(f\"Cost: \\t\\t\\t\\t${cb.total_cost}\")"
   ]
  },
  {
   "cell_type": "markdown",
   "metadata": {},
   "source": [
    "## Monitoring Token Usage\n",
    "\n",
    "Việc theo dõi sử dụng token (Token usage monitoring) là rất quan trọng để quản lý chi phí và tài nguyên khi sử dụng OpenAI API. LangChain cung cấp một cách dễ dàng để theo dõi điều này thông qua `get_openai_callback()`.\n",
    "\n",
    "Trong phần này, chúng ta sẽ khám phá việc theo dõi sử dụng token thông qua ba kịch bản chính:\n",
    "\n",
    "1.  **Theo dõi truy vấn đơn (Single Query Monitoring)**:\n",
    "    -   Theo dõi sử dụng token cho các lệnh gọi API riêng lẻ (individual API calls)\n",
    "    -   Phân biệt giữa token prompt và token completion\n",
    "    -   Tính toán chi phí (calculate costs)\n",
    "\n",
    "2.  **Theo dõi nhiều truy vấn (Multiple Queries Monitoring)**:\n",
    "    -   Theo dõi sử dụng token tích lũy (cumulative token usage) trên nhiều lệnh gọi API\n",
    "    -   Phân tích tổng chi phí (analyze total costs)\n",
    "\n",
    ">   **Lưu ý (Note)**: Việc theo dõi sử dụng token hiện chỉ được hỗ trợ cho OpenAI API.\n"
   ]
  },
  {
   "cell_type": "code",
   "execution_count": 5,
   "metadata": {},
   "outputs": [
    {
     "name": "stdout",
     "output_type": "stream",
     "text": [
      "1. Single Query Monitoring\n",
      "----------------------------------------\n",
      "Response: The capital of France is Paris.\n",
      "----------------------------------------\n",
      "Token Usage Statistics:\n",
      "Prompt Tokens: \t\t14\n",
      "Completion Tokens: \t8\n",
      "Total Tokens: \t\t22\n",
      "Cost: \t\t\t$0.0000\n",
      "\n"
     ]
    }
   ],
   "source": [
    "# 1. Single Query Monitoring\n",
    "print(\"1. Single Query Monitoring\")\n",
    "print(\"-\" * 40)\n",
    "\n",
    "with get_openai_callback() as cb:\n",
    "    response = llm.invoke(\"What is the capital of France?\")\n",
    "    print(f\"Response: {response.content}\")\n",
    "    print(\"-\" * 40)\n",
    "    print(f\"Token Usage Statistics:\")\n",
    "    print(f\"Prompt Tokens: \\t\\t{cb.prompt_tokens}\")\n",
    "    print(f\"Completion Tokens: \\t{cb.completion_tokens}\")\n",
    "    print(f\"Total Tokens: \\t\\t{cb.total_tokens}\")\n",
    "    print(f\"Cost: \\t\\t\\t${cb.total_cost:.4f}\\n\")"
   ]
  },
  {
   "cell_type": "code",
   "execution_count": 6,
   "metadata": {},
   "outputs": [
    {
     "name": "stdout",
     "output_type": "stream",
     "text": [
      "2. Multiple Queries Monitoring\n",
      "----------------------------------------\n",
      "Response 1: Python is a high-level, interpreted programming language known for its simplicity and readability. I...\n",
      "----------------------------------------\n",
      "Response 2: JavaScript is a high-level, dynamic, and interpreted programming language that is commonly used for ...\n",
      "----------------------------------------\n",
      "Cumulative Statistics:\n",
      "Total Prompt Tokens: \t\t22\n",
      "Total Completion Tokens: \t122\n",
      "Total Tokens: \t\t\t144\n",
      "Total Cost: \t\t\t$0.0002\n",
      "\n"
     ]
    }
   ],
   "source": [
    "# 2. Multiple Queries Monitoring\n",
    "print(\"2. Multiple Queries Monitoring\")\n",
    "print(\"-\" * 40)\n",
    "\n",
    "with get_openai_callback() as cb:\n",
    "    # First query\n",
    "    response1 = llm.invoke(\"What is Python?\")\n",
    "    # Second query\n",
    "    response2 = llm.invoke(\"What is JavaScript?\")\n",
    "\n",
    "    print(f\"Response 1: {response1.content[:100]}...\")\n",
    "    print(\"-\" * 40)\n",
    "    print(f\"Response 2: {response2.content[:100]}...\")\n",
    "    print(\"-\" * 40)\n",
    "    print(\"Cumulative Statistics:\")\n",
    "    print(f\"Total Prompt Tokens: \\t\\t{cb.prompt_tokens}\")\n",
    "    print(f\"Total Completion Tokens: \\t{cb.completion_tokens}\")\n",
    "    print(f\"Total Tokens: \\t\\t\\t{cb.total_tokens}\")\n",
    "    print(f\"Total Cost: \\t\\t\\t${cb.total_cost:.4f}\\n\")"
   ]
  },
  {
   "cell_type": "code",
   "execution_count": null,
   "metadata": {},
   "outputs": [],
   "source": []
  }
 ],
 "metadata": {
  "kernelspec": {
   "display_name": "langchain",
   "language": "python",
   "name": "python3"
  },
  "language_info": {
   "codemirror_mode": {
    "name": "ipython",
    "version": 3
   },
   "file_extension": ".py",
   "mimetype": "text/x-python",
   "name": "python",
   "nbconvert_exporter": "python",
   "pygments_lexer": "ipython3",
   "version": "3.10.16"
  }
 },
 "nbformat": 4,
 "nbformat_minor": 2
}
