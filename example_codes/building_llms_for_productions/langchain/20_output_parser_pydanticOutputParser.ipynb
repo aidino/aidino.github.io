{
 "cells": [
  {
   "cell_type": "markdown",
   "metadata": {},
   "source": [
    "# **PydanticOutputParser**\n",
    "\n",
    "**Tổng quan**\n",
    "\n",
    "Hướng dẫn này bao gồm cách thực hiện `PydanticOutputParser` sử dụng `pydantic`.\n",
    "\n",
    "**PydanticOutputParser** là một lớp giúp chuyển đổi đầu ra của mô hình ngôn ngữ thành **structured information** (thông tin có cấu trúc). Lớp này có thể **provide the information you need in a clear and organized form** (cung cấp thông tin bạn cần một cách rõ ràng và có tổ chức) thay vì chỉ một phản hồi văn bản đơn giản.\n",
    "\n",
    "Bằng cách sử dụng lớp này, bạn chuyển đổi đầu ra của mô hình ngôn ngữ để phù hợp với một mô hình dữ liệu cụ thể, giúp việc xử lý và sử dụng thông tin dễ dàng hơn.\n",
    "\n",
    "**Phương pháp chính**\n",
    "\n",
    "**PydanticOutputParser** chủ yếu yêu cầu triển khai hai phương pháp cốt lõi.\n",
    "\n",
    "* `get_format_instructions()`: **Provide instructions that define the format of the information that the language model should output** (Cung cấp hướng dẫn xác định định dạng thông tin mà mô hình ngôn ngữ nên xuất ra). Ví dụ: bạn có thể trả về hướng dẫn dưới dạng một chuỗi mô tả các trường dữ liệu mà mô hình ngôn ngữ nên xuất ra và cách chúng nên được định dạng. Những hướng dẫn này rất quan trọng để mô hình ngôn ngữ cấu trúc đầu ra và chuyển đổi nó để phù hợp với mô hình dữ liệu cụ thể của bạn.\n",
    "* `parse()`: **Takes the output of the language model (assumed to be a string) and analyzes and transforms it into a specific structure** (Lấy đầu ra của mô hình ngôn ngữ (giả định là một chuỗi) và phân tích và chuyển đổi nó thành một cấu trúc cụ thể). Sử dụng một công cụ như Pydantic để xác thực chuỗi đầu vào theo một lược đồ được xác định trước và chuyển đổi nó thành một cấu trúc dữ liệu tuân theo lược đồ đó.\n"
   ]
  },
  {
   "cell_type": "code",
   "execution_count": 1,
   "metadata": {},
   "outputs": [
    {
     "name": "stdout",
     "output_type": "stream",
     "text": [
      "\n",
      "**Important Parts of the Email:**\n",
      "- **Sender:** John (Senior Executive Director, Bike Corporation)\n",
      "- **Recipient:** Kim (Teddy International)\n",
      "- **Subject:** ZENESIS bike distribution cooperation and meeting schedule proposal\n",
      "- **Request:** Detailed brochure for the ZENESIS model, specifically information on:\n",
      "  - Technical specifications\n",
      "  - Battery performance\n",
      "  - Design aspects\n",
      "- **Purpose:** To refine distribution strategy and marketing plan for ZENESIS.\n",
      "- **Proposed Meeting:** \n",
      "  - Date: Tuesday, January 15th\n",
      "  - Time: 10:00 AM\n",
      "  - Location: Kim's office\n",
      "- **Closing:** Thank you and best regards.\n",
      "\n"
     ]
    }
   ],
   "source": [
    "example_response = \"\"\"\n",
    "**Important Parts of the Email:**\n",
    "- **Sender:** John (Senior Executive Director, Bike Corporation)\n",
    "- **Recipient:** Kim (Teddy International)\n",
    "- **Subject:** ZENESIS bike distribution cooperation and meeting schedule proposal\n",
    "- **Request:** Detailed brochure for the ZENESIS model, specifically information on:\n",
    "  - Technical specifications\n",
    "  - Battery performance\n",
    "  - Design aspects\n",
    "- **Purpose:** To refine distribution strategy and marketing plan for ZENESIS.\n",
    "- **Proposed Meeting:** \n",
    "  - Date: Tuesday, January 15th\n",
    "  - Time: 10:00 AM\n",
    "  - Location: Kim's office\n",
    "- **Closing:** Thank you and best regards.\n",
    "\"\"\"\n",
    "\n",
    "print(example_response)"
   ]
  },
  {
   "cell_type": "code",
   "execution_count": null,
   "metadata": {},
   "outputs": [],
   "source": [
    "from langchain_core.runnables import RunnablePassthrough"
   ]
  }
 ],
 "metadata": {
  "kernelspec": {
   "display_name": "langchain",
   "language": "python",
   "name": "python3"
  },
  "language_info": {
   "codemirror_mode": {
    "name": "ipython",
    "version": 3
   },
   "file_extension": ".py",
   "mimetype": "text/x-python",
   "name": "python",
   "nbconvert_exporter": "python",
   "pygments_lexer": "ipython3",
   "version": "3.10.16"
  }
 },
 "nbformat": 4,
 "nbformat_minor": 2
}
