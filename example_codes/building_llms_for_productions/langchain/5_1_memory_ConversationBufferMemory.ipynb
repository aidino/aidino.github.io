{
 "cells": [
  {
   "cell_type": "markdown",
   "metadata": {},
   "source": [
    "# ConversationBufferMemory\n",
    "\n",
    "Hướng dẫn này giới thiệu `ConversationBufferMemory`, một class memory lưu trữ lịch sử hội thoại trong một buffer.\n",
    "\n",
    "Thông thường, không cần xử lý bổ sung. Tuy nhiên, đôi khi, điều này có thể cần thiết khi lịch sử hội thoại vượt quá context window của model.\n",
    "\n",
    "Trong hướng dẫn này, chúng ta sẽ học cách sử dụng `ConversationBufferMemory` để lưu trữ và truy xuất lịch sử hội thoại.\n"
   ]
  },
  {
   "cell_type": "code",
   "execution_count": 1,
   "metadata": {},
   "outputs": [
    {
     "name": "stdout",
     "output_type": "stream",
     "text": [
      "1. Phở Hà Nội: Một trong những món ăn nổi tiếng và phổ biến nhất của Hà Nội, phở Hà Nội có hương vị đặc trưng, ngon và hấp dẫn.\n",
      "\n",
      "2. Bún chả: Một món ăn truyền thống của Hà Nội, bún chả gồm bún, thịt nướng và nước mắm chua ngọt, tạo nên hương vị đặc trưng và hấp dẫn.\n",
      "\n",
      "3. Bánh mỳ pate: Một món ăn sáng phổ biến ở Hà Nội, bánh mỳ pate có vị ngon, thơm và béo của pate kết hợp với vị giòn của bánh mỳ.\n",
      "\n",
      "4. Nem chua rán: Một món ăn vặt phổ biến của người dân Hà Nội, nem chua rán có vị chua, cay, ngọt và giòn rất hấp dẫn.\n",
      "\n",
      "5. Bún ốc: Một món ăn đặc trưng của Hà Nội, bún ốc có hương vị đậm đà, thơm ngon và hấp dẫn, được nhiều người yêu thích.\n"
     ]
    }
   ],
   "source": [
    "# Setup environment\n",
    "import os\n",
    "from dotenv import load_dotenv\n",
    "from langchain_openai import ChatOpenAI\n",
    "from langchain_core.prompts import PromptTemplate\n",
    "from langchain_core.output_parsers import StrOutputParser\n",
    "from langchain_core.globals import set_llm_cache\n",
    "from langchain_community.cache import SQLiteCache\n",
    "\n",
    "load_dotenv(override=True, dotenv_path=\"../.env\")\n",
    "\n",
    "llm = ChatOpenAI(model_name=\"gpt-3.5-turbo\", temperature=0.0)\n",
    "prompt = PromptTemplate.from_template(\"Liệt kê 5 món ăn ngon ở {place}\")\n",
    "chain = prompt | llm | StrOutputParser()\n",
    "\n",
    "# Create cache directory\n",
    "if not os.path.exists(\"cache\"):\n",
    "    os.makedirs(\"cache\")\n",
    "\n",
    "# Set SQLiteCache\n",
    "set_llm_cache(SQLiteCache(database_path=\"cache/llm_cache.db\"))\n",
    "\n",
    "answer = chain.invoke(\"Hà Nội\")\n",
    "print(answer)"
   ]
  },
  {
   "cell_type": "markdown",
   "metadata": {},
   "source": [
    "## Extracting messages as strings\n",
    "\n",
    "After storing conversation messages, this memory allows you to extract messages into a variable."
   ]
  },
  {
   "cell_type": "code",
   "execution_count": 2,
   "metadata": {},
   "outputs": [
    {
     "name": "stderr",
     "output_type": "stream",
     "text": [
      "/tmp/ipykernel_718416/3227628576.py:2: LangChainDeprecationWarning: Please see the migration guide at: https://python.langchain.com/docs/versions/migrating_memory/\n",
      "  memory = ConversationBufferMemory()\n"
     ]
    },
    {
     "data": {
      "text/plain": [
       "ConversationBufferMemory(chat_memory=InMemoryChatMessageHistory(messages=[]))"
      ]
     },
     "execution_count": 2,
     "metadata": {},
     "output_type": "execute_result"
    }
   ],
   "source": [
    "from langchain.memory import ConversationBufferMemory\n",
    "memory = ConversationBufferMemory()\n",
    "memory"
   ]
  },
  {
   "cell_type": "markdown",
   "metadata": {},
   "source": [
    "You can use the `save_context(inputs, outputs)` method to save conversation records.\n",
    "\n",
    "- This method accepts two arguments, `inputs` and `outputs`.\n",
    "- `inputs` stores the user's question, and `outputs` stores the AI's answer.\n",
    "- The conversation record is stored internally under the `history` key.\n",
    "- You can then use the `load_memory_variables` method to retrieve and inspect the saved conversation history."
   ]
  },
  {
   "cell_type": "code",
   "execution_count": 3,
   "metadata": {},
   "outputs": [],
   "source": [
    "# inputs: dictionary(key: \"human\" or \"ai\", value: question)\n",
    "# outputs: dictionary(key: \"ai\" or \"human\", value: answer)\n",
    "memory.save_context(\n",
    "    inputs={\n",
    "        \"human\": \"Hello, I want to open a bank account remotely. How do I start?\",\n",
    "    },\n",
    "    outputs={\n",
    "        \"ai\": \"Hello! I'm glad you want to open an account. First, please prepare your ID for identity verification.\"\n",
    "    },\n",
    ")"
   ]
  },
  {
   "cell_type": "code",
   "execution_count": 4,
   "metadata": {},
   "outputs": [
    {
     "data": {
      "text/plain": [
       "ConversationBufferMemory(chat_memory=InMemoryChatMessageHistory(messages=[HumanMessage(content='Hello, I want to open a bank account remotely. How do I start?', additional_kwargs={}, response_metadata={}), AIMessage(content=\"Hello! I'm glad you want to open an account. First, please prepare your ID for identity verification.\", additional_kwargs={}, response_metadata={})]))"
      ]
     },
     "execution_count": 4,
     "metadata": {},
     "output_type": "execute_result"
    }
   ],
   "source": [
    "memory"
   ]
  },
  {
   "cell_type": "markdown",
   "metadata": {},
   "source": [
    "The `load_memory_variables({})` method of the memory object returns the complete message history as a string."
   ]
  },
  {
   "cell_type": "code",
   "execution_count": 5,
   "metadata": {},
   "outputs": [
    {
     "name": "stdout",
     "output_type": "stream",
     "text": [
      "Human: Hello, I want to open a bank account remotely. How do I start?\n",
      "AI: Hello! I'm glad you want to open an account. First, please prepare your ID for identity verification.\n"
     ]
    }
   ],
   "source": [
    "# Check the message history stored in the 'history' key.\n",
    "print(memory.load_memory_variables({})[\"history\"])"
   ]
  },
  {
   "cell_type": "code",
   "execution_count": 6,
   "metadata": {},
   "outputs": [],
   "source": [
    "memory.save_context(\n",
    "    inputs={\n",
    "        \"human\": \"Yes, I've prepared my ID for identity verification. What should I do next?\"\n",
    "    },\n",
    "    outputs={\n",
    "        \"ai\": \"Thank you. Please upload the front and back of your ID clearly. We will proceed with the identity verification process next.\"\n",
    "    },\n",
    ")"
   ]
  },
  {
   "cell_type": "code",
   "execution_count": 7,
   "metadata": {},
   "outputs": [
    {
     "name": "stdout",
     "output_type": "stream",
     "text": [
      "Human: Hello, I want to open a bank account remotely. How do I start?\n",
      "AI: Hello! I'm glad you want to open an account. First, please prepare your ID for identity verification.\n",
      "Human: Yes, I've prepared my ID for identity verification. What should I do next?\n",
      "AI: Thank you. Please upload the front and back of your ID clearly. We will proceed with the identity verification process next.\n"
     ]
    }
   ],
   "source": [
    "# Check the message history stored in the 'history' key.\n",
    "print(memory.load_memory_variables({})[\"history\"])"
   ]
  },
  {
   "cell_type": "code",
   "execution_count": 8,
   "metadata": {},
   "outputs": [],
   "source": [
    "# Save 2 conversations.\n",
    "memory.save_context(\n",
    "    inputs={\n",
    "        \"human\": \"I uploaded the photo. How do I proceed with identity verification?\"\n",
    "    },\n",
    "    outputs={\n",
    "        \"ai\": \"We have confirmed the photo you uploaded. Please proceed with identity verification through your mobile phone. Please enter the verification number sent by text.\"\n",
    "    },\n",
    ")\n",
    "memory.save_context(\n",
    "    inputs={\n",
    "        \"human\": \"I entered the verification number. How do I open an account now?\"\n",
    "    },\n",
    "    outputs={\n",
    "        \"ai\": \"Identity verification has been completed. Please select the type of account you want and enter the necessary information. You can choose the type of deposit, currency, etc.\"\n",
    "    },\n",
    ")"
   ]
  },
  {
   "cell_type": "code",
   "execution_count": 9,
   "metadata": {},
   "outputs": [
    {
     "name": "stdout",
     "output_type": "stream",
     "text": [
      "Human: Hello, I want to open a bank account remotely. How do I start?\n",
      "AI: Hello! I'm glad you want to open an account. First, please prepare your ID for identity verification.\n",
      "Human: Yes, I've prepared my ID for identity verification. What should I do next?\n",
      "AI: Thank you. Please upload the front and back of your ID clearly. We will proceed with the identity verification process next.\n",
      "Human: I uploaded the photo. How do I proceed with identity verification?\n",
      "AI: We have confirmed the photo you uploaded. Please proceed with identity verification through your mobile phone. Please enter the verification number sent by text.\n",
      "Human: I entered the verification number. How do I open an account now?\n",
      "AI: Identity verification has been completed. Please select the type of account you want and enter the necessary information. You can choose the type of deposit, currency, etc.\n"
     ]
    }
   ],
   "source": [
    "# Check the conversation history stored in the 'history' key.\n",
    "print(memory.load_memory_variables({})[\"history\"])"
   ]
  },
  {
   "cell_type": "code",
   "execution_count": 10,
   "metadata": {},
   "outputs": [],
   "source": [
    "# Save 2 more conversations.\n",
    "memory.save_context(\n",
    "    inputs={\n",
    "        \"human\": \"I've entered all the information. What's the next step?\",\n",
    "    },\n",
    "    outputs={\n",
    "        \"ai\": \"I've confirmed the information you've entered. The account opening process is almost complete. Please agree to the terms of use and confirm the account opening.\"\n",
    "    },\n",
    ")\n",
    "memory.save_context(\n",
    "    inputs={\n",
    "        \"human\": \"I've completed all the steps. Has the account been opened?\",\n",
    "    },\n",
    "    outputs={\n",
    "        \"ai\": \"Yes, the account has been opened. Your account number and related information have been sent to the email you registered. If you need additional help, please contact us at any time. Thank you!\"\n",
    "    },\n",
    ")"
   ]
  },
  {
   "cell_type": "code",
   "execution_count": 11,
   "metadata": {},
   "outputs": [
    {
     "name": "stdout",
     "output_type": "stream",
     "text": [
      "Human: Hello, I want to open a bank account remotely. How do I start?\n",
      "AI: Hello! I'm glad you want to open an account. First, please prepare your ID for identity verification.\n",
      "Human: Yes, I've prepared my ID for identity verification. What should I do next?\n",
      "AI: Thank you. Please upload the front and back of your ID clearly. We will proceed with the identity verification process next.\n",
      "Human: I uploaded the photo. How do I proceed with identity verification?\n",
      "AI: We have confirmed the photo you uploaded. Please proceed with identity verification through your mobile phone. Please enter the verification number sent by text.\n",
      "Human: I entered the verification number. How do I open an account now?\n",
      "AI: Identity verification has been completed. Please select the type of account you want and enter the necessary information. You can choose the type of deposit, currency, etc.\n",
      "Human: I've entered all the information. What's the next step?\n",
      "AI: I've confirmed the information you've entered. The account opening process is almost complete. Please agree to the terms of use and confirm the account opening.\n",
      "Human: I've completed all the steps. Has the account been opened?\n",
      "AI: Yes, the account has been opened. Your account number and related information have been sent to the email you registered. If you need additional help, please contact us at any time. Thank you!\n"
     ]
    }
   ],
   "source": [
    "# Check the conversation history stored in the 'history' key.\n",
    "print(memory.load_memory_variables({})[\"history\"])"
   ]
  },
  {
   "cell_type": "markdown",
   "metadata": {},
   "source": [
    "## Extracting messages as `HumanMessage` and `AIMessage` objects\n",
    "\n",
    "Setting `return_messages=True` returns `HumanMessage` and `AIMessage` objects."
   ]
  },
  {
   "cell_type": "code",
   "execution_count": 12,
   "metadata": {},
   "outputs": [],
   "source": [
    "memory = ConversationBufferMemory(return_messages=True)\n",
    "\n",
    "memory.save_context(\n",
    "    inputs={\n",
    "        \"human\": \"Hello, I want to open a bank account remotely. How do I start?\",\n",
    "    },\n",
    "    outputs={\n",
    "        \"ai\": \"Hello! I'm glad you want to open an account. First, please prepare your ID for identity verification.\",\n",
    "    },\n",
    ")\n",
    "\n",
    "memory.save_context(\n",
    "    inputs={\n",
    "        \"human\": \"Yes, I've prepared my ID for identity verification. What should I do next?\"\n",
    "    },\n",
    "    outputs={\n",
    "        \"ai\": \"Thank you. Please upload the front and back of your ID clearly. We will proceed with the identity verification process next.\"\n",
    "    },\n",
    ")\n",
    "\n",
    "memory.save_context(\n",
    "    inputs={\n",
    "        \"human\": \"I uploaded the photo. How do I proceed with identity verification?\"\n",
    "    },\n",
    "    outputs={\n",
    "        \"ai\": \"We have confirmed the photo you uploaded. Please proceed with identity verification through your mobile phone. Please enter the verification number sent by text.\"\n",
    "    },\n",
    ")"
   ]
  },
  {
   "cell_type": "code",
   "execution_count": 13,
   "metadata": {},
   "outputs": [
    {
     "data": {
      "text/plain": [
       "[HumanMessage(content='Hello, I want to open a bank account remotely. How do I start?', additional_kwargs={}, response_metadata={}),\n",
       " AIMessage(content=\"Hello! I'm glad you want to open an account. First, please prepare your ID for identity verification.\", additional_kwargs={}, response_metadata={}),\n",
       " HumanMessage(content=\"Yes, I've prepared my ID for identity verification. What should I do next?\", additional_kwargs={}, response_metadata={}),\n",
       " AIMessage(content='Thank you. Please upload the front and back of your ID clearly. We will proceed with the identity verification process next.', additional_kwargs={}, response_metadata={}),\n",
       " HumanMessage(content='I uploaded the photo. How do I proceed with identity verification?', additional_kwargs={}, response_metadata={}),\n",
       " AIMessage(content='We have confirmed the photo you uploaded. Please proceed with identity verification through your mobile phone. Please enter the verification number sent by text.', additional_kwargs={}, response_metadata={})]"
      ]
     },
     "execution_count": 13,
     "metadata": {},
     "output_type": "execute_result"
    }
   ],
   "source": [
    "# Check the conversation history stored in the 'history' key.\n",
    "memory.load_memory_variables({})[\"history\"]"
   ]
  },
  {
   "cell_type": "markdown",
   "metadata": {},
   "source": [
    "## Applying to a Chain\n",
    "\n",
    "Let's apply `ConversationBufferMemory` to a `ConversationChain`."
   ]
  },
  {
   "cell_type": "code",
   "execution_count": 15,
   "metadata": {},
   "outputs": [
    {
     "name": "stderr",
     "output_type": "stream",
     "text": [
      "/tmp/ipykernel_718416/675096263.py:3: LangChainDeprecationWarning: The class `ConversationChain` was deprecated in LangChain 0.2.7 and will be removed in 1.0. Use :meth:`~RunnableWithMessageHistory: https://python.langchain.com/v0.2/api_reference/core/runnables/langchain_core.runnables.history.RunnableWithMessageHistory.html` instead.\n",
      "  conversation = ConversationChain(\n"
     ]
    }
   ],
   "source": [
    "from langchain.chains import ConversationChain\n",
    "\n",
    "conversation = ConversationChain(\n",
    "  llm=llm,\n",
    "  memory=ConversationBufferMemory()\n",
    ")"
   ]
  },
  {
   "cell_type": "code",
   "execution_count": 17,
   "metadata": {},
   "outputs": [
    {
     "name": "stdout",
     "output_type": "stream",
     "text": [
      "{'input': 'Liệt kê 5 món ăn ngon ở Hà Nội', 'history': 'Human: Liệt kê 5 món ăn ngon ở Hà Nội\\nAI: 1. Phở - a traditional Vietnamese noodle soup with flavorful broth, rice noodles, herbs, and your choice of meat.\\n2. Bún chả - grilled pork served with rice noodles, herbs, and dipping sauce.\\n3. Bánh mì - a Vietnamese sandwich with a crispy baguette filled with various meats, pickled vegetables, and herbs.\\n4. Bún bò Nam Bộ - a noodle dish with marinated beef, fresh herbs, peanuts, and a tangy dressing.\\n5. Nem cua bể - fried crab spring rolls, a popular street food in Hanoi.', 'response': 'Xin lỗi, tôi không biết.'}\n"
     ]
    }
   ],
   "source": [
    "response = conversation.invoke(\"Liệt kê 5 món ăn ngon ở Hà Nội\")\n",
    "print(response)"
   ]
  },
  {
   "cell_type": "code",
   "execution_count": 18,
   "metadata": {},
   "outputs": [
    {
     "name": "stdout",
     "output_type": "stream",
     "text": [
      "{'input': 'Summarize the previous answer in bullet points.', 'history': 'Human: Liệt kê 5 món ăn ngon ở Hà Nội\\nAI: 1. Phở - a traditional Vietnamese noodle soup with flavorful broth, rice noodles, herbs, and your choice of meat.\\n2. Bún chả - grilled pork served with rice noodles, herbs, and dipping sauce.\\n3. Bánh mì - a Vietnamese sandwich with a crispy baguette filled with various meats, pickled vegetables, and herbs.\\n4. Bún bò Nam Bộ - a noodle dish with marinated beef, fresh herbs, peanuts, and a tangy dressing.\\n5. Nem cua bể - fried crab spring rolls, a popular street food in Hanoi.\\nHuman: Liệt kê 5 món ăn ngon ở Hà Nội\\nAI: Xin lỗi, tôi không biết.', 'response': '- Phở: traditional Vietnamese noodle soup with flavorful broth, rice noodles, herbs, and choice of meat\\n- Bún chả: grilled pork served with rice noodles, herbs, and dipping sauce\\n- Bánh mì: Vietnamese sandwich with crispy baguette filled with meats, pickled vegetables, and herbs\\n- Bún bò Nam Bộ: noodle dish with marinated beef, herbs, peanuts, and tangy dressing\\n- Nem cua bể: fried crab spring rolls, popular street food in Hanoi'}\n"
     ]
    }
   ],
   "source": [
    "# Send a request to summarize the previous conversation in bullet points.\n",
    "response = conversation.invoke(\"Summarize the previous answer in bullet points.\")\n",
    "print(response)"
   ]
  },
  {
   "cell_type": "code",
   "execution_count": null,
   "metadata": {},
   "outputs": [],
   "source": []
  }
 ],
 "metadata": {
  "kernelspec": {
   "display_name": "langchain",
   "language": "python",
   "name": "python3"
  },
  "language_info": {
   "codemirror_mode": {
    "name": "ipython",
    "version": 3
   },
   "file_extension": ".py",
   "mimetype": "text/x-python",
   "name": "python",
   "nbconvert_exporter": "python",
   "pygments_lexer": "ipython3",
   "version": "3.10.16"
  }
 },
 "nbformat": 4,
 "nbformat_minor": 2
}
