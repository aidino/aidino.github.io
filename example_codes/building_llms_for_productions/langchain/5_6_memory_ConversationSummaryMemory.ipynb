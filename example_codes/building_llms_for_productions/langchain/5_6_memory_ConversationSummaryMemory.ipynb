{
 "cells": [
  {
   "cell_type": "markdown",
   "metadata": {},
   "source": [
    "# ConversationSummaryMemory\n",
    " \n",
    "Hướng dẫn này bao gồm cách tóm tắt và quản lý lịch sử trò chuyện bằng cách sử dụng `LangChain`.\n",
    "\n",
    "`ConversationSummaryMemory` tối ưu hóa việc sử dụng bộ nhớ bằng cách tóm tắt nội dung trò chuyện, cho phép quản lý hiệu quả lịch sử trò chuyện dài.\n",
    "\n",
    "Trong hướng dẫn này, chúng ta sẽ trình bày cách triển khai chức năng tóm tắt trò chuyện bằng cách sử dụng `ConversationSummaryMemory` của LangChain.\n"
   ]
  },
  {
   "cell_type": "code",
   "execution_count": 1,
   "metadata": {},
   "outputs": [],
   "source": [
    "import os\n",
    "from dotenv import load_dotenv\n",
    "from langchain_openai import ChatOpenAI\n",
    "from langchain_core.prompts import PromptTemplate\n",
    "from langchain_core.output_parsers import StrOutputParser\n",
    "\n",
    "load_dotenv(override=True, dotenv_path=\"../.env\")\n",
    "\n",
    "llm = ChatOpenAI(model_name=\"gpt-3.5-turbo\", temperature=0.0)"
   ]
  },
  {
   "cell_type": "markdown",
   "metadata": {},
   "source": [
    "## Conversation Summary Memory\n",
    "\n",
    "Chắc chắn rồi, hãy cùng khám phá cách sử dụng một loại bộ nhớ phức tạp hơn: `ConversationSummaryMemory`.\n",
    "\n",
    "Loại bộ nhớ này tạo ra **bản tóm tắt cuộc trò chuyện theo thời gian**, điều này có thể hữu ích để nén thông tin trò chuyện khi cuộc trò chuyện tiến triển.\n",
    "\n",
    "`ConversationSummaryMemory` tóm tắt cuộc trò chuyện khi nó tiếp tục và **lưu trữ bản tóm tắt hiện tại trong bộ nhớ**.\n",
    "\n",
    "Bộ nhớ này sau đó có thể được sử dụng để chèn lịch sử cuộc trò chuyện đã tóm tắt vào các prompt hoặc chains.\n",
    "\n",
    "Nó đặc biệt hữu ích cho các cuộc trò chuyện dài hơn, nơi việc giữ lại toàn bộ lịch sử cuộc trò chuyện trong prompt sẽ chiếm quá nhiều tokens.\n",
    "\n",
    "Hãy tạo một `ConversationSummaryMemory`.\n"
   ]
  },
  {
   "cell_type": "code",
   "execution_count": 2,
   "metadata": {},
   "outputs": [
    {
     "name": "stderr",
     "output_type": "stream",
     "text": [
      "/tmp/ipykernel_786613/1394417146.py:3: LangChainDeprecationWarning: Please see the migration guide at: https://python.langchain.com/docs/versions/migrating_memory/\n",
      "  memory = ConversationSummaryMemory(llm=llm, return_messages=True)\n"
     ]
    }
   ],
   "source": [
    "from langchain.memory import ConversationSummaryMemory\n",
    "\n",
    "memory = ConversationSummaryMemory(llm=llm, return_messages=True)\n",
    "\n",
    "memory.save_context(\n",
    "    inputs={\"human\": \"What is the price of the Europe travel package?\"},\n",
    "    outputs={\n",
    "        \"ai\": \"The base price for the 14-night, 15-day Europe package is €3,500. This price includes airfare, hotel accommodations, and admission fees to designated tourist attractions. Additional costs may vary depending on optional tours or personal expenses.\"\n",
    "    },\n",
    ")\n",
    "memory.save_context(\n",
    "    inputs={\"human\": \"What are the main tourist attractions included in the trip?\"},\n",
    "    outputs={\n",
    "        \"ai\": \"This trip includes visits to famous European landmarks such as the Eiffel Tower in Paris, the Colosseum in Rome, the Brandenburg Gate in Berlin, and Rhine Falls in Zurich. You'll comprehensively experience iconic sites in each city.\"\n",
    "    },\n",
    ")\n",
    "memory.save_context(\n",
    "    inputs={\"human\": \"Is travel insurance included?\"},\n",
    "    outputs={\n",
    "        \"ai\": \"Yes, basic travel insurance is provided for all travelers. This insurance includes medical expense coverage and support in emergency situations. Enhanced coverage is available upon request.\"\n",
    "    },\n",
    ")\n",
    "memory.save_context(\n",
    "    inputs={\n",
    "        \"human\": \"Can I upgrade my flight seat to business class? How much does it cost?\"\n",
    "    },\n",
    "    outputs={\n",
    "        \"ai\": \"Upgrading your flight seat to business class is possible. The upgrade cost is approximately €1,200 round-trip. Business class offers benefits such as wider seats, premium in-flight meals, and additional baggage allowance.\"\n",
    "    },\n",
    ")\n",
    "memory.save_context(\n",
    "    inputs={\"human\": \"What is the hotel rating included in the package?\"},\n",
    "    outputs={\n",
    "        \"ai\": \"The package includes accommodation in 4-star hotels. Each hotel offers comfort and convenience, with central locations providing easy access to tourist sites. All hotels are equipped with excellent services and amenities.\"\n",
    "    },\n",
    ")\n",
    "memory.save_context(\n",
    "    inputs={\"human\": \"Can you provide more details about the meal options?\"},\n",
    "    outputs={\n",
    "        \"ai\": \"This travel package includes daily breakfast served at the hotel. Lunch and dinner are not included, giving travelers the flexibility to explore and enjoy a variety of local cuisines. Additionally, a list of recommended restaurants in each city is provided to help maximize your culinary experience.\"\n",
    "    },\n",
    ")\n",
    "memory.save_context(\n",
    "    inputs={\n",
    "        \"human\": \"How much is the deposit for booking the package? What is the cancellation policy?\"\n",
    "    },\n",
    "    outputs={\n",
    "        \"ai\": \"A deposit of €500 is required when booking the package. The cancellation policy allows a full refund if canceled at least 30 days before the booking date. After that, the deposit becomes non-refundable. If canceled within 14 days of the travel start date, 50% of the total cost will be charged, and after that, the full cost will be non-refundable.\"\n",
    "    },\n",
    ")"
   ]
  },
  {
   "cell_type": "code",
   "execution_count": 3,
   "metadata": {},
   "outputs": [
    {
     "name": "stdout",
     "output_type": "stream",
     "text": [
      "[SystemMessage(content='The human asks about the price of the Europe travel package, which costs €3,500 for 14 nights and 15 days. Optional upgrades like business class seats are available for an additional €1,200 round-trip. The package includes accommodation in 4-star hotels, daily breakfast, and recommendations for local restaurants. A deposit of €500 is required to book the package, with a cancellation policy allowing a full refund if canceled at least 30 days before the travel date.', additional_kwargs={}, response_metadata={})]\n"
     ]
    }
   ],
   "source": [
    "# Check stored memory.\n",
    "print(memory.load_memory_variables({})[\"history\"])"
   ]
  },
  {
   "cell_type": "markdown",
   "metadata": {},
   "source": [
    "## Conversation Summary Buffer Memory\n",
    "\n",
    "`ConversationSummaryBufferMemory` kết hợp hai ý tưởng chính:\n",
    "\n",
    "Nó giữ lại một bộ đệm của lịch sử trò chuyện gần đây trong bộ nhớ đồng thời biên dịch các tương tác cũ hơn thành một bản tóm tắt mà không xóa hoàn toàn chúng.\n",
    "\n",
    "Nó xác định thời điểm xóa cuộc trò chuyện dựa trên **độ dài token**, thay vì số lượng tương tác.\n"
   ]
  },
  {
   "cell_type": "code",
   "execution_count": 4,
   "metadata": {},
   "outputs": [
    {
     "name": "stderr",
     "output_type": "stream",
     "text": [
      "/tmp/ipykernel_786613/4270176610.py:3: LangChainDeprecationWarning: Please see the migration guide at: https://python.langchain.com/docs/versions/migrating_memory/\n",
      "  memory = ConversationSummaryBufferMemory(\n"
     ]
    }
   ],
   "source": [
    "from langchain.memory import ConversationSummaryBufferMemory\n",
    "\n",
    "memory = ConversationSummaryBufferMemory(\n",
    "    llm=llm,\n",
    "    max_token_limit=200,  # Set the token length threshold for summarization.\n",
    "    return_messages=True,\n",
    ")"
   ]
  },
  {
   "cell_type": "code",
   "execution_count": 5,
   "metadata": {},
   "outputs": [],
   "source": [
    "memory.save_context(\n",
    "    inputs={\"human\": \"What is the price of the Europe travel package?\"},\n",
    "    outputs={\n",
    "        \"ai\": \"The base price for the 14-night, 15-day Europe package is €3,500. This price includes airfare, hotel accommodations, and admission fees to designated tourist attractions. Additional costs may vary depending on optional tours or personal expenses.\"\n",
    "    },\n",
    ")"
   ]
  },
  {
   "cell_type": "code",
   "execution_count": 6,
   "metadata": {},
   "outputs": [
    {
     "data": {
      "text/plain": [
       "[HumanMessage(content='What is the price of the Europe travel package?', additional_kwargs={}, response_metadata={}),\n",
       " AIMessage(content='The base price for the 14-night, 15-day Europe package is €3,500. This price includes airfare, hotel accommodations, and admission fees to designated tourist attractions. Additional costs may vary depending on optional tours or personal expenses.', additional_kwargs={}, response_metadata={})]"
      ]
     },
     "execution_count": 6,
     "metadata": {},
     "output_type": "execute_result"
    }
   ],
   "source": [
    "# Check the stored conversation history in memory\n",
    "memory.load_memory_variables({})[\"history\"]"
   ]
  },
  {
   "cell_type": "code",
   "execution_count": 7,
   "metadata": {},
   "outputs": [],
   "source": [
    "memory.save_context(\n",
    "    inputs={\"human\": \"What are the main tourist attractions included in the trip?\"},\n",
    "    outputs={\n",
    "        \"ai\": \"This trip includes visits to famous European landmarks such as the Eiffel Tower in Paris, the Colosseum in Rome, the Brandenburg Gate in Berlin, and Rhine Falls in Zurich. You'll comprehensively experience iconic sites in each city.\"\n",
    "    },\n",
    ")\n",
    "memory.save_context(\n",
    "    inputs={\"human\": \"Is travel insurance included?\"},\n",
    "    outputs={\n",
    "        \"ai\": \"Yes, basic travel insurance is provided for all travelers. This insurance includes medical expense coverage and support in emergency situations. Enhanced coverage is available upon request.\"\n",
    "    },\n",
    ")\n",
    "memory.save_context(\n",
    "    inputs={\n",
    "        \"human\": \"Can I upgrade my flight seat to business class? How much does it cost?\"\n",
    "    },\n",
    "    outputs={\n",
    "        \"ai\": \"Upgrading your flight seat to business class is possible. The upgrade cost is approximately €1,200 round-trip. Business class offers benefits such as wider seats, premium in-flight meals, and additional baggage allowance.\"\n",
    "    },\n",
    ")\n",
    "memory.save_context(\n",
    "    inputs={\"human\": \"What is the hotel rating included in the package?\"},\n",
    "    outputs={\n",
    "        \"ai\": \"The package includes accommodation in 4-star hotels. Each hotel offers comfort and convenience, with central locations providing easy access to tourist sites. All hotels are equipped with excellent services and amenities.\"\n",
    "    },\n",
    ")"
   ]
  },
  {
   "cell_type": "code",
   "execution_count": 8,
   "metadata": {},
   "outputs": [
    {
     "data": {
      "text/plain": [
       "[SystemMessage(content=\"The human inquires about the price of the Europe travel package. The AI responds that the base price for the 14-night, 15-day Europe package is €3,500, which includes airfare, hotel accommodations, and admission fees to tourist attractions. Additional costs may vary depending on optional tours or personal expenses. The trip includes visits to famous European landmarks such as the Eiffel Tower in Paris, the Colosseum in Rome, the Brandenburg Gate in Berlin, and Rhine Falls in Zurich. You'll comprehensively experience iconic sites in each city.\", additional_kwargs={}, response_metadata={}),\n",
       " HumanMessage(content='Is travel insurance included?', additional_kwargs={}, response_metadata={}),\n",
       " AIMessage(content='Yes, basic travel insurance is provided for all travelers. This insurance includes medical expense coverage and support in emergency situations. Enhanced coverage is available upon request.', additional_kwargs={}, response_metadata={}),\n",
       " HumanMessage(content='Can I upgrade my flight seat to business class? How much does it cost?', additional_kwargs={}, response_metadata={}),\n",
       " AIMessage(content='Upgrading your flight seat to business class is possible. The upgrade cost is approximately €1,200 round-trip. Business class offers benefits such as wider seats, premium in-flight meals, and additional baggage allowance.', additional_kwargs={}, response_metadata={}),\n",
       " HumanMessage(content='What is the hotel rating included in the package?', additional_kwargs={}, response_metadata={}),\n",
       " AIMessage(content='The package includes accommodation in 4-star hotels. Each hotel offers comfort and convenience, with central locations providing easy access to tourist sites. All hotels are equipped with excellent services and amenities.', additional_kwargs={}, response_metadata={})]"
      ]
     },
     "execution_count": 8,
     "metadata": {},
     "output_type": "execute_result"
    }
   ],
   "source": [
    "# Check the stored conversation history in memory\n",
    "memory.load_memory_variables({})[\"history\"]"
   ]
  },
  {
   "cell_type": "code",
   "execution_count": null,
   "metadata": {},
   "outputs": [],
   "source": []
  }
 ],
 "metadata": {
  "kernelspec": {
   "display_name": "langchain",
   "language": "python",
   "name": "python3"
  },
  "language_info": {
   "codemirror_mode": {
    "name": "ipython",
    "version": 3
   },
   "file_extension": ".py",
   "mimetype": "text/x-python",
   "name": "python",
   "nbconvert_exporter": "python",
   "pygments_lexer": "ipython3",
   "version": "3.10.16"
  }
 },
 "nbformat": 4,
 "nbformat_minor": 2
}
