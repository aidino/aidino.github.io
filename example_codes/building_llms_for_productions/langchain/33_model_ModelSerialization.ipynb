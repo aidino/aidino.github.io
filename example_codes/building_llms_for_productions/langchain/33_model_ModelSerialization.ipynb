{
 "cells": [
  {
   "cell_type": "markdown",
   "metadata": {},
   "source": [
    "# Model Serialization\n",
    "\n",
    "## Tổng quan\n",
    "\n",
    "Serialization (tuần tự hóa) là quá trình chuyển đổi một object thành một định dạng có thể dễ dàng được lưu trữ, chia sẻ hoặc truyền tải, và sau đó được tái tạo. Trong framework LangChain, các class triển khai các phương thức tiêu chuẩn cho serialization, mang lại một số lợi ích:\n",
    "\n",
    "- **Separation of Secrets**: Thông tin nhạy cảm, chẳng hạn như API keys, được tách biệt khỏi các parameters khác và có thể được tải lại một cách an toàn vào object trong quá trình deserialization (giải tuần tự hóa).\n",
    "\n",
    "- **Version Compatibility**: Deserialization vẫn tương thích giữa các phiên bản package khác nhau, đảm bảo rằng các object được serialized bằng một phiên bản của LangChain có thể được deserialized đúng cách bằng một phiên bản khác.\n",
    "\n",
    "Tất cả các object LangChain kế thừa từ `Serializable` đều có thể được JSON-serialized, bao gồm messages, document objects (ví dụ: những object được trả về từ retrievers), và hầu hết các Runnables như chat models, retrievers và chains được triển khai bằng LangChain Expression Language.\n",
    "\n",
    "### Lưu và Tải các Object LangChain\n",
    "\n",
    "Để quản lý hiệu quả các object LangChain, bạn có thể serialize và deserialize chúng bằng các functions sau:\n",
    "\n",
    "- **`dumpd`**: Trả về một dictionary representation của một object, phù hợp cho JSON serialization.\n",
    "\n",
    "- **`dumps`**: Trả về một JSON string representation của một object.\n",
    "\n",
    "- **`load`**: Tái tạo một object từ dictionary representation của nó.\n",
    "\n",
    "- **`loads`**: Tái tạo một object từ JSON string representation của nó.\n"
   ]
  },
  {
   "cell_type": "markdown",
   "metadata": {},
   "source": []
  }
 ],
 "metadata": {
  "language_info": {
   "name": "python"
  }
 },
 "nbformat": 4,
 "nbformat_minor": 2
}
