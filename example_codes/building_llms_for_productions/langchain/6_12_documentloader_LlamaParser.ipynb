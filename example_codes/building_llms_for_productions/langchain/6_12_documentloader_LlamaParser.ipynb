{
 "cells": [
  {
   "cell_type": "markdown",
   "metadata": {},
   "source": [
    "# LlamaParse\n",
    "\n",
    "`LlamaParse` là một dịch vụ phân tích tài liệu được phát triển bởi **LlamaIndex**, được thiết kế đặc biệt cho các mô hình ngôn ngữ lớn (LLMs).\n",
    "\n",
    "Các tính năng chính:\n",
    "\n",
    "- Hỗ trợ nhiều định dạng tài liệu khác nhau, chẳng hạn như PDF, Word, PowerPoint và Excel\n",
    "- Định dạng đầu ra tùy chỉnh thông qua hướng dẫn ngôn ngữ tự nhiên\n",
    "- Khả năng trích xuất bảng và hình ảnh nâng cao\n",
    "- Hỗ trợ đa ngôn ngữ\n",
    "- Hỗ trợ nhiều định dạng đầu ra\n",
    "\n",
    "`LlamaParse` có sẵn dưới dạng API độc lập và cũng được tích hợp vào nền tảng LlamaCloud. Dịch vụ này nhằm mục đích nâng cao hiệu suất của các ứng dụng dựa trên LLM, chẳng hạn như RAG (Retrieval-Augmented Generation), bằng cách phân tích cú pháp và tinh chỉnh tài liệu.\n",
    "\n",
    "Người dùng có thể xử lý tối đa 1.000 trang mỗi ngày miễn phí, với dung lượng bổ sung có sẵn thông qua các gói trả phí. `LlamaParse` hiện đang được cung cấp ở dạng beta công khai và liên tục mở rộng các tính năng của mình.\n",
    "\n",
    "- Liên kết: [https://cloud.llamaindex.ai](https://cloud.llamaindex.ai)\n"
   ]
  },
  {
   "cell_type": "code",
   "execution_count": null,
   "metadata": {},
   "outputs": [],
   "source": []
  },
  {
   "cell_type": "markdown",
   "metadata": {},
   "source": [
    "[READ MORE](https://github.com/aidino/LangChain-OpenTutorial/blob/main/06-DocumentLoader/12-LlamaParse.ipynb)"
   ]
  },
  {
   "cell_type": "markdown",
   "metadata": {},
   "source": []
  }
 ],
 "metadata": {
  "kernelspec": {
   "display_name": "langchain",
   "language": "python",
   "name": "python3"
  },
  "language_info": {
   "codemirror_mode": {
    "name": "ipython",
    "version": 3
   },
   "file_extension": ".py",
   "mimetype": "text/x-python",
   "name": "python",
   "nbconvert_exporter": "python",
   "pygments_lexer": "ipython3",
   "version": "3.10.16"
  }
 },
 "nbformat": 4,
 "nbformat_minor": 2
}
