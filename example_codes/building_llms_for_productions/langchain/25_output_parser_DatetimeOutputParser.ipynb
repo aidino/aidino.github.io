{
 "cells": [
  {
   "cell_type": "markdown",
   "metadata": {},
   "source": [
    "# DatetimeOutputParser\n",
    "\n",
    "The `DatetimeOutputParser` is an output parser that generates structured outputs in the form of `datetime` objects.\n",
    "\n",
    "By converting the outputs of LLMs into `datetime` objects, it enables more systematic and consistent processing of date and time data, making it useful for data processing and analysis.\n",
    "\n",
    "This tutorial demonstrates how to use the `DatetimeOutputParser` to:\n",
    "1. Set up and initialize the parser for `datetime` generation\n",
    "2. Convert a `datetime` object to a string"
   ]
  },
  {
   "cell_type": "code",
   "execution_count": 1,
   "metadata": {},
   "outputs": [],
   "source": [
    "# Setup environment\n",
    "import os\n",
    "from dotenv import load_dotenv\n",
    "from langchain_openai import ChatOpenAI\n",
    "\n",
    "load_dotenv(override=True, dotenv_path=\"../.env\")\n",
    "\n",
    "llm = ChatOpenAI(model_name=\"gpt-3.5-turbo\", temperature=0.0)"
   ]
  },
  {
   "cell_type": "markdown",
   "metadata": {},
   "source": [
    "## Using the `DatetimeOutputParser`\n",
    "If you need to generate output in the form of a date or time, the `DatetimeOutputParser` from LangChain simplifies the process.\n",
    "\n",
    "The **format of the `DatetimeOutputParser`** can be specified by referring to the table below.\n",
    "| Format Code | Description           | Example              |\n",
    "|--------------|-----------------------|----------------------|\n",
    "| %Y           | 4-digit year          | 2024                 |\n",
    "| %y           | 2-digit year          | 24                   |\n",
    "| %m           | 2-digit month         | 07                   |\n",
    "| %d           | 2-digit day           | 04                   |\n",
    "| %H           | 24-hour format hour   | 14                   |\n",
    "| %I           | 12-hour format hour   | 02                   |\n",
    "| %p           | AM or PM              | PM                   |\n",
    "| %M           | 2-digit minute        | 45                   |\n",
    "| %S           | 2-digit second        | 08                   |\n",
    "| %f           | Microsecond (6 digits)| 000123               |\n",
    "| %z           | UTC offset            | +0900                |\n",
    "| %Z           | Timezone name         | KST                  |\n",
    "| %a           | Abbreviated weekday   | Thu                  |\n",
    "| %A           | Full weekday name     | Thursday             |\n",
    "| %b           | Abbreviated month     | Jul                  |\n",
    "| %B           | Full month name       | July                 |\n",
    "| %c           | Full date and time    | Thu Jul 4 14:45:08 2024 |\n",
    "| %x           | Full date             | 07/04/24             |\n",
    "| %X           | Full time             | 14:45:08             |"
   ]
  },
  {
   "cell_type": "code",
   "execution_count": 4,
   "metadata": {},
   "outputs": [
    {
     "name": "stdout",
     "output_type": "stream",
     "text": [
      "Write a datetime string that matches the following pattern: '%Y-%m-%d'.\n",
      "\n",
      "Examples: 381-04-29, 649-02-27, 2018-03-28\n",
      "\n",
      "Return ONLY this string, no other words!\n",
      "-----------------------------------------------\n",
      "\n",
      "input_variables=['question'] input_types={} partial_variables={'format_instructions': \"Write a datetime string that matches the following pattern: '%Y-%m-%d'.\\n\\nExamples: 381-04-29, 649-02-27, 2018-03-28\\n\\nReturn ONLY this string, no other words!\"} template='Answer the users question:\\n\\n#Format Instructions: \\n{format_instructions}\\n\\n#Question: \\n{question}\\n\\n#Answer:'\n"
     ]
    }
   ],
   "source": [
    "from langchain.output_parsers import DatetimeOutputParser\n",
    "from langchain_core.prompts import PromptTemplate\n",
    "\n",
    "# Initialize the output parser\n",
    "output_parser = DatetimeOutputParser()\n",
    "\n",
    "# Specify date format\n",
    "date_format = \"%Y-%m-%d\"\n",
    "output_parser.format = date_format\n",
    "\n",
    "# Get format instructions\n",
    "format_instructions = output_parser.get_format_instructions()\n",
    "\n",
    "# Create answer template for user questions\n",
    "template = \"\"\"Answer the users question:\\n\\n#Format Instructions: \\n{format_instructions}\\n\\n#Question: \\n{question}\\n\\n#Answer:\"\"\"\n",
    "\n",
    "# Create a prompt from the template\n",
    "prompt = PromptTemplate.from_template(\n",
    "    template,\n",
    "    partial_variables={\n",
    "        \"format_instructions\": format_instructions,\n",
    "    },  # Use parser's format instructions\n",
    ")\n",
    "\n",
    "print(format_instructions)\n",
    "print(\"-----------------------------------------------\\n\")\n",
    "print(prompt)"
   ]
  },
  {
   "cell_type": "code",
   "execution_count": 5,
   "metadata": {},
   "outputs": [
    {
     "name": "stdout",
     "output_type": "stream",
     "text": [
      "1998-09-04 00:00:00\n",
      "<class 'datetime.datetime'>\n"
     ]
    }
   ],
   "source": [
    "# Combine the prompt, chat model, and output parser into a chain\n",
    "chain = prompt | llm | output_parser\n",
    "\n",
    "# Call the chain to get an answer to the question\n",
    "output = chain.invoke({\"question\": \"The year Google was founded\"})\n",
    "\n",
    "print(output)\n",
    "print(type(output))"
   ]
  },
  {
   "cell_type": "code",
   "execution_count": 6,
   "metadata": {},
   "outputs": [
    {
     "data": {
      "text/plain": [
       "'1998-09-04'"
      ]
     },
     "execution_count": 6,
     "metadata": {},
     "output_type": "execute_result"
    }
   ],
   "source": [
    "# Convert the result to a string\n",
    "output.strftime(date_format)"
   ]
  },
  {
   "cell_type": "markdown",
   "metadata": {},
   "source": [
    "## Using `DatetimeOutputParser` in `astream`\n",
    "Refer to the [user-defined generator](https://github.com/LangChain-OpenTutorial/LangChain-OpenTutorial/blob/main/13-LangChain-Expression-Language/09-Generator.ipynb) to create a generator function.\n",
    "\n",
    "Let's create a simple example that converts `astream` output to `datetime` objects using a generator function.\n",
    "\n"
   ]
  },
  {
   "cell_type": "code",
   "execution_count": 7,
   "metadata": {},
   "outputs": [],
   "source": [
    "from langchain_core.output_parsers.string import StrOutputParser\n",
    "from langchain.output_parsers.datetime import DatetimeOutputParser\n",
    "from langchain_core.prompts.prompt import PromptTemplate\n",
    "from langchain_openai.chat_models.base import ChatOpenAI\n",
    "import datetime\n",
    "from typing import AsyncIterator, List\n",
    "\n",
    "# Initialize the output parser\n",
    "output_parser = DatetimeOutputParser()\n",
    "\n",
    "# Specify date format\n",
    "date_format = \"%Y-%m-%d\"\n",
    "output_parser.format = date_format\n",
    "\n",
    "# Get format instructions\n",
    "format_instructions = output_parser.get_format_instructions()\n",
    "\n",
    "# Create answer template for user questions\n",
    "template = (\n",
    "    \"Answer the users question:\\n\\n\"\n",
    "    \"#Format Instructions: \\n{format_instructions}\\n\"\n",
    "    \"Write a comma-separated list of 5 founding years of companies similar to: {company}\"\n",
    ")\n",
    "\n",
    "# Create a prompt from the template\n",
    "prompt = PromptTemplate.from_template(\n",
    "    template,\n",
    "    partial_variables={\"format_instructions\": format_instructions},\n",
    ")\n",
    "\n",
    "# Initialize the ChatOpenAI model with temperature set to 0.0\n",
    "model = ChatOpenAI(temperature=0.0, model_name=\"gpt-4o-mini\")\n",
    "\n",
    "# Create a chain combining the prompt, model, and string output parser\n",
    "str_chain = prompt | model | StrOutputParser()\n",
    "\n",
    "\n",
    "# Define an asynchronous function to convert strings to datetime objects\n",
    "async def convert_strings_to_datetime(\n",
    "    input: AsyncIterator[str],\n",
    ") -> AsyncIterator[List[datetime.datetime]]:\n",
    "    buffer = \"\"\n",
    "    async for chunk in input:\n",
    "        buffer += chunk\n",
    "        while \",\" in buffer:\n",
    "            comma_index = buffer.index(\",\")\n",
    "            date_str = buffer[:comma_index].strip()\n",
    "            date_obj = output_parser.parse(date_str)  # Convert to datetime object\n",
    "            yield [date_obj]\n",
    "            buffer = buffer[comma_index + 1 :]\n",
    "    date_str = buffer.strip()\n",
    "    if date_str:\n",
    "        date_obj = output_parser.parse(\n",
    "            date_str\n",
    "        )  # Convert remaining buffer to datetime object\n",
    "        yield [date_obj]\n",
    "\n",
    "\n",
    "# Connect the str_chain and convert_strings_to_datetime in a pipeline\n",
    "alist_chain = str_chain | convert_strings_to_datetime"
   ]
  },
  {
   "cell_type": "code",
   "execution_count": 8,
   "metadata": {},
   "outputs": [
    {
     "name": "stdout",
     "output_type": "stream",
     "text": [
      "[datetime.datetime(1998, 9, 4, 0, 0)]\n",
      "[datetime.datetime(1994, 4, 4, 0, 0)]\n",
      "[datetime.datetime(2004, 2, 4, 0, 0)]\n",
      "[datetime.datetime(2003, 2, 4, 0, 0)]\n",
      "[datetime.datetime(2001, 3, 1, 0, 0)]\n"
     ]
    }
   ],
   "source": [
    "# Use async for loop to stream data.\n",
    "async for chunk in alist_chain.astream({\"company\": \"Google\"}):\n",
    "    # Print each chunk and flush the buffer.\n",
    "    print(chunk, flush=True)"
   ]
  },
  {
   "cell_type": "code",
   "execution_count": null,
   "metadata": {},
   "outputs": [],
   "source": []
  }
 ],
 "metadata": {
  "kernelspec": {
   "display_name": "langchain",
   "language": "python",
   "name": "python3"
  },
  "language_info": {
   "codemirror_mode": {
    "name": "ipython",
    "version": 3
   },
   "file_extension": ".py",
   "mimetype": "text/x-python",
   "name": "python",
   "nbconvert_exporter": "python",
   "pygments_lexer": "ipython3",
   "version": "3.10.16"
  }
 },
 "nbformat": 4,
 "nbformat_minor": 2
}
