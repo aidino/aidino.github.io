{
 "cells": [
  {
   "cell_type": "markdown",
   "metadata": {},
   "source": [
    "# ConversationBufferWindowMemory\n",
    "\n",
    "Hướng dẫn này giới thiệu `ConversationBufferWindowMemory`, giúp duy trì một sliding window các tương tác hội thoại gần đây theo thời gian.\n",
    "\n",
    "Thay vì sử dụng toàn bộ nội dung hội thoại, `ConversationBufferWindowMemory` chỉ giữ lại **K tương tác gần đây nhất**.\n",
    "\n",
    "Điều này ngăn buffer memory phát triển quá lớn.\n"
   ]
  },
  {
   "cell_type": "code",
   "execution_count": 1,
   "metadata": {},
   "outputs": [
    {
     "name": "stdout",
     "output_type": "stream",
     "text": [
      "1. Phở Hà Nội: Một trong những món ăn nổi tiếng và phổ biến nhất của Hà Nội, phở Hà Nội có hương vị đặc trưng, ngon và hấp dẫn.\n",
      "\n",
      "2. Bún chả: Một món ăn truyền thống của Hà Nội, bún chả gồm bún, thịt nướng và nước mắm chua ngọt, tạo nên hương vị đặc trưng và hấp dẫn.\n",
      "\n",
      "3. Bánh mỳ pate: Một món ăn sáng phổ biến ở Hà Nội, bánh mỳ pate có vị ngon, thơm và béo của pate kết hợp với vị giòn của bánh mỳ.\n",
      "\n",
      "4. Nem chua rán: Một món ăn vặt phổ biến của người dân Hà Nội, nem chua rán có vị chua, cay, ngọt và giòn rất hấp dẫn.\n",
      "\n",
      "5. Bún ốc: Một món ăn đặc trưng của Hà Nội, bún ốc có hương vị đậm đà, thơm ngon và hấp dẫn, được nhiều người yêu thích.\n"
     ]
    }
   ],
   "source": [
    "# Setup environment\n",
    "import os\n",
    "from dotenv import load_dotenv\n",
    "from langchain_openai import ChatOpenAI\n",
    "from langchain_core.prompts import PromptTemplate\n",
    "from langchain_core.output_parsers import StrOutputParser\n",
    "from langchain_core.globals import set_llm_cache\n",
    "from langchain_community.cache import SQLiteCache\n",
    "\n",
    "load_dotenv(override=True, dotenv_path=\"../.env\")\n",
    "\n",
    "llm = ChatOpenAI(model_name=\"gpt-3.5-turbo\", temperature=0.0)\n",
    "prompt = PromptTemplate.from_template(\"Liệt kê 5 món ăn ngon ở {place}\")\n",
    "chain = prompt | llm | StrOutputParser()\n",
    "\n",
    "# Create cache directory\n",
    "if not os.path.exists(\"cache\"):\n",
    "    os.makedirs(\"cache\")\n",
    "\n",
    "# Set SQLiteCache\n",
    "set_llm_cache(SQLiteCache(database_path=\"cache/llm_cache.db\"))\n",
    "\n",
    "answer = chain.invoke(\"Hà Nội\")\n",
    "print(answer)"
   ]
  },
  {
   "cell_type": "markdown",
   "metadata": {},
   "source": [
    "## Online Bank Account Opening Conversation Example\n",
    "\n",
    "Ví dụ này minh họa việc sử dụng `ConversationBufferWindowMemory` để mô phỏng một cuộc hội thoại trợ lý ngân hàng ảo. Luồng này bao gồm quy trình mở tài khoản ngân hàng trực tuyến thông thường, từ lời chào ban đầu đến xác nhận tạo tài khoản, chỉ giữ lại các tương tác gần đây nhất trong memory.\n"
   ]
  },
  {
   "cell_type": "code",
   "execution_count": 2,
   "metadata": {},
   "outputs": [
    {
     "name": "stderr",
     "output_type": "stream",
     "text": [
      "/tmp/ipykernel_732502/2111032156.py:3: LangChainDeprecationWarning: Please see the migration guide at: https://python.langchain.com/docs/versions/migrating_memory/\n",
      "  memory = ConversationBufferWindowMemory(k=2, return_messages=True)\n"
     ]
    }
   ],
   "source": [
    "from langchain.memory import ConversationBufferWindowMemory\n",
    "\n",
    "memory = ConversationBufferWindowMemory(k=2, return_messages=True)\n",
    "\n",
    "memory.save_context(\n",
    "    inputs={\n",
    "        \"human\": \"Hello, I'd like to open a bank account online. How do I get started?\"\n",
    "    },\n",
    "    outputs={\n",
    "        \"ai\": \"Hello! I'm glad you want to open an account. First, could you please prepare your ID for verification?\"\n",
    "    },\n",
    ")\n",
    "memory.save_context(\n",
    "    inputs={\"human\": \"Yes, I have my ID ready. What should I do next?\"},\n",
    "    outputs={\n",
    "        \"ai\": \"Thank you. Please take clear photos of both sides of your ID and upload them. Then we'll proceed with the identity verification process.\"\n",
    "    },\n",
    ")\n",
    "memory.save_context(\n",
    "    inputs={\n",
    "        \"human\": \"I've uploaded the photos. How does the identity verification work?\"\n",
    "    },\n",
    "    outputs={\n",
    "        \"ai\": \"I've confirmed your uploaded photos. Now, please proceed with phone verification. You'll receive a verification code via text message - please enter that code.\"\n",
    "    },\n",
    ")\n",
    "memory.save_context(\n",
    "    inputs={\n",
    "        \"human\": \"I've entered the verification code. How do I proceed with opening the account?\"\n",
    "    },\n",
    "    outputs={\n",
    "        \"ai\": \"Your identity has been verified. Now, please select the type of account you want and enter the required information. You can choose the type of deposit, currency, and other options.\"\n",
    "    },\n",
    ")\n",
    "memory.save_context(\n",
    "    inputs={\"human\": \"I've entered all the information. What's the next step?\"},\n",
    "    outputs={\n",
    "        \"ai\": \"I've confirmed your information. The account opening process is almost complete. Finally, please agree to the terms of service and confirm the account opening.\"\n",
    "    },\n",
    ")\n",
    "memory.save_context(\n",
    "    inputs={\"human\": \"I've completed all the steps. Has the account been opened?\"},\n",
    "    outputs={\n",
    "        \"ai\": \"Yes, your account has been successfully opened. Your account number and related information have been sent to your registered email. Please let us know if you need any further assistance. Thank you!\"\n",
    "    },\n",
    ")"
   ]
  },
  {
   "cell_type": "markdown",
   "metadata": {},
   "source": [
    "## Retrieving Conversation History\n",
    "\n",
    "Let's examine the stored conversation history using the `load_memory_variables()` method to verify our window-based memory retention."
   ]
  },
  {
   "cell_type": "code",
   "execution_count": 3,
   "metadata": {},
   "outputs": [
    {
     "data": {
      "text/plain": [
       "[HumanMessage(content=\"I've entered all the information. What's the next step?\", additional_kwargs={}, response_metadata={}),\n",
       " AIMessage(content=\"I've confirmed your information. The account opening process is almost complete. Finally, please agree to the terms of service and confirm the account opening.\", additional_kwargs={}, response_metadata={}),\n",
       " HumanMessage(content=\"I've completed all the steps. Has the account been opened?\", additional_kwargs={}, response_metadata={}),\n",
       " AIMessage(content='Yes, your account has been successfully opened. Your account number and related information have been sent to your registered email. Please let us know if you need any further assistance. Thank you!', additional_kwargs={}, response_metadata={})]"
      ]
     },
     "execution_count": 3,
     "metadata": {},
     "output_type": "execute_result"
    }
   ],
   "source": [
    "# Check the conversation history\n",
    "memory.load_memory_variables({})[\"history\"]"
   ]
  },
  {
   "cell_type": "code",
   "execution_count": null,
   "metadata": {},
   "outputs": [],
   "source": []
  }
 ],
 "metadata": {
  "kernelspec": {
   "display_name": "langchain",
   "language": "python",
   "name": "python3"
  },
  "language_info": {
   "codemirror_mode": {
    "name": "ipython",
    "version": 3
   },
   "file_extension": ".py",
   "mimetype": "text/x-python",
   "name": "python",
   "nbconvert_exporter": "python",
   "pygments_lexer": "ipython3",
   "version": "3.10.16"
  }
 },
 "nbformat": 4,
 "nbformat_minor": 2
}
