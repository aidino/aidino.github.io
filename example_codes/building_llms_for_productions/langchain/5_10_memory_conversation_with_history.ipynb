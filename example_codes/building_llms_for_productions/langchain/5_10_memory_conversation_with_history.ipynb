{
 "cells": [
  {
   "cell_type": "markdown",
   "metadata": {},
   "source": [
    "# Conversation With History\n",
    "\n",
    "Hướng dẫn này bao gồm cách tạo một `Chain` đa lượt (multi-turn) có khả năng ghi nhớ các cuộc trò chuyện trước đó, sử dụng LangChain.<br>\n",
    "Nó bao gồm việc quản lý lịch sử cuộc trò chuyện (conversation history), định nghĩa một `ChatPromptTemplate`, và sử dụng LLM để tạo chain.<br>\n",
    "Lịch sử cuộc trò chuyện được quản lý bằng cách sử dụng `chat_history`.\n"
   ]
  },
  {
   "cell_type": "code",
   "execution_count": 1,
   "metadata": {},
   "outputs": [],
   "source": [
    "import os\n",
    "from dotenv import load_dotenv\n",
    "from langchain_openai import ChatOpenAI\n",
    "from langchain_core.prompts import PromptTemplate\n",
    "from langchain_core.output_parsers import StrOutputParser\n",
    "\n",
    "load_dotenv(override=True, dotenv_path=\"../.env\")\n",
    "\n",
    "llm = ChatOpenAI(model_name=\"gpt-3.5-turbo\", temperature=0.0)"
   ]
  },
  {
   "cell_type": "markdown",
   "metadata": {},
   "source": [
    "## Creating a Chain that Remembers Previous Conversations\n",
    "\n",
    "`MessagesPlaceholder` là một lớp (class) trong LangChain được sử dụng để xử lý lịch sử cuộc trò chuyện (conversation history). Nó chủ yếu được sử dụng trong chatbot hoặc các hệ thống hội thoại đa lượt (multi-turn) để lưu trữ và tái sử dụng nội dung hội thoại trước đó.\n",
    "\n",
    "### Vai trò chính\n",
    "\n",
    "**Chèn Lịch Sử Cuộc Trò Chuyện (Inserting Conversation History)**:\n",
    "\n",
    "* Được sử dụng để chèn các cuộc hội thoại trước đó (ví dụ: lịch sử hỏi đáp) vào prompt.\n",
    "* Điều này cho phép model hiểu ngữ cảnh của cuộc trò chuyện và tạo ra các phản hồi phù hợp.\n",
    "\n",
    "**Quản Lý Biến (Managing Variables)**:\n",
    "\n",
    "* Quản lý lịch sử cuộc trò chuyện trong prompt bằng cách sử dụng một key cụ thể (ví dụ: `chat_history`).\n",
    "* Nó được liên kết với một tên biến do người dùng định nghĩa.\n",
    "\n",
    "### Cách Sử Dụng\n",
    "\n",
    "`MessagesPlaceholder(variable_name=\"chat_history\")`\n",
    "\n",
    "* Ở đây, `chat_history` là tên biến nơi lịch sử cuộc trò chuyện được lưu trữ.\n",
    "* Khi cuộc trò chuyện tiến triển, `chat_history` liên tục được cập nhật với các cặp câu hỏi và câu trả lời.\n"
   ]
  },
  {
   "cell_type": "code",
   "execution_count": 2,
   "metadata": {},
   "outputs": [],
   "source": [
    "from langchain_core.prompts import ChatPromptTemplate, MessagesPlaceholder\n",
    "from langchain_community.chat_message_histories import ChatMessageHistory\n",
    "from langchain_core.chat_history import BaseChatMessageHistory\n",
    "from langchain_core.runnables.history import RunnableWithMessageHistory\n",
    "from langchain_core.output_parsers import StrOutputParser\n",
    "\n",
    "# Define the prompt.\n",
    "prompt = ChatPromptTemplate.from_messages(\n",
    "    [\n",
    "        (\n",
    "            \"system\",\n",
    "            \"You are a Question-Answering chatbot. Please provide answers to the given questions.\",\n",
    "        ),\n",
    "        # Use \"chat_history\" as the key for conversation history without modifying it if possible.\n",
    "        MessagesPlaceholder(variable_name=\"chat_history\"),\n",
    "        (\"human\", \"#Question:\\n{question}\"),  # Use user input as a variable.\n",
    "    ]\n",
    ")\n",
    "\n",
    "\n",
    "# Create a basic chain.\n",
    "chain = prompt | llm | StrOutputParser()"
   ]
  },
  {
   "cell_type": "markdown",
   "metadata": {},
   "source": [
    "## Creating a Chain to Record Conversations (`chain_with_history`)\n",
    "\n",
    "Trong bước này, chúng ta tạo một hệ thống quản lý **lịch sử cuộc trò chuyện dựa trên phiên (session-based conversation history)** và tạo ra một **chuỗi thực thi (executable chain)**.\n",
    "\n",
    "-   **Quản Lý Lịch Sử Cuộc Trò Chuyện (Conversation History Management)**: Từ điển `store` lưu và truy xuất lịch sử cuộc trò chuyện (`ChatMessageHistory`) theo ID phiên (session ID). Nếu một phiên không tồn tại, một phiên mới sẽ được tạo.\n",
    "-   **Thực Thi Chuỗi (Chain Execution)**: `RunnableWithMessageHistory` kết hợp lịch sử cuộc trò chuyện và chuỗi để tạo ra phản hồi dựa trên câu hỏi của người dùng và lịch sử cuộc trò chuyện. Cấu trúc này được thiết kế để quản lý hiệu quả các cuộc trò chuyện đa lượt (multi-turn conversations).\n"
   ]
  },
  {
   "cell_type": "code",
   "execution_count": 3,
   "metadata": {},
   "outputs": [],
   "source": [
    "# A dictionary to store session history.\n",
    "store = {}\n",
    "\n",
    "# A function to retrieve session history based on the session ID.\n",
    "def get_session_history(session_ids):\n",
    "    print(f\"[Conversation session ID]: {session_ids}\")\n",
    "    if session_ids not in store:  # When the session ID is not in the store.\n",
    "        # Create a new ChatMessageHistory object and save it in the store.\n",
    "        store[session_ids] = ChatMessageHistory()\n",
    "    return store[session_ids]  # Return the session history for the given session ID."
   ]
  },
  {
   "cell_type": "code",
   "execution_count": 4,
   "metadata": {},
   "outputs": [],
   "source": [
    "chain_with_history = RunnableWithMessageHistory(\n",
    "    chain,\n",
    "    get_session_history,  # A function to retrieve session history.\n",
    "    input_messages_key=\"question\",  # The key where the user's question will be inserted into the template variable.\n",
    "    history_messages_key=\"chat_history\",  # The key for the message in the history.\n",
    ")"
   ]
  },
  {
   "cell_type": "code",
   "execution_count": 5,
   "metadata": {},
   "outputs": [
    {
     "name": "stdout",
     "output_type": "stream",
     "text": [
      "[Conversation session ID]: abc123\n"
     ]
    },
    {
     "data": {
      "text/plain": [
       "'Nice to meet you, Teddy! How can I assist you today?'"
      ]
     },
     "execution_count": 5,
     "metadata": {},
     "output_type": "execute_result"
    }
   ],
   "source": [
    "# Execute the first question.\n",
    "chain_with_history.invoke(\n",
    "    # Question input.\n",
    "    {\"question\": \"My name is Teddy.\"},\n",
    "    # Record conversations based on the session ID.\n",
    "    config={\"configurable\": {\"session_id\": \"abc123\"}},\n",
    ")"
   ]
  },
  {
   "cell_type": "code",
   "execution_count": 6,
   "metadata": {},
   "outputs": [
    {
     "name": "stdout",
     "output_type": "stream",
     "text": [
      "[Conversation session ID]: abc123\n"
     ]
    },
    {
     "data": {
      "text/plain": [
       "'Your name is Teddy.'"
      ]
     },
     "execution_count": 6,
     "metadata": {},
     "output_type": "execute_result"
    }
   ],
   "source": [
    "chain_with_history.invoke(\n",
    "    # Question input.\n",
    "    {\"question\": \"What's my name?\"},\n",
    "    # Record conversations based on the session ID.\n",
    "    config={\"configurable\": {\"session_id\": \"abc123\"}},\n",
    ")"
   ]
  },
  {
   "cell_type": "code",
   "execution_count": 7,
   "metadata": {},
   "outputs": [
    {
     "name": "stdout",
     "output_type": "stream",
     "text": [
      "[Conversation session ID]: abc1234\n"
     ]
    },
    {
     "data": {
      "text/plain": [
       "\"I'm sorry, but I don't have access to personal information such as your name. How can I assist you today?\""
      ]
     },
     "execution_count": 7,
     "metadata": {},
     "output_type": "execute_result"
    }
   ],
   "source": [
    "chain_with_history.invoke(\n",
    "    # Question input.\n",
    "    {\"question\": \"What's my name?\"},\n",
    "    # Record conversations based on the session ID.\n",
    "    config={\"configurable\": {\"session_id\": \"abc1234\"}},\n",
    ")"
   ]
  },
  {
   "cell_type": "code",
   "execution_count": null,
   "metadata": {},
   "outputs": [],
   "source": []
  }
 ],
 "metadata": {
  "kernelspec": {
   "display_name": "langchain",
   "language": "python",
   "name": "python3"
  },
  "language_info": {
   "codemirror_mode": {
    "name": "ipython",
    "version": 3
   },
   "file_extension": ".py",
   "mimetype": "text/x-python",
   "name": "python",
   "nbconvert_exporter": "python",
   "pygments_lexer": "ipython3",
   "version": "3.10.16"
  }
 },
 "nbformat": 4,
 "nbformat_minor": 2
}
