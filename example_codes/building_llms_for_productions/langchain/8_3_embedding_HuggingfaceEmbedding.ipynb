{
 "cells": [
  {
   "cell_type": "markdown",
   "metadata": {},
   "source": [
    "# HuggingFace Embeddings\n",
    "\n",
    "- `Hugging Face` cung cấp một loạt các **mô hình embedding** miễn phí, cho phép thực hiện nhiều tác vụ `embedding` khác nhau một cách dễ dàng.\n",
    "- Trong hướng dẫn này, chúng ta sẽ sử dụng `langchain_huggingface` để xây dựng một **hệ thống tìm kiếm đơn giản dựa trên embedding văn bản**.\n",
    "- Các mô hình sau sẽ được sử dụng cho **Text Embedding**:\n",
    "\n",
    "    - 1️⃣ **multilingual-e5-large-instruct**: Một mô hình `embedding` đa ngôn ngữ dựa trên hướng dẫn.\n",
    "    - 2️⃣ **multilingual-e5-large**: Một mô hình `embedding` đa ngôn ngữ mạnh mẽ.\n",
    "    - 3️⃣ **bge-m3**: Được tối ưu hóa cho xử lý văn bản quy mô lớn.\n",
    "\n",
    "\n",
    "![](https://raw.githubusercontent.com/aidino/LangChain-OpenTutorial/a589b7f082f5b0a358921d3e6e9a0c8d97978eb8/08-Embedding/assets/03-huggingfaceembeddings-workflow.png)"
   ]
  },
  {
   "cell_type": "markdown",
   "metadata": {},
   "source": [
    "### 🛠️ **Các cấu hình sau sẽ được thiết lập**\n",
    "\n",
    "-   **Cài đặt đầu ra Jupyter Notebook**\n",
    "    -   Hiển thị thông báo lỗi chuẩn (`stderr`) trực tiếp thay vì ghi lại chúng.\n",
    "-   **Cài đặt các gói cần thiết**\n",
    "    -   Đảm bảo tất cả các phụ thuộc cần thiết đã được cài đặt.\n",
    "-   **Thiết lập khóa API**\n",
    "    -   Định cấu hình khóa API để xác thực.\n",
    "-   **Thiết lập lựa chọn thiết bị PyTorch**\n",
    "    -   Tự động chọn thiết bị tính toán tối ưu (CPU, CUDA hoặc MPS).\n",
    "        -   `{\"device\": \"mps\"}`: Thực hiện tính toán `embedding` bằng **MPS** thay vì GPU. (Dành cho người dùng Mac)\n",
    "        -   `{\"device\": \"cuda\"}`: Thực hiện tính toán `embedding` bằng **GPU**. (Dành cho người dùng Linux và Windows, yêu cầu cài đặt CUDA)\n",
    "        -   `{\"device\": \"cpu\"}`: Thực hiện tính toán `embedding` bằng **CPU**. (Khả dụng cho tất cả người dùng)\n",
    "-   **Đường dẫn lưu trữ cục bộ mô hình Embedding**\n",
    "    -   Xác định đường dẫn cục bộ để lưu trữ các mô hình `embedding`.\n"
   ]
  },
  {
   "cell_type": "code",
   "execution_count": 1,
   "metadata": {},
   "outputs": [
    {
     "name": "stdout",
     "output_type": "stream",
     "text": [
      "✅ Using CPU\n",
      "🖥️ Current device in use: cpu\n"
     ]
    }
   ],
   "source": [
    "# Automatically select the appropriate device\n",
    "import torch\n",
    "import platform\n",
    "\n",
    "\n",
    "def get_device():\n",
    "    if platform.system() == \"Darwin\":  # macOS specific\n",
    "        if hasattr(torch.backends, \"mps\") and torch.backends.mps.is_available():\n",
    "            print(\"✅ Using MPS (Metal Performance Shaders) on macOS\")\n",
    "            return \"mps\"\n",
    "    if torch.cuda.is_available():\n",
    "        print(\"✅ Using CUDA (NVIDIA GPU)\")\n",
    "        return \"cuda\"\n",
    "    else:\n",
    "        print(\"✅ Using CPU\")\n",
    "        return \"cpu\"\n",
    "\n",
    "\n",
    "# Set the device\n",
    "device = get_device()\n",
    "print(\"🖥️ Current device in use:\", device)"
   ]
  },
  {
   "cell_type": "code",
   "execution_count": 2,
   "metadata": {},
   "outputs": [],
   "source": [
    "# Embedding Model Local Storage Path\n",
    "import os\n",
    "import warnings\n",
    "\n",
    "# Ignore warnings\n",
    "warnings.filterwarnings(\"ignore\")\n",
    "\n",
    "# Set the download path to ./cache/\n",
    "os.environ[\"HF_HOME\"] = \"./cache/\""
   ]
  },
  {
   "cell_type": "markdown",
   "metadata": {},
   "source": [
    "## Data Preparation for Embedding-Based Search Tutorial\n",
    "\n",
    "To perform **embedding-based search,** we prepare both a **Query** and **Documents.**  \n",
    "\n",
    "1. Query  \n",
    "- Write a **key question** that will serve as the basis for the search.  "
   ]
  },
  {
   "cell_type": "code",
   "execution_count": 3,
   "metadata": {},
   "outputs": [],
   "source": [
    "# Query\n",
    "q = \"Please tell me more about LangChain.\""
   ]
  },
  {
   "cell_type": "markdown",
   "metadata": {},
   "source": [
    "2. Documents  \n",
    "- Prepare **multiple documents (texts)** that will serve as the target for the search.  \n",
    "- Each document will be **embedded** to enable semantic search capabilities.  "
   ]
  },
  {
   "cell_type": "code",
   "execution_count": 4,
   "metadata": {},
   "outputs": [],
   "source": [
    "# Documents for Text Embedding\n",
    "docs = [\n",
    "    \"Hi, nice to meet you.\",\n",
    "    \"LangChain simplifies the process of building applications with large language models.\",\n",
    "    \"The LangChain English tutorial is structured based on LangChain's official documentation, cookbook, and various practical examples to help users utilize LangChain more easily and effectively.\",\n",
    "    \"LangChain simplifies the process of building applications with large-scale language models.\",\n",
    "    \"Retrieval-Augmented Generation (RAG) is an effective technique for improving AI responses.\",\n",
    "]"
   ]
  },
  {
   "cell_type": "markdown",
   "metadata": {},
   "source": [
    "## Which Text Embedding Model Should You Use?\n",
    "- Leverage the **MTEB leaderboard** and **free embedding models** to confidently select and utilize the **best-performing text embedding models** for your projects! 🚀  \n",
    "\n",
    "---\n",
    "\n",
    "### 🚀 **What is MTEB (Massive Text Embedding Benchmark)?**  \n",
    "- **MTEB** is a benchmark designed to **systematically and objectively evaluate** the performance of text embedding models.  \n",
    "    - **Purpose:** To **fairly compare** the performance of embedding models.  \n",
    "    - **Evaluation Tasks:** Includes tasks like **Classification,**  **Retrieval,**  **Clustering,**  and **Semantic Similarity.**  \n",
    "    - **Supported Models:** A wide range of **text embedding models available on Hugging Face.**  \n",
    "    - **Results:** Displayed as **scores,**  with top-performing models ranked on the **leaderboard.**  \n",
    "\n",
    "🔗 [ **MTEB Leaderboard (Hugging Face)** ](https://huggingface.co/spaces/mteb/leaderboard)  \n",
    "\n",
    "---\n",
    "\n",
    "### 🛠️ **Models Used in This Tutorial**  \n",
    "\n",
    "| **Embedding Model** | **Description** |\n",
    "|----------|----------|\n",
    "| 1️⃣ **multilingual-e5-large-instruct** | Offers strong multilingual support with consistent results. |\n",
    "| 2️⃣ **multilingual-e5-large** | A powerful multilingual embedding model. |\n",
    "| 3️⃣ **bge-m3** | Optimized for large-scale text processing, excelling in retrieval and semantic similarity tasks. |\n",
    "\n",
    "1️⃣ **multilingual-e5-large-instruct**\n",
    "![](./assets/03-huggingfaceembeddings-leaderboard-01.png)\n",
    "\n",
    "2️⃣ **multilingual-e5-large**\n",
    "![](./assets/03-huggingfaceembeddings-leaderboard-02.png)\n",
    "\n",
    "3️⃣ **bge-m3**\n",
    "![](./assets/03-huggingfaceembeddings-leaderboard-03.png)"
   ]
  },
  {
   "cell_type": "markdown",
   "metadata": {},
   "source": [
    "## Tính toán độ tương đồng - Similarity Calculation\n",
    "\n",
    "**Tính toán độ tương đồng bằng tích vô hướng vector**\n",
    "\n",
    "-   Độ tương đồng được xác định bằng **tích vô hướng** của các vector.\n",
    "\n",
    "-   **Công thức tính toán độ tương đồng:**\n",
    "\n",
    "$$ \\text{similarities} = \\mathbf{query} \\cdot \\mathbf{documents}^T $$\n",
    "\n",
    "---\n",
    "\n",
    "### 📐 **Ý nghĩa toán học của tích vô hướng vector**\n",
    "\n",
    "**Định nghĩa tích vô hướng vector**\n",
    "\n",
    "**Tích vô hướng** của hai vector, $\\mathbf{a}$ và $\\mathbf{b}$, được định nghĩa toán học như sau:\n",
    "\n",
    "$$ \\mathbf{a} \\cdot \\mathbf{b} = \\sum_{i=1}^{n} a_i b_i $$\n",
    "\n",
    "---\n",
    "\n",
    "**Mối quan hệ với độ tương đồng cosine**\n",
    "\n",
    "**Tích vô hướng** cũng liên quan đến **độ tương đồng cosine** và tuân theo tính chất sau:\n",
    "\n",
    "$$ \\mathbf{a} \\cdot \\mathbf{b} = \\|\\mathbf{a}\\| \\|\\mathbf{b}\\| \\cos \\theta $$\n",
    "\n",
    "Trong đó:\n",
    "\n",
    "-   $\\|\\mathbf{a}\\|$ và $\\|\\mathbf{b}\\|$ đại diện cho **độ lớn** (**chuẩn**, cụ thể là chuẩn Euclidean) của các vector $\\mathbf{a}$ và $\\mathbf{b}$.\n",
    "-   $\\theta$ là **góc giữa hai vector**.\n",
    "-   $\\cos \\theta$ đại diện cho **độ tương đồng cosine** giữa hai vector.\n",
    "\n",
    "---\n",
    "\n",
    "**🔍 Giải thích tích vô hướng vector trong độ tương đồng**\n",
    "\n",
    "Khi **giá trị tích vô hướng lớn** (giá trị dương lớn):\n",
    "\n",
    "-   **Độ lớn** ($\\|\\mathbf{a}\\|$ và $\\|\\mathbf{b}\\|$) của hai vector lớn.\n",
    "-   **Góc** ($\\theta$) giữa hai vector nhỏ (**$\\cos \\theta$ tiến gần 1**).\n",
    "\n",
    "Điều này cho thấy hai vector chỉ theo **hướng tương tự** và **tương đồng về ngữ nghĩa hơn**, đặc biệt khi độ lớn của chúng cũng lớn.\n",
    "\n",
    "---\n",
    "\n",
    "### 📏 **Tính toán độ lớn vector (chuẩn)**\n",
    "\n",
    "**Định nghĩa chuẩn Euclidean**\n",
    "\n",
    "Đối với vector $\\mathbf{a} = [a_1, a_2, \\ldots, a_n]$, **chuẩn Euclidean** $\\|\\mathbf{a}\\|$ được tính như sau:\n",
    "\n",
    "$$ \\|\\mathbf{a}\\| = \\sqrt{a_1^2 + a_2^2 + \\cdots + a_n^2} $$\n",
    "\n",
    "**Độ lớn** này đại diện cho **chiều dài** hoặc **kích thước** của vector trong không gian đa chiều.\n",
    "\n",
    "---\n",
    "\n",
    "Hiểu được những nền tảng toán học này giúp đảm bảo tính toán độ tương đồng chính xác, cho phép hiệu suất tốt hơn trong các tác vụ như **tìm kiếm ngữ nghĩa**, **hệ thống truy xuất** và **công cụ đề xuất**. 🚀\n"
   ]
  },
  {
   "cell_type": "markdown",
   "metadata": {},
   "source": [
    "----\n",
    "### Similarity calculation between `embedded_query` and `embedded_document` \n",
    "- `embed_documents` : For embedding multiple texts (documents)\n",
    "- `embed_query` : For embedding a single text (query)\n",
    "\n",
    "We've implemented a method to search for the most relevant documents using **text embeddings.** \n",
    "- Let's use `search_similar_documents(q, docs, hf_embeddings)` to find the most relevant documents."
   ]
  },
  {
   "cell_type": "code",
   "execution_count": 5,
   "metadata": {},
   "outputs": [],
   "source": [
    "import numpy as np\n",
    "\n",
    "\n",
    "def search_similar_documents(q, docs, hf_embeddings):\n",
    "    \"\"\"\n",
    "    Search for the most relevant documents based on a query using text embeddings.\n",
    "\n",
    "    Args:\n",
    "        q (str): The query string for which relevant documents are to be found.\n",
    "        docs (list of str): A list of document strings to compare against the query.\n",
    "        hf_embeddings: An embedding model object with `embed_query` and `embed_documents` methods.\n",
    "\n",
    "    Returns:\n",
    "        tuple:\n",
    "            - embedded_query (numpy.ndarray): The embedding vector of the query.\n",
    "            - embedded_documents (numpy.ndarray): The embedding matrix of the documents.\n",
    "\n",
    "    Workflow:\n",
    "        1. Embed the query string into a numerical vector using `embed_query`.\n",
    "        2. Embed each document into numerical vectors using `embed_documents`.\n",
    "        3. Calculate similarity scores between the query and documents using the dot product.\n",
    "        4. Sort the documents based on their similarity scores in descending order.\n",
    "        5. Print the query and display the sorted documents by their relevance.\n",
    "        6. Return the query and document embeddings for further analysis if needed.\n",
    "    \"\"\"\n",
    "    # Embed the query and documents using the embedding model\n",
    "    embedded_query = hf_embeddings.embed_query(q)\n",
    "    embedded_documents = hf_embeddings.embed_documents(docs)\n",
    "\n",
    "    # Calculate similarity scores using dot product\n",
    "    similarity_scores = np.array(embedded_query) @ np.array(embedded_documents).T\n",
    "\n",
    "    # Sort documents by similarity scores in descending order\n",
    "    sorted_idx = similarity_scores.argsort()[::-1]\n",
    "\n",
    "    # Display the results\n",
    "    print(f\"[Query] {q}\\n\" + \"=\" * 40)\n",
    "    for i, idx in enumerate(sorted_idx):\n",
    "        print(f\"[{i}] {docs[idx]}\")\n",
    "        print()\n",
    "\n",
    "    # Return embeddings for potential further processing or analysis\n",
    "    return embedded_query, embedded_documents"
   ]
  },
  {
   "cell_type": "markdown",
   "metadata": {},
   "source": [
    "## Tổng quan về HuggingFaceEndpointEmbeddings\n",
    "\n",
    "**HuggingFaceEndpointEmbeddings** là một tính năng trong thư viện **LangChain** tận dụng **điểm cuối Hugging Face Inference API** để tạo ra các `embeddings` văn bản một cách liền mạch.\n",
    "\n",
    "---\n",
    "\n",
    "### 📚 **Các khái niệm chính**\n",
    "\n",
    "1.  **Hugging Face Inference API**\n",
    "    -   Truy cập các mô hình `embedding` được đào tạo trước thông qua API của Hugging Face.\n",
    "    -   Không cần tải xuống mô hình cục bộ; `embeddings` được tạo trực tiếp thông qua API.\n",
    "\n",
    "2.  **Tích hợp LangChain**\n",
    "    -   Dễ dàng tích hợp kết quả `embedding` vào quy trình làm việc LangChain bằng giao diện tiêu chuẩn hóa của nó.\n",
    "\n",
    "3.  **Trường hợp sử dụng**\n",
    "    -   Tính toán độ tương đồng truy vấn văn bản và tài liệu\n",
    "    -   Hệ thống tìm kiếm và đề xuất\n",
    "    -   Các ứng dụng Hiểu ngôn ngữ tự nhiên (NLU)\n",
    "\n",
    "---\n",
    "\n",
    "### ⚙️ **Các tham số chính**\n",
    "\n",
    "-   `model`: ID mô hình Hugging Face (ví dụ: `BAAI/bge-m3`)\n",
    "-   `task`: Tác vụ cần thực hiện (thường là `\"feature-extraction\"`)\n",
    "-   `api_key`: Mã thông báo API Hugging Face của bạn\n",
    "-   `model_kwargs`: Các tham số cấu hình mô hình bổ sung\n",
    "\n",
    "---\n",
    "\n",
    "### 💡 **Ưu điểm**\n",
    "\n",
    "-   **Không cần tải xuống mô hình cục bộ:** Truy cập tức thì qua API.\n",
    "-   **Khả năng mở rộng:** Hỗ trợ nhiều mô hình Hugging Face được đào tạo trước.\n",
    "-   **Tích hợp liền mạch:** Dễ dàng tích hợp `embeddings` vào quy trình làm việc LangChain.\n",
    "\n",
    "---\n",
    "\n",
    "### ⚠️ **Lưu ý**\n",
    "\n",
    "-   **Hỗ trợ API:** Không phải tất cả các mô hình đều hỗ trợ suy luận API.\n",
    "-   **Tốc độ & Chi phí:** API miễn phí có thể có thời gian phản hồi chậm hơn và giới hạn sử dụng.\n",
    "\n",
    "---\n",
    "\n",
    "Với **HuggingFaceEndpointEmbeddings**, bạn có thể dễ dàng tích hợp các mô hình `embedding` mạnh mẽ của Hugging Face vào **quy trình làm việc LangChain** của mình để có các giải pháp NLP hiệu quả và có khả năng mở rộng. 🚀\n"
   ]
  },
  {
   "cell_type": "markdown",
   "metadata": {},
   "source": [
    "---\n",
    "Let’s use the `intfloat/multilingual-e5-large-instruct` model via the API to search for the most relevant documents using text embeddings.\n",
    "\n",
    "- [intfloat/multilingual-e5-large-instruct](https://huggingface.co/intfloat/multilingual-e5-large-instruct)"
   ]
  },
  {
   "cell_type": "code",
   "execution_count": 10,
   "metadata": {},
   "outputs": [
    {
     "data": {
      "text/plain": [
       "True"
      ]
     },
     "execution_count": 10,
     "metadata": {},
     "output_type": "execute_result"
    }
   ],
   "source": [
    "from dotenv import load_dotenv\n",
    "load_dotenv(override=True, dotenv_path=\"../.env\")"
   ]
  },
  {
   "cell_type": "code",
   "execution_count": 11,
   "metadata": {},
   "outputs": [],
   "source": [
    "from langchain_huggingface.embeddings import HuggingFaceEndpointEmbeddings\n",
    "\n",
    "model_name = \"intfloat/multilingual-e5-large-instruct\"\n",
    "\n",
    "hf_endpoint_embeddings = HuggingFaceEndpointEmbeddings(\n",
    "    model=model_name,\n",
    "    task=\"feature-extraction\",\n",
    "    huggingfacehub_api_token=os.environ[\"HUGGINGFACEHUB_API_TOKEN\"],\n",
    ")"
   ]
  },
  {
   "cell_type": "markdown",
   "metadata": {},
   "source": [
    "Search for the most relevant documents based on a query using text embeddings."
   ]
  },
  {
   "cell_type": "code",
   "execution_count": 12,
   "metadata": {},
   "outputs": [
    {
     "name": "stdout",
     "output_type": "stream",
     "text": [
      "CPU times: user 8.07 ms, sys: 1.03 ms, total: 9.1 ms\n",
      "Wall time: 1.23 s\n"
     ]
    }
   ],
   "source": [
    "%%time\n",
    "# Embed the query and documents using the embedding model\n",
    "embedded_query = hf_endpoint_embeddings.embed_query(q)\n",
    "embedded_documents = hf_endpoint_embeddings.embed_documents(docs)"
   ]
  },
  {
   "cell_type": "code",
   "execution_count": 13,
   "metadata": {},
   "outputs": [],
   "source": [
    "# Calculate similarity scores using dot product\n",
    "similarity_scores = np.array(embedded_query) @ np.array(embedded_documents).T\n",
    "\n",
    "# Sort documents by similarity scores in descending order\n",
    "sorted_idx = similarity_scores.argsort()[::-1]"
   ]
  },
  {
   "cell_type": "code",
   "execution_count": 14,
   "metadata": {},
   "outputs": [
    {
     "name": "stdout",
     "output_type": "stream",
     "text": [
      "[Query] Please tell me more about LangChain.\n",
      "========================================\n",
      "[0] LangChain simplifies the process of building applications with large language models.\n",
      "\n",
      "[1] LangChain simplifies the process of building applications with large-scale language models.\n",
      "\n",
      "[2] The LangChain English tutorial is structured based on LangChain's official documentation, cookbook, and various practical examples to help users utilize LangChain more easily and effectively.\n",
      "\n",
      "[3] Retrieval-Augmented Generation (RAG) is an effective technique for improving AI responses.\n",
      "\n",
      "[4] Hi, nice to meet you.\n",
      "\n"
     ]
    }
   ],
   "source": [
    "# Display the results\n",
    "print(f\"[Query] {q}\\n\" + \"=\" * 40)\n",
    "for i, idx in enumerate(sorted_idx):\n",
    "    print(f\"[{i}] {docs[idx]}\")\n",
    "    print()"
   ]
  },
  {
   "cell_type": "code",
   "execution_count": 15,
   "metadata": {},
   "outputs": [
    {
     "name": "stdout",
     "output_type": "stream",
     "text": [
      "[HuggingFace Endpoint Embedding]\n",
      "Model: \t\tintfloat/multilingual-e5-large-instruct\n",
      "Document Dimension: \t1024\n",
      "Query Dimension: \t1024\n"
     ]
    }
   ],
   "source": [
    "print(\"[HuggingFace Endpoint Embedding]\")\n",
    "print(f\"Model: \\t\\t{model_name}\")\n",
    "print(f\"Document Dimension: \\t{len(embedded_documents[0])}\")\n",
    "print(f\"Query Dimension: \\t{len(embedded_query)}\")"
   ]
  },
  {
   "cell_type": "markdown",
   "metadata": {},
   "source": [
    "Chúng ta có thể xác minh rằng kích thước của `embedded_documents` và `embedded_query` nhất quán.\n",
    "\n",
    "Bạn cũng có thể thực hiện tìm kiếm bằng phương thức `search_similar_documents` mà chúng ta đã triển khai trước đó.\n",
    "Từ bây giờ, hãy sử dụng phương thức này cho các tìm kiếm của chúng ta.\n"
   ]
  },
  {
   "cell_type": "code",
   "execution_count": 16,
   "metadata": {},
   "outputs": [
    {
     "name": "stdout",
     "output_type": "stream",
     "text": [
      "[Query] Please tell me more about LangChain.\n",
      "========================================\n",
      "[0] LangChain simplifies the process of building applications with large language models.\n",
      "\n",
      "[1] LangChain simplifies the process of building applications with large-scale language models.\n",
      "\n",
      "[2] The LangChain English tutorial is structured based on LangChain's official documentation, cookbook, and various practical examples to help users utilize LangChain more easily and effectively.\n",
      "\n",
      "[3] Retrieval-Augmented Generation (RAG) is an effective technique for improving AI responses.\n",
      "\n",
      "[4] Hi, nice to meet you.\n",
      "\n",
      "CPU times: user 9.11 ms, sys: 54 μs, total: 9.16 ms\n",
      "Wall time: 709 ms\n"
     ]
    }
   ],
   "source": [
    "%%time\n",
    "embedded_query, embedded_documents = search_similar_documents(q, docs, hf_endpoint_embeddings)"
   ]
  },
  {
   "cell_type": "markdown",
   "metadata": {},
   "source": [
    "## HuggingFaceEmbeddings Overview\n",
    "\n",
    "- **HuggingFaceEmbeddings** là một tính năng trong thư viện **LangChain** cho phép chuyển đổi dữ liệu văn bản thành vectơ bằng cách sử dụng **Hugging Face embedding models.**\n",
    "- Lớp này tải xuống và vận hành các mô hình Hugging Face **locally** để xử lý hiệu quả.\n",
    "\n",
    "---\n",
    "\n",
    "### 📚 **Các khái niệm chính**\n",
    "\n",
    "1. **Hugging Face Pre-trained Models**\n",
    "   - Sử dụng các mô hình embedding được huấn luyện trước (pre-trained) do Hugging Face cung cấp.\n",
    "   - Tải xuống các mô hình **locally** để thực hiện trực tiếp các hoạt động embedding.\n",
    "\n",
    "2. **LangChain Integration**\n",
    "   - Tích hợp liền mạch với quy trình làm việc của LangChain bằng giao diện tiêu chuẩn hóa của nó.\n",
    "\n",
    "3. **Use Cases**\n",
    "   - Tính toán độ tương tự giữa truy vấn văn bản và tài liệu\n",
    "   - Hệ thống tìm kiếm và đề xuất\n",
    "   - Ứng dụng Natural Language Understanding (NLU)\n",
    "\n",
    "---\n",
    "\n",
    "### ⚙️ **Các tham số chính**\n",
    "\n",
    "- `model_name`: ID mô hình Hugging Face (ví dụ: `sentence-transformers/all-MiniLM-L6-v2`)\n",
    "- `model_kwargs`: Các tham số cấu hình mô hình bổ sung (ví dụ: cài đặt thiết bị GPU/CPU)\n",
    "- `encode_kwargs`: Các cài đặt bổ sung cho việc tạo embedding\n",
    "\n",
    "---\n",
    "\n",
    "### 💡 **Ưu điểm**\n",
    "\n",
    "- **Local Embedding Operations:** Thực hiện embedding cục bộ mà không cần kết nối internet.\n",
    "- **High Performance:** Sử dụng cài đặt GPU để tạo embedding nhanh hơn.\n",
    "- **Model Variety:** Hỗ trợ nhiều loại mô hình Hugging Face.\n",
    "\n",
    "---\n",
    "\n",
    "### ⚠️ **Lưu ý**\n",
    "\n",
    "- **Local Storage Requirement:** Các mô hình được huấn luyện trước phải được tải xuống cục bộ.\n",
    "- **Environment Configuration:** Hiệu suất có thể thay đổi tùy thuộc vào cài đặt thiết bị GPU/CPU.\n",
    "\n",
    "---\n",
    "\n",
    "Với **HuggingFaceEmbeddings**, bạn có thể sử dụng hiệu quả **Hugging Face's powerful embedding models** trong môi trường **local**, cho phép các giải pháp NLP linh hoạt và có khả năng mở rộng. 🚀\n"
   ]
  },
  {
   "cell_type": "markdown",
   "metadata": {},
   "source": [
    "---\n",
    "Let's download the embedding model locally, perform embeddings, and search for the most relevant documents.\n",
    "\n",
    "`intfloat/multilingual-e5-large-instruct` \n",
    "\n",
    "- [intfloat/multilingual-e5-large-instruct](https://huggingface.co/intfloat/multilingual-e5-large-instruct)"
   ]
  },
  {
   "cell_type": "code",
   "execution_count": 17,
   "metadata": {},
   "outputs": [
    {
     "data": {
      "application/vnd.jupyter.widget-view+json": {
       "model_id": "43502e30ad0a4517afcff0ffefa3b188",
       "version_major": 2,
       "version_minor": 0
      },
      "text/plain": [
       "modules.json:   0%|          | 0.00/349 [00:00<?, ?B/s]"
      ]
     },
     "metadata": {},
     "output_type": "display_data"
    },
    {
     "data": {
      "application/vnd.jupyter.widget-view+json": {
       "model_id": "9275dc03316b4bec95010cb27882bc25",
       "version_major": 2,
       "version_minor": 0
      },
      "text/plain": [
       "config_sentence_transformers.json:   0%|          | 0.00/128 [00:00<?, ?B/s]"
      ]
     },
     "metadata": {},
     "output_type": "display_data"
    },
    {
     "data": {
      "application/vnd.jupyter.widget-view+json": {
       "model_id": "23fe30a7d2494b0fb41fefe0aa6f9053",
       "version_major": 2,
       "version_minor": 0
      },
      "text/plain": [
       "README.md:   0%|          | 0.00/140k [00:00<?, ?B/s]"
      ]
     },
     "metadata": {},
     "output_type": "display_data"
    },
    {
     "data": {
      "application/vnd.jupyter.widget-view+json": {
       "model_id": "7788099c27c642fd917cdfae0c10729e",
       "version_major": 2,
       "version_minor": 0
      },
      "text/plain": [
       "sentence_xlm-roberta_config.json:   0%|          | 0.00/53.0 [00:00<?, ?B/s]"
      ]
     },
     "metadata": {},
     "output_type": "display_data"
    },
    {
     "data": {
      "application/vnd.jupyter.widget-view+json": {
       "model_id": "b5c48314d7414e55b613f447119ecc28",
       "version_major": 2,
       "version_minor": 0
      },
      "text/plain": [
       "config.json:   0%|          | 0.00/690 [00:00<?, ?B/s]"
      ]
     },
     "metadata": {},
     "output_type": "display_data"
    },
    {
     "data": {
      "application/vnd.jupyter.widget-view+json": {
       "model_id": "2a8f8fd7b2c1469890c74d926caef3b6",
       "version_major": 2,
       "version_minor": 0
      },
      "text/plain": [
       "model.safetensors:   0%|          | 0.00/1.12G [00:00<?, ?B/s]"
      ]
     },
     "metadata": {},
     "output_type": "display_data"
    },
    {
     "data": {
      "application/vnd.jupyter.widget-view+json": {
       "model_id": "d415e610d3ed45f6957d865cc3c22abb",
       "version_major": 2,
       "version_minor": 0
      },
      "text/plain": [
       "tokenizer_config.json:   0%|          | 0.00/1.18k [00:00<?, ?B/s]"
      ]
     },
     "metadata": {},
     "output_type": "display_data"
    },
    {
     "data": {
      "application/vnd.jupyter.widget-view+json": {
       "model_id": "3f14ff0b5e524c65a73aeb413287d3f7",
       "version_major": 2,
       "version_minor": 0
      },
      "text/plain": [
       "sentencepiece.bpe.model:   0%|          | 0.00/5.07M [00:00<?, ?B/s]"
      ]
     },
     "metadata": {},
     "output_type": "display_data"
    },
    {
     "data": {
      "application/vnd.jupyter.widget-view+json": {
       "model_id": "602635d87c934a7fafd7b777726c40a6",
       "version_major": 2,
       "version_minor": 0
      },
      "text/plain": [
       "tokenizer.json:   0%|          | 0.00/17.1M [00:00<?, ?B/s]"
      ]
     },
     "metadata": {},
     "output_type": "display_data"
    },
    {
     "data": {
      "application/vnd.jupyter.widget-view+json": {
       "model_id": "e401dc33d5c846a286b6c08a454aea8e",
       "version_major": 2,
       "version_minor": 0
      },
      "text/plain": [
       "special_tokens_map.json:   0%|          | 0.00/964 [00:00<?, ?B/s]"
      ]
     },
     "metadata": {},
     "output_type": "display_data"
    },
    {
     "data": {
      "application/vnd.jupyter.widget-view+json": {
       "model_id": "0ef1ce3e608b4ebab5871ad64a6dcf8a",
       "version_major": 2,
       "version_minor": 0
      },
      "text/plain": [
       "config.json:   0%|          | 0.00/271 [00:00<?, ?B/s]"
      ]
     },
     "metadata": {},
     "output_type": "display_data"
    }
   ],
   "source": [
    "from langchain_huggingface.embeddings import HuggingFaceEmbeddings\n",
    "\n",
    "model_name = \"intfloat/multilingual-e5-large-instruct\"\n",
    "\n",
    "hf_embeddings_e5_instruct = HuggingFaceEmbeddings(\n",
    "    model_name=model_name,\n",
    "    model_kwargs={\"device\": device},  # mps, cuda, cpu\n",
    "    encode_kwargs={\"normalize_embeddings\": True},\n",
    ")"
   ]
  },
  {
   "cell_type": "code",
   "execution_count": 18,
   "metadata": {},
   "outputs": [
    {
     "name": "stdout",
     "output_type": "stream",
     "text": [
      "[Query] Please tell me more about LangChain.\n",
      "========================================\n",
      "[0] LangChain simplifies the process of building applications with large language models.\n",
      "\n",
      "[1] LangChain simplifies the process of building applications with large-scale language models.\n",
      "\n",
      "[2] The LangChain English tutorial is structured based on LangChain's official documentation, cookbook, and various practical examples to help users utilize LangChain more easily and effectively.\n",
      "\n",
      "[3] Retrieval-Augmented Generation (RAG) is an effective technique for improving AI responses.\n",
      "\n",
      "[4] Hi, nice to meet you.\n",
      "\n",
      "CPU times: user 10.6 s, sys: 0 ns, total: 10.6 s\n",
      "Wall time: 681 ms\n"
     ]
    }
   ],
   "source": [
    "%%time\n",
    "embedded_query, embedded_documents = search_similar_documents(q, docs, hf_embeddings_e5_instruct)"
   ]
  },
  {
   "cell_type": "code",
   "execution_count": 19,
   "metadata": {},
   "outputs": [
    {
     "name": "stdout",
     "output_type": "stream",
     "text": [
      "Model: \t\tintfloat/multilingual-e5-large-instruct\n",
      "Document Dimension: \t1024\n",
      "Query Dimension: \t1024\n"
     ]
    }
   ],
   "source": [
    "print(f\"Model: \\t\\t{model_name}\")\n",
    "print(f\"Document Dimension: \\t{len(embedded_documents[0])}\")\n",
    "print(f\"Query Dimension: \\t{len(embedded_query)}\")"
   ]
  },
  {
   "cell_type": "markdown",
   "metadata": {},
   "source": [
    "## FlagEmbedding Usage Guide\n",
    "\n",
    "\n",
    "- **FlagEmbedding** là một framework embedding tiên tiến được phát triển bởi **BAAI (Beijing Academy of Artificial Intelligence).**\n",
    "- Nó hỗ trợ **various embedding approaches** và chủ yếu được sử dụng với mô hình **BGE (BAAI General Embedding).**\n",
    "- FlagEmbedding vượt trội trong các nhiệm vụ như **semantic search**, **natural language processing (NLP)** và **recommendation systems.**\n",
    "\n",
    "---\n",
    "\n",
    "### 📚 **Các khái niệm cốt lõi của FlagEmbedding**\n",
    "\n",
    "1️⃣ `Dense Embedding`\n",
    "- Định nghĩa: Biểu diễn ý nghĩa tổng thể của một văn bản dưới dạng một vectơ mật độ cao duy nhất.\n",
    "- Ưu điểm: Nắm bắt hiệu quả sự tương đồng về ngữ nghĩa.\n",
    "- Trường hợp sử dụng: Tìm kiếm ngữ nghĩa, tính toán độ tương đồng của tài liệu.\n",
    "\n",
    "2️⃣ `Lexical Embedding`\n",
    "- Định nghĩa: Phân tách văn bản thành các thành phần cấp từ, nhấn mạnh việc khớp từ.\n",
    "- Ưu điểm: Đảm bảo khớp chính xác các từ hoặc cụm từ cụ thể.\n",
    "- Trường hợp sử dụng: Tìm kiếm dựa trên từ khóa, khớp từ chính xác.\n",
    "\n",
    "3️⃣ `Multi-Vector Embedding`\n",
    "- Định nghĩa: Chia một tài liệu thành nhiều vectơ để biểu diễn.\n",
    "- Ưu điểm: Cho phép biểu diễn chi tiết hơn đối với các văn bản dài hoặc các chủ đề đa dạng.\n",
    "- Trường hợp sử dụng: Phân tích cấu trúc tài liệu phức tạp, khớp chủ đề chi tiết.\n"
   ]
  },
  {
   "cell_type": "markdown",
   "metadata": {},
   "source": [
    "---\n",
    "\n",
    "FlagEmbedding cung cấp một **flexible and powerful toolkit** để tận dụng embeddings trên một loạt các **NLP tasks và semantic search applications.** 🚀\n",
    "\n",
    "Đoạn mã sau được sử dụng để kiểm soát **tokenizer parallelism** trong thư viện `transformers` của Hugging Face:\n",
    "\n",
    "- `TOKENIZERS_PARALLELISM = \"true\"` → **Optimized for speed**, phù hợp cho xử lý dữ liệu quy mô lớn.\n",
    "- `TOKENIZERS_PARALLELISM = \"false\"` → **Ensures stability**, ngăn ngừa xung đột và điều kiện chạy đua (race conditions).\n"
   ]
  },
  {
   "cell_type": "code",
   "execution_count": 20,
   "metadata": {},
   "outputs": [],
   "source": [
    "import os\n",
    "\n",
    "os.environ[\"TOKENIZERS_PARALLELISM\"] = \"true\"  # \"false\""
   ]
  },
  {
   "cell_type": "code",
   "execution_count": 21,
   "metadata": {},
   "outputs": [
    {
     "name": "stdout",
     "output_type": "stream",
     "text": [
      "Note: you may need to restart the kernel to use updated packages.\n"
     ]
    }
   ],
   "source": [
    "# install FlagEmbedding\n",
    "%pip install -qU FlagEmbedding"
   ]
  },
  {
   "cell_type": "markdown",
   "metadata": {},
   "source": [
    "### ⚙️ **Tham số chính**\n",
    "\n",
    "`BGEM3FlagModel`\n",
    "- `model_name`: **Model ID** của Hugging Face (ví dụ: `BAAI/bge-m3`).\n",
    "- `use_fp16`: Khi được đặt thành **True**, giảm **memory usage** và cải thiện **encoding speed.**\n",
    "\n",
    "`bge_embeddings.encode`\n",
    "- `batch_size`: Xác định **number of documents** cần xử lý cùng một lúc.\n",
    "- `max_length`: Đặt **maximum token length** cho việc encoding documents.\n",
    "    - Tăng lên cho các tài liệu dài hơn để đảm bảo mã hóa toàn bộ nội dung.\n",
    "    - Giá trị quá lớn có thể **degrade performance.**\n",
    "- `return_dense`: Khi được đặt thành **True**, chỉ trả về **Dense Vectors.**\n",
    "- `return_sparse`: Khi được đặt thành **True**, trả về **Sparse Vectors.**\n",
    "- `return_colbert_vecs`: Khi được đặt thành **True**, trả về **ColBERT-style vectors.**\n",
    "\n",
    "### 1️⃣ **Ví dụ về Dense Vector Embedding**\n",
    "- Định nghĩa: Biểu diễn ý nghĩa tổng thể của một văn bản dưới dạng một vectơ mật độ cao duy nhất.\n",
    "- Ưu điểm: Nắm bắt hiệu quả sự tương đồng về ngữ nghĩa.\n",
    "- Trường hợp sử dụng: Tìm kiếm ngữ nghĩa, tính toán độ tương đồng của tài liệu.\n"
   ]
  },
  {
   "cell_type": "code",
   "execution_count": 22,
   "metadata": {},
   "outputs": [
    {
     "data": {
      "application/vnd.jupyter.widget-view+json": {
       "model_id": "628ffea5bbd64f3db8938c7d5ce4dc0e",
       "version_major": 2,
       "version_minor": 0
      },
      "text/plain": [
       "tokenizer_config.json:   0%|          | 0.00/444 [00:00<?, ?B/s]"
      ]
     },
     "metadata": {},
     "output_type": "display_data"
    },
    {
     "data": {
      "application/vnd.jupyter.widget-view+json": {
       "model_id": "429bc8bdc372438a81b762b486160a09",
       "version_major": 2,
       "version_minor": 0
      },
      "text/plain": [
       "sentencepiece.bpe.model:   0%|          | 0.00/5.07M [00:00<?, ?B/s]"
      ]
     },
     "metadata": {},
     "output_type": "display_data"
    },
    {
     "data": {
      "application/vnd.jupyter.widget-view+json": {
       "model_id": "9e6e952dbf1a4b4eb3d7ecb5d08af384",
       "version_major": 2,
       "version_minor": 0
      },
      "text/plain": [
       "tokenizer.json:   0%|          | 0.00/17.1M [00:00<?, ?B/s]"
      ]
     },
     "metadata": {},
     "output_type": "display_data"
    },
    {
     "data": {
      "application/vnd.jupyter.widget-view+json": {
       "model_id": "7989f305ac6748189684e85a767b7a1c",
       "version_major": 2,
       "version_minor": 0
      },
      "text/plain": [
       "special_tokens_map.json:   0%|          | 0.00/964 [00:00<?, ?B/s]"
      ]
     },
     "metadata": {},
     "output_type": "display_data"
    },
    {
     "data": {
      "application/vnd.jupyter.widget-view+json": {
       "model_id": "876255433a7742e6a80237b903fa9b9f",
       "version_major": 2,
       "version_minor": 0
      },
      "text/plain": [
       "Fetching 30 files:   0%|          | 0/30 [00:00<?, ?it/s]"
      ]
     },
     "metadata": {},
     "output_type": "display_data"
    },
    {
     "data": {
      "application/vnd.jupyter.widget-view+json": {
       "model_id": "fbf74b76117a4eaa8fe3d78e6a2390df",
       "version_major": 2,
       "version_minor": 0
      },
      "text/plain": [
       "colbert_linear.pt:   0%|          | 0.00/2.10M [00:00<?, ?B/s]"
      ]
     },
     "metadata": {},
     "output_type": "display_data"
    },
    {
     "data": {
      "application/vnd.jupyter.widget-view+json": {
       "model_id": "d570ed39fe204bbf9ba056d45418fc67",
       "version_major": 2,
       "version_minor": 0
      },
      "text/plain": [
       "config.json:   0%|          | 0.00/687 [00:00<?, ?B/s]"
      ]
     },
     "metadata": {},
     "output_type": "display_data"
    },
    {
     "data": {
      "application/vnd.jupyter.widget-view+json": {
       "model_id": "d92f6274f7f44d399f24b09e15dc8a3d",
       "version_major": 2,
       "version_minor": 0
      },
      "text/plain": [
       ".gitattributes:   0%|          | 0.00/1.63k [00:00<?, ?B/s]"
      ]
     },
     "metadata": {},
     "output_type": "display_data"
    },
    {
     "data": {
      "application/vnd.jupyter.widget-view+json": {
       "model_id": "1f404332bf154336a29725600be66e7c",
       "version_major": 2,
       "version_minor": 0
      },
      "text/plain": [
       ".DS_Store:   0%|          | 0.00/6.15k [00:00<?, ?B/s]"
      ]
     },
     "metadata": {},
     "output_type": "display_data"
    },
    {
     "data": {
      "application/vnd.jupyter.widget-view+json": {
       "model_id": "1e92fcd23ab54ff48e63d0fa28a42289",
       "version_major": 2,
       "version_minor": 0
      },
      "text/plain": [
       "bm25.jpg:   0%|          | 0.00/132k [00:00<?, ?B/s]"
      ]
     },
     "metadata": {},
     "output_type": "display_data"
    },
    {
     "data": {
      "application/vnd.jupyter.widget-view+json": {
       "model_id": "51ad0d6ff0a04191be2c0baa526baa2b",
       "version_major": 2,
       "version_minor": 0
      },
      "text/plain": [
       "README.md:   0%|          | 0.00/15.8k [00:00<?, ?B/s]"
      ]
     },
     "metadata": {},
     "output_type": "display_data"
    },
    {
     "data": {
      "application/vnd.jupyter.widget-view+json": {
       "model_id": "0837e37e7d7c4556b58046050f362f3b",
       "version_major": 2,
       "version_minor": 0
      },
      "text/plain": [
       "config_sentence_transformers.json:   0%|          | 0.00/123 [00:00<?, ?B/s]"
      ]
     },
     "metadata": {},
     "output_type": "display_data"
    },
    {
     "data": {
      "application/vnd.jupyter.widget-view+json": {
       "model_id": "1abd64d07e5042f2987d71deb819a55e",
       "version_major": 2,
       "version_minor": 0
      },
      "text/plain": [
       "config.json:   0%|          | 0.00/191 [00:00<?, ?B/s]"
      ]
     },
     "metadata": {},
     "output_type": "display_data"
    },
    {
     "data": {
      "application/vnd.jupyter.widget-view+json": {
       "model_id": "0dd4735df00441faae2752cae75acbc0",
       "version_major": 2,
       "version_minor": 0
      },
      "text/plain": [
       "long.jpg:   0%|          | 0.00/485k [00:00<?, ?B/s]"
      ]
     },
     "metadata": {},
     "output_type": "display_data"
    },
    {
     "data": {
      "application/vnd.jupyter.widget-view+json": {
       "model_id": "f98615607eb24d848c473e1121a2b1c7",
       "version_major": 2,
       "version_minor": 0
      },
      "text/plain": [
       "mkqa.jpg:   0%|          | 0.00/608k [00:00<?, ?B/s]"
      ]
     },
     "metadata": {},
     "output_type": "display_data"
    },
    {
     "data": {
      "application/vnd.jupyter.widget-view+json": {
       "model_id": "45e556af30d049e2a03d3d31d9bb015d",
       "version_major": 2,
       "version_minor": 0
      },
      "text/plain": [
       "nqa.jpg:   0%|          | 0.00/158k [00:00<?, ?B/s]"
      ]
     },
     "metadata": {},
     "output_type": "display_data"
    },
    {
     "data": {
      "application/vnd.jupyter.widget-view+json": {
       "model_id": "0788fba1690b40888614747f021c533d",
       "version_major": 2,
       "version_minor": 0
      },
      "text/plain": [
       "miracl.jpg:   0%|          | 0.00/576k [00:00<?, ?B/s]"
      ]
     },
     "metadata": {},
     "output_type": "display_data"
    },
    {
     "data": {
      "application/vnd.jupyter.widget-view+json": {
       "model_id": "f0b940edb1d84ddeab057822385b6b3a",
       "version_major": 2,
       "version_minor": 0
      },
      "text/plain": [
       "long.jpg:   0%|          | 0.00/127k [00:00<?, ?B/s]"
      ]
     },
     "metadata": {},
     "output_type": "display_data"
    },
    {
     "data": {
      "application/vnd.jupyter.widget-view+json": {
       "model_id": "15f4401274b64e049123efa1cf26c13e",
       "version_major": 2,
       "version_minor": 0
      },
      "text/plain": [
       "Constant_7_attr__value:   0%|          | 0.00/65.6k [00:00<?, ?B/s]"
      ]
     },
     "metadata": {},
     "output_type": "display_data"
    },
    {
     "data": {
      "application/vnd.jupyter.widget-view+json": {
       "model_id": "d3292ee40c5c4c40af7d531c41dde37f",
       "version_major": 2,
       "version_minor": 0
      },
      "text/plain": [
       "others.webp:   0%|          | 0.00/21.0k [00:00<?, ?B/s]"
      ]
     },
     "metadata": {},
     "output_type": "display_data"
    },
    {
     "data": {
      "application/vnd.jupyter.widget-view+json": {
       "model_id": "21e5021b292a4d33b7eb456b5e65eae5",
       "version_major": 2,
       "version_minor": 0
      },
      "text/plain": [
       "model.onnx:   0%|          | 0.00/725k [00:00<?, ?B/s]"
      ]
     },
     "metadata": {},
     "output_type": "display_data"
    },
    {
     "data": {
      "application/vnd.jupyter.widget-view+json": {
       "model_id": "ad3a51e4e4ea4c98a26b2f4ffa32b493",
       "version_major": 2,
       "version_minor": 0
      },
      "text/plain": [
       "model.onnx_data:   0%|          | 0.00/2.27G [00:00<?, ?B/s]"
      ]
     },
     "metadata": {},
     "output_type": "display_data"
    },
    {
     "data": {
      "application/vnd.jupyter.widget-view+json": {
       "model_id": "f7184396c8614222bda3ff6daf52bf5c",
       "version_major": 2,
       "version_minor": 0
      },
      "text/plain": [
       "tokenizer.json:   0%|          | 0.00/17.1M [00:00<?, ?B/s]"
      ]
     },
     "metadata": {},
     "output_type": "display_data"
    },
    {
     "data": {
      "application/vnd.jupyter.widget-view+json": {
       "model_id": "4e4185cd531c42e6a3695bb5263dd2ea",
       "version_major": 2,
       "version_minor": 0
      },
      "text/plain": [
       "config.json:   0%|          | 0.00/698 [00:00<?, ?B/s]"
      ]
     },
     "metadata": {},
     "output_type": "display_data"
    },
    {
     "data": {
      "application/vnd.jupyter.widget-view+json": {
       "model_id": "b1d039f089e941c6b5ce825daf049e76",
       "version_major": 2,
       "version_minor": 0
      },
      "text/plain": [
       "pytorch_model.bin:   0%|          | 0.00/2.27G [00:00<?, ?B/s]"
      ]
     },
     "metadata": {},
     "output_type": "display_data"
    },
    {
     "data": {
      "application/vnd.jupyter.widget-view+json": {
       "model_id": "34ea420fcdba42d7a5acdd40645d7ae3",
       "version_major": 2,
       "version_minor": 0
      },
      "text/plain": [
       "tokenizer_config.json:   0%|          | 0.00/1.17k [00:00<?, ?B/s]"
      ]
     },
     "metadata": {},
     "output_type": "display_data"
    },
    {
     "data": {
      "application/vnd.jupyter.widget-view+json": {
       "model_id": "289b297242f24d75b900e2b8a37cdebe",
       "version_major": 2,
       "version_minor": 0
      },
      "text/plain": [
       "sentence_bert_config.json:   0%|          | 0.00/54.0 [00:00<?, ?B/s]"
      ]
     },
     "metadata": {},
     "output_type": "display_data"
    },
    {
     "data": {
      "application/vnd.jupyter.widget-view+json": {
       "model_id": "1c59b03d205041e19b800db08b184598",
       "version_major": 2,
       "version_minor": 0
      },
      "text/plain": [
       "sparse_linear.pt:   0%|          | 0.00/3.52k [00:00<?, ?B/s]"
      ]
     },
     "metadata": {},
     "output_type": "display_data"
    },
    {
     "data": {
      "application/vnd.jupyter.widget-view+json": {
       "model_id": "cfe4945542464d319132da4b764ed1d1",
       "version_major": 2,
       "version_minor": 0
      },
      "text/plain": [
       "modules.json:   0%|          | 0.00/349 [00:00<?, ?B/s]"
      ]
     },
     "metadata": {},
     "output_type": "display_data"
    },
    {
     "name": "stderr",
     "output_type": "stream",
     "text": [
      "You're using a XLMRobertaTokenizerFast tokenizer. Please note that with a fast tokenizer, using the `__call__` method is faster than using a method to encode the text followed by a call to the `pad` method to get a padded encoding.\n"
     ]
    }
   ],
   "source": [
    "from FlagEmbedding import BGEM3FlagModel\n",
    "\n",
    "model_name = \"BAAI/bge-m3\"\n",
    "\n",
    "bge_embeddings = BGEM3FlagModel(\n",
    "    model_name,\n",
    "    use_fp16=True,  # Enabling fp16 improves encoding speed with minimal precision trade-off.\n",
    ")\n",
    "\n",
    "# Encode documents with specified parameters\n",
    "embedded_documents_dense_vecs = bge_embeddings.encode(\n",
    "    sentences=docs,\n",
    "    batch_size=12,\n",
    "    max_length=8192,  # Reduce this value if your documents are shorter to speed up encoding.\n",
    ")[\"dense_vecs\"]\n",
    "\n",
    "# Query Encoding\n",
    "embedded_query_dense_vecs = bge_embeddings.encode(\n",
    "    sentences=[q],\n",
    "    batch_size=12,\n",
    "    max_length=8192,  # Reduce this value if your documents are shorter to speed up encoding.\n",
    ")[\"dense_vecs\"]"
   ]
  },
  {
   "cell_type": "code",
   "execution_count": 25,
   "metadata": {},
   "outputs": [
    {
     "data": {
      "text/plain": [
       "(5, 1024)"
      ]
     },
     "execution_count": 25,
     "metadata": {},
     "output_type": "execute_result"
    }
   ],
   "source": [
    "embedded_documents_dense_vecs.shape"
   ]
  },
  {
   "cell_type": "code",
   "execution_count": 26,
   "metadata": {},
   "outputs": [
    {
     "data": {
      "text/plain": [
       "(1, 1024)"
      ]
     },
     "execution_count": 26,
     "metadata": {},
     "output_type": "execute_result"
    }
   ],
   "source": [
    "embedded_query_dense_vecs.shape"
   ]
  },
  {
   "cell_type": "code",
   "execution_count": 27,
   "metadata": {},
   "outputs": [
    {
     "name": "stdout",
     "output_type": "stream",
     "text": [
      "Question: Please tell me more about LangChain.\n",
      "Most similar document: LangChain simplifies the process of building applications with large language models.\n"
     ]
    }
   ],
   "source": [
    "# Calculating Similarity Between Documents and Query\n",
    "from sklearn.metrics.pairwise import cosine_similarity\n",
    "\n",
    "similarities = cosine_similarity(\n",
    "    embedded_query_dense_vecs, embedded_documents_dense_vecs\n",
    ")\n",
    "most_similar_idx = similarities.argmax()\n",
    "\n",
    "# Display the Most Similar Document\n",
    "print(f\"Question: {q}\")\n",
    "print(f\"Most similar document: {docs[most_similar_idx]}\")"
   ]
  },
  {
   "cell_type": "code",
   "execution_count": 28,
   "metadata": {},
   "outputs": [
    {
     "data": {
      "application/vnd.jupyter.widget-view+json": {
       "model_id": "ce733da9c4ce428994cc80c9707529be",
       "version_major": 2,
       "version_minor": 0
      },
      "text/plain": [
       "Fetching 30 files:   0%|          | 0/30 [00:00<?, ?it/s]"
      ]
     },
     "metadata": {},
     "output_type": "display_data"
    },
    {
     "name": "stderr",
     "output_type": "stream",
     "text": [
      "You're using a XLMRobertaTokenizerFast tokenizer. Please note that with a fast tokenizer, using the `__call__` method is faster than using a method to encode the text followed by a call to the `pad` method to get a padded encoding.\n"
     ]
    }
   ],
   "source": [
    "from FlagEmbedding import BGEM3FlagModel\n",
    "\n",
    "model_name = \"BAAI/bge-m3\"\n",
    "\n",
    "bge_embeddings = BGEM3FlagModel(\n",
    "    model_name,\n",
    "    use_fp16=True,  # Enabling fp16 improves encoding speed with minimal precision trade-off.\n",
    ")\n",
    "\n",
    "# Encode documents with specified parameters\n",
    "embedded_documents_dense_vecs_default = bge_embeddings.encode(\n",
    "    sentences=docs, return_dense=True\n",
    ")[\"dense_vecs\"]\n",
    "\n",
    "# Query Encoding\n",
    "embedded_query_dense_vecs_default = bge_embeddings.encode(\n",
    "    sentences=[q], return_dense=True\n",
    ")[\"dense_vecs\"]"
   ]
  },
  {
   "cell_type": "code",
   "execution_count": 29,
   "metadata": {},
   "outputs": [
    {
     "name": "stdout",
     "output_type": "stream",
     "text": [
      "Question: Please tell me more about LangChain.\n",
      "Most similar document: LangChain simplifies the process of building applications with large language models.\n"
     ]
    }
   ],
   "source": [
    "# Calculating Similarity Between Documents and Query\n",
    "from sklearn.metrics.pairwise import cosine_similarity\n",
    "\n",
    "similarities = cosine_similarity(\n",
    "    embedded_query_dense_vecs_default, embedded_documents_dense_vecs_default\n",
    ")\n",
    "most_similar_idx = similarities.argmax()\n",
    "\n",
    "# Display the Most Similar Document\n",
    "print(f\"Question: {q}\")\n",
    "print(f\"Most similar document: {docs[most_similar_idx]}\")"
   ]
  },
  {
   "cell_type": "markdown",
   "metadata": {},
   "source": [
    "### 2️⃣ **Sparse(Lexical) Vector Embedding Example**\n",
    "\n",
    "**Sparse Embedding (Trọng số từ vựng)**\n",
    "- **Sparse embedding** là một phương pháp embedding sử dụng **high-dimensional vectors where most values are zero.**\n",
    "- Phương pháp sử dụng **lexical weight** tạo ra embeddings bằng cách xem xét **importance of each word.**\n",
    "\n",
    "**Cách thức hoạt động**\n",
    "1.  Tính toán **lexical weight** cho mỗi từ. Các kỹ thuật như **TF-IDF** hoặc **BM25** có thể được sử dụng.\n",
    "2.  Đối với mỗi từ trong một tài liệu hoặc truy vấn, gán một giá trị cho chiều tương ứng của **sparse vector** dựa trên lexical weight của nó.\n",
    "3.  Kết quả là, các tài liệu và truy vấn được biểu diễn dưới dạng **high-dimensional vectors where most values are zero.**\n",
    "\n",
    "**Ưu điểm**\n",
    "- Phản ánh trực tiếp **importance of words.**\n",
    "- Cho phép **precise matching** của các từ hoặc cụm từ cụ thể.\n",
    "- **Faster computation** so với dense embeddings.\n"
   ]
  },
  {
   "cell_type": "code",
   "execution_count": 30,
   "metadata": {},
   "outputs": [
    {
     "data": {
      "application/vnd.jupyter.widget-view+json": {
       "model_id": "4b50aafb7c974fa58e255a9a827e6227",
       "version_major": 2,
       "version_minor": 0
      },
      "text/plain": [
       "Fetching 30 files:   0%|          | 0/30 [00:00<?, ?it/s]"
      ]
     },
     "metadata": {},
     "output_type": "display_data"
    },
    {
     "name": "stderr",
     "output_type": "stream",
     "text": [
      "You're using a XLMRobertaTokenizerFast tokenizer. Please note that with a fast tokenizer, using the `__call__` method is faster than using a method to encode the text followed by a call to the `pad` method to get a padded encoding.\n"
     ]
    }
   ],
   "source": [
    "from FlagEmbedding import BGEM3FlagModel\n",
    "\n",
    "model_name = \"BAAI/bge-m3\"\n",
    "\n",
    "bge_embeddings = BGEM3FlagModel(\n",
    "    model_name,\n",
    "    use_fp16=True,  # Enabling fp16 improves encoding speed with minimal precision trade-off.\n",
    ")\n",
    "\n",
    "# Encode documents with specified parameters\n",
    "embedded_documents_sparse_vecs = bge_embeddings.encode(\n",
    "    sentences=docs, return_sparse=True\n",
    ")\n",
    "\n",
    "# Query Encoding\n",
    "embedded_query_sparse_vecs = bge_embeddings.encode(sentences=[q], return_sparse=True)"
   ]
  },
  {
   "cell_type": "code",
   "execution_count": 31,
   "metadata": {},
   "outputs": [],
   "source": [
    "lexical_scores_0 = bge_embeddings.compute_lexical_matching_score(\n",
    "    embedded_query_sparse_vecs[\"lexical_weights\"][0],\n",
    "    embedded_documents_sparse_vecs[\"lexical_weights\"][0],\n",
    ")\n",
    "\n",
    "lexical_scores_1 = bge_embeddings.compute_lexical_matching_score(\n",
    "    embedded_query_sparse_vecs[\"lexical_weights\"][0],\n",
    "    embedded_documents_sparse_vecs[\"lexical_weights\"][1],\n",
    ")\n",
    "\n",
    "lexical_scores_2 = bge_embeddings.compute_lexical_matching_score(\n",
    "    embedded_query_sparse_vecs[\"lexical_weights\"][0],\n",
    "    embedded_documents_sparse_vecs[\"lexical_weights\"][2],\n",
    ")\n",
    "\n",
    "lexical_scores_3 = bge_embeddings.compute_lexical_matching_score(\n",
    "    embedded_query_sparse_vecs[\"lexical_weights\"][0],\n",
    "    embedded_documents_sparse_vecs[\"lexical_weights\"][3],\n",
    ")\n",
    "\n",
    "lexical_scores_4 = bge_embeddings.compute_lexical_matching_score(\n",
    "    embedded_query_sparse_vecs[\"lexical_weights\"][0],\n",
    "    embedded_documents_sparse_vecs[\"lexical_weights\"][4],\n",
    ")"
   ]
  },
  {
   "cell_type": "code",
   "execution_count": 32,
   "metadata": {},
   "outputs": [
    {
     "name": "stdout",
     "output_type": "stream",
     "text": [
      "question: Please tell me more about LangChain.\n",
      "====================\n",
      "Hi, nice to meet you. : 0.011874185875058174\n",
      "LangChain simplifies the process of building applications with large language models. : 0.23139647534117103\n",
      "The LangChain English tutorial is structured based on LangChain's official documentation, cookbook, and various practical examples to help users utilize LangChain more easily and effectively. : 0.1879164595156908\n",
      "LangChain simplifies the process of building applications with large-scale language models. : 0.22665631817653775\n",
      "Retrieval-Augmented Generation (RAG) is an effective technique for improving AI responses. : 0.002352734562009573\n"
     ]
    }
   ],
   "source": [
    "print(f\"question: {q}\")\n",
    "print(\"====================\")\n",
    "for i, doc in enumerate(docs):\n",
    "    print(doc, f\": {eval(f'lexical_scores_{i}')}\")"
   ]
  },
  {
   "cell_type": "markdown",
   "metadata": {},
   "source": [
    "### 3️⃣ **Multi-Vector(ColBERT) Embedding Example**\n",
    "\n",
    "**ColBERT** (Contextualized Late Interaction over BERT) là một phương pháp hiệu quả cho **document retrieval.**\n",
    "- Phương pháp này sử dụng **multi-vector strategy** để biểu diễn cả tài liệu và truy vấn bằng nhiều vectơ.\n",
    "\n",
    "**Cách thức hoạt động**\n",
    "1.  Tạo **separate vector** cho mỗi **token in a document**, dẫn đến nhiều vectơ cho mỗi tài liệu.\n",
    "2.  Tương tự, tạo **separate vector** cho mỗi **token in a query.**\n",
    "3.  Trong quá trình retrieval, tính toán **similarity** giữa mỗi vectơ token truy vấn và tất cả các vectơ token tài liệu.\n",
    "4.  Tổng hợp các điểm tương đồng này để tạo ra **final retrieval score.**\n",
    "\n",
    "**Ưu điểm**\n",
    "- Cho phép **fine-grained token-level matching.**\n",
    "- Nắm bắt **contextual embeddings** một cách hiệu quả.\n",
    "- Hoạt động hiệu quả ngay cả với **long documents.**\n"
   ]
  },
  {
   "cell_type": "code",
   "execution_count": 33,
   "metadata": {},
   "outputs": [
    {
     "data": {
      "application/vnd.jupyter.widget-view+json": {
       "model_id": "0fbca95a48224c32a39e41186b8d74f7",
       "version_major": 2,
       "version_minor": 0
      },
      "text/plain": [
       "Fetching 30 files:   0%|          | 0/30 [00:00<?, ?it/s]"
      ]
     },
     "metadata": {},
     "output_type": "display_data"
    },
    {
     "name": "stderr",
     "output_type": "stream",
     "text": [
      "You're using a XLMRobertaTokenizerFast tokenizer. Please note that with a fast tokenizer, using the `__call__` method is faster than using a method to encode the text followed by a call to the `pad` method to get a padded encoding.\n"
     ]
    }
   ],
   "source": [
    "from FlagEmbedding import BGEM3FlagModel\n",
    "\n",
    "model_name = \"BAAI/bge-m3\"\n",
    "\n",
    "bge_embeddings = BGEM3FlagModel(\n",
    "    model_name,\n",
    "    use_fp16=True,  # Enabling fp16 improves encoding speed with minimal precision trade-off.\n",
    ")\n",
    "\n",
    "# Encode documents with specified parameters\n",
    "embedded_documents_colbert_vecs = bge_embeddings.encode(\n",
    "    sentences=docs, return_colbert_vecs=True\n",
    ")\n",
    "\n",
    "# Query Encoding\n",
    "embedded_query_colbert_vecs = bge_embeddings.encode(\n",
    "    sentences=[q], return_colbert_vecs=True\n",
    ")"
   ]
  },
  {
   "cell_type": "code",
   "execution_count": 34,
   "metadata": {},
   "outputs": [],
   "source": [
    "colbert_scores_0 = bge_embeddings.colbert_score(\n",
    "    embedded_query_colbert_vecs[\"colbert_vecs\"][0],\n",
    "    embedded_documents_colbert_vecs[\"colbert_vecs\"][0],\n",
    ")\n",
    "\n",
    "colbert_scores_1 = bge_embeddings.colbert_score(\n",
    "    embedded_query_colbert_vecs[\"colbert_vecs\"][0],\n",
    "    embedded_documents_colbert_vecs[\"colbert_vecs\"][1],\n",
    ")\n",
    "\n",
    "colbert_scores_2 = bge_embeddings.colbert_score(\n",
    "    embedded_query_colbert_vecs[\"colbert_vecs\"][0],\n",
    "    embedded_documents_colbert_vecs[\"colbert_vecs\"][2],\n",
    ")\n",
    "\n",
    "colbert_scores_3 = bge_embeddings.colbert_score(\n",
    "    embedded_query_colbert_vecs[\"colbert_vecs\"][0],\n",
    "    embedded_documents_colbert_vecs[\"colbert_vecs\"][3],\n",
    ")\n",
    "\n",
    "colbert_scores_4 = bge_embeddings.colbert_score(\n",
    "    embedded_query_colbert_vecs[\"colbert_vecs\"][0],\n",
    "    embedded_documents_colbert_vecs[\"colbert_vecs\"][4],\n",
    ")"
   ]
  },
  {
   "cell_type": "code",
   "execution_count": 35,
   "metadata": {},
   "outputs": [
    {
     "name": "stdout",
     "output_type": "stream",
     "text": [
      "question: Please tell me more about LangChain.\n",
      "====================\n",
      "Hi, nice to meet you. : 0.5088493824005127\n",
      "LangChain simplifies the process of building applications with large language models. : 0.703724205493927\n",
      "The LangChain English tutorial is structured based on LangChain's official documentation, cookbook, and various practical examples to help users utilize LangChain more easily and effectively. : 0.6633750796318054\n",
      "LangChain simplifies the process of building applications with large-scale language models. : 0.7055995464324951\n",
      "Retrieval-Augmented Generation (RAG) is an effective technique for improving AI responses. : 0.38072970509529114\n"
     ]
    }
   ],
   "source": [
    "print(f\"question: {q}\")\n",
    "print(\"====================\")\n",
    "for i, doc in enumerate(docs):\n",
    "    print(doc, f\": {eval(f'colbert_scores_{i}')}\")"
   ]
  },
  {
   "cell_type": "markdown",
   "metadata": {},
   "source": [
    "### 💡 **Ưu điểm của FlagEmbedding**\n",
    "\n",
    "-   **Diverse Embedding Options:** Hỗ trợ các phương pháp **Dense, Lexical và Multi-Vector.**\n",
    "-   **High-Performance Models:** Sử dụng các mô hình được huấn luyện trước mạnh mẽ như **BGE.**\n",
    "-   **Flexibility:** Chọn phương pháp embedding tối ưu dựa trên **use case** của bạn.\n",
    "-   **Scalability:** Có khả năng thực hiện embeddings trên **large-scale datasets.**\n",
    "\n",
    "---\n",
    "\n",
    "### ⚠️ **Cân nhắc**\n",
    "\n",
    "-   **Model Size:** Một số mô hình có thể yêu cầu **significant storage capacity.**\n",
    "-   **Resource Requirements:** **GPU usage is recommended** cho các tính toán vectơ quy mô lớn.\n",
    "-   **Configuration Needs:** Hiệu suất tối ưu có thể yêu cầu **parameter tuning.**\n",
    "\n",
    "---\n",
    "\n",
    "### 📊 **So sánh vectơ FlagEmbedding**\n",
    "\n",
    "| **Embedding Type** | **Strengths** | **Use Cases** |\n",
    "|---|---|---|\n",
    "| **Dense Vector** | Nhấn mạnh sự tương đồng ngữ nghĩa | Semantic search, document matching |\n",
    "| **Lexical Vector** | Khớp từ chính xác | Keyword search, exact matches |\n",
    "| **Multi-Vector** | Nắm bắt ý nghĩa phức tạp | Long document analysis, topic classification |\n"
   ]
  }
 ],
 "metadata": {
  "kernelspec": {
   "display_name": "langchain",
   "language": "python",
   "name": "python3"
  },
  "language_info": {
   "codemirror_mode": {
    "name": "ipython",
    "version": 3
   },
   "file_extension": ".py",
   "mimetype": "text/x-python",
   "name": "python",
   "nbconvert_exporter": "python",
   "pygments_lexer": "ipython3",
   "version": "3.10.16"
  }
 },
 "nbformat": 4,
 "nbformat_minor": 2
}
