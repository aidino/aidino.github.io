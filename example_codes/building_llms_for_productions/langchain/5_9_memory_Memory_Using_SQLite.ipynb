{
 "cells": [
  {
   "cell_type": "markdown",
   "metadata": {},
   "source": [
    "# Memory Using SQLite\n",
    "\n",
    "Hướng dẫn này giải thích lớp `SQLChatMessageHistory`, cho phép lưu trữ lịch sử trò chuyện trong bất kỳ cơ sở dữ liệu nào được hỗ trợ bởi `SQLAlchemy`.\n",
    "\n",
    "`Structured Query Language (SQL)` là một ngôn ngữ dành riêng cho miền (domain-specific language) được sử dụng trong lập trình và được thiết kế để quản lý dữ liệu được lưu trữ trong Hệ thống quản lý cơ sở dữ liệu quan hệ (Relational Database Management System - RDBMS), hoặc để xử lý luồng trong Hệ thống quản lý luồng dữ liệu quan hệ (Relational Data Stream Management System - RDSMS). Nó đặc biệt hữu ích để xử lý dữ liệu có cấu trúc, bao gồm các mối quan hệ giữa các thực thể và biến.\n",
    "\n",
    "`SQLAlchemy` là một bộ công cụ **SQL** mã nguồn mở và Trình ánh xạ quan hệ đối tượng (Object-Relational Mapper - ORM) cho ngôn ngữ lập trình Python, được phát hành theo Giấy phép MIT.\n",
    "\n",
    "Để sử dụng cơ sở dữ liệu khác `SQLite`, vui lòng đảm bảo cài đặt trình điều khiển cơ sở dữ liệu thích hợp trước.\n"
   ]
  },
  {
   "cell_type": "code",
   "execution_count": 1,
   "metadata": {},
   "outputs": [
    {
     "data": {
      "text/plain": [
       "True"
      ]
     },
     "execution_count": 1,
     "metadata": {},
     "output_type": "execute_result"
    }
   ],
   "source": [
    "import os\n",
    "from dotenv import load_dotenv\n",
    "from langchain_openai import ChatOpenAI\n",
    "from langchain_core.prompts import PromptTemplate\n",
    "from langchain_core.output_parsers import StrOutputParser\n",
    "\n",
    "load_dotenv(override=True, dotenv_path=\"../.env\")"
   ]
  },
  {
   "cell_type": "markdown",
   "metadata": {},
   "source": [
    "## Usage\n",
    "\n",
    "Để sử dụng storage, bạn chỉ cần cung cấp 2 thứ sau:\n",
    "\n",
    "1.  `session_id` - Một định danh duy nhất cho session, ví dụ như tên người dùng, email, chat ID, v.v.\n",
    "\n",
    "2.  `connection` - Một chuỗi xác định kết nối database. Chuỗi này sẽ được truyền cho hàm `create_engine` của SQLAlchemy.\n"
   ]
  },
  {
   "cell_type": "code",
   "execution_count": 2,
   "metadata": {},
   "outputs": [],
   "source": [
    "from langchain_community.chat_message_histories import SQLChatMessageHistory\n",
    "\n",
    "# Initialize chat history with session ID and database connection.\n",
    "chat_message_history = SQLChatMessageHistory(\n",
    "    session_id=\"sql_history\", connection=\"sqlite:///sqlite.db\"\n",
    ")"
   ]
  },
  {
   "cell_type": "code",
   "execution_count": 3,
   "metadata": {},
   "outputs": [],
   "source": [
    "# Add a user message\n",
    "chat_message_history.add_user_message(\n",
    "    \"Hello, nice to meet you! My name is Heesun :) I'm a LangChain developer. I look forward to working with you!\"\n",
    ")\n",
    "# Add an AI message\n",
    "chat_message_history.add_ai_message(\n",
    "    \"Hi, Heesun! Nice to meet you. I look forward to working with you too!\"\n",
    ")"
   ]
  },
  {
   "cell_type": "code",
   "execution_count": 4,
   "metadata": {},
   "outputs": [
    {
     "data": {
      "text/plain": [
       "[HumanMessage(content=\"Hello, nice to meet you! My name is Heesun :) I'm a LangChain developer. I look forward to working with you!\", additional_kwargs={}, response_metadata={}),\n",
       " AIMessage(content='Hi, Heesun! Nice to meet you. I look forward to working with you too!', additional_kwargs={}, response_metadata={})]"
      ]
     },
     "execution_count": 4,
     "metadata": {},
     "output_type": "execute_result"
    }
   ],
   "source": [
    "chat_message_history.messages"
   ]
  },
  {
   "cell_type": "code",
   "execution_count": 5,
   "metadata": {},
   "outputs": [
    {
     "data": {
      "text/plain": [
       "[]"
      ]
     },
     "execution_count": 5,
     "metadata": {},
     "output_type": "execute_result"
    }
   ],
   "source": [
    "# Clear the session memory\n",
    "chat_message_history.clear()\n",
    "chat_message_history.messages"
   ]
  },
  {
   "cell_type": "markdown",
   "metadata": {},
   "source": [
    "### Adding Metadata\n",
    "\n",
    "**Metadata** có thể được thêm vào bằng cách tạo trực tiếp các đối tượng `HumanMessage` và `AIMessage`. Phương pháp này cho phép xử lý và ghi log dữ liệu linh hoạt.\n",
    "\n",
    "**Tham số**:\n",
    "\n",
    "-   `additional_kwargs` - Lưu trữ các tag hoặc metadata tùy chỉnh, ví dụ như độ ưu tiên hoặc loại task.\n",
    "\n",
    "-   `response_metadata` - Ghi lại chi tiết phản hồi của AI, bao gồm model, timestamp và số lượng token.\n",
    "\n",
    "Các trường này tăng cường khả năng debug và theo dõi task thông qua việc lưu trữ dữ liệu chi tiết.\n"
   ]
  },
  {
   "cell_type": "code",
   "execution_count": 6,
   "metadata": {},
   "outputs": [],
   "source": [
    "from langchain_core.messages import HumanMessage\n",
    "\n",
    "# Add a user message with additional metadata.\n",
    "user_message = HumanMessage(\n",
    "    content=\"Can you help me summarize this text?\",\n",
    "    additional_kwargs={\"task\": \"summarization\"},\n",
    ")\n",
    "\n",
    "# Add the message to chat history.\n",
    "chat_message_history.add_message(user_message)"
   ]
  },
  {
   "cell_type": "code",
   "execution_count": 7,
   "metadata": {},
   "outputs": [
    {
     "data": {
      "text/plain": [
       "[HumanMessage(content='Can you help me summarize this text?', additional_kwargs={'task': 'summarization'}, response_metadata={})]"
      ]
     },
     "execution_count": 7,
     "metadata": {},
     "output_type": "execute_result"
    }
   ],
   "source": [
    "chat_message_history.messages"
   ]
  },
  {
   "cell_type": "code",
   "execution_count": 8,
   "metadata": {},
   "outputs": [],
   "source": [
    "from langchain_core.messages import AIMessage\n",
    "\n",
    "# Add an AI message with response metadata.\n",
    "ai_message = AIMessage(\n",
    "    content=\"Sure! Here's the summary of the provided text.\",\n",
    "    response_metadata={\"model\": \"gpt-4\", \"token_count\": 30, \"response_time\": \"150ms\"},\n",
    ")\n",
    "\n",
    "# Add the message to chat history.\n",
    "chat_message_history.add_message(ai_message)"
   ]
  },
  {
   "cell_type": "code",
   "execution_count": 9,
   "metadata": {},
   "outputs": [
    {
     "data": {
      "text/plain": [
       "[HumanMessage(content='Can you help me summarize this text?', additional_kwargs={'task': 'summarization'}, response_metadata={}),\n",
       " AIMessage(content=\"Sure! Here's the summary of the provided text.\", additional_kwargs={}, response_metadata={'model': 'gpt-4', 'token_count': 30, 'response_time': '150ms'})]"
      ]
     },
     "execution_count": 9,
     "metadata": {},
     "output_type": "execute_result"
    }
   ],
   "source": [
    "chat_message_history.messages"
   ]
  },
  {
   "cell_type": "markdown",
   "metadata": {},
   "source": [
    "## Chaining\n",
    "\n",
    "You can easily integrate this chat history class with [LCEL Runnables](https://wikidocs.net/235884)."
   ]
  },
  {
   "cell_type": "code",
   "execution_count": 10,
   "metadata": {},
   "outputs": [],
   "source": [
    "from langchain_core.prompts import (\n",
    "    ChatPromptTemplate,\n",
    "    MessagesPlaceholder,\n",
    ")\n",
    "from langchain_core.runnables.history import RunnableWithMessageHistory\n",
    "from langchain_core.output_parsers import StrOutputParser\n",
    "\n",
    "llm = ChatOpenAI(model_name=\"gpt-3.5-turbo\", temperature=0.0)\n",
    "prompt = ChatPromptTemplate.from_messages(\n",
    "    [\n",
    "        (\"system\", \"You are a helpful assistant.\"),\n",
    "        # Placeholder for chat history\n",
    "        MessagesPlaceholder(variable_name=\"chat_history\"),\n",
    "        (\"human\", \"{question}\"),\n",
    "    ]\n",
    ")\n",
    "\n",
    "# Chaining\n",
    "chain = prompt | llm | StrOutputParser()"
   ]
  },
  {
   "cell_type": "code",
   "execution_count": 11,
   "metadata": {},
   "outputs": [],
   "source": [
    "def get_chat_history(user_id, conversation_id):\n",
    "    return SQLChatMessageHistory(\n",
    "        table_name=user_id,\n",
    "        session_id=conversation_id,\n",
    "        connection=\"sqlite:///sqlite.db\",\n",
    "    )"
   ]
  },
  {
   "cell_type": "markdown",
   "metadata": {},
   "source": [
    "Set `config_fields` to provide reference information when retrieving conversation details."
   ]
  },
  {
   "cell_type": "code",
   "execution_count": 12,
   "metadata": {},
   "outputs": [],
   "source": [
    "from langchain_core.runnables.utils import ConfigurableFieldSpec\n",
    "\n",
    "config_fields = [\n",
    "    ConfigurableFieldSpec(\n",
    "        id=\"user_id\",\n",
    "        annotation=str,\n",
    "        name=\"User ID\",\n",
    "        description=\"Unique identifier for a user.\",\n",
    "        default=\"\",\n",
    "        is_shared=True,\n",
    "    ),\n",
    "    ConfigurableFieldSpec(\n",
    "        id=\"conversation_id\",\n",
    "        annotation=str,\n",
    "        name=\"Conversation ID\",\n",
    "        description=\"Unique identifier for a conversation.\",\n",
    "        default=\"\",\n",
    "        is_shared=True,\n",
    "    ),\n",
    "]"
   ]
  },
  {
   "cell_type": "code",
   "execution_count": 13,
   "metadata": {},
   "outputs": [],
   "source": [
    "chain_with_history = RunnableWithMessageHistory(\n",
    "    chain,\n",
    "    get_chat_history,\n",
    "    input_messages_key=\"question\",\n",
    "    history_messages_key=\"chat_history\",\n",
    "    # Set parameters for retrieving chat history\n",
    "    history_factory_config=config_fields,\n",
    ")"
   ]
  },
  {
   "cell_type": "markdown",
   "metadata": {},
   "source": [
    "Set the `\"user_id\"` and `\"conversation_id\"` key-value pairs under the `\"configurable\"` key."
   ]
  },
  {
   "cell_type": "code",
   "execution_count": 14,
   "metadata": {},
   "outputs": [],
   "source": [
    "# Config settings\n",
    "config = {\"configurable\": {\"user_id\": \"user1\", \"conversation_id\": \"conversation1\"}}"
   ]
  },
  {
   "cell_type": "code",
   "execution_count": 15,
   "metadata": {},
   "outputs": [
    {
     "data": {
      "text/plain": [
       "\"Hello Heesun, it's nice to meet you too! How can I assist you today?\""
      ]
     },
     "execution_count": 15,
     "metadata": {},
     "output_type": "execute_result"
    }
   ],
   "source": [
    "# Execute by passing the question and config\n",
    "chain_with_history.invoke(\n",
    "    {\"question\": \"Hi, nice to meet you. My name is Heesun.\"}, config\n",
    ")"
   ]
  },
  {
   "cell_type": "code",
   "execution_count": 16,
   "metadata": {},
   "outputs": [
    {
     "data": {
      "text/plain": [
       "'Your name is Heesun.'"
      ]
     },
     "execution_count": 16,
     "metadata": {},
     "output_type": "execute_result"
    }
   ],
   "source": [
    "# Execute a follow-up question\n",
    "chain_with_history.invoke({\"question\": \"What is my name?\"}, config)"
   ]
  },
  {
   "cell_type": "markdown",
   "metadata": {},
   "source": [
    "This time, set the same `user_id` but use a different value for `conversation_id`."
   ]
  },
  {
   "cell_type": "code",
   "execution_count": 17,
   "metadata": {},
   "outputs": [
    {
     "data": {
      "text/plain": [
       "\"I'm sorry, but I don't have access to your personal information, including your name. How can I assist you today?\""
      ]
     },
     "execution_count": 17,
     "metadata": {},
     "output_type": "execute_result"
    }
   ],
   "source": [
    "# Config settings\n",
    "config = {\"configurable\": {\"user_id\": \"user1\", \"conversation_id\": \"conversation2\"}}\n",
    "\n",
    "# Execute by passing the question and config\n",
    "chain_with_history.invoke({\"question\": \"What is my name?\"}, config)"
   ]
  },
  {
   "cell_type": "code",
   "execution_count": null,
   "metadata": {},
   "outputs": [],
   "source": []
  }
 ],
 "metadata": {
  "kernelspec": {
   "display_name": "langchain",
   "language": "python",
   "name": "python3"
  },
  "language_info": {
   "codemirror_mode": {
    "name": "ipython",
    "version": 3
   },
   "file_extension": ".py",
   "mimetype": "text/x-python",
   "name": "python",
   "nbconvert_exporter": "python",
   "pygments_lexer": "ipython3",
   "version": "3.10.16"
  }
 },
 "nbformat": 4,
 "nbformat_minor": 2
}
