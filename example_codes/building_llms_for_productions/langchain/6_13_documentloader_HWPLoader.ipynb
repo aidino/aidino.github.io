{
 "cells": [
  {
   "cell_type": "markdown",
   "metadata": {},
   "source": [
    "# HWP (Hangeul) Loader\n",
    "\n",
    "HWP là bộ xử lý văn bản Hangeul được phát triển bởi **Hancom**, và đây là phần mềm văn phòng tiêu biểu của Hàn Quốc.\n",
    "\n",
    "Nó sử dụng phần mở rộng tệp **.hwp** và được sử dụng rộng rãi trong các doanh nghiệp, trường học, tổ chức chính phủ, v.v.\n",
    "\n",
    "Do đó, nếu bạn là nhà phát triển ở Hàn Quốc, bạn có thể đã (hoặc sẽ) có kinh nghiệm làm việc với tài liệu **.hwp**.\n",
    "\n",
    "Rất tiếc, nó chưa được tích hợp với LangChain, vì vậy chúng ta cần sử dụng `HWPLoader` được triển khai tùy chỉnh với `langchain-teddynote` và `langchain-opentutorial`.\n",
    "\n",
    "Trong hướng dẫn này, chúng ta sẽ triển khai `HWPLoader` có thể tải tệp **.hwp** và trích xuất văn bản từ chúng.\n"
   ]
  },
  {
   "cell_type": "markdown",
   "metadata": {},
   "source": [
    "```bash\n",
    "pip install langchain-teddynote\n",
    "```"
   ]
  },
  {
   "cell_type": "code",
   "execution_count": 1,
   "metadata": {},
   "outputs": [
    {
     "ename": "ModuleNotFoundError",
     "evalue": "No module named 'langchain_teddynote.document_loaders.pdf'",
     "output_type": "error",
     "traceback": [
      "\u001b[0;31m---------------------------------------------------------------------------\u001b[0m",
      "\u001b[0;31mModuleNotFoundError\u001b[0m                       Traceback (most recent call last)",
      "Cell \u001b[0;32mIn[1], line 1\u001b[0m\n\u001b[0;32m----> 1\u001b[0m \u001b[38;5;28;01mfrom\u001b[39;00m\u001b[38;5;250m \u001b[39m\u001b[38;5;21;01mlangchain_teddynote\u001b[39;00m\u001b[38;5;21;01m.\u001b[39;00m\u001b[38;5;21;01mdocument_loaders\u001b[39;00m\u001b[38;5;250m \u001b[39m\u001b[38;5;28;01mimport\u001b[39;00m HWPLoader\n\u001b[1;32m      3\u001b[0m loader \u001b[38;5;241m=\u001b[39m HWPLoader(file_path\u001b[38;5;241m=\u001b[39m\u001b[38;5;124m\"\u001b[39m\u001b[38;5;124mdata/Regulations_of_the_Establishment_and_Operation_of_the_National_Artificial_Intelligence_Committee.hwp\u001b[39m\u001b[38;5;124m\"\u001b[39m)\n",
      "File \u001b[0;32m~/miniconda3/envs/langchain/lib/python3.10/site-packages/langchain_teddynote/document_loaders/__init__.py:15\u001b[0m\n\u001b[1;32m      9\u001b[0m _module_lookup \u001b[38;5;241m=\u001b[39m {\n\u001b[1;32m     10\u001b[0m     \u001b[38;5;124m\"\u001b[39m\u001b[38;5;124mHWPLoader\u001b[39m\u001b[38;5;124m\"\u001b[39m: \u001b[38;5;124m\"\u001b[39m\u001b[38;5;124mdocument_loaders.hwp\u001b[39m\u001b[38;5;124m\"\u001b[39m,\n\u001b[1;32m     11\u001b[0m     \u001b[38;5;124m\"\u001b[39m\u001b[38;5;124mPDFParser\u001b[39m\u001b[38;5;124m\"\u001b[39m: \u001b[38;5;124m\"\u001b[39m\u001b[38;5;124mdocument_loaders.pdf\u001b[39m\u001b[38;5;124m\"\u001b[39m,\n\u001b[1;32m     12\u001b[0m }\n\u001b[1;32m     14\u001b[0m \u001b[38;5;28;01mfrom\u001b[39;00m\u001b[38;5;250m \u001b[39m\u001b[38;5;21;01m.\u001b[39;00m\u001b[38;5;21;01mhwp\u001b[39;00m\u001b[38;5;250m \u001b[39m\u001b[38;5;28;01mimport\u001b[39;00m HWPLoader\n\u001b[0;32m---> 15\u001b[0m \u001b[38;5;28;01mfrom\u001b[39;00m\u001b[38;5;250m \u001b[39m\u001b[38;5;21;01m.\u001b[39;00m\u001b[38;5;21;01mpdf\u001b[39;00m\u001b[38;5;250m \u001b[39m\u001b[38;5;28;01mimport\u001b[39;00m PDFParser\n\u001b[1;32m     18\u001b[0m \u001b[38;5;28;01mdef\u001b[39;00m\u001b[38;5;250m \u001b[39m\u001b[38;5;21m__getattr__\u001b[39m(name: \u001b[38;5;28mstr\u001b[39m) \u001b[38;5;241m-\u001b[39m\u001b[38;5;241m>\u001b[39m Any:\n\u001b[1;32m     19\u001b[0m     \u001b[38;5;28;01mif\u001b[39;00m name \u001b[38;5;129;01min\u001b[39;00m _module_lookup:\n",
      "\u001b[0;31mModuleNotFoundError\u001b[0m: No module named 'langchain_teddynote.document_loaders.pdf'"
     ]
    }
   ],
   "source": [
    "from langchain_teddynote.document_loaders import HWPLoader\n",
    "\n",
    "loader = HWPLoader(file_path=\"data/Regulations_of_the_Establishment_and_Operation_of_the_National_Artificial_Intelligence_Committee.hwp\")"
   ]
  },
  {
   "cell_type": "code",
   "execution_count": null,
   "metadata": {},
   "outputs": [],
   "source": []
  }
 ],
 "metadata": {
  "kernelspec": {
   "display_name": "langchain",
   "language": "python",
   "name": "python3"
  },
  "language_info": {
   "codemirror_mode": {
    "name": "ipython",
    "version": 3
   },
   "file_extension": ".py",
   "mimetype": "text/x-python",
   "name": "python",
   "nbconvert_exporter": "python",
   "pygments_lexer": "ipython3",
   "version": "3.10.16"
  }
 },
 "nbformat": 4,
 "nbformat_minor": 2
}
