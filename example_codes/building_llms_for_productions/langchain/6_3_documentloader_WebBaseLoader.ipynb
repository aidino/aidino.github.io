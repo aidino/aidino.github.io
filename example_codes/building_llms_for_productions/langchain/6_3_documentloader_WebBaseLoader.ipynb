{
 "cells": [
  {
   "cell_type": "markdown",
   "metadata": {},
   "source": [
    "# WebBaseLoader\n",
    "\n",
    "`WebBaseLoader` là một document loader chuyên biệt trong LangChain được thiết kế để xử lý nội dung dựa trên web.\n",
    "\n",
    "Nó sử dụng thư viện `BeautifulSoup4` để phân tích cú pháp các trang web một cách hiệu quả, cung cấp các tùy chọn phân tích cú pháp tùy chỉnh thông qua `SoupStrainer` và các tham số `bs4` bổ sung.\n",
    "\n",
    "Hướng dẫn này trình bày cách sử dụng `WebBaseLoader` để:\n",
    "\n",
    "1. Load và phân tích cú pháp các tài liệu web một cách hiệu quả.\n",
    "2. Tùy chỉnh hành vi phân tích cú pháp bằng cách sử dụng các tùy chọn `BeautifulSoup`.\n",
    "3. Xử lý linh hoạt các cấu trúc nội dung web khác nhau.\n",
    "\n",
    "```bash\n",
    "pip install beautifulsoup4\n",
    "```\n"
   ]
  },
  {
   "cell_type": "markdown",
   "metadata": {},
   "source": [
    "## Load Web-based documents\n",
    "\n",
    "`WebBaseLoader` is a loader designed for loading web-based documents.\n",
    "\n",
    "It uses the `bs4` library to parse web pages.\n",
    "\n",
    "Key Features:\n",
    "- Uses `bs4.SoupStrainer` to specify elements to parse.\n",
    "- Accepts additional arguments for `bs4.SoupStrainer` through the `bs_kwargs` parameter.\n",
    "\n",
    "For more details, refer to the API documentation."
   ]
  },
  {
   "cell_type": "code",
   "execution_count": 1,
   "metadata": {},
   "outputs": [
    {
     "name": "stderr",
     "output_type": "stream",
     "text": [
      "USER_AGENT environment variable not set, consider setting it to identify your requests.\n"
     ]
    },
    {
     "name": "stdout",
     "output_type": "stream",
     "text": [
      "Number of documents: 1\n"
     ]
    },
    {
     "data": {
      "text/plain": [
       "Document(metadata={'source': 'https://techcrunch.com/2024/12/28/google-ceo-says-ai-model-gemini-will-the-companys-biggest-focus-in-2025/'}, page_content='\\nGoogle CEO Sundar Pichai reportedly told Google employees that 2025 will be a “critical” year for the company.\\nCNBC reports that it obtained audio from a December 18 strategy meeting where Pichai and other executives put on ugly holiday sweaters and laid out their priorities for the coming year.\\n\\n\\n\\n\\n\\n\\n\\n\\n“I think 2025 will be critical,” Pichai said. “I think it’s really important we internalize the urgency of this moment, and need to move faster as a company. The stakes are high.”\\nThe moment, of course, is one where tech companies like Google are making heavy investments in AI, and often with mixed results. Pichai acknowledged that the company has some catching up to do on the AI side — he described the Gemini app (based on the company’s AI model of the same name) as having “strong momentum,” while also acknowledging “we have some work to do in 2025 to close the gap and establish a leadership position there as well.”\\n“Scaling Gemini on the consumer side will be our biggest focus next year,” he said.\\n\\nTechCrunch has an AI-focused newsletter! Sign up here to get it in your inbox every Wednesday.\\n\\n')"
      ]
     },
     "execution_count": 1,
     "metadata": {},
     "output_type": "execute_result"
    }
   ],
   "source": [
    "import bs4\n",
    "from langchain_community.document_loaders import WebBaseLoader\n",
    "\n",
    "# Load news article content using WebBaseLoader\n",
    "loader = WebBaseLoader(\n",
    "   web_paths=(\"https://techcrunch.com/2024/12/28/google-ceo-says-ai-model-gemini-will-the-companys-biggest-focus-in-2025/\",),\n",
    "   # Configure BeautifulSoup to parse only specific div elements\n",
    "   bs_kwargs=dict(\n",
    "       parse_only=bs4.SoupStrainer(\n",
    "           \"div\",\n",
    "           attrs={\"class\": [\"entry-content wp-block-post-content is-layout-constrained wp-block-post-content-is-layout-constrained\"]},\n",
    "       )\n",
    "   ),\n",
    "   # Set user agent in request header to mimic browser\n",
    "   header_template={\n",
    "       \"User_Agent\": \"Mozilla/5.0 (Windows NT 10.0; Win64; x64) AppleWebKit/537.36 (KHTML, like Gecko) Chrome/102.0.0.0 Safari/537.36\",\n",
    "   },\n",
    ")\n",
    "\n",
    "# Load and process the documents\n",
    "docs = loader.load()\n",
    "print(f\"Number of documents: {len(docs)}\")\n",
    "docs[0]"
   ]
  },
  {
   "cell_type": "markdown",
   "metadata": {},
   "source": [
    "To bypass SSL authentication errors, you can set the `“verify”` option."
   ]
  },
  {
   "cell_type": "code",
   "execution_count": 2,
   "metadata": {},
   "outputs": [
    {
     "name": "stderr",
     "output_type": "stream",
     "text": [
      "/home/dino/miniconda3/envs/langchain/lib/python3.10/site-packages/urllib3/connectionpool.py:1097: InsecureRequestWarning: Unverified HTTPS request is being made to host 'techcrunch.com'. Adding certificate verification is strongly advised. See: https://urllib3.readthedocs.io/en/latest/advanced-usage.html#tls-warnings\n",
      "  warnings.warn(\n"
     ]
    },
    {
     "data": {
      "text/plain": [
       "Document(metadata={'source': 'https://techcrunch.com/2024/12/28/google-ceo-says-ai-model-gemini-will-the-companys-biggest-focus-in-2025/'}, page_content='\\nGoogle CEO Sundar Pichai reportedly told Google employees that 2025 will be a “critical” year for the company.\\nCNBC reports that it obtained audio from a December 18 strategy meeting where Pichai and other executives put on ugly holiday sweaters and laid out their priorities for the coming year.\\n\\n\\n\\n\\n\\n\\n\\n\\n“I think 2025 will be critical,” Pichai said. “I think it’s really important we internalize the urgency of this moment, and need to move faster as a company. The stakes are high.”\\nThe moment, of course, is one where tech companies like Google are making heavy investments in AI, and often with mixed results. Pichai acknowledged that the company has some catching up to do on the AI side — he described the Gemini app (based on the company’s AI model of the same name) as having “strong momentum,” while also acknowledging “we have some work to do in 2025 to close the gap and establish a leadership position there as well.”\\n“Scaling Gemini on the consumer side will be our biggest focus next year,” he said.\\n\\nTechCrunch has an AI-focused newsletter! Sign up here to get it in your inbox every Wednesday.\\n\\n')"
      ]
     },
     "execution_count": 2,
     "metadata": {},
     "output_type": "execute_result"
    }
   ],
   "source": [
    "# Bypass SSL certificate verification\n",
    "loader.requests_kwargs = {\"verify\": False}\n",
    "\n",
    "# Load documents from the web\n",
    "docs = loader.load()\n",
    "docs[0]"
   ]
  },
  {
   "cell_type": "markdown",
   "metadata": {},
   "source": [
    "You can also load multiple webpages at once. To do this, you can pass a list of **urls** to the loader, which will return a list of documents in the order of the **urls** passed."
   ]
  },
  {
   "cell_type": "code",
   "execution_count": 3,
   "metadata": {},
   "outputs": [
    {
     "name": "stdout",
     "output_type": "stream",
     "text": [
      "2\n"
     ]
    }
   ],
   "source": [
    "# Initialize the WebBaseLoader with web page paths and parsing configurations\n",
    "loader = WebBaseLoader(\n",
    "    web_paths=[\n",
    "        # List of web pages to load\n",
    "        \"https://techcrunch.com/2024/12/28/revisiting-the-biggest-moments-in-the-space-industry-in-2024/\",\n",
    "        \"https://techcrunch.com/2024/12/29/ai-data-centers-could-be-distorting-the-us-power-grid/\",\n",
    "    ],\n",
    "    bs_kwargs=dict(\n",
    "        # BeautifulSoup settings to parse only the specific content section\n",
    "        parse_only=bs4.SoupStrainer(\n",
    "            \"div\",\n",
    "            attrs={\"class\": [\"entry-content wp-block-post-content is-layout-constrained wp-block-post-content-is-layout-constrained\"]},\n",
    "        )\n",
    "    ),\n",
    "    header_template={\n",
    "        # Custom HTTP headers for the request (e.g., User-Agent for simulating a browser)\n",
    "        \"User-Agent\": \"Mozilla/5.0 (Windows NT 10.0; Win64; x64) AppleWebKit/537.36 (KHTML, like Gecko) Chrome/102.0.0.0 Safari/537.36\",\n",
    "    },\n",
    ")\n",
    "\n",
    "# Load the data from the specified web pages\n",
    "docs = loader.load()\n",
    "\n",
    "# Check and print the number of documents loaded\n",
    "print(len(docs))\n"
   ]
  },
  {
   "cell_type": "markdown",
   "metadata": {},
   "source": [
    "Output the results fetched from the web."
   ]
  },
  {
   "cell_type": "code",
   "execution_count": 4,
   "metadata": {},
   "outputs": [
    {
     "name": "stdout",
     "output_type": "stream",
     "text": [
      "\n",
      "We are at the dawn of a new space age.  If you doubt, simply look back at the last year: From SpaceX’s historic catch of the Super Heavy booster to the record-breaking number of lunar landing attempts, this year was full of historic and ambitious missions and demonstrations. \n",
      "We’re taking a look back at the five most significant moments or trends in the space industry this year. Naysayers might think SpaceX is overrepresented on this list, but that just shows how far ahead the space behemoth is\n",
      "==============================\n",
      "\n",
      "The proliferation of data centers aiming to meet the computational needs of AI could be bad news for the U.S. power grid, according to a new report in Bloomberg.\n",
      "Using the 1 million residential sensors tracked by Whisker Labs, along with market intelligence data from DC Byte, Bloomberg found that more than half of the households showing the worst power distortions live within 20 miles of significant data center activity.\n",
      "\n",
      "\n",
      "\n",
      "\n",
      "\n",
      "\n",
      "\n",
      "\n",
      "In other words, there appears to be a link between data center pro\n"
     ]
    }
   ],
   "source": [
    "print(docs[0].page_content[:500])\n",
    "print(\"===\" * 10)\n",
    "print(docs[1].page_content[:500])"
   ]
  },
  {
   "cell_type": "markdown",
   "metadata": {},
   "source": [
    "## Load Multiple URLs Concurrently with `alazy_load()`\n",
    "\n",
    "Bạn có thể tăng tốc quá trình cào và phân tích cú pháp nhiều URL bằng cách sử dụng tải bất đồng bộ. Điều này cho phép bạn tìm nạp tài liệu đồng thời, cải thiện hiệu quả trong khi tuân thủ giới hạn tốc độ.\n",
    "\n",
    "### Các điểm chính:\n",
    "\n",
    "-   **Rate Limit** (Giới hạn tốc độ): Tham số `requests_per_second` kiểm soát số lượng yêu cầu được thực hiện mỗi giây. Trong ví dụ này, nó được đặt thành 1 để tránh làm quá tải máy chủ.\n",
    "-   **Asynchronous Loading** (Tải bất đồng bộ): Hàm `alazy_load()` được sử dụng để tải tài liệu bất đồng bộ, cho phép xử lý nhanh hơn nhiều URL.\n",
    "-   **Jupyter Notebook Compatibility** (Khả năng tương thích với Jupyter Notebook): Nếu chạy trong Jupyter Notebook, cần có `nest_asyncio` để xử lý đúng cách các tác vụ bất đồng bộ.\n",
    "\n",
    "Đoạn mã dưới đây minh họa cách định cấu hình và tải tài liệu bất đồng bộ:\n"
   ]
  },
  {
   "cell_type": "code",
   "execution_count": 5,
   "metadata": {},
   "outputs": [],
   "source": [
    "# only for jupyter notebook (asyncio)\n",
    "import nest_asyncio\n",
    "\n",
    "nest_asyncio.apply()"
   ]
  },
  {
   "cell_type": "code",
   "execution_count": 6,
   "metadata": {},
   "outputs": [
    {
     "name": "stderr",
     "output_type": "stream",
     "text": [
      "Fetching pages: 100%|##########| 2/2 [00:01<00:00,  1.87it/s]\n"
     ]
    }
   ],
   "source": [
    "# Set the requests per second rate limit\n",
    "loader.requests_per_second = 1\n",
    "\n",
    "# Load documents asynchronously\n",
    "# The aload() is deprecated and alazy_load() is used since the langchain 3.14 update)\n",
    "docs=[]\n",
    "async for doc in loader.alazy_load():\n",
    "    docs.append(doc)"
   ]
  },
  {
   "cell_type": "code",
   "execution_count": 7,
   "metadata": {},
   "outputs": [
    {
     "data": {
      "text/plain": [
       "[Document(metadata={'source': 'https://techcrunch.com/2024/12/28/revisiting-the-biggest-moments-in-the-space-industry-in-2024/'}, page_content='\\nWe are at the dawn of a new space age.  If you doubt, simply look back at the last year: From SpaceX’s historic catch of the Super Heavy booster to the record-breaking number of lunar landing attempts, this year was full of historic and ambitious missions and demonstrations.\\xa0\\nWe’re taking a look back at the five most significant moments or trends in the space industry this year. Naysayers might think SpaceX is overrepresented on this list, but that just shows how far ahead the space behemoth is in relation to its competitors. \\n\\n\\n\\n\\n\\n\\n\\n\\nHere we go, in no particular order:\\xa0\\n1. Boeing’s bungled Starliner mission turns into a SpaceX win\\xa0\\nNASA and Boeing no doubt had high hopes when the Starliner vehicle lifted off for its first crewed test mission in June. But a series of technical malfunctions occurred as the vehicle\\xa0made its final approach to the International Space Station, which kicked off a months-long investigation into those problems, with the chief concern being whether the two onboard astronauts could safely use Starliner to come back home.\\xa0\\nOut of an abundance of caution, NASA officials determined that the two astronauts would stay aboard the ISS for many more months than originally planned and would return using a SpaceX Dragon capsule in the spring. The decision was a major blow to Boeing, which has incurred about $1.6 billion in cost overruns developing Starliner. The company may need to conduct another crewed test flight before the vehicle can be certified to fly regularly for NASA. (For what it’s worth, the capsule performed a flawless touchdown.)\\xa0\\nImage Credits:NASA (opens in a new window)\\n2. SpaceX catches Super Heavy for the first time\\xa0\\nSpaceX made incredible progress in its Starship test program, with the company launching the massive rocket four times in 2024, bringing the total launches to six overall. During the fifth flight in October, the Super Heavy booster flew back to the launch site and was “caught” by two large arms jutting out from the launch tower.\\xa0\\nThe space company nailed booster reuse with its workhorse Falcon 9 rocket, with the company successfully recovering 367 boosters to date. These boosters touch down on land or on massive ships at sea using four legs that are autonomously deployed right before touchdown. But using a similar technique to recover the Super Heavy is impractical for a number of reasons — chiefly its massive size — which led SpaceX engineers to develop the booster catch method.\\xa0\\n\\n\\nImage Credits:SpaceX\\nDuring the most recent launch test in November, SpaceX decided to scrub a second catch attempt, so there is clearly still work to do to hit the kind of launch and recovery cadence the company is aiming for. But the catch marked a historic day in spaceflight — not to mention, arguably one of the most incredible engineering feats of the century so far.\\xa0\\n3. Polaris Dawn crew performs first private spacewalk\\xa0\\nJared Isaacman has been in the news recently due to his nomination to the role of NASA administrator by incoming president Donald Trump. But the billionaire founder of payment processing company Shift4 Payments also made headlines this year when he led the Polaris Dawn mission and performed the first commercial spacewalk.\\xa0\\nSpacewalks are incredibly dangerous: In leaving their vehicle, astronauts expose themselves to risks like micrometeoroids and radiation, not to mention having to rely on the integrity of their spacesuits to provide essentials like oxygen and cooling. Yet the crew of Polaris Dawn, along with their mission partners SpaceX, took on exactly these challenges with the mission. Two of the four crew members, Isaacman and SpaceX engineer Sarah Gillis, took turns emerging from the top of their vehicle, a specially equipped Dragon, for about 10 minutes each. The pair performed a series of tests on the SpaceX-made spacesuits while connected to the vehicle via umbilical cord.\\xa0\\nImage Credits:Polaris Dawn (opens in a new window)\\n4. Multiple firms take aim at the moon\\nThis year, two private companies and two nations attempted to touch down on the moon. While the total number of attempts is not a record, the breadth of players certainly is: Japan, China, and two American companies all took their shot at success.\\nintuitive machines odysseus descending.Image Credits:Intuitive Machines (opens in a new window)\\nThe outcomes were mixed. Pittsburgh-based Astrobotic had to abort its landing attempt around 10 days into the mission. Intuitive Machines and the Japan Aerospace Exploration Agency, meanwhile, both reached the surface but failed to land in an upright position. China’s Chang’e 6 mission, which both landed and returned samples from the far side of the moon, appears to be the only straightforward success.\\xa0\\n5. The Space Force pays out\\xa0\\nWe’d be remiss not to mention one of the space industry’s single largest customers — the Department of Defense — whose priorities and spending shape the ecosystem overall. This year, the Space Force awarded a number of major contracts to commercial providers, signaling that it’s willing to pay big dollars to commercial entities that can deliver.\\xa0\\n\\n\\n\\n\\n\\n\\n\\n\\nSome notable contracts include a $733 million, eight-launch contract to SpaceX; a $515 million contract for 18 satellites to Rocket Lab; several contracts to defense startup Anduril for surveillance and other work; and a series of smaller but no less notable contracts for “rapid response” capabilities to True Anomaly, Impulse Space, and Rocket Lab.\\xa0\\n'),\n",
       " Document(metadata={'source': 'https://techcrunch.com/2024/12/29/ai-data-centers-could-be-distorting-the-us-power-grid/'}, page_content='\\nThe proliferation of data centers aiming to meet the computational needs of AI could be bad news for the U.S. power grid, according to a new report in Bloomberg.\\nUsing the 1 million residential sensors tracked by Whisker Labs, along with market intelligence data from DC Byte, Bloomberg found that more than half of the households showing the worst power distortions live within 20 miles of significant data center activity.\\n\\n\\n\\n\\n\\n\\n\\n\\nIn other words, there appears to be a link between data center proximity and “bad harmonics” — a term for the less-than-ideal flow of electrical power into homes.\\nBloomberg says this “distorted” power could eventually destroy plugged-in appliances, increase vulnerability to electrical fires, and even lead to brownouts and blackouts. And AI data centers could be even more problematic because of their volatile energy requirements.\\n“No grid is designed to be able to handle that kind of load fluctuation not only for one data center but for multiple data centers at the same time,” said Bloom Energy’s chief commercial officer Aman Joshi.\\nA spokesperson for Chicago’s Commonwealth Edison told Bloomberg the utility “strongly questions the accuracy and underlying assumptions of Whisker Labs’ claims.”\\n')]"
      ]
     },
     "execution_count": 7,
     "metadata": {},
     "output_type": "execute_result"
    }
   ],
   "source": [
    "# Display loaded documents\n",
    "docs"
   ]
  },
  {
   "cell_type": "markdown",
   "metadata": {},
   "source": [
    "## Load XML Documents\n",
    "\n",
    "`WebBaseLoader` có thể xử lý các tệp XML bằng cách chỉ định một trình phân tích cú pháp `BeautifulSoup` khác. Điều này đặc biệt hữu ích khi làm việc với nội dung XML có cấu trúc như sơ đồ trang web hoặc dữ liệu chính phủ.\n",
    "\n",
    "### Tải XML cơ bản\n",
    "\n",
    "Ví dụ sau đây minh họa việc tải một tài liệu XML từ một trang web của chính phủ:\n"
   ]
  },
  {
   "cell_type": "code",
   "execution_count": 8,
   "metadata": {},
   "outputs": [],
   "source": [
    "from langchain_community.document_loaders import WebBaseLoader\n",
    "\n",
    "# Initialize loader with XML document URL\n",
    "loader = WebBaseLoader(\n",
    "    \"https://www.govinfo.gov/content/pkg/CFR-2018-title10-vol3/xml/CFR-2018-title10-vol3-sec431-86.xml\"\n",
    ")\n",
    "\n",
    "# Set parser to XML mode\n",
    "loader.default_parser = \"xml\"\n",
    "\n",
    "# Load and process the document\n",
    "docs = loader.load()"
   ]
  },
  {
   "cell_type": "markdown",
   "metadata": {},
   "source": [
    "### Memory-Efficient Loading\n",
    "\n",
    "For handling large documents, `WebBaseLoader` provides two memory-efficient loading methods:\n",
    "\n",
    "1. lazy_load() - loads one page at a time\n",
    "2. alazy_load() - asynchronous page loading for better performance"
   ]
  },
  {
   "cell_type": "code",
   "execution_count": 9,
   "metadata": {},
   "outputs": [
    {
     "name": "stdout",
     "output_type": "stream",
     "text": [
      "\n",
      "\n",
      "10\n",
      "Energy\n",
      "3\n",
      "2018-01-01\n",
      "2018-01-01\n",
      "false\n",
      "Uniform test method for the measurement of energy efficien\n",
      "{'source': 'https://www.govinfo.gov/content/pkg/CFR-2018-title10-vol3/xml/CFR-2018-title10-vol3-sec431-86.xml'}\n"
     ]
    }
   ],
   "source": [
    "# Lazy Loading Example\n",
    "pages = []\n",
    "for doc in loader.lazy_load():\n",
    "    pages.append(doc)\n",
    "\n",
    "# Print first 100 characters and metadata of the first page\n",
    "print(pages[0].page_content[:100])\n",
    "print(pages[0].metadata)"
   ]
  },
  {
   "cell_type": "code",
   "execution_count": 10,
   "metadata": {},
   "outputs": [
    {
     "name": "stderr",
     "output_type": "stream",
     "text": [
      "Fetching pages: 100%|##########| 1/1 [00:01<00:00,  1.41s/it]"
     ]
    },
    {
     "name": "stdout",
     "output_type": "stream",
     "text": [
      "\n",
      "\n",
      "10\n",
      "Energy\n",
      "3\n",
      "2018-01-01\n",
      "2018-01-01\n",
      "false\n",
      "Uniform test method for the measurement of energy efficien\n",
      "{'source': 'https://www.govinfo.gov/content/pkg/CFR-2018-title10-vol3/xml/CFR-2018-title10-vol3-sec431-86.xml'}\n"
     ]
    },
    {
     "name": "stderr",
     "output_type": "stream",
     "text": [
      "\n"
     ]
    }
   ],
   "source": [
    "# Async Loading Example\n",
    "pages = []\n",
    "async for doc in loader.alazy_load():\n",
    "    pages.append(doc)\n",
    "\n",
    "# Print first 100 characters and metadata of the first page\n",
    "print(pages[0].page_content[:100])\n",
    "print(pages[0].metadata)"
   ]
  },
  {
   "cell_type": "markdown",
   "metadata": {},
   "source": [
    "## Load Web-based Document Using Proxies\n",
    "\n",
    "Đôi khi bạn có thể cần sử dụng proxy để vượt qua việc chặn IP.\n",
    "\n",
    "Để sử dụng proxy, bạn có thể truyền một từ điển proxy cho trình tải (và thư viện `requests` cơ bản của nó).\n",
    "\n",
    "### ⚠️ Cảnh báo:\n",
    "\n",
    "-   Thay thế `{username}`, `{password}` và `proxy.service.com` bằng thông tin xác thực proxy và thông tin máy chủ thực tế của bạn.\n",
    "-   Nếu không có cấu hình proxy hợp lệ, có thể xảy ra lỗi như **ProxyError** hoặc **AuthenticationError**.\n"
   ]
  },
  {
   "cell_type": "code",
   "execution_count": null,
   "metadata": {},
   "outputs": [],
   "source": [
    "loader = WebBaseLoader(\n",
    "   \"https://www.google.com/search?q=parrots\",\n",
    "   proxies={\n",
    "       \"http\": \"http://{username}:{password}:@proxy.service.com:6666/\",\n",
    "       \"https\": \"https://{username}:{password}:@proxy.service.com:6666/\",\n",
    "   },\n",
    "   # Initialize the web loader with proxy settings\n",
    "   # Configure proxy for both HTTP and HTTPS requests\n",
    ")\n",
    "\n",
    "# Load documents using the proxy\n",
    "docs = loader.load()"
   ]
  },
  {
   "cell_type": "markdown",
   "metadata": {},
   "source": [
    "## Simple Web Content Loading with `MarkItDown`\n",
    "\n",
    "Không giống như `WebBaseLoader` sử dụng `BeautifulSoup4` để phân tích cú pháp HTML phức tạp, `MarkItDown` cung cấp một phương pháp đơn giản hơn để tải nội dung web. Nó trực tiếp tìm nạp nội dung web bằng các yêu cầu HTTP và chuyển đổi nó thành định dạng markdown mà không có khả năng phân tích cú pháp chi tiết.\n",
    "\n",
    "```bash\n",
    "pip install markitdown\n",
    "```\n",
    "\n",
    "Dưới đây là một ví dụ cơ bản về tải nội dung web bằng `MarkItDown`:\n"
   ]
  },
  {
   "cell_type": "code",
   "execution_count": 12,
   "metadata": {},
   "outputs": [],
   "source": [
    "from markitdown import MarkItDown\n",
    "\n",
    "md = MarkItDown()\n",
    "result = md.convert(\"https://techcrunch.com/2024/12/28/revisiting-the-biggest-moments-in-the-space-industry-in-2024/\")\n",
    "result_text = result.text_content"
   ]
  },
  {
   "cell_type": "code",
   "execution_count": 13,
   "metadata": {},
   "outputs": [
    {
     "name": "stdout",
     "output_type": "stream",
     "text": [
      "[![](https://techcrunch.com/wp-content/uploads/2024/09/tc-lockup.svg) TechCrunch Desktop Logo](https://techcrunch.com)\n",
      "\n",
      "[![](https://techcrunch.com/wp-content/uploads/2024/09/tc-logo-mobile.svg) TechCrunch Mobile Logo](https://techcrunch.com)\n",
      "\n",
      "* [Latest](/latest/)\n",
      "* [Startups](/category/startups/)\n",
      "* [Venture](/category/venture/)\n",
      "* [Apple](/tag/apple/)\n",
      "* [Security](/category/security/)\n",
      "* [AI](/category/artificial-intelligence/)\n",
      "* [Apps](/category/apps/)\n",
      "* [SXSW 2025](https://techcrunch.com/storyline/sxsw-2025-live-coverage-jay-grabers-keynote-plus-more-ai-wooly-mammoths-and-death-stranding-2/)\n",
      "\n",
      "* [Events](/events/)\n",
      "* [Podcasts](/podcasts/)\n",
      "* [Newsletters](/newsletters/)\n",
      "\n",
      "[Sign In](https://oidc.techcrunch.com/login/?dest=https%3A%2F%2Ftechcrunch.com%2F2024%2F12%2F28%2Frevisiting-the-biggest-moments-in-the-space-industry-in-2024%2F)\n",
      "[![]()](https://techcrunch.com/my-account/)\n",
      "\n",
      "Search\n",
      "\n",
      "Submit\n",
      "\n",
      "Site Search Toggle\n",
      "\n",
      "Mega Menu Toggle\n",
      "\n",
      "### Topics\n",
      "\n",
      "[Latest](/latest/)\n",
      "\n",
      "[AI](/category/artificial-i\n"
     ]
    }
   ],
   "source": [
    "print(result_text[:1000])"
   ]
  },
  {
   "cell_type": "code",
   "execution_count": null,
   "metadata": {},
   "outputs": [],
   "source": []
  }
 ],
 "metadata": {
  "kernelspec": {
   "display_name": "langchain",
   "language": "python",
   "name": "python3"
  },
  "language_info": {
   "codemirror_mode": {
    "name": "ipython",
    "version": 3
   },
   "file_extension": ".py",
   "mimetype": "text/x-python",
   "name": "python",
   "nbconvert_exporter": "python",
   "pygments_lexer": "ipython3",
   "version": "3.10.16"
  }
 },
 "nbformat": 4,
 "nbformat_minor": 2
}
