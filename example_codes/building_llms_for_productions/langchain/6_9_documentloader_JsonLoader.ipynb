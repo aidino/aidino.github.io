{
 "cells": [
  {
   "cell_type": "markdown",
   "metadata": {},
   "source": [
    "# JSON\n",
    "\n",
    "Hướng dẫn này trình bày cách sử dụng `JSONLoader` của LangChain để tải và xử lý các tệp JSON. Chúng ta sẽ khám phá cách trích xuất dữ liệu cụ thể từ các tệp JSON có cấu trúc bằng cách sử dụng các truy vấn kiểu `jq`.\n",
    "\n",
    "```bash\n",
    "pip install jq\n",
    "```\n"
   ]
  },
  {
   "cell_type": "code",
   "execution_count": 2,
   "metadata": {},
   "outputs": [
    {
     "data": {
      "text/plain": [
       "True"
      ]
     },
     "execution_count": 2,
     "metadata": {},
     "output_type": "execute_result"
    }
   ],
   "source": [
    "import os\n",
    "from dotenv import load_dotenv\n",
    "from langchain_openai import ChatOpenAI\n",
    "from langchain_core.prompts import PromptTemplate\n",
    "from langchain_core.output_parsers import StrOutputParser\n",
    "\n",
    "load_dotenv(override=True, dotenv_path=\"../.env\")\n"
   ]
  },
  {
   "cell_type": "markdown",
   "metadata": {},
   "source": [
    "## Generate JSON Data\n",
    "\n",
    "---\n",
    "\n",
    "If you want to generate JSON data, you can use the following code.\n"
   ]
  },
  {
   "cell_type": "code",
   "execution_count": 3,
   "metadata": {},
   "outputs": [
    {
     "name": "stdout",
     "output_type": "stream",
     "text": [
      "Generated and saved JSON data:\n",
      "{'people': [{'address': {'city': 'Los Angeles',\n",
      "                         'state': 'CA',\n",
      "                         'street': '123 Main St',\n",
      "                         'zip': '90001'},\n",
      "             'age': 32,\n",
      "             'contact_details': {'email': 'alice.johnson@example.com',\n",
      "                                 'phone': '555-123-4567'},\n",
      "             'interesting_information': 'Alice is a certified yoga instructor '\n",
      "                                        'and volunteers at a local animal '\n",
      "                                        'shelter in her free time.',\n",
      "             'name': 'Alice Johnson',\n",
      "             'personal_preferences': {'favorite_color': 'blue',\n",
      "                                      'favorite_food': 'sushi',\n",
      "                                      'hobbies': ['reading', 'hiking']}},\n",
      "            {'address': {'city': 'New York',\n",
      "                         'state': 'NY',\n",
      "                         'street': '456 Oak St',\n",
      "                         'zip': '10001'},\n",
      "             'age': 45,\n",
      "             'contact_details': {'email': 'john.smith@example.com',\n",
      "                                 'phone': '555-987-6543'},\n",
      "             'interesting_information': 'John is a talented musician and plays '\n",
      "                                        'guitar in a local band on weekends.',\n",
      "             'name': 'John Smith',\n",
      "             'personal_preferences': {'favorite_color': 'green',\n",
      "                                      'favorite_food': 'steak',\n",
      "                                      'hobbies': ['golfing', 'cooking']}},\n",
      "            {'address': {'city': 'Chicago',\n",
      "                         'state': 'IL',\n",
      "                         'street': '789 Elm St',\n",
      "                         'zip': '60601'},\n",
      "             'age': 28,\n",
      "             'contact_details': {'email': 'emily.davis@example.com',\n",
      "                                 'phone': '555-555-5555'},\n",
      "             'interesting_information': 'Emily is a travel enthusiast and has '\n",
      "                                        'visited over 20 countries around the '\n",
      "                                        'world.',\n",
      "             'name': 'Emily Davis',\n",
      "             'personal_preferences': {'favorite_color': 'pink',\n",
      "                                      'favorite_food': 'pizza',\n",
      "                                      'hobbies': ['painting', 'yoga']}},\n",
      "            {'address': {'city': 'Houston',\n",
      "                         'state': 'TX',\n",
      "                         'street': '321 Pine St',\n",
      "                         'zip': '77002'},\n",
      "             'age': 50,\n",
      "             'contact_details': {'email': 'michael.brown@example.com',\n",
      "                                 'phone': '555-222-3333'},\n",
      "             'interesting_information': 'Michael is a retired firefighter and '\n",
      "                                        'now volunteers at a local soup '\n",
      "                                        'kitchen.',\n",
      "             'name': 'Michael Brown',\n",
      "             'personal_preferences': {'favorite_color': 'red',\n",
      "                                      'favorite_food': 'barbecue',\n",
      "                                      'hobbies': ['fishing',\n",
      "                                                  'playing guitar']}},\n",
      "            {'address': {'city': 'Miami',\n",
      "                         'state': 'FL',\n",
      "                         'street': '567 Maple St',\n",
      "                         'zip': '33101'},\n",
      "             'age': 35,\n",
      "             'contact_details': {'email': 'sarah.wilson@example.com',\n",
      "                                 'phone': '555-444-1234'},\n",
      "             'interesting_information': 'Sarah is a published author and has '\n",
      "                                        'written several best-selling mystery '\n",
      "                                        'novels.',\n",
      "             'name': 'Sarah Wilson',\n",
      "             'personal_preferences': {'favorite_color': 'purple',\n",
      "                                      'favorite_food': 'tacos',\n",
      "                                      'hobbies': ['surfing', 'photography']}}]}\n"
     ]
    }
   ],
   "source": [
    "from langchain import PromptTemplate\n",
    "from pathlib import Path\n",
    "from pprint import pprint\n",
    "import json\n",
    "import os\n",
    "\n",
    "# Initialize ChatOpenAI\n",
    "llm = ChatOpenAI(\n",
    "    model=\"gpt-3.5-turbo\",\n",
    "    temperature=0.7,\n",
    "    model_kwargs={\"response_format\": {\"type\": \"json_object\"}}\n",
    ")\n",
    "\n",
    "# Create prompt template\n",
    "prompt = PromptTemplate(\n",
    "    input_variables=[],\n",
    "    template=\"\"\"Generate a JSON array containing detailed personal information for 5 people. \n",
    "        Include various fields like name, age, contact details, address, personal preferences, and any other interesting information you think would be relevant.\"\"\"\n",
    ")\n",
    "\n",
    "# Create and invoke runnable sequence using the new pipe syntax\n",
    "response = (prompt | llm).invoke({})\n",
    "generated_data = json.loads(response.content)\n",
    "\n",
    "# Save to JSON file\n",
    "current_dir = Path().absolute()\n",
    "data_dir = current_dir / \"data\"\n",
    "data_dir.mkdir(exist_ok=True)\n",
    "\n",
    "file_path = data_dir / \"people.json\"\n",
    "with open(file_path, \"w\", encoding=\"utf-8\") as f:\n",
    "    json.dump(generated_data, f, ensure_ascii=False, indent=2)\n",
    "\n",
    "print(\"Generated and saved JSON data:\")\n",
    "pprint(generated_data)"
   ]
  },
  {
   "cell_type": "code",
   "execution_count": 4,
   "metadata": {},
   "outputs": [
    {
     "name": "stdout",
     "output_type": "stream",
     "text": [
      "{'people': [{'address': {'city': 'Los Angeles',\n",
      "                         'state': 'CA',\n",
      "                         'street': '123 Main St',\n",
      "                         'zip': '90001'},\n",
      "             'age': 32,\n",
      "             'contact_details': {'email': 'alice.johnson@example.com',\n",
      "                                 'phone': '555-123-4567'},\n",
      "             'interesting_information': 'Alice is a certified yoga instructor '\n",
      "                                        'and volunteers at a local animal '\n",
      "                                        'shelter in her free time.',\n",
      "             'name': 'Alice Johnson',\n",
      "             'personal_preferences': {'favorite_color': 'blue',\n",
      "                                      'favorite_food': 'sushi',\n",
      "                                      'hobbies': ['reading', 'hiking']}},\n",
      "            {'address': {'city': 'New York',\n",
      "                         'state': 'NY',\n",
      "                         'street': '456 Oak St',\n",
      "                         'zip': '10001'},\n",
      "             'age': 45,\n",
      "             'contact_details': {'email': 'john.smith@example.com',\n",
      "                                 'phone': '555-987-6543'},\n",
      "             'interesting_information': 'John is a talented musician and plays '\n",
      "                                        'guitar in a local band on weekends.',\n",
      "             'name': 'John Smith',\n",
      "             'personal_preferences': {'favorite_color': 'green',\n",
      "                                      'favorite_food': 'steak',\n",
      "                                      'hobbies': ['golfing', 'cooking']}},\n",
      "            {'address': {'city': 'Chicago',\n",
      "                         'state': 'IL',\n",
      "                         'street': '789 Elm St',\n",
      "                         'zip': '60601'},\n",
      "             'age': 28,\n",
      "             'contact_details': {'email': 'emily.davis@example.com',\n",
      "                                 'phone': '555-555-5555'},\n",
      "             'interesting_information': 'Emily is a travel enthusiast and has '\n",
      "                                        'visited over 20 countries around the '\n",
      "                                        'world.',\n",
      "             'name': 'Emily Davis',\n",
      "             'personal_preferences': {'favorite_color': 'pink',\n",
      "                                      'favorite_food': 'pizza',\n",
      "                                      'hobbies': ['painting', 'yoga']}},\n",
      "            {'address': {'city': 'Houston',\n",
      "                         'state': 'TX',\n",
      "                         'street': '321 Pine St',\n",
      "                         'zip': '77002'},\n",
      "             'age': 50,\n",
      "             'contact_details': {'email': 'michael.brown@example.com',\n",
      "                                 'phone': '555-222-3333'},\n",
      "             'interesting_information': 'Michael is a retired firefighter and '\n",
      "                                        'now volunteers at a local soup '\n",
      "                                        'kitchen.',\n",
      "             'name': 'Michael Brown',\n",
      "             'personal_preferences': {'favorite_color': 'red',\n",
      "                                      'favorite_food': 'barbecue',\n",
      "                                      'hobbies': ['fishing',\n",
      "                                                  'playing guitar']}},\n",
      "            {'address': {'city': 'Miami',\n",
      "                         'state': 'FL',\n",
      "                         'street': '567 Maple St',\n",
      "                         'zip': '33101'},\n",
      "             'age': 35,\n",
      "             'contact_details': {'email': 'sarah.wilson@example.com',\n",
      "                                 'phone': '555-444-1234'},\n",
      "             'interesting_information': 'Sarah is a published author and has '\n",
      "                                        'written several best-selling mystery '\n",
      "                                        'novels.',\n",
      "             'name': 'Sarah Wilson',\n",
      "             'personal_preferences': {'favorite_color': 'purple',\n",
      "                                      'favorite_food': 'tacos',\n",
      "                                      'hobbies': ['surfing', 'photography']}}]}\n"
     ]
    }
   ],
   "source": [
    "import json\n",
    "from pathlib import Path\n",
    "from pprint import pprint\n",
    "\n",
    "\n",
    "file_path = \"data/people.json\"\n",
    "data = json.loads(Path(file_path).read_text())\n",
    "\n",
    "pprint(data)"
   ]
  },
  {
   "cell_type": "code",
   "execution_count": 5,
   "metadata": {},
   "outputs": [
    {
     "name": "stdout",
     "output_type": "stream",
     "text": [
      "<class 'dict'>\n"
     ]
    }
   ],
   "source": [
    "print(type(data))"
   ]
  },
  {
   "cell_type": "markdown",
   "metadata": {},
   "source": [
    "## `JSONLoader`\n",
    "\n",
    "---\n",
    "\n",
    "Khi bạn muốn trích xuất các giá trị bên dưới trường content trong khóa message của dữ liệu JSON, bạn có thể dễ dàng thực hiện việc này bằng `JSONLoader` như được hiển thị bên dưới.\n"
   ]
  },
  {
   "cell_type": "markdown",
   "metadata": {},
   "source": [
    "### Basic Usage\n",
    "\n",
    "This usage shows off how to execute load JSON and print what I get from"
   ]
  },
  {
   "cell_type": "code",
   "execution_count": 7,
   "metadata": {},
   "outputs": [
    {
     "name": "stdout",
     "output_type": "stream",
     "text": [
      "[Document(metadata={'source': '/home/dino/Documents/aidino.github.io/example_codes/building_llms_for_productions/langchain/data/people.json', 'seq_num': 1}, page_content='{\"name\": \"Alice Johnson\", \"age\": 32, \"contact_details\": {\"email\": \"alice.johnson@example.com\", \"phone\": \"555-123-4567\"}, \"address\": {\"street\": \"123 Main St\", \"city\": \"Los Angeles\", \"state\": \"CA\", \"zip\": \"90001\"}, \"personal_preferences\": {\"favorite_color\": \"blue\", \"favorite_food\": \"sushi\", \"hobbies\": [\"reading\", \"hiking\"]}, \"interesting_information\": \"Alice is a certified yoga instructor and volunteers at a local animal shelter in her free time.\"}'),\n",
      " Document(metadata={'source': '/home/dino/Documents/aidino.github.io/example_codes/building_llms_for_productions/langchain/data/people.json', 'seq_num': 2}, page_content='{\"name\": \"John Smith\", \"age\": 45, \"contact_details\": {\"email\": \"john.smith@example.com\", \"phone\": \"555-987-6543\"}, \"address\": {\"street\": \"456 Oak St\", \"city\": \"New York\", \"state\": \"NY\", \"zip\": \"10001\"}, \"personal_preferences\": {\"favorite_color\": \"green\", \"favorite_food\": \"steak\", \"hobbies\": [\"golfing\", \"cooking\"]}, \"interesting_information\": \"John is a talented musician and plays guitar in a local band on weekends.\"}'),\n",
      " Document(metadata={'source': '/home/dino/Documents/aidino.github.io/example_codes/building_llms_for_productions/langchain/data/people.json', 'seq_num': 3}, page_content='{\"name\": \"Emily Davis\", \"age\": 28, \"contact_details\": {\"email\": \"emily.davis@example.com\", \"phone\": \"555-555-5555\"}, \"address\": {\"street\": \"789 Elm St\", \"city\": \"Chicago\", \"state\": \"IL\", \"zip\": \"60601\"}, \"personal_preferences\": {\"favorite_color\": \"pink\", \"favorite_food\": \"pizza\", \"hobbies\": [\"painting\", \"yoga\"]}, \"interesting_information\": \"Emily is a travel enthusiast and has visited over 20 countries around the world.\"}'),\n",
      " Document(metadata={'source': '/home/dino/Documents/aidino.github.io/example_codes/building_llms_for_productions/langchain/data/people.json', 'seq_num': 4}, page_content='{\"name\": \"Michael Brown\", \"age\": 50, \"contact_details\": {\"email\": \"michael.brown@example.com\", \"phone\": \"555-222-3333\"}, \"address\": {\"street\": \"321 Pine St\", \"city\": \"Houston\", \"state\": \"TX\", \"zip\": \"77002\"}, \"personal_preferences\": {\"favorite_color\": \"red\", \"favorite_food\": \"barbecue\", \"hobbies\": [\"fishing\", \"playing guitar\"]}, \"interesting_information\": \"Michael is a retired firefighter and now volunteers at a local soup kitchen.\"}'),\n",
      " Document(metadata={'source': '/home/dino/Documents/aidino.github.io/example_codes/building_llms_for_productions/langchain/data/people.json', 'seq_num': 5}, page_content='{\"name\": \"Sarah Wilson\", \"age\": 35, \"contact_details\": {\"email\": \"sarah.wilson@example.com\", \"phone\": \"555-444-1234\"}, \"address\": {\"street\": \"567 Maple St\", \"city\": \"Miami\", \"state\": \"FL\", \"zip\": \"33101\"}, \"personal_preferences\": {\"favorite_color\": \"purple\", \"favorite_food\": \"tacos\", \"hobbies\": [\"surfing\", \"photography\"]}, \"interesting_information\": \"Sarah is a published author and has written several best-selling mystery novels.\"}')]\n"
     ]
    }
   ],
   "source": [
    "from langchain_community.document_loaders import JSONLoader\n",
    "\n",
    "# Create JSONLoader\n",
    "loader = JSONLoader(\n",
    "    file_path=\"data/people.json\",\n",
    "    jq_schema=\".people[]\",  # Access each item in the people array\n",
    "    text_content=False,\n",
    ")\n",
    "\n",
    "# Load documents\n",
    "docs = loader.load()\n",
    "pprint(docs)"
   ]
  },
  {
   "cell_type": "markdown",
   "metadata": {},
   "source": [
    "### Loading Each Person as a Separate Document\n",
    "\n",
    "We can load each person object from `people.json` as an individual document using the `jq_schema=\".people[]\"`"
   ]
  },
  {
   "cell_type": "code",
   "execution_count": 8,
   "metadata": {},
   "outputs": [
    {
     "data": {
      "text/plain": [
       "[Document(metadata={'source': '/home/dino/Documents/aidino.github.io/example_codes/building_llms_for_productions/langchain/data/people.json', 'seq_num': 1}, page_content='{\"name\": \"Alice Johnson\", \"age\": 32, \"contact_details\": {\"email\": \"alice.johnson@example.com\", \"phone\": \"555-123-4567\"}, \"address\": {\"street\": \"123 Main St\", \"city\": \"Los Angeles\", \"state\": \"CA\", \"zip\": \"90001\"}, \"personal_preferences\": {\"favorite_color\": \"blue\", \"favorite_food\": \"sushi\", \"hobbies\": [\"reading\", \"hiking\"]}, \"interesting_information\": \"Alice is a certified yoga instructor and volunteers at a local animal shelter in her free time.\"}'),\n",
       " Document(metadata={'source': '/home/dino/Documents/aidino.github.io/example_codes/building_llms_for_productions/langchain/data/people.json', 'seq_num': 2}, page_content='{\"name\": \"John Smith\", \"age\": 45, \"contact_details\": {\"email\": \"john.smith@example.com\", \"phone\": \"555-987-6543\"}, \"address\": {\"street\": \"456 Oak St\", \"city\": \"New York\", \"state\": \"NY\", \"zip\": \"10001\"}, \"personal_preferences\": {\"favorite_color\": \"green\", \"favorite_food\": \"steak\", \"hobbies\": [\"golfing\", \"cooking\"]}, \"interesting_information\": \"John is a talented musician and plays guitar in a local band on weekends.\"}'),\n",
       " Document(metadata={'source': '/home/dino/Documents/aidino.github.io/example_codes/building_llms_for_productions/langchain/data/people.json', 'seq_num': 3}, page_content='{\"name\": \"Emily Davis\", \"age\": 28, \"contact_details\": {\"email\": \"emily.davis@example.com\", \"phone\": \"555-555-5555\"}, \"address\": {\"street\": \"789 Elm St\", \"city\": \"Chicago\", \"state\": \"IL\", \"zip\": \"60601\"}, \"personal_preferences\": {\"favorite_color\": \"pink\", \"favorite_food\": \"pizza\", \"hobbies\": [\"painting\", \"yoga\"]}, \"interesting_information\": \"Emily is a travel enthusiast and has visited over 20 countries around the world.\"}'),\n",
       " Document(metadata={'source': '/home/dino/Documents/aidino.github.io/example_codes/building_llms_for_productions/langchain/data/people.json', 'seq_num': 4}, page_content='{\"name\": \"Michael Brown\", \"age\": 50, \"contact_details\": {\"email\": \"michael.brown@example.com\", \"phone\": \"555-222-3333\"}, \"address\": {\"street\": \"321 Pine St\", \"city\": \"Houston\", \"state\": \"TX\", \"zip\": \"77002\"}, \"personal_preferences\": {\"favorite_color\": \"red\", \"favorite_food\": \"barbecue\", \"hobbies\": [\"fishing\", \"playing guitar\"]}, \"interesting_information\": \"Michael is a retired firefighter and now volunteers at a local soup kitchen.\"}'),\n",
       " Document(metadata={'source': '/home/dino/Documents/aidino.github.io/example_codes/building_llms_for_productions/langchain/data/people.json', 'seq_num': 5}, page_content='{\"name\": \"Sarah Wilson\", \"age\": 35, \"contact_details\": {\"email\": \"sarah.wilson@example.com\", \"phone\": \"555-444-1234\"}, \"address\": {\"street\": \"567 Maple St\", \"city\": \"Miami\", \"state\": \"FL\", \"zip\": \"33101\"}, \"personal_preferences\": {\"favorite_color\": \"purple\", \"favorite_food\": \"tacos\", \"hobbies\": [\"surfing\", \"photography\"]}, \"interesting_information\": \"Sarah is a published author and has written several best-selling mystery novels.\"}')]"
      ]
     },
     "execution_count": 8,
     "metadata": {},
     "output_type": "execute_result"
    }
   ],
   "source": [
    "loader = JSONLoader(\n",
    "    file_path=\"data/people.json\",\n",
    "    jq_schema=\".people[]\",\n",
    "    text_content=False,\n",
    ")\n",
    "\n",
    "data = loader.load()\n",
    "data"
   ]
  },
  {
   "cell_type": "markdown",
   "metadata": {},
   "source": [
    "### Using `content_key` within `jq_schema`\n",
    "\n",
    "To load documents from a JSON file using `content_key` within the `jq_schema`, set `is_content_key_jq_parsable=True`. Ensure that `content_key` is compatible and can be parsed using the `jq_schema`."
   ]
  },
  {
   "cell_type": "code",
   "execution_count": 9,
   "metadata": {},
   "outputs": [
    {
     "data": {
      "text/plain": [
       "[Document(metadata={'source': '/home/dino/Documents/aidino.github.io/example_codes/building_llms_for_productions/langchain/data/people.json', 'seq_num': 1}, page_content='Alice Johnson'),\n",
       " Document(metadata={'source': '/home/dino/Documents/aidino.github.io/example_codes/building_llms_for_productions/langchain/data/people.json', 'seq_num': 2}, page_content='John Smith'),\n",
       " Document(metadata={'source': '/home/dino/Documents/aidino.github.io/example_codes/building_llms_for_productions/langchain/data/people.json', 'seq_num': 3}, page_content='Emily Davis'),\n",
       " Document(metadata={'source': '/home/dino/Documents/aidino.github.io/example_codes/building_llms_for_productions/langchain/data/people.json', 'seq_num': 4}, page_content='Michael Brown'),\n",
       " Document(metadata={'source': '/home/dino/Documents/aidino.github.io/example_codes/building_llms_for_productions/langchain/data/people.json', 'seq_num': 5}, page_content='Sarah Wilson')]"
      ]
     },
     "execution_count": 9,
     "metadata": {},
     "output_type": "execute_result"
    }
   ],
   "source": [
    "loader = JSONLoader(\n",
    "    file_path=\"data/people.json\",\n",
    "    jq_schema=\".people[]\",\n",
    "    content_key=\"name\",\n",
    "    text_content=False\n",
    ")\n",
    "\n",
    "data = loader.load()\n",
    "data"
   ]
  },
  {
   "cell_type": "markdown",
   "metadata": {},
   "source": [
    "### Extracting Metadata from `people.json`\n",
    "\n",
    "Let's define a `metadata_func` to extract relevant information like name, age, and city from each person object."
   ]
  },
  {
   "cell_type": "code",
   "execution_count": 10,
   "metadata": {},
   "outputs": [
    {
     "data": {
      "text/plain": [
       "[Document(metadata={'source': '/home/dino/Documents/aidino.github.io/example_codes/building_llms_for_productions/langchain/data/people.json', 'seq_num': 1, 'name': 'Alice Johnson', 'age': 32, 'city': 'Los Angeles'}, page_content='Alice Johnson'),\n",
       " Document(metadata={'source': '/home/dino/Documents/aidino.github.io/example_codes/building_llms_for_productions/langchain/data/people.json', 'seq_num': 2, 'name': 'John Smith', 'age': 45, 'city': 'New York'}, page_content='John Smith'),\n",
       " Document(metadata={'source': '/home/dino/Documents/aidino.github.io/example_codes/building_llms_for_productions/langchain/data/people.json', 'seq_num': 3, 'name': 'Emily Davis', 'age': 28, 'city': 'Chicago'}, page_content='Emily Davis'),\n",
       " Document(metadata={'source': '/home/dino/Documents/aidino.github.io/example_codes/building_llms_for_productions/langchain/data/people.json', 'seq_num': 4, 'name': 'Michael Brown', 'age': 50, 'city': 'Houston'}, page_content='Michael Brown'),\n",
       " Document(metadata={'source': '/home/dino/Documents/aidino.github.io/example_codes/building_llms_for_productions/langchain/data/people.json', 'seq_num': 5, 'name': 'Sarah Wilson', 'age': 35, 'city': 'Miami'}, page_content='Sarah Wilson')]"
      ]
     },
     "execution_count": 10,
     "metadata": {},
     "output_type": "execute_result"
    }
   ],
   "source": [
    "def metadata_func(record: dict, metadata: dict) -> dict:\n",
    "    metadata[\"name\"] = record.get(\"name\")\n",
    "    metadata[\"age\"] = record.get(\"age\")\n",
    "    metadata[\"city\"] = record.get(\"address\", {}).get(\"city\")\n",
    "    return metadata\n",
    "\n",
    "loader = JSONLoader(\n",
    "    file_path=\"data/people.json\",\n",
    "    jq_schema=\".people[]\",\n",
    "    content_key=\"name\",\n",
    "    metadata_func=metadata_func,\n",
    "    text_content=False\n",
    ")\n",
    "\n",
    "data = loader.load()\n",
    "data"
   ]
  },
  {
   "cell_type": "markdown",
   "metadata": {},
   "source": [
    "### Understanding JSON Query Syntax\n",
    "\n",
    "Let's explore the basic syntax of jq-style queries used in `JSONLoader`:\n",
    "\n",
    "Basic Selectors\n",
    "   - **`.`** : Current object\n",
    "   - **`.key`** : Access specific key in object\n",
    "   - **`.[]`** : Iterate over array elements\n",
    "\n",
    "Pipe Operator\n",
    "   - **`|`** : Pass result of left expression as input to right expression\n",
    "   \n",
    "Object Construction\n",
    "   - **`{key: value}`** : Create new object\n",
    "\n",
    "Example JSON:\n",
    "```json\n",
    "{\n",
    "  \"people\": [\n",
    "    {\"name\": \"Alice\", \"age\": 30, \"contactDetails\": {\"email\": \"alice@example.com\", \"phone\": \"123-456-7890\"}},\n",
    "    {\"name\": \"Bob\", \"age\": 25, \"contactDetails\": {\"email\": \"bob@example.com\", \"phone\": \"098-765-4321\"}}\n",
    "  ]\n",
    "}\n",
    "```"
   ]
  },
  {
   "cell_type": "markdown",
   "metadata": {},
   "source": [
    "**Common Query Patterns**:\n",
    "- `.people[]` : Access each array element\n",
    "- `.people[].name` : Get all names\n",
    "- `.people[] | {name: .name}` : Create new object with name\n",
    "- `.people[] | {name, email: .contact.email}` : Extract nested data\n",
    "\n",
    "[Note] \n",
    "- Always use `text_content=False` when working with complex JSON data\n",
    "- This ensures proper handling of non-string values (objects, arrays, numbers)"
   ]
  },
  {
   "cell_type": "markdown",
   "metadata": {},
   "source": [
    "### Advanced Queries\n",
    "\n",
    "Here are examples of extracting specific information using different jq schemas:"
   ]
  },
  {
   "cell_type": "code",
   "execution_count": 11,
   "metadata": {},
   "outputs": [
    {
     "data": {
      "text/plain": [
       "[Document(metadata={'source': '/home/dino/Documents/aidino.github.io/example_codes/building_llms_for_productions/langchain/data/people.json', 'seq_num': 1}, page_content='{\"name\": \"Alice Johnson\", \"contact\": null}'),\n",
       " Document(metadata={'source': '/home/dino/Documents/aidino.github.io/example_codes/building_llms_for_productions/langchain/data/people.json', 'seq_num': 2}, page_content='{\"name\": \"John Smith\", \"contact\": null}'),\n",
       " Document(metadata={'source': '/home/dino/Documents/aidino.github.io/example_codes/building_llms_for_productions/langchain/data/people.json', 'seq_num': 3}, page_content='{\"name\": \"Emily Davis\", \"contact\": null}'),\n",
       " Document(metadata={'source': '/home/dino/Documents/aidino.github.io/example_codes/building_llms_for_productions/langchain/data/people.json', 'seq_num': 4}, page_content='{\"name\": \"Michael Brown\", \"contact\": null}'),\n",
       " Document(metadata={'source': '/home/dino/Documents/aidino.github.io/example_codes/building_llms_for_productions/langchain/data/people.json', 'seq_num': 5}, page_content='{\"name\": \"Sarah Wilson\", \"contact\": null}')]"
      ]
     },
     "execution_count": 11,
     "metadata": {},
     "output_type": "execute_result"
    }
   ],
   "source": [
    "# Extract only contact details\n",
    "contact_loader = JSONLoader(\n",
    "    file_path=\"data/people.json\",\n",
    "    jq_schema=\".people[] | {name: .name, contact: .contactDetails}\",\n",
    "    text_content=False\n",
    ")\n",
    "\n",
    "docs = contact_loader.load()\n",
    "docs"
   ]
  },
  {
   "cell_type": "code",
   "execution_count": 12,
   "metadata": {},
   "outputs": [
    {
     "data": {
      "text/plain": [
       "[Document(metadata={'source': '/home/dino/Documents/aidino.github.io/example_codes/building_llms_for_productions/langchain/data/people.json', 'seq_num': 1}, page_content='{\"name\": \"Alice Johnson\", \"hobbies\": null}'),\n",
       " Document(metadata={'source': '/home/dino/Documents/aidino.github.io/example_codes/building_llms_for_productions/langchain/data/people.json', 'seq_num': 2}, page_content='{\"name\": \"John Smith\", \"hobbies\": null}'),\n",
       " Document(metadata={'source': '/home/dino/Documents/aidino.github.io/example_codes/building_llms_for_productions/langchain/data/people.json', 'seq_num': 3}, page_content='{\"name\": \"Emily Davis\", \"hobbies\": null}'),\n",
       " Document(metadata={'source': '/home/dino/Documents/aidino.github.io/example_codes/building_llms_for_productions/langchain/data/people.json', 'seq_num': 4}, page_content='{\"name\": \"Michael Brown\", \"hobbies\": null}'),\n",
       " Document(metadata={'source': '/home/dino/Documents/aidino.github.io/example_codes/building_llms_for_productions/langchain/data/people.json', 'seq_num': 5}, page_content='{\"name\": \"Sarah Wilson\", \"hobbies\": null}')]"
      ]
     },
     "execution_count": 12,
     "metadata": {},
     "output_type": "execute_result"
    }
   ],
   "source": [
    "# Extract nested data\n",
    "hobbies_loader = JSONLoader(\n",
    "    file_path=\"data/people.json\",\n",
    "    jq_schema=\".people[] | {name: .name, hobbies: .personalPreferences.hobbies}\",\n",
    "    text_content=False\n",
    ")\n",
    "\n",
    "docs = hobbies_loader.load()\n",
    "docs"
   ]
  },
  {
   "cell_type": "code",
   "execution_count": 13,
   "metadata": {},
   "outputs": [
    {
     "data": {
      "text/plain": [
       "[Document(metadata={'source': '/home/dino/Documents/aidino.github.io/example_codes/building_llms_for_productions/langchain/data/people.json', 'seq_num': 1}, page_content='{\"name\": \"Alice Johnson\", \"facts\": null}'),\n",
       " Document(metadata={'source': '/home/dino/Documents/aidino.github.io/example_codes/building_llms_for_productions/langchain/data/people.json', 'seq_num': 2}, page_content='{\"name\": \"John Smith\", \"facts\": null}'),\n",
       " Document(metadata={'source': '/home/dino/Documents/aidino.github.io/example_codes/building_llms_for_productions/langchain/data/people.json', 'seq_num': 3}, page_content='{\"name\": \"Emily Davis\", \"facts\": null}'),\n",
       " Document(metadata={'source': '/home/dino/Documents/aidino.github.io/example_codes/building_llms_for_productions/langchain/data/people.json', 'seq_num': 4}, page_content='{\"name\": \"Michael Brown\", \"facts\": null}'),\n",
       " Document(metadata={'source': '/home/dino/Documents/aidino.github.io/example_codes/building_llms_for_productions/langchain/data/people.json', 'seq_num': 5}, page_content='{\"name\": \"Sarah Wilson\", \"facts\": null}')]"
      ]
     },
     "execution_count": 13,
     "metadata": {},
     "output_type": "execute_result"
    }
   ],
   "source": [
    "# Get all interesting facts\n",
    "facts_loader = JSONLoader(\n",
    "    file_path=\"data/people.json\",\n",
    "    jq_schema=\".people[] | {name: .name, facts: .interestingFacts}\",\n",
    "    text_content=False\n",
    ")\n",
    "\n",
    "docs = facts_loader.load()\n",
    "docs"
   ]
  },
  {
   "cell_type": "code",
   "execution_count": 14,
   "metadata": {},
   "outputs": [
    {
     "data": {
      "text/plain": [
       "[Document(metadata={'source': '/home/dino/Documents/aidino.github.io/example_codes/building_llms_for_productions/langchain/data/people.json', 'seq_num': 1}, page_content='{\"name\": \"Alice Johnson\", \"contact\": null}'),\n",
       " Document(metadata={'source': '/home/dino/Documents/aidino.github.io/example_codes/building_llms_for_productions/langchain/data/people.json', 'seq_num': 2}, page_content='{\"name\": \"John Smith\", \"contact\": null}'),\n",
       " Document(metadata={'source': '/home/dino/Documents/aidino.github.io/example_codes/building_llms_for_productions/langchain/data/people.json', 'seq_num': 3}, page_content='{\"name\": \"Emily Davis\", \"contact\": null}'),\n",
       " Document(metadata={'source': '/home/dino/Documents/aidino.github.io/example_codes/building_llms_for_productions/langchain/data/people.json', 'seq_num': 4}, page_content='{\"name\": \"Michael Brown\", \"contact\": null}'),\n",
       " Document(metadata={'source': '/home/dino/Documents/aidino.github.io/example_codes/building_llms_for_productions/langchain/data/people.json', 'seq_num': 5}, page_content='{\"name\": \"Sarah Wilson\", \"contact\": null}')]"
      ]
     },
     "execution_count": 14,
     "metadata": {},
     "output_type": "execute_result"
    }
   ],
   "source": [
    "# Extract email and phone together\n",
    "contact_info = JSONLoader(\n",
    "    file_path=\"data/people.json\",\n",
    "    jq_schema='.people[] | {name: .name, email: .contactDetails.email, phone: .contactDetails.phone}',\n",
    "    text_content=False\n",
    ")\n",
    "\n",
    "docs = contact_loader.load()\n",
    "docs"
   ]
  },
  {
   "cell_type": "code",
   "execution_count": null,
   "metadata": {},
   "outputs": [],
   "source": []
  }
 ],
 "metadata": {
  "kernelspec": {
   "display_name": "langchain",
   "language": "python",
   "name": "python3"
  },
  "language_info": {
   "codemirror_mode": {
    "name": "ipython",
    "version": 3
   },
   "file_extension": ".py",
   "mimetype": "text/x-python",
   "name": "python",
   "nbconvert_exporter": "python",
   "pygments_lexer": "ipython3",
   "version": "3.10.16"
  }
 },
 "nbformat": 4,
 "nbformat_minor": 2
}
