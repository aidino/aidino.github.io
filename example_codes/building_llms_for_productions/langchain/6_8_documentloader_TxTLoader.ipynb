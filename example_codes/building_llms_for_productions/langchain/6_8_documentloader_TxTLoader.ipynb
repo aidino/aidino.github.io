{
 "cells": [
  {
   "cell_type": "markdown",
   "metadata": {},
   "source": [
    "# TXT Loader\n",
    "\n",
    "Hướng dẫn này tập trung vào việc sử dụng `TextLoader` của LangChain để tải và xử lý hiệu quả các tệp văn bản riêng lẻ.\n",
    "\n",
    "Bạn sẽ học cách trích xuất metadata và nội dung, giúp việc chuẩn bị dữ liệu văn bản trở nên dễ dàng hơn.\n",
    "\n",
    "```bash\n",
    "pip install chardet\n",
    "```\n"
   ]
  },
  {
   "cell_type": "markdown",
   "metadata": {},
   "source": [
    "## TXT Loader\n",
    "\n",
    "Let’s explore how to load files with the **.txt** extension using a loader."
   ]
  },
  {
   "cell_type": "code",
   "execution_count": 1,
   "metadata": {},
   "outputs": [
    {
     "name": "stdout",
     "output_type": "stream",
     "text": [
      "Number of documents: 1\n",
      "\n",
      "[Metadata]\n",
      "\n",
      "{'source': 'data/appendix-keywords.txt'}\n",
      "\n",
      "========= [Preview - First 500 Characters] =========\n",
      "\n",
      "Semantic Search\n",
      "\n",
      "Definition: Semantic search is a search method that goes beyond simple keyword matching by understanding the meaning of the user’s query to return relevant results.\n",
      "Example: If a user searches for “planets in the solar system,” the system might return information about related planets such as “Jupiter” or “Mars.”\n",
      "Related Keywords: Natural Language Processing, Search Algorithms, Data Mining\n",
      "\n",
      "Embedding\n",
      "\n",
      "Definition: Embedding is the process of converting textual data, such as words\n"
     ]
    }
   ],
   "source": [
    "from langchain_community.document_loaders import TextLoader\n",
    "\n",
    "# Create a text loader\n",
    "loader = TextLoader(\"data/appendix-keywords.txt\", encoding=\"utf-8\")\n",
    "\n",
    "# Load the document\n",
    "docs = loader.load()\n",
    "print(f\"Number of documents: {len(docs)}\\n\")\n",
    "print(\"[Metadata]\\n\")\n",
    "print(docs[0].metadata)\n",
    "print(\"\\n========= [Preview - First 500 Characters] =========\\n\")\n",
    "print(docs[0].page_content[:500])"
   ]
  },
  {
   "cell_type": "markdown",
   "metadata": {},
   "source": [
    "## Automatic Encoding Detection with TextLoader\n",
    "\n",
    "\n",
    "Trong ví dụ này, chúng ta sẽ khám phá một số chiến lược để sử dụng lớp TextLoader để tải hiệu quả các lô tệp lớn từ một thư mục có mã hóa khác nhau.\n",
    "\n",
    "Để minh họa vấn đề, trước tiên chúng ta sẽ thử tải nhiều tệp văn bản với mã hóa tùy ý.\n",
    "\n",
    "- `silent_errors`: Bằng cách truyền tham số `silent_errors` cho `DirectoryLoader`, bạn có thể bỏ qua các tệp không thể tải và tiếp tục quá trình tải mà không bị gián đoạn.\n",
    "- `autodetect_encoding`: Ngoài ra, bạn có thể bật tính năng tự động phát hiện mã hóa bằng cách truyền tham số `autodetect_encoding` cho lớp trình tải, cho phép nó phát hiện mã hóa tệp trước khi gặp lỗi.\n"
   ]
  },
  {
   "cell_type": "code",
   "execution_count": 2,
   "metadata": {},
   "outputs": [],
   "source": [
    "from langchain_community.document_loaders import DirectoryLoader\n",
    "\n",
    "path = \"data/\"\n",
    "\n",
    "text_loader_kwargs = {\"autodetect_encoding\": True}\n",
    "\n",
    "loader = DirectoryLoader(\n",
    "    path,\n",
    "    glob=\"**/*.txt\",\n",
    "    loader_cls=TextLoader,\n",
    "    silent_errors=True,\n",
    "    loader_kwargs=text_loader_kwargs,\n",
    ")\n",
    "docs = loader.load()"
   ]
  },
  {
   "cell_type": "code",
   "execution_count": 3,
   "metadata": {},
   "outputs": [
    {
     "data": {
      "text/plain": [
       "['data/appendix-keywords-CP949.txt',\n",
       " 'data/appendix-keywords.txt',\n",
       " 'data/appendix-keywords-utf8.txt',\n",
       " 'data/appendix-keywords-EUCKR.txt']"
      ]
     },
     "execution_count": 3,
     "metadata": {},
     "output_type": "execute_result"
    }
   ],
   "source": [
    "doc_sources = [doc.metadata[\"source\"] for doc in docs]\n",
    "doc_sources"
   ]
  },
  {
   "cell_type": "code",
   "execution_count": 4,
   "metadata": {},
   "outputs": [
    {
     "name": "stdout",
     "output_type": "stream",
     "text": [
      "[Metadata]\n",
      "\n",
      "{'source': 'data/appendix-keywords-CP949.txt'}\n",
      "\n",
      "========= [Preview - First 500 Characters] =========\n",
      "\n",
      "Semantic Search\n",
      "\n",
      "Definition: Semantic search is a search method that goes beyond simple keyword matching by understanding the meaning of the user¡¯s query to return relevant results.\n",
      "Example: If a user searches for ¡°planets in the solar system,¡± the system might return information about related planets such as ¡°Jupiter¡± or ¡°Mars.¡±\n",
      "Related Keywords: Natural Language Processing, Search Algorithms, Data Mining\n",
      "\n",
      "Embedding\n",
      "\n",
      "Definition: Embedding is the process of converting textual data, such a\n"
     ]
    }
   ],
   "source": [
    "print(\"[Metadata]\\n\")\n",
    "print(docs[0].metadata)\n",
    "print(\"\\n========= [Preview - First 500 Characters] =========\\n\")\n",
    "print(docs[0].page_content[:500])"
   ]
  },
  {
   "cell_type": "code",
   "execution_count": 5,
   "metadata": {},
   "outputs": [
    {
     "name": "stdout",
     "output_type": "stream",
     "text": [
      "[Metadata]\n",
      "\n",
      "{'source': 'data/appendix-keywords.txt'}\n",
      "\n",
      "========= [Preview - First 500 Characters] =========\n",
      "\n",
      "Semantic Search\n",
      "\n",
      "Definition: Semantic search is a search method that goes beyond simple keyword matching by understanding the meaning of the user’s query to return relevant results.\n",
      "Example: If a user searches for “planets in the solar system,” the system might return information about related planets such as “Jupiter” or “Mars.”\n",
      "Related Keywords: Natural Language Processing, Search Algorithms, Data Mining\n",
      "\n",
      "Embedding\n",
      "\n",
      "Definition: Embedding is the process of converting textual data, such as words\n"
     ]
    }
   ],
   "source": [
    "print(\"[Metadata]\\n\")\n",
    "print(docs[1].metadata)\n",
    "print(\"\\n========= [Preview - First 500 Characters] =========\\n\")\n",
    "print(docs[1].page_content[:500])"
   ]
  },
  {
   "cell_type": "code",
   "execution_count": 6,
   "metadata": {},
   "outputs": [
    {
     "name": "stdout",
     "output_type": "stream",
     "text": [
      "[Metadata]\n",
      "\n",
      "{'source': 'data/appendix-keywords-EUCKR.txt'}\n",
      "\n",
      "========= [Preview - First 500 Characters] =========\n",
      "\n",
      "Semantic Search\n",
      "\n",
      "Definition: Semantic search is a search method that goes beyond simple keyword matching by understanding the meaning of the user¡¯s query to return relevant results.\n",
      "Example: If a user searches for ¡°planets in the solar system,¡± the system might return information about related planets such as ¡°Jupiter¡± or ¡°Mars.¡±\n",
      "Related Keywords: Natural Language Processing, Search Algorithms, Data Mining\n",
      "\n",
      "Embedding\n",
      "\n",
      "Definition: Embedding is the process of converting textual data, such a\n"
     ]
    }
   ],
   "source": [
    "print(\"[Metadata]\\n\")\n",
    "print(docs[3].metadata)\n",
    "print(\"\\n========= [Preview - First 500 Characters] =========\\n\")\n",
    "print(docs[3].page_content[:500])"
   ]
  },
  {
   "cell_type": "code",
   "execution_count": null,
   "metadata": {},
   "outputs": [],
   "source": []
  }
 ],
 "metadata": {
  "kernelspec": {
   "display_name": "langchain",
   "language": "python",
   "name": "python3"
  },
  "language_info": {
   "codemirror_mode": {
    "name": "ipython",
    "version": 3
   },
   "file_extension": ".py",
   "mimetype": "text/x-python",
   "name": "python",
   "nbconvert_exporter": "python",
   "pygments_lexer": "ipython3",
   "version": "3.10.16"
  }
 },
 "nbformat": 4,
 "nbformat_minor": 2
}
