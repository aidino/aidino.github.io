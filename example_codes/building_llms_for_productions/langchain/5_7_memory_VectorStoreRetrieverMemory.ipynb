{
 "cells": [
  {
   "cell_type": "markdown",
   "metadata": {},
   "source": [
    "# VectorStoreRetrieverMemory\n",
    "\n",
    "`VectorStoreRetrieverMemory` lưu trữ bộ nhớ trong một vector store và truy vấn K tài liệu 'liên quan' nhất bất cứ khi nào được gọi.\n",
    "Điều này khác với hầu hết các lớp bộ nhớ khác ở chỗ nó không theo dõi rõ ràng thứ tự của cuộc trò chuyện.\n",
    "\n",
    "Trong hướng dẫn này, chúng ta sẽ khám phá ứng dụng thực tế của `VectorStoreRetrieverMemory` thông qua một kịch bản phỏng vấn mô phỏng. Thông qua ví dụ này, chúng ta sẽ thấy `VectorStoreRetrieverMemory` tìm kiếm thông tin dựa trên mức độ liên quan ngữ nghĩa thay vì thứ tự thời gian của các cuộc trò chuyện như thế nào.\n"
   ]
  },
  {
   "cell_type": "code",
   "execution_count": 1,
   "metadata": {},
   "outputs": [],
   "source": [
    "import os\n",
    "from dotenv import load_dotenv\n",
    "from langchain_openai import ChatOpenAI\n",
    "from langchain_core.prompts import PromptTemplate\n",
    "from langchain_core.output_parsers import StrOutputParser\n",
    "\n",
    "load_dotenv(override=True, dotenv_path=\"../.env\")\n",
    "\n",
    "llm = ChatOpenAI(model_name=\"gpt-3.5-turbo\", temperature=0.0)"
   ]
  },
  {
   "cell_type": "markdown",
   "metadata": {},
   "source": [
    "## Initializing the Vector Store\n",
    "\n",
    "Next, we'll set up our vector store using FAISS. FAISS is an efficient similarity search library that will help us store and retrieve conversation embeddings:"
   ]
  },
  {
   "cell_type": "code",
   "execution_count": 3,
   "metadata": {},
   "outputs": [],
   "source": [
    "import faiss\n",
    "from langchain_openai.embeddings import OpenAIEmbeddings\n",
    "from langchain_community.docstore.in_memory import InMemoryDocstore\n",
    "from langchain_community.vectorstores.faiss import FAISS\n",
    "\n",
    "# Initialize OpenAI embeddings\n",
    "embeddings_model = OpenAIEmbeddings()\n",
    "\n",
    "# Create FAISS index\n",
    "embedding_size = 1536  # Size for OpenAI embeddings\n",
    "index = faiss.IndexFlatL2(embedding_size)\n",
    "vectorstore = FAISS(embeddings_model, index, InMemoryDocstore({}), {})"
   ]
  },
  {
   "cell_type": "markdown",
   "metadata": {},
   "source": [
    "This setup creates an in-memory vector store that will maintain our conversation embeddings for quick similarity searches."
   ]
  },
  {
   "cell_type": "markdown",
   "metadata": {},
   "source": [
    "## Saving Interview Conversations\n",
    "\n",
    "Now, we'll create our memory system and populate it with example interview conversations.\n",
    "\n",
    "Note that by setting `k=1`, we ensure that only the single most relevant conversation is returned. (In real applications, you might want to increase this value to provide more context.):"
   ]
  },
  {
   "cell_type": "code",
   "execution_count": 4,
   "metadata": {},
   "outputs": [
    {
     "name": "stderr",
     "output_type": "stream",
     "text": [
      "/tmp/ipykernel_799818/480526100.py:5: LangChainDeprecationWarning: Please see the migration guide at: https://python.langchain.com/docs/versions/migrating_memory/\n",
      "  memory = VectorStoreRetrieverMemory(retriever=retriever)\n"
     ]
    }
   ],
   "source": [
    "from langchain.memory import VectorStoreRetrieverMemory\n",
    "\n",
    "# We set k=1 to show that vector lookups still can return semantically relevant information\n",
    "retriever = vectorstore.as_retriever(search_kwargs={\"k\": 1})\n",
    "memory = VectorStoreRetrieverMemory(retriever=retriever)\n",
    "\n",
    "# Save arbitrary conversations\n",
    "memory.save_context(\n",
    "    inputs={\n",
    "        \"human\": \"Hello, thank you for coming to the interview today. Please introduce yourself.\"\n",
    "    },\n",
    "    outputs={\n",
    "        \"ai\": \"Hello. I'm a junior developer who majored in Computer Science. In college, I mainly used Java and Python, and recently, I participated in a web development project where I gained experience developing services for real users.\"\n",
    "    },\n",
    ")\n",
    "memory.save_context(\n",
    "    inputs={\"human\": \"What was your role in the project?\"},\n",
    "    outputs={\n",
    "        \"ai\": \"My role was as a backend developer. I was responsible for processing user data and developing server logic, implementing RESTful APIs for communication with the frontend. I also participated in database design.\"\n",
    "    },\n",
    ")\n",
    "memory.save_context(\n",
    "    inputs={\n",
    "        \"human\": \"If you faced any difficulties in team projects, how did you resolve them?\"\n",
    "    },\n",
    "    outputs={\n",
    "        \"ai\": \"We had some communication issues at the beginning of the project. To resolve this, our team held regular meetings to share each person's progress. Also, when problems arose, we actively shared opinions and worked to find reasonable solutions.\"\n",
    "    },\n",
    ")\n",
    "memory.save_context(\n",
    "    inputs={\"human\": \"What do you consider your strengths as a developer?\"},\n",
    "    outputs={\n",
    "        \"ai\": \"My strengths are quick learning ability and problem-solving skills. I can quickly acquire new technologies and tools, and when faced with complex problems, I can propose creative solutions. Also, I value teamwork and consider collaboration with colleagues important.\"\n",
    "    },\n",
    ")"
   ]
  },
  {
   "cell_type": "markdown",
   "metadata": {},
   "source": [
    "## Retrieving Relevant Conversations\n",
    "\n",
    "Let's see how the system retrieves relevant information based on queries:"
   ]
  },
  {
   "cell_type": "code",
   "execution_count": 5,
   "metadata": {},
   "outputs": [
    {
     "name": "stdout",
     "output_type": "stream",
     "text": [
      "Query: What was the interviewee's major?\n",
      "human: Hello, thank you for coming to the interview today. Please introduce yourself.\n",
      "ai: Hello. I'm a junior developer who majored in Computer Science. In college, I mainly used Java and Python, and recently, I participated in a web development project where I gained experience developing services for real users.\n"
     ]
    }
   ],
   "source": [
    "# Query about educational background\n",
    "print(\"Query: What was the interviewee's major?\")\n",
    "print(\n",
    "    memory.load_memory_variables({\"prompt\": \"What was the interviewee's major?\"})[\n",
    "        \"history\"\n",
    "    ]\n",
    ")"
   ]
  },
  {
   "cell_type": "code",
   "execution_count": 6,
   "metadata": {},
   "outputs": [
    {
     "name": "stdout",
     "output_type": "stream",
     "text": [
      "Query: What was the interviewee's role in the project?\n",
      "human: What was your role in the project?\n",
      "ai: My role was as a backend developer. I was responsible for processing user data and developing server logic, implementing RESTful APIs for communication with the frontend. I also participated in database design.\n"
     ]
    }
   ],
   "source": [
    "# Query about project experience\n",
    "print(\"Query: What was the interviewee's role in the project?\")\n",
    "print(\n",
    "    memory.load_memory_variables(\n",
    "        {\"human\": \"What was the interviewee's role in the project?\"}\n",
    "    )[\"history\"]\n",
    ")"
   ]
  },
  {
   "cell_type": "markdown",
   "metadata": {},
   "source": [
    "This approach is particularly valuable when building systems that need to reference past conversations contextually, such as in `customer service bots`, `educational assistants`, or any application where `maintaining context-aware conversation history` is important."
   ]
  },
  {
   "cell_type": "code",
   "execution_count": null,
   "metadata": {},
   "outputs": [],
   "source": []
  }
 ],
 "metadata": {
  "kernelspec": {
   "display_name": "langchain",
   "language": "python",
   "name": "python3"
  },
  "language_info": {
   "codemirror_mode": {
    "name": "ipython",
    "version": 3
   },
   "file_extension": ".py",
   "mimetype": "text/x-python",
   "name": "python",
   "nbconvert_exporter": "python",
   "pygments_lexer": "ipython3",
   "version": "3.10.16"
  }
 },
 "nbformat": 4,
 "nbformat_minor": 2
}
