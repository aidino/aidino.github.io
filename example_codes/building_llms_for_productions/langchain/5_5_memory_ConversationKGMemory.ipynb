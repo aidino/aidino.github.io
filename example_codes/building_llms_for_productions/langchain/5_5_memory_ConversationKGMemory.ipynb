{
 "cells": [
  {
   "cell_type": "markdown",
   "metadata": {},
   "source": [
    "# ConversationKGMemory\n",
    "\n",
    "Không giống như `ConversationEntityMemory`, vốn quản lý thông tin về các entities theo định dạng key-value cho từng entity riêng lẻ, `ConversationKGMemory` (Conversation Knowledge Graph Memory) là một module quản lý các relationships giữa các entities theo định dạng graph.\n",
    "\n",
    "Nó trích xuất và cấu trúc các **knowledge triplets** (subject-relationship-object) để xác định và lưu trữ các relationships phức tạp giữa các entities, và cho phép khám phá entity connectivity thông qua **graph structure**.\n",
    "\n",
    "Điều này giúp model hiểu được các relationships giữa các entities khác nhau và phản hồi tốt hơn cho các queries dựa trên complex networks và historical context.\n"
   ]
  },
  {
   "cell_type": "code",
   "execution_count": 1,
   "metadata": {},
   "outputs": [],
   "source": [
    "import os\n",
    "from dotenv import load_dotenv\n",
    "from langchain_openai import ChatOpenAI\n",
    "from langchain_core.prompts import PromptTemplate\n",
    "from langchain_core.output_parsers import StrOutputParser\n",
    "\n",
    "load_dotenv(override=True, dotenv_path=\"../.env\")\n",
    "\n",
    "llm = ChatOpenAI(model_name=\"gpt-3.5-turbo\", temperature=0.0)"
   ]
  },
  {
   "cell_type": "markdown",
   "metadata": {},
   "source": [
    "## Conversation Knowlege Graph Memory\n",
    "\n",
    "`ConversationKGMemory` là một memory module lưu trữ và quản lý thông tin được trích xuất từ các conversations trong một graph structure. Ví dụ này minh họa các tính năng chính sau:\n",
    "\n",
    "- Lưu trữ conversation context (`save_context`)\n",
    "- (Tham khảo) Lấy danh sách tên các entities trong graph được sắp xếp theo causal dependence. (`get_topological_sort`)\n",
    "- Trích xuất các entities từ current conversation (`get_current_entities`)\n",
    "- Trích xuất knowledge triplets (`get_knowledge_triplets`)\n",
    "- Truy xuất memory đã lưu trữ (`load_memory_variables`)\n",
    "\n",
    "Ví dụ sau đây cho thấy quá trình trích xuất các entities và relationships từ một conversation về một nhà thiết kế mới, Shelly Kim, và lưu trữ chúng ở định dạng graph.\n"
   ]
  },
  {
   "cell_type": "code",
   "execution_count": 2,
   "metadata": {},
   "outputs": [],
   "source": [
    "from langchain_community.memory.kg import ConversationKGMemory\n",
    "\n",
    "memory = ConversationKGMemory(llm=llm, return_messages=True)\n",
    "memory.save_context(\n",
    "    {\"input\": \"This is Shelly Kim who lives in Pangyo.\"},\n",
    "    {\"output\": \"Hello Shelly, nice to meet you! What kind of work do you do?\"},\n",
    ")\n",
    "memory.save_context(\n",
    "    {\"input\": \"Shelly Kim is our company's new designer.\"},\n",
    "    {\n",
    "        \"output\": \"That's great! Welcome to our team. I hope you'll enjoy working with us.\"\n",
    "    },\n",
    ")"
   ]
  },
  {
   "cell_type": "markdown",
   "metadata": {},
   "source": [
    "### (Reference) get_knowledge_triplets(input_string: str) → List[KnowledgeTriple]\n",
    "\n",
    "Bạn có thể sử dụng method `get_topological_sort` để xem tất cả các entities được lưu trữ trong knowledge graph theo topological order:\n",
    "\n",
    "Method này:\n",
    "- Sử dụng thư viện NetworkX để phân tích knowledge graph structure\n",
    "- Thực hiện topological sorting dựa trên các directed edges\n",
    "- Trả về danh sách các entities theo dependency order\n",
    "\n",
    "Thứ tự phản ánh các relationships giữa các entities trong conversation, cho thấy chúng được kết nối như thế nào trong knowledge graph.\n"
   ]
  },
  {
   "cell_type": "code",
   "execution_count": 3,
   "metadata": {},
   "outputs": [
    {
     "data": {
      "text/plain": [
       "['Shelly Kim', 'Pangyo', \"company's new designer\"]"
      ]
     },
     "execution_count": 3,
     "metadata": {},
     "output_type": "execute_result"
    }
   ],
   "source": [
    "memory.kg.get_topological_sort()"
   ]
  },
  {
   "cell_type": "markdown",
   "metadata": {},
   "source": [
    "### `get_current_entities(input_string: str) → List[str]`\n",
    "\n",
    "Đây là cách method `get_current_entities` hoạt động:\n",
    "\n",
    "**1. Tạo Entity Extraction Chain**\n",
    "- Tạo một `LLMChain` sử dụng template `entity_extraction_prompt`.\n",
    "- Prompt này được thiết kế để trích xuất các proper nouns từ dòng cuối cùng của conversation.\n",
    "\n",
    "**2. Xử lý Context**\n",
    "- Truy xuất **k*2** messages cuối cùng từ buffer. (mặc định: k=2)\n",
    "- Tạo chuỗi conversation history sử dụng `human_prefix` và `ai_prefix`.\n",
    "\n",
    "**3. Trích xuất Entity**\n",
    "- Trích xuất các proper nouns từ chuỗi đầu vào \"Who is Shelly Kim?\".\n",
    "- Chủ yếu nhận dạng các từ bắt đầu bằng chữ cái viết hoa là proper nouns.\n",
    "- Trong trường hợp này, \"Shelly Kim\" được trích xuất như một entity.\n",
    "\n",
    "Method này **chỉ trích xuất các entities từ chính câu hỏi**, trong khi conversation context trước đó chỉ được sử dụng để tham khảo.\n"
   ]
  },
  {
   "cell_type": "code",
   "execution_count": 4,
   "metadata": {},
   "outputs": [
    {
     "data": {
      "text/plain": [
       "['Shelly Kim', 'Pangyo']"
      ]
     },
     "execution_count": 4,
     "metadata": {},
     "output_type": "execute_result"
    }
   ],
   "source": [
    "memory.get_current_entities({\"input\": \"Who is Shelly Kim?\"})"
   ]
  },
  {
   "cell_type": "markdown",
   "metadata": {},
   "source": [
    "### `get_knowledge_triplets(input_string: str) → List[KnowledgeTriple]`\n",
    "\n",
    "Method `get_knowledge_triplets` hoạt động như sau:\n",
    "\n",
    "**1. Knowledge Triple Extraction Chain**\n",
    "- Tạo một `LLMChain` sử dụng template `knowledge_triplet_extraction_prompt`.\n",
    "- Được thiết kế để trích xuất các triples theo định dạng (**subject-relation-object**) từ văn bản đã cho.\n",
    "\n",
    "**2. Tìm kiếm Memory**\n",
    "- Tìm kiếm thông tin liên quan đến \"Shelly\" từ các conversations đã lưu trữ trước đó.\n",
    "- Context đã lưu trữ:\n",
    "  - \"This is Shelly Kim who lives in Pangyo.\"\n",
    "  - \"Shelly Kim is our company's new designer.\"\n",
    "\n",
    "**3. Trích xuất Triple**\n",
    "- Tạo các triples sau từ thông tin đã truy xuất:\n",
    "  - (Shelly Kim, lives in, Pangyo)\n",
    "  - (Shelly Kim, is, designer)\n",
    "  - (Shelly Kim, works at, our company)\n",
    "\n",
    "Method này trích xuất thông tin relationship ở **định dạng triple** từ tất cả nội dung conversation đã lưu trữ **liên quan đến một entity cụ thể**.\n"
   ]
  },
  {
   "cell_type": "code",
   "execution_count": 5,
   "metadata": {},
   "outputs": [
    {
     "data": {
      "text/plain": [
       "([KnowledgeTriple(subject='Shelly Kim', predicate='lives in', object_='Pangyo')],\n",
       " '\\n',\n",
       " [KnowledgeTriple(subject='Shelly Kim', predicate='lives in', object_='Pangyo')],\n",
       " '\\n',\n",
       " [KnowledgeTriple(subject='Shelly Kim', predicate='is', object_='designer')],\n",
       " '\\n',\n",
       " [])"
      ]
     },
     "execution_count": 5,
     "metadata": {},
     "output_type": "execute_result"
    }
   ],
   "source": [
    "memory.get_knowledge_triplets({\"input\": \"Shelly\"}), \"\\n\", memory.get_knowledge_triplets(\n",
    "    {\"input\": \"Pangyo\"}\n",
    "), \"\\n\", memory.get_knowledge_triplets(\n",
    "    {\"input\": \"designer\"}\n",
    "), \"\\n\", memory.get_knowledge_triplets(\n",
    "    {\"input\": \"Langchain\"}\n",
    ")"
   ]
  },
  {
   "cell_type": "code",
   "execution_count": 6,
   "metadata": {},
   "outputs": [
    {
     "data": {
      "text/plain": [
       "[KnowledgeTriple(subject='Shelly Kim', predicate='lives in', object_='Pangyo')]"
      ]
     },
     "execution_count": 6,
     "metadata": {},
     "output_type": "execute_result"
    }
   ],
   "source": [
    "memory.get_knowledge_triplets({\"input\": \"Shelly\"})"
   ]
  },
  {
   "cell_type": "code",
   "execution_count": 7,
   "metadata": {},
   "outputs": [
    {
     "data": {
      "text/plain": [
       "[KnowledgeTriple(subject='Shelly Kim', predicate='lives in', object_='Pangyo')]"
      ]
     },
     "execution_count": 7,
     "metadata": {},
     "output_type": "execute_result"
    }
   ],
   "source": [
    "memory.get_knowledge_triplets(\n",
    "    {\"input\": \"Pangyo\"}\n",
    ")"
   ]
  },
  {
   "cell_type": "markdown",
   "metadata": {},
   "source": [
    "### `load_memory_variables(inputs: Dict[str, Any]) → Dict[str, Any]`\n",
    "\n",
    "Method `load_memory_variables` hoạt động qua các bước sau:\n",
    "\n",
    "**1. Trích xuất Entity**\n",
    "- Trích xuất các entities (ví dụ: \"Shelly Kim\") từ đầu vào \"Who is Shelly Kim?\".\n",
    "- Sử dụng nội bộ method `get_current_entities`.\n",
    "\n",
    "**2. Truy xuất Kiến thức**\n",
    "- Tìm kiếm tất cả knowledge triplets liên quan đến các entities đã trích xuất.\n",
    "- Truy vấn graph để tìm thông tin đã được lưu trữ trước đó thông qua `save_context`.\n",
    "\n",
    "**3. Định dạng Thông tin**\n",
    "- Chuyển đổi các triplets tìm thấy thành system messages.\n",
    "- Trả về danh sách các message objects do cài đặt `return_messages=True`.\n",
    "\n",
    "Method này truy xuất thông tin liên quan từ knowledge graph đã lưu trữ và trả về nó ở định dạng có cấu trúc, sau đó có thể được sử dụng làm context cho các conversations tiếp theo với language model.\n"
   ]
  },
  {
   "cell_type": "code",
   "execution_count": 8,
   "metadata": {},
   "outputs": [
    {
     "data": {
      "text/plain": [
       "{'history': [SystemMessage(content=\"On Shelly Kim: Shelly Kim lives in Pangyo. Shelly Kim is company's new designer.\", additional_kwargs={}, response_metadata={})]}"
      ]
     },
     "execution_count": 8,
     "metadata": {},
     "output_type": "execute_result"
    }
   ],
   "source": [
    "memory.load_memory_variables({\"input\": \"Who is Shelly Kim?\"})"
   ]
  },
  {
   "cell_type": "markdown",
   "metadata": {},
   "source": [
    "## Applying KG Memory to Chain\n",
    "\n",
    "This section demonstrates how to use `ConversationKGMemory` with `ConversationChain`\n",
    "\n",
    "(The class `ConversationChain` was deprecated in LangChain 0.2.7 and will be removed in 1.0. If you want, you can skip to [Applying KG Memory with LCEL](#applying-kg-memory-with-lcel))"
   ]
  },
  {
   "cell_type": "code",
   "execution_count": 9,
   "metadata": {},
   "outputs": [
    {
     "name": "stderr",
     "output_type": "stream",
     "text": [
      "/tmp/ipykernel_762349/273355205.py:19: LangChainDeprecationWarning: The class `ConversationChain` was deprecated in LangChain 0.2.7 and will be removed in 1.0. Use :meth:`~RunnableWithMessageHistory: https://python.langchain.com/v0.2/api_reference/core/runnables/langchain_core.runnables.history.RunnableWithMessageHistory.html` instead.\n",
      "  conversation_with_kg = ConversationChain(\n"
     ]
    }
   ],
   "source": [
    "from langchain_community.memory.kg import ConversationKGMemory\n",
    "from langchain_core.prompts.prompt import PromptTemplate\n",
    "from langchain.chains import ConversationChain\n",
    "\n",
    "template = \"\"\"The following is a friendly conversation between a human and an AI. \n",
    "The AI is talkative and provides lots of specific details from its context. \n",
    "If the AI does not know the answer to a question, it truthfully says it does not know. \n",
    "The AI ONLY uses information contained in the \"Relevant Information\" section and does not hallucinate.\n",
    "\n",
    "Relevant Information:\n",
    "\n",
    "{history}\n",
    "\n",
    "Conversation:\n",
    "Human: {input}\n",
    "AI:\"\"\"\n",
    "prompt = PromptTemplate(input_variables=[\"history\", \"input\"], template=template)\n",
    "\n",
    "conversation_with_kg = ConversationChain(\n",
    "    llm=llm, prompt=prompt, memory=ConversationKGMemory(llm=llm)\n",
    ")"
   ]
  },
  {
   "cell_type": "code",
   "execution_count": 10,
   "metadata": {},
   "outputs": [
    {
     "data": {
      "text/plain": [
       "\"Hello Teddy! It's nice to meet you. Shelly sounds like a talented designer. What kind of projects is she working on at your company?\""
      ]
     },
     "execution_count": 10,
     "metadata": {},
     "output_type": "execute_result"
    }
   ],
   "source": [
    "conversation_with_kg.predict(\n",
    "    input=\"My name is Teddy. Shelly is a coworker of mine, and she's a new designer at our company.\"\n",
    ")"
   ]
  },
  {
   "cell_type": "code",
   "execution_count": 11,
   "metadata": {},
   "outputs": [
    {
     "data": {
      "text/plain": [
       "{'history': 'On Shelly: Shelly is a coworker. Shelly is a new designer. Shelly is at our company.'}"
      ]
     },
     "execution_count": 11,
     "metadata": {},
     "output_type": "execute_result"
    }
   ],
   "source": [
    "conversation_with_kg.memory.load_memory_variables({\"input\": \"who is Shelly?\"})"
   ]
  },
  {
   "cell_type": "code",
   "execution_count": 12,
   "metadata": {},
   "outputs": [
    {
     "data": {
      "text/plain": [
       "{'history': ''}"
      ]
     },
     "execution_count": 12,
     "metadata": {},
     "output_type": "execute_result"
    }
   ],
   "source": [
    "conversation_with_kg.memory.clear()\n",
    "conversation_with_kg.memory.load_memory_variables({\"input\": \"who is Shelly?\"})"
   ]
  },
  {
   "cell_type": "markdown",
   "metadata": {},
   "source": [
    "## Applying KG Memory with LCEL\n",
    "\n",
    "Let's examine the memory after having a conversation using a custom `ConversationChain` with `ConversationKGMemory` by LCEL"
   ]
  },
  {
   "cell_type": "code",
   "execution_count": 13,
   "metadata": {},
   "outputs": [],
   "source": [
    "from operator import itemgetter\n",
    "from langchain_community.memory.kg import ConversationKGMemory\n",
    "from langchain_core.prompts import ChatPromptTemplate, MessagesPlaceholder\n",
    "from langchain_core.runnables import RunnableLambda, RunnablePassthrough\n",
    "\n",
    "prompt = ChatPromptTemplate.from_messages(\n",
    "    [\n",
    "        (\n",
    "            \"system\",\n",
    "            \"\"\"The following is a friendly conversation between a human and an AI. \n",
    "The AI is talkative and provides lots of specific details from its context. \n",
    "If the AI does not know the answer to a question, it truthfully says it does not know. \n",
    "The AI ONLY uses information contained in the \"Relevant Information\" section and does not hallucinate.\n",
    "\n",
    "Relevant Information:\n",
    "{history}\"\"\",\n",
    "        ),\n",
    "        MessagesPlaceholder(variable_name=\"history\"),\n",
    "        (\"human\", \"{input}\"),\n",
    "    ]\n",
    ")\n",
    "\n",
    "memory = ConversationKGMemory(llm=llm, return_messages=True, memory_key=\"history\")\n",
    "\n",
    "\n",
    "class ConversationChain:\n",
    "    def __init__(self, prompt, llm, memory):\n",
    "        self.memory = memory\n",
    "        self.chain = (\n",
    "            RunnablePassthrough()\n",
    "            | RunnablePassthrough.assign(\n",
    "                history=RunnableLambda(memory.load_memory_variables)\n",
    "                | itemgetter(\"history\")\n",
    "            )\n",
    "            | prompt\n",
    "            | llm\n",
    "        )\n",
    "\n",
    "    def invoke(self, input_dict):\n",
    "        response = self.chain.invoke(input_dict)\n",
    "        self.memory.save_context(input_dict, {\"output\": response.content})\n",
    "        return response\n",
    "\n",
    "\n",
    "conversation_with_kg = ConversationChain(prompt, llm, memory)"
   ]
  },
  {
   "cell_type": "code",
   "execution_count": 14,
   "metadata": {},
   "outputs": [
    {
     "data": {
      "text/plain": [
       "\"Hello Teddy! It's nice to meet you. It sounds like you and Shelly work together at your company. As a new designer, Shelly must be excited to bring fresh ideas to the team. How are you finding working with her so far?\""
      ]
     },
     "execution_count": 14,
     "metadata": {},
     "output_type": "execute_result"
    }
   ],
   "source": [
    "response = conversation_with_kg.invoke(\n",
    "    {\n",
    "        \"input\": \"My name is Teddy. Shelly is a coworker of mine, and she's a new designer at our company.\"\n",
    "    }\n",
    ")\n",
    "response.content"
   ]
  },
  {
   "cell_type": "code",
   "execution_count": 15,
   "metadata": {},
   "outputs": [
    {
     "data": {
      "text/plain": [
       "{'history': [SystemMessage(content='On Shelly: Shelly is a coworker of Teddy. Shelly is a new designer at company.', additional_kwargs={}, response_metadata={})]}"
      ]
     },
     "execution_count": 15,
     "metadata": {},
     "output_type": "execute_result"
    }
   ],
   "source": [
    "conversation_with_kg.memory.load_memory_variables({\"input\": \"who is Shelly?\"})"
   ]
  },
  {
   "cell_type": "code",
   "execution_count": 16,
   "metadata": {},
   "outputs": [
    {
     "data": {
      "text/plain": [
       "{'history': []}"
      ]
     },
     "execution_count": 16,
     "metadata": {},
     "output_type": "execute_result"
    }
   ],
   "source": [
    "conversation_with_kg.memory.clear()\n",
    "conversation_with_kg.memory.load_memory_variables({\"input\": \"who is Shelly?\"})"
   ]
  }
 ],
 "metadata": {
  "kernelspec": {
   "display_name": "langchain",
   "language": "python",
   "name": "python3"
  },
  "language_info": {
   "codemirror_mode": {
    "name": "ipython",
    "version": 3
   },
   "file_extension": ".py",
   "mimetype": "text/x-python",
   "name": "python",
   "nbconvert_exporter": "python",
   "pygments_lexer": "ipython3",
   "version": "3.10.16"
  }
 },
 "nbformat": 4,
 "nbformat_minor": 2
}
