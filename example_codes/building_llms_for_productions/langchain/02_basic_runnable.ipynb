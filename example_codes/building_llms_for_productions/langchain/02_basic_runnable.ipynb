{
 "cells": [
  {
   "cell_type": "markdown",
   "metadata": {},
   "source": [
    "# Runnable\n",
    "\n",
    "### **Overview**\n",
    "\n",
    "Các đối tượng `Runnable` của LangChain cung cấp một phương pháp mô-đun và linh hoạt để thiết kế quy trình làm việc bằng cách cho phép xâu chuỗi, thực thi song song và biến đổi dữ liệu. Những tiện ích này cho phép xử lý hiệu quả các đầu vào và đầu ra có cấu trúc, với chi phí mã tối thiểu.\n",
    "\n",
    "**Các thành phần chính là:**\n",
    "\n",
    "* `RunnableLambda`: Một tiện ích nhẹ cho phép áp dụng logic tùy chỉnh thông qua các hàm lambda, lý tưởng cho việc biến đổi dữ liệu động và nhanh chóng.\n",
    "* `RunnablePassthrough`: Được thiết kế để truyền dữ liệu đầu vào không thay đổi hoặc tăng cường nó bằng các thuộc tính bổ sung khi kết hợp với phương thức `.assign()`.\n",
    "* `itemgetter`: Một tiện ích mô-đun `operator` của Python để trích xuất hiệu quả các khóa hoặc chỉ mục cụ thể từ dữ liệu có cấu trúc như từ điển hoặc bộ tuple.\n",
    "\n",
    "Những công cụ này có thể được kết hợp để xây dựng các quy trình làm việc mạnh mẽ, chẳng hạn như:\n",
    "\n",
    "* Trích xuất và xử lý các phần tử dữ liệu cụ thể bằng `itemgetter`.\n",
    "* Thực hiện các biến đổi tùy chỉnh với `RunnableLambda`.\n",
    "* Tạo các pipeline dữ liệu đầu cuối với chuỗi `Runnable`.\n",
    "\n",
    "Bằng cách tận dụng các thành phần này, người dùng có thể thiết kế các pipeline có thể mở rộng và tái sử dụng cho các quy trình làm việc học máy và xử lý dữ liệu.\n"
   ]
  },
  {
   "cell_type": "markdown",
   "metadata": {},
   "source": [
    "### **RunnablePassthrough là gì?**\n",
    "\n",
    "`RunnablePassthrough` là một lớp trong LangChain thuộc module `langchain_core.runnables`, được thiết kế để truyền dữ liệu đầu vào qua mà không thay đổi nó hoặc bổ sung thêm các khóa (keys) vào đầu ra nếu cần. Nó hoạt động gần giống như một hàm \"identity\" (hàm giữ nguyên giá trị đầu vào), nhưng có thể được cấu hình để thêm thông tin bổ sung khi đầu vào là một từ điển (dictionary). \n",
    "\n",
    "`RunnablePassthrough` thường được sử dụng cùng với `RunnableParallel` để truyền dữ liệu từ một bước trước đó trong chuỗi (chain) sang một bước sau mà không cần biến đổi, giúp định dạng dữ liệu một cách linh hoạt trong các ứng dụng phức tạp như Retrieval-Augmented Generation (RAG).\n",
    "\n",
    "### **Khi nào sử dụng RunnablePassthrough?**\n",
    "- Khi bạn muốn giữ nguyên đầu vào và truyền nó sang bước tiếp theo trong chuỗi.\n",
    "- Khi cần kết hợp dữ liệu gốc với dữ liệu đã được xử lý trong một chuỗi song song (`RunnableParallel`).\n",
    "- Đặc biệt hữu ích trong các ứng dụng RAG, nơi bạn cần truyền câu hỏi của người dùng (query) cùng với ngữ cảnh (context) được truy xuất từ bộ nhớ vector.\n",
    "\n",
    "### **Cách hoạt động của RunnablePassthrough**\n",
    "- **Đầu vào**: Bất kỳ dữ liệu nào (có thể là chuỗi, số, từ điển, v.v.).\n",
    "- **Đầu ra**: Dữ liệu đầu vào được giữ nguyên hoặc được bổ sung thêm các khóa nếu sử dụng phương thức `assign`.\n",
    "- **Tính năng chính**: Là một phần của giao diện `Runnable` tiêu chuẩn, nó hỗ trợ các phương thức như `invoke`, `stream`, `batch`, và cả các phiên bản bất đồng bộ (`ainvoke`, `astream`, `abatch`).\n",
    "\n",
    "### **Hướng dẫn sử dụng chi tiết**\n",
    "\n",
    "Để sử dụng `RunnablePassthrough`, bạn cần import nó từ `langchain_core.runnables` và tích hợp nó vào chuỗi xử lý của bạn. Dưới đây là các bước và ví dụ minh họa.\n",
    "\n",
    "#### **1. Cài đặt môi trường**\n",
    "Trước tiên, đảm bảo bạn đã cài đặt LangChain:\n",
    "```bash\n",
    "pip install langchain\n",
    "```\n",
    "\n",
    "#### **2. Ví dụ cơ bản: Truyền dữ liệu không thay đổi**\n",
    "```python\n",
    "from langchain_core.runnables import RunnablePassthrough\n",
    "\n",
    "# Tạo một RunnablePassthrough\n",
    "passthrough = RunnablePassthrough()\n",
    "\n",
    "# Thực thi với một đầu vào đơn giản\n",
    "result = passthrough.invoke(\"Hello, world!\")\n",
    "print(result)  # Output: \"Hello, world!\"\n",
    "```\n",
    "Trong ví dụ này, `RunnablePassthrough` chỉ đơn giản truyền chuỗi đầu vào mà không thay đổi gì.\n",
    "\n",
    "#### **3. Kết hợp với RunnableParallel**\n",
    "`RunnablePassthrough` thường được sử dụng trong `RunnableParallel` để truyền dữ liệu gốc cùng với dữ liệu đã xử lý.\n",
    "\n",
    "```python\n",
    "from langchain_core.runnables import RunnableParallel, RunnablePassthrough\n",
    "\n",
    "# Tạo một chuỗi song song\n",
    "runnable = RunnableParallel(\n",
    "    passed=RunnablePassthrough(),  # Truyền dữ liệu gốc\n",
    "    modified=lambda x: x + 1       # Xử lý dữ liệu: cộng thêm 1\n",
    ")\n",
    "\n",
    "# Thực thi với đầu vào là một từ điển\n",
    "result = runnable.invoke({\"num\": 1})\n",
    "print(result)  # Output: {'passed': {'num': 1}, 'modified': 2}\n",
    "```\n",
    "- **Giải thích**: \n",
    "  - `passed` giữ nguyên đầu vào `{\"num\": 1}`.\n",
    "  - `modified` thực hiện phép tính cộng 1 vào giá trị của `num`, trả về 2.\n",
    "\n",
    "#### **4. Sử dụng trong RAG (Retrieval-Augmented Generation)**\n",
    "Dưới đây là một ví dụ thực tế hơn, nơi `RunnablePassthrough` được dùng để truyền câu hỏi của người dùng trong khi truy xuất ngữ cảnh từ một vector store.\n",
    "\n",
    "```python\n",
    "from langchain_community.vectorstores import FAISS\n",
    "from langchain_core.output_parsers import StrOutputParser\n",
    "from langchain_core.prompts import ChatPromptTemplate\n",
    "from langchain_core.runnables import RunnableParallel, RunnablePassthrough\n",
    "from langchain_openai import ChatOpenAI, OpenAIEmbeddings\n",
    "\n",
    "# Tạo vector store với dữ liệu mẫu\n",
    "vectorstore = FAISS.from_texts(\n",
    "    [\"Harrison làm việc tại Kensho\"], \n",
    "    embedding=OpenAIEmbeddings()\n",
    ")\n",
    "retriever = vectorstore.as_retriever()\n",
    "\n",
    "# Định nghĩa prompt\n",
    "template = \"\"\"Trả lời câu hỏi dựa trên ngữ cảnh sau: {context}\n",
    "Câu hỏi: {question}\"\"\"\n",
    "prompt = ChatPromptTemplate.from_template(template)\n",
    "\n",
    "# Khởi tạo mô hình\n",
    "model = ChatOpenAI()\n",
    "\n",
    "# Tạo chuỗi truy xuất\n",
    "retrieval_chain = (\n",
    "    {\"context\": retriever, \"question\": RunnablePassthrough()}  # Truyền câu hỏi gốc\n",
    "    | prompt\n",
    "    | model\n",
    "    | StrOutputParser()\n",
    ")\n",
    "\n",
    "# Thực thi chuỗi\n",
    "result = retrieval_chain.invoke(\"Harrison làm việc ở đâu?\")\n",
    "print(result)  # Output: \"Harrison làm việc tại Kensho\"\n",
    "```\n",
    "- **Giải thích**:\n",
    "  - `{\"context\": retriever, \"question\": RunnablePassthrough()}`: \n",
    "    - `retriever` truy xuất ngữ cảnh từ vector store dựa trên câu hỏi.\n",
    "    - `RunnablePassthrough()` truyền câu hỏi gốc (`\"Harrison làm việc ở đâu?\"`) sang bước tiếp theo.\n",
    "  - Kết quả cuối cùng là câu trả lời dựa trên ngữ cảnh đã truy xuất.\n",
    "\n",
    "#### **5. Sử dụng với assign để bổ sung dữ liệu**\n",
    "Phương thức `assign` của `RunnablePassthrough` cho phép thêm các khóa mới vào đầu ra.\n",
    "\n",
    "```python\n",
    "from langchain_core.runnables import RunnablePassthrough\n",
    "\n",
    "# Giả lập một hàm LLM\n",
    "def fake_llm(prompt: str) -> str:\n",
    "    return \"completion\"\n",
    "\n",
    "# Tạo chuỗi với assign\n",
    "runnable = {\n",
    "    'llm1': fake_llm,\n",
    "    'llm2': fake_llm,\n",
    "} | RunnablePassthrough.assign(\n",
    "    total_chars=lambda inputs: len(inputs['llm1'] + inputs['llm2'])\n",
    ")\n",
    "\n",
    "# Thực thi\n",
    "result = runnable.invoke(\"hello\")\n",
    "print(result)  # Output: {'llm1': 'completion', 'llm2': 'completion', 'total_chars': 20}\n",
    "```\n",
    "- **Giải thích**:\n",
    "  - Đầu tiên, hai hàm `fake_llm` tạo ra các giá trị `\"completion\"`.\n",
    "  - `RunnablePassthrough.assign` giữ nguyên dữ liệu đầu vào và thêm khóa `total_chars` với giá trị là độ dài tổng của `llm1` và `llm2`.\n",
    "\n",
    "### **Lưu ý quan trọng**\n",
    "- **Tính linh hoạt**: `RunnablePassthrough` hỗ trợ cả xử lý đồng bộ (`invoke`) và bất đồng bộ (`ainvoke`), phù hợp với các ứng dụng thời gian thực.\n",
    "- **Kết hợp với LCEL**: Nó là một phần của LangChain Expression Language (LCEL), giúp xây dựng các chuỗi phức tạp một cách dễ dàng với cú pháp pipe (`|`).\n",
    "- **Hạn chế**: Nếu bạn chỉ cần biến đổi dữ liệu mà không cần giữ nguyên đầu vào, có thể không cần dùng `RunnablePassthrough`.\n",
    "\n",
    "### **Kết luận**\n",
    "`RunnablePassthrough` là một công cụ mạnh mẽ và đơn giản trong LangChain để quản lý luồng dữ liệu trong các chuỗi xử lý. Nó đặc biệt hữu ích khi bạn cần truyền dữ liệu gốc qua nhiều bước hoặc kết hợp với dữ liệu đã xử lý. Với các ví dụ trên, bạn có thể bắt đầu tích hợp nó vào dự án của mình một cách hiệu quả.\n"
   ]
  },
  {
   "cell_type": "code",
   "execution_count": 1,
   "metadata": {},
   "outputs": [
    {
     "data": {
      "text/plain": [
       "True"
      ]
     },
     "execution_count": 1,
     "metadata": {},
     "output_type": "execute_result"
    }
   ],
   "source": [
    "from dotenv import load_dotenv\n",
    "\n",
    "load_dotenv(override=True, dotenv_path=\"../.env\")"
   ]
  },
  {
   "cell_type": "code",
   "execution_count": 2,
   "metadata": {},
   "outputs": [],
   "source": [
    "from langchain_core.prompts import PromptTemplate\n",
    "from langchain_openai import ChatOpenAI\n",
    "from langchain_core.output_parsers import StrOutputParser\n",
    "\n",
    "prompt = PromptTemplate.from_template(\"What is 10 times {num}\")\n",
    "llm = ChatOpenAI(model_name=\"gpt-3.5-turbo\", temperature=0.0)\n",
    "\n",
    "chain = prompt | llm | StrOutputParser()"
   ]
  },
  {
   "cell_type": "code",
   "execution_count": 3,
   "metadata": {},
   "outputs": [
    {
     "data": {
      "text/plain": [
       "'10 times 5 is equal to 50.'"
      ]
     },
     "execution_count": 3,
     "metadata": {},
     "output_type": "execute_result"
    }
   ],
   "source": [
    "chain.invoke({\"num\": 5})"
   ]
  },
  {
   "cell_type": "markdown",
   "metadata": {},
   "source": [
    "However, with the update to the LangChain library, if the template includes only one variable, it is also possible to pass just the value directly."
   ]
  },
  {
   "cell_type": "code",
   "execution_count": 4,
   "metadata": {},
   "outputs": [
    {
     "data": {
      "text/plain": [
       "'10 times 5 is equal to 50.'"
      ]
     },
     "execution_count": 4,
     "metadata": {},
     "output_type": "execute_result"
    }
   ],
   "source": [
    "chain.invoke(5)"
   ]
  },
  {
   "cell_type": "code",
   "execution_count": 5,
   "metadata": {},
   "outputs": [
    {
     "data": {
      "text/plain": [
       "{'num': 5}"
      ]
     },
     "execution_count": 5,
     "metadata": {},
     "output_type": "execute_result"
    }
   ],
   "source": [
    "# Using RunnablePassthrough\n",
    "from langchain_core.runnables import RunnablePassthrough\n",
    "\n",
    "RunnablePassthrough().invoke({\"num\": 5})"
   ]
  },
  {
   "cell_type": "code",
   "execution_count": 7,
   "metadata": {},
   "outputs": [],
   "source": [
    "runnable_chain = {\"num\": RunnablePassthrough()} | prompt | llm | StrOutputParser()\n"
   ]
  },
  {
   "cell_type": "code",
   "execution_count": 8,
   "metadata": {},
   "outputs": [
    {
     "data": {
      "text/plain": [
       "'10 times 4 is equal to 40.'"
      ]
     },
     "execution_count": 8,
     "metadata": {},
     "output_type": "execute_result"
    }
   ],
   "source": [
    "runnable_chain.invoke(4)"
   ]
  },
  {
   "cell_type": "code",
   "execution_count": 9,
   "metadata": {},
   "outputs": [
    {
     "data": {
      "text/plain": [
       "{'num': 1, 'new_num': 3}"
      ]
     },
     "execution_count": 9,
     "metadata": {},
     "output_type": "execute_result"
    }
   ],
   "source": [
    "# Input key: num, Assigned key: new_num\n",
    "(RunnablePassthrough.assign(new_num=lambda x: x[\"num\"] * 3)).invoke({\"num\": 1})"
   ]
  },
  {
   "cell_type": "code",
   "execution_count": 14,
   "metadata": {},
   "outputs": [],
   "source": [
    "runnable_chain = (RunnablePassthrough.assign(num=lambda x: x[\"num\"] * 3)) | prompt | llm | StrOutputParser()"
   ]
  },
  {
   "cell_type": "code",
   "execution_count": 15,
   "metadata": {},
   "outputs": [
    {
     "data": {
      "text/plain": [
       "'10 times 15 is equal to 150.'"
      ]
     },
     "execution_count": 15,
     "metadata": {},
     "output_type": "execute_result"
    }
   ],
   "source": [
    "runnable_chain.invoke({\"num\": 5})"
   ]
  },
  {
   "cell_type": "markdown",
   "metadata": {},
   "source": [
    "## Efficient Parallel Execution with RunnableParallel\n",
    "\n",
    "`RunnableParallel` là một tiện ích được thiết kế để thực thi nhiều đối tượng `Runnable` đồng thời, hợp lý hóa các quy trình làm việc yêu cầu xử lý song song. Nó phân phối dữ liệu đầu vào trên các thành phần khác nhau, thu thập kết quả của chúng và kết hợp chúng thành một đầu ra thống nhất. Chức năng này biến nó thành một công cụ mạnh mẽ để tối ưu hóa quy trình làm việc nơi các tác vụ có thể được thực hiện độc lập và đồng thời.\n",
    "\n",
    "**Thực thi đồng thời (Concurrent Execution)**\n",
    "\n",
    "Thực thi nhiều đối tượng `Runnable` cùng một lúc, giảm thời gian cần thiết cho các tác vụ có thể được song song hóa.\n",
    "\n",
    "**Quản lý đầu ra thống nhất (Unified Output Management)**\n",
    "\n",
    "Kết hợp kết quả từ tất cả các lần thực thi song song thành một đầu ra đơn lẻ, mạch lạc, đơn giản hóa quá trình xử lý tiếp theo (downstream processing).\n",
    "\n",
    "**Tính linh hoạt (Flexibility)**\n",
    "\n",
    "Có thể xử lý nhiều loại đầu vào đa dạng và hỗ trợ các quy trình làm việc phức tạp bằng cách phân phối khối lượng công việc một cách hiệu quả.\n"
   ]
  },
  {
   "cell_type": "code",
   "execution_count": 16,
   "metadata": {},
   "outputs": [],
   "source": [
    "from langchain_core.runnables import RunnableParallel\n",
    "\n",
    "# Create an instance of RunnableParallel. This instance allows multiple Runnable objects to be executed in parallel.\n",
    "runnable = RunnableParallel(\n",
    "    # Pass a RunnablePassthrough instance as the 'passed' keyword argument. This simply passes the input data through without modification.\n",
    "    passed=RunnablePassthrough(),\n",
    "    # Use RunnablePassthrough.assign as the 'extra' keyword argument to assign a lambda function 'mult'. \n",
    "    # This function multiplies the value associated with the 'num' key in the input dictionary by 3.\n",
    "    extra=RunnablePassthrough().assign(mult=lambda x: x[\"num\"] * 3),\n",
    "    # Pass a lambda function as the 'modified' keyword argument. \n",
    "    # This function adds 1 to the value associated with the 'num' key in the input dictionary.\n",
    "    modified=lambda x: x['num'] + 1\n",
    ")\n"
   ]
  },
  {
   "cell_type": "code",
   "execution_count": 17,
   "metadata": {},
   "outputs": [
    {
     "data": {
      "text/plain": [
       "{'passed': {'num': 1}, 'extra': {'num': 1, 'mult': 3}, 'modified': 2}"
      ]
     },
     "execution_count": 17,
     "metadata": {},
     "output_type": "execute_result"
    }
   ],
   "source": [
    "runnable.invoke({\"num\": 1})\n",
    "\n",
    "# {\n",
    "#     \"passed\": {\"num\": 1},\n",
    "#     \"extra\": {\"num\": 1, \"mult\": 3},\n",
    "#     \"modified\": {\"num\": 2}\n",
    "# }"
   ]
  },
  {
   "cell_type": "markdown",
   "metadata": {},
   "source": [
    "Chains can also be applied to `RunnableParallel`."
   ]
  },
  {
   "cell_type": "code",
   "execution_count": 19,
   "metadata": {},
   "outputs": [
    {
     "data": {
      "text/plain": [
       "{'capital': 'Thủ đô của Việt Nam là Hà Nội.',\n",
       " 'food': 'Việt Nam có rất nhiều món ăn ngon và phong phú, một số món ăn nổi tiếng và được yêu thích bao gồm:\\n\\n1. Phở: Một trong những món ăn đặc trưng của Việt Nam, phở là một loại súp gồm nước dùng thơm ngon, bún và thịt bò hoặc gà, được ăn kèm với rau sống, giá đỗ và các loại gia vị.\\n\\n2. Bánh mì: Một loại bánh mì Việt Nam với nhân đa dạng như thịt heo, thịt gà, pate, chả lụa, trứng, rau sống và sốt mayonnaise.\\n\\n3. Bún chả: Một món ăn truyền thống của Hà Nội, bún chả bao gồm bún (bún đậu hoặc bún rối), thịt nướng và nước mắm chua ngọt.\\n\\n4. Cơm tấm: Một món ăn phổ biến ở miền Nam Việt Nam, cơm tấm gồm cơm, thịt heo nướng, trứng ốp la, dưa leo, cà chua và nước mắm.\\n\\n5. Gỏi cuốn: Một món ăn truyền thống của Việt Nam, gỏi cuốn bao gồm các loại rau sống, tôm, thịt, bún và được cuốn trong lá bánh tráng, ăn kèm với nước mắm pha chua ngọt.\\n\\nĐây chỉ là một số món ăn ngon ở Việt Nam, còn rất nhiều món khác đáng thử khi bạn đến thăm đất nước này.'}"
      ]
     },
     "execution_count": 19,
     "metadata": {},
     "output_type": "execute_result"
    }
   ],
   "source": [
    "chain1 = (\n",
    "    {\"country\": RunnablePassthrough()}\n",
    "    | PromptTemplate.from_template(\"Món ăn ngon ở {country} là gì?\")\n",
    "    | llm\n",
    "    | StrOutputParser()\n",
    ")\n",
    "\n",
    "chain2 = (\n",
    "    {\"country\": RunnablePassthrough()}\n",
    "    | PromptTemplate.from_template(\"Thủ đô của {country} là gì?\")\n",
    "    | llm\n",
    "    | StrOutputParser()\n",
    ")\n",
    "\n",
    "runnable_chain = RunnableParallel(capital=chain2, food=chain1)\n",
    "runnable_chain.invoke(\"Việt Nam\")\n"
   ]
  },
  {
   "cell_type": "markdown",
   "metadata": {},
   "source": [
    "## Dynamic Processing with RunnableLambda\n",
    "\n",
    "\n",
    "`RunnableLambda` là một tiện ích linh hoạt cho phép các nhà phát triển xác định logic biến đổi dữ liệu tùy chỉnh bằng cách sử dụng các hàm lambda. Bằng cách cho phép triển khai nhanh chóng và dễ dàng các quy trình xử lý tùy chỉnh, `RunnableLambda` đơn giản hóa việc tạo các pipeline dữ liệu phù hợp trong khi đảm bảo chi phí thiết lập tối thiểu.\n",
    "\n",
    "**Biến đổi dữ liệu tùy chỉnh (Customizable Data Transformation)**\n",
    "\n",
    "Cho phép người dùng xác định logic tùy chỉnh để biến đổi dữ liệu đầu vào bằng cách sử dụng các hàm lambda, mang lại tính linh hoạt vô song.\n",
    "\n",
    "**Nhẹ và đơn giản (Lightweight and Simple)**\n",
    "\n",
    "Cung cấp một cách đơn giản để triển khai xử lý ad-hoc mà không cần định nghĩa lớp hoặc hàm mở rộng.\n"
   ]
  },
  {
   "cell_type": "code",
   "execution_count": 30,
   "metadata": {},
   "outputs": [
    {
     "data": {
      "text/plain": [
       "'Mar-08'"
      ]
     },
     "execution_count": 30,
     "metadata": {},
     "output_type": "execute_result"
    }
   ],
   "source": [
    "from datetime import datetime\n",
    "\n",
    "def get_today(a=None):\n",
    "    return datetime.today().strftime(\"%b-%d\")\n",
    "\n",
    "get_today(None)"
   ]
  },
  {
   "cell_type": "code",
   "execution_count": 32,
   "metadata": {},
   "outputs": [
    {
     "data": {
      "text/plain": [
       "StringPromptValue(text='List 3 famous people whose birthday is on Mar-08. Include their date of birth.')"
      ]
     },
     "execution_count": 32,
     "metadata": {},
     "output_type": "execute_result"
    }
   ],
   "source": [
    "from langchain_core.runnables import RunnableLambda, RunnablePassthrough\n",
    "\n",
    "prompt = PromptTemplate.from_template(\"List {n} famous people whose birthday is on {today}. Include their date of birth.\")\n",
    "\n",
    "chain = (\n",
    "    {\"today\": RunnableLambda(get_today), \"n\": RunnablePassthrough()}\n",
    "    | prompt\n",
    ")\n",
    "\n",
    "chain.invoke(3)"
   ]
  },
  {
   "cell_type": "markdown",
   "metadata": {},
   "source": [
    "## Extracting Specific Keys Using `itemgetter`\n",
    "\n",
    "`itemgetter` là một hàm tiện ích từ module `operator` của Python với các tính năng và lợi ích sau:\n",
    "\n",
    "**Chức năng cốt lõi**\n",
    "\n",
    "* Trích xuất hiệu quả các giá trị từ các khóa hoặc chỉ mục cụ thể trong từ điển (dictionaries), bộ (tuples) và danh sách (lists)\n",
    "* Có khả năng trích xuất nhiều khóa hoặc chỉ mục cùng lúc\n",
    "* Hỗ trợ phong cách lập trình hàm (functional programming style)\n",
    "\n",
    "**Tối ưu hóa hiệu suất**\n",
    "\n",
    "* Hiệu quả hơn so với lập chỉ mục thông thường cho các thao tác truy cập khóa lặp đi lặp lại\n",
    "* Tối ưu hóa việc sử dụng bộ nhớ\n",
    "* Lợi thế về hiệu suất khi xử lý các tập dữ liệu lớn (large datasets)\n",
    "\n",
    "**Sử dụng trong LangChain**\n",
    "\n",
    "* Lọc dữ liệu trong các thành phần chuỗi (chain compositions)\n",
    "* Trích xuất có chọn lọc từ các cấu trúc đầu vào phức tạp\n",
    "* Kết hợp với các đối tượng `Runnable` khác để tiền xử lý dữ liệu (data preprocessing)\n"
   ]
  },
  {
   "cell_type": "code",
   "execution_count": 38,
   "metadata": {},
   "outputs": [],
   "source": [
    "from operator import itemgetter\n",
    "\n",
    "from langchain_core.prompts import ChatPromptTemplate\n",
    "from langchain_core.runnables import RunnableLambda\n",
    "\n",
    "# Function that returns the length of a sentence.\n",
    "def length_function(text):\n",
    "    return len(text)\n",
    "\n",
    "# Function that returns the product of the lengths of two sentences.\n",
    "def _multiple_length_function(text1, text2):\n",
    "    return len(text1) * len(text2)\n",
    "\n",
    "# Function that uses _multiple_length_function to return the product of the lengths of two sentences.\n",
    "def multiple_length_function(_dict):\n",
    "    return _multiple_length_function(_dict['text1'], _dict['text2'])\n",
    "\n",
    "prompt = ChatPromptTemplate.from_template(\"What is {a} + {b}?\")\n",
    "\n",
    "chain = (\n",
    "    {\n",
    "        \"a\": itemgetter('word1') | RunnableLambda(len),\n",
    "        \"b\": {\"text1\": itemgetter(\"word1\"), \"text2\": itemgetter(\"word2\")} | RunnableLambda(multiple_length_function)\n",
    "    }\n",
    "    | prompt\n",
    ")\n"
   ]
  },
  {
   "cell_type": "code",
   "execution_count": 39,
   "metadata": {},
   "outputs": [
    {
     "data": {
      "text/plain": [
       "ChatPromptValue(messages=[HumanMessage(content='What is 5 + 25?', additional_kwargs={}, response_metadata={})])"
      ]
     },
     "execution_count": 39,
     "metadata": {},
     "output_type": "execute_result"
    }
   ],
   "source": [
    "test = {\"word1\": \"Hello\", \"word2\": \"World\"}\n",
    "chain.invoke(test)"
   ]
  }
 ],
 "metadata": {
  "kernelspec": {
   "display_name": "langchain",
   "language": "python",
   "name": "python3"
  },
  "language_info": {
   "codemirror_mode": {
    "name": "ipython",
    "version": 3
   },
   "file_extension": ".py",
   "mimetype": "text/x-python",
   "name": "python",
   "nbconvert_exporter": "python",
   "pygments_lexer": "ipython3",
   "version": "3.10.16"
  }
 },
 "nbformat": 4,
 "nbformat_minor": 2
}
