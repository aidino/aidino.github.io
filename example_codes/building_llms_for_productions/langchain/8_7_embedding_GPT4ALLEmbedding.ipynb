{
 "cells": [
  {
   "cell_type": "markdown",
   "metadata": {},
   "source": [
    "# GPT4ALL\n",
    "\n",
    "`GPT4All` là một chatbot bảo mật dựa trên thực thi cục bộ có thể được sử dụng miễn phí.\n",
    "\n",
    "Không yêu cầu GPU hoặc kết nối internet, và `GPT4All` cung cấp các mô hình phổ biến như GPT4All Falcon, Wizard và các mô hình riêng của nó.\n",
    "\n",
    "Notebook này giải thích cách sử dụng `GPT4Allembeddings` với `LangChain`.\n"
   ]
  },
  {
   "cell_type": "markdown",
   "metadata": {},
   "source": [
    "[READ MORE](https://github.com/aidino/LangChain-OpenTutorial/blob/main/08-Embedding/07-GPT4ALLEmbedding.ipynb)"
   ]
  },
  {
   "cell_type": "markdown",
   "metadata": {},
   "source": []
  }
 ],
 "metadata": {
  "language_info": {
   "name": "python"
  }
 },
 "nbformat": 4,
 "nbformat_minor": 2
}
