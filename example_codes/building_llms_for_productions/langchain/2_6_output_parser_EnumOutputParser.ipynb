{
 "cells": [
  {
   "cell_type": "markdown",
   "metadata": {},
   "source": [
    "# EnumOutputParser\n",
    "\n",
    "Trong hướng dẫn này, chúng ta sẽ giới thiệu cách sử dụng `EnumOutputParser` để **trích xuất các giá trị Enum hợp lệ** từ đầu ra của LLM.\n",
    "\n",
    "`EnumOutputParser` là một công cụ phân tích đầu ra của mô hình ngôn ngữ thành **một trong các giá trị liệt kê (Enum) được xác định trước**, cung cấp các tính năng sau:\n",
    "\n",
    "- Phân tích liệt kê (Enumeration Parsing): Chuyển đổi đầu ra dạng chuỗi thành một giá trị `Enum` được xác định trước.\n",
    "- An toàn kiểu dữ liệu (Type Safety): Đảm bảo rằng kết quả được phân tích cú pháp luôn là một trong các giá trị `Enum` đã xác định.\n",
    "- Tính linh hoạt (Flexibility): Tự động xử lý khoảng trắng và dấu ngắt dòng.\n"
   ]
  },
  {
   "cell_type": "code",
   "execution_count": 1,
   "metadata": {},
   "outputs": [],
   "source": [
    "# Setup environment\n",
    "import os\n",
    "from dotenv import load_dotenv\n",
    "from langchain_openai import ChatOpenAI\n",
    "\n",
    "load_dotenv(override=True, dotenv_path=\"../.env\")\n",
    "\n",
    "llm = ChatOpenAI(model_name=\"gpt-3.5-turbo\", temperature=0.0)"
   ]
  },
  {
   "cell_type": "code",
   "execution_count": 3,
   "metadata": {},
   "outputs": [],
   "source": [
    "# Import EnumOutputParser\n",
    "from langchain.output_parsers.enum import EnumOutputParser\n",
    "from enum import Enum\n",
    "\n",
    "class Colors(Enum):\n",
    "    RED = \"Red\"\n",
    "    GREEN = \"Green\"\n",
    "    BLUE = \"Blue\""
   ]
  },
  {
   "cell_type": "code",
   "execution_count": 4,
   "metadata": {},
   "outputs": [
    {
     "name": "stdout",
     "output_type": "stream",
     "text": [
      "Select one of the following options: Red, Green, Blue\n"
     ]
    }
   ],
   "source": [
    "# Instantiate EnumOutputParser\n",
    "parser = EnumOutputParser(enum=Colors)\n",
    "\n",
    "# You can view the format instructions that the parser expects.\n",
    "print(parser.get_format_instructions())"
   ]
  },
  {
   "cell_type": "code",
   "execution_count": 5,
   "metadata": {},
   "outputs": [],
   "source": [
    "from langchain_core.prompts import PromptTemplate\n",
    "from langchain_openai import ChatOpenAI\n",
    "\n",
    "# Prompt template: the parser's format instructions are added at the end.\n",
    "prompt = (\n",
    "    PromptTemplate.from_template(\n",
    "        \"\"\"Which color is this object?\n",
    "\n",
    "Object: {object}\n",
    "\n",
    "Instructions: {instructions}\"\"\"\n",
    "    ).partial(instructions=parser.get_format_instructions())\n",
    ")\n",
    "\n",
    "# Entire chain: (prompt) -> (LLM) -> (Enum Parser)\n",
    "chain = prompt | llm | parser"
   ]
  },
  {
   "cell_type": "code",
   "execution_count": 6,
   "metadata": {},
   "outputs": [
    {
     "name": "stdout",
     "output_type": "stream",
     "text": [
      "Parsed Enum: Colors.BLUE\n",
      "Raw Enum Value: Blue\n"
     ]
    }
   ],
   "source": [
    "response = chain.invoke({\"object\": \"sky\"})\n",
    "print(\"Parsed Enum:\", response)\n",
    "print(\"Raw Enum Value:\", response.value)"
   ]
  },
  {
   "cell_type": "code",
   "execution_count": null,
   "metadata": {},
   "outputs": [],
   "source": []
  }
 ],
 "metadata": {
  "kernelspec": {
   "display_name": "langchain",
   "language": "python",
   "name": "python3"
  },
  "language_info": {
   "codemirror_mode": {
    "name": "ipython",
    "version": 3
   },
   "file_extension": ".py",
   "mimetype": "text/x-python",
   "name": "python",
   "nbconvert_exporter": "python",
   "pygments_lexer": "ipython3",
   "version": "3.10.16"
  }
 },
 "nbformat": 4,
 "nbformat_minor": 2
}
