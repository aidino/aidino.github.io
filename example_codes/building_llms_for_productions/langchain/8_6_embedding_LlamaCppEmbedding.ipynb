{
 "cells": [
  {
   "cell_type": "markdown",
   "metadata": {},
   "source": [
    "# LlamaCpp Embeddings With Langchain\n",
    "\n",
    "Hướng dẫn này bao gồm cách thực hiện **Text Embedding** sử dụng **Llama-cpp** và **Langchain**.\n",
    "\n",
    "**Llama-cpp** là một gói mã nguồn mở được triển khai bằng C++ cho phép bạn sử dụng LLMs như llama một cách hiệu quả tại chỗ.\n",
    "\n",
    "Trong hướng dẫn này, chúng ta sẽ tạo một ví dụ đơn giản để đo độ tương đồng giữa các `Documents` và một `Query` đầu vào sử dụng **Llama-cpp** và **Langchain**.\n"
   ]
  },
  {
   "cell_type": "markdown",
   "metadata": {},
   "source": [
    "## Llama-cpp Installation and Model Serving\n",
    "\n",
    "Llama-cpp là một dự án mã nguồn mở giúp dễ dàng chạy các mô hình ngôn ngữ lớn (LLMs) cục bộ. Nó cho phép bạn tải xuống và chạy các LLMs khác nhau trên máy tính của riêng bạn, mang lại cho bạn sự tự do thử nghiệm với các mô hình AI.\n",
    "\n",
    "Để cài đặt **llama-cpp-python**:\n",
    "```bash\n",
    "pip install llama-cpp-python\n",
    "```\n",
    "\n",
    "1. Đảm bảo bạn có môi trường cần thiết để biên dịch C++ (ví dụ: trên Linux hoặc macOS).\n",
    "2. Tải xuống hoặc chỉ định tệp mô hình embedding bạn đã chọn (ví dụ: `CompendiumLabs/bge-large-en-v1.5-gguf`).\n",
    "3. Ở đây, chúng ta sử dụng `bge-large-en-v1.5-q8_0.gguf` làm ví dụ và bạn có thể tải xuống từ [CompendiumLabs/bge-large-en-v1.5-gguf - Hugging Face](https://huggingface.co/CompendiumLabs/bge-large-en-v1.5-gguf/tree/main).\n",
    "4. Kiểm tra xem `llama-cpp-python` có thể tìm thấy đường dẫn mô hình hay không.\n",
    "\n",
    "Dưới đây, chúng ta sẽ minh họa cách phục vụ mô hình LLaMA bằng Llama-cpp. Bạn có thể tham khảo tài liệu chính thức của [llama-cpp-python](https://github.com/abetlen/llama-cpp-python) để biết thêm chi tiết.\n"
   ]
  },
  {
   "cell_type": "markdown",
   "metadata": {},
   "source": [
    "## Identify Supported Embedding Models and Serving Model\n",
    "\n",
    "Bạn có thể tìm thấy nhiều mô hình embedding khác nhau, thường có các lượng tử hóa khác nhau (ví dụ: q4_0, q4_1, q5_0, q8_0, v.v.).\n",
    "\n",
    "**1. Tìm kiếm mô hình**\n",
    "- Bạn có thể tìm kiếm các mô hình trên Hugging Face hoặc các trang web cộng đồng khác.\n",
    "\n",
    "**2. Tải xuống hoặc Kéo Mô hình**\n",
    "- Ví dụ: bạn có thể tải xuống từ Hugging Face nếu mô hình được lưu trữ.\n",
    "\n",
    "**3. Xác minh Mô hình**\n",
    "- Kiểm tra xem tệp `.bin` (hoặc `.gguf`) có thể truy cập được trong môi trường của bạn hay không.\n",
    "\n",
    "## Model Load and Embedding\n",
    "\n",
    "Bây giờ bạn đã cài đặt `llama-cpp-python` và tải xuống một mô hình, hãy xem cách tải nó và sử dụng nó để embedding văn bản.\n",
    "\n",
    "Dưới đây, chúng ta sẽ định nghĩa một `Query` hoặc một số `Documents` để embedding bằng `Llama-cpp` trong LangChain.\n"
   ]
  },
  {
   "cell_type": "code",
   "execution_count": 1,
   "metadata": {},
   "outputs": [],
   "source": [
    "# Example query and documents\n",
    "query = \"What is LangChain?\"\n",
    "docs = [\n",
    "    \"LangChain is an open-source framework designed to facilitate the development of applications powered by large language models (LLMs). It provides tools and components to build end-to-end workflows for tasks like document retrieval, chatbots, summarization, data analysis, and more.\",\n",
    "    \"Spaghetti Carbonara is a traditional Italian pasta dish made with eggs, cheese, pancetta, and pepper. It's simple yet incredibly delicious. Typically served with spaghetti, but can also be enjoyed with other pasta types.\",\n",
    "    \"The tropical island of Bali offers stunning beaches, volcanic mountains, lush forests, and vibrant coral reefs. Travelers often visit for surfing, yoga retreats, and the unique Balinese Hindu culture.\",\n",
    "    \"C++ is a high-performance programming language widely used in system/software development, game programming, and real-time simulations. It supports both procedural and object-oriented paradigms.\",\n",
    "    \"In astronomy, the Drake Equation is a probabilistic argument used to estimate the number of active, communicative extraterrestrial civilizations in the Milky Way galaxy. It takes into account factors such as star formation rate and fraction of habitable planets.\",\n",
    "]"
   ]
  },
  {
   "cell_type": "markdown",
   "metadata": {},
   "source": [
    "### Load the Embedding Model\n",
    "\n",
    "Dưới đây là cách bạn có thể khởi tạo lớp `LlamaCppEmbeddings` bằng cách chỉ định đường dẫn đến tệp mô hình LLaMA của bạn (`model_path`).\n",
    "\n",
    "Ví dụ: bạn có thể có đường dẫn mô hình đã tải xuống: `./bge-large-en-v1.5-q8_0.gguf`.\n",
    "\n",
    "Chúng tôi minh họa cách khởi tạo lớp embeddings và sau đó embedding các query và document sử dụng Llama-cpp.\n"
   ]
  },
  {
   "cell_type": "markdown",
   "metadata": {},
   "source": [
    "[READ MORE](https://github.com/aidino/LangChain-OpenTutorial/blob/main/08-Embedding/06-LlamaCppEmbeddings.ipynb)"
   ]
  },
  {
   "cell_type": "markdown",
   "metadata": {},
   "source": []
  }
 ],
 "metadata": {
  "kernelspec": {
   "display_name": "langchain",
   "language": "python",
   "name": "python3"
  },
  "language_info": {
   "codemirror_mode": {
    "name": "ipython",
    "version": 3
   },
   "file_extension": ".py",
   "mimetype": "text/x-python",
   "name": "python",
   "nbconvert_exporter": "python",
   "pygments_lexer": "ipython3",
   "version": "3.10.16"
  }
 },
 "nbformat": 4,
 "nbformat_minor": 2
}
