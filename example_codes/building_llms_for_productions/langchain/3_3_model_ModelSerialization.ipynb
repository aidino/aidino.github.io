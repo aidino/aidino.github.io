{
 "cells": [
  {
   "cell_type": "markdown",
   "metadata": {},
   "source": [
    "# Model Serialization\n",
    "\n",
    "## Tổng quan\n",
    "\n",
    "Serialization (tuần tự hóa) là quá trình chuyển đổi một object thành một định dạng có thể dễ dàng được lưu trữ, chia sẻ hoặc truyền tải, và sau đó được tái tạo. Trong framework LangChain, các class triển khai các phương thức tiêu chuẩn cho serialization, mang lại một số lợi ích:\n",
    "\n",
    "- **Separation of Secrets**: Thông tin nhạy cảm, chẳng hạn như API keys, được tách biệt khỏi các parameters khác và có thể được tải lại một cách an toàn vào object trong quá trình deserialization (giải tuần tự hóa).\n",
    "\n",
    "- **Version Compatibility**: Deserialization vẫn tương thích giữa các phiên bản package khác nhau, đảm bảo rằng các object được serialized bằng một phiên bản của LangChain có thể được deserialized đúng cách bằng một phiên bản khác.\n",
    "\n",
    "Tất cả các object LangChain kế thừa từ `Serializable` đều có thể được JSON-serialized, bao gồm messages, document objects (ví dụ: những object được trả về từ retrievers), và hầu hết các Runnables như chat models, retrievers và chains được triển khai bằng LangChain Expression Language.\n",
    "\n",
    "### Lưu và Tải các Object LangChain\n",
    "\n",
    "Để quản lý hiệu quả các object LangChain, bạn có thể serialize và deserialize chúng bằng các functions sau:\n",
    "\n",
    "- **`dumpd`**: Trả về một dictionary representation của một object, phù hợp cho JSON serialization.\n",
    "\n",
    "- **`dumps`**: Trả về một JSON string representation của một object.\n",
    "\n",
    "- **`load`**: Tái tạo một object từ dictionary representation của nó.\n",
    "\n",
    "- **`loads`**: Tái tạo một object từ JSON string representation của nó.\n"
   ]
  },
  {
   "cell_type": "code",
   "execution_count": 1,
   "metadata": {},
   "outputs": [
    {
     "name": "stdout",
     "output_type": "stream",
     "text": [
      "1. Phở Hà Nội: Một trong những món ăn nổi tiếng và phổ biến nhất của Hà Nội, phở Hà Nội có hương vị đặc trưng, ngon và hấp dẫn.\n",
      "2. Bún chả: Một món ăn truyền thống của Hà Nội, bún chả gồm bún, thịt nướng và nước mắm chua ngọt, tạo nên hương vị đặc biệt.\n",
      "3. Bánh mỳ pate: Một món ăn sáng ngon và phổ biến ở Hà Nội, bánh mỳ pate thường được ăn kèm với pate, thịt nguội, rau sống và sốt.\n",
      "4. Nem chua rán: Một món ăn vặt ngon và hấp dẫn, nem chua rán là sự kết hợp giữa nem chua và chả rán, tạo nên hương vị độc đáo.\n",
      "5. Bún ốc: Một món ăn truyền thống của Hà Nội, bún ốc gồm bún, ốc và nước dùng thơm ngon, tạo nên một món ăn ngon và lạ miệng.\n"
     ]
    }
   ],
   "source": [
    "# Setup environment\n",
    "import os\n",
    "from dotenv import load_dotenv\n",
    "from langchain_openai import ChatOpenAI\n",
    "from langchain_core.prompts import PromptTemplate\n",
    "from langchain_core.output_parsers import StrOutputParser\n",
    "\n",
    "load_dotenv(override=True, dotenv_path=\"../.env\")\n",
    "\n",
    "llm = ChatOpenAI(model_name=\"gpt-3.5-turbo\", temperature=0.0)\n",
    "prompt = PromptTemplate.from_template(\"Liệt kê 5 món ăn ngon ở {place}\")\n",
    "chain = prompt | llm | StrOutputParser()\n",
    "\n",
    "answer = chain.invoke(\"Hà Nội\")\n",
    "print(answer)"
   ]
  },
  {
   "cell_type": "markdown",
   "metadata": {},
   "source": [
    "## `Dumps` and `Loads`\n",
    "\n",
    "- `dumps` : LangChain object into a JSON-formatted string\n",
    "- `loads` : JSON-formatted string into a LangChain object"
   ]
  },
  {
   "cell_type": "code",
   "execution_count": 2,
   "metadata": {},
   "outputs": [
    {
     "name": "stdout",
     "output_type": "stream",
     "text": [
      "<class 'str'>\n",
      "{\n",
      "  \"lc\": 1,\n",
      "  \"type\": \"constructor\",\n",
      "  \"id\": [\n",
      "    \"langchain\",\n",
      "    \"chat_models\",\n",
      "    \"openai\",\n",
      "    \"ChatOpenAI\"\n",
      "  ],\n",
      "  \"kwargs\": {\n",
      "    \"model_name\": \"gpt-3.5-turbo\",\n",
      "    \"temperature\": 0.0,\n",
      "    \"openai_api_key\": {\n",
      "      \"lc\": 1,\n",
      "      \"type\": \"secret\",\n",
      "      \"id\": [\n",
      "        \"OPENAI_API_KEY\"\n",
      "      ]\n",
      "    }\n",
      "  },\n",
      "  \"name\": \"ChatOpenAI\"\n",
      "}\n"
     ]
    }
   ],
   "source": [
    "from langchain_core.load.dump import dumps\n",
    "serialized_llm = dumps(llm, pretty=True)\n",
    "print(type(serialized_llm))\n",
    "print(serialized_llm)"
   ]
  },
  {
   "cell_type": "code",
   "execution_count": 3,
   "metadata": {},
   "outputs": [
    {
     "name": "stdout",
     "output_type": "stream",
     "text": [
      "<class 'str'>\n",
      "{\n",
      "  \"lc\": 1,\n",
      "  \"type\": \"constructor\",\n",
      "  \"id\": [\n",
      "    \"langchain\",\n",
      "    \"prompts\",\n",
      "    \"prompt\",\n",
      "    \"P ...\n"
     ]
    }
   ],
   "source": [
    "serialized_prompt = dumps(prompt, pretty=True)\n",
    "print(type(serialized_prompt))\n",
    "print(serialized_prompt[:100] + \" ...\")"
   ]
  },
  {
   "cell_type": "code",
   "execution_count": 4,
   "metadata": {},
   "outputs": [
    {
     "name": "stdout",
     "output_type": "stream",
     "text": [
      "<class 'str'>\n",
      "{\"lc\": 1, \"type\": \"constructor\", \"id\": [\"langchain\", \"schema\", \"runnable\", \"RunnableSequence\"], \"kwa ...\n"
     ]
    }
   ],
   "source": [
    "serialized_chain = dumps(chain)\n",
    "print(type(serialized_chain))\n",
    "print(serialized_chain[:100] + \" ...\")"
   ]
  },
  {
   "cell_type": "code",
   "execution_count": 5,
   "metadata": {},
   "outputs": [
    {
     "name": "stdout",
     "output_type": "stream",
     "text": [
      "<class 'langchain_openai.chat_models.base.ChatOpenAI'>\n",
      "<class 'langchain_core.prompts.prompt.PromptTemplate'>\n",
      "<class 'langchain_core.runnables.base.RunnableSequence'>\n"
     ]
    },
    {
     "name": "stderr",
     "output_type": "stream",
     "text": [
      "/tmp/ipykernel_535673/1905072887.py:5: LangChainBetaWarning: The function `loads` is in beta. It is actively being worked on, so the API may change.\n",
      "  deserialized_llm = loads(serialized_llm)\n"
     ]
    }
   ],
   "source": [
    "from langchain_core.load.load import loads\n",
    "\n",
    "# Deserialize JSON like string to LangChain object\n",
    "\n",
    "deserialized_llm = loads(serialized_llm)\n",
    "print(type(deserialized_llm))\n",
    "\n",
    "deserialized_prompt = loads(serialized_prompt)\n",
    "print(type(deserialized_prompt))\n",
    "\n",
    "deserialized_chain = loads(serialized_chain)\n",
    "print(type(deserialized_chain))"
   ]
  },
  {
   "cell_type": "code",
   "execution_count": 8,
   "metadata": {},
   "outputs": [
    {
     "name": "stdout",
     "output_type": "stream",
     "text": [
      "1. Phở Hà Nội: Một trong những món ăn nổi tiếng và phổ biến nhất của Hà Nội, phở Hà Nội có hương vị đặc trưng, ngon và thơm.\n",
      "\n",
      "2. Bún chả: Một món ăn truyền thống của Hà Nội, bún chả gồm bún, thịt nướng và nước mắm chua ngọt, tạo nên hương vị đặc trưng và hấp dẫn.\n",
      "\n",
      "3. Bánh mỳ pate: Một món ăn sáng phổ biến ở Hà Nội, bánh mỳ pate được làm từ bánh mỳ nướng giòn và pate thơm ngon.\n",
      "\n",
      "4. Nem chua rán: Một món ăn vặt phổ biến của người dân Hà Nội, nem chua rán có vị chua cay, giòn ngon và thích hợp để thưởng thức cùng bia.\n",
      "\n",
      "5. Chả cá Lã Vọng: Một món ăn đặc sản của Hà Nội, chả cá Lã Vọng gồm cá chẽm nướng trên bếp than, ăn kèm với bún, rau sống và nước mắm chua ngọt.\n"
     ]
    }
   ],
   "source": [
    "answer = deserialized_chain.invoke(\"Hà Nội\")\n",
    "print(answer)"
   ]
  },
  {
   "cell_type": "code",
   "execution_count": 9,
   "metadata": {},
   "outputs": [
    {
     "name": "stdout",
     "output_type": "stream",
     "text": [
      "1. Phở Hà Nội: Một trong những món ăn nổi tiếng và phổ biến nhất của Hà Nội, phở Hà Nội có hương vị đặc trưng, ngon và thơm.\n",
      "\n",
      "2. Bún chả: Một món ăn truyền thống của Hà Nội, bún chả gồm bún, thịt nướng và nước mắm chua ngọt, tạo nên hương vị đặc trưng và hấp dẫn.\n",
      "\n",
      "3. Bánh mỳ pate: Một món ăn sáng phổ biến ở Hà Nội, bánh mỳ pate được làm từ bánh mỳ nướng giòn, phết pate và thêm rau sống, dưa leo, chả lụa, tạo nên hương vị độc đáo.\n",
      "\n",
      "4. Nem chua rán: Một món ăn vặt ngon và hấp dẫn của Hà Nội, nem chua rán là sự kết hợp giữa nem chua và bột chiên giòn, tạo nên hương vị đặc trưng và ngon miệng.\n",
      "\n",
      "5. Chả cá Lã Vọng: Một món ăn đặc sản của Hà Nội, chả cá Lã Vọng gồm cá lăng nướng trên bếp than, ăn kèm với bún, rau sống và nước mắm chua ngọt, tạo nên hương vị độc đáo và ngon tuyệt.\n"
     ]
    }
   ],
   "source": [
    "response = (deserialized_prompt | deserialized_llm).invoke(\"Hà Nội\")\n",
    "print(response.content)"
   ]
  },
  {
   "cell_type": "markdown",
   "metadata": {},
   "source": [
    "## `Dumpd` and `Load`\n",
    "\n",
    "- `dumpd` : LangChain object into a dictionary\n",
    "- `load` : dictionary into a LangChain object\n"
   ]
  },
  {
   "cell_type": "code",
   "execution_count": 10,
   "metadata": {},
   "outputs": [
    {
     "name": "stdout",
     "output_type": "stream",
     "text": [
      "<class 'dict'>\n",
      "<class 'dict'>\n",
      "<class 'dict'>\n"
     ]
    }
   ],
   "source": [
    "from langchain_core.load.dump import dumpd\n",
    "\n",
    "# Serialize LangChain object to dictionary\n",
    "\n",
    "serialized_llm = dumpd(llm)\n",
    "print(type(serialized_llm))\n",
    "\n",
    "serialized_prompt = dumpd(prompt)\n",
    "print(type(serialized_prompt))\n",
    "\n",
    "serialized_chain = dumpd(chain)\n",
    "print(type(serialized_chain))"
   ]
  },
  {
   "cell_type": "code",
   "execution_count": 11,
   "metadata": {},
   "outputs": [
    {
     "name": "stdout",
     "output_type": "stream",
     "text": [
      "<class 'langchain_openai.chat_models.base.ChatOpenAI'>\n",
      "<class 'langchain_core.prompts.prompt.PromptTemplate'>\n",
      "<class 'langchain_core.runnables.base.RunnableSequence'>\n"
     ]
    },
    {
     "name": "stderr",
     "output_type": "stream",
     "text": [
      "/tmp/ipykernel_535673/2225592789.py:5: LangChainBetaWarning: The function `load` is in beta. It is actively being worked on, so the API may change.\n",
      "  deserialized_llm = load(serialized_llm)\n"
     ]
    }
   ],
   "source": [
    "from langchain_core.load.load import load\n",
    "\n",
    "# Deserialize dictionary to LangChain object\n",
    "\n",
    "deserialized_llm = load(serialized_llm)\n",
    "print(type(deserialized_llm))\n",
    "\n",
    "deserialized_prompt = load(serialized_prompt)\n",
    "print(type(deserialized_prompt))\n",
    "\n",
    "deserialized_chain = load(serialized_chain)\n",
    "print(type(deserialized_chain))"
   ]
  },
  {
   "cell_type": "code",
   "execution_count": 12,
   "metadata": {},
   "outputs": [
    {
     "data": {
      "text/plain": [
       "'1. Phở Hà Nội: Một trong những món ăn nổi tiếng và phổ biến nhất của Hà Nội, phở Hà Nội có hương vị đặc trưng, ngon và hấp dẫn.\\n2. Bún chả: Một món ăn truyền thống của Hà Nội, bún chả gồm bún, thịt nướng và nước mắm chua ngọt, tạo nên hương vị đặc trưng và hấp dẫn.\\n3. Bánh mỳ pate: Một món ăn sáng phổ biến ở Hà Nội, bánh mỳ pate có vị ngon, thơm và béo của pate kết hợp với vị giòn của bánh mỳ.\\n4. Nem chua rán: Một món ăn vặt phổ biến của người dân Hà Nội, nem chua rán có vị chua, ngọt, cay và giòn rất hấp dẫn.\\n5. Bún ốc: Một món ăn truyền thống của Hà Nội, bún ốc có hương vị đặc trưng của ốc, nước dùng thơm ngon và bún mềm, tạo nên một món ăn ngon và lạ miệng.'"
      ]
     },
     "execution_count": 12,
     "metadata": {},
     "output_type": "execute_result"
    }
   ],
   "source": [
    "deserialized_chain.invoke(\"Hà Nội\")"
   ]
  },
  {
   "cell_type": "markdown",
   "metadata": {},
   "source": [
    "## Serialization with `pickle`\n",
    "\n",
    "Module `pickle` trong Python được sử dụng để tuần tự hóa (serializing) và giải tuần tự hóa (deserializing) cấu trúc đối tượng Python, còn được gọi là _pickling_ và _unpickling_. Tuần tự hóa liên quan đến việc chuyển đổi một hệ thống phân cấp đối tượng Python thành một luồng byte, trong khi giải tuần tự hóa tái tạo hệ thống phân cấp đối tượng từ luồng byte.\n",
    "\n",
    "[`pickle` - Python object serialization để biết thêm chi tiết]([https://docs.python.org/3/library/pickle.html](https://docs.python.org/3/library/pickle.html))\n",
    "\n",
    "**Các Hàm Chính**\n",
    "\n",
    "- **`pickle.dump(obj, file)`**: Tuần tự hóa `obj` và ghi nó vào đối tượng tệp đang mở `file`.\n",
    "\n",
    "- **`pickle.load(file)`**: Đọc một luồng byte từ đối tượng tệp đang mở `file` và giải tuần tự hóa nó trở lại thành một đối tượng Python.\n"
   ]
  },
  {
   "cell_type": "code",
   "execution_count": 13,
   "metadata": {},
   "outputs": [
    {
     "name": "stdout",
     "output_type": "stream",
     "text": [
      "<class 'dict'>\n",
      "<class 'dict'>\n",
      "<class 'dict'>\n"
     ]
    }
   ],
   "source": [
    "from langchain_core.load.dump import dumpd\n",
    "\n",
    "# Serialize LangChain object to dictionary\n",
    "\n",
    "serialized_llm = dumpd(llm)\n",
    "print(type(serialized_llm))\n",
    "\n",
    "serialized_prompt = dumpd(prompt)\n",
    "print(type(serialized_prompt))\n",
    "\n",
    "serialized_chain = dumpd(chain)\n",
    "print(type(serialized_chain))"
   ]
  },
  {
   "cell_type": "code",
   "execution_count": 14,
   "metadata": {},
   "outputs": [],
   "source": [
    "import pickle\n",
    "import os\n",
    "\n",
    "# Serialize dictionary to pickle file\n",
    "\n",
    "os.makedirs(\"data\", exist_ok=True)\n",
    "\n",
    "with open(\"data/serialized_llm.pkl\", \"wb\") as f:\n",
    "    pickle.dump(serialized_llm, f)\n",
    "\n",
    "with open(\"data/serialized_prompt.pkl\", \"wb\") as f:\n",
    "    pickle.dump(serialized_prompt, f)\n",
    "\n",
    "with open(\"data/serialized_chain.pkl\", \"wb\") as f:\n",
    "    pickle.dump(serialized_chain, f)"
   ]
  },
  {
   "cell_type": "code",
   "execution_count": 15,
   "metadata": {},
   "outputs": [
    {
     "name": "stdout",
     "output_type": "stream",
     "text": [
      "<class 'dict'>\n",
      "<class 'dict'>\n",
      "<class 'dict'>\n"
     ]
    }
   ],
   "source": [
    "# Deserialize pickle file to dictionary\n",
    "\n",
    "with open(\"data/serialized_llm.pkl\", \"rb\") as f:\n",
    "    loaded_llm = pickle.load(f)\n",
    "    print(type(loaded_llm))\n",
    "\n",
    "with open(\"data/serialized_prompt.pkl\", \"rb\") as f:\n",
    "    loaded_prompt = pickle.load(f)\n",
    "    print(type(loaded_prompt))\n",
    "\n",
    "with open(\"data/serialized_chain.pkl\", \"rb\") as f:\n",
    "    loaded_chain = pickle.load(f)\n",
    "    print(type(loaded_chain))"
   ]
  },
  {
   "cell_type": "code",
   "execution_count": 16,
   "metadata": {},
   "outputs": [
    {
     "name": "stdout",
     "output_type": "stream",
     "text": [
      "<class 'langchain_openai.chat_models.base.ChatOpenAI'>\n",
      "<class 'langchain_core.prompts.prompt.PromptTemplate'>\n",
      "<class 'langchain_core.runnables.base.RunnableSequence'>\n"
     ]
    }
   ],
   "source": [
    "from langchain_core.load.load import load\n",
    "\n",
    "# Deserialize dictionary to LangChain object\n",
    "\n",
    "deserialized_llm = load(loaded_llm)\n",
    "print(type(deserialized_llm))\n",
    "\n",
    "deserialized_prompt = load(loaded_prompt)\n",
    "print(type(deserialized_prompt))\n",
    "\n",
    "deserialized_chain = load(loaded_chain)\n",
    "print(type(deserialized_chain))"
   ]
  },
  {
   "cell_type": "code",
   "execution_count": 17,
   "metadata": {},
   "outputs": [
    {
     "data": {
      "text/plain": [
       "'1. Phở Hà Nội: Một trong những món ăn nổi tiếng và phổ biến nhất của Hà Nội, phở Hà Nội có hương vị đặc trưng, ngon và hấp dẫn.\\n2. Bún chả: Một món ăn truyền thống của Hà Nội, bún chả gồm bún, thịt nướng và nước mắm chua ngọt, tạo nên hương vị đặc trưng và hấp dẫn.\\n3. Bánh mỳ pate: Một món ăn sáng phổ biến ở Hà Nội, bánh mỳ pate có vị ngon, thơm và béo của pate kết hợp với vị giòn của bánh mỳ.\\n4. Nem chua rán: Một món ăn vặt phổ biến của người dân Hà Nội, nem chua rán có vị chua, ngọt, cay và giòn rất hấp dẫn.\\n5. Bún ốc: Một món ăn đặc trưng của Hà Nội, bún ốc có hương vị đậm đà, thơm ngon và hấp dẫn, được nhiều người yêu thích.'"
      ]
     },
     "execution_count": 17,
     "metadata": {},
     "output_type": "execute_result"
    }
   ],
   "source": [
    "deserialized_chain.invoke(\"Hà Nội\")"
   ]
  },
  {
   "cell_type": "markdown",
   "metadata": {},
   "source": [
    "## Is Every Runnable Serializable?\n",
    "\n",
    "Các phương thức `dumps` và `dumpd` của LangChain cố gắng tuần tự hóa các đối tượng nhiều nhất có thể, nhưng dữ liệu kết quả có thể không đầy đủ.\n",
    "\n",
    "1. Ngay cả khi phương thức `is_lc_serializable` không tồn tại hoặc trả về `False`, kết quả vẫn được tạo ra.\n",
    "2. Ngay cả khi phương thức `is_lc_serializable` trả về `True` và quá trình tuần tự hóa thành công, quá trình giải tuần tự hóa có thể thất bại.\n",
    "\n",
    "Sau khi tuần tự hóa, điều cần thiết là kiểm tra xem dữ liệu JSON có chứa `\"type\": \"not_implemented\"` hay không. Chỉ khi đó các hàm `load` hoặc `loads` mới có thể được sử dụng một cách an toàn.\n"
   ]
  },
  {
   "cell_type": "code",
   "execution_count": 20,
   "metadata": {},
   "outputs": [
    {
     "name": "stdout",
     "output_type": "stream",
     "text": [
      "<class 'langchain_core.runnables.base.RunnableSequence'>\n",
      "<class 'langchain_core.runnables.base.RunnableSequence'>\n",
      "1. Phở Hà Nội: Một trong những món ăn nổi tiếng và phổ biến nhất của Hà Nội, phở Hà Nội có hương vị đặc trưng, ngon và thơm.\n",
      "\n",
      "2. Bún chả: Một món ăn truyền thống của Hà Nội, bún chả gồm bún, thịt nướng và nước mắm chua ngọt, tạo nên hương vị đặc trưng và hấp dẫn.\n",
      "\n",
      "3. Bánh mỳ pate: Một món ăn sáng phổ biến ở Hà Nội, bánh mỳ pate có vị ngon, thơm và béo của pate kết hợp với vị giòn của bánh mỳ.\n",
      "\n",
      "4. Nem chua rán: Một món ăn vặt phổ biến của người dân Hà Nội, nem chua rán có vị chua, cay, ngọt và giòn, rất thích hợp để thưởng thức cùng bia.\n",
      "\n",
      "5. Bún ốc: Một món ăn đặc trưng của Hà Nội, bún ốc có hương vị đậm đà, thơm ngon và hấp dẫn, thường được ăn vào buổi tối.\n",
      "1. Phở Hà Nội: Một trong những món ăn nổi tiếng và phổ biến nhất của Hà Nội, phở Hà Nội có hương vị đặc trưng, ngon tuyệt vời.\n",
      "2. Bún chả: Một món ăn truyền thống của Hà Nội, bún chả gồm bún, thịt nướng và nước mắm chua ngọt, tạo nên hương vị đặc biệt.\n",
      "3. Bánh mỳ pate: Một món ăn sáng rất phổ biến ở Hà Nội, bánh mỳ pate có vị thơm ngon, kết hợp với các loại rau sống và sốt pate.\n",
      "4. Nem chua rán: Một món ăn vặt ngon và hấp dẫn, nem chua rán được làm từ thịt lợn, bọc bên ngoài là lớp vỏ giòn tan.\n",
      "5. Bún ốc: Một món ăn đặc trưng của Hà Nội, bún ốc có hương vị đậm đà, ngon miệng, thường được ăn kèm với rau sống và nước dùng thơm ngon.\n"
     ]
    }
   ],
   "source": [
    "from langchain_core.output_parsers.string import StrOutputParser\n",
    "from langchain_core.runnables import RunnableLambda\n",
    "from langchain_core.load.dump import dumps\n",
    "from langchain_core.load.load import loads\n",
    "\n",
    "chain = prompt | llm \n",
    "\n",
    "def custom_function(llm_response):\n",
    "    return llm_response.content\n",
    "\n",
    "\n",
    "# Define chains that make same results\n",
    "chain_with_custom_function = chain | custom_function\n",
    "print(type(chain_with_custom_function))\n",
    "chain_with_str_output_parser = chain | StrOutputParser()\n",
    "print(type(chain_with_str_output_parser))\n",
    "\n",
    "response = chain_with_custom_function.invoke(\"Hà Nội\")\n",
    "print(response)\n",
    "\n",
    "response = chain_with_str_output_parser.invoke(\"Hà Nội\")\n",
    "print(response)"
   ]
  },
  {
   "cell_type": "code",
   "execution_count": 21,
   "metadata": {},
   "outputs": [
    {
     "name": "stdout",
     "output_type": "stream",
     "text": [
      "True\n",
      "True\n"
     ]
    }
   ],
   "source": [
    "# Both of them are serializable\n",
    "print(chain_with_custom_function.is_lc_serializable())\n",
    "print(chain_with_str_output_parser.is_lc_serializable())"
   ]
  },
  {
   "cell_type": "code",
   "execution_count": 22,
   "metadata": {},
   "outputs": [
    {
     "name": "stdout",
     "output_type": "stream",
     "text": [
      "...\n",
      "\n",
      "    ],\n",
      "    \"last\": {\n",
      "      \"lc\": 1,\n",
      "      \"type\": \"not_implemented\",\n",
      "      \"id\": [\n",
      "        \"langchain_core\",\n",
      "        \"runnables\",\n",
      "        \"base\",\n",
      "        \"RunnableLambda\"\n",
      "      ],\n",
      "      \"repr\": \"RunnableLambda(custom_function)\"\n",
      "    }\n",
      "  },\n",
      "  \"name\": \"RunnableSequence\"\n",
      "}\n",
      "Error : \n",
      " Trying to load an object that doesn't implement serialization: {'lc': 1, 'type': 'not_implemented', 'id': ['langchain_core', 'runnables', 'base', 'RunnableLambda'], 'repr': 'RunnableLambda(custom_function)'}\n",
      "<class 'langchain_core.runnables.base.RunnableSequence'>\n",
      "1. Phở Hà Nội: Một trong những món ăn nổi tiếng và phổ biến nhất của Hà Nội, phở Hà Nội có hương vị đặc trưng, ngon và hấp dẫn.\n",
      "2. Bún chả: Một món ăn truyền thống của Hà Nội, bún chả gồm bún, thịt nướng và nước mắm chua ngọt, tạo nên hương vị đặc trưng và hấp dẫn.\n",
      "3. Bánh mỳ pate: Một món ăn sáng phổ biến ở Hà Nội, bánh mỳ pate có vị ngon, thơm và béo của pate kết hợp với vị giòn của bánh mỳ.\n",
      "4. Nem chua rán: Một món ăn vặt phổ biến và ngon miệng của Hà Nội, nem chua rán có vị chua, ngọt, cay cay và giòn giòn.\n",
      "5. Bún bò Nam Bộ: Một món ăn ngon và đặc trưng của Hà Nội, bún bò Nam Bộ gồm bún, thịt bò xào, rau sống và nước mắm chua ngọt, tạo nên hương vị đặc trưng và hấp dẫn.\n"
     ]
    }
   ],
   "source": [
    "try:\n",
    "    print(\n",
    "        \"...\\n\"\n",
    "        # You can see that the serialized string contains \"type\": \"not_implemented\"\n",
    "        + ((serialized_str := dumps(chain_with_custom_function, pretty=True)))[-270:]\n",
    "    )\n",
    "    # First one fail to deserialize\n",
    "    loads(serialized_str)\n",
    "except Exception as e:\n",
    "    print(\"Error : \\n\", e)\n",
    "\n",
    "print(type(deserialized_chain := loads(dumps(chain_with_str_output_parser))))\n",
    "print(deserialized_chain.invoke(\"Hà Nội\"))"
   ]
  },
  {
   "cell_type": "code",
   "execution_count": 23,
   "metadata": {},
   "outputs": [
    {
     "name": "stdout",
     "output_type": "stream",
     "text": [
      "Error : \n",
      " 'RunnableLambda' object has no attribute 'is_lc_serializable'\n",
      "{\n",
      "  \"lc\": 1,\n",
      "  \"type\": \"not_implemented\",\n",
      "  \"id\": [\n",
      "    \"langchain_core\",\n",
      "    \"runnables\",\n",
      "    \"base\",\n",
      "    \"RunnableLambda\"\n",
      "  ],\n",
      "  \"repr\": \"RunnableLambda(custom_function)\"\n",
      "}\n",
      "Error : \n",
      " 'function' object has no attribute 'is_lc_serializable'\n",
      "{\n",
      "  \"lc\": 1,\n",
      "  \"type\": \"not_implemented\",\n",
      "  \"id\": [\n",
      "    \"__main__\",\n",
      "    \"custom_function\"\n",
      "  ],\n",
      "  \"repr\": \"<function custom_function at 0x7b3ea0070a60>\"\n",
      "}\n"
     ]
    }
   ],
   "source": [
    "# RunnableLambda and custom_function has no is_lc_serializable method\n",
    "# But they are serializable\n",
    "\n",
    "try:\n",
    "    print(RunnableLambda(custom_function).is_lc_serializable())\n",
    "except Exception as e:\n",
    "    print(\"Error : \\n\", e)\n",
    "\n",
    "print(dumps(RunnableLambda(custom_function), pretty=True))\n",
    "\n",
    "try:\n",
    "    print(custom_function.is_lc_serializable())\n",
    "except Exception as e:\n",
    "    print(\"Error : \\n\", e)\n",
    "\n",
    "print(dumps(custom_function, pretty=True))"
   ]
  },
  {
   "cell_type": "code",
   "execution_count": 24,
   "metadata": {},
   "outputs": [
    {
     "name": "stdout",
     "output_type": "stream",
     "text": [
      "False\n",
      "{\n",
      "  \"lc\": 1,\n",
      "  \"type\": \"not_implemented\",\n",
      "  \"id\": [\n",
      "    \"langchain_core\",\n",
      "    \"load\",\n",
      "    \"serializable\",\n",
      "    \"Serializable\"\n",
      "  ],\n",
      "  \"repr\": \"<class 'langchain_core.load.serializable.Serializable'>\"\n",
      "}\n",
      "{'lc': 1, 'type': 'not_implemented', 'id': ['langchain_core', 'load', 'serializable', 'Serializable'], 'repr': \"<class 'langchain_core.load.serializable.Serializable'>\"}\n"
     ]
    }
   ],
   "source": [
    "from langchain_core.load.serializable import Serializable\n",
    "\n",
    "# Serializable has is_lc_serializable method\n",
    "# But it returns False\n",
    "print(Serializable.is_lc_serializable())\n",
    "\n",
    "# But also it is serializable\n",
    "print(dumps(Serializable, pretty=True))\n",
    "print(dumpd(Serializable))"
   ]
  },
  {
   "cell_type": "code",
   "execution_count": null,
   "metadata": {},
   "outputs": [],
   "source": []
  }
 ],
 "metadata": {
  "kernelspec": {
   "display_name": "langchain",
   "language": "python",
   "name": "python3"
  },
  "language_info": {
   "codemirror_mode": {
    "name": "ipython",
    "version": 3
   },
   "file_extension": ".py",
   "mimetype": "text/x-python",
   "name": "python",
   "nbconvert_exporter": "python",
   "pygments_lexer": "ipython3",
   "version": "3.10.16"
  }
 },
 "nbformat": 4,
 "nbformat_minor": 2
}
