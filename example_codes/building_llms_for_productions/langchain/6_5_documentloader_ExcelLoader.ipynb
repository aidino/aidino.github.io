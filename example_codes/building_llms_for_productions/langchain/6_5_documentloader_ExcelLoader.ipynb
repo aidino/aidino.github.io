{
 "cells": [
  {
   "cell_type": "markdown",
   "metadata": {},
   "source": [
    "# Excel File Loading in LangChain\n",
    "\n",
    "Bản hướng dẫn này bao gồm quy trình tải và xử lý các tệp `Microsoft Excel` trong `LangChain`.\n",
    "\n",
    "Nó tập trung vào hai phương pháp chính: `UnstructuredExcelLoader` để trích xuất văn bản thô và `DataFrameLoader` để xử lý dữ liệu có cấu trúc.\n",
    "\n",
    "Hướng dẫn này nhằm mục đích giúp các nhà phát triển tích hợp hiệu quả dữ liệu Excel vào các dự án `LangChain` của họ, bao gồm cả các tình huống sử dụng cơ bản và nâng cao.\n",
    "\n",
    "```bash\n",
    "pip install openpyxl\n",
    "```"
   ]
  },
  {
   "cell_type": "markdown",
   "metadata": {},
   "source": [
    "## `UnstructuredExcelLoader`\n",
    "\n",
    "`UnstructuredExcelLoader` được sử dụng để tải các tệp `Microsoft Excel`.\n",
    "\n",
    "Trình tải này hoạt động với cả tệp `.xlsx` và `.xls`.\n",
    "\n",
    "Khi trình tải được sử dụng ở `mode=\"elements\"`, một biểu diễn HTML của tệp Excel được cung cấp dưới khóa `text_as_html` trong metadata của tài liệu.\n"
   ]
  },
  {
   "cell_type": "code",
   "execution_count": 1,
   "metadata": {},
   "outputs": [
    {
     "name": "stdout",
     "output_type": "stream",
     "text": [
      "1\n"
     ]
    }
   ],
   "source": [
    "import sys\n",
    "from langchain_community.document_loaders import UnstructuredExcelLoader\n",
    "\n",
    "# Set recursion limit\n",
    "sys.setrecursionlimit(10**6)    \n",
    "\n",
    "# Create UnstructuredExcelLoader \n",
    "loader = UnstructuredExcelLoader(\"data/titanic.xlsx\", mode=\"elements\")\n",
    "\n",
    "# Load a document\n",
    "docs = loader.load()\n",
    "\n",
    "# Print the number of documents\n",
    "print(len(docs))"
   ]
  },
  {
   "cell_type": "markdown",
   "metadata": {},
   "source": [
    "This confirms that one document has been loaded.\n",
    "\n",
    "The `page_content` contains the data from each row, while the `text_as_html` in the `metadata` stores the data in HTML format."
   ]
  },
  {
   "cell_type": "code",
   "execution_count": 2,
   "metadata": {},
   "outputs": [
    {
     "name": "stdout",
     "output_type": "stream",
     "text": [
      "PassengerId Survived Pclass Name Sex Age SibSp Parch Ticket Fare Cabin Embarked 1 0 3 Braund, Mr. Owen Harris male 22 1 0 A/5 21171 7.25 S 2 1 1 Cumings, Mrs. John Bradley (Florence Briggs Thayer) fem\n"
     ]
    }
   ],
   "source": [
    "# Print the document\n",
    "print(docs[0].page_content[:200])"
   ]
  },
  {
   "cell_type": "code",
   "execution_count": 3,
   "metadata": {},
   "outputs": [
    {
     "name": "stdout",
     "output_type": "stream",
     "text": [
      "<table><tr><td>PassengerId</td><td>Survived</td><td>Pclass</td><td>Name</td><td>Sex</td><td>Age</td><td>SibSp</td><td>Parch</td><td>Ticket</td><td>Fare</td><td>Cabin</td><td>Embarked</td></tr><tr><td>1</td><td>0</td><td>3</td><td>Braund, Mr. Owen Harris</td><td>male</td><td>22</td><td>1</td><td>0</td><td>A/5 21171</td><td>7.25</td><td/><td>S</td></tr><tr><td>2</td><td>1</td><td>1</td><td>Cumings, Mrs. John Bradley (Florence Briggs Thayer)</td><td>female</td><td>38</td><td>1</td><td>0</td><td>PC 17599</td><td>71.2833</td><td>C85</td><td>C</td></tr><tr><td>3</td><td>1</td><td>3</td><td>Heikkinen, Miss. Laina</td><td>female</td><td>26</td><td>0</td><td>0</td><td>STON/O2. 3101282</td><td>7.925</td><td/><td>S</td></tr><tr><td>4</td><td>1</td><td>1</td><td>Futrelle, Mrs. Jacques Heath (Lily May Peel)</td><td>female</td><td>35</td><td>1</td><td>0</td><td>113803</td><td>53.1</td><td>C123</td><td>S</td></tr><tr><td>5</td><td>0</td><td>3</td><td>Allen, Mr. William Henry</td><td>male</td><td>35</\n"
     ]
    }
   ],
   "source": [
    "# Print the text_as_html of metadata\n",
    "print(docs[0].metadata[\"text_as_html\"][:1000])"
   ]
  },
  {
   "cell_type": "markdown",
   "metadata": {},
   "source": [
    "## `DataFrameLoader`\n",
    "\n",
    "- Similar to CSV files, we can load Excel files by using the `read_excel()` function to create a `pandas.DataFrame`, and then load it."
   ]
  },
  {
   "cell_type": "code",
   "execution_count": 4,
   "metadata": {},
   "outputs": [],
   "source": [
    "import pandas as pd\n",
    "\n",
    "# read the Excel file\n",
    "df = pd.read_excel(\"./data/titanic.xlsx\")"
   ]
  },
  {
   "cell_type": "code",
   "execution_count": 5,
   "metadata": {},
   "outputs": [
    {
     "name": "stdout",
     "output_type": "stream",
     "text": [
      "Braund, Mr. Owen Harris\n",
      "{'PassengerId': 1, 'Survived': 0, 'Pclass': 3, 'Sex': 'male', 'Age': 22.0, 'SibSp': 1, 'Parch': 0, 'Ticket': 'A/5 21171', 'Fare': 7.25, 'Cabin': nan, 'Embarked': 'S'}\n"
     ]
    }
   ],
   "source": [
    "from langchain_community.document_loaders import DataFrameLoader\n",
    "\n",
    "# Set up DataFrame loader, specifying the page content column\n",
    "loader = DataFrameLoader(df, page_content_column=\"Name\")\n",
    "\n",
    "# Load the document\n",
    "docs = loader.load()\n",
    "\n",
    "# Print the data\n",
    "print(docs[0].page_content)\n",
    "\n",
    "# Print the metadata\n",
    "print(docs[0].metadata)"
   ]
  },
  {
   "cell_type": "code",
   "execution_count": null,
   "metadata": {},
   "outputs": [],
   "source": []
  }
 ],
 "metadata": {
  "kernelspec": {
   "display_name": "langchain",
   "language": "python",
   "name": "python3"
  },
  "language_info": {
   "codemirror_mode": {
    "name": "ipython",
    "version": 3
   },
   "file_extension": ".py",
   "mimetype": "text/x-python",
   "name": "python",
   "nbconvert_exporter": "python",
   "pygments_lexer": "ipython3",
   "version": "3.10.16"
  }
 },
 "nbformat": 4,
 "nbformat_minor": 2
}
