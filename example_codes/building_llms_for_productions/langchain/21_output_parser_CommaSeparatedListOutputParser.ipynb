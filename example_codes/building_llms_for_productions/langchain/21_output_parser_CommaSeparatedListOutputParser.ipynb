{
 "cells": [
  {
   "cell_type": "markdown",
   "metadata": {},
   "source": [
    "# CommaSeparatedListOutputParser\n",
    "\n",
    "```CommaSeparatedListOutputParser``` là một trình phân tích đầu ra (output parser) chuyên biệt trong LangChain, được thiết kế để tạo ra các đầu ra có cấu trúc dưới dạng danh sách phân tách bằng dấu phẩy (comma-separated lists).\n",
    "\n",
    "Nó đơn giản hóa quá trình trích xuất và trình bày dữ liệu dưới dạng danh sách rõ ràng và ngắn gọn, đặc biệt hữu ích cho việc tổ chức thông tin như các điểm dữ liệu (data points), tên, mục (items) hoặc các giá trị có cấu trúc khác. Bằng cách tận dụng trình phân tích này, người dùng có thể nâng cao độ rõ ràng của dữ liệu, đảm bảo định dạng nhất quán và cải thiện hiệu quả quy trình làm việc, đặc biệt trong các ứng dụng mà đầu ra có cấu trúc là cần thiết.\n",
    "\n",
    "Hướng dẫn này trình bày cách sử dụng ```CommaSeparatedListOutputParser``` để:\n",
    "\n",
    "1.  Thiết lập và khởi tạo trình phân tích để tạo danh sách phân tách bằng dấu phẩy.\n",
    "2.  Tích hợp nó với một mẫu nhắc (prompt template) và mô hình ngôn ngữ (language model).\n",
    "3.  Xử lý các đầu ra có cấu trúc một cách lặp đi lặp lại bằng cách sử dụng cơ chế truyền trực tuyến (streaming mechanisms).\n"
   ]
  },
  {
   "cell_type": "code",
   "execution_count": 1,
   "metadata": {},
   "outputs": [],
   "source": [
    "# Setup environment\n",
    "import os\n",
    "from dotenv import load_dotenv\n",
    "from langchain_openai import ChatOpenAI\n",
    "\n",
    "load_dotenv(override=True, dotenv_path=\"../.env\")\n",
    "\n",
    "llm = ChatOpenAI(model_name=\"gpt-3.5-turbo\", temperature=0.0)\n"
   ]
  },
  {
   "cell_type": "markdown",
   "metadata": {},
   "source": [
    "## Implementing the ```CommaSeparatedListOutputParser```\n",
    "\n",
    "If you need to generate outputs in the form of a comma-separated list, the ```CommaSeparatedListOutputParser``` from LangChain simplifies the process. Below is a step-by-step implementation:"
   ]
  },
  {
   "cell_type": "code",
   "execution_count": 2,
   "metadata": {},
   "outputs": [
    {
     "name": "stdout",
     "output_type": "stream",
     "text": [
      "Your response should be a list of comma separated values, eg: `foo, bar, baz` or `foo,bar,baz`\n"
     ]
    }
   ],
   "source": [
    "from langchain_core.output_parsers import CommaSeparatedListOutputParser\n",
    "\n",
    "output_parser = CommaSeparatedListOutputParser()\n",
    "format_instructions = output_parser.get_format_instructions()\n",
    "print(format_instructions)"
   ]
  },
  {
   "cell_type": "markdown",
   "metadata": {},
   "source": [
    "### 2. Creating the Prompt Template"
   ]
  },
  {
   "cell_type": "code",
   "execution_count": 3,
   "metadata": {},
   "outputs": [
    {
     "name": "stdout",
     "output_type": "stream",
     "text": [
      "input_variables=['subject'] input_types={} partial_variables={'format_instructions': 'Your response should be a list of comma separated values, eg: `foo, bar, baz` or `foo,bar,baz`'} template='List five {subject}.\\n{format_instructions}'\n"
     ]
    }
   ],
   "source": [
    "from langchain_core.prompts import PromptTemplate\n",
    "\n",
    "prompt = PromptTemplate(\n",
    "  template=\"List five {subject}.\\n{format_instructions}\",\n",
    "  input_variables=[\"subject\"],\n",
    "  partial_variables={\n",
    "    \"format_instructions\": format_instructions\n",
    "  }\n",
    ")\n",
    "print(prompt)"
   ]
  },
  {
   "cell_type": "markdown",
   "metadata": {},
   "source": [
    "### 3. Integrating with ```ChatOpenAI``` and Running the Chain"
   ]
  },
  {
   "cell_type": "code",
   "execution_count": 4,
   "metadata": {},
   "outputs": [
    {
     "name": "stdout",
     "output_type": "stream",
     "text": [
      "['Gyeongbokgung Palace', 'N Seoul Tower', 'Bukchon Hanok Village', 'Seongsan Ilchulbong Peak', 'Haeundae Beach']\n"
     ]
    }
   ],
   "source": [
    "from langchain_openai import ChatOpenAI\n",
    "\n",
    "model = ChatOpenAI(model_name=\"gpt-3.5-turbo\", temperature=0.0)\n",
    "\n",
    "chain = prompt | model | output_parser\n",
    "\n",
    "result = chain.invoke({\"subject\": \"famous landmarks in South Korea\"})\n",
    "print(result)"
   ]
  },
  {
   "cell_type": "markdown",
   "metadata": {},
   "source": [
    "### 4. Accessing Data with Python Indexing\n",
    "Since the ```CommaSeparatedListOutputParser``` automatically formats the output as a Python list, you can easily access individual elements using indexing."
   ]
  },
  {
   "cell_type": "code",
   "execution_count": 5,
   "metadata": {},
   "outputs": [
    {
     "name": "stdout",
     "output_type": "stream",
     "text": [
      "First Landmark: Gyeongbokgung Palace\n",
      "Second Landmark: N Seoul Tower\n",
      "Last Landmark: Haeundae Beach\n"
     ]
    }
   ],
   "source": [
    "# Accessing specific elements using Python indexing\n",
    "print(\"First Landmark:\", result[0])\n",
    "print(\"Second Landmark:\", result[1])\n",
    "print(\"Last Landmark:\", result[-1])"
   ]
  },
  {
   "cell_type": "markdown",
   "metadata": {},
   "source": [
    "## Using Streamed Outputs\n",
    "For larger outputs or real-time feedback, you can process the results using the ```stream``` method. This allows you to handle data piece by piece as it is generated."
   ]
  },
  {
   "cell_type": "code",
   "execution_count": 6,
   "metadata": {},
   "outputs": [
    {
     "name": "stdout",
     "output_type": "stream",
     "text": [
      "['Gyeongbokgung Palace']\n",
      "['N Seoul Tower']\n",
      "['Bukchon Hanok Village']\n",
      "['Seongsan Ilchulbong Peak']\n",
      "['Haeundae Beach']\n"
     ]
    }
   ],
   "source": [
    "# Iterate through the streamed output for a subject\n",
    "for output in chain.stream({\"subject\": \"famous landmarks in South Korea\"}):\n",
    "    print(output)"
   ]
  },
  {
   "cell_type": "code",
   "execution_count": null,
   "metadata": {},
   "outputs": [],
   "source": []
  }
 ],
 "metadata": {
  "kernelspec": {
   "display_name": "langchain",
   "language": "python",
   "name": "python3"
  },
  "language_info": {
   "codemirror_mode": {
    "name": "ipython",
    "version": 3
   },
   "file_extension": ".py",
   "mimetype": "text/x-python",
   "name": "python",
   "nbconvert_exporter": "python",
   "pygments_lexer": "ipython3",
   "version": "3.10.16"
  }
 },
 "nbformat": 4,
 "nbformat_minor": 2
}
