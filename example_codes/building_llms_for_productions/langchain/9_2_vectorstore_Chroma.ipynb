{
 "cells": [
  {
   "cell_type": "markdown",
   "metadata": {},
   "source": [
    "# Chroma\n",
    "\n",
    "Hướng dẫn này bao gồm cách sử dụng **Chroma Vector Store** với **LangChain**.\n",
    "\n",
    "`Chroma` là một **open-source AI application database** (cơ sở dữ liệu ứng dụng AI mã nguồn mở).\n",
    "\n",
    "Trong hướng dẫn này, sau khi học cách sử dụng `langchain-chroma`, chúng ta sẽ triển khai các ví dụ về một công cụ **Text Search** (tìm kiếm văn bản) đơn giản sử dụng `Chroma`.\n",
    "\n",
    "![search-example](./assets/02-chroma-with-langchain-flow-search-example.png)"
   ]
  },
  {
   "cell_type": "markdown",
   "metadata": {},
   "source": [
    "```bash\n",
    "pip install langchain-chroma chromadb langchain-text-splitters langchain-huggingface\n",
    "```"
   ]
  },
  {
   "cell_type": "markdown",
   "metadata": {},
   "source": [
    "## What is Chroma?\n",
    "\n",
    "![logo](./assets/02-chroma-with-langchain-chroma-logo.png)\n",
    "\n",
    "`Chroma` là **open-source vector database** (cơ sở dữ liệu vector mã nguồn mở) được thiết kế cho các ứng dụng AI.\n",
    "\n",
    "Nó chuyên về lưu trữ các vector chiều cao và thực hiện tìm kiếm tương tự nhanh chóng, khiến nó trở nên lý tưởng cho các tác vụ như **semantic search** (tìm kiếm ngữ nghĩa), **recommendation systems** (hệ thống đề xuất) và **multimodal search** (tìm kiếm đa phương thức).\n",
    "\n",
    "Với **developer-friendly APIs** (API thân thiện với nhà phát triển) và tích hợp liền mạch với các framework như **LangChain**, `Chroma` là công cụ mạnh mẽ để xây dựng các giải pháp hướng AI có khả năng mở rộng.\n",
    "\n",
    "Tính năng lớn nhất của `Chroma` là nó sử dụng nội bộ **Indexing ([HNSW](https://en.wikipedia.org/wiki/Hierarchical_navigable_small_world))** (lập chỉ mục) và **Embedding ([all-MiniLM-L6-v2](https://huggingface.co/sentence-transformers/all-MiniLM-L6-v2))** (nhúng) khi lưu trữ dữ liệu.\n"
   ]
  },
  {
   "cell_type": "markdown",
   "metadata": {},
   "source": [
    "## LangChain Chroma Basic\n",
    "\n",
    "### Chọn Mô hình Nhúng (Embedding Model)\n",
    "\n",
    "Chúng ta tải **Embedding Model** (mô hình nhúng) bằng `langchain_huggingface`.\n",
    "\n",
    "Nếu bạn muốn sử dụng một mô hình khác, hãy sử dụng mô hình đó.\n"
   ]
  },
  {
   "cell_type": "code",
   "execution_count": 1,
   "metadata": {},
   "outputs": [
    {
     "name": "stderr",
     "output_type": "stream",
     "text": [
      "/Users/ngohongthai/miniconda3/envs/langchain/lib/python3.10/site-packages/tqdm/auto.py:21: TqdmWarning: IProgress not found. Please update jupyter and ipywidgets. See https://ipywidgets.readthedocs.io/en/stable/user_install.html\n",
      "  from .autonotebook import tqdm as notebook_tqdm\n",
      "A new version of the following files was downloaded from https://huggingface.co/Alibaba-NLP/new-impl:\n",
      "- configuration.py\n",
      ". Make sure to double-check they do not contain any added malicious code. To avoid downloading new versions of the code file, you can pin a revision.\n",
      "A new version of the following files was downloaded from https://huggingface.co/Alibaba-NLP/new-impl:\n",
      "- modeling.py\n",
      ". Make sure to double-check they do not contain any added malicious code. To avoid downloading new versions of the code file, you can pin a revision.\n"
     ]
    }
   ],
   "source": [
    "from langchain_huggingface import HuggingFaceEmbeddings\n",
    "\n",
    "model_name = \"Alibaba-NLP/gte-base-en-v1.5\"\n",
    "\n",
    "embeddings = HuggingFaceEmbeddings(\n",
    "    model_name=model_name, model_kwargs={\"trust_remote_code\": True}\n",
    ")"
   ]
  },
  {
   "cell_type": "markdown",
   "metadata": {},
   "source": [
    "### Tạo VectorDB\n",
    "\n",
    "**Library** (thư viện) được hỗ trợ bởi **LangChain** không có hàm `upsert` và thiếu tính đồng nhất giao diện với các **Vector DBs** (cơ sở dữ liệu vector) khác, vì vậy chúng tôi đã triển khai một lớp **Python** mới.\n",
    "\n",
    "Đầu tiên, tải một lớp **Python** từ **utils/chroma/basic.py**.\n"
   ]
  },
  {
   "cell_type": "code",
   "execution_count": 2,
   "metadata": {},
   "outputs": [],
   "source": [
    "from utils.chroma.basic import ChromaDB\n",
    "\n",
    "vector_store = ChromaDB(embeddings=embeddings)"
   ]
  },
  {
   "cell_type": "markdown",
   "metadata": {},
   "source": [
    "Create `ChromaDB` object.\n",
    "\n",
    "- **Mode** : `persistent`\n",
    "\n",
    "- **Persistent Path** : `data/chroma.sqlite` (Used `SQLite` DB)\n",
    "\n",
    "- **collection** : `test`\n",
    "\n",
    "- **hnsw:space** : `cosine`"
   ]
  },
  {
   "cell_type": "code",
   "execution_count": 3,
   "metadata": {},
   "outputs": [],
   "source": [
    "configs = {\n",
    "    \"mode\": \"persistent\",\n",
    "    \"persistent_path\": \"data/chroma_text\",\n",
    "    \"collection\": \"test\",\n",
    "    \"hnsw:space\": \"cosine\",\n",
    "}\n",
    "\n",
    "vector_store.connect(**configs)"
   ]
  },
  {
   "cell_type": "markdown",
   "metadata": {},
   "source": [
    "### Load Text Documents Data\n",
    "\n",
    "Trong hướng dẫn này, chúng ta sẽ sử dụng tài liệu truyện cổ tích **Hoàng Tử Bé** (A Little Prince).\n",
    "\n",
    "Để đưa dữ liệu này vào **Chroma**, chúng ta sẽ xử lý dữ liệu trước.\n",
    "\n",
    "Trước hết, chúng ta sẽ tải file `data/the_little_prince.txt` đã được trích xuất chỉ phần văn bản của tài liệu truyện cổ tích.\n"
   ]
  },
  {
   "cell_type": "code",
   "execution_count": 4,
   "metadata": {},
   "outputs": [],
   "source": [
    "# If your \"OS\" is \"Windows\", add 'encoding=utf-8' to the open function\n",
    "with open(\"./data/the_little_prince.txt\", \"r\", encoding=\"utf-8\") as f:\n",
    "    raw_text = f.read()"
   ]
  },
  {
   "cell_type": "markdown",
   "metadata": {},
   "source": [
    "Second, chunking the text imported into the `RecursiveCharacterTextSplitter` ."
   ]
  },
  {
   "cell_type": "code",
   "execution_count": 5,
   "metadata": {},
   "outputs": [
    {
     "name": "stdout",
     "output_type": "stream",
     "text": [
      "Content: The Little Prince\n",
      "Written By Antoine de Saiot-Exupery (1900〜1944)\n",
      "Metadata: {}\n",
      "\n",
      "Content: [ Antoine de Saiot-Exupery ]\n",
      "Metadata: {}\n",
      "\n"
     ]
    }
   ],
   "source": [
    "from langchain_text_splitters import RecursiveCharacterTextSplitter\n",
    "\n",
    "text_splitter = RecursiveCharacterTextSplitter(\n",
    "    # Set a really small chunk size, just to show.\n",
    "    chunk_size=100,\n",
    "    chunk_overlap=20,\n",
    "    length_function=len,\n",
    "    is_separator_regex=False,\n",
    ")\n",
    "\n",
    "split_docs = text_splitter.create_documents([raw_text])\n",
    "\n",
    "for docs in split_docs[:2]:\n",
    "    print(f\"Content: {docs.page_content}\\nMetadata: {docs.metadata}\", end=\"\\n\\n\")"
   ]
  },
  {
   "cell_type": "code",
   "execution_count": null,
   "metadata": {},
   "outputs": [],
   "source": [
    "# Preprocessing document for **Chroma**.\n",
    "pre_dosc = vector_store.preprocess_documents(\n",
    "    documents=split_docs,\n",
    "    source=\"The Little Prince\",\n",
    "    author=\"Antoine de Saint-Exupéry\",\n",
    "    chapter=True,\n",
    ")"
   ]
  },
  {
   "cell_type": "code",
   "execution_count": 7,
   "metadata": {},
   "outputs": [
    {
     "data": {
      "text/plain": [
       "[Document(metadata={'source': 'The Little Prince', 'author': 'Antoine de Saint-Exupéry', 'chapter': 1, 'id': '933ffdb9-8c67-4d75-8899-b00535b96ab8'}, page_content='- we are introduced to the narrator, a pilot, and his ideas about grown-ups'),\n",
       " Document(metadata={'source': 'The Little Prince', 'author': 'Antoine de Saint-Exupéry', 'chapter': 1, 'id': '1a178a15-5fd1-4860-9226-668042b71abc'}, page_content='Once when I was six years old I saw a magnificent picture in a book, called True Stories from')]"
      ]
     },
     "execution_count": 7,
     "metadata": {},
     "output_type": "execute_result"
    }
   ],
   "source": [
    "pre_dosc[:2]"
   ]
  },
  {
   "cell_type": "markdown",
   "metadata": {},
   "source": [
    "## Manage Store\n",
    "\n",
    "This section introduces four basic functions.\n",
    "\n",
    "- `add`\n",
    "\n",
    "- `upsert(parallel)`\n",
    "\n",
    "- `query`\n",
    "\n",
    "- `delete`"
   ]
  },
  {
   "cell_type": "markdown",
   "metadata": {},
   "source": [
    "### Add\n",
    "\n",
    "Add the new **Documents** .\n",
    "\n",
    "An error occurs if you have the same **ID** ."
   ]
  },
  {
   "cell_type": "code",
   "execution_count": 8,
   "metadata": {},
   "outputs": [],
   "source": [
    "vector_store.add(pre_documents=pre_dosc[:2])"
   ]
  },
  {
   "cell_type": "code",
   "execution_count": 9,
   "metadata": {},
   "outputs": [
    {
     "data": {
      "text/plain": [
       "['933ffdb9-8c67-4d75-8899-b00535b96ab8',\n",
       " '1a178a15-5fd1-4860-9226-668042b71abc']"
      ]
     },
     "execution_count": 9,
     "metadata": {},
     "output_type": "execute_result"
    }
   ],
   "source": [
    "uids = list(vector_store.unique_ids)\n",
    "uids"
   ]
  },
  {
   "cell_type": "code",
   "execution_count": 10,
   "metadata": {},
   "outputs": [
    {
     "data": {
      "text/plain": [
       "{'ids': ['933ffdb9-8c67-4d75-8899-b00535b96ab8'],\n",
       " 'embeddings': None,\n",
       " 'documents': ['- we are introduced to the narrator, a pilot, and his ideas about grown-ups'],\n",
       " 'uris': None,\n",
       " 'data': None,\n",
       " 'metadatas': [{'author': 'Antoine de Saint-Exupéry',\n",
       "   'chapter': 1,\n",
       "   'source': 'The Little Prince'}],\n",
       " 'included': [<IncludeEnum.documents: 'documents'>,\n",
       "  <IncludeEnum.metadatas: 'metadatas'>]}"
      ]
     },
     "execution_count": 10,
     "metadata": {},
     "output_type": "execute_result"
    }
   ],
   "source": [
    "vector_store.chroma.get(ids=uids[0])"
   ]
  },
  {
   "cell_type": "markdown",
   "metadata": {},
   "source": [
    "Error occurs when trying to `add` duplicate `ids` ."
   ]
  },
  {
   "cell_type": "code",
   "execution_count": 11,
   "metadata": {},
   "outputs": [
    {
     "name": "stderr",
     "output_type": "stream",
     "text": [
      "Add of existing embedding ID: 933ffdb9-8c67-4d75-8899-b00535b96ab8\n",
      "Add of existing embedding ID: 1a178a15-5fd1-4860-9226-668042b71abc\n",
      "Insert of existing embedding ID: 933ffdb9-8c67-4d75-8899-b00535b96ab8\n",
      "Insert of existing embedding ID: 1a178a15-5fd1-4860-9226-668042b71abc\n"
     ]
    }
   ],
   "source": [
    "vector_store.add(pre_documents=pre_dosc[:2])"
   ]
  },
  {
   "cell_type": "markdown",
   "metadata": {},
   "source": [
    "### Upsert(parallel)\n",
    "\n",
    "`Upsert` will `Update` a document or `Add` a new document if the same `ID` exists."
   ]
  },
  {
   "cell_type": "code",
   "execution_count": 12,
   "metadata": {},
   "outputs": [
    {
     "data": {
      "text/plain": [
       "{'ids': ['933ffdb9-8c67-4d75-8899-b00535b96ab8',\n",
       "  '1a178a15-5fd1-4860-9226-668042b71abc'],\n",
       " 'embeddings': None,\n",
       " 'documents': ['- we are introduced to the narrator, a pilot, and his ideas about grown-ups',\n",
       "  'Once when I was six years old I saw a magnificent picture in a book, called True Stories from'],\n",
       " 'uris': None,\n",
       " 'data': None,\n",
       " 'metadatas': [{'author': 'Antoine de Saint-Exupéry',\n",
       "   'chapter': 1,\n",
       "   'source': 'The Little Prince'},\n",
       "  {'author': 'Antoine de Saint-Exupéry',\n",
       "   'chapter': 1,\n",
       "   'source': 'The Little Prince'}],\n",
       " 'included': [<IncludeEnum.documents: 'documents'>,\n",
       "  <IncludeEnum.metadatas: 'metadatas'>]}"
      ]
     },
     "execution_count": 12,
     "metadata": {},
     "output_type": "execute_result"
    }
   ],
   "source": [
    "tmp_ids = [docs.metadata[\"id\"] for docs in pre_dosc[:2]]\n",
    "vector_store.chroma.get(ids=tmp_ids)"
   ]
  },
  {
   "cell_type": "code",
   "execution_count": 13,
   "metadata": {},
   "outputs": [
    {
     "data": {
      "text/plain": [
       "Document(metadata={'source': 'The Little Prince', 'author': 'Antoine de Saint-Exupéry', 'chapter': 1, 'id': '933ffdb9-8c67-4d75-8899-b00535b96ab8'}, page_content='Changed Content')"
      ]
     },
     "execution_count": 13,
     "metadata": {},
     "output_type": "execute_result"
    }
   ],
   "source": [
    "pre_dosc[0].page_content = \"Changed Content\"\n",
    "pre_dosc[0]"
   ]
  },
  {
   "cell_type": "code",
   "execution_count": 14,
   "metadata": {},
   "outputs": [
    {
     "data": {
      "text/plain": [
       "{'ids': ['933ffdb9-8c67-4d75-8899-b00535b96ab8',\n",
       "  '1a178a15-5fd1-4860-9226-668042b71abc'],\n",
       " 'embeddings': None,\n",
       " 'documents': ['Changed Content',\n",
       "  'Once when I was six years old I saw a magnificent picture in a book, called True Stories from'],\n",
       " 'uris': None,\n",
       " 'data': None,\n",
       " 'metadatas': [{'author': 'Antoine de Saint-Exupéry',\n",
       "   'chapter': 1,\n",
       "   'id': '933ffdb9-8c67-4d75-8899-b00535b96ab8',\n",
       "   'source': 'The Little Prince'},\n",
       "  {'author': 'Antoine de Saint-Exupéry',\n",
       "   'chapter': 1,\n",
       "   'id': '1a178a15-5fd1-4860-9226-668042b71abc',\n",
       "   'source': 'The Little Prince'}],\n",
       " 'included': [<IncludeEnum.documents: 'documents'>,\n",
       "  <IncludeEnum.metadatas: 'metadatas'>]}"
      ]
     },
     "execution_count": 14,
     "metadata": {},
     "output_type": "execute_result"
    }
   ],
   "source": [
    "vector_store.upsert_documents(\n",
    "    documents=pre_dosc[:2],\n",
    ")\n",
    "tmp_ids = [docs.metadata[\"id\"] for docs in pre_dosc[:2]]\n",
    "vector_store.chroma.get(ids=tmp_ids)"
   ]
  },
  {
   "cell_type": "code",
   "execution_count": 15,
   "metadata": {},
   "outputs": [],
   "source": [
    "# parallel upsert\n",
    "vector_store.upsert_documents_parallel(\n",
    "    documents=pre_dosc,\n",
    "    batch_size=32,\n",
    "    max_workers=10,\n",
    ")"
   ]
  },
  {
   "cell_type": "markdown",
   "metadata": {},
   "source": [
    "## Query Vector Store\n",
    "\n",
    "Có hai cách để **Query** (truy vấn) **LangChain Chroma Vector Store**.\n",
    "\n",
    "-   **Directly** (Trực tiếp): Truy vấn vector store trực tiếp bằng các phương thức như `similarity_search` hoặc `similarity_search_with_score`.\n",
    "\n",
    "-   **Turning into retriever** (Chuyển thành retriever): Chuyển đổi vector store thành một đối tượng **retriever**, có thể được sử dụng trong các pipeline hoặc chain của **LangChain**.\n"
   ]
  },
  {
   "cell_type": "markdown",
   "metadata": {},
   "source": [
    "### Query\n",
    "\n",
    "Phương thức này được tạo bằng cách bao bọc các phương thức của `langchain-chroma`.\n",
    "\n",
    "**Tham số (Parameters)**\n",
    "\n",
    "-   `query:str` - Văn bản truy vấn để tìm kiếm.\n",
    "\n",
    "-   `k:int = DEFAULT_K` - Số lượng kết quả trả về. Mặc định là 4.\n",
    "\n",
    "-   `filter: Dict[str, str] | None = None` - Lọc theo metadata. Mặc định là None.\n",
    "\n",
    "-   `where_document: Dict[str, str] | None = None` - dict được sử dụng để lọc theo documents. Ví dụ: {$contains: {\"text\": \"hello\"}}.\n",
    "\n",
    "-   `**kwargs:Any` : Các đối số từ khóa bổ sung để truyền cho truy vấn collection của Chroma.\n",
    "\n",
    "**Trả về (Returns)**\n",
    "\n",
    "-   `List[Document]` - Danh sách các documents tương tự nhất với văn bản truy vấn và khoảng cách ở dạng float cho mỗi document. Điểm thấp hơn thể hiện sự tương đồng cao hơn.\n"
   ]
  },
  {
   "cell_type": "markdown",
   "metadata": {},
   "source": [
    "**Simple Search**"
   ]
  },
  {
   "cell_type": "code",
   "execution_count": 16,
   "metadata": {},
   "outputs": [
    {
     "name": "stdout",
     "output_type": "stream",
     "text": [
      "ID: cd3d8047-71bf-4202-bf94-f95b19986284\n",
      "Chapter: 7\n",
      "Page Content: prince disturbed my thoughts.\n",
      "\n",
      "ID: 35960dc8-8cb4-467a-a994-990d69858db4\n",
      "Chapter: 6\n",
      "Page Content: Oh, little prince! Bit by bit I came to understand the secrets of your sad little life... For a\n",
      "\n"
     ]
    }
   ],
   "source": [
    "docs = vector_store.query(query=\"Prince\", top_k=2)\n",
    "\n",
    "for doc in docs:\n",
    "    print(\"ID:\", doc.metadata[\"id\"])\n",
    "    print(\"Chapter:\", doc.metadata[\"chapter\"])\n",
    "    print(\"Page Content:\", doc.page_content)\n",
    "    print()"
   ]
  },
  {
   "cell_type": "markdown",
   "metadata": {},
   "source": [
    "**Filtering Search**"
   ]
  },
  {
   "cell_type": "code",
   "execution_count": 17,
   "metadata": {},
   "outputs": [
    {
     "name": "stdout",
     "output_type": "stream",
     "text": [
      "ID: 0540b8fc-84b6-4051-84b4-f2dbe0d58018\n",
      "Chapter: 20\n",
      "Page Content: snow, the little prince at last came upon a road. And all roads lead to the abodes of men.\n",
      "\n",
      "ID: da84b43c-b9eb-440f-972d-799a9161269c\n",
      "Chapter: 20\n",
      "Page Content: extinct forever... that doesn‘t make me a very great prince...\"\n",
      "\n"
     ]
    }
   ],
   "source": [
    "docs = vector_store.query(query=\"Prince\", top_k=2, filters={\"chapter\": 20})\n",
    "\n",
    "for doc in docs:\n",
    "    print(\"ID:\", doc.metadata[\"id\"])\n",
    "    print(\"Chapter:\", doc.metadata[\"chapter\"])\n",
    "    print(\"Page Content:\", doc.page_content)\n",
    "    print()"
   ]
  },
  {
   "cell_type": "markdown",
   "metadata": {},
   "source": [
    "**Cosine Similarity Search**"
   ]
  },
  {
   "cell_type": "code",
   "execution_count": 18,
   "metadata": {},
   "outputs": [
    {
     "name": "stdout",
     "output_type": "stream",
     "text": [
      "ID: 0540b8fc-84b6-4051-84b4-f2dbe0d58018\n",
      "Chapter: 20\n",
      "Page Content: snow, the little prince at last came upon a road. And all roads lead to the abodes of men.\n",
      "Similarity Score: 60.0%\n",
      "\n",
      "ID: da84b43c-b9eb-440f-972d-799a9161269c\n",
      "Chapter: 20\n",
      "Page Content: extinct forever... that doesn‘t make me a very great prince...\"\n",
      "Similarity Score: 54.0%\n",
      "\n"
     ]
    }
   ],
   "source": [
    "# Cosine Similarity\n",
    "results = vector_store.query(query=\"Prince\", top_k=2, cs=True, filters={\"chapter\": 20})\n",
    "\n",
    "for doc, score in results:\n",
    "    print(\"ID:\", doc.metadata[\"id\"])\n",
    "    print(\"Chapter:\", doc.metadata[\"chapter\"])\n",
    "    print(\"Page Content:\", doc.page_content)\n",
    "    print(f\"Similarity Score: {round(score,2)*100:.1f}%\")\n",
    "    print()"
   ]
  },
  {
   "cell_type": "markdown",
   "metadata": {},
   "source": [
    "### as_retriever()\n",
    "\n",
    "Phương thức `as_retriever()` chuyển đổi một đối tượng `VectorStore` thành một đối tượng `Retriever`.\n",
    "\n",
    "Một `Retriever` là một giao diện được sử dụng trong `LangChain` để truy vấn một vector store và truy xuất các tài liệu liên quan.\n",
    "\n",
    "**Tham số**\n",
    "\n",
    "- `search_type:Optional[str]` - Xác định loại tìm kiếm mà `Retriever` sẽ thực hiện. Có thể là `similarity` (mặc định), `mmr`, hoặc `similarity_score_threshold`.\n",
    "\n",
    "- `search_kwargs:Optional[Dict]` - Các đối số từ khóa được chuyển cho hàm tìm kiếm.\n",
    "\n",
    "    Có thể bao gồm những thứ như:\n",
    "\n",
    "    `k` : Số lượng tài liệu cần trả về (Mặc định: 4)\n",
    "\n",
    "    `score_threshold` : Ngưỡng độ liên quan tối thiểu cho `similarity_score_threshold`\n",
    "\n",
    "    `fetch_k` : Số lượng tài liệu được chuyển cho thuật toán `MMR` (Mặc định: 20)\n",
    "        \n",
    "    `lambda_mult` : Độ đa dạng của kết quả được trả về bởi `MMR`; 1 cho độ đa dạng tối thiểu và 0 cho độ đa dạng tối đa. (Mặc định: 0.5)\n",
    "\n",
    "    `filter` : Lọc theo metadata của tài liệu\n",
    "\n",
    "**Trả về**\n",
    "\n",
    "- `VectorStoreRetriever` - Lớp `Retriever` cho `VectorStore`.\n",
    "\n",
    "### invoke()\n",
    "\n",
    "Gọi `retriever` để lấy các tài liệu liên quan.\n",
    "\n",
    "Điểm truy cập chính cho các lệnh gọi `retriever` đồng bộ.\n",
    "\n",
    "**Tham số**\n",
    "\n",
    "- `input:str` - Chuỗi truy vấn.\n",
    "\n",
    "- `config:RunnableConfig | None = None` - Cấu hình cho `retriever`. Mặc định là `None`.\n",
    "\n",
    "- `**kwargs:Any` - Các đối số bổ sung được chuyển cho `retriever`.\n",
    "\n",
    "**Trả về**\n",
    "\n",
    "- `List[Document]` : Danh sách các tài liệu liên quan.\n"
   ]
  },
  {
   "cell_type": "code",
   "execution_count": 19,
   "metadata": {},
   "outputs": [],
   "source": [
    "from langchain_chroma import Chroma\n",
    "\n",
    "client = Chroma(\n",
    "    collection_name=\"test\",\n",
    "    persist_directory=\"data/chroma_text\",\n",
    "    collection_metadata={\"hnsw:space\": \"cosine\"},\n",
    "    embedding_function=embeddings,\n",
    ")"
   ]
  },
  {
   "cell_type": "code",
   "execution_count": 20,
   "metadata": {},
   "outputs": [
    {
     "name": "stdout",
     "output_type": "stream",
     "text": [
      "ID: 7a45b263-d531-48c4-aed3-094ebd874df3\n",
      "Chapter: 5\n",
      "Page Content: Indeed, as I learned, there were on the planet where the little prince lived-- as on all planets--\n",
      "\n",
      "ID: 35fc3041-a366-4b3c-8cc5-a18939c363cb\n",
      "Chapter: 5\n",
      "Page Content: Now there were some terrible seeds on the planet that was the home of the little prince; and these\n",
      "\n"
     ]
    }
   ],
   "source": [
    "retriever = client.as_retriever(search_type=\"similarity\", search_kwargs={\"k\": 2})\n",
    "docs = retriever.invoke(\"Prince\", filter={\"chapter\": 5})\n",
    "\n",
    "for doc in docs:\n",
    "    print(\"ID:\", doc.id)\n",
    "    print(\"Chapter:\", doc.metadata[\"chapter\"])\n",
    "    print(\"Page Content:\", doc.page_content)\n",
    "    print()"
   ]
  },
  {
   "cell_type": "markdown",
   "metadata": {},
   "source": [
    "### Delete\n",
    "\n",
    "`Delete` the Documents.\n",
    "\n",
    "You can use with `filter` ."
   ]
  },
  {
   "cell_type": "code",
   "execution_count": 21,
   "metadata": {},
   "outputs": [
    {
     "data": {
      "text/plain": [
       "1317"
      ]
     },
     "execution_count": 21,
     "metadata": {},
     "output_type": "execute_result"
    }
   ],
   "source": [
    "len(vector_store.unique_ids)"
   ]
  },
  {
   "cell_type": "code",
   "execution_count": 22,
   "metadata": {},
   "outputs": [
    {
     "data": {
      "text/plain": [
       "43"
      ]
     },
     "execution_count": 22,
     "metadata": {},
     "output_type": "execute_result"
    }
   ],
   "source": [
    "len([docs for docs in pre_dosc if docs.metadata[\"chapter\"] == 1])"
   ]
  },
  {
   "cell_type": "code",
   "execution_count": 23,
   "metadata": {},
   "outputs": [
    {
     "name": "stdout",
     "output_type": "stream",
     "text": [
      "Success Delete 43 Documents\n"
     ]
    }
   ],
   "source": [
    "vector_store.delete_by_filter(\n",
    "    unique_ids=list(vector_store.unique_ids), filters={\"chapter\": 1}\n",
    ")"
   ]
  },
  {
   "cell_type": "code",
   "execution_count": 24,
   "metadata": {},
   "outputs": [
    {
     "data": {
      "text/plain": [
       "1274"
      ]
     },
     "execution_count": 24,
     "metadata": {},
     "output_type": "execute_result"
    }
   ],
   "source": [
    "len(vector_store.unique_ids)"
   ]
  },
  {
   "cell_type": "code",
   "execution_count": 25,
   "metadata": {},
   "outputs": [
    {
     "name": "stdout",
     "output_type": "stream",
     "text": [
      "Success Delete 1274 Documents\n"
     ]
    }
   ],
   "source": [
    "vector_store.delete_by_filter(unique_ids=list(vector_store.unique_ids))"
   ]
  },
  {
   "cell_type": "code",
   "execution_count": 26,
   "metadata": {},
   "outputs": [
    {
     "data": {
      "text/plain": [
       "0"
      ]
     },
     "execution_count": 26,
     "metadata": {},
     "output_type": "execute_result"
    }
   ],
   "source": [
    "len(vector_store.unique_ids)"
   ]
  },
  {
   "cell_type": "markdown",
   "metadata": {},
   "source": [
    "Remove a **Huggingface Cache** , `vector_store` , `embeddings` and `client` .\n",
    "\n",
    "If you created a **vectordb** directory, please **remove** it at the end of this tutorial."
   ]
  },
  {
   "cell_type": "code",
   "execution_count": 27,
   "metadata": {},
   "outputs": [
    {
     "data": {
      "text/plain": [
       "DeleteCacheStrategy(expected_freed_size=0, blobs=frozenset(), refs=frozenset(), repos=frozenset(), snapshots=frozenset())"
      ]
     },
     "execution_count": 27,
     "metadata": {},
     "output_type": "execute_result"
    }
   ],
   "source": [
    "from huggingface_hub import scan_cache_dir\n",
    "\n",
    "del embeddings\n",
    "del vector_store\n",
    "del client\n",
    "scan = scan_cache_dir()\n",
    "scan.delete_revisions()"
   ]
  },
  {
   "cell_type": "markdown",
   "metadata": {},
   "source": [
    "## Trình quản lý tài liệu (Document Manager)\n",
    "\n",
    "Chúng tôi đã phát triển một giao diện giúp **CRUD** của **VectorDB** dễ sử dụng trong các hướng dẫn.\n",
    "\n",
    "Các tính năng như sau:\n",
    "\n",
    "- `upsert`: Chèn hoặc cập nhật các tài liệu trong cơ sở dữ liệu vector với metadata và embeddings tùy chọn.\n",
    "\n",
    "- `upsert_parallel`: Xử lý việc chèn hoặc cập nhật hàng loạt song song để cải thiện hiệu suất.\n",
    "\n",
    "- `search`: Tìm kiếm k tài liệu tương tự nhất bằng cách sử dụng **cosine similarity** (Trong hướng dẫn này, chúng tôi cố định điểm tương đồng là cosine similarity).\n",
    "\n",
    "- `delete`: Xóa tài liệu theo ID hoặc lọc dựa trên metadata hoặc nội dung.\n",
    "\n",
    "Mỗi hàm được kế thừa và phát triển cho từng vector DB.\n",
    "\n",
    "Trong hướng dẫn này, nó được phát triển cho **Chroma**.\n"
   ]
  },
  {
   "cell_type": "markdown",
   "metadata": {},
   "source": [
    "Load **Chroma Client** and **Embedding** ."
   ]
  },
  {
   "cell_type": "code",
   "execution_count": 28,
   "metadata": {},
   "outputs": [],
   "source": [
    "import chromadb\n",
    "\n",
    "client = chromadb.Client()  # in-memory"
   ]
  },
  {
   "cell_type": "code",
   "execution_count": 29,
   "metadata": {},
   "outputs": [],
   "source": [
    "from langchain_huggingface import HuggingFaceEmbeddings\n",
    "\n",
    "model_name = \"Alibaba-NLP/gte-base-en-v1.5\"\n",
    "\n",
    "embeddings = HuggingFaceEmbeddings(\n",
    "    model_name=model_name, model_kwargs={\"trust_remote_code\": True}\n",
    ")"
   ]
  },
  {
   "cell_type": "markdown",
   "metadata": {},
   "source": [
    "Load `ChromaDocumentManager` ."
   ]
  },
  {
   "cell_type": "code",
   "execution_count": 30,
   "metadata": {},
   "outputs": [],
   "source": [
    "from utils.chroma.crud import ChromaDocumentMangager\n",
    "\n",
    "cdm = ChromaDocumentMangager(\n",
    "    client=client,\n",
    "    embedding=embeddings,\n",
    "    name=\"chroma\",\n",
    "    metadata={\"created_by\": \"pupba\"},\n",
    ")"
   ]
  },
  {
   "cell_type": "markdown",
   "metadata": {},
   "source": [
    "Preprocessing for `Upsert` ."
   ]
  },
  {
   "cell_type": "code",
   "execution_count": 31,
   "metadata": {},
   "outputs": [],
   "source": [
    "test_docs = pre_dosc[:50]\n",
    "\n",
    "ids = [doc.metadata[\"id\"] for doc in test_docs]\n",
    "texts = [doc.page_content for doc in test_docs]\n",
    "metadatas = [{k: v for k, v in doc.metadata.items() if k != \"id\"} for doc in test_docs]"
   ]
  },
  {
   "cell_type": "markdown",
   "metadata": {},
   "source": [
    "### Upsert\n",
    "\n",
    "Phương thức `upsert` được thiết kế để **chèn** hoặc **cập nhật** các tài liệu trong cơ sở dữ liệu vector.\n",
    "\n",
    "Nó nhận các tham số sau:\n",
    "\n",
    "- **texts**: Một tập hợp các văn bản tài liệu cần chèn hoặc cập nhật.\n",
    "\n",
    "- **metadatas**: Metadata tùy chọn được liên kết với mỗi tài liệu.\n",
    "\n",
    "- **ids**: Các định danh duy nhất tùy chọn cho mỗi tài liệu.\n",
    "\n",
    "- ****kwargs**: Các đối số từ khóa bổ sung để linh hoạt.\n"
   ]
  },
  {
   "cell_type": "code",
   "execution_count": 32,
   "metadata": {},
   "outputs": [],
   "source": [
    "cdm.upsert(texts=texts[:5], metadatas=metadatas[:5], ids=ids[:5])"
   ]
  },
  {
   "cell_type": "code",
   "execution_count": 33,
   "metadata": {},
   "outputs": [
    {
     "data": {
      "text/plain": [
       "['933ffdb9-8c67-4d75-8899-b00535b96ab8',\n",
       " '1a178a15-5fd1-4860-9226-668042b71abc',\n",
       " '3f8900ec-328b-4618-b3e7-31a11ca83430',\n",
       " 'a4259958-c82f-441e-a40a-f4926381f356',\n",
       " '3b3f9ad6-ed0a-447d-959a-f127a9c74ee2']"
      ]
     },
     "execution_count": 33,
     "metadata": {},
     "output_type": "execute_result"
    }
   ],
   "source": [
    "cdm.collection.get()[\"ids\"]"
   ]
  },
  {
   "cell_type": "markdown",
   "metadata": {},
   "source": [
    "### Upsert-Parallel\n",
    "\n",
    "Phương thức `upsert_parallel` là phiên bản tối ưu hóa của `upsert` xử lý các tài liệu song song.\n",
    "\n",
    "Các tham số sau được thêm vào:\n",
    "\n",
    "- **batch_size**: Số lượng tài liệu cần xử lý trong mỗi lô (mặc định: 32).\n",
    "\n",
    "- **workers**: Số lượng worker song song cần sử dụng (mặc định: 10).\n"
   ]
  },
  {
   "cell_type": "code",
   "execution_count": 34,
   "metadata": {},
   "outputs": [],
   "source": [
    "cdm.upsert_parallel(\n",
    "    texts=texts,\n",
    "    metadatas=metadatas,\n",
    "    ids=ids,\n",
    ")"
   ]
  },
  {
   "cell_type": "code",
   "execution_count": 35,
   "metadata": {},
   "outputs": [
    {
     "data": {
      "text/plain": [
       "50"
      ]
     },
     "execution_count": 35,
     "metadata": {},
     "output_type": "execute_result"
    }
   ],
   "source": [
    "len(cdm.collection.get()[\"ids\"])"
   ]
  },
  {
   "cell_type": "markdown",
   "metadata": {},
   "source": [
    "### Tìm kiếm (Search)\n",
    "\n",
    "Phương thức `search` trả về một danh sách các đối tượng `Document`, là k tài liệu tương tự nhất với truy vấn.\n",
    "\n",
    "- **query**: Một chuỗi đại diện cho truy vấn tìm kiếm.\n",
    "\n",
    "- **k**: Một số nguyên chỉ định số lượng kết quả hàng đầu cần trả về (mặc định là 10).\n",
    "\n",
    "- ****kwargs**: Các đối số từ khóa bổ sung để linh hoạt trong các tùy chọn tìm kiếm. Điều này có thể bao gồm các bộ lọc metadata (`where`, `where_document`).\n"
   ]
  },
  {
   "cell_type": "code",
   "execution_count": 36,
   "metadata": {},
   "outputs": [
    {
     "data": {
      "text/plain": [
       "[Document(metadata={'id': 'ae06fced-f049-4b0d-8664-2fe86f7d13bb', 'score': 0.52, 'author': 'Antoine de Saint-Exupéry', 'chapter': 2, 'source': 'The Little Prince'}, page_content='- the narrator crashes in the desert and makes the acquaintance of the little prince'),\n",
       " Document(metadata={'id': '8b7712f1-38bf-4f80-a604-b3758e9dbae6', 'score': 0.45, 'author': 'Antoine de Saint-Exupéry', 'chapter': 1, 'source': 'The Little Prince'}, page_content='I pondered deeply, then, over the adventures of the jungle. And after some work with a colored')]"
      ]
     },
     "execution_count": 36,
     "metadata": {},
     "output_type": "execute_result"
    }
   ],
   "source": [
    "results = cdm.search(\"prince\", k=2)\n",
    "results"
   ]
  },
  {
   "cell_type": "code",
   "execution_count": 37,
   "metadata": {},
   "outputs": [
    {
     "data": {
      "text/plain": [
       "[Document(metadata={'id': '8b7712f1-38bf-4f80-a604-b3758e9dbae6', 'score': 0.45, 'author': 'Antoine de Saint-Exupéry', 'chapter': 1, 'source': 'The Little Prince'}, page_content='I pondered deeply, then, over the adventures of the jungle. And after some work with a colored'),\n",
       " Document(metadata={'id': '5abd8ea6-725f-4734-b2fc-4a87e8bc2842', 'score': 0.41, 'author': 'Antoine de Saint-Exupéry', 'chapter': 1, 'source': 'The Little Prince'}, page_content='to be always and forever explaining things to them.')]"
      ]
     },
     "execution_count": 37,
     "metadata": {},
     "output_type": "execute_result"
    }
   ],
   "source": [
    "results = cdm.search(\"prince\", k=2, where={\"chapter\": 1})\n",
    "results"
   ]
  },
  {
   "cell_type": "markdown",
   "metadata": {},
   "source": [
    "### Delete\n",
    "\n",
    "The `delete` method removes documents from the vector database based on specified criteria.\n",
    "\n",
    "- `ids` : A list of document IDs to be deleted. If None, all documents delete.\n",
    "\n",
    "- `filters` : A dictionary specifying filtering criteria for deletion. This can include metadata filters( `where` , `where_document` ).\n",
    "\n",
    "- `**kwargs` : Additional keyword arguments for custom deletion options.\n"
   ]
  },
  {
   "cell_type": "code",
   "execution_count": 38,
   "metadata": {},
   "outputs": [
    {
     "data": {
      "text/plain": [
       "50"
      ]
     },
     "execution_count": 38,
     "metadata": {},
     "output_type": "execute_result"
    }
   ],
   "source": [
    "len(cdm.collection.get()[\"ids\"])"
   ]
  },
  {
   "cell_type": "code",
   "execution_count": 39,
   "metadata": {},
   "outputs": [
    {
     "data": {
      "text/plain": [
       "30"
      ]
     },
     "execution_count": 39,
     "metadata": {},
     "output_type": "execute_result"
    }
   ],
   "source": [
    "ids = cdm.collection.get()[\"ids\"][:20]\n",
    "cdm.delete(ids=ids)\n",
    "len(cdm.collection.get()[\"ids\"])"
   ]
  },
  {
   "cell_type": "code",
   "execution_count": 40,
   "metadata": {},
   "outputs": [
    {
     "name": "stdout",
     "output_type": "stream",
     "text": [
      "Chapter 1 documents counts: 23\n"
     ]
    }
   ],
   "source": [
    "ids = cdm.collection.get(where={\"chapter\": 1})[\"ids\"]\n",
    "print(\"Chapter 1 documents counts:\", len(ids))"
   ]
  },
  {
   "cell_type": "code",
   "execution_count": null,
   "metadata": {},
   "outputs": [],
   "source": []
  }
 ],
 "metadata": {
  "kernelspec": {
   "display_name": "langchain",
   "language": "python",
   "name": "python3"
  },
  "language_info": {
   "codemirror_mode": {
    "name": "ipython",
    "version": 3
   },
   "file_extension": ".py",
   "mimetype": "text/x-python",
   "name": "python",
   "nbconvert_exporter": "python",
   "pygments_lexer": "ipython3",
   "version": "3.10.16"
  }
 },
 "nbformat": 4,
 "nbformat_minor": 2
}
