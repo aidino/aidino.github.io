{
 "cells": [
  {
   "cell_type": "markdown",
   "metadata": {},
   "source": [
    "# Document & Document Loader\n",
    "\n",
    "This tutorial covers the fundamental methods for loading Documents.\n",
    "\n",
    "By completing this tutorial, you will learn how to load Documents and check their content and associated metadata.\n",
    "\n",
    "\n",
    "- Requirement libs\n",
    "\n",
    "```bash\n",
    "pip install langchain_text_splitters pypdf\n",
    "```"
   ]
  },
  {
   "cell_type": "code",
   "execution_count": 1,
   "metadata": {},
   "outputs": [],
   "source": [
    "import os\n",
    "from dotenv import load_dotenv\n",
    "from langchain_openai import ChatOpenAI\n",
    "from langchain_core.prompts import PromptTemplate\n",
    "from langchain_core.output_parsers import StrOutputParser\n",
    "\n",
    "load_dotenv(override=True, dotenv_path=\"../.env\")\n",
    "\n",
    "llm = ChatOpenAI(model_name=\"gpt-3.5-turbo\", temperature=0.0)"
   ]
  },
  {
   "cell_type": "markdown",
   "metadata": {},
   "source": [
    "## Document\n",
    "\n",
    "Lớp (Class) để lưu trữ một đoạn văn bản và siêu dữ liệu (metadata) liên quan.\n",
    "\n",
    "-   `page_content` (Bắt buộc): Lưu trữ một đoạn văn bản dưới dạng chuỗi (string).\n",
    "-   `metadata` (Tùy chọn): Lưu trữ siêu dữ liệu liên quan đến `page_content` dưới dạng từ điển (dictionary).\n"
   ]
  },
  {
   "cell_type": "code",
   "execution_count": 1,
   "metadata": {},
   "outputs": [],
   "source": [
    "from langchain_core.documents import Document\n",
    "\n",
    "document = Document(page_content=\"Hello, welcome to LangChain Open Tutorial!\")"
   ]
  },
  {
   "cell_type": "code",
   "execution_count": 2,
   "metadata": {},
   "outputs": [
    {
     "data": {
      "text/plain": [
       "Document(metadata={}, page_content='Hello, welcome to LangChain Open Tutorial!')"
      ]
     },
     "execution_count": 2,
     "metadata": {},
     "output_type": "execute_result"
    }
   ],
   "source": [
    "document"
   ]
  },
  {
   "cell_type": "code",
   "execution_count": 4,
   "metadata": {},
   "outputs": [
    {
     "data": {
      "text/plain": [
       "{'id': None,\n",
       " 'metadata': {},\n",
       " 'page_content': 'Hello, welcome to LangChain Open Tutorial!',\n",
       " 'type': 'Document'}"
      ]
     },
     "execution_count": 4,
     "metadata": {},
     "output_type": "execute_result"
    }
   ],
   "source": [
    "document.__dict__"
   ]
  },
  {
   "cell_type": "code",
   "execution_count": 5,
   "metadata": {},
   "outputs": [
    {
     "data": {
      "text/plain": [
       "{'source': './example-file.pdf', 'page': 0}"
      ]
     },
     "execution_count": 5,
     "metadata": {},
     "output_type": "execute_result"
    }
   ],
   "source": [
    "# Add metadata\n",
    "document.metadata[\"source\"] = \"./example-file.pdf\"\n",
    "document.metadata[\"page\"] = 0\n",
    "\n",
    "# Check metadata\n",
    "document.metadata"
   ]
  },
  {
   "cell_type": "markdown",
   "metadata": {},
   "source": [
    "## Document Loader\n",
    "\n",
    "Document Loader is a class that loads Documents from various sources.\n",
    "\n",
    "Listed below are some examples of Document Loaders.\n",
    "\n",
    "- `PyPDFLoader`: Loads PDF files\n",
    "- `CSVLoader`: Loads CSV files\n",
    "- `UnstructuredHTMLLoader`: Loads HTML files\n",
    "- `JSONLoader`: Loads JSON files\n",
    "- `TextLoader`: Loads text files\n",
    "- `DirectoryLoader`: Loads documents from a directory"
   ]
  },
  {
   "cell_type": "code",
   "execution_count": 6,
   "metadata": {},
   "outputs": [],
   "source": [
    "FILE_PATH=\"data/01-document-loader-sample.pdf\""
   ]
  },
  {
   "cell_type": "code",
   "execution_count": 7,
   "metadata": {},
   "outputs": [],
   "source": [
    "from langchain_community.document_loaders import PyPDFLoader\n",
    "loader = PyPDFLoader(file_path=FILE_PATH)"
   ]
  },
  {
   "cell_type": "markdown",
   "metadata": {},
   "source": [
    "### `load()`\n",
    "\n",
    "- Loads Documents and returns them as a `list[Document]`."
   ]
  },
  {
   "cell_type": "code",
   "execution_count": 8,
   "metadata": {},
   "outputs": [
    {
     "data": {
      "text/plain": [
       "[Document(metadata={'producer': 'Microsoft® Word 2010', 'creator': 'Microsoft® Word 2010', 'creationdate': '2016-10-11T15:32:07-04:00', 'author': 'NITRD AI Task Force', 'keywords': 'Artificial Intelligence, AI, Machine Learning, ML, Deep Learning, DL, Neural Networks,', 'moddate': '2016-10-11T20:19:58-04:00', 'title': 'The National Artificial Intelligence Research and Development Strategic Plan', 'source': 'data/01-document-loader-sample.pdf', 'total_pages': 48, 'page': 0, 'page_label': '1'}, page_content='October 2016 \\n \\n \\n \\n \\n \\n \\n \\n \\n \\nTHE NATIONAL  \\nARTIFICIAL INTELLIGENCE \\nRESEARCH AND DEVELOPMENT \\nSTRATEGIC PLAN  \\nNational Science and Technology Council \\n \\nNetworking and Information Technology \\nResearch and Development Subcommittee'),\n",
       " Document(metadata={'producer': 'Microsoft® Word 2010', 'creator': 'Microsoft® Word 2010', 'creationdate': '2016-10-11T15:32:07-04:00', 'author': 'NITRD AI Task Force', 'keywords': 'Artificial Intelligence, AI, Machine Learning, ML, Deep Learning, DL, Neural Networks,', 'moddate': '2016-10-11T20:19:58-04:00', 'title': 'The National Artificial Intelligence Research and Development Strategic Plan', 'source': 'data/01-document-loader-sample.pdf', 'total_pages': 48, 'page': 1, 'page_label': '2'}, page_content='ii'),\n",
       " Document(metadata={'producer': 'Microsoft® Word 2010', 'creator': 'Microsoft® Word 2010', 'creationdate': '2016-10-11T15:32:07-04:00', 'author': 'NITRD AI Task Force', 'keywords': 'Artificial Intelligence, AI, Machine Learning, ML, Deep Learning, DL, Neural Networks,', 'moddate': '2016-10-11T20:19:58-04:00', 'title': 'The National Artificial Intelligence Research and Development Strategic Plan', 'source': 'data/01-document-loader-sample.pdf', 'total_pages': 48, 'page': 2, 'page_label': '3'}, page_content='iii \\nAbout the National Science and Technology Council \\nThe National Science and Technology Council (NSTC) is the principal means by which the Executive \\nBranch coordinates science and technology policy across the diverse entities that make up the Federal \\nresearch and development (R&D) enterprise . One of the NSTC’s primary objectives is establishing clear \\nnational goals for Federal science and technology investments . The NSTC prepares R&D packages aimed \\nat accomplishing multiple national goals . The NSTC’s work is organized under five committees: \\nEnvironment, Natural Resources, and Sustainability; Homeland and National S ecurity; Science, \\nTechnology, Engineering, and Mathematics (STEM) Education; Science; and Technology . Each of these \\ncommittees oversees subcommittees and working groups that are focused on different aspects of \\nscience and technology. More information is available at www.whitehouse.gov/ostp/nstc. \\nAbout the Office of Science and Technology Policy \\nThe Office of Science and Technology Policy (OSTP) was established by the National Science and \\nTechnology Policy, Organization, and Priorities Act of 1976 . The mission of OSTP is threefold; first, to \\nprovide the President and his senior staff with accurate, relevant, and timely scientific and technical advice \\non all matters of consequence; second, to ensure that the policies of the Executive Branch are informed by \\nsound science; and third, to ensure that the scientific and technical work of the Executive Branch is \\nproperly coordinated so as to provide the greatest benefit to society. The Director of OSTP also serves as \\nAssistant to the President for Science and Technology and manages the NSTC . More information is \\navailable at www.whitehouse.gov/ostp. \\nAbout the Subcommittee on Networking and Information Technology  Research and \\nDevelopment \\nThe Subcommittee on Networking and Information Technology Research and Development (NITRD) is a \\nbody under the Committee on Technology (CoT ) of the National Science and Technology Council (NSTC). \\nThe NITRD Subcommittee coordinates multiagency research and development programs to help assure \\ncontinued U.S. leadership in networking and information technology, satisfy the needs of the Federal \\nGovernment for advanced networking and information technology, and accelerate development and \\ndeployment of advanced networking and information technology. It also implements relevant provisions \\nof the High -Performance Computing Act of 1991 (P.L. 102 -194), a s amended by the Next Generation \\nInternet Research Act of 1998 (P. L. 105 -305), and the America Creating Opportunities to Meaningfully \\nPromote Excellence in Technology, Education and Science (COMPETES) Act of 2007 (P.L. 110 -69). For \\nmore information, see www.nitrd.gov. \\nAcknowledgments \\nThis document was developed through the contributions of the members and staff of the NITRD Task \\nForce on Artificial Intelligence. A special thanks and appreciation to additional contributors who helped \\nwrite, edit, and review the document: Chaitan Baru (NSF), Eric Daimler (Presidential Innovation Fellow), \\nRonald Ferguson (DoD), Nancy Forbes (NITRD), Eric Harder (DHS), Erin Kenneally (DHS), Dai Kim (DoD), \\nTatiana Korelsky (NSF), David Kuehn (DOT), Terence Langendoen (NSF), Peter Lyster (NITRD), KC Morris \\n(NIST), Hector Munoz-Avila (NSF), Thomas Rindflesch (NIH), Craig Schlenoff (NIST), Donald Sofge (NRL), \\nand Sylvia Spengler (NSF).'),\n",
       " Document(metadata={'producer': 'Microsoft® Word 2010', 'creator': 'Microsoft® Word 2010', 'creationdate': '2016-10-11T15:32:07-04:00', 'author': 'NITRD AI Task Force', 'keywords': 'Artificial Intelligence, AI, Machine Learning, ML, Deep Learning, DL, Neural Networks,', 'moddate': '2016-10-11T20:19:58-04:00', 'title': 'The National Artificial Intelligence Research and Development Strategic Plan', 'source': 'data/01-document-loader-sample.pdf', 'total_pages': 48, 'page': 3, 'page_label': '4'}, page_content='iv \\nCopyright Information \\nThis is a work of the U.S. Government and is in the public domain. It may be freely distributed, copied, \\nand translated; acknowledgment of publication by the Office of Science and Technology Policy is \\nappreciated. Any translation should include a disclaimer that the accuracy of the translation is the \\nresponsibility of the translator and not OSTP. It is requested that a copy of any translation be sent to \\nOSTP. This work is available for worldwide use and reuse and under the Creative Commons CC0 1.0 \\nUniversal license.'),\n",
       " Document(metadata={'producer': 'Microsoft® Word 2010', 'creator': 'Microsoft® Word 2010', 'creationdate': '2016-10-11T15:32:07-04:00', 'author': 'NITRD AI Task Force', 'keywords': 'Artificial Intelligence, AI, Machine Learning, ML, Deep Learning, DL, Neural Networks,', 'moddate': '2016-10-11T20:19:58-04:00', 'title': 'The National Artificial Intelligence Research and Development Strategic Plan', 'source': 'data/01-document-loader-sample.pdf', 'total_pages': 48, 'page': 4, 'page_label': '5'}, page_content=''),\n",
       " Document(metadata={'producer': 'Microsoft® Word 2010', 'creator': 'Microsoft® Word 2010', 'creationdate': '2016-10-11T15:32:07-04:00', 'author': 'NITRD AI Task Force', 'keywords': 'Artificial Intelligence, AI, Machine Learning, ML, Deep Learning, DL, Neural Networks,', 'moddate': '2016-10-11T20:19:58-04:00', 'title': 'The National Artificial Intelligence Research and Development Strategic Plan', 'source': 'data/01-document-loader-sample.pdf', 'total_pages': 48, 'page': 5, 'page_label': '6'}, page_content='vi'),\n",
       " Document(metadata={'producer': 'Microsoft® Word 2010', 'creator': 'Microsoft® Word 2010', 'creationdate': '2016-10-11T15:32:07-04:00', 'author': 'NITRD AI Task Force', 'keywords': 'Artificial Intelligence, AI, Machine Learning, ML, Deep Learning, DL, Neural Networks,', 'moddate': '2016-10-11T20:19:58-04:00', 'title': 'The National Artificial Intelligence Research and Development Strategic Plan', 'source': 'data/01-document-loader-sample.pdf', 'total_pages': 48, 'page': 6, 'page_label': '7'}, page_content='vii \\nNational Science and Technology Council \\nChair \\nJohn P. Holdren \\nAssistant to the President for Science and \\nTechnology and Director, Office of Science and \\nTechnology Policy\\nStaff \\nAfua Bruce \\nExecutive Director \\nOffice of Science and Technology Policy \\nSubcommittee on  \\nMachine Learning and Artificial Intelligence  \\nCo-Chair \\nEd Felten \\nDeputy U.S. Chief Technology Officer \\nOffice of Science and Technology Policy  \\n \\nCo-Chair  \\nMichael Garris \\nSenior Scientist \\nNational Institute of Standards and Technology \\nU.S. Department of Commerce \\nSubcommittee on  \\nNetworking and Information Technology Research and Development  \\nCo-Chair \\nBryan Biegel \\nDirector, National Coordination Office for \\nNetworking and Information Technology \\nResearch and Development \\nCo-Chair  \\nJames Kurose \\nAssistant Director, Computer and Information \\nScience and Engineering \\nNational Science Foundation \\nNetworking and Information Technology Research and Development  \\nTask Force on Artificial Intelligence \\n \\nCo-Chair \\nLynne Parker \\nDivision Director \\nInformation and Intelligent Systems \\nNational Science Foundation \\nCo-Chair \\nJason Matheny \\nDirector \\nIntelligence Advanced Research Projects Activity  \\n \\nMembers  \\nMilton Corn \\nNational Institutes of Health \\n \\nNikunj Oza \\nNational Aeronautics and Space Administration \\nWilliam Ford \\nNational Institute of Justice \\nRobinson Pino \\nDepartment of Energy \\nMichael Garris \\nNational Institute of Standards and Technology \\nGregory Shannon \\nOffice of Science and Technology Policy \\nSteven Knox \\nNational Security Agency \\nScott Tousley \\nDepartment of Homeland Security'),\n",
       " Document(metadata={'producer': 'Microsoft® Word 2010', 'creator': 'Microsoft® Word 2010', 'creationdate': '2016-10-11T15:32:07-04:00', 'author': 'NITRD AI Task Force', 'keywords': 'Artificial Intelligence, AI, Machine Learning, ML, Deep Learning, DL, Neural Networks,', 'moddate': '2016-10-11T20:19:58-04:00', 'title': 'The National Artificial Intelligence Research and Development Strategic Plan', 'source': 'data/01-document-loader-sample.pdf', 'total_pages': 48, 'page': 7, 'page_label': '8'}, page_content='viii \\n \\nJohn Launchbury \\nDefense Advanced Research Projects Agency \\nFaisal D’Souza \\nTechnical Coordinator \\nNational Coordination Office for Networking and \\nInformation Technology Research and Development Richard Linderman \\nOffice of the Secretary of Defense'),\n",
       " Document(metadata={'producer': 'Microsoft® Word 2010', 'creator': 'Microsoft® Word 2010', 'creationdate': '2016-10-11T15:32:07-04:00', 'author': 'NITRD AI Task Force', 'keywords': 'Artificial Intelligence, AI, Machine Learning, ML, Deep Learning, DL, Neural Networks,', 'moddate': '2016-10-11T20:19:58-04:00', 'title': 'The National Artificial Intelligence Research and Development Strategic Plan', 'source': 'data/01-document-loader-sample.pdf', 'total_pages': 48, 'page': 8, 'page_label': '9'}, page_content='NATIONAL ARTIFICIAL INTELLIGENCE RESEARCH AND DEVELOPMENT STRATEGIC PLAN \\n \\n 1 \\nContents \\nAbout the National Science and Technology Council .......................................................................................... iii \\nAbout the Office of Science and Technology Policy ............................................................................................ iii \\nAbout the Subcommittee on Networking and Information Technology Research and Development ................ iii \\nAcknowledgments ............................................................................................................................................... iii \\nCopyright Information ..........................................................................................................................................iv \\nNational Science and Technology Council ........................................................................................................... vii \\nSubcommittee on Machine Learning and Artificial Intelligence .......................................................................... vii \\nSubcommittee on Networking and Information Technology Research and Development ................................. vii \\nTask Force on Artificial Intelligence ..................................................................................................................... vii \\nExecutive Summary ................................................................................................................................................... 3 \\nIntroduction ............................................................................................................................................................... 5 \\nPurpose of the National AI R&D Strategic Plan ................................................................................................ 5 \\nDesired Outcome ............................................................................................................................................. 7 \\nA Vision for Advancing our National Priorities with AI  .................................................................................... 8 \\nCurrent State of AI.......................................................................................................................................... 12 \\nR&D Strategy ........................................................................................................................................................... 15 \\nStrategy 1: Make Long-Term Investments in AI Research ............................................................................. 16 \\nStrategy 2: Develop Effective Methods for Human-AI Collaboration  ........................................................... 22 \\nStrategy 3: Understand and Address the Ethical, Legal, and Societal Implications of AI ............................... 26 \\nStrategy 4: Ensure the Safety and Security of AI Systems .............................................................................. 27 \\nStrategy 5: Develop Shared Public Datasets and Environments for AI Training and Testing ......................... 30 \\nStrategy 6: Measure and Evaluate AI Technologies through Standards and Benchmarks............................. 32 \\nStrategy 7: Better Understand the National AI R&D Workforce Needs ......................................................... 35 \\nRecommendations ................................................................................................................................................... 37 \\nAcronyms ................................................................................................................................................................. 39'),\n",
       " Document(metadata={'producer': 'Microsoft® Word 2010', 'creator': 'Microsoft® Word 2010', 'creationdate': '2016-10-11T15:32:07-04:00', 'author': 'NITRD AI Task Force', 'keywords': 'Artificial Intelligence, AI, Machine Learning, ML, Deep Learning, DL, Neural Networks,', 'moddate': '2016-10-11T20:19:58-04:00', 'title': 'The National Artificial Intelligence Research and Development Strategic Plan', 'source': 'data/01-document-loader-sample.pdf', 'total_pages': 48, 'page': 9, 'page_label': '10'}, page_content='NATIONAL ARTIFICIAL INTELLIGENCE RESEARCH AND DEVELOPMENT STRATEGIC PLAN \\n \\n 2')]"
      ]
     },
     "execution_count": 8,
     "metadata": {},
     "output_type": "execute_result"
    }
   ],
   "source": [
    "docs = loader.load()\n",
    "docs[:10]"
   ]
  },
  {
   "cell_type": "code",
   "execution_count": 9,
   "metadata": {},
   "outputs": [
    {
     "data": {
      "text/plain": [
       "48"
      ]
     },
     "execution_count": 9,
     "metadata": {},
     "output_type": "execute_result"
    }
   ],
   "source": [
    "len(docs)"
   ]
  },
  {
   "cell_type": "markdown",
   "metadata": {},
   "source": [
    "### `aload()`\n",
    "\n",
    "- Asynchronously loads Documents and returns them as a `list[Document]`."
   ]
  },
  {
   "cell_type": "code",
   "execution_count": 10,
   "metadata": {},
   "outputs": [],
   "source": [
    "# Load Documents asynchronously\n",
    "docs = await loader.aload()"
   ]
  },
  {
   "cell_type": "markdown",
   "metadata": {},
   "source": [
    "### `load_and_split()`\n",
    "\n",
    "- Loads Documents and automatically splits them into chunks using TextSplitter , and returns them as a `list[Document]`."
   ]
  },
  {
   "cell_type": "code",
   "execution_count": 11,
   "metadata": {},
   "outputs": [],
   "source": [
    "from langchain_text_splitters import RecursiveCharacterTextSplitter\n",
    "\n",
    "text_splitter = RecursiveCharacterTextSplitter(chunk_size=128, chunk_overlap=0)\n",
    "docs = loader.load_and_split(text_splitter)"
   ]
  },
  {
   "cell_type": "code",
   "execution_count": 12,
   "metadata": {},
   "outputs": [
    {
     "data": {
      "text/plain": [
       "1430"
      ]
     },
     "execution_count": 12,
     "metadata": {},
     "output_type": "execute_result"
    }
   ],
   "source": [
    "len(docs)"
   ]
  },
  {
   "cell_type": "markdown",
   "metadata": {},
   "source": [
    "### `lazy_load()`\n",
    "\n",
    "- Loads Documents sequentially and returns them as an `Iterator[Document]`."
   ]
  },
  {
   "cell_type": "code",
   "execution_count": 13,
   "metadata": {},
   "outputs": [
    {
     "name": "stdout",
     "output_type": "stream",
     "text": [
      "{'producer': 'Microsoft® Word 2010', 'creator': 'Microsoft® Word 2010', 'creationdate': '2016-10-11T15:32:07-04:00', 'author': 'NITRD AI Task Force', 'keywords': 'Artificial Intelligence, AI, Machine Learning, ML, Deep Learning, DL, Neural Networks,', 'moddate': '2016-10-11T20:19:58-04:00', 'title': 'The National Artificial Intelligence Research and Development Strategic Plan', 'source': 'data/01-document-loader-sample.pdf', 'total_pages': 48, 'page': 0, 'page_label': '1'}\n"
     ]
    }
   ],
   "source": [
    "# Load Documents sequentially\n",
    "docs = loader.lazy_load()\n",
    "for doc in docs:\n",
    "    print(doc.metadata)\n",
    "    break  # Used to limit the output length"
   ]
  },
  {
   "cell_type": "markdown",
   "metadata": {},
   "source": [
    "### `alazy_load()`\n",
    "\n",
    "- Asynchronously loads Documents sequentially and returns them as an `AsyncIterator[Document]`.\n",
    "\n",
    "It can be observed that this method operates as an `async_generator`. This is a special type of asynchronous iterator that produces values on-the-fly, without storing them all in memory at once."
   ]
  },
  {
   "cell_type": "code",
   "execution_count": 14,
   "metadata": {},
   "outputs": [
    {
     "name": "stdout",
     "output_type": "stream",
     "text": [
      "{'producer': 'Microsoft® Word 2010', 'creator': 'Microsoft® Word 2010', 'creationdate': '2016-10-11T15:32:07-04:00', 'author': 'NITRD AI Task Force', 'keywords': 'Artificial Intelligence, AI, Machine Learning, ML, Deep Learning, DL, Neural Networks,', 'moddate': '2016-10-11T20:19:58-04:00', 'title': 'The National Artificial Intelligence Research and Development Strategic Plan', 'source': 'data/01-document-loader-sample.pdf', 'total_pages': 48, 'page': 0, 'page_label': '1'}\n"
     ]
    }
   ],
   "source": [
    "# Load Documents asynchronously and sequentially\n",
    "docs = loader.alazy_load()\n",
    "async for doc in docs:\n",
    "    print(doc.metadata)\n",
    "    break  # Used to limit the output length"
   ]
  },
  {
   "cell_type": "code",
   "execution_count": null,
   "metadata": {},
   "outputs": [],
   "source": []
  }
 ],
 "metadata": {
  "kernelspec": {
   "display_name": "langchain",
   "language": "python",
   "name": "python3"
  },
  "language_info": {
   "codemirror_mode": {
    "name": "ipython",
    "version": 3
   },
   "file_extension": ".py",
   "mimetype": "text/x-python",
   "name": "python",
   "nbconvert_exporter": "python",
   "pygments_lexer": "ipython3",
   "version": "3.10.16"
  }
 },
 "nbformat": 4,
 "nbformat_minor": 2
}
