{
 "cells": [
  {
   "cell_type": "markdown",
   "metadata": {},
   "source": [
    "# MarkdownHeaderTextSplitter\n",
    "\n",
    "Hướng dẫn này giới thiệu cách tách **tài liệu Markdown** hiệu quả bằng `MarkdownHeaderTextSplitter` của LangChain. Công cụ này chia tài liệu thành các phần có ý nghĩa dựa trên tiêu đề Markdown, giữ nguyên cấu trúc tài liệu để xử lý nội dung một cách hệ thống.\n",
    "\n",
    "Ngữ cảnh và cấu trúc của tài liệu rất quan trọng để embedding văn bản hiệu quả. Việc chỉ đơn giản chia văn bản là không đủ; việc duy trì các kết nối ngữ nghĩa là chìa khóa để tạo ra các biểu diễn vector toàn diện hơn. Điều này đặc biệt đúng khi xử lý các tài liệu lớn, vì việc giữ nguyên ngữ cảnh có thể tăng cường đáng kể độ chính xác của các hoạt động phân tích và tìm kiếm tiếp theo.\n",
    "\n",
    "`MarkdownHeaderTextSplitter` chia tài liệu theo các bộ tiêu đề được chỉ định, quản lý nội dung dưới mỗi nhóm tiêu đề thành các chunk riêng biệt. Điều này cho phép xử lý nội dung hiệu quả trong khi vẫn duy trì tính mạch lạc cấu trúc của tài liệu.\n"
   ]
  },
  {
   "cell_type": "markdown",
   "metadata": {},
   "source": [
    "## Basic Usage of MarkdownHeaderTextSplitter\n",
    "\n",
    "`MarkdownHeaderTextSplitter` tách văn bản định dạng Markdown dựa trên tiêu đề. Đây là cách sử dụng nó:\n",
    "\n",
    "-   Đầu tiên, bộ tách chia văn bản dựa trên các tiêu đề Markdown tiêu chuẩn (#, ##, ###, v.v.).\n",
    "-   Lưu trữ Markdown bạn muốn tách trong một biến có tên là `markdown_document`.\n",
    "-   Bạn sẽ cần một danh sách có tên là `headers_to_split_on`. Danh sách này sử dụng tuples để xác định các cấp tiêu đề bạn muốn tách và những gì bạn muốn gọi chúng.\n",
    "-   Bây giờ, hãy tạo một đối tượng `markdown_splitter` bằng lớp `MarkdownHeaderTextSplitter` và cung cấp cho nó danh sách `headers_to_split_on` đó.\n",
    "-   Để thực sự tách văn bản, hãy gọi phương thức `split_text` trên đối tượng `markdown_splitter` của bạn, chuyển vào `markdown_document` của bạn.\n"
   ]
  },
  {
   "cell_type": "code",
   "execution_count": 1,
   "metadata": {},
   "outputs": [
    {
     "name": "stdout",
     "output_type": "stream",
     "text": [
      "# Title\n",
      "\n",
      "## 1. SubTitle\n",
      "\n",
      "Hi this is Jim\n",
      "\n",
      "Hi this is Joe\n",
      "\n",
      "### 1-1. Sub-SubTitle \n",
      "\n",
      "Hi this is Lance \n",
      "\n",
      "## 2. Baz\n",
      "\n",
      "Hi this is Molly\n"
     ]
    }
   ],
   "source": [
    "from langchain_text_splitters import MarkdownHeaderTextSplitter\n",
    "\n",
    "# Define a markdown document as a string\n",
    "markdown_document = \"# Title\\n\\n## 1. SubTitle\\n\\nHi this is Jim\\n\\nHi this is Joe\\n\\n### 1-1. Sub-SubTitle \\n\\nHi this is Lance \\n\\n## 2. Baz\\n\\nHi this is Molly\"\n",
    "print(markdown_document)"
   ]
  },
  {
   "cell_type": "code",
   "execution_count": 2,
   "metadata": {},
   "outputs": [
    {
     "name": "stdout",
     "output_type": "stream",
     "text": [
      "Hi this is Jim  \n",
      "Hi this is Joe\n",
      "{'Header 1': 'Title', 'Header 2': '1. SubTitle'}\n",
      "=====================\n",
      "Hi this is Lance\n",
      "{'Header 1': 'Title', 'Header 2': '1. SubTitle', 'Header 3': '1-1. Sub-SubTitle'}\n",
      "=====================\n",
      "Hi this is Molly\n",
      "{'Header 1': 'Title', 'Header 2': '2. Baz'}\n",
      "=====================\n"
     ]
    }
   ],
   "source": [
    "headers_to_split_on = [  # Define header levels and their names for document splitting\n",
    "    (\n",
    "        \"#\",\n",
    "        \"Header 1\",\n",
    "    ),  # Header level 1 is marked with '#' and named 'Header 1'\n",
    "    (\n",
    "        \"##\",\n",
    "        \"Header 2\",\n",
    "    ),  # Header level 2 is marked with '##' and named 'Header 2'\n",
    "    (\n",
    "        \"###\",\n",
    "        \"Header 3\",\n",
    "    ),  # Header level 3 is marked with '###' and named 'Header 3'\n",
    "]\n",
    "\n",
    "# Create a MarkdownHeaderTextSplitter object to split text based on markdown headers\n",
    "markdown_splitter = MarkdownHeaderTextSplitter(headers_to_split_on=headers_to_split_on)\n",
    "# Split markdown_document by headers and store in md_header_splits\n",
    "md_header_splits = markdown_splitter.split_text(markdown_document)\n",
    "# Print the split results\n",
    "for header in md_header_splits:\n",
    "    print(f\"{header.page_content}\")\n",
    "    print(f\"{header.metadata}\", end=\"\\n=====================\\n\")"
   ]
  },
  {
   "cell_type": "markdown",
   "metadata": {},
   "source": [
    "### Header Retention in Split Output\n",
    "\n",
    "Theo mặc định, `MarkdownHeaderTextSplitter` loại bỏ tiêu đề khỏi các chunk đầu ra.\n",
    "\n",
    "Tuy nhiên, bạn có thể định cấu hình bộ tách để giữ lại các tiêu đề này bằng cách đặt tham số `strip_headers` thành `False`.\n",
    "\n",
    "Ví dụ:\n"
   ]
  },
  {
   "cell_type": "code",
   "execution_count": 3,
   "metadata": {},
   "outputs": [
    {
     "name": "stdout",
     "output_type": "stream",
     "text": [
      "# Title  \n",
      "## 1. SubTitle  \n",
      "Hi this is Jim  \n",
      "Hi this is Joe\n",
      "{'Header 1': 'Title', 'Header 2': '1. SubTitle'}\n",
      "=====================\n",
      "### 1-1. Sub-SubTitle  \n",
      "Hi this is Lance\n",
      "{'Header 1': 'Title', 'Header 2': '1. SubTitle', 'Header 3': '1-1. Sub-SubTitle'}\n",
      "=====================\n",
      "## 2. Baz  \n",
      "Hi this is Molly\n",
      "{'Header 1': 'Title', 'Header 2': '2. Baz'}\n",
      "=====================\n"
     ]
    }
   ],
   "source": [
    "markdown_splitter = MarkdownHeaderTextSplitter(\n",
    "    # Specify headers to split on\n",
    "    headers_to_split_on=headers_to_split_on,\n",
    "    # Set to keep headers in the output\n",
    "    strip_headers=False,\n",
    ")\n",
    "# Split markdown document based on headers\n",
    "md_header_splits = markdown_splitter.split_text(markdown_document)\n",
    "# Print the split results\n",
    "for header in md_header_splits:\n",
    "    print(f\"{header.page_content}\")\n",
    "    print(f\"{header.metadata}\", end=\"\\n=====================\\n\")"
   ]
  },
  {
   "cell_type": "markdown",
   "metadata": {},
   "source": [
    "## Combining with Other Text Splitters\n",
    "\n",
    "Sau khi tách theo tiêu đề Markdown, bạn có thể xử lý thêm nội dung trong mỗi nhóm Markdown bằng bất kỳ bộ tách văn bản mong muốn nào.\n",
    "\n",
    "Trong ví dụ này, chúng ta sẽ sử dụng `RecursiveCharacterTextSplitter` để minh họa cách kết hợp hiệu quả các phương pháp tách khác nhau.\n"
   ]
  },
  {
   "cell_type": "code",
   "execution_count": 4,
   "metadata": {},
   "outputs": [
    {
     "name": "stdout",
     "output_type": "stream",
     "text": [
      "# Intro \n",
      "\n",
      "## History \n",
      "\n",
      "Markdown[9] is a lightweight markup language for creating formatted text using a plain-text editor. John Gruber created Markdown in 2004 as a markup language that is appealing to human readers in its source code form.[9] \n",
      "\n",
      "Markdown is widely used in blogging, instant messaging, online forums, collaborative software, documentation pages, and readme files. \n",
      "\n",
      "## Rise and divergence \n",
      "\n",
      "As Markdown popularity grew rapidly, many Markdown implementations appeared, driven mostly by the need for \n",
      "\n",
      "additional features such as tables, footnotes, definition lists,[note 1] and Markdown inside HTML blocks. \n",
      "\n",
      "#### Standardization \n",
      "\n",
      "From 2012, a group of people, including Jeff Atwood and John MacFarlane, launched what Atwood characterised as a standardisation effort. \n",
      "\n",
      "# Implementations \n",
      "\n",
      "Implementations of Markdown are available for over a dozen programming languages.\n"
     ]
    }
   ],
   "source": [
    "from langchain_text_splitters import RecursiveCharacterTextSplitter\n",
    "\n",
    "markdown_document = \"# Intro \\n\\n## History \\n\\nMarkdown[9] is a lightweight markup language for creating formatted text using a plain-text editor. John Gruber created Markdown in 2004 as a markup language that is appealing to human readers in its source code form.[9] \\n\\nMarkdown is widely used in blogging, instant messaging, online forums, collaborative software, documentation pages, and readme files. \\n\\n## Rise and divergence \\n\\nAs Markdown popularity grew rapidly, many Markdown implementations appeared, driven mostly by the need for \\n\\nadditional features such as tables, footnotes, definition lists,[note 1] and Markdown inside HTML blocks. \\n\\n#### Standardization \\n\\nFrom 2012, a group of people, including Jeff Atwood and John MacFarlane, launched what Atwood characterised as a standardisation effort. \\n\\n# Implementations \\n\\nImplementations of Markdown are available for over a dozen programming languages.\"\n",
    "print(markdown_document)"
   ]
  },
  {
   "cell_type": "markdown",
   "metadata": {},
   "source": [
    "First, use `MarkdownHeaderTextSplitter` to split the Markdown document based on its headers."
   ]
  },
  {
   "cell_type": "code",
   "execution_count": 5,
   "metadata": {},
   "outputs": [
    {
     "name": "stdout",
     "output_type": "stream",
     "text": [
      "# Intro  \n",
      "## History  \n",
      "Markdown[9] is a lightweight markup language for creating formatted text using a plain-text editor. John Gruber created Markdown in 2004 as a markup language that is appealing to human readers in its source code form.[9]  \n",
      "Markdown is widely used in blogging, instant messaging, online forums, collaborative software, documentation pages, and readme files.  \n",
      "## Rise and divergence  \n",
      "As Markdown popularity grew rapidly, many Markdown implementations appeared, driven mostly by the need for  \n",
      "additional features such as tables, footnotes, definition lists,[note 1] and Markdown inside HTML blocks.  \n",
      "#### Standardization  \n",
      "From 2012, a group of people, including Jeff Atwood and John MacFarlane, launched what Atwood characterised as a standardisation effort.\n",
      "{'Header 1': 'Intro'}\n",
      "=====================\n",
      "# Implementations  \n",
      "Implementations of Markdown are available for over a dozen programming languages.\n",
      "{'Header 1': 'Implementations'}\n",
      "=====================\n"
     ]
    }
   ],
   "source": [
    "headers_to_split_on = [\n",
    "    (\"#\", \"Header 1\"),  # Specify the header level and its name to split on\n",
    "    # (\"##\", \"Header 2\"),\n",
    "]\n",
    "\n",
    "# Split the markdown document based on header levels\n",
    "markdown_splitter = MarkdownHeaderTextSplitter(\n",
    "    headers_to_split_on=headers_to_split_on, strip_headers=False\n",
    ")\n",
    "md_header_splits = markdown_splitter.split_text(markdown_document)\n",
    "# Print the split results\n",
    "for header in md_header_splits:\n",
    "    print(f\"{header.page_content}\")\n",
    "    print(f\"{header.metadata}\", end=\"\\n=====================\\n\")"
   ]
  },
  {
   "cell_type": "markdown",
   "metadata": {},
   "source": [
    "Now, we'll further split the output of the `MarkdownHeaderTextSplitter` using the `RecursiveCharacterTextSplitter`."
   ]
  },
  {
   "cell_type": "code",
   "execution_count": 6,
   "metadata": {},
   "outputs": [
    {
     "name": "stdout",
     "output_type": "stream",
     "text": [
      "# Intro  \n",
      "## History\n",
      "{'Header 1': 'Intro'}\n",
      "=====================\n",
      "Markdown[9] is a lightweight markup language for creating formatted text using a plain-text editor. John Gruber created Markdown in 2004 as a markup language that is appealing to human readers in its\n",
      "{'Header 1': 'Intro'}\n",
      "=====================\n",
      "readers in its source code form.[9]\n",
      "{'Header 1': 'Intro'}\n",
      "=====================\n",
      "Markdown is widely used in blogging, instant messaging, online forums, collaborative software, documentation pages, and readme files.  \n",
      "## Rise and divergence\n",
      "{'Header 1': 'Intro'}\n",
      "=====================\n",
      "As Markdown popularity grew rapidly, many Markdown implementations appeared, driven mostly by the need for\n",
      "{'Header 1': 'Intro'}\n",
      "=====================\n",
      "additional features such as tables, footnotes, definition lists,[note 1] and Markdown inside HTML blocks.  \n",
      "#### Standardization\n",
      "{'Header 1': 'Intro'}\n",
      "=====================\n",
      "From 2012, a group of people, including Jeff Atwood and John MacFarlane, launched what Atwood characterised as a standardisation effort.\n",
      "{'Header 1': 'Intro'}\n",
      "=====================\n",
      "# Implementations  \n",
      "Implementations of Markdown are available for over a dozen programming languages.\n",
      "{'Header 1': 'Implementations'}\n",
      "=====================\n"
     ]
    }
   ],
   "source": [
    "chunk_size = 200  # Specify the size of each split chunk\n",
    "chunk_overlap = 20  # Specify the number of overlapping characters between chunks\n",
    "text_splitter = RecursiveCharacterTextSplitter(\n",
    "    chunk_size=chunk_size, chunk_overlap=chunk_overlap\n",
    ")\n",
    "\n",
    "# Split the document into chunks by characters\n",
    "splits = text_splitter.split_documents(md_header_splits)\n",
    "# Print the split results\n",
    "for header in splits:\n",
    "    print(f\"{header.page_content}\")\n",
    "    print(f\"{header.metadata}\", end=\"\\n=====================\\n\")"
   ]
  },
  {
   "cell_type": "code",
   "execution_count": null,
   "metadata": {},
   "outputs": [],
   "source": []
  }
 ],
 "metadata": {
  "kernelspec": {
   "display_name": "langchain",
   "language": "python",
   "name": "python3"
  },
  "language_info": {
   "codemirror_mode": {
    "name": "ipython",
    "version": 3
   },
   "file_extension": ".py",
   "mimetype": "text/x-python",
   "name": "python",
   "nbconvert_exporter": "python",
   "pygments_lexer": "ipython3",
   "version": "3.10.16"
  }
 },
 "nbformat": 4,
 "nbformat_minor": 2
}
