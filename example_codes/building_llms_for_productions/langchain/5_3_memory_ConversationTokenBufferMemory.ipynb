{
 "cells": [
  {
   "cell_type": "markdown",
   "metadata": {},
   "source": [
    "# ConversationTokenBufferMemory\n",
    "\n",
    "`ConversationTokenBufferMemory` lưu trữ lịch sử hội thoại gần đây trong một buffer memory và xác định thời điểm xóa nội dung hội thoại dựa trên **độ dài token** thay vì số lượng hội thoại.\n",
    "\n",
    "Các tham số chính:\n",
    "- `max_token_limit`: Đặt độ dài token tối đa để lưu trữ nội dung hội thoại\n",
    "- `return_messages`: Khi True, trả về các tin nhắn ở định dạng chat. Khi False, trả về một chuỗi\n",
    "- `human_prefix`: Tiền tố được thêm vào trước tin nhắn của người dùng (mặc định: \"Human\")\n",
    "- `ai_prefix`: Tiền tố được thêm vào trước tin nhắn của AI (mặc định: \"AI\")\n"
   ]
  },
  {
   "cell_type": "markdown",
   "metadata": {},
   "source": [
    "## Limiting Maximum Token Length to 50\n",
    "\n",
    "This section demonstrates how to limit the conversation memory to 50 tokens"
   ]
  },
  {
   "cell_type": "code",
   "execution_count": 2,
   "metadata": {},
   "outputs": [],
   "source": [
    "import os\n",
    "from dotenv import load_dotenv\n",
    "from langchain_openai import ChatOpenAI\n",
    "from langchain_core.prompts import PromptTemplate\n",
    "from langchain_core.output_parsers import StrOutputParser\n",
    "\n",
    "load_dotenv(override=True, dotenv_path=\"../.env\")\n",
    "\n",
    "llm = ChatOpenAI(model_name=\"gpt-3.5-turbo\", temperature=0.0)"
   ]
  },
  {
   "cell_type": "code",
   "execution_count": 3,
   "metadata": {},
   "outputs": [
    {
     "name": "stderr",
     "output_type": "stream",
     "text": [
      "/tmp/ipykernel_737977/1630119379.py:4: LangChainDeprecationWarning: Please see the migration guide at: https://python.langchain.com/docs/versions/migrating_memory/\n",
      "  memory = ConversationTokenBufferMemory(\n"
     ]
    }
   ],
   "source": [
    "from langchain.memory import ConversationTokenBufferMemory\n",
    "\n",
    "# Configure memory\n",
    "memory = ConversationTokenBufferMemory(\n",
    "    llm=llm,\n",
    "    max_token_limit=50,\n",
    "    return_messages=True,  # Limit maximum token length to 50\n",
    ")"
   ]
  },
  {
   "cell_type": "code",
   "execution_count": 4,
   "metadata": {},
   "outputs": [],
   "source": [
    "# Add arbitrary conversations\n",
    "memory.save_context(\n",
    "    inputs={\n",
    "        \"human\": \"Hello, I recently purchased a machine tool from your company. Could you tell me how to install it?\"\n",
    "    },\n",
    "    outputs={\n",
    "        \"ai\": \"Hello! Thank you for your purchase. Could you please tell me the machine model number?\"\n",
    "    },\n",
    ")\n",
    "memory.save_context(\n",
    "    inputs={\"human\": \"Yes, the model number is XG-200.\"},\n",
    "    outputs={\n",
    "        \"ai\": \"Thank you. I'll help you with the installation guide for the XG-200 model. First, please check the power supply status at the installation site. The machine requires 220V power.\"\n",
    "    },\n",
    ")\n",
    "memory.save_context(\n",
    "    inputs={\"human\": \"I've checked the power. What's the next step?\"},\n",
    "    outputs={\n",
    "        \"ai\": \"Good. Next, please place the machine on a flat and stable surface. Then, proceed with cable connections according to the provided user manual.\"\n",
    "    },\n",
    ")\n",
    "memory.save_context(\n",
    "    inputs={\"human\": \"How do I make the connections?\"},\n",
    "    outputs={\n",
    "        \"ai\": \"Please refer to page 5 of the manual. There are detailed instructions for cable connections. If you have any difficulties with this process, I'll be happy to help further.\"\n",
    "    },\n",
    ")\n",
    "memory.save_context(\n",
    "    inputs={\"human\": \"What should I do after the installation is complete?\"},\n",
    "    outputs={\n",
    "        \"ai\": \"Once the installation is complete, please turn on the power and perform the initial operation test. The test procedure is explained on page 10 of the manual. If there are any issues with the machine or if you need additional support, please don't hesitate to contact us.\"\n",
    "    },\n",
    ")\n",
    "memory.save_context(\n",
    "    inputs={\"human\": \"Thank you, this has been very helpful!\"},\n",
    "    outputs={\n",
    "        \"ai\": \"We're always ready to help. If you have any additional questions or need support, please feel free to ask. Have a great day!\"\n",
    "    },\n",
    ")"
   ]
  },
  {
   "cell_type": "code",
   "execution_count": 5,
   "metadata": {},
   "outputs": [
    {
     "data": {
      "text/plain": [
       "[HumanMessage(content='Thank you, this has been very helpful!', additional_kwargs={}, response_metadata={}),\n",
       " AIMessage(content=\"We're always ready to help. If you have any additional questions or need support, please feel free to ask. Have a great day!\", additional_kwargs={}, response_metadata={})]"
      ]
     },
     "execution_count": 5,
     "metadata": {},
     "output_type": "execute_result"
    }
   ],
   "source": [
    "# Check the conversation history\n",
    "memory.load_memory_variables({})[\"history\"]"
   ]
  },
  {
   "cell_type": "markdown",
   "metadata": {},
   "source": [
    "## Setting Maximum Token Length to 150\n",
    "\n",
    "Let's check how the conversation is stored when we set the maximum token length to **150**."
   ]
  },
  {
   "cell_type": "code",
   "execution_count": 6,
   "metadata": {},
   "outputs": [],
   "source": [
    "# Memory configuration\n",
    "memory = ConversationTokenBufferMemory(\n",
    "    llm=llm,\n",
    "    max_token_limit=150,\n",
    "    return_messages=True,  # Limit maximum token length to 150\n",
    ")"
   ]
  },
  {
   "cell_type": "code",
   "execution_count": 7,
   "metadata": {},
   "outputs": [],
   "source": [
    "# Add arbitrary conversations\n",
    "memory.save_context(\n",
    "    inputs={\n",
    "        \"human\": \"Hello, I recently purchased a machine tool from your company. Could you tell me how to install it?\"\n",
    "    },\n",
    "    outputs={\n",
    "        \"ai\": \"Hello! Thank you for your purchase. Could you please tell me the machine model number?\"\n",
    "    },\n",
    ")\n",
    "memory.save_context(\n",
    "    inputs={\"human\": \"Yes, the model number is XG-200.\"},\n",
    "    outputs={\n",
    "        \"ai\": \"Thank you. I'll help you with the installation guide for the XG-200 model. First, please check the power supply status at the installation site. The machine requires 220V power.\"\n",
    "    },\n",
    ")\n",
    "memory.save_context(\n",
    "    inputs={\"human\": \"I've checked the power. What's the next step?\"},\n",
    "    outputs={\n",
    "        \"ai\": \"Good. Next, please place the machine on a flat and stable surface. Then, proceed with cable connections according to the provided user manual.\"\n",
    "    },\n",
    ")\n",
    "memory.save_context(\n",
    "    inputs={\"human\": \"How do I make the connections?\"},\n",
    "    outputs={\n",
    "        \"ai\": \"Please refer to page 5 of the manual. There are detailed instructions for cable connections. If you have any difficulties with this process, I'll be happy to help further.\"\n",
    "    },\n",
    ")\n",
    "memory.save_context(\n",
    "    inputs={\"human\": \"What should I do after the installation is complete?\"},\n",
    "    outputs={\n",
    "        \"ai\": \"Once the installation is complete, please turn on the power and perform the initial operation test. The test procedure is explained on page 10 of the manual. If there are any issues with the machine or if you need additional support, please don't hesitate to contact us.\"\n",
    "    },\n",
    ")\n",
    "memory.save_context(\n",
    "    inputs={\"human\": \"Thank you, this has been very helpful!\"},\n",
    "    outputs={\n",
    "        \"ai\": \"We're always ready to help. If you have any additional questions or need support, please feel free to ask. Have a great day!\"\n",
    "    },\n",
    ")"
   ]
  },
  {
   "cell_type": "code",
   "execution_count": 8,
   "metadata": {},
   "outputs": [
    {
     "data": {
      "text/plain": [
       "[HumanMessage(content='What should I do after the installation is complete?', additional_kwargs={}, response_metadata={}),\n",
       " AIMessage(content=\"Once the installation is complete, please turn on the power and perform the initial operation test. The test procedure is explained on page 10 of the manual. If there are any issues with the machine or if you need additional support, please don't hesitate to contact us.\", additional_kwargs={}, response_metadata={}),\n",
       " HumanMessage(content='Thank you, this has been very helpful!', additional_kwargs={}, response_metadata={}),\n",
       " AIMessage(content=\"We're always ready to help. If you have any additional questions or need support, please feel free to ask. Have a great day!\", additional_kwargs={}, response_metadata={})]"
      ]
     },
     "execution_count": 8,
     "metadata": {},
     "output_type": "execute_result"
    }
   ],
   "source": [
    "# Check the conversation history\n",
    "memory.load_memory_variables({})[\"history\"]"
   ]
  },
  {
   "cell_type": "code",
   "execution_count": null,
   "metadata": {},
   "outputs": [],
   "source": []
  }
 ],
 "metadata": {
  "kernelspec": {
   "display_name": "langchain",
   "language": "python",
   "name": "python3"
  },
  "language_info": {
   "codemirror_mode": {
    "name": "ipython",
    "version": 3
   },
   "file_extension": ".py",
   "mimetype": "text/x-python",
   "name": "python",
   "nbconvert_exporter": "python",
   "pygments_lexer": "ipython3",
   "version": "3.10.16"
  }
 },
 "nbformat": 4,
 "nbformat_minor": 2
}
