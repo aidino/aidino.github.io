{
 "cells": [
  {
   "cell_type": "markdown",
   "metadata": {},
   "source": [
    "# CacheBackedEmbeddings\n",
    "\n",
    "`Embeddings` có thể được lưu trữ hoặc lưu vào bộ nhớ cache tạm thời để tránh tính toán lại.\n",
    "\n",
    "Việc lưu vào bộ nhớ cache `embeddings` có thể được thực hiện bằng cách sử dụng `CacheBackedEmbeddings`. Một trình nhúng được hỗ trợ bởi bộ nhớ cache là một trình bao bọc xung quanh một trình nhúng, giúp lưu trữ `embeddings` trong một kho lưu trữ key-value. Văn bản được băm (hashed) và giá trị băm được sử dụng làm khóa trong bộ nhớ cache.\n",
    "\n",
    "```bash\n",
    "python install faiss-cpu\n",
    "```\n"
   ]
  },
  {
   "cell_type": "markdown",
   "metadata": {},
   "source": [
    "Check and create the ./cache/ directory for persistent storage."
   ]
  },
  {
   "cell_type": "code",
   "execution_count": 5,
   "metadata": {},
   "outputs": [
    {
     "name": "stdout",
     "output_type": "stream",
     "text": [
      "True\n",
      "True\n"
     ]
    }
   ],
   "source": [
    "import os\n",
    "\n",
    "os.makedirs(\"./cache/\", exist_ok=True)\n",
    "print(os.path.exists(\"./cache/\"))  # Check if the directory exists\n",
    "print(os.access(\"./cache/\", os.W_OK))  # Check if the directory is writable"
   ]
  },
  {
   "cell_type": "markdown",
   "metadata": {},
   "source": [
    "## Using Embeddings with LocalFileStore (Persistent Storage)\n",
    "\n",
    "Phương pháp được hỗ trợ chính để khởi tạo `CacheBackedEmbeddings` là `from_bytes_store`.\n",
    "\n",
    "Nó chấp nhận các tham số sau:\n",
    "\n",
    "-   `underlying_embeddings`: Trình nhúng được sử dụng để tạo `embeddings`.\n",
    "-   `document_embedding_cache`: Một trong các triển khai `ByteStore` để lưu vào bộ nhớ cache `embeddings` của tài liệu.\n",
    "-   `namespace`: (Tùy chọn, mặc định là `\"\"`) Một namespace được sử dụng cho bộ nhớ cache tài liệu. Điều này được sử dụng để tránh xung đột với các bộ nhớ cache khác. Ví dụ: đặt nó thành tên của mô hình `embedding` đang được sử dụng.\n",
    "\n",
    "**Lưu ý**: Điều quan trọng là phải đặt tham số `namespace` để tránh xung đột khi cùng một văn bản được nhúng bằng các mô hình `embedding` khác nhau.\n",
    "\n",
    "Đầu tiên, hãy xem một ví dụ về việc lưu trữ `embeddings` bằng hệ thống tệp cục bộ và truy xuất chúng bằng kho vector FAISS.\n"
   ]
  },
  {
   "cell_type": "code",
   "execution_count": 6,
   "metadata": {},
   "outputs": [
    {
     "data": {
      "text/plain": [
       "True"
      ]
     },
     "execution_count": 6,
     "metadata": {},
     "output_type": "execute_result"
    }
   ],
   "source": [
    "from dotenv import load_dotenv\n",
    "load_dotenv(override=True, dotenv_path=\"../.env\")"
   ]
  },
  {
   "cell_type": "code",
   "execution_count": 7,
   "metadata": {},
   "outputs": [],
   "source": [
    "from langchain.storage import LocalFileStore\n",
    "from langchain_openai import OpenAIEmbeddings\n",
    "from langchain.embeddings import CacheBackedEmbeddings\n",
    "from langchain_community.vectorstores.faiss import FAISS\n",
    "\n",
    "# Configure basic embeddings using OpenAI embeddings\n",
    "underlying_embeddings = OpenAIEmbeddings(model=\"text-embedding-3-small\")\n",
    "\n",
    "# Set up a local file storage\n",
    "store = LocalFileStore(\"./cache/\")\n",
    "\n",
    "# Create embeddings with caching support\n",
    "cached_embedder = CacheBackedEmbeddings.from_bytes_store(\n",
    "    underlying_embeddings=underlying_embeddings, \n",
    "    document_embedding_cache=store, \n",
    "    namespace=underlying_embeddings.model, # Create a cache-backed embedder using the base embedding and storage\n",
    ")"
   ]
  },
  {
   "cell_type": "code",
   "execution_count": 8,
   "metadata": {},
   "outputs": [
    {
     "data": {
      "text/plain": [
       "[]"
      ]
     },
     "execution_count": 8,
     "metadata": {},
     "output_type": "execute_result"
    }
   ],
   "source": [
    "# The cache is empty prior to embedding\n",
    "list(store.yield_keys())"
   ]
  },
  {
   "cell_type": "markdown",
   "metadata": {},
   "source": [
    "Load the document, split it into chunks, embed each chunk and load it into the vector store."
   ]
  },
  {
   "cell_type": "code",
   "execution_count": 9,
   "metadata": {},
   "outputs": [],
   "source": [
    "from langchain.document_loaders import TextLoader\n",
    "from langchain_text_splitters import CharacterTextSplitter\n",
    "\n",
    "raw_documents = TextLoader(\"./data/state_of_the_union.txt\", encoding=\"utf-8\").load()\n",
    "text_splitter = CharacterTextSplitter(chunk_size=1000, chunk_overlap=0)\n",
    "documents = text_splitter.split_documents(raw_documents)"
   ]
  },
  {
   "cell_type": "markdown",
   "metadata": {},
   "source": [
    "Create FAISS database from documents."
   ]
  },
  {
   "cell_type": "code",
   "execution_count": 10,
   "metadata": {},
   "outputs": [
    {
     "name": "stdout",
     "output_type": "stream",
     "text": [
      "CPU times: user 211 ms, sys: 25.8 ms, total: 237 ms\n",
      "Wall time: 2.41 s\n"
     ]
    }
   ],
   "source": [
    "%time db = FAISS.from_documents(documents, cached_embedder)"
   ]
  },
  {
   "cell_type": "markdown",
   "metadata": {},
   "source": [
    "If we try to create the vector store again, it'll be much faster since it does not need to re-compute any embeddings."
   ]
  },
  {
   "cell_type": "code",
   "execution_count": 11,
   "metadata": {},
   "outputs": [
    {
     "name": "stdout",
     "output_type": "stream",
     "text": [
      "CPU times: user 23.7 ms, sys: 2.57 ms, total: 26.3 ms\n",
      "Wall time: 25.5 ms\n"
     ]
    }
   ],
   "source": [
    "# Create FAISS database using cached embeddings\n",
    "%time db2 = FAISS.from_documents(documents, cached_embedder)"
   ]
  },
  {
   "cell_type": "code",
   "execution_count": 12,
   "metadata": {},
   "outputs": [
    {
     "data": {
      "text/plain": [
       "['text-embedding-3-small81426526-23fe-58be-9e84-6c7c72c8ca9a',\n",
       " 'text-embedding-3-small8061c36f-1bb7-5be5-9de2-afbed11ff5f2',\n",
       " 'text-embedding-3-small280a9fbe-0d67-50df-9796-d781d74a0ea4',\n",
       " 'text-embedding-3-small4e5734dd-6470-5d9e-a7b8-468ebc563c4e',\n",
       " 'text-embedding-3-small9c15af4c-0e3b-5020-926f-752f448be568']"
      ]
     },
     "execution_count": 12,
     "metadata": {},
     "output_type": "execute_result"
    }
   ],
   "source": [
    "# Here are some of the embeddings that got created.\n",
    "list(store.yield_keys())[:5]"
   ]
  },
  {
   "cell_type": "markdown",
   "metadata": {},
   "source": [
    "## Using `InMemoryByteStore` (Non-Persistent)\n",
    "\n",
    "Để sử dụng một `ByteStore` khác, chỉ cần chỉ định `ByteStore` mong muốn khi tạo `CacheBackedEmbeddings`.\n",
    "\n",
    "Dưới đây là một ví dụ về việc tạo đối tượng `embedding` được lưu vào bộ nhớ cache tương tự bằng cách sử dụng `InMemoryByteStore` không lưu trữ lâu dài.\n",
    "\n",
    "\n"
   ]
  },
  {
   "cell_type": "code",
   "execution_count": 13,
   "metadata": {},
   "outputs": [],
   "source": [
    "from langchain.embeddings import CacheBackedEmbeddings\n",
    "from langchain.storage import InMemoryByteStore\n",
    "\n",
    "# Create an in-memory byte store\n",
    "store = InMemoryByteStore()\n",
    "\n",
    "underlying_embeddings = OpenAIEmbeddings(model=\"text-embedding-3-small\")\n",
    "\n",
    "cached_embedder = CacheBackedEmbeddings.from_bytes_store(\n",
    "    underlying_embeddings, store, namespace=underlying_embeddings.model\n",
    ")"
   ]
  },
  {
   "cell_type": "code",
   "execution_count": 14,
   "metadata": {},
   "outputs": [
    {
     "name": "stdout",
     "output_type": "stream",
     "text": [
      "CPU times: user 82 ms, sys: 3.17 ms, total: 85.2 ms\n",
      "Wall time: 3.18 s\n"
     ]
    },
    {
     "data": {
      "text/plain": [
       "['text-embedding-3-small305efb5c-3f01-5657-bcf2-2b92fb1747ca',\n",
       " 'text-embedding-3-small01dbc21f-5e4c-5fb5-8d13-517dbe7a32d4',\n",
       " 'text-embedding-3-smalla5ef11e4-0474-5725-8d80-81c91943b37f',\n",
       " 'text-embedding-3-small6d6cb8fc-721a-5a4c-bfe9-c83d2920c2bb',\n",
       " 'text-embedding-3-small81426526-23fe-58be-9e84-6c7c72c8ca9a']"
      ]
     },
     "execution_count": 14,
     "metadata": {},
     "output_type": "execute_result"
    }
   ],
   "source": [
    "%time db = FAISS.from_documents(documents, cached_embedder)  \n",
    "list(store.yield_keys())[:5]"
   ]
  },
  {
   "cell_type": "code",
   "execution_count": null,
   "metadata": {},
   "outputs": [],
   "source": []
  }
 ],
 "metadata": {
  "kernelspec": {
   "display_name": "langchain",
   "language": "python",
   "name": "python3"
  },
  "language_info": {
   "codemirror_mode": {
    "name": "ipython",
    "version": 3
   },
   "file_extension": ".py",
   "mimetype": "text/x-python",
   "name": "python",
   "nbconvert_exporter": "python",
   "pygments_lexer": "ipython3",
   "version": "3.10.16"
  }
 },
 "nbformat": 4,
 "nbformat_minor": 2
}
