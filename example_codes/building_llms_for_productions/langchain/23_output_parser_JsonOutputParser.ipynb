{
 "cells": [
  {
   "cell_type": "markdown",
   "metadata": {},
   "source": [
    "# JsonOutputParser\n",
    "\n",
    "Hướng dẫn này bao gồm việc triển khai ```JsonOutputParser```.\n",
    "```JsonOutputParser``` là một công cụ cho phép người dùng chỉ định lược đồ JSON mong muốn. Nó được thiết kế để cho phép LLM (Large Language Model) truy vấn dữ liệu và trả về kết quả ở định dạng JSON tuân theo lược đồ đã chỉ định.\n",
    "Để đảm bảo rằng LLM xử lý dữ liệu một cách chính xác và hiệu quả, tạo ra JSON ở định dạng mong muốn, mô hình phải có đủ năng lực (ví dụ: trí tuệ). Ví dụ, mô hình llama-70B có năng lực lớn hơn so với mô hình llama-8B, khiến nó phù hợp hơn để xử lý dữ liệu phức tạp.\n",
    "\n",
    "**[Lưu ý]**\n",
    "\n",
    "**JSON (JavaScript Object Notation)** là một định dạng trao đổi dữ liệu gọn nhẹ được sử dụng để lưu trữ và cấu trúc dữ liệu. Nó đóng một vai trò quan trọng trong phát triển web và được sử dụng rộng rãi để giao tiếp giữa máy chủ và máy khách. JSON dựa trên văn bản dễ đọc và đơn giản để máy móc phân tích cú pháp và tạo ra.\n",
    "\n",
    "Dữ liệu JSON bao gồm các cặp key-value. Ở đây, \"key\" là một chuỗi và \"value\" có thể là nhiều kiểu dữ liệu khác nhau. JSON có hai cấu trúc chính:\n",
    "\n",
    "- Object: Một tập hợp các cặp key-value được bao quanh bởi dấu ngoặc nhọn { }. Mỗi key được liên kết với value của nó bằng dấu hai chấm ( : ), và nhiều cặp key-value được phân tách bằng dấu phẩy ( , ).\n",
    "- Array: Một danh sách các giá trị được sắp xếp theo thứ tự, được bao quanh bởi dấu ngoặc vuông [ ]. Các giá trị trong một mảng được phân tách bằng dấu phẩy ( , ).\n",
    "\n",
    "```json\n",
    "{\n",
    "  \"name\": \"John Doe\",\n",
    "  \"age\": 30,\n",
    "  \"is_student\": false,\n",
    "  \"skills\": [\"Java\", \"Python\", \"JavaScript\"],\n",
    "  \"address\": {\n",
    "    \"street\": \"123 Main St\",\n",
    "    \"city\": \"Anytown\"\n",
    "  }\n",
    "}\n",
    "```\n"
   ]
  },
  {
   "cell_type": "code",
   "execution_count": 1,
   "metadata": {},
   "outputs": [],
   "source": [
    "# Setup environment\n",
    "import os\n",
    "from dotenv import load_dotenv\n",
    "from langchain_openai import ChatOpenAI\n",
    "\n",
    "load_dotenv(override=True, dotenv_path=\"../.env\")\n",
    "\n",
    "llm = ChatOpenAI(model_name=\"gpt-3.5-turbo\", temperature=0.0)"
   ]
  },
  {
   "cell_type": "markdown",
   "metadata": {},
   "source": [
    "## Using ```JsonOutputParser``` with ```Pydantic```\n",
    "\n",
    "If you need to generate output in JSON format, you can easily implement it using LangChain's ```JsonOutputParser```. There are 2 ways to generate output in JSON format: \n",
    "\n",
    "- Using ```Pydantic```\n",
    "- Not using ```Pydantic```\n",
    "\n",
    "Follow the steps below to implement it:"
   ]
  },
  {
   "cell_type": "code",
   "execution_count": 3,
   "metadata": {},
   "outputs": [],
   "source": [
    "from langchain_core.prompts import ChatPromptTemplate\n",
    "from langchain_core.output_parsers import JsonOutputParser\n",
    "from pydantic import BaseModel, Field"
   ]
  },
  {
   "cell_type": "code",
   "execution_count": 4,
   "metadata": {},
   "outputs": [],
   "source": [
    "# Use Pydantic to define the data schema for the output format.\n",
    "class Topic(BaseModel):\n",
    "    description: str = Field(description=\"A concise description of the topic\")\n",
    "    hashtags: str = Field(description=\"Keywords in hashtag format (at least 2)\")"
   ]
  },
  {
   "cell_type": "code",
   "execution_count": 5,
   "metadata": {},
   "outputs": [
    {
     "name": "stdout",
     "output_type": "stream",
     "text": [
      "The output should be formatted as a JSON instance that conforms to the JSON schema below.\n",
      "\n",
      "As an example, for the schema {\"properties\": {\"foo\": {\"title\": \"Foo\", \"description\": \"a list of strings\", \"type\": \"array\", \"items\": {\"type\": \"string\"}}}, \"required\": [\"foo\"]}\n",
      "the object {\"foo\": [\"bar\", \"baz\"]} is a well-formatted instance of the schema. The object {\"properties\": {\"foo\": [\"bar\", \"baz\"]}} is not well-formatted.\n",
      "\n",
      "Here is the output schema:\n",
      "```\n",
      "{\"properties\": {\"description\": {\"description\": \"A concise description of the topic\", \"title\": \"Description\", \"type\": \"string\"}, \"hashtags\": {\"description\": \"Keywords in hashtag format (at least 2)\", \"title\": \"Hashtags\", \"type\": \"string\"}}, \"required\": [\"description\", \"hashtags\"]}\n",
      "```\n"
     ]
    }
   ],
   "source": [
    "# Write your question\n",
    "question = \"Please explain the severity of global warming.\"\n",
    "\n",
    "# Set up the parser and inject the instructions into the prompt template.\n",
    "parser = JsonOutputParser(pydantic_object=Topic)\n",
    "print(parser.get_format_instructions())"
   ]
  },
  {
   "cell_type": "code",
   "execution_count": 6,
   "metadata": {},
   "outputs": [],
   "source": [
    "# Set up the prompt template\n",
    "prompt = ChatPromptTemplate.from_messages(\n",
    "    [\n",
    "        (\"system\", \"You are a friendly AI assistant. Answer questions concisely.\"),\n",
    "        (\"user\", \"#Format: {format_instructions}\\n\\n#Question: {question}\"),\n",
    "    ]\n",
    ")\n",
    "\n",
    "prompt = prompt.partial(format_instructions=parser.get_format_instructions())\n",
    "\n",
    "# Combine the prompt, model, and JsonOutputParser into a chain\n",
    "chain = prompt | llm | parser\n",
    "\n",
    "# Run the chain with your question\n",
    "answer = chain.invoke({\"question\": question})"
   ]
  },
  {
   "cell_type": "code",
   "execution_count": 7,
   "metadata": {},
   "outputs": [
    {
     "data": {
      "text/plain": [
       "dict"
      ]
     },
     "execution_count": 7,
     "metadata": {},
     "output_type": "execute_result"
    }
   ],
   "source": [
    "type(answer)"
   ]
  },
  {
   "cell_type": "code",
   "execution_count": 8,
   "metadata": {},
   "outputs": [
    {
     "data": {
      "text/plain": [
       "{'description': \"Global warming refers to the long-term increase in Earth's average surface temperature due to human activities, such as burning fossil fuels and deforestation. It leads to various severe impacts, including rising sea levels, extreme weather events, loss of biodiversity, and disruptions to ecosystems and agriculture. The severity of global warming is a critical issue that requires urgent action to mitigate its effects and prevent further damage to the planet.\",\n",
       " 'hashtags': 'climatechange, environment, sustainability'}"
      ]
     },
     "execution_count": 8,
     "metadata": {},
     "output_type": "execute_result"
    }
   ],
   "source": [
    "answer"
   ]
  },
  {
   "cell_type": "markdown",
   "metadata": {},
   "source": [
    "## Using ```JsonOutputParser``` without ```Pydantic```\n",
    "\n",
    "You can generate output in JSON format without ```Pydantic```. \n",
    "\n",
    "Follow the steps below to implement it:"
   ]
  },
  {
   "cell_type": "code",
   "execution_count": 9,
   "metadata": {},
   "outputs": [
    {
     "name": "stdout",
     "output_type": "stream",
     "text": [
      "{'description': \"Global warming refers to the long-term increase in Earth's average surface temperature due to human activities, such as burning fossil fuels and deforestation, which release greenhouse gases into the atmosphere. This leads to the trapping of heat, causing climate change and various environmental impacts.\", 'hashtags': ['climatechange', 'greenhousegases', 'fossilfuels', 'deforestation']}\n"
     ]
    }
   ],
   "source": [
    "# Write your question\n",
    "question = \"Please provide information about global warming. Include the explanation in description and the related keywords in `hashtags`.\"\n",
    "\n",
    "# Initialize JsonOutputParser\n",
    "parser = JsonOutputParser()\n",
    "\n",
    "# Set up the prompt template\n",
    "prompt = ChatPromptTemplate.from_messages(\n",
    "    [\n",
    "        (\"system\", \"You are a friendly AI assistant. Answer questions concisely.\"),\n",
    "        (\"user\", \"#Format: {format_instructions}\\n\\n#Question: {question}\"),\n",
    "    ]\n",
    ")\n",
    "\n",
    "# Inject instruction to prompt\n",
    "prompt = prompt.partial(format_instructions=parser.get_format_instructions())\n",
    "\n",
    "# Combine the prompt, model, and JsonOutputParser into a chain\n",
    "chain = prompt | llm | parser\n",
    "\n",
    "# Run the chain with your question\n",
    "response = chain.invoke({\"question\": question})\n",
    "print(response)"
   ]
  },
  {
   "cell_type": "code",
   "execution_count": null,
   "metadata": {},
   "outputs": [],
   "source": []
  }
 ],
 "metadata": {
  "kernelspec": {
   "display_name": "langchain",
   "language": "python",
   "name": "python3"
  },
  "language_info": {
   "codemirror_mode": {
    "name": "ipython",
    "version": 3
   },
   "file_extension": ".py",
   "mimetype": "text/x-python",
   "name": "python",
   "nbconvert_exporter": "python",
   "pygments_lexer": "ipython3",
   "version": "3.10.16"
  }
 },
 "nbformat": 4,
 "nbformat_minor": 2
}
