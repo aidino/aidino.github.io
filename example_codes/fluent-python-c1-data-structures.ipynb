{
 "cells": [
  {
   "cell_type": "code",
   "execution_count": 1,
   "metadata": {},
   "outputs": [],
   "source": [
    "import collections\n",
    "from random import choice\n",
    "\n",
    "Card = collections.namedtuple('Card', ['rank', 'suit'])\n",
    "\n",
    "class FrenchDeck:\n",
    "    ranks = [str(n) for n in range(2, 11)] + list('JQKA')\n",
    "    suits = 'Zô Cơ Bích Tép'.split()\n",
    "\n",
    "    def __init__(self):\n",
    "        self._cards = [Card(rank, suit) for rank in self.ranks for suit in self.suits]\n",
    "    \n",
    "    def __len__(self):\n",
    "        return len(self._cards)\n",
    "    \n",
    "    def __getitem__(self, position):\n",
    "        return self._cards[position]\n",
    "\n",
    "deck = FrenchDeck()"
   ]
  },
  {
   "cell_type": "code",
   "execution_count": 3,
   "metadata": {},
   "outputs": [
    {
     "data": {
      "text/plain": [
       "Card(rank='9', suit='Bích')"
      ]
     },
     "execution_count": 3,
     "metadata": {},
     "output_type": "execute_result"
    }
   ],
   "source": [
    "choice(deck)"
   ]
  },
  {
   "cell_type": "code",
   "execution_count": 4,
   "metadata": {},
   "outputs": [
    {
     "data": {
      "text/plain": [
       "[Card(rank='2', suit='Zô'),\n",
       " Card(rank='2', suit='Cơ'),\n",
       " Card(rank='2', suit='Bích')]"
      ]
     },
     "execution_count": 4,
     "metadata": {},
     "output_type": "execute_result"
    }
   ],
   "source": [
    "deck[0:3]"
   ]
  },
  {
   "cell_type": "code",
   "execution_count": 6,
   "metadata": {},
   "outputs": [
    {
     "data": {
      "text/plain": [
       "52"
      ]
     },
     "execution_count": 6,
     "metadata": {},
     "output_type": "execute_result"
    }
   ],
   "source": [
    "len(deck)"
   ]
  },
  {
   "cell_type": "code",
   "execution_count": 7,
   "metadata": {},
   "outputs": [
    {
     "data": {
      "text/plain": [
       "[Card(rank='5', suit='Zô'),\n",
       " Card(rank='8', suit='Cơ'),\n",
       " Card(rank='J', suit='Bích'),\n",
       " Card(rank='A', suit='Tép')]"
      ]
     },
     "execution_count": 7,
     "metadata": {},
     "output_type": "execute_result"
    }
   ],
   "source": [
    "deck[12::13]"
   ]
  },
  {
   "cell_type": "code",
   "execution_count": 8,
   "metadata": {},
   "outputs": [
    {
     "data": {
      "text/plain": [
       "Card(rank='2', suit='Zô')"
      ]
     },
     "execution_count": 8,
     "metadata": {},
     "output_type": "execute_result"
    }
   ],
   "source": [
    "deck[0]"
   ]
  },
  {
   "cell_type": "code",
   "execution_count": 9,
   "metadata": {},
   "outputs": [
    {
     "name": "stdout",
     "output_type": "stream",
     "text": [
      "Card(rank='2', suit='Zô')\n",
      "Card(rank='2', suit='Cơ')\n",
      "Card(rank='2', suit='Bích')\n",
      "Card(rank='2', suit='Tép')\n",
      "Card(rank='3', suit='Zô')\n",
      "Card(rank='3', suit='Cơ')\n",
      "Card(rank='3', suit='Bích')\n",
      "Card(rank='3', suit='Tép')\n",
      "Card(rank='4', suit='Zô')\n",
      "Card(rank='4', suit='Cơ')\n",
      "Card(rank='4', suit='Bích')\n",
      "Card(rank='4', suit='Tép')\n",
      "Card(rank='5', suit='Zô')\n",
      "Card(rank='5', suit='Cơ')\n",
      "Card(rank='5', suit='Bích')\n",
      "Card(rank='5', suit='Tép')\n",
      "Card(rank='6', suit='Zô')\n",
      "Card(rank='6', suit='Cơ')\n",
      "Card(rank='6', suit='Bích')\n",
      "Card(rank='6', suit='Tép')\n",
      "Card(rank='7', suit='Zô')\n",
      "Card(rank='7', suit='Cơ')\n",
      "Card(rank='7', suit='Bích')\n",
      "Card(rank='7', suit='Tép')\n",
      "Card(rank='8', suit='Zô')\n",
      "Card(rank='8', suit='Cơ')\n",
      "Card(rank='8', suit='Bích')\n",
      "Card(rank='8', suit='Tép')\n",
      "Card(rank='9', suit='Zô')\n",
      "Card(rank='9', suit='Cơ')\n",
      "Card(rank='9', suit='Bích')\n",
      "Card(rank='9', suit='Tép')\n",
      "Card(rank='10', suit='Zô')\n",
      "Card(rank='10', suit='Cơ')\n",
      "Card(rank='10', suit='Bích')\n",
      "Card(rank='10', suit='Tép')\n",
      "Card(rank='J', suit='Zô')\n",
      "Card(rank='J', suit='Cơ')\n",
      "Card(rank='J', suit='Bích')\n",
      "Card(rank='J', suit='Tép')\n",
      "Card(rank='Q', suit='Zô')\n",
      "Card(rank='Q', suit='Cơ')\n",
      "Card(rank='Q', suit='Bích')\n",
      "Card(rank='Q', suit='Tép')\n",
      "Card(rank='K', suit='Zô')\n",
      "Card(rank='K', suit='Cơ')\n",
      "Card(rank='K', suit='Bích')\n",
      "Card(rank='K', suit='Tép')\n",
      "Card(rank='A', suit='Zô')\n",
      "Card(rank='A', suit='Cơ')\n",
      "Card(rank='A', suit='Bích')\n",
      "Card(rank='A', suit='Tép')\n"
     ]
    }
   ],
   "source": [
    "for card in deck: # doctest: +ELLIPSIS\n",
    "    print(card)"
   ]
  },
  {
   "cell_type": "code",
   "execution_count": 10,
   "metadata": {},
   "outputs": [
    {
     "name": "stdout",
     "output_type": "stream",
     "text": [
      "Card(rank='A', suit='Tép')\n",
      "Card(rank='A', suit='Bích')\n",
      "Card(rank='A', suit='Cơ')\n",
      "Card(rank='A', suit='Zô')\n",
      "Card(rank='K', suit='Tép')\n",
      "Card(rank='K', suit='Bích')\n",
      "Card(rank='K', suit='Cơ')\n",
      "Card(rank='K', suit='Zô')\n",
      "Card(rank='Q', suit='Tép')\n",
      "Card(rank='Q', suit='Bích')\n",
      "Card(rank='Q', suit='Cơ')\n",
      "Card(rank='Q', suit='Zô')\n",
      "Card(rank='J', suit='Tép')\n",
      "Card(rank='J', suit='Bích')\n",
      "Card(rank='J', suit='Cơ')\n",
      "Card(rank='J', suit='Zô')\n",
      "Card(rank='10', suit='Tép')\n",
      "Card(rank='10', suit='Bích')\n",
      "Card(rank='10', suit='Cơ')\n",
      "Card(rank='10', suit='Zô')\n",
      "Card(rank='9', suit='Tép')\n",
      "Card(rank='9', suit='Bích')\n",
      "Card(rank='9', suit='Cơ')\n",
      "Card(rank='9', suit='Zô')\n",
      "Card(rank='8', suit='Tép')\n",
      "Card(rank='8', suit='Bích')\n",
      "Card(rank='8', suit='Cơ')\n",
      "Card(rank='8', suit='Zô')\n",
      "Card(rank='7', suit='Tép')\n",
      "Card(rank='7', suit='Bích')\n",
      "Card(rank='7', suit='Cơ')\n",
      "Card(rank='7', suit='Zô')\n",
      "Card(rank='6', suit='Tép')\n",
      "Card(rank='6', suit='Bích')\n",
      "Card(rank='6', suit='Cơ')\n",
      "Card(rank='6', suit='Zô')\n",
      "Card(rank='5', suit='Tép')\n",
      "Card(rank='5', suit='Bích')\n",
      "Card(rank='5', suit='Cơ')\n",
      "Card(rank='5', suit='Zô')\n",
      "Card(rank='4', suit='Tép')\n",
      "Card(rank='4', suit='Bích')\n",
      "Card(rank='4', suit='Cơ')\n",
      "Card(rank='4', suit='Zô')\n",
      "Card(rank='3', suit='Tép')\n",
      "Card(rank='3', suit='Bích')\n",
      "Card(rank='3', suit='Cơ')\n",
      "Card(rank='3', suit='Zô')\n",
      "Card(rank='2', suit='Tép')\n",
      "Card(rank='2', suit='Bích')\n",
      "Card(rank='2', suit='Cơ')\n",
      "Card(rank='2', suit='Zô')\n"
     ]
    }
   ],
   "source": [
    "for card in reversed(deck):\n",
    "    print(card)"
   ]
  },
  {
   "cell_type": "code",
   "execution_count": 13,
   "metadata": {},
   "outputs": [
    {
     "data": {
      "text/plain": [
       "True"
      ]
     },
     "execution_count": 13,
     "metadata": {},
     "output_type": "execute_result"
    }
   ],
   "source": [
    "Card('Q', 'Zô') in deck"
   ]
  },
  {
   "cell_type": "code",
   "execution_count": 14,
   "metadata": {},
   "outputs": [
    {
     "data": {
      "text/plain": [
       "False"
      ]
     },
     "execution_count": 14,
     "metadata": {},
     "output_type": "execute_result"
    }
   ],
   "source": [
    "Card('7', 'beasts') in deck"
   ]
  },
  {
   "cell_type": "code",
   "execution_count": 16,
   "metadata": {},
   "outputs": [
    {
     "name": "stdout",
     "output_type": "stream",
     "text": [
      "Card(rank='2', suit='Tép')\n",
      "Card(rank='2', suit='Bích')\n",
      "Card(rank='2', suit='Cơ')\n",
      "Card(rank='2', suit='Zô')\n",
      "Card(rank='3', suit='Tép')\n",
      "Card(rank='3', suit='Bích')\n",
      "Card(rank='3', suit='Cơ')\n",
      "Card(rank='3', suit='Zô')\n",
      "Card(rank='4', suit='Tép')\n",
      "Card(rank='4', suit='Bích')\n",
      "Card(rank='4', suit='Cơ')\n",
      "Card(rank='4', suit='Zô')\n",
      "Card(rank='5', suit='Tép')\n",
      "Card(rank='5', suit='Bích')\n",
      "Card(rank='5', suit='Cơ')\n",
      "Card(rank='5', suit='Zô')\n",
      "Card(rank='6', suit='Tép')\n",
      "Card(rank='6', suit='Bích')\n",
      "Card(rank='6', suit='Cơ')\n",
      "Card(rank='6', suit='Zô')\n",
      "Card(rank='7', suit='Tép')\n",
      "Card(rank='7', suit='Bích')\n",
      "Card(rank='7', suit='Cơ')\n",
      "Card(rank='7', suit='Zô')\n",
      "Card(rank='8', suit='Tép')\n",
      "Card(rank='8', suit='Bích')\n",
      "Card(rank='8', suit='Cơ')\n",
      "Card(rank='8', suit='Zô')\n",
      "Card(rank='9', suit='Tép')\n",
      "Card(rank='9', suit='Bích')\n",
      "Card(rank='9', suit='Cơ')\n",
      "Card(rank='9', suit='Zô')\n",
      "Card(rank='10', suit='Tép')\n",
      "Card(rank='10', suit='Bích')\n",
      "Card(rank='10', suit='Cơ')\n",
      "Card(rank='10', suit='Zô')\n",
      "Card(rank='J', suit='Tép')\n",
      "Card(rank='J', suit='Bích')\n",
      "Card(rank='J', suit='Cơ')\n",
      "Card(rank='J', suit='Zô')\n",
      "Card(rank='Q', suit='Tép')\n",
      "Card(rank='Q', suit='Bích')\n",
      "Card(rank='Q', suit='Cơ')\n",
      "Card(rank='Q', suit='Zô')\n",
      "Card(rank='K', suit='Tép')\n",
      "Card(rank='K', suit='Bích')\n",
      "Card(rank='K', suit='Cơ')\n",
      "Card(rank='K', suit='Zô')\n",
      "Card(rank='A', suit='Tép')\n",
      "Card(rank='A', suit='Bích')\n",
      "Card(rank='A', suit='Cơ')\n",
      "Card(rank='A', suit='Zô')\n"
     ]
    }
   ],
   "source": [
    "suit_values = dict(Zô=3, Cơ=2, Bích=1, Tép=0)\n",
    "\n",
    "def spades_high(card):\n",
    "    rank_value = FrenchDeck.ranks.index(card.rank)\n",
    "    return rank_value * len(suit_values) + suit_values[card.suit]\n",
    "\n",
    "for card in sorted(deck, key=spades_high):\n",
    "    print(card)"
   ]
  },
  {
   "cell_type": "code",
   "execution_count": null,
   "metadata": {},
   "outputs": [],
   "source": []
  },
  {
   "cell_type": "code",
   "execution_count": null,
   "metadata": {},
   "outputs": [],
   "source": []
  }
 ],
 "metadata": {
  "kernelspec": {
   "display_name": "base",
   "language": "python",
   "name": "python3"
  },
  "language_info": {
   "codemirror_mode": {
    "name": "ipython",
    "version": 3
   },
   "file_extension": ".py",
   "mimetype": "text/x-python",
   "name": "python",
   "nbconvert_exporter": "python",
   "pygments_lexer": "ipython3",
   "version": "3.12.2"
  }
 },
 "nbformat": 4,
 "nbformat_minor": 2
}
