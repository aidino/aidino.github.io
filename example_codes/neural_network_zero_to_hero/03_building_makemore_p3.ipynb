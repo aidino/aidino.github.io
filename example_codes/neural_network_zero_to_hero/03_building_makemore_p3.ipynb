{
 "cells": [
  {
   "cell_type": "markdown",
   "metadata": {},
   "source": [
    "# Makemore\n",
    "\n",
    "- Activations & Gradients, BatchNorm: https://www.youtube.com/watch?v=P6sfmUTpUmc&list=PLAqhIrjkxbuWI23v9cThsA9GvCAUhRvKZ&index=4\n",
    "- makemore on github: https://github.com/karpathy/makemore\n",
    "- jupyter notebook: https://github.com/karpathy/nn-zero-to-hero/blob/master/lectures/makemore/makemore_part3_bn.ipynb\n",
    "- collab notebook: https://colab.research.google.com/drive/1H5CSy-OnisagUgDUXhHwo1ng2pjKHYSN?usp=sharing"
   ]
  },
  {
   "cell_type": "code",
   "execution_count": 1,
   "metadata": {},
   "outputs": [],
   "source": [
    "import torch\n",
    "import torch.nn.functional as F\n",
    "import matplotlib.pyplot as plt # for making figures\n",
    "%matplotlib inline"
   ]
  },
  {
   "cell_type": "code",
   "execution_count": 2,
   "metadata": {},
   "outputs": [],
   "source": [
    "import re\n",
    "\n",
    "def clean_text(text):\n",
    "    \"\"\"\n",
    "    Cleans text for NLP tasks, removing non-Latin characters,\n",
    "    irrelevant characters, extra whitespace, and converting to lowercase.\n",
    "\n",
    "    Args:\n",
    "        text: The input string to clean.\n",
    "\n",
    "    Returns:\n",
    "        The cleaned string.\n",
    "    \"\"\"\n",
    "\n",
    "    if not isinstance(text, str):\n",
    "        return \"\"\n",
    "\n",
    "    # 1. Remove URLs\n",
    "    text = re.sub(r\"http\\S+|www\\S+|https\\S+\", '', text, flags=re.MULTILINE)\n",
    "\n",
    "    # 2. Remove email addresses\n",
    "    text = re.sub(r\"[a-zA-Z0-9_.+-]+@[a-zA-Z0-9-]+\\.[a-zA-Z0-9-.]+\", '', text)\n",
    "\n",
    "    # 3. Remove mentions (@usernames)\n",
    "    text = re.sub(r\"@\\S+\", '', text)\n",
    "\n",
    "    # 4. Remove special characters and punctuation (except apostrophes)\n",
    "    text = re.sub(r\"[^\\w\\s'’]\", '', text)\n",
    "\n",
    "    # 5. Remove numbers (optional)\n",
    "    # text = re.sub(r\"\\d+\", '', text)\n",
    "\n",
    "    # 6. Remove extra whitespace\n",
    "    text = re.sub(r\"\\s+\", ' ', text).strip()\n",
    "\n",
    "    # 8. Convert to lowercase\n",
    "    text = text.lower()\n",
    "\n",
    "    return text"
   ]
  },
  {
   "cell_type": "code",
   "execution_count": 3,
   "metadata": {},
   "outputs": [
    {
     "data": {
      "text/plain": [
       "['ngoc', 'khuyen', 'huệ', 'kỷ', 'sao', 'uyen', 'hoang', 'xuan', 'tuệ', 'tieu']"
      ]
     },
     "execution_count": 3,
     "metadata": {},
     "output_type": "execute_result"
    }
   ],
   "source": [
    "\n",
    "# Read all the words in the file\n",
    "# words = open('vietnamese_dataset/sample_vi_full_name.txt', 'r').read().splitlines()\n",
    "# words = open('vietnamese_dataset/names.txt', 'r').read().splitlines()\n",
    "\n",
    "words = open('vietnamese_dataset/sample_vi_name.txt', 'r').read().splitlines()\n",
    "clean_words = [clean_text(word) for word in words]\n",
    "clean_words[:10] "
   ]
  },
  {
   "cell_type": "code",
   "execution_count": 4,
   "metadata": {},
   "outputs": [
    {
     "data": {
      "text/plain": [
       "558"
      ]
     },
     "execution_count": 4,
     "metadata": {},
     "output_type": "execute_result"
    }
   ],
   "source": [
    "len(clean_words)"
   ]
  },
  {
   "cell_type": "code",
   "execution_count": 7,
   "metadata": {},
   "outputs": [
    {
     "name": "stdout",
     "output_type": "stream",
     "text": [
      "{1: 'a', 2: 'b', 3: 'c', 4: 'd', 5: 'e', 6: 'g', 7: 'h', 8: 'i', 9: 'k', 10: 'l', 11: 'm', 12: 'n', 13: 'o', 14: 'p', 15: 'q', 16: 'r', 17: 's', 18: 't', 19: 'u', 20: 'v', 21: 'x', 22: 'y', 23: 'à', 24: 'á', 25: 'â', 26: 'ã', 27: 'ê', 28: 'ì', 29: 'í', 30: 'ð', 31: 'ò', 32: 'ô', 33: 'õ', 34: 'ù', 35: 'ú', 36: 'ý', 37: 'ă', 38: 'đ', 39: 'ĩ', 40: 'ũ', 41: 'ơ', 42: 'ư', 43: 'ạ', 44: 'ả', 45: 'ấ', 46: 'ầ', 47: 'ẩ', 48: 'ẫ', 49: 'ậ', 50: 'ắ', 51: 'ằ', 52: 'ế', 53: 'ề', 54: 'ể', 55: 'ễ', 56: 'ệ', 57: 'ị', 58: 'ọ', 59: 'ố', 60: 'ồ', 61: 'ổ', 62: 'ộ', 63: 'ớ', 64: 'ờ', 65: 'ở', 66: 'ợ', 67: 'ụ', 68: 'ủ', 69: 'ứ', 70: 'ừ', 71: 'ử', 72: 'ữ', 73: 'ự', 74: 'ỳ', 75: 'ỷ', 76: 'ỹ', 0: '.'}\n",
      "vocab_size=77\n"
     ]
    }
   ],
   "source": [
    "chars = sorted(list(set(''.join(clean_words))))\n",
    "stoi = {ch: i+1 for i, ch in enumerate(chars)}\n",
    "stoi['.'] = 0\n",
    "itos = {i: ch for ch, i in stoi.items()}\n",
    "vocab_size = len(stoi)\n",
    "print(itos)\n",
    "print(f\"{vocab_size=}\")"
   ]
  },
  {
   "cell_type": "code",
   "execution_count": 8,
   "metadata": {},
   "outputs": [
    {
     "name": "stdout",
     "output_type": "stream",
     "text": [
      "torch.Size([2143, 3]) torch.Size([2143])\n",
      "torch.Size([267, 3]) torch.Size([267])\n",
      "torch.Size([262, 3]) torch.Size([262])\n"
     ]
    }
   ],
   "source": [
    "# build the dataset\n",
    "block_size = 3 # context length: how many characters do we take to predict the next one?\n",
    "\n",
    "def build_dataset(words):  \n",
    "  X, Y = [], []\n",
    "  for w in words:\n",
    "\n",
    "    #print(w)\n",
    "    context = [0] * block_size\n",
    "    for ch in w + '.':\n",
    "      ix = stoi[ch]\n",
    "      X.append(context)\n",
    "      Y.append(ix)\n",
    "      #print(''.join(itos[i] for i in context), '--->', itos[ix])\n",
    "      context = context[1:] + [ix] # crop and append\n",
    "\n",
    "  X = torch.tensor(X)\n",
    "  Y = torch.tensor(Y)\n",
    "  print(X.shape, Y.shape)\n",
    "  return X, Y\n",
    "\n",
    "import random\n",
    "random.seed(42)\n",
    "random.shuffle(clean_words)\n",
    "n1 = int(0.8*len(clean_words))\n",
    "n2 = int(0.9*len(clean_words))\n",
    "\n",
    "Xtr, Ytr = build_dataset(clean_words[:n1])\n",
    "Xdev, Ydev = build_dataset(clean_words[n1:n2])\n",
    "Xte, Yte = build_dataset(clean_words[n2:])"
   ]
  },
  {
   "cell_type": "code",
   "execution_count": 9,
   "metadata": {},
   "outputs": [],
   "source": [
    "# X = [batch_size, block_size, n_embed] # block_size is the context length\n",
    "# C = [vocab_size, n_embed] # embedding matrix\n",
    "# W1 = [n_embed * block_size, n_hidden]\n",
    "# b1 = [n_hidden]\n",
    "# W2 = [n_hidden, vocab_size]\n",
    "# b2 = [vocab_size]\n",
    "\n",
    "# Look up embeddings for each character in the context\n",
    "# X_embed = C[X] # [batch_size, block_size, n_embed]\n",
    "# h = X_embed.view(-1, block_size * n_embed) @ W1 + b1 # [batch_size, n_hidden]\n",
    "# logits = h @ W2 + b2 # [batch_size, vocab_size]\n",
    "\n",
    "# loss = F.cross_entropy(logits, Y)"
   ]
  },
  {
   "cell_type": "code",
   "execution_count": 12,
   "metadata": {},
   "outputs": [
    {
     "name": "stdout",
     "output_type": "stream",
     "text": [
      "22447\n"
     ]
    }
   ],
   "source": [
    "# MLP revisited\n",
    "n_embd = 10 # the dimensionality of the character embedding vectors\n",
    "n_hidden = 200 # the number of neurons in the hidden layer of the MLP\n",
    "\n",
    "g = torch.Generator().manual_seed(2147483647) # for reproducibility\n",
    "C  = torch.randn((vocab_size, n_embd),            generator=g)\n",
    "W1 = torch.randn((n_embd * block_size, n_hidden), generator=g)\n",
    "b1 = torch.randn(n_hidden,                        generator=g)\n",
    "W2 = torch.randn((n_hidden, vocab_size),          generator=g)\n",
    "b2 = torch.randn(vocab_size,                      generator=g)\n",
    "\n",
    "parameters = [C, W1, b1, W2, b2]\n",
    "print(sum(p.nelement() for p in parameters)) # number of parameters in total\n",
    "for p in parameters:\n",
    "  p.requires_grad = True"
   ]
  },
  {
   "cell_type": "code",
   "execution_count": 14,
   "metadata": {},
   "outputs": [
    {
     "name": "stdout",
     "output_type": "stream",
     "text": [
      "      0/ 200000: 31.5659\n",
      "   1000/ 200000: 3.1126\n",
      "   2000/ 200000: 1.1538\n",
      "   3000/ 200000: 1.3661\n",
      "   4000/ 200000: 1.1453\n",
      "   5000/ 200000: 1.5800\n",
      "   6000/ 200000: 1.5045\n",
      "   7000/ 200000: 1.2781\n",
      "   8000/ 200000: 1.9033\n",
      "   9000/ 200000: 1.3115\n",
      "  10000/ 200000: 1.2721\n",
      "  11000/ 200000: 1.4978\n",
      "  12000/ 200000: 1.8385\n",
      "  13000/ 200000: 0.8848\n",
      "  14000/ 200000: 1.5041\n",
      "  15000/ 200000: 1.2262\n",
      "  16000/ 200000: 1.2095\n",
      "  17000/ 200000: 1.2231\n",
      "  18000/ 200000: 1.4611\n",
      "  19000/ 200000: 1.6257\n",
      "  20000/ 200000: 1.4306\n",
      "  21000/ 200000: 1.0688\n",
      "  22000/ 200000: 1.1220\n",
      "  23000/ 200000: 1.6759\n",
      "  24000/ 200000: 1.3973\n",
      "  25000/ 200000: 1.2203\n",
      "  26000/ 200000: 1.2016\n",
      "  27000/ 200000: 1.6063\n",
      "  28000/ 200000: 1.5621\n",
      "  29000/ 200000: 1.5010\n",
      "  30000/ 200000: 0.9912\n",
      "  31000/ 200000: 1.2665\n",
      "  32000/ 200000: 1.4432\n",
      "  33000/ 200000: 1.2550\n",
      "  34000/ 200000: 1.1336\n",
      "  35000/ 200000: 1.2411\n",
      "  36000/ 200000: 1.7145\n",
      "  37000/ 200000: 1.4332\n",
      "  38000/ 200000: 1.2817\n",
      "  39000/ 200000: 1.2680\n",
      "  40000/ 200000: 1.3431\n",
      "  41000/ 200000: 0.9747\n",
      "  42000/ 200000: 1.2031\n",
      "  43000/ 200000: 1.5046\n",
      "  44000/ 200000: 1.2427\n",
      "  45000/ 200000: 1.7523\n",
      "  46000/ 200000: 1.0062\n",
      "  47000/ 200000: 1.1511\n",
      "  48000/ 200000: 1.4215\n",
      "  49000/ 200000: 1.0560\n",
      "  50000/ 200000: 0.9144\n",
      "  51000/ 200000: 1.6860\n",
      "  52000/ 200000: 1.3268\n",
      "  53000/ 200000: 1.3470\n",
      "  54000/ 200000: 1.2587\n",
      "  55000/ 200000: 1.4047\n",
      "  56000/ 200000: 1.7612\n",
      "  57000/ 200000: 1.0990\n",
      "  58000/ 200000: 1.2624\n",
      "  59000/ 200000: 1.9266\n",
      "  60000/ 200000: 1.1494\n",
      "  61000/ 200000: 1.8923\n",
      "  62000/ 200000: 1.4207\n",
      "  63000/ 200000: 1.6174\n",
      "  64000/ 200000: 1.4313\n",
      "  65000/ 200000: 1.2358\n",
      "  66000/ 200000: 1.3275\n",
      "  67000/ 200000: 1.2889\n",
      "  68000/ 200000: 1.8467\n",
      "  69000/ 200000: 1.3392\n",
      "  70000/ 200000: 0.9626\n",
      "  71000/ 200000: 1.3955\n",
      "  72000/ 200000: 1.2898\n",
      "  73000/ 200000: 1.1308\n",
      "  74000/ 200000: 1.3493\n",
      "  75000/ 200000: 1.7971\n",
      "  76000/ 200000: 1.0710\n",
      "  77000/ 200000: 1.3619\n",
      "  78000/ 200000: 1.7986\n",
      "  79000/ 200000: 1.3329\n",
      "  80000/ 200000: 1.3137\n",
      "  81000/ 200000: 1.4395\n",
      "  82000/ 200000: 1.2612\n",
      "  83000/ 200000: 1.1128\n",
      "  84000/ 200000: 1.6299\n",
      "  85000/ 200000: 1.5590\n",
      "  86000/ 200000: 1.2353\n",
      "  87000/ 200000: 1.5120\n",
      "  88000/ 200000: 1.3615\n",
      "  89000/ 200000: 0.9466\n",
      "  90000/ 200000: 1.3326\n",
      "  91000/ 200000: 0.9117\n",
      "  92000/ 200000: 1.7710\n",
      "  93000/ 200000: 1.6976\n",
      "  94000/ 200000: 0.9723\n",
      "  95000/ 200000: 1.6653\n",
      "  96000/ 200000: 1.7034\n",
      "  97000/ 200000: 1.8466\n",
      "  98000/ 200000: 1.2205\n",
      "  99000/ 200000: 1.0801\n",
      " 100000/ 200000: 1.1131\n",
      " 101000/ 200000: 1.8708\n",
      " 102000/ 200000: 1.2770\n",
      " 103000/ 200000: 1.2312\n",
      " 104000/ 200000: 1.2044\n",
      " 105000/ 200000: 1.1175\n",
      " 106000/ 200000: 1.1484\n",
      " 107000/ 200000: 1.2507\n",
      " 108000/ 200000: 1.7054\n",
      " 109000/ 200000: 1.3536\n",
      " 110000/ 200000: 1.5635\n",
      " 111000/ 200000: 1.6797\n",
      " 112000/ 200000: 1.2119\n",
      " 113000/ 200000: 0.9771\n",
      " 114000/ 200000: 1.5632\n",
      " 115000/ 200000: 1.4001\n",
      " 116000/ 200000: 1.2163\n",
      " 117000/ 200000: 0.9081\n",
      " 118000/ 200000: 1.7425\n",
      " 119000/ 200000: 1.4519\n",
      " 120000/ 200000: 1.3406\n",
      " 121000/ 200000: 1.1068\n",
      " 122000/ 200000: 1.4080\n",
      " 123000/ 200000: 1.5286\n",
      " 124000/ 200000: 1.3569\n",
      " 125000/ 200000: 1.5274\n",
      " 126000/ 200000: 1.1601\n",
      " 127000/ 200000: 1.0463\n",
      " 128000/ 200000: 1.7523\n",
      " 129000/ 200000: 1.5000\n",
      " 130000/ 200000: 1.6237\n",
      " 131000/ 200000: 0.9248\n",
      " 132000/ 200000: 1.2882\n",
      " 133000/ 200000: 1.3434\n",
      " 134000/ 200000: 1.4357\n",
      " 135000/ 200000: 1.1897\n",
      " 136000/ 200000: 1.0738\n",
      " 137000/ 200000: 1.1308\n",
      " 138000/ 200000: 0.7214\n",
      " 139000/ 200000: 1.3928\n",
      " 140000/ 200000: 1.3030\n",
      " 141000/ 200000: 1.5470\n",
      " 142000/ 200000: 1.3516\n",
      " 143000/ 200000: 1.0735\n",
      " 144000/ 200000: 1.3636\n",
      " 145000/ 200000: 1.1862\n",
      " 146000/ 200000: 1.3793\n",
      " 147000/ 200000: 1.4518\n",
      " 148000/ 200000: 1.1313\n",
      " 149000/ 200000: 1.5060\n",
      " 150000/ 200000: 1.2281\n",
      " 151000/ 200000: 1.2101\n",
      " 152000/ 200000: 1.1517\n",
      " 153000/ 200000: 1.2681\n",
      " 154000/ 200000: 1.0740\n",
      " 155000/ 200000: 1.5745\n",
      " 156000/ 200000: 1.3023\n",
      " 157000/ 200000: 1.0498\n",
      " 158000/ 200000: 1.2857\n",
      " 159000/ 200000: 1.1651\n",
      " 160000/ 200000: 1.0717\n",
      " 161000/ 200000: 1.2573\n",
      " 162000/ 200000: 1.1073\n",
      " 163000/ 200000: 1.4439\n",
      " 164000/ 200000: 1.0932\n",
      " 165000/ 200000: 1.1068\n",
      " 166000/ 200000: 1.5840\n",
      " 167000/ 200000: 1.4155\n",
      " 168000/ 200000: 1.4797\n",
      " 169000/ 200000: 1.3004\n",
      " 170000/ 200000: 1.2808\n",
      " 171000/ 200000: 1.1752\n",
      " 172000/ 200000: 0.7821\n",
      " 173000/ 200000: 1.1084\n",
      " 174000/ 200000: 1.2548\n",
      " 175000/ 200000: 1.5899\n",
      " 176000/ 200000: 1.3008\n",
      " 177000/ 200000: 1.1075\n",
      " 178000/ 200000: 1.4049\n",
      " 179000/ 200000: 1.1339\n",
      " 180000/ 200000: 1.3846\n",
      " 181000/ 200000: 1.1609\n",
      " 182000/ 200000: 1.2492\n",
      " 183000/ 200000: 1.2678\n",
      " 184000/ 200000: 1.2538\n",
      " 185000/ 200000: 1.2840\n",
      " 186000/ 200000: 1.2760\n",
      " 187000/ 200000: 1.5323\n",
      " 188000/ 200000: 1.0704\n",
      " 189000/ 200000: 1.3485\n",
      " 190000/ 200000: 1.3831\n",
      " 191000/ 200000: 0.8581\n",
      " 192000/ 200000: 1.5670\n",
      " 193000/ 200000: 1.1415\n",
      " 194000/ 200000: 1.2172\n",
      " 195000/ 200000: 1.2052\n",
      " 196000/ 200000: 1.1343\n",
      " 197000/ 200000: 1.3124\n",
      " 198000/ 200000: 1.2209\n",
      " 199000/ 200000: 1.2271\n"
     ]
    }
   ],
   "source": [
    "# Training loop\n",
    "\n",
    "max_steps = 200_000\n",
    "batch_size = 32\n",
    "lossi = []\n",
    "\n",
    "for i in range(max_steps):\n",
    "    \n",
    "    # minibatch construct\n",
    "    idx = torch.randint(0, len(Xtr), (batch_size,))\n",
    "    Xb, Yb = Xtr[idx], Ytr[idx]\n",
    "    \n",
    "    # forward pass\n",
    "    emb = C[Xb] # [batch_size, block_size, n_embed]\n",
    "    hpreact = emb.view(-1, block_size * n_embd) @ W1 + b1 # [batch_size, n_hidden]\n",
    "    h = torch.tanh(hpreact)\n",
    "    logits = h @ W2 + b2 # [batch_size, vocab_size]\n",
    "    loss = F.cross_entropy(logits, Yb)\n",
    "    \n",
    "    # backward pass\n",
    "    for p in parameters:\n",
    "        p.grad = None\n",
    "    loss.backward()\n",
    "    \n",
    "    # Update parameters\n",
    "    lr = 0.1 if i < 100000 else 0.01 # step learning rate decay\n",
    "    for p in parameters:\n",
    "        p.data += -lr * p.grad\n",
    "    \n",
    "    # track stats \n",
    "    if i % 1000 == 0:\n",
    "        print(f'{i:7d}/{max_steps:7d}: {loss.item():.4f}')\n",
    "    lossi.append(loss.log10().item())\n",
    "    "
   ]
  },
  {
   "cell_type": "code",
   "execution_count": 15,
   "metadata": {},
   "outputs": [
    {
     "data": {
      "text/plain": [
       "[<matplotlib.lines.Line2D at 0x79b0927ff2b0>]"
      ]
     },
     "execution_count": 15,
     "metadata": {},
     "output_type": "execute_result"
    },
    {
     "data": {
      "image/png": "[encoded data removed]",
      "text/plain": [
       "<Figure size 640x480 with 1 Axes>"
      ]
     },
     "metadata": {},
     "output_type": "display_data"
    }
   ],
   "source": [
    "plt.plot(lossi)"
   ]
  },
  {
   "cell_type": "code",
   "execution_count": null,
   "metadata": {},
   "outputs": [],
   "source": []
  }
 ],
 "metadata": {
  "kernelspec": {
   "display_name": "nmt",
   "language": "python",
   "name": "python3"
  },
  "language_info": {
   "codemirror_mode": {
    "name": "ipython",
    "version": 3
   },
   "file_extension": ".py",
   "mimetype": "text/x-python",
   "name": "python",
   "nbconvert_exporter": "python",
   "pygments_lexer": "ipython3",
   "version": "3.10.15"
  }
 },
 "nbformat": 4,
 "nbformat_minor": 2
}
